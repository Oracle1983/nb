{
 "cells": [
  {
   "cell_type": "markdown",
   "metadata": {},
   "source": [
    "# Step1 Python Programming (Intermediate) : Variable Scopes"
   ]
  },
  {
   "cell_type": "raw",
   "metadata": {},
   "source": [
    "1. The Dataset\n",
    "\n",
    "As we work through this mission, we'll be using a data set on student loan defaults in the United States. It's very common for American students to borrow money to pay for college. Because tuition costs are high, many students are unable to repay their loans. When a student cannot pay off his or her loan, it goes into a status known as default.\n",
    "\n",
    "Each row of our dataset represents a single university, and contains information about the number of its students who later defaulted on their loans. While the data contains twelve columns, we'll be looking at a few in particular:\n",
    "\n",
    "institution -- The name of the university\n",
    "state -- The state in which the university is located\n",
    "city -- The city in which the university is located\n",
    "borrower_default_count_240 -- The total number of students who have defaulted on their loans\n",
    "principal_outstanding_240 -- The total dollar amount of the loans in default\n",
    "To make the data easier to work with, we've read each of these columns into its own list. For example, you can access the entire city column by using the variable city."
   ]
  },
  {
   "cell_type": "code",
   "execution_count": null,
   "metadata": {
    "collapsed": true
   },
   "outputs": [],
   "source": [
    "print(len(borrower_default_count_240))\n",
    "print(borrower_default_count_240[0:10])"
   ]
  },
  {
   "cell_type": "raw",
   "metadata": {},
   "source": [
    "2. Built-In Functions\n",
    "\n",
    "Some Python functions are available by default, without having to import them. We call these built-in functions. The sum() function, which works on lists, is one such built-in function.\n",
    "\n",
    "Here are a few others:\n",
    "\n",
    "len()\n",
    "float()\n",
    "min()\n",
    "max()\n",
    "Developers use these functions so often that it made sense to make them a part of the language itself. You can find a full list of built-in Python functions here.\n",
    "\n",
    "Instructions\n",
    "Use the sum() function to add 6 and 11 and assign the result to total."
   ]
  },
  {
   "cell_type": "code",
   "execution_count": null,
   "metadata": {
    "collapsed": true
   },
   "outputs": [],
   "source": [
    "total = sum([6,11])"
   ]
  },
  {
   "cell_type": "raw",
   "metadata": {},
   "source": [
    "3. Overwriting a Built-In Function\n",
    "\n",
    "You're probably used to assigning values to variables, then accessing those values, like this:\n",
    "\n",
    "b = 10\n",
    "print(b)\n",
    "The value 10 is assigned to variable b, which is why running the code displays 10. Here's a slightly more complex example:\n",
    "\n",
    "b = [1,2]\n",
    "sum = sum(b)\n",
    "sum(20)\n",
    "This code will actually generate an error because sum no longer points to the built-in Python function but to the expression sum(b) instead. Once we overwrite the sum variable with a value, we can't access the function anymore. Calling sum(20) won't make any sense, because sum evalutes to a single integer value (the result of sum(b)). If we called print(sum), it would print out the value 3.\n",
    "\n",
    "On the next few screens, we'll delve into why this behavior occurs.\n",
    "\n",
    "Instructions\n",
    "Experiment with the code to see what happens before and after we overwrite the sum() function.\n",
    "Click \"Next Step\" when you're done."
   ]
  },
  {
   "cell_type": "code",
   "execution_count": null,
   "metadata": {
    "collapsed": true
   },
   "outputs": [],
   "source": [
    "sum = sum(borrower_default_count_240)\n",
    "# Run the code, and then uncomment the bottom\n",
    "# line to see the result.\n",
    "#test = sum(principal_outstanding_240)"
   ]
  },
  {
   "cell_type": "raw",
   "metadata": {},
   "source": [
    "4. Scopes\n",
    "\n",
    "When we write functions, we're writing reusable blocks of code. This means that no matter what's happening with the rest of the code we write, the function should operate in exactly the same way each time. This allows us to create programs that run in predictable ways. We wouldn't want a function to behave differently at random if we had a variable called total in our code. Let's say we wrote a function that adds two numbers:\n",
    "\n",
    "def add(a,b):\n",
    "    total = a + b\n",
    "    return total\n",
    "Inside the function, we're defining a variable named total. We could call the function like this:\n",
    "\n",
    "total = 15\n",
    "print(add(10, 20))\n",
    "print(total)\n",
    "Since functions are designed to be reusable, they have to be isolated from the rest of the program. Even though there's a variable called total inside the add function, that variable is not connected to the total variable in our script. For example, the script above would print out two different totals: first 30, then 15. That's because the variable total we defined in our script is in the global scope, whereas the total variable inside add is in a local scope.\n",
    "\n",
    "Here's a diagram of how the variables look as the code runs:\n",
    "\n",
    "The idea of variable scoping is extremely important in programming, and allows us to isolate what happens in functions from what happens in the rest of our program.\n",
    "\n",
    "The global scope is whatever happens outside of a function. Anything that happens inside a function is in a local scope. There's only one global scope, but each function creates its own local scope\n",
    "\n",
    "Instructions\n",
    "Use the find_average function to find the average of principal_outstanding_240, and assign the result to the variable average.\n",
    "Afterwards, print the variable total to verify that it's unchanged in the global scope."
   ]
  },
  {
   "cell_type": "code",
   "execution_count": null,
   "metadata": {
    "collapsed": true
   },
   "outputs": [],
   "source": [
    "def find_average(column):\n",
    "    length = len(column)\n",
    "    total = sum(column)\n",
    "    return total / length\n",
    "\n",
    "total = sum(borrower_default_count_240)\n",
    "average = find_average(principal_outstanding_240)\n",
    "print(total)"
   ]
  },
  {
   "cell_type": "raw",
   "metadata": {},
   "source": [
    "5. Scope Isolation\n",
    "\n",
    "Local scopes aren't just isolated from the global scope - they're also isolated from every other local scope. Our code creates a local scope when it calls a function, and destroys it when the function finishes running. Calling the same function twice will create two separate local scopes. This ensures that any variables our code creates inside the function disappear when the function finishes running, and don't affect the rest of the program.\n",
    "\n",
    "Here's an example:\n",
    "\n",
    "def add(a,b):\n",
    "    total = a + b\n",
    "    return total\n",
    "\n",
    "def subtract(a,b):\n",
    "    total = a - b\n",
    "    return total\n",
    "\n",
    "print(add(1,5))\n",
    "print(subtract(1,5))\n",
    "Even though both of the functions in the code above define a variable called total within them, each one has its own local scope. After each function is called, the values for both total variables disappear, because all the variables defined inside the local scope are removed. The code snippet above doesn't define any variables in the global scope.\n",
    "\n",
    "Here's how the variables look when the code is run:\n",
    "\n",
    "Instructions\n",
    "Calculate the average of principal_outstanding_240 with the find_average() function, and assign the result to the variable average.\n",
    "Calculate the length of principal_outstanding_240 with the find_length() function, and assign the result to the variable principal_length.\n",
    "Afterwards, verify that the variable length is unchanged in the global scope.\n",
    "Also verify that changing the order in which you call find_average and find_length doesn't alter the results."
   ]
  },
  {
   "cell_type": "code",
   "execution_count": null,
   "metadata": {
    "collapsed": true
   },
   "outputs": [],
   "source": [
    "def find_average(column):\n",
    "    length = len(column)\n",
    "    total = sum(column)\n",
    "    return total / length\n",
    "\n",
    "def find_length(column):\n",
    "    length = len(column)\n",
    "    return length\n",
    "\n",
    "length = len(borrower_default_count_240)\n",
    "average = find_average(principal_outstanding_240)\n",
    "principal_length = find_length(principal_outstanding_240)\n",
    "\n",
    "print(length)"
   ]
  },
  {
   "cell_type": "raw",
   "metadata": {},
   "source": [
    "6. Scope inheritance\n",
    "\n",
    "When our code uses a variable name in a local scope that it hasn't defined there yet, the Python interpreter will check whether the variable exists in the global scope.\n",
    "\n",
    "Here's an example:\n",
    "\n",
    "total = 50\n",
    "def find_average(column):\n",
    "    length = len(column)\n",
    "    return total / length\n",
    "In the code above, we use the total variable inside find_average() without having first defined it. In this case, the Python interpreter will check whether total exists in the global scope. Because it does, the Python interpreter will return 50 / length from the find_average() function.\n",
    "\n",
    "Here's a diagram:\n",
    "\n",
    "Instructions\n",
    "Find the average of principal_outstanding_240 with the find_average() function, and assign the result to the variable average.\n",
    "Verify that the find_average() function used the value length from the global scope."
   ]
  },
  {
   "cell_type": "code",
   "execution_count": null,
   "metadata": {
    "collapsed": true
   },
   "outputs": [],
   "source": [
    "def find_average(column):\n",
    "    total = sum(column)\n",
    "    # In this function, we are going to pretend that we forgot to calculate the length\n",
    "    return total / length\n",
    "\n",
    "length = 10\n",
    "average = find_average(principal_outstanding_240)\n",
    "print(sum(principal_outstanding_240))"
   ]
  },
  {
   "cell_type": "raw",
   "metadata": {},
   "source": [
    "7. Inheritance Limits\n",
    "\n",
    "There are limits to how much we can work with global scope variables inside a local scope. These limits allow functions to be reusable, and prevent them from changing how your script behaves.\n",
    "\n",
    "Here's an example of what won't work:\n",
    "\n",
    "a = 2\n",
    "def alter_a():\n",
    "    a = a * 2\n",
    "    return a\n",
    "The function above will cause an error. That's because while we can access the value of a global scope variable inside a local scope, we can't change the value of that variable.\n",
    "\n",
    "Instructions\n",
    "Experiment with the code to see what happens before and after we call the find_total() function. Click \"Next Step\" when you're done."
   ]
  },
  {
   "cell_type": "code",
   "execution_count": null,
   "metadata": {
    "collapsed": true
   },
   "outputs": [],
   "source": [
    "total = 10\n",
    "\n",
    "def find_total(column):\n",
    "    total = total + sum(column)\n",
    "    return total\n",
    "\n",
    "print(find_total(principal_outstanding_240))"
   ]
  },
  {
   "cell_type": "raw",
   "metadata": {},
   "source": [
    "8. Built-In Inheritance\n",
    "\n",
    "As we recently learned, if we use a variable in a local scope that isn't defined there, the Python interpreter will look for it in the global scope. If it doesn't find the variable there, it will check whether the variable is a built-in function name.\n",
    "\n",
    "Here's an example of the type of code that would generate this behavior:\n",
    "\n",
    "def total(a):\n",
    "    return sum(a)\n",
    "We use the sum variable in the total() function, but don't define in the local scope or the global scope. This variable is actually a built-in function called sum(). So the Python interpreter calls the function, and uses it to add the values in the list a.\n",
    "\n",
    "If other code in the global scope overwrites the built-in function, then the interpreter uses the value in the global scope:\n",
    "\n",
    "sum = 10\n",
    "\n",
    "def total(a):\n",
    "    return sum(a)\n",
    "\n",
    "print(total([1,2]))\n",
    "The code above will cause an error, because the interpreter will use the global scope value for sum in the total() function. That's because the global scope value for sum is an integer, and won't work as a function."
   ]
  },
  {
   "cell_type": "raw",
   "metadata": {},
   "source": [
    "9. Global Variables\n",
    "\n",
    "Global variables are variables that are available across all scopes. We can access and change the value of a global variable inside any global scope or local scope.\n",
    "\n",
    "While Global variables can sometimes be handy, the developer community generally doesn't recommend using them. That's because they make functions dependent on the value of variables in the global scope, and prevent them from being reusable in any situation.\n",
    "\n",
    "Still, let's take a look at how we would use them. We define global variables with the global keyword.\n",
    "\n",
    "total = 10\n",
    "\n",
    "def add_to_total(a):\n",
    "    global total\n",
    "    total = total + a\n",
    "\n",
    "add_to_total(20)\n",
    "print(total)\n",
    "The code above will add 20 to total, then print out 30.\n",
    "\n",
    "When we create a global variable, we can't create it and assign a value to it on the same line. We first define the variable as global using the global keyword, then assign a value to it on a separate line.\n",
    "\n",
    "We can also define global variables inside local scopes:\n",
    "\n",
    "def test_function():\n",
    "    global a\n",
    "    a = 10\n",
    "\n",
    "test_function()\n",
    "print(a)\n",
    "Because we defined a with the global keyword, this code will print out 10.\n",
    "\n",
    "Instructions\n",
    "Create a new function:\n",
    "Make a global variable b inside the function.\n",
    "Assign the value 20 to b inside the function.\n",
    "Call the function.\n",
    "Print out b."
   ]
  },
  {
   "cell_type": "code",
   "execution_count": null,
   "metadata": {
    "collapsed": true
   },
   "outputs": [],
   "source": [
    "def function():\n",
    "    global b\n",
    "    b = 20\n",
    "    \n",
    "function()\n",
    "print(b)"
   ]
  }
 ],
 "metadata": {
  "kernelspec": {
   "display_name": "Python 2",
   "language": "python",
   "name": "python2"
  },
  "language_info": {
   "codemirror_mode": {
    "name": "ipython",
    "version": 2
   },
   "file_extension": ".py",
   "mimetype": "text/x-python",
   "name": "python",
   "nbconvert_exporter": "python",
   "pygments_lexer": "ipython2",
   "version": "2.7.14"
  }
 },
 "nbformat": 4,
 "nbformat_minor": 2
}
