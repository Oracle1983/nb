{
 "cells": [
  {
   "cell_type": "markdown",
   "metadata": {},
   "source": [
    "# Step 9 Working with Large Datasets - Spark Dataframes"
   ]
  },
  {
   "cell_type": "raw",
   "metadata": {},
   "source": [
    "1. The Spark DataFrame: An Introduction\n",
    "\n",
    "The Spark DataFrame is a feature that allows you to create and work with DataFrame objects. As you may have guessed, pandas inspired it.\n",
    "\n",
    "Spark is well known for its ability to process large data sets. Spark DataFrames combine the scale and speed of Spark with the familiar query, filter, and analysis capabilities of pandas. Unlike pandas, which can only run on one computer, Spark can use distributed memory (and disk when necessary) to handle larger data sets and run computations more quickly.\n",
    "\n",
    "Spark DataFrames allow us to modify and reuse our existing pandas code to scale up to much larger data sets. They also have better support for various data formats. We can even use a SQL interface to write distributed SQL queries that query large database systems and other data stores.\n",
    "\n",
    "For this mission, we'll be working with a JSON file containing data from the 2010 U.S. Census. It has the following columns:\n",
    "\n",
    "age - Age (year)\n",
    "females - Number of females\n",
    "males - Number of males\n",
    "total - Total number of individuals\n",
    "year - Year column (2010 for all rows)\n",
    "Let's open and explore the data set before we dive into Spark DataFrames.\n",
    "\n",
    "Instructions\n",
    "Print the first four lines of census_2010.json."
   ]
  },
  {
   "cell_type": "raw",
   "metadata": {},
   "source": [
    "2. Reading in Data\n",
    "\n",
    "In previous missions, we explored reading data into an RDD object. Recall that an RDD is essentially a list of tuples with no enforced schema or structure of any kind. An RDD can have a variable number of elements in each tuple, and combinations of types between tuples.\n",
    "\n",
    "RDDs are useful for representing unstructured data like text. Without them, we'd need to write a lot of custom Python code to interact with such data.\n",
    "\n",
    "We use the SparkContext object to read data into an RDD:\n",
    "\n",
    "raw_data = sc.textFile(\\\"daily_show.tsv\\\")\n",
    "daily_show = raw_data.map(lambda line: line.split('\\t'))\n",
    "To use the familar DataFrame query interface from pandas, however, the data representation needs to include rows, columns, and types. Spark's implementation of DataFrames mirrors the pandas implementation, with logic for rows and columns.\n",
    "\n",
    "The Spark SQL class is very powerful. It gives Spark more information about the data structure we're using and the computations we want to perform. Spark uses that information to optimize processes.\n",
    "\n",
    "To take advantage of these features, we'll have to use the SQLContext object to structure external data as a DataFrame, instead of the SparkContext object.\n",
    "\n",
    "We can query Spark DataFrame objects with SQL, which we'll explore in the next mission. The SQLContext class gets its name from this capability.\n",
    "\n",
    "This class allows us to read in data and create new DataFrames from a wide range of sources. It can do this because it takes advantage of Spark's powerful Data Sources API.\n",
    "\n",
    "File Formats\n",
    "\n",
    "JSON, CSV/TSV, XML\n",
    "Parquet, Amazon S3 (cloud storage service)\n",
    "Big Data Systems\n",
    "\n",
    "Hive, Avro, HBase\n",
    "SQL Database Systems\n",
    "\n",
    "MySQL, PostgreSQL\n",
    "Data science organizations often use a wide range of systems to collect and store data, and they're constantly making changes to those systems. Spark DataFrames allow us to interface with different types of data, and ensure that our analysis logic will still work as the data storage mechanisms change.\n",
    "\n",
    "Now that you've learned a bit about Spark DataFrames, let's read in census_2010.json. This data set contains valid JSON on each line, which is what Spark needs in order to read the data in properly.\n",
    "\n",
    "In the following code cell, we:\n",
    "\n",
    "Import SQLContext from the pyspark.sql library\n",
    "Instantiate the SQLContext object [https://spark.apache.org/docs/1.5.0/api/python/pyspark.sql.html#pyspark.sql.SQLContext] (which requires the SparkContext object (sc) as a parameter), and assign it to the variable sqlCtx\n",
    "Use the SQLContext method read.json() to read the JSON data set into a Spark DataFrame object named df\n",
    "Print df's data type to confirm that we successfully read it in as a Spark DataFrame"
   ]
  },
  {
   "cell_type": "code",
   "execution_count": null,
   "metadata": {
    "collapsed": true
   },
   "outputs": [],
   "source": [
    "# Import SQLContext\n",
    "from pyspark.sql import SQLContext\n",
    "\n",
    "# Pass in the SparkContext object `sc`\n",
    "sqlCtx = SQLContext(sc)\n",
    "\n",
    "# Read JSON data into a DataFrame object `df`\n",
    "df = sqlCtx.read.json(\"census_2010.json\")\n",
    "\n",
    "# Print the type\n",
    "print(type(df))"
   ]
  },
  {
   "cell_type": "raw",
   "metadata": {},
   "source": [
    "3. Schema\n",
    "\n",
    "When we read data into the SQLContext object, Spark:\n",
    "\n",
    "Instantiates a Spark DataFrame object\n",
    "Infers the schema from the data and associates it with the DataFrame\n",
    "Reads in the data and distributes it across clusters (if multiple clusters are available)\n",
    "Returns the DataFrame object\n",
    "We expect the DataFrame Spark created to have the following columns, which were the keys in the JSON data set:\n",
    "\n",
    "age\n",
    "females\n",
    "males\n",
    "total\n",
    "year\n",
    "Spark has its own type system that's similar to the pandas type system. To create a DataFrame, Spark iterates over the data set twice - once to extract the structure of the columns, and once to infer each column's type. Let's use one of the Spark DataFrame instance methods to display the schema for the DataFrame we're working with.\n",
    "\n",
    "Instructions\n",
    "Call the printSchema() method [http://spark.apache.org/docs/latest/api/python/pyspark.sql.html#pyspark.sql.DataFrame.printSchema] on the Spark DataFrame df to display the schema that Spark inferred."
   ]
  },
  {
   "cell_type": "code",
   "execution_count": null,
   "metadata": {
    "collapsed": true
   },
   "outputs": [],
   "source": [
    "sqlCtx = SQLContext(sc)\n",
    "df = sqlCtx.read.json(\"census_2010.json\")"
   ]
  },
  {
   "cell_type": "raw",
   "metadata": {},
   "source": [
    "4. Pandas vs Spark DataFrames\n",
    "\n",
    "As we mentioned before, the pandas DataFrame heavily influenced the Spark DataFrame implementation. Here are some of the methods we can find in both:\n",
    "\n",
    "agg()\n",
    "join()\n",
    "sort()\n",
    "where()\n",
    "Unlike pandas DataFrames, however, Spark DataFrames are immutable, which means we can't modify existing objects. Most transformations on an object return a new DataFrame reflecting the changes instead. As we discussed in previous missions, Spark's creators deliberately designed immutability into Spark to make it easier to work with distributed data structures.\n",
    "\n",
    "Pandas and Spark DataFrames also have different underlying data structures. Pandas DataFrames are built around Series objects, while Spark DataFrames are built around RDDs. We can perform most of the same computations and transformations on Spark DataFrames that we can on pandas DataFrames, but the styles and methods are somewhat different. We'll explore how to perform common pandas functions with Spark in this mission.\n",
    "\n",
    "Instructions\n",
    "Use the show() method to print the first five rows of the DataFrame."
   ]
  },
  {
   "cell_type": "raw",
   "metadata": {},
   "source": [
    "5. Row Objects\n",
    "\n",
    "In pandas, we used the head() method to return the first n rows. This is one of the differences between the DataFrame implementations. Instead of returning a nicely formatted table of values, the head() method in Spark returns a list of row objects. Spark needs to return row objects for certain methods, such as head(), collect() and take().\n",
    "\n",
    "You can access a row's attributes by the column name using dot notation, and by position using bracket notation with an index:\n",
    "\n",
    "row_one = df.head(5)[0]\n",
    "# Access value for age\n",
    "row_one.age\n",
    "# Access the first value\n",
    "row_one[0]\n",
    "\n",
    "Instructions\n",
    "Use the head() method to return the first five rows in the DataFrame as a list of row objects, and assign the result to the variable first_five.\n",
    "Print the age value for each row object in first_five."
   ]
  },
  {
   "cell_type": "raw",
   "metadata": {},
   "source": [
    "6. Selecting Columns\n",
    "\n",
    "In pandas, we passed a string into a single pair of brackets ([]) to select an individual column, and passed in a list to select multiple columns:\n",
    "\n",
    "# Pandas DataFrame\n",
    "df['age']\n",
    "df[['age', 'males']]\n",
    "We can still use bracket notation in Spark. We'll need to pass in a list of string objects, though, even when we're only selecting one column.\n",
    "\n",
    "Spark takes advantage of lazy loading with DataFrames, and will only display the results of an operation when we call the show() method. Instead of using bracket notation, we can also use the select() method to select columns:\n",
    "\n",
    "# Spark DataFrame\n",
    "df.select('age')\n",
    "df.select('age', 'males')\n",
    "In the following code cell, we demonstrate how to select and display the age column. Use what you've learned to take this a step farther and select multiple columns.\n",
    "\n",
    "Instructions\n",
    "Select the age, males, and females columns from the DataFrame and display them using the show() method."
   ]
  },
  {
   "cell_type": "code",
   "execution_count": null,
   "metadata": {
    "collapsed": true
   },
   "outputs": [],
   "source": [
    "df[['age']].show()"
   ]
  },
  {
   "cell_type": "raw",
   "metadata": {},
   "source": [
    "7. Filtering Rows\n",
    "\n",
    "In pandas, we used Boolean filtering to select only the rows we were interested in. Spark preserves the very same functionality and notation.\n",
    "\n",
    "Instructions\n",
    "Use the pandas notation for Boolean filtering to select the rows where age is greater than five.\n",
    "Assign the resulting DataFrame to the variable five_plus.\n",
    "Use the show() method to display five_plus."
   ]
  },
  {
   "cell_type": "raw",
   "metadata": {},
   "source": [
    "8. Using Column Comparisons as Filters\n",
    "\n",
    "We can compare the columns in Spark DataFrames with each other, and use the comparison criteria as a filter. For example, to get the rows where the population of males execeeded females in 2010, we'd write the same notation that we would use in pandas.\n",
    "\n",
    "Instructions\n",
    "Find all of the rows where females is less than males, and use show() to display the first 20 results."
   ]
  },
  {
   "cell_type": "raw",
   "metadata": {},
   "source": [
    "9. Converting Spark DataFrames to pandas DataFrames\n",
    "\n",
    "The Spark DataFrame is fairly new, and the library's still a bit limited. There's no easy way to create a histogram of the data in a column, for example, or a line plot of the values in two columns.\n",
    "\n",
    "To handle some of these shortcomings, we can convert a Spark DataFrame to a pandas DataFrame using the toPandas() method. Converting an entire Spark DataFrame to a pandas DataFrame works just fine for small data sets. For larger ones, though, we'll want to select a subset of the data that's more manageable for pandas.\n",
    "\n",
    "Instructions\n",
    "Use the toPandas() method [https://spark.apache.org/docs/1.5.0/api/python/pyspark.sql.html#pyspark.sql.DataFrame.toPandas] to convert the Spark DataFrame to a Pandas DataFrame, and assign it to the variable pandas_df.\n",
    "Then, plot a histogram of the total column using the hist() [http://pandas.pydata.org/pandas-docs/version/0.17.0/generated/pandas.DataFrame.hist.html] method."
   ]
  }
 ],
 "metadata": {
  "kernelspec": {
   "display_name": "Python 2",
   "language": "python",
   "name": "python2"
  },
  "language_info": {
   "codemirror_mode": {
    "name": "ipython",
    "version": 2
   },
   "file_extension": ".py",
   "mimetype": "text/x-python",
   "name": "python",
   "nbconvert_exporter": "python",
   "pygments_lexer": "ipython2",
   "version": "2.7.14"
  }
 },
 "nbformat": 4,
 "nbformat_minor": 2
}
