{
 "cells": [
  {
   "cell_type": "markdown",
   "metadata": {},
   "source": [
    "# Step 9 Working with Large Datasets - Spark SQL"
   ]
  },
  {
   "cell_type": "raw",
   "metadata": {},
   "source": [
    "1. Overview\n",
    "\n",
    "In the previous mission, we learned how to read JSON into a Spark DataFrame, as well as some basic techniques for interacting with DataFrames. In this mission, we'll learn how to use Spark's SQL interface to query and interact with the data. We'll continue to work with the 2010 U.S. Census data set in this mission. Later on, we'll add other files to demonstrate how to take advantage of SQL to work with multiple data sets."
   ]
  },
  {
   "cell_type": "raw",
   "metadata": {},
   "source": [
    "2. Register the DataFrame as a Table\n",
    "\n",
    "Before we can write and run SQL queries, we need to tell Spark to treat the DataFrame as a SQL table. Spark internally maintains a virtual database within the SQLContext object. This object, which we enter as sqlCtx, has methods for registering temporary tables.\n",
    "\n",
    "To register a DataFrame as a table, call the registerTempTable() method [https://spark.apache.org/docs/1.5.0/api/python/pyspark.sql.html#pyspark.sql.DataFrame.registerTempTable] on that DataFrame object. This method requires one string parameter, name, that we use to set the table name for reference in our SQL queries.\n",
    "\n",
    "Instructions\n",
    "Use the registerTempTable() method to register the DataFrame df as a table named census2010.\n",
    "Then, run the SQLContext method tableNames to return the list of tables.\n",
    "Assign the resulting list to tables, and use the print function to display it."
   ]
  },
  {
   "cell_type": "code",
   "execution_count": null,
   "metadata": {
    "collapsed": true
   },
   "outputs": [],
   "source": [
    "from pyspark.sql import SQLContext\n",
    "sqlCtx = SQLContext(sc)\n",
    "df = sqlCtx.read.json(\"census_2010.json\")"
   ]
  },
  {
   "cell_type": "raw",
   "metadata": {},
   "source": [
    "3. Querying\n",
    "\n",
    "Now that we've registered the table within sqlCtx, we can start writing and running SQL queries. With Spark SQL, we represent our query as a string and pass it into the sql() method within the SQLContext object. The sql() method [http://spark.apache.org/docs/latest/api/python/pyspark.sql.html#pyspark.sql.SQLContext.sql] requires a single parameter, the query string. Spark will return the query results as a DataFrame object. This means you'll have to use show() to display the results, due to lazy loading.\n",
    "\n",
    "While SQLite requires that queries end with a semi-colon, Spark SQL will actually throw an error if you include it. Other than this difference in syntax, Spark's flavor of SQL is identical to SQLite, and all the queries you've written for the SQL course will work here as well.\n",
    "\n",
    "Instructions\n",
    "Write a SQL query that returns the age column from the table census2010, and use the show() method to display the first 20 results."
   ]
  },
  {
   "cell_type": "raw",
   "metadata": {},
   "source": [
    "4. Filtering\n",
    "\n",
    "In the previous mission, we used DataFrame methods to find all of the rows where age was greater than 5. If we only wanted to retrieve data from the males and females columns where that criteria were true, we'd need to chain additional operations to the Spark DataFrame. To return the results in descending order instead of ascending order, we'd have to chain another method. The DataFrame methods are quick and powerful for simple queries, but chaining them can be cumbersome for more advanced queries.\n",
    "\n",
    "SQL shines at expressing complex logic in a more compact manner. Let's brush up on SQL by writing a query that expresses more specific criteria.\n",
    "\n",
    "Instructions\n",
    "Write and run a SQL query that returns:\n",
    "The males and females columns (in that order) where age > 5 and age < 15"
   ]
  },
  {
   "cell_type": "code",
   "execution_count": null,
   "metadata": {
    "collapsed": true
   },
   "outputs": [],
   "source": [
    "query = ''"
   ]
  },
  {
   "cell_type": "raw",
   "metadata": {},
   "source": [
    "5. Mixing Functionality\n",
    "\n",
    "Because the results of SQL queries are DataFrame objects, we can combine the best aspects of both DataFrames and SQL to enhance our workflow. For example, we can write a SQL query that quickly returns a subset of our data as a DataFrame.\n",
    "\n",
    "Instructions\n",
    "Write a SQL query that returns a DataFrame containing the males and females columns from the census2010 table.\n",
    "Use the describe() method [https://spark.apache.org/docs/1.5.0/api/python/pyspark.sql.html#pyspark.sql.DataFrame.describe] to calculate summary statistics for the DataFrame and the show() method to display the results."
   ]
  },
  {
   "cell_type": "raw",
   "metadata": {},
   "source": [
    "6. Multiple tables\n",
    "\n",
    "One of the most powerful use cases in SQL is joining tables. Spark SQL takes this a step further by enabling you to run join queries across data from multiple file types. Spark will read any of the file types and formats it supports into DataFrame objects and we can register each of these as tables within the SQLContext object to use for querying.\n",
    "\n",
    "As we mentioned briefly in the previous mission, most data science organizations use a variety of file formats and data storage mechanisms. Spark SQL was built with the industry use cases in mind and enables data professionals to use one common query language, SQL, to interact with lots of different data sources. We'll explore joins in Spark SQL further, but first let's introduce the other datasets we'll be using:\n",
    "\n",
    "census_1980.json - 1980 U.S. Census data\n",
    "census_1990.json - 1990 U.S. Census data\n",
    "census_2000.json - 2000 U.S. Census data\n",
    "\n",
    "Instructions\n",
    "Read these additional datasets into DataFrame objects and then use the registerTempTable() function to register these tables individually within SQLContext:\n",
    "census_1980.json as census1980,\n",
    "census_1990.json as census1990,\n",
    "census_2000.json as census2000.\n",
    "Then use the method tableNames() to list the tables within the SQLContext object, assign to tables, and finally print tables."
   ]
  },
  {
   "cell_type": "code",
   "execution_count": null,
   "metadata": {
    "collapsed": true
   },
   "outputs": [],
   "source": [
    "from pyspark.sql import SQLContext\n",
    "sqlCtx = SQLContext(sc)\n",
    "df = sqlCtx.read.json(\"census_2010.json\")\n",
    "df.registerTempTable('census2010')"
   ]
  },
  {
   "cell_type": "raw",
   "metadata": {},
   "source": [
    "7. Joins\n",
    "\n",
    "Now that we have a table for each dataset, we can write join queries to compare values across them. Since we're working with Census data, let's use the age column as the joining column.\n",
    "\n",
    "Instructions\n",
    "Write a query that returns a DataFrame with the total columns for the tables census2010 and census2000 (in that order).\n",
    "Then, run the query and use the show() method to display the first 20 results."
   ]
  },
  {
   "cell_type": "raw",
   "metadata": {},
   "source": [
    "8. SQL Functions\n",
    "\n",
    "The functions and operators from SQLite that we've used in the past are available for us to use in Spark SQL:\n",
    "\n",
    "COUNT()\n",
    "AVG()\n",
    "SUM()\n",
    "AND\n",
    "OR\n",
    "\n",
    "Instructions\n",
    "Write a query that calculates the sums of the total column from each of the tables, in the following order:\n",
    "census2010,\n",
    "census2000,\n",
    "census1990.\n",
    "You'll need to perform two inner joins for this query (all datasets have the same values for age, which makes things convenient for joining)."
   ]
  }
 ],
 "metadata": {
  "kernelspec": {
   "display_name": "Python 2",
   "language": "python",
   "name": "python2"
  },
  "language_info": {
   "codemirror_mode": {
    "name": "ipython",
    "version": 2
   },
   "file_extension": ".py",
   "mimetype": "text/x-python",
   "name": "python",
   "nbconvert_exporter": "python",
   "pygments_lexer": "ipython2",
   "version": "2.7.14"
  }
 },
 "nbformat": 4,
 "nbformat_minor": 2
}
