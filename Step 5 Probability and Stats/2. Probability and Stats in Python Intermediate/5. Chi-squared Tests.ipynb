{
 "cells": [
  {
   "cell_type": "markdown",
   "metadata": {},
   "source": [
    "# Step 5 Introduction to Stats - Chi-squared Tests"
   ]
  },
  {
   "cell_type": "raw",
   "metadata": {},
   "source": [
    "1. Observed and expected frequencies\n",
    "\n",
    "In this mission, we'll be learning about the chi-squared test for categorical data. This test enables us to determine the statistical significance of observing a set of categorical values.\n",
    "\n",
    "We'll be working with data on US income and demographics throughout this mission. Here are the first few rows of the data, in csv format:\n",
    "\n",
    "age,workclass,fnlwgt,education,education_num,marital_status,occupation,relationship,race,sex,capital_gain,capital_loss,hours_per_week,native_country,high_income\n",
    "39, State-gov, 77516, Bachelors, 13, Never-married, Adm-clerical, Not-in-family, White, Male, 2174, 0, 40, United-States, <=50K\n",
    "50, Self-emp-not-inc, 83311, Bachelors, 13, Married-civ-spouse, Exec-managerial, Husband, White, Male, 0, 0, 13, United-States, <=50K\n",
    "38, Private, 215646, HS-grad, 9, Divorced, Handlers-cleaners, Not-in-family, White, Male, 0, 0, 40, United-States, <=50K\n",
    "Each row represents a single person who was counted in the 1990 US Census, and contains information about their income and demograpics. Here are some of the relevant columns:\n",
    "\n",
    "age -- how old the person is\n",
    "workclass -- the type of sector the person is employed in.\n",
    "race -- the race of the person.\n",
    "sex -- the gender of the person, either Male or Female.\n",
    "The entire dataset has 32561 rows, and is a sample of the full Census. Of the rows, 10771 are Female, and 21790 are Male. These numbers look a bit off, because the full Census shows that the US is about 50% Male and 50% Female. So our expected values for number of Males and Females would be 16280.5 each.\n",
    "\n",
    "Here's a diagram:\n",
    "\n",
    "We know that something looks off, but we don't quite know how to quantify how different the observed and expected values are. We also don't have any way to determine if there's a statistically significant difference between the two groups, and if we need to investigate further.\n",
    "\n",
    "This is where a chi-squared test can help. The chi-squared test enables us to quantify the difference between sets of observed and expected categorical values."
   ]
  },
  {
   "cell_type": "raw",
   "metadata": {},
   "source": [
    "2. Calculating differences\n",
    "\n",
    "One way that we can determine the differences between observed and expected values is to compute simple proportional differences.\n",
    "\n",
    "Let's say an expected value is 1000, and the observed value is 1100. We can compute the proportional difference with:\n",
    "\n",
    "\n",
    "So there's a .1, or 10%, difference between our observed and expected values.\n",
    "\n",
    "Instructions\n",
    "In the last screen, our observed values were 10771 Females, and 21790 Males. Our expected values were 16280.5 Females and 16280.5 Males.\n",
    "Compute the proportional difference in number of observed Females vs number of expected Females. Assign the result to female_diff.\n",
    "Compute the proportional difference in number of observed Males vs number of expected Males. Assign the result to male_diff."
   ]
  },
  {
   "cell_type": "raw",
   "metadata": {},
   "source": [
    "3. Updating the formula\n",
    "\n",
    "In the last screen, we got -0.338 for the Female difference, and 0.338 for the Male difference. These are great for finding individual differences for each category, but since both values add up to 0, they don't give us a meaningful measure of how our overall observed counts deviate from the expected counts.\n",
    "\n",
    "You may recall this diagram from earlier:\n",
    "\n",
    "No matter what numbers you plug in for observed Male or Female counts, the differences between observed and expected will always add to 0, because the total observed count for Male and Female items always comes out to 32561. If the observed count of Females is high, the count of Males has to be low to compensate, and vice versa.\n",
    "\n",
    "What we really want to find is one number that can tell us how much all of our observed counts deviate from all of their expected counterparts. This will let us figure out if our difference in counts is statistically significant. We can get one step closer to this by squaring the top term in our difference formula:\n",
    "\n",
    "Squaring the difference will ensure that all the differences don't sum to zero (you can't have negative squares), giving us a non-zero number we can use to assess statistical significance.\n",
    "\n",
    "We can calculate \n",
    ", the chi-squared value, by adding up all of the squared differences between observed and expected values.\n",
    "\n",
    "Instructions\n",
    "In the last screen, our observed values were 10771 Females, and 21790 Males. Our expected values were 16280.5 Females and 16280.5 Males.\n",
    "Compute the difference in number of observed Females vs number of expected Females using the updated technique. Assign the result to female_diff.\n",
    "Compute the difference in number of observed Males vs number of expected Males using the updated technique. Assign the result to male_diff.\n",
    "Add male_diff and female_diff together and assign to the variable gender_chisq."
   ]
  },
  {
   "cell_type": "raw",
   "metadata": {},
   "source": [
    "4. Generating a distribution\n",
    "\n",
    "Now that we have a chi-squared value for our observed and expected gender counts, we need a way to figure out what the chi-squared value represents. We can translate a chi-squared value into a statistical significance value using a chi-squared sampling distribution. If you recall, we covered statistical significance and p-values in the last mission. A p-value allows us to determine whether the difference between two values is due to chance, or due to an underlying difference.\n",
    "\n",
    "We can generate a chi-squared sampling distribution using our expected probabilities. If we repeatedly generate random samples that contain 32561 samples, and graph the chi-squared value of each sample, we'll be able to generate a distribution. Here's a rough algorithm:\n",
    "\n",
    "Randomly generate 32561 numbers that range from 0-1.\n",
    "Based on the expected probabilities, assign Male or Female to each number.\n",
    "Compute the observed frequences of Male and Female.\n",
    "Compute the chi-squared value and save it.\n",
    "Repeat several times.\n",
    "Create a histogram of all the chi-squared values.\n",
    "By comparing our chi-squared value to the distribution, and seeing what percentage of the distribution is greater than our value, we'll get a p-value. For instance, if 5% of the values in the distribution are greater than our chi-squared value, the p-value is .05.\n",
    "\n",
    "Instructions\n",
    "Inside a for loop that repeats 1000 times:\n",
    "Use the numpy.random.random [http://docs.scipy.org/doc/numpy/reference/generated/numpy.random.random.html#numpy.random.random] function to generate 32561 numbers between 0.0 and 1.0.\n",
    "Pass (32561,) into the numpy.random.random function to get a vector with 32561 elements.\n",
    "For each of the numbers, if it is less than .5, replace it with 0, otherwise replace it with 1.\n",
    "Count up how many times 0 occurs (Male frequency), and how many times 1 occurs (Female frequency).\n",
    "Use the expected frequencies from earlier to compute the chi-squared value.\n",
    "Compute male_diff by subtracting the expected Male count from the observed Male count, squaring it, and dividing by the expected Male count.\n",
    "Compute female_diff by subtracting the expected Female count from the observed Female count, squaring it, and dividing by the expected Female count.\n",
    "Add up male_diff and female_diff to get the chi-squared vlaue.\n",
    "Append the chi-squared value to chi_squared_values.\n",
    "Create a histogram with chi_squared_values using the plt.hist [http://matplotlib.org/api/pyplot_api.html#matplotlib.pyplot.hist] method."
   ]
  },
  {
   "cell_type": "code",
   "execution_count": null,
   "metadata": {
    "collapsed": true
   },
   "outputs": [],
   "source": [
    "chi_squared_values = []"
   ]
  },
  {
   "cell_type": "raw",
   "metadata": {},
   "source": [
    "5. Statistical significance\n",
    "\n",
    "In the last screen, our calculated chi-squared value is greater than all the values in the distribution, so our p-value is 0, indicating that our result is statistically significant. You may recall from the last mission that .05 is the typical threshold for statistical significance, and anything below it is considered significant.\n",
    "\n",
    "A significant value indicates that something is different between the observed and expected values, but it doesn't indicate what is different.\n",
    "\n",
    "Now that we have a chi-squared sampling distribution, we can compare the chi-squared value we calculated for our data to it to see if our result is statistically significant. The chi-squared value we calculated was 3728.95. The highest value in the chi-squared sampling distribution was about 12. This means that our chi-squared value is higher than 100% of all the values in the sampling distribution, so we get a p-value of 0. This means that there is a 0% chance that we could get such a result randomly.\n",
    "\n",
    "This would indicate that we need to investigate our data collection techniques more closely to figure out why such a result occurred.\n",
    "\n",
    "Because a chi-squared value has no sign (all chi-squared values are positive), it doesn't tell us anything about the direction of the statistical significance. If we had 10771 Females, and 21790 Males, or 10771 Males, and 21790 Females, we'd get the same chi-squared value. It's important to look at the data and see how the data is unbalanced after calculating a chi-squared value and getting a significant result."
   ]
  },
  {
   "cell_type": "raw",
   "metadata": {},
   "source": [
    "6. Smaller samples\n",
    "\n",
    "One interesting thing about chi-squared values is that they get smaller as the sample size decreases. For example, with our Male and Female example, let's say we only have 100 rows, but the same observed and expected proportions:\n",
    "\n",
    "We can compute the chi-squared value for this:\n",
    "\n",
    "\n",
    "Assigning the values:\n",
    "\n",
    "\n",
    "32561 (our original number of rows) divided by 100 (our new number of rows) is 325.61. If we multiply 11.4522 by 325.61, we get 3728.95, which is the exact same chi-squared value that we got two screens ago.\n",
    "\n",
    "So as sample size changes, the chi-squared value changes proportionally.\n",
    "\n",
    "Instructions\n",
    "Let's say our observed values are 107.71 Females, and 217.90 Males. Our expected values are 162.805 Females and 162.805 Males.\n",
    "Compute the difference in number of observed Females vs number of expected Females using the new formula. Assign the result to female_diff.\n",
    "Compute the difference in number of observed Males vs number of expected Males using the new formula. Assign the result to male_diff.\n",
    "Add male_diff and female_diff together and assign to the variable gender_chisq."
   ]
  },
  {
   "cell_type": "raw",
   "metadata": {},
   "source": [
    "7. Sampling distribution equality\n",
    "\n",
    "As sample sizes get larger, seeing large deviations from the expected probabilities gets less and less likely. For example, if you're flipping a coin 10 times, you wouldn't be surprised to see this:\n",
    "\n",
    "This is a fairly skewed result, but in a small sample size, random chance can create effects like this. It would be very surprising to see this after flipping a coin 1000 times, though:\n",
    "\n",
    "A result like this would probably make you check the coin to see if it's a trick coin or weighted improperly.\n",
    "\n",
    "The chi-squared value follows the same principle. Chi-squared values for the same sized effect increase as sample size increases, but the chance of getting a high chi-squared value decreases as the sample gets larger.\n",
    "\n",
    "These two effects offset each other, and a chi-squared sampling distribution constructed when sampling 200 items for each iteration will look identical to one sampling 1000 items.\n",
    "\n",
    "This enables us to easily compare any chi-squared value to a master sampling distribution to determine statistical significance, no matter what sample size the chi-squared value was created with.\n",
    "\n",
    "Instructions\n",
    "Inside a for loop that repeats 1000 times:\n",
    "Use the numpy.random.random function to generate 300 numbers between 0.0 and 1.0.\n",
    "Pass (300,) into the numpy.random.random function to get a vector with 300 elements.\n",
    "For each of the numbers, if it is less than .5, replace it with 0, otherwise replace it with 1.\n",
    "Count up how many times 0 occurs (Male frequency), and how many times 1 occurs (Female frequency).\n",
    "Use the expected frequencies from earlier to compute the chi-squared value.\n",
    "Compute male_diff by subtracting the expected Male count (150) from the observed Male count, squaring it, and dividing by the expected Male count.\n",
    "Compute female_diff by subtracting the expected Female count (150) from the observed Female count, squaring it, and dividing by the expected Female count.\n",
    "Add up male_diff and female_diff to get the chi-squared vlaue.\n",
    "Append the chi-squared value to chi_squared_values.\n",
    "Create a histogram with chi_squared_values using the plt.hist method.\n",
    "This plot should look identical to the one you generated earlier."
   ]
  },
  {
   "cell_type": "code",
   "execution_count": null,
   "metadata": {
    "collapsed": true
   },
   "outputs": [],
   "source": [
    "chi_squared_values = []"
   ]
  },
  {
   "cell_type": "raw",
   "metadata": {},
   "source": [
    "8. Degrees of freedom\n",
    "\n",
    "When we were computing the chi-squared value earlier, we were working with 2 values that could be vary, the number of Males and the number of Females. But actually, only 1 of the values could vary. Since we already know the total number of values, 32561, if we set one of the values, the other has to be the difference between 32561 and the value we set.\n",
    "\n",
    "The diagram from earlier might clarify this:\n",
    "\n",
    "If we set a count for Male or Female, we know what the other value has to be, because they both need to add up to 32561.\n",
    "\n",
    "A degree of freedom is the number of values that can vary without the other values being \"locked in\". In the case of our two categories, there is actually only one degree of freedom. Degrees of freedom are an important statistical concept that will come up repeatedly, both in this mission and after."
   ]
  },
  {
   "cell_type": "raw",
   "metadata": {},
   "source": [
    "9. Increasing degrees of freedom\n",
    "\n",
    "So far, we've only calculated chi-squared values for 2 categories and 1 degree of freedom. We can actually work with any number of categories, and any number of degrees of freedom. We can accomplish this using largely the same formula we've been using, but we will need to generate new sampling distributions for each number of degrees of freedom.\n",
    "\n",
    "If we look at the race column of the income data, the possible values are White, Black, Asian-Pac-Islander, Amer-Indian-Eskimo, and Other.\n",
    "\n",
    "We can get our expected proportions straight from the full 1990 US Census:\n",
    "\n",
    "White -- 80.3%\n",
    "Black -- 12.1%\n",
    "Asian-Pac-Islander -- 2.9%\n",
    "Amer-Indian-Eskimo -- .8%\n",
    "Other -- 3.9%\n",
    "Here's a table showing expected and actual values for our income dataset:\n",
    "\n",
    "It looks like there's a discrepancy between the White and Other counts, but let's dig in a bit more and calculate the chi-squared value.\n",
    "\n",
    "Instructions\n",
    "For each category (White, Black, Asian-Pac-Islander, Amer-Indian-Eskimo, and Other):\n",
    "compute the difference between the expected and observed counts,\n",
    "square the difference,\n",
    "divide by the expected value,\n",
    "append each result to a list,\n",
    "sum the values in the list and assign the result to race_chisq."
   ]
  },
  {
   "cell_type": "raw",
   "metadata": {},
   "source": [
    "10. Using SciPy\n",
    "\n",
    "Rather than constructing another chi-squared sampling distribution for 4 degrees of freedom, we can use a function from the SciPy library to do it more quickly.\n",
    "\n",
    "The scipy.stats.chisquare function [http://docs.scipy.org/doc/scipy/reference/generated/scipy.stats.mstats.chisquare.html] takes in an array of observed frequences, and an array of expected frequencies, and returns a tuple containing both the chi-squared value and the matching p-value that we can use to check for statistical significance.\n",
    "\n",
    "Here's a usage example:\n",
    "\n",
    "import numpy as np\n",
    "from scipy.stats import chisquare\n",
    "​\n",
    "observed = np.array([5, 10, 15])\n",
    "expected = np.array([7, 11, 12])\n",
    "chisquare_value, pvalue = chisquare(observed, expected)\n",
    "The scipy.stats.chisquare function returns a list, so we can assign each item in the list to a separate variable using 2 variable names separated with a comma, like you see above.\n",
    "\n",
    "Instructions\n",
    "Use the scipy.stats.chisquare function to calculate the p-value for the following table:\n",
    "\n",
    "          white    black   asian    amer indian    other\n",
    "observed   27816    3124    1039    311             271\n",
    "expected   26146.5   3939.9  944.3   260.5          1269.8"
   ]
  },
  {
   "cell_type": "code",
   "execution_count": null,
   "metadata": {
    "collapsed": true
   },
   "outputs": [],
   "source": [
    "from scipy.stats import chisquare\n",
    "import numpy as np"
   ]
  }
 ],
 "metadata": {
  "kernelspec": {
   "display_name": "Python 2",
   "language": "python",
   "name": "python2"
  },
  "language_info": {
   "codemirror_mode": {
    "name": "ipython",
    "version": 2
   },
   "file_extension": ".py",
   "mimetype": "text/x-python",
   "name": "python",
   "nbconvert_exporter": "python",
   "pygments_lexer": "ipython2",
   "version": "2.7.14"
  }
 },
 "nbformat": 4,
 "nbformat_minor": 2
}
