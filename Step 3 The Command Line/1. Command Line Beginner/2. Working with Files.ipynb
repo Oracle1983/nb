{
 "cells": [
  {
   "cell_type": "markdown",
   "metadata": {},
   "source": [
    "# Step 3 The Command Line - Working with Files"
   ]
  },
  {
   "cell_type": "raw",
   "metadata": {},
   "source": [
    "1. Making a File\n",
    "\n",
    "We explored directories and looked at files in the last mission. In this mission, we'll look at files more closely and learn how to interact with them on the command line.\n",
    "\n",
    "First, we need to create a file. While there are several ways to do this, we'll start with the touch command. This command will create an empty file with the name we give it. For example, typing touch file.txt will create a new file called file.txt in the current directory. We can open the file and edit it later on if we want.\n",
    "\n",
    "We can also use the touch command to change the date we last accessed a file if we need to. You can read more about the touch command on Wikipedia.\n",
    "\n",
    "Instructions\n",
    "Use the touch command to create a file named test.txt in the home directory for the user dq."
   ]
  },
  {
   "cell_type": "raw",
   "metadata": {},
   "source": [
    "2. Understanding Standard Streams\n",
    "\n",
    "Now that you've created the test.txt file, you can add text to it in a few different ways. The first is with the echo command, which simply prints whatever you tell it to as output. If you type echo \"Dataquest is awesome\", it will print Dataquest is awesome.\n",
    "\n",
    "It prints this text into a stream called standard output, or stdout. Every program writes to standard output, and receives input through standard input (stdin). Whenever a program experiences an error while running, it writes the error message to standard error (stderr). These standard streams are how programs show us output in the terminal, and how we enter input.\n",
    "\n",
    "stdout and stderr usually display on the monitor, while stdin is the input from the keyboard. In this case, echo is taking a string from stdin, and printing that string to stdout. By default, we see the message that it prints to stdout, because it shows on the monitor.\n",
    "\n",
    "The interfaces look something like this:\n",
    "\n",
    "stdout, stderr, and stdin exist because these standard streams allow the interfaces to be abstract. A program doesn't need to care whether it's getting input from a keyboard, file, or somewhere else. A program also doesn't need to care if it's outputting to the display, a file, or somewhere else. The standard streams allow us to hook various inputs and outputs up to programs without the programs having to concern themselves with what those inputs and outputs are.\n",
    "\n",
    "Instructions\n",
    "Type echo \"All bears should juggle\" to write All bears should juggle to stdout."
   ]
  },
  {
   "cell_type": "raw",
   "metadata": {},
   "source": [
    "3. Redirecting Standard Streams\n",
    "\n",
    "We can redirect standard streams in order to connect them to different sources. For example, we can connect stdout to a file. Afterwards, the program the stream is connected to will write to a file instead of the screen.\n",
    "\n",
    "To redirect, we use the greater than sign (>). For example, echo \"Dataquest is awesome\" > dataquest.txt will write Dataquest is awesome to stdout, then redirect stdout to the file dataquest.txt. The end result is that the stream will write Dataquest is awesome to the file dataquest.txt.\n",
    "\n",
    "Instructions\n",
    "Echo All bears should juggle into the test.txt file that we created earlier."
   ]
  },
  {
   "cell_type": "raw",
   "metadata": {},
   "source": [
    "4. Editing a File\n",
    "\n",
    "We can also edit a file directly from the terminal, without redirection. While there are a few programs that let us do this, the simplest is called nano. Nano is a command line text editor that lets us edit and save files directly from the terminal.\n",
    "\n",
    "To run nano, type nano, followed by the name of the file you want to edit. For example, nano test.txt will open the test.txt file for editing.\n",
    "\n",
    "Once a file is open, we can make whatever changes we want, then hit ctrl+x to quit. When we quit, the terminal will prompt us to save our work. Typing Y (for yes), then pressing Enter will save all changes.\n",
    "\n",
    "Instructions\n",
    "Open test.txt with nano, delete the text in the file, and save the file."
   ]
  },
  {
   "cell_type": "raw",
   "metadata": {},
   "source": [
    "5. Overview of File Permissions\n",
    "\n",
    "In Unix, every file and folder has permissions associated with it. These permissions have three scopes:\n",
    "\n",
    "owner - The user who created the file or folder\n",
    "group - Users in the owner's group (on Unix systems, an owner can place users in groups)\n",
    "everyone - All other users on the system who aren't the user or in the user's group\n",
    "Each scope can have any of three permissions (a scope can have multiple permissions at once):\n",
    "\n",
    "read - The ability to see what's in a file (if defined on a folder, the ability to see what files are in a folder)\n",
    "write - The ability to modify a file (if a folder, the ability to delete, modify, and rename files in the folder)\n",
    "execute - The ability to run a file (some files are executable, and need this permission to run)\n",
    "Each permission can be granted or denied to each scope.\n",
    "\n",
    "You can view the permissions on files and folders using ls -l. This command will display the permissions to the left of each file name. Here's an example of what the output looks like:\n",
    "\n",
    "~$ ls -l                                                                                   \n",
    "    total 4                                                                                    \n",
    "    -rw-r--r-- 1 dq dq 10 Nov 14 00:08 test.txt\n",
    "    \n",
    "In the example above, the permissions for the file test.txt are -rw-r--r--. There are 10 characters in that string.\n",
    "\n",
    "Breaking down the permissions string\n",
    "-          rw-     r--    r--\n",
    "Ignore     User    Group  Everyone\n",
    "\n",
    "We can ignore the first character for now. Starting at the second character, the permissions are split into three groups -- one for user, one for group, and one for everyone.\n",
    "\n",
    "The owner has the permissions rw-, which corresponds to characters 2 through 4 in the string. This means that the owner can read and write the file, but not execute it. The first character represents read permissions, the second represents write permissions, and the third execute permissions. The character for read is r, the character for write is w, and the character for execute is x. If a scope doesn't have a permission, it displays as a dash (-). If the permissions for the owner were rwx instead, the owner would be able to execute as well.\n",
    "\n",
    "The permissions for group are represented by characters 5 through 7 in the string, which corresponds to r--. This means that people in the owner's group can only read the file.\n",
    "\n",
    "The permissions for everyone are r--, meaning that anyone who has an account on this machine can read the file.\n",
    "\n",
    "Instructions\n",
    "Type ls -l to see the file permissions in the /home/dq directory."
   ]
  },
  {
   "cell_type": "raw",
   "metadata": {},
   "source": [
    "6. Octal Notation for File Permissions\n",
    "\n",
    "We just looked at file permissions that looked like this:\n",
    "\n",
    "-rw-r--r--\n",
    "\n",
    "We call this symbolic notation for permissions, because it expresses each permission as a symbol. The downside to symbolic notation is that if we want to change permissions, it takes a long time to type the changes out. We can do this more quickly by representing permissions with octal notation.\n",
    "\n",
    "Octal notation allows us to represent the permissions for all scopes with just 4 digits, rather than the 10 characters involved in symbolic notation. There are 8 possible combinations of the three permissions r, w, and x. We can express each combination, or scope, as a single digit in an octal (base 8) counting system.\n",
    "\n",
    "Here are the combinations and their corresponding digits:\n",
    "\n",
    "--- : No permissions; corresponds to 0\n",
    "--x : Execute only permission; corresponds to 1\n",
    "-w- : Write only permissions; corresponds to 2\n",
    "-wx : Write and execute permissions; corresponds to 3\n",
    "r-- : Read only permissions; corresponds to 4\n",
    "r-x : Read and execute permissions; corresponds to 5\n",
    "rw- : Read and write permissions; corresponds to 6\n",
    "rwx : Read, write, and execute permissions; corresponds to 7\n",
    "We can use this system to convert the permissions string -rw-r--r-- to 0644. Just like with symbolic notation, don't worry about the first digit in octal notation right this second -- we'll get to it later.\n",
    "\n",
    "We can pull up a file's octal permissions with the stat command. Typing stat test.txt will show us some information about the file test.txt, including the octal permissions.\n",
    "\n",
    "~$ stat test.txt                                                                           \n",
    "File: ‘test.txt’                                                                         \n",
    "Size: 10              Blocks: 8          IO Block: 4096   regular file                   \n",
    "Device: 60h/96d Inode: 2625        Links: 1                                                \n",
    "Access: (0644/-rw-r--r--)  Uid: ( 1000/      dq)   Gid: ( 1000/      dq)                   \n",
    "Access: 2015-11-14 00:08:58.299959914 +0000                                                \n",
    "Modify: 2015-11-14 00:08:57.930008711 +0000                                                \n",
    "Change: 2015-11-14 00:08:57.930008711 +0000                                                \n",
    "Birth: -\n",
    "The stat command returns quite a bit of detailed information about the file. Let's focus on the permissions for the moment; we can find them in the Access section.\n",
    "\n",
    "Instructions\n",
    "Type stat test.txt to see the file permissions for the test.txt file."
   ]
  },
  {
   "cell_type": "raw",
   "metadata": {},
   "source": [
    "7. Modifying File Permissions\n",
    "\n",
    "Now that we understand file permissions, we can modify them using the chmod command. If we pass in an octal permissions string and a file name, the command will modify the file to assign it the permissions we specified in the string.\n",
    "\n",
    "Typing chmod 0664 test.txt will give the owner read and write permissions, the group read and write permissions, and everyone else read-only permissions.\n",
    "\n",
    "Instructions\n",
    "Modify test.txt so that it has the following permissions:\n",
    "owner - Read, write, and execute\n",
    "group - Read and write\n",
    "everyone - No permissions\n",
    "Remember to add a 0 in front of the octal permissions string."
   ]
  },
  {
   "cell_type": "raw",
   "metadata": {},
   "source": [
    "8. Moving Files\n",
    "\n",
    "We can move files with the mv command. Typing mv test.txt /dq will move the test.txt file to the /dq folder. This assumes that test.txt is in the current directory.\n",
    "\n",
    "Instructions\n",
    "Create a directory named test in the home directory of dq.\n",
    "The full path should be /home/dq/test.\n",
    "Type mv test.txt test to move the test.txt file to the test folder."
   ]
  },
  {
   "cell_type": "raw",
   "metadata": {},
   "source": [
    "9. Copying Files\n",
    "\n",
    "nstead of moving a file, sometimes you'll want to make a copy, and then move that copy somewhere else. The cp command is useful for this. cp test.txt test2.txt will copy the test.txt file, and create a new file called test2.txt containing the contents of test.txt.\n",
    "\n",
    "Instructions\n",
    "Copy the file at /home/dq/test/test.txt to /home/dq/test/test2.txt."
   ]
  },
  {
   "cell_type": "raw",
   "metadata": {},
   "source": [
    "10. Overview of File Extensions\n",
    "\n",
    "Files typically have extensions like .txt and .csv that indicate the file type. Operating systems use them to determine the default program to open a file with. On Windows, for instance, a text editor will be the default program for files with the .txt extension.\n",
    "\n",
    "Rather than relying on extensions to determine file type, Unix-based operating systems like Linux use media types, which are also called MIME types. The MIME type application/pdf indicates that a file is a pdf, and the MIME type image/png indicates that a file is a png image. The first part of the MIME type string is for the type, such as application or image, and the second part is for the subtype, such as pdf or png.\n",
    "\n",
    "There are MIME types for every type of file. The MIME type is stored in the file metadata (which is stored as part of the file). As a result, Linux can determine a file's type and open it properly, even if it doesn't have an extension.\n",
    "\n",
    "We can rename files and remove extensions whenever we want. In fact, we'll often come across files that don't have extensions, such as test.\n",
    "\n",
    "Specifying a folder as the second argument to mv will preserve the file name, and move it into the folder. If we specify a full path instead, including the file name, it will move the original file to the new file name, essentially renaming it. For example, mv test.txt test2.txt will move the file test.txt to test2.txt. This will basically rename test.txt.\n",
    "\n",
    "Instructions\n",
    "Rename test.txt in the /home/dq/test folder to test_no_extension."
   ]
  },
  {
   "cell_type": "raw",
   "metadata": {},
   "source": [
    "11. Deleting a File\n",
    "We can delete a file with the rm command. Typing rm test.txt will remove the test.txt file, for example, provided that it's in the current directory.\n",
    "\n",
    "Instructions\n",
    "Remove the /home/dq/test/test2.txt file."
   ]
  },
  {
   "cell_type": "raw",
   "metadata": {},
   "source": [
    "12. Bypassing Permissions as the Root User\n",
    "\n",
    "Unix systems have a special user called the root user. We can run commands as the root user using sudo. Adding sudo to the beginning of any command will run that command as the root user.\n",
    "\n",
    "For example, typing sudo rm test.txt will switch to the root user, then delete the test.txt file as the root user. This is useful in situations where the current user doesn't have permission to delete the file. The root user has all permissions and access to all files by default.\n",
    "\n",
    "You'll typically need to enter a password to switch to the root user, which makes sense. For security reasons, we don't want anyone to be able to switch to the root user just by typing sudo whenever they want.\n",
    "\n",
    "In the Dataquest terminal, access to the root user is restricted for security reasons. Adding sudo to a command will result in an error.\n",
    "\n",
    "Instructions\n",
    "Try adding sudo to a command to see what happens."
   ]
  }
 ],
 "metadata": {
  "kernelspec": {
   "display_name": "Python 2",
   "language": "python",
   "name": "python2"
  },
  "language_info": {
   "codemirror_mode": {
    "name": "ipython",
    "version": 2
   },
   "file_extension": ".py",
   "mimetype": "text/x-python",
   "name": "python",
   "nbconvert_exporter": "python",
   "pygments_lexer": "ipython2",
   "version": "2.7.14"
  }
 },
 "nbformat": 4,
 "nbformat_minor": 2
}
