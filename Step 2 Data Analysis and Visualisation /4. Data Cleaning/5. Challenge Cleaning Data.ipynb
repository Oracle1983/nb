{
 "cells": [
  {
   "cell_type": "markdown",
   "metadata": {},
   "source": [
    "# Step 2 Data Analysis and Visualisation - Challenge Cleaning Data"
   ]
  },
  {
   "cell_type": "raw",
   "metadata": {},
   "source": [
    "2. Life and Death of the Avengers\n",
    "\n",
    "The Avengers are a well-known and widely-loved team of superheroes in the Marvel universe that were originally introduced in the 1960's comic book series. The recent Disney movies re-popularized them, as part of the new Marvel Cinematic Universe.\n",
    "\n",
    "Because the writers killed off and revived many of the superheroes, the team at FiveThirtyEight was curious to explore data from the Marvel Wikia site further. To learn how they collected their data, which is available in their GitHub repository [https://github.com/fivethirtyeight/data/tree/master/avengers], read the write-up they published on the FiveThirtyEight website."
   ]
  },
  {
   "cell_type": "raw",
   "metadata": {},
   "source": [
    "3. Exploring the Data\n",
    "\n",
    "While the FiveThirtyEight team did a wonderful job acquiring the data, it still has some inconsistencies. Your mission, if you choose to accept it, is to clean up their data set so it can be more useful for analysis in pandas. Let's read it into pandas as a dataframe and preview the first five rows to get a better sense of it."
   ]
  },
  {
   "cell_type": "code",
   "execution_count": null,
   "metadata": {
    "collapsed": true
   },
   "outputs": [],
   "source": [
    "import pandas as pd\n",
    "\n",
    "avengers = pd.read_csv(\"avengers.csv\")\n",
    "\n",
    "for col in avengers.columns:\n",
    "    print(\"{0}: {1}\".format(col, type(col)))\n",
    "    \n",
    "avengers.head(5)"
   ]
  },
  {
   "cell_type": "raw",
   "metadata": {},
   "source": [
    "4. Filtering Out Bad Data\n",
    "\n",
    "Because the data came from a crowdsourced community site, it could contain errors. If you plot a histogram of the values in the Year column, which describes the year Marvel introduced each Avenger, you'll immediately notice some oddities. For example, there are quite a few Avengers who look like they were introduced in 1900, which we know is a little fishy -- the Avengers weren't introduced in the comic series until the 1960's!\n",
    "\n",
    "This is obviously a mistake in the data. As a result, you should remove all of the Avengers introduced before 1960 from the dataframe.\n",
    "\n",
    "Instructions\n",
    "We only want to keep the Avengers who were introduced after 1960.\n",
    "Store only the rows describing Avengers added in 1960 or later in true_avengers."
   ]
  },
  {
   "cell_type": "code",
   "execution_count": null,
   "metadata": {
    "collapsed": true
   },
   "outputs": [],
   "source": [
    "import matplotlib.pyplot as plt\n",
    "true_avengers = pd.DataFrame()\n",
    "true_avengers = avengers[avengers['Year'] > 1960]\n",
    "\n",
    "avengers['Year'].hist()\n",
    "true_avengers['Year'].hist()"
   ]
  },
  {
   "cell_type": "raw",
   "metadata": {},
   "source": [
    "5. Consolidating Deaths\n",
    "\n",
    "We're interested in the total number of deaths each character experienced, so we'd like to have a single field containing that information. Right now, there are five fields (Death1 to Death5), each of which contains a binary value representing whether a superhero experienced that death or not. For example, a superhero could experience Death1, then Death2, and so on until the writers decided not to bring the character back to life.\n",
    "\n",
    "We'd like to combine that information in a single field so we can perform numerical analysis on it more easily.\n",
    "\n",
    "Instructions\n",
    "Create a new column, Deaths, that contains the number of times each superhero died. The possible values for each death field are YES, NO, and NaN for missing data.\n",
    "Keep all of the original columns (including Death1 to Death5) and update true_avengers with the new Deaths column."
   ]
  },
  {
   "cell_type": "code",
   "execution_count": null,
   "metadata": {
    "collapsed": true
   },
   "outputs": [],
   "source": [
    "def total_deaths(row):    \n",
    "    counter = 0 \n",
    "    col_death = ['Death1', 'Death2', 'Death3', 'Death4', 'Death5']\n",
    "\n",
    "    for col in col_death:\n",
    "        death = row[col]\n",
    "        if pd.isnull(death) or death == 'NO':\n",
    "            continue\n",
    "        elif death == 'YES':\n",
    "            counter += 1\n",
    "    return counter\n",
    "         \n",
    "true_avengers['Deaths'] = true_avengers.apply(total_deaths, axis=1)  "
   ]
  },
  {
   "cell_type": "raw",
   "metadata": {},
   "source": [
    "6. Verifying Years Since Joining\n",
    "\n",
    "For our final task, we want to verify that the Years since joining field accurately reflects the Year column. For example, if an Avenger was introduced in the Year 1960, is the Years since joining value for that Avenger 55?\n",
    "\n",
    "Instructions\n",
    "Calculate the number of rows where Years since joining is accurate.\n",
    "Because this challenge was created in 2015, use that as the reference year.\n",
    "We want to know for how many rows Years since joining was correctly calculated as the Year value subtracted from 2015.\n",
    "Assign the integer value describing the number of rows with a correct value for Years since joining to joined_accuracy_count."
   ]
  },
  {
   "cell_type": "code",
   "execution_count": null,
   "metadata": {
    "collapsed": true
   },
   "outputs": [],
   "source": [
    "joined_accuracy_count  = int()\n",
    "\n",
    "correct_joined_years = true_avengers[true_avengers['Years since joining'] == (2015 - true_avengers['Year'])]\n",
    "joined_accuracy_count = len(correct_joined_years)"
   ]
  }
 ],
 "metadata": {
  "kernelspec": {
   "display_name": "Python 2",
   "language": "python",
   "name": "python2"
  },
  "language_info": {
   "codemirror_mode": {
    "name": "ipython",
    "version": 2
   },
   "file_extension": ".py",
   "mimetype": "text/x-python",
   "name": "python",
   "nbconvert_exporter": "python",
   "pygments_lexer": "ipython2",
   "version": "2.7.14"
  }
 },
 "nbformat": 4,
 "nbformat_minor": 2
}
