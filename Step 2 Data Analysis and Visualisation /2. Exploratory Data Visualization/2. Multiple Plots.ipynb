{
 "cells": [
  {
   "cell_type": "markdown",
   "metadata": {},
   "source": [
    "# Step 2 Data Analysis and Visualisation - Multiple plots"
   ]
  },
  {
   "cell_type": "raw",
   "metadata": {},
   "source": [
    "1. Recap\n",
    "\n",
    "In the previous mission, we explored how a visual representation of data can help us reach observations about data more quickly than a table representation of the same data. We learned how to work with the pyplot module, which provides a high-level interface to the matplotlib library, to create and customize a line chart of unemployment data. To look for potential seasonality, we started by creating a line chart of unemployment rates from 1948.\n",
    "\n",
    "In this mission, we'll dive a bit deeper into matplotlib to learn how to create multiple line charts to help us compare monthly unemployment trends across time. The unemployment dataset contains 2 columns:\n",
    "\n",
    "DATE: date, always the first of the month. Examples:\n",
    "1948-01-01: January 1, 1948.\n",
    "1948-02-01: February 1, 1948.\n",
    "1948-03-01: March 1, 1948.\n",
    "1948-12-01: December 1, 1948.\n",
    "VALUE: the corresponding unemployment rate, in percent.\n",
    "Here's what the first 12 rows look like, which reflect the unemployment rate from January 1948 to December 1948:\n",
    "\n",
    "DATE\tVALUE\n",
    "1948-01-01\t3.4\n",
    "1948-02-01\t3.8\n",
    "1948-03-01\t4.0\n",
    "1948-04-01\t3.9\n",
    "1948-05-01\t3.5\n",
    "1948-06-01\t3.6\n",
    "1948-07-01\t3.6\n",
    "1948-08-01\t3.9\n",
    "1948-09-01\t3.8\n",
    "1948-10-01\t3.7\n",
    "1948-11-01\t3.8\n",
    "1948-12-01\t4.0\n",
    "Let's practice what you learned in the previous mission.\n",
    "\n",
    "Instructions\n",
    "Read unrate.csv into a DataFrame and assign to unrate.\n",
    "Use Pandas.to_datetime [http://pandas.pydata.org/pandas-docs/stable/generated/pandas.to_datetime.html] to convert the DATE column into a Series of datetime values.\n",
    "Generate a line chart that visualizes the unemployment rates from 1948:\n",
    "x-values should be the first 12 values in the DATE column\n",
    "y-values should be the first 12 values in the VALUE column\n",
    "Use pyplot.xticks() to rotate the x-axis tick labels by 90 degrees.\n",
    "Use pyplot.xlabel() to set the x-axis label to \"Month\".\n",
    "Use pyplot.ylabel() to set the y-axis label to \"Unemployment Rate\".\n",
    "Use pyplot.title() to set the plot title to \"Monthly Unemployment Trends, 1948\".\n",
    "Display the plot."
   ]
  },
  {
   "cell_type": "code",
   "execution_count": null,
   "metadata": {
    "collapsed": true
   },
   "outputs": [],
   "source": [
    "import pandas as pd\n",
    "import matplotlib.pyplot as plt\n",
    "\n",
    "unrate = pd.read_csv('unrate.csv')\n",
    "unrate['DATE'] = pd.to_datetime(unrate['DATE'])\n",
    "x = unrate['DATE'].iloc[:12]\n",
    "y = unrate['VALUE'].iloc[:12]\n",
    "\n",
    "plt.plot(x,y)\n",
    "plt.xticks(rotation=90)\n",
    "plt.xlabel(\"Month\")\n",
    "plt.ylabel('Unemployment Rate')\n",
    "plt.title('Monthly Unemployment Trends, 1948')\n",
    "plt.show()"
   ]
  },
  {
   "cell_type": "raw",
   "metadata": {},
   "source": [
    "2. Matplotlib Classes\n",
    "\n",
    "When we were working with a single plot, pyplot was storing and updating the state of that single plot. We could tweak the plot just using the functions in the pyplot module. When we want to work with multiple plots, however, we need to be more explicit about which plot we're making changes to. This means we need to understand the matplotlib classes that pyplot uses internally to maintain state so we can interact with them directly. Let's first start by understanding what pyplot was automatically storing under the hood when we create a single plot:\n",
    "\n",
    "a container for all plots was created (returned as a Figure object)\n",
    "a container for the plot was positioned on a grid (the plot returned as an Axes object)\n",
    "visual symbols were added to the plot (using the Axes methods)\n",
    "A figure acts as a container for all of our plots and has methods for customizing the appearance and behavior for the plots within that container. Some examples include changing the overall width and height of the plotting area and the spacing between plots.\n",
    "\n",
    "We can manually create a figure by calling pyplot.figure() [https://matplotlib.org/api/pyplot_api.html#matplotlib.pyplot.figure]:\n",
    "\n",
    "fig = plt.figure()\n",
    "Instead of only calling the pyplot function, we assigned its return value to a variable (fig). After a figure is created, an axes for a single plot containing no data is created within the context of the figure. When rendered without data, the plot will resemble the empty plot from the previous mission. The Axes object acts as its own container for the various components of the plot, such as:\n",
    "\n",
    "values on the x-axis and y-axis\n",
    "ticks on the x-axis and y-axis\n",
    "all visual symbols, such as:\n",
    "markers\n",
    "lines\n",
    "gridlines\n",
    "While plots are represented using instances of the Axes class, they're also often referred to as subplots in matplotlib. To add a new subplot to an existing figure, use Figure.add_subplot. This will return a new Axes object, which needs to be assigned to a variable:\n",
    "\n",
    "axes_obj = fig.add_subplot(nrows, ncols, plot_number)\n",
    "If we want the figure to contain 2 plots, one above the other, we need to write:\n",
    "\n",
    "ax1 = fig.add_subplot(2,1,1)\n",
    "ax2 = fig.add_subplot(2,1,2)\n",
    "This will create a grid, 2 rows by 1 column, of plots. Once we're done adding subplots to the figure, we display everything using plt.show():\n",
    "\n",
    "import matplotlib.pyplot as plt\n",
    "fig = plt.figure()\n",
    "ax1 = fig.add_subplot(2,1,1)\n",
    "ax2 = fig.add_subplot(2,1,2)\n",
    "plt.show()\n",
    "Let's create a figure, add subplots to it, and display it.\n",
    "\n",
    "Instructions\n",
    "Use plt.figure() to create a figure and assign to fig.\n",
    "Use Figure.add_subplot() to create two subplots above and below each other\n",
    "Assign the top Axes object to ax1.\n",
    "Assign the bottom Axes object to ax2.\n",
    "Use plt.show() to display the resulting plot."
   ]
  },
  {
   "cell_type": "code",
   "execution_count": null,
   "metadata": {
    "collapsed": true
   },
   "outputs": [],
   "source": [
    "import matplotlib.pyplot as plt\n",
    "\n",
    "fig = plt.figure()\n",
    "ax1 = fig.add_subplot(2,1,1)\n",
    "ax2 = fig.add_subplot(2,1,2)\n",
    "plt.show()"
   ]
  },
  {
   "cell_type": "raw",
   "metadata": {},
   "source": [
    "3. Grid Positioning\n",
    "\n",
    "For each subplot, matplotlib generated a coordinate grid that was similar to the one we generated in the last mission using the plot() function:\n",
    "\n",
    "the x-axis and y-axis values ranging from 0.0 to 1.0\n",
    "no gridlines\n",
    "no data\n",
    "The main difference is that this plot ranged from 0.0 to 1.0 instead of from -0.06 to 0.06, which is a quirk suggested by a difference in default properties.\n",
    "\n",
    "Now that we have a basic understanding of the important matplotlib classes, we can create multiple plots to compare monthly unemployment trends. If you recall, we need to specify the position of each subplot on a grid. Here's a diagram that demonstrates how a 2 by 2 subplot layout would look like:\n",
    "\n",
    "Multiple Subplots\n",
    "https://s3.amazonaws.com/dq-content/multiple_subplots.png\n",
    "https://s3.amazonaws.com/dq-content/multiple_subplots.png\n",
    "\n",
    "When the first subplot is created, matplotlib knows to create a grid with 2 rows and 2 columns. As we add each subplot, we specify the plot number we want returned and the corresponding Axes object is created and returned. In matplotlib, the plot number starts at the top left position in the grid (left-most plot on the top row), moves through the remaining positions in that row, then jumps to the left-most plot in the second row, and so forth.\n",
    "\n",
    "Subplot Grid\n",
    "https://s3.amazonaws.com/dq-content/subplot_grid.png\n",
    "\n",
    "If we created a grid of 4 subplots but don't create a subplot for each position in the grid, areas without axes are left blank:\n",
    "https://s3.amazonaws.com/dq-content/multiple_subplots_missing_one_plot.png\n",
    "https://s3.amazonaws.com/dq-content/multiple_subplots_missing_one_plot.png\n",
    "\n",
    "Instructions\n",
    "Use age_is_null to create a vector that only contains values from the \"age\" column that aren't NaN.\n",
    "Calculate the mean of the new vector, and assign the result to correct_mean_age."
   ]
  },
  {
   "cell_type": "raw",
   "metadata": {},
   "source": [
    "4. Adding Data\n",
    "\n",
    "To generate a line chart within an Axes object, we need to call Axes.plot() [https://matplotlib.org/api/axes_api.html#matplotlib.axes.Axes.plot] and pass in the data you want plotted:\n",
    "\n",
    "x_values = [0.0, 0.5, 1.0]\n",
    "y_values = [10, 20, 40]\n",
    "ax1.plot(x_values, y_values)\n",
    "Like pyplot.plot(), the Axes.plot() will accept any iterable object for these parameters, including NumPy arrays and pandas Series objects. It will also use generate a line chart by default from the values passed in. Each time we want to generate a line chart, we need to call Axes.plot() and pass in the data we want to use in that plot.\n",
    "\n",
    "Instructions\n",
    "Create 2 line subplots in a 2 row by 1 column layout:\n",
    "In the top subplot, plot the data from 1948.\n",
    "For the x-axis, use the first 12 values in the DATE column.\n",
    "For the y-axis, use the first 12 values in the VALUE column.\n",
    "In the bottom subplot, plot the data from 1949.\n",
    "For the x-axis, use the values from index 12 to 24 in the DATE column.\n",
    "For the y-axis, use the values from index 12 to 24 in the VALUE column.\n",
    "Use plt.show() to display all the plots."
   ]
  },
  {
   "cell_type": "code",
   "execution_count": null,
   "metadata": {
    "collapsed": true
   },
   "outputs": [],
   "source": [
    "import pandas as pd\n",
    "import matplotlib.pyplot as plt\n",
    "\n",
    "unrate = pd.read_csv('unrate.csv')\n",
    "unrate['DATE'] = pd.to_datetime(unrate['DATE'])\n",
    "\n",
    "fig = plt.figure()\n",
    "ax1 = fig.add_subplot(2,1,1)\n",
    "ax2 = fig.add_subplot(2,1,2)\n",
    "\n",
    "x_1 = unrate['DATE'].iloc[:12]\n",
    "y_1 = unrate['VALUE'].iloc[:12]\n",
    "x_2 = unrate['DATE'].iloc[12:24]\n",
    "y_2 = unrate['VALUE'].iloc[12:24]\n",
    "\n",
    "ax1.plot(x_1,y_1)\n",
    "ax2.plot(x_2,y_2)\n",
    "plt.show()"
   ]
  },
  {
   "cell_type": "raw",
   "metadata": {},
   "source": [
    "6. Formatting and Spacing\n",
    "\n",
    "One issue with the 2 plots is that the x-axis ticks labels are unreadable. The other issue is that the plots are squeezed together vertically and hard to interpret. Even though now we generated 2 line charts, the total plotting area for the figure remained the same:\n",
    "\n",
    "Two Plots\n",
    "https://s3.amazonaws.com/dq-content/plotting_area_stays_same.png\n",
    "\n",
    "This is because matplotlib used the default dimensions for the total plotting area instead of resizing it to accommodate the plots. If we want to expand the plotting area, we have to specify this ourselves when we create the figure. To tweak the dimensions of the plotting area, we need to use the figsize parameter when we call plt.figure():\n",
    "\n",
    "This parameter takes in a tuple of floats:\n",
    "\n",
    "fig = plt.figure(figsize=(width, height))\n",
    "The unit for both width and height values is inches. The dpi parameter, or dots per inch, and the figsize parameter determine how much space on your display a plot takes up. By increasing the width and the height of the plotting area, we can address both issues.\n",
    "\n",
    "Instructions\n",
    "For the plot we generated in the last screen, set the width of the plotting area to 12 inches and the height to 5 inches."
   ]
  },
  {
   "cell_type": "code",
   "execution_count": null,
   "metadata": {
    "collapsed": true
   },
   "outputs": [],
   "source": [
    "fig = plt.figure(figsize=(12,8))\n",
    "ax1 = fig.add_subplot(2,1,1)\n",
    "ax2 = fig.add_subplot(2,1,2)\n",
    "ax1.plot(unrate[0:12]['DATE'], unrate[0:12]['VALUE'])\n",
    "ax1.set_title('Monthly Unemployment Rate, 1948')\n",
    "ax2.plot(unrate[12:24]['DATE'], unrate[12:24]['VALUE'])\n",
    "ax2.set_title('Monthly Unemployment Rate, 1949')\n",
    "plt.show()"
   ]
  },
  {
   "cell_type": "raw",
   "metadata": {},
   "source": [
    "6. Comparing Across More Years\n",
    "\n",
    "Instead of having to rotate the x-axis tick labels, we were able to horizontally extend the entire plotting area to make the labels more readable. Because the goal is to be able to look for any visual similarities between the lines in the plots, we want the space between the 2 plots to be as small as possible. If we had rotated the labels by 90 degrees instead, like we did in the last mission, we'd need to increase the spacing between the plots to keep them from overlapping. Expanding the plotting area horizontally improved the readability of the x-axis tick labels and minimized the amount of space between the 2 line charts.\n",
    "\n",
    "If you recall, we generated these 2 line charts because we were interested in looking for any seasonality in the monthly unemployment trends. If you spend some time visually analyzing both line charts, you'll discover that there's no changes in unemployment trends that are occurring in the same month in both years.\n",
    "\n",
    "Let's visualize data from a few more years to see if we find any evidence for seasonality between those years.\n",
    "\n",
    "Instructions\n",
    "Set the width of the plotting area to 12 inches and the height to 12 inches.\n",
    "Generate a grid with 5 rows and 1 column and plot data from the individual years. Start with 1948 in the top subplot and end with 1952 in the bottom subplot.\n",
    "Use plt.show() to display the plots."
   ]
  },
  {
   "cell_type": "code",
   "execution_count": null,
   "metadata": {
    "collapsed": true
   },
   "outputs": [],
   "source": [
    "fig = plt.figure(figsize=(12,12))\n",
    "\n",
    "ax1 = fig.add_subplot(5,1,1)\n",
    "ax2 = fig.add_subplot(5,1,2)\n",
    "ax3 = fig.add_subplot(5,1,3)\n",
    "ax4 = fig.add_subplot(5,1,4)\n",
    "ax5 = fig.add_subplot(5,1,5)\n",
    "\n",
    "ax1.plot(unrate[0:12]['DATE'], unrate[0:12]['VALUE'])\n",
    "#ax1.set_title('Monthly Unemployment Rate, 1948')\n",
    "ax2.plot(unrate[12:24]['DATE'], unrate[12:24]['VALUE'])\n",
    "#ax2.set_title('Monthly Unemployment Rate, 1949')\n",
    "ax3.plot(unrate[24:36]['DATE'], unrate[24:36]['VALUE'])\n",
    "#ax3.set_title('Monthly Unemployment Rate, 1950')\n",
    "ax4.plot(unrate[36:48]['DATE'], unrate[36:48]['VALUE'])\n",
    "#ax4.set_title('Monthly Unemployment Rate, 1951')\n",
    "ax5.plot(unrate[48:60]['DATE'], unrate[48:60]['VALUE'])\n",
    "#ax5.set_title('Monthly Unemployment Rate, 1952')\n",
    "\n",
    "plt.show()"
   ]
  },
  {
   "cell_type": "raw",
   "metadata": {},
   "source": [
    "7. Overlaying Line Charts\n",
    "\n",
    "By adding more line charts, we can look across more years for seasonal trends. This comes at a cost, unfortunately. We now have to visually scan over more space, which is a limitation that we experienced when scanning the table representation of the same data. If you recall, one of the limitations of the table representation we discussed in the previous mission was the amount of time we'd have to spend scanning the table as the number of rows increased significantly.\n",
    "\n",
    "We can handle the visual overhead each additional plot adds by overlaying the line charts in a single subplot. If we remove the year from the x-axis and just keep the month values, we can use the same x-axis values to plot all of the lines. First, we'll explore how to extract just the month values from the DATE column, then we'll dive into generating multiple plots on the same coordinate grid.\n",
    "\n",
    "To extract the month values from the DATE column and assign them to a new column, we can use the pandas.Series.dt accessor [http://pandas.pydata.org/pandas-docs/stable/basics.html#basics-dt-accessors]:\n",
    "\n",
    "unrate['MONTH'] = unrate['DATE'].dt.month\n",
    "Calling pandas.Series.dt.month returns a Series containing the integer values for each month (e.g. 1 for January, 2 for February, etc.). Under the hood, pandas applies the datetime.date [https://docs.python.org/3/library/datetime.html#datetime.date.month] function over each datetime value in the DATE column, which returns the integer month value. Let's now move onto generating multiple line charts in the same subplot.\n",
    "\n",
    "In the last mission, we called pyplot.plot() to generate a single line chart. Under the hood, matplotlib created a figure and a single subplot for this line chart. If we call pyplot.plot() multiple times, matplotlib will generate the line charts on the single subplot.\n",
    "\n",
    "plt.plot(unrate[0:12]['MONTH'], unrate[0:12]['VALUE'])\n",
    "plt.plot(unrate[12:24]['MONTH'], unrate[12:24]['VALUE'])\n",
    "If we want to set the dimensions for the plotting area, we can create the figure ourselves first then plot the data. This is because matplotlib first checks if a figure already exists before plotting data. It will only create one if we didn't create a figure.\n",
    "\n",
    "fig = plt.figure(figsize=(6,6))\n",
    "plt.plot(unrate[0:12]['MONTH'], unrate[0:12]['VALUE'])\n",
    "plt.plot(unrate[12:24]['MONTH'], unrate[12:24]['VALUE'])\n",
    "By default, matplotlib will select a different color for each line. To specify the color ourselves, use the c parameter when calling plot():\n",
    "\n",
    "plt.plot(unrate[0:12]['MONTH'], unrate[0:12]['VALUE'], c='red')\n",
    "You can read about the different ways we can specify colors in matplotlib here.\n",
    "\n",
    "Instructions\n",
    "Set the plotting area to a width of 6 inches and a height of 3 inches.\n",
    "Generate 2 line charts in the base subplot, using the MONTH column for the x-axis instead of the DATE column:\n",
    "One line chart using data from 1948, with the line color set to \"red\".\n",
    "One line chart using data from 1949, with the line color set to \"blue\".\n",
    "Use plt.show() to display the plots."
   ]
  },
  {
   "cell_type": "code",
   "execution_count": null,
   "metadata": {
    "collapsed": true
   },
   "outputs": [],
   "source": [
    "unrate['MONTH'] = unrate['DATE'].dt.month\n",
    "\n",
    "fig = plt.figure(figsize=(6,3))\n",
    "\n",
    "plt.plot(unrate[0:12]['MONTH'], unrate[0:12]['VALUE'], c='red')\n",
    "plt.plot(unrate[12:24]['MONTH'], unrate[12:24]['VALUE'], c='blue')\n",
    "plt.show()"
   ]
  },
  {
   "cell_type": "raw",
   "metadata": {},
   "source": [
    "8. Adding More Lines\n",
    "\n",
    "Let's visualize 5 years worth of unemployment rates on the same subplot.\n",
    "\n",
    "Instructions\n",
    "Set the plotting area to a width of 10 inches and a height of 6 inches.\n",
    "Generate the following plots in the base subplot:\n",
    "1948: set the line color to \"red\"\n",
    "1949: set the line color to \"blue\"\n",
    "1950: set the line color to \"green\"\n",
    "1951: set the line color to \"orange\"\n",
    "1952: set the line color to \"black\"\n",
    "Use plt.show() to display the plots."
   ]
  },
  {
   "cell_type": "code",
   "execution_count": null,
   "metadata": {
    "collapsed": true
   },
   "outputs": [],
   "source": [
    "unrate['MONTH'] = unrate['DATE'].dt.month\n",
    "\n",
    "fig = plt.figure(figsize=(10,6))\n",
    "\n",
    "plt.plot(unrate[0:12]['MONTH'], unrate[0:12]['VALUE'], c='red')\n",
    "plt.plot(unrate[12:24]['MONTH'], unrate[12:24]['VALUE'], c='blue')\n",
    "plt.plot(unrate[24:36]['MONTH'], unrate[24:36]['VALUE'], c='green')\n",
    "plt.plot(unrate[36:48]['MONTH'], unrate[36:48]['VALUE'], c='orange')\n",
    "plt.plot(unrate[48:60]['MONTH'], unrate[48:60]['VALUE'], c='black')\n",
    "plt.show()"
   ]
  },
  {
   "cell_type": "raw",
   "metadata": {},
   "source": [
    "9. Adding a Legend\n",
    "\n",
    "How colorful! By plotting all of the lines in one coordinate grid, we got a different perspective on the data. The main thing that sticks out is how the blue and green lines span a larger range of y values (4% to 8% for blue and 4% to 7% for green) while the 3 plots below them mostly range only between 3% and 4%. You can tell from the last sentence that we don't know which line corresponds to which year, because the x-axis now only reflects the month values.\n",
    "\n",
    "To help remind us which year each line corresponds to, we can add a legend that links each color to the year the line is representing. Here's what a legend for the lines in the last screen could look like:\n",
    "\n",
    "Legend\n",
    "https://s3.amazonaws.com/dq-content/legend.png\n",
    "\n",
    "When we generate each line chart, we need to specify the text label we want each color linked to. The pyplot.plot() function contains a label parameter, which we use to set the year value:\n",
    "\n",
    "plt.plot(unrate[0:12]['MONTH'], unrate[0:12]['VALUE'], c='red', label='1948')\n",
    "plt.plot(unrate[12:24]['MONTH'], unrate[12:24]['VALUE'], c='blue', label='1949')\n",
    "We can create the legend using pyplot.legend [https://matplotlib.org/api/pyplot_api.html#matplotlib.pyplot.legend] and specify its location using the loc parameter:\n",
    "\n",
    "plt.legend(loc='upper left')\n",
    "If we're instead working with multiple subplots, we can create a legend for each subplot by mirroring the steps for each subplot. When we use plt.plot() and plt.legend(), the Axes.plot() and Axes.legend() [https://matplotlib.org/api/axes_api.html#matplotlib.axes.Axes.legend] methods are called under the hood and parameters passed to the calls. When we need to create a legend for each subplot, we can use Axes.legend() instead.\n",
    "\n",
    "Let's now add a legend for the plot we generated in the last screen.\n",
    "\n",
    "Instructions\n",
    "Modify the code from the last screen that overlaid 5 plots to include a legend. Use the year value for each line chart as the label.\n",
    "E.g. the plot of 1948 data that uses \"red\" for the line color should be labeled \"1948\" in the legend.\n",
    "Place the legend in the \"upper left\" corner of the plot.\n",
    "Display the plot using plt.show().                                     "
   ]
  },
  {
   "cell_type": "code",
   "execution_count": null,
   "metadata": {
    "collapsed": true
   },
   "outputs": [],
   "source": [
    "fig = plt.figure(figsize=(10,6))\n",
    "colors = ['red', 'blue', 'green', 'orange', 'black']\n",
    "labels = ['1948', '1949', '1950', '1951', '1952']\n",
    "for i in range(5):\n",
    "    start_index = i*12\n",
    "    end_index = (i+1)*12\n",
    "    subset = unrate[start_index:end_index]\n",
    "    plt.plot(subset['MONTH'], subset['VALUE'], c=colors[i], label=labels[i])\n",
    "\n",
    "plt.legend(loc='upper left')\n",
    "plt.show()"
   ]
  },
  {
   "cell_type": "raw",
   "metadata": {},
   "source": [
    "10. Final Tweaks\n",
    "Instead of referring back to the code each time we want to confirm what subset each line corresponds to, we can focus our gaze on the plotting area and use the legend. At the moment, the legend unfortunately covers part of the green line (which represents data from 1950). Since the legend isn't critical to the plot, we should move this outside of the coordinate grid. We'll explore how to do so in a later course because it requires a better understanding of some design principles as well as matplotlib.\n",
    "\n",
    "Before we wrap up this mission, let's enhance the visualization by adding a title and labels for both axes. To set the title, we use pyplot.title() and pass in a string value:\n",
    "\n",
    "plt.title(\"Monthly Unemployment Trends, 1948-1952\")\n",
    "To set the x-axis and y-axis labels, we use pyplot.xlabel() and pyplot.ylabel(). Both of these methods accept string values.\n",
    "\n",
    "Instructions\n",
    "Modify the code from the last screen:\n",
    "Set the title to \"Monthly Unemployment Trends, 1948-1952\".\n",
    "Set the x-axis label to \"Month, Integer\".\n",
    "Set the y-axis label to \"Unemployment Rate, Percent\"."
   ]
  },
  {
   "cell_type": "code",
   "execution_count": null,
   "metadata": {
    "collapsed": true
   },
   "outputs": [],
   "source": [
    "fig = plt.figure(figsize=(10,6))\n",
    "colors = ['red', 'blue', 'green', 'orange', 'black']\n",
    "for i in range(5):\n",
    "    start_index = i*12\n",
    "    end_index = (i+1)*12\n",
    "    subset = unrate[start_index:end_index]\n",
    "    label = str(1948 + i)\n",
    "    plt.plot(subset['MONTH'], subset['VALUE'], c=colors[i], label=label)\n",
    "plt.legend(loc='upper left')\n",
    "plt.title('Monthly Unemployment Trends, 1948-1952')\n",
    "plt.xlabel('Month, Integer')\n",
    "plt.ylabel('Unemployment Rate, Percent')\n",
    "plt.show()"
   ]
  }
 ],
 "metadata": {
  "kernelspec": {
   "display_name": "Python 2",
   "language": "python",
   "name": "python2"
  },
  "language_info": {
   "codemirror_mode": {
    "name": "ipython",
    "version": 2
   },
   "file_extension": ".py",
   "mimetype": "text/x-python",
   "name": "python",
   "nbconvert_exporter": "python",
   "pygments_lexer": "ipython2",
   "version": "2.7.14"
  }
 },
 "nbformat": 4,
 "nbformat_minor": 2
}
