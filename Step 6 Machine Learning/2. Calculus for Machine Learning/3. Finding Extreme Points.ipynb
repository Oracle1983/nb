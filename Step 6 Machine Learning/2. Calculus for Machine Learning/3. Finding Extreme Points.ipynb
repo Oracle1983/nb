{
 "cells": [
  {
   "cell_type": "markdown",
   "metadata": {},
   "source": [
    "# Step 6 Machine Learning - Finding Extreme Points"
   ]
  },
  {
   "cell_type": "raw",
   "metadata": {},
   "source": [
    "1. Recap\n",
    "\n",
    "In the last mission, we learned how to use limits to calculate the point a function approaches when the input value approaches a specific value. We applied this technique to calculate the slope of the tangent line at a specific point on our nonlinear function: \n",
    ". If you recall from the first mission in this course, we're interested in determining the highest point on this curve.\n",
    "\n",
    "If you've ever hiked a mountain before, you'll be familiar with how the trail slopes up until you reach the peak. Once you're at the peak, however, all of the paths back down slope downwards. Understanding how the slope varies throughout a curve provides a useful lens for determining the maximum point on a curve.\n",
    "\n",
    "We'll start by building some visual intuition for how a function's slope and it's maximum point are related. In the widget below, we've generated two plots. As you vary \n",
    ", the plot on the left visualizes how the tangent line for the curve changes while the plot on the right visualizes how the slope of this tangent line changes."
   ]
  },
  {
   "cell_type": "raw",
   "metadata": {},
   "source": [
    "2. Introduction To Derivatives\n",
    "\n",
    "When \n",
    " is less than \n",
    ", the slope is positive. As \n",
    "approaches \n",
    " from the left side, the slope decreases and approaches \n",
    ". At \n",
    ", the slope of the tangent line is exactly \n",
    ". When we increased \n",
    " past \n",
    " the slope of the tangent line becomes increasingly negative. The highest point on our curve acts as a kind of transition point from positive slope to negative slope. We'll discuss this in further detail later in this mission.\n",
    "\n",
    "By plotting the slopes at many different \n",
    " values (the plot on the right from the last screen), we can tell that they follow a straight line. This line can be described as its own function, and is known as the derivative. A function's derivative can tell us the slope of the tangent line for any \n",
    " value along the function.\n",
    "\n",
    "So far, we've been solving for the slope at specific points by plugging in the specific \n",
    " value into the slope equation as expressed as a limit. To find the general function that describes the slope at any point, we need to solve the limit using the original variable instead of replacing with a specific \n",
    " value.\n",
    "\n",
    "Let's first start by rewriting the slope equation to the more common form. Instead of using \n",
    " and \n",
    " in the slope equation, let's use \n",
    " and \n",
    ". This version of the slope equation is how most textbooks and resources refer to slope:\n",
    "\n",
    "\n",
    "In this form, \n",
    " represents the distance between the 2 points: \n",
    " and \n",
    ". The slope is the value the limit approaches as \n",
    " approaches \n",
    ". Use the following widget to become familiar with this form of slope. In the next screen, we'll dive into finding the derivative function."
   ]
  },
  {
   "cell_type": "raw",
   "metadata": {},
   "source": [
    "3. Differentiation\n",
    "\n",
    "The process of finding a function's derivative is known as differentiation. Instead of selecting a specific \n",
    "value, we'll leave \n",
    " where it is and expand the equation to solve for the derivative. Since \n",
    ", this works out to:\n",
    "\n",
    "\n",
    "If we continue expanding the equation to individual terms only, we get:\n",
    "\n",
    "\n",
    "After cancelling out opposing terms, we get the following equation:\n",
    "\n",
    "\n",
    "Once we factor our the \n",
    " that all of the terms in the numerator share, we get:\n",
    "\n",
    "\n",
    "Once we cancel the \n",
    " on both the numerator and the denominator, we finally get a defined limit.\n",
    "\n",
    "\n",
    "We're going to ask you to solve the final step using direct substitution, which we discussed in the last mission. Note that the result of this limit won't be a single value, but instead a new function.\n",
    "\n",
    "Instructions\n",
    "Simplify the equation by using direct substitution to solve the limit.\n",
    "Use numpy.linspace() to generate 110 values from -5 to 6 and assign to x.\n",
    "Transform x using the equation you just solved and assign to y.\n",
    "Generate a line plot using x and y."
   ]
  },
  {
   "cell_type": "code",
   "execution_count": null,
   "metadata": {
    "collapsed": true
   },
   "outputs": [],
   "source": [
    "import matplotlib.pyplot as plt\n",
    "import numpy as np"
   ]
  },
  {
   "cell_type": "raw",
   "metadata": {},
   "source": [
    "4. Critical Points\n",
    "\n",
    "The line plot we generated in the last step matches the one from the first step that visualizes how the slope changes for different \n",
    " values. We use the following notation to specify that \n",
    " is our curve's derivative:\n",
    "\n",
    "\n",
    "The following is an alternative form of notation, which makes it clear that the derivative of \n",
    " is a function of \n",
    ":\n",
    "\n",
    "\n",
    "The last common notation is the following, which can be read as \"the derivative with respect to \n",
    " is\":\n",
    "\n",
    "\n",
    "\n",
    "Earlier in the mission, we discussed how the slope at \n",
    " was \n",
    " and acted as a transition point from positive slope to negative slope. This is formally known as a critical point. At a function's critical point, the slope is either \n",
    " or undefined. Not all critical points act as transition points for slopes, however. The following widget visualizes the slope for \n",
    " and lets you explore how the slope changes before and after the critical point. You'll notice how the slope remains positive before and after the critical point."
   ]
  },
  {
   "cell_type": "raw",
   "metadata": {},
   "source": [
    "5. Extreme Values\n",
    "\n",
    "In the last screen, we observed how the slope didn't change from positive to negative at the critical point. Critical points are interesting to us in data science when they represent extreme values. Extreme values can be split into 2 categories -- minimum and maximum. As we noticed at the beginning of the mission, a critical point can be a minimum value if the slope transitions from negative to positive at that point. When the slope transitions from positive to negative at a point, it can be a maximum value. If the slope doesn't transition at a critical point, like at \n",
    " for \n",
    " in the last screen, then it can't be a minimum or a maximum point.\n",
    "\n",
    "A curve can have multiple critical points and multiple candidates for minimum and maximum values. The following curve has 3 critical points and all 3 meet the criteria of transitioning slope from positive to negative or negative to positive. At the same time, none of the values are the highest points on the curve (while one of them seems to be the lowest).\n",
    "\n",
    "https://s3.amazonaws.com/dq-content/curve_three_critical_points.png\n",
    "\n",
    "These values are known as local extrema, since they're the lowest or highest value in the interval surrounding each point. If a critical point is the lowest point in the interval surrounding it, it's known as a relative minimum. If it's the highest point in the neighborhood, it's known as a relative maximum.\n",
    "\n",
    "https://s3.amazonaws.com/dq-content/curve_three_critical_points_relative_minmax.png\n",
    "\n",
    "Since we know that relative minimums and maximums can occur when the slope is \n",
    ", we can solve for the critical points using arithmetic (instead of relying on just the graph). To calculate the critical point for our original curve, we need to set our derivative function to \n",
    " and solve for -2x + 3 = 0\n",
    ".\n",
    "\n",
    "\n",
    "After moving -2x\n",
    " to the right side and dividing both sides by -2\n",
    ", we get: x =1.5\n",
    "\n",
    "\n",
    "This matches the value we observed visually in the first screen in this mission. Since this curve only had 1 critical point and the slope transitioned from positive to negative, we can safely say that this is a relative maximum."
   ]
  },
  {
   "cell_type": "raw",
   "metadata": {},
   "source": [
    "6. Power Rule\n",
    "\n",
    "We calculated the derivative for our curve using a limit and working out the arithmetic. We then set the derivative function to \n",
    " and calculated the critical points. This approach be painful to do for more complex functions like \n",
    " because we'll need to replace \n",
    " with \n",
    " and expand the exponent \n",
    ":\n",
    "\n",
    "\n",
    "We can instead apply derivative rules to more easily calculate the derivative function. These derivative rules have proofs that are outside the scope of this mission, but we'll link to the proof so you can build an understanding on your own.\n",
    "\n",
    "The first rule we'll introduce is the power rule [https://en.wikipedia.org/wiki/Power_rule], which helps us take the derivative for functions with exponents.\n",
    "\n",
    "\n",
    "If our original function is \n",
    ", \n",
    " would be \n",
    ". Its derivative would be \n",
    " or \n",
    " for short. The function for our original curve is a similar value (\n",
    ") added to \n",
    ":\n",
    "\n",
    "\n",
    "When we calculate the derivative of a function, we're really computing and solving a limit. We can use the properties of limits to break down the function into 3 different derivatives. We can then apply the power rule to each component:\n",
    "\n",
    "\n",
    "This matches the derivative function we computed by hand using limits. Let's practice applying the power rule to some more functions.\n",
    "\n",
    "Instructions\n",
    "Calculate the derivative of f(x) = x^5\n",
    " using pencil and paper. Use the derivative function to look up the slope at x = 2 and assign to slope_one.\n",
    "Calculate the derivative of f(x) = x^9\n",
    " using pencil and paper. Use the derivative function to look up the slope at x = 0 and assign to slope_two."
   ]
  },
  {
   "cell_type": "raw",
   "metadata": {
    "collapsed": true
   },
   "source": [
    "7. Linearity Of Differentiation\n",
    "\n",
    "Another important set of rules is linearity of differentiation [https://en.wikipedia.org/wiki/Linearity_of_differentiation]. We'll switch to using the \n",
    " notation when discussing these rules. Like with limit functions, we can separate mathematical terms that are being added or subtracted and differentiate them separately.\n",
    "\n",
    "Linearity of differentiation consists of 2 rules. First is the sum rule:\n",
    "\n",
    "\n",
    "Second is the constant factor rule, which lets us pull out constants from the derivative:\n",
    "\n",
    "\n",
    "By combining both of these rules, we can find the derivative for a wide range of functions. For example:\n",
    "\n",
    "Instructions\n",
    "Calculate the derivative of f(x) = x^5 - x\n",
    " using pencil and paper. Use the derivative function to look up the slope at x = 1 and assign to slope_three.\n",
    "Calculate the derivative of f(x) = x^3 - x^2\n",
    " using pencil and paper. Use the derivative function to look up the slope at x = 2 and assign to slope_four."
   ]
  },
  {
   "cell_type": "raw",
   "metadata": {},
   "source": [
    "8. Practicing Finding Extreme Values\n",
    "\n",
    "In the past, we started by plotting the curve and visually observing where the critical points could be. This time around, we're not going to paint a visual picture and will instead ask you to use arithmetic to find the extreme values.\n",
    "\n",
    "You'll need to first set \n",
    " to \n",
    " and solve for \n",
    ". Once you've found the critical point(s), you can analyze the slope around the point(s) to see if slope transitions from positive to negative or vice versa.\n",
    "\n",
    "Instructions\n",
    "Find the critical points for f(x) = x^3 - x^2.\n",
    "Create 2 empty lists and assign to rel_min and rel_max.\n",
    "If a critical point is a relative minimum, add it to the list rel_min.\n",
    "If a critical point is a relative maximum, add it to the list rel_max."
   ]
  }
 ],
 "metadata": {
  "kernelspec": {
   "display_name": "Python 2",
   "language": "python",
   "name": "python2"
  },
  "language_info": {
   "codemirror_mode": {
    "name": "ipython",
    "version": 2
   },
   "file_extension": ".py",
   "mimetype": "text/x-python",
   "name": "python",
   "nbconvert_exporter": "python",
   "pygments_lexer": "ipython2",
   "version": "2.7.14"
  }
 },
 "nbformat": 4,
 "nbformat_minor": 2
}
