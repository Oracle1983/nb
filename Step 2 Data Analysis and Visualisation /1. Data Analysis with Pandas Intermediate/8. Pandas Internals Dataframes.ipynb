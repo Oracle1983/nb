{
 "cells": [
  {
   "cell_type": "markdown",
   "metadata": {},
   "source": [
    "# Step 2 Data Analysis and Visualisation - Pandas Internals Dataframes"
   ]
  },
  {
   "cell_type": "raw",
   "metadata": {},
   "source": [
    "1. Shared Indexes\n",
    "\n",
    "Dataframe objects can easily query and interact with many columns. They represent each of these columns as a Series object. We discussed how Series objects work in the previous mission. In this mission, we'll learn how dataframes build on Series objects to provide a powerful data analysis toolkit.\n",
    "\n",
    "Series objects maintain data alignment between values and their index labels. Because dataframes are basically collections of Series objects, they maintain alignment along both columns and rows.\n",
    "\n",
    "Pandas dataframe share a row index across columns. By default, this is an integer index. Pandas enforces this shared row index by throwing an error if we read in a CSV file with columns that contain a different number of elements.\n",
    "\n",
    "Whenever you call a method that returns or prints a dataframe, the index values (such as a sequence of integers) appear in the leftmost column. You can also use the index attribute to access the index values directly. For this mission, we'll continue to work with the data set containing average user and critic ratings from the major film review sites. FiveThirtyEight compiled the data set and made it available in their Github repository. [https://github.com/fivethirtyeight/data/tree/master/fandango]\n",
    "\n",
    "Instructions\n",
    "Read fandango_score_comparison.csv into a dataframe named fandango.\n",
    "Use the head method to return the first two rows in the dataframe, then display them with the print function.\n",
    "Use the index attribute to return the index of the dataframe, and display it with the print function."
   ]
  },
  {
   "cell_type": "code",
   "execution_count": null,
   "metadata": {
    "collapsed": true
   },
   "outputs": [],
   "source": [
    "import pandas as pd\n",
    "\n",
    "fandango = pd.read_csv('fandango_score_comparison.csv')\n",
    "print(fandango.head(2))\n",
    "print(\"------------------\")\n",
    "\n",
    "print(fandango.index)"
   ]
  },
  {
   "cell_type": "raw",
   "metadata": {},
   "source": [
    "2. Using Integer Indexes to Select Rows\n",
    "\n",
    "In the previous cell, we explored the default integer index that pandas uses for the dataframe. With Series, each unique index value refers to a data value. With dataframes, however, each index value refers to an entire row. We can use the integer index to select rows in a few different ways:\n",
    "\n",
    "# First five rows\n",
    "fandango[0:5]\n",
    "# From row at 140 and higher\n",
    "fandango[140:]\n",
    "# Just row at index 50\n",
    "fandango.iloc[50]\n",
    "# Just row at index 45 and 90\n",
    "fandango.iloc[[45,90]]\n",
    "We use bracket notation to select a slice (continuous sequence) of rows, just as we would for a list. To select an individual row, however, we'll need to use the iloc[] [http://pandas.pydata.org/pandas-docs/version/0.17.0/generated/pandas.DataFrame.iloc.html] method. This method accepts the following objects for selection:\n",
    "\n",
    "An integer\n",
    "A list of integers\n",
    "A slice object\n",
    "A Boolean array\n",
    "When selecting an individual row, pandas will return a Series object. When selecting multiple rows, it will return a subset of the original dataframe as a new dataframe.\n",
    "\n",
    "Instructions\n",
    "Return a dataframe containing just the first and last rows, and assign it to first_last."
   ]
  },
  {
   "cell_type": "code",
   "execution_count": 1,
   "metadata": {
    "collapsed": true
   },
   "outputs": [],
   "source": [
    "fandango = pd.read_csv('fandango_score_comparison.csv')\n",
    "\n",
    "first_last = fandango.iloc[[0,-1]]"
   ]
  },
  {
   "cell_type": "raw",
   "metadata": {},
   "source": [
    "3. Using Custom Indexes\n",
    "\n",
    "The dataframe object has a set_index() method that allows us to pass in the name of the column we want pandas to use as the Dataframe index. By default, pandas will create a new dataframe, index it by the values in the column we specify, then drop that column. The set_index() method has a few parameters that allow us to tweak this behavior:\n",
    "\n",
    "inplace: If set to True, this parameter will set the index for the current, \"live\" dataframe, instead of returning a new dataframe.\n",
    "drop: If set to False, this parameter will keep the column we specified as the index, instead of dropping it.\n",
    "\n",
    "Instructions\n",
    "Use the pandas dataframe method set_index to assign the FILM column as the custom index for the dataframe. Also, specify that we don't want to drop the FILM column from the dataframe. We want to keep the original dataframe, so assign the new one to fandango_films.\n",
    "Display the index for fandango_films using the index attribute and the print function."
   ]
  },
  {
   "cell_type": "code",
   "execution_count": null,
   "metadata": {
    "collapsed": true
   },
   "outputs": [],
   "source": [
    "fandango = pd.read_csv('fandango_score_comparison.csv')\n",
    "\n",
    "fandango_films = fandango.set_index('FILM', drop=False)\n",
    "print(fandango_films.index)"
   ]
  },
  {
   "cell_type": "raw",
   "metadata": {},
   "source": [
    "4. Using a Custom Index for Selection\n",
    "\n",
    "Now that we have a custom index, we can select a row by film name instead of row number (which is the default integer index). We can select rows using the custom index by either:\n",
    "\n",
    "Using the loc[] method (the same way we would the iloc[] method)\n",
    "Creating a slice using bracket notation\n",
    "\n",
    "# Slice using either bracket notation or loc[]\n",
    "fandango_films[\"Avengers: Age of Ultron (2015)\":\"Hot Tub Time Machine 2 (2015)\"]\n",
    "fandango_films.loc[\"Avengers: Age of Ultron (2015)\":\"Hot Tub Time Machine 2 (2015)\"]\n",
    "\n",
    "# Specific movie\n",
    "fandango_films.loc['Kumiko, The Treasure Hunter (2015)']\n",
    "\n",
    "# Selecting list of movies\n",
    "movies = ['Kumiko, The Treasure Hunter (2015)', 'Do You Believe? (2015)', 'Ant-Man (2015)']\n",
    "fandango_films.loc[movies]\n",
    "When we select multiple rows, pandas returns a dataframe. When we select an individual row, however, it returns a Series object instead. Either way, pandas will maintain the original integer index, even if we specify a custom index. That means we can still select by row number.\n",
    "\n",
    "Instructions\n",
    "Select the following movies from fandango_films (in the order in which they appear), and assign them to best_movies_ever:\n",
    "\"The Lazarus Effect (2015)\"\n",
    "\"Gett: The Trial of Viviane Amsalem (2015)\"\n",
    "\"Mr. Holmes (2015)\""
   ]
  },
  {
   "cell_type": "code",
   "execution_count": null,
   "metadata": {
    "collapsed": true
   },
   "outputs": [],
   "source": [
    "movies = [\"The Lazarus Effect (2015)\", \"Gett: The Trial of Viviane Amsalem (2015)\", \"Mr. Holmes (2015)\"]\n",
    "best_movies_ever = fandango_films.loc[movies]"
   ]
  },
  {
   "cell_type": "raw",
   "metadata": {},
   "source": [
    "5. Apply() Logic Over the Columns in a Dataframe\n",
    "\n",
    "Recall that a dataframe object represents both rows and columns as Series objects. The apply() method in pandas allows us to specify Python logic that we want to evaluate over the Series objects in a dataframe. Here are some examples of what we can accomplish using the apply() method:\n",
    "\n",
    "Calculate the standard deviations for each numeric column\n",
    "Lowercase all film names in the FILM column\n",
    "The apply() method requires us to pass in the vectorized operation we want to apply over each Series object. The method runs over the dataframe's columns by default, but we can use the axis parameter to change this (which we'll do later). If the vectorized operation usually returns a single value it will return a Series object containing the computed value for each column. For example, in the following code, we use a lambda function to multiply each float column by 2:\n",
    "\n",
    "types = fandango_films.dtypes\n",
    "float_columns = types[types.values == 'float64'].index\n",
    "# float_df contains only the float columns\n",
    "float_df = fandango_films[float_columns]\n",
    "\n",
    "# usage of a lambda function\n",
    "float_df.apply(lambda x: x*2)\n",
    "In the code above, we passed a lambda function to the DataFrame.apply() method. A lambda function is also called an anonymous function, because we aren't defining a new, named function (e.g. a function called double()) and then using it. The lambda function x*2 is only only lives for the life of the DataFrame.apply() method call. A lambda function consists of 2 parts:\n",
    "\n",
    "a variable name, that we can refer to in our transformation logic: lambda x:\n",
    "the transformation logic: x*2 (multiply by 2)\n",
    "If it usually returns a value for each element (such as multiplying or dividing by 2), it will transform all of the values and return them as a new dataframe:\n",
    "\n",
    "Metacritic_User\tIMDB\tFandango_Stars\tFandango_Ratingvalue\tRT_norm\tRT_user_norm\tMetacritic_norm\tMetacritic_user_nom\tIMDB_norm\tRT_norm_round\tRT_user_norm_round\tMetacritic_norm_round\tMetacritic_user_norm_round\tIMDB_norm_round\tFandango_Difference\t\n",
    "FILM\t\t\t\t\t\t\t\t\t\t\t\t\t\t\t\n",
    "Avengers: Age of Ultron (2015)\t14.2\t15.6\t10.0\t9.0\t7.4\t8.6\t6.6\t7.1\t7.8\t7.0\t9.0\t7.0\t7.0\t8.0\t1.0\n",
    "Cinderella (2015)\t15.0\t14.2\t10.0\t9.0\t8.5\t8.0\t6.7\t7.5\t7.1\t9.0\t8.0\t7.0\t8.0\t7.0\t1.0\n",
    "Ant-Man (2015)\t16.2\t15.6\t10.0\t9.0\t8.0\t9.0\t6.4\t8.1\t7.8\t8.0\t9.0\t6.0\t8.0\t8.0\t1.0\n",
    "Do You Believe? (2015)\t9.4\t10.8\t10.0\t9.0\t1.8\t8.4\t2.2\t4.7\t5.4\t2.0\t8.0\t2.0\t5.0\t5.0\t1.0\n",
    "We can also pass in functions from NumPy. The following code returns a Series containing the standard deviation of each float column:\n",
    "\n",
    "import numpy as np\n",
    "\n",
    "float_df.apply(lambda x: np.std(x))\n",
    "NumPy is built around fast, vectorized operations. Pandas is able to take advantage of this fast vectorization when we use the DataFrame.apply() method.\n",
    "\n",
    "Use our programming interface to experiment with applying different functions."
   ]
  },
  {
   "cell_type": "code",
   "execution_count": null,
   "metadata": {
    "collapsed": true
   },
   "outputs": [],
   "source": [
    "import numpy as np\n",
    "\n",
    "# returns the data types as a Series\n",
    "types = fandango_films.dtypes\n",
    "# filter data types to just floats, index attributes returns just column names\n",
    "float_columns = types[types.values == 'float64'].index\n",
    "# use bracket notation to filter columns to just float columns\n",
    "float_df = fandango_films[float_columns]\n",
    "\n",
    "# `x` is a Series object representing a column\n",
    "means = float_df.apply(lambda x: np.mean(x))\n",
    "\n",
    "print(means)"
   ]
  },
  {
   "cell_type": "raw",
   "metadata": {},
   "source": [
    "6. Apply() Logic Over the Columns: Practice\n",
    "\n",
    "Now's your chance to practice applying lambda functions over columns.\n",
    "\n",
    "Instructions\n",
    "Use the apply() method on float_df to divide each value by 2 and assign the result to halved_df.\n",
    "Display the first row using the print() function."
   ]
  },
  {
   "cell_type": "code",
   "execution_count": null,
   "metadata": {
    "collapsed": true
   },
   "outputs": [],
   "source": [
    "double_df = float_df.apply(lambda x: x*2)\n",
    "#print(double_df.head(1))\n",
    "\n",
    "halved_df = float_df.apply(lambda x: x/2)\n",
    "print(halved_df.head(1))"
   ]
  },
  {
   "cell_type": "raw",
   "metadata": {},
   "source": [
    "7. Apply() Over Dataframe Rows\n",
    "\n",
    "So far we've used the default behavior of the apply() method, which operates over the columns in a Dataframe. To apply a function over the rows in a dataframe (which pandas treats as Series objects), we need to set the axis parameter to 1. Applying over the rows allows us to do things like calculate the standard deviation of multiple column values for each movie:\n",
    "\n",
    "rt_mt_user = float_df[['RT_user_norm', 'Metacritic_user_nom']]\n",
    "rt_mt_user.apply(lambda x: np.std(x), axis=1)\n",
    "The code above filters the dataframe down to the two columns we want. Because std() returns a value for each iteration, it then returns a Series object containing the standard deviation of each movie's ratings from RT_user_norm and Metacritic_user_nom.\n",
    "\n",
    "Instructions\n",
    "Use the apply() method to calculate the average of each movie's values for RT_user_norm and Metacritic_user_nom, and assign the result to the variable rt_mt_means.\n",
    "Display the first five values in rt_mt_means."
   ]
  },
  {
   "cell_type": "code",
   "execution_count": null,
   "metadata": {
    "collapsed": true
   },
   "outputs": [],
   "source": [
    "rt_mt_user = float_df[['RT_user_norm', 'Metacritic_user_nom']]\n",
    "rt_mt_deviations = rt_mt_user.apply(lambda x: np.std(x), axis=1)\n",
    "print(rt_mt_deviations[0:5])\n",
    "\n",
    "rt_mt_means = rt_mt_user.apply(lambda x: np.mean(x), axis=1)\n",
    "print(rt_mt_means.head(5))"
   ]
  }
 ],
 "metadata": {
  "kernelspec": {
   "display_name": "Python 2",
   "language": "python",
   "name": "python2"
  },
  "language_info": {
   "codemirror_mode": {
    "name": "ipython",
    "version": 2
   },
   "file_extension": ".py",
   "mimetype": "text/x-python",
   "name": "python",
   "nbconvert_exporter": "python",
   "pygments_lexer": "ipython2",
   "version": "2.7.14"
  }
 },
 "nbformat": 4,
 "nbformat_minor": 2
}
