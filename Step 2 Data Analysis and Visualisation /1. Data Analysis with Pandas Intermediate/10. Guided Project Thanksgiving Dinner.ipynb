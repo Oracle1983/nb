{
 "cells": [
  {
   "cell_type": "markdown",
   "metadata": {},
   "source": [
    "# Step 2 Data Analysis and Visualisation - Guided Project: Analyzing Thanksgiving Dinner"
   ]
  },
  {
   "cell_type": "raw",
   "metadata": {},
   "source": [
    "1. Introducing Thanksgiving Dinner Data\n",
    "\n",
    "In this project, you'll be working with Jupyter notebook, and analyzing data on Thanksgiving dinner in the US. By the end, you'll have a notebook that you can add to your portfolio or build on top of on your own. If you need help at any point, you can consult our solution notebook here. The dataset came from FiveThirtyEight, and can be found here. [https://github.com/fivethirtyeight/data/tree/master/thanksgiving-2015]\n",
    "\n",
    "The dataset is stored in the thanksgiving.csv file. It contains 1058 responses to an online survey about what Americans eat for Thanksgiving dinner. Each survey respondent was asked questions about what they typically eat for Thanksgiving, along with some demographic questions, like their gender, income, and location. This dataset will allow us to discover regional and income-based patterns in what Americans eat for Thanksgiving dinner.\n",
    "\n",
    "The dataset has 65 columns, and 1058 rows. Most of the column names are questions, and most of the column values are string responses to the questions. Most of the columns are categorical, as a survey respondent had to select one of a few options. For example, one of the first column names is What is typically the main dish at your Thanksgiving dinner?. The potential responses are:\n",
    "\n",
    "Turkey\n",
    "Other (please specify)\n",
    "Ham/Pork\n",
    "Tofurkey\n",
    "Chicken\n",
    "Roast beef\n",
    "I don't know\n",
    "Turducken\n",
    "Most of the columns follow the same question/response format as the above. There are also quite a few NaN values in the columns, which occurred when a survey respondent didn't fill out a question because they didn't want to, or it didn't apply to them.\n",
    "\n",
    "Here are the first few rows of the dataset:\n",
    "\n",
    "RespondentID\tDo you celebrate Thanksgiving?\tWhat is typically the main dish at your Thanksgiving dinner?\tWhat is typically the main dish at your Thanksgiving dinner? - Other (please specify)\tHow is the main dish typically cooked?\tHow is the main dish typically cooked? - Other (please specify)\tWhat kind of stuffing/dressing do you typically have?\tWhat kind of stuffing/dressing do you typically have? - Other (please specify)\tWhat type of cranberry saucedo you typically have?\tWhat type of cranberry saucedo you typically have? - Other (please specify)\t...\tHave you ever tried to meet up with hometown friends on Thanksgiving night?\tHave you ever attended a \"Friendsgiving?\"\tWill you shop any Black Friday sales on Thanksgiving Day?\tDo you work in retail?\tWill you employer make you work on Black Friday?\tHow would you describe where you live?\tAge\tWhat is your gender?\tHow much total combined money did all members of your HOUSEHOLD earn last year?\tUS Region\n",
    "0\t4337954960\tYes\tTurkey\tNaN\tBaked\tNaN\tBread-based\tNaN\tNone\tNaN\t...\tYes\tNo\tNo\tNo\tNaN\tSuburban\t18 - 29\tMale\t75,000 to 99,999\tMiddle Atlantic\n",
    "1\t4337951949\tYes\tTurkey\tNaN\tBaked\tNaN\tBread-based\tNaN\tOther (please specify)\tHomemade cranberry gelatin ring\t...\tNo\tNo\tYes\tNo\tNaN\tRural\t18 - 29\tFemale\t50,000 to 74,999\tEast South Central\n",
    "2\t4337935621\tYes\tTurkey\tNaN\tRoasted\tNaN\tRice-based\tNaN\tHomemade\tNaN\t...\tYes\tYes\tYes\tNo\tNaN\tSuburban\t18 - 29\tMale\t0 to 9,999\tMountain\n",
    "3\t4337933040\tYes\tTurkey\tNaN\tBaked\tNaN\tBread-based\tNaN\tHomemade\tNaN\t...\tYes\tNo\tNo\tNo\tNaN\tUrban\t30 - 44\tMale\t$200,000 and up\tPacific\n",
    "4\t4337931983\tYes\tTofurkey\tNaN\tBaked\tNaN\tBread-based\tNaN\tCanned\tNaN\t...\tYes\tNo\tNo\tNo\tNaN\tUrban\t30 - 44\tMale\t100,000 to 124,999\tPacific\n",
    "5 rows × 65 columns\n",
    "We won't enumerate every single column now, but here are descriptions of some of the most important:\n",
    "\n",
    "RespondentID -- a unique ID of the respondent to the survey.\n",
    "Do you celebrate Thanksgiving? -- a Yes/No reponse to the question.\n",
    "How would you describe where you live? -- responses are Suburban, Urban, and Rural.\n",
    "Age -- resposes are one of several categories, such as 18-29, and 30-44.\n",
    "How much total combined money did all members of your HOUSEHOLD earn last year? -- one of several categories, such as $75,000 to $99,999.\n",
    "In this project, we'll explore the data, and try to find interesting patterns. Our first step is to read in and display the data.\n",
    "\n",
    "Instructions\n",
    "Import the pandas package.\n",
    "Use the pandas.read_csv() function to read the thanksgiving.csv file in.\n",
    "Make sure to specify the keyword argument encoding=\"Latin-1\", as the CSV file isn't encoded normally.\n",
    "Assign the result to the variable data.\n",
    "Display the first few rows of data to see what the columns and rows look like.\n",
    "In a separate notebook cell, display all of the column names to get a sense of what the data consists of.\n",
    "You can use the pandas.DataFrame.columns property to display the column names."
   ]
  },
  {
   "cell_type": "code",
   "execution_count": null,
   "metadata": {
    "collapsed": true
   },
   "outputs": [],
   "source": [
    "import pandas as pd\n",
    "\n",
    "data = pd.read_csv(\"thanksgiving.csv\", encoding=\"Latin-1\")\n",
    "data.head()"
   ]
  },
  {
   "cell_type": "code",
   "execution_count": null,
   "metadata": {
    "collapsed": true
   },
   "outputs": [],
   "source": [
    "data.columns"
   ]
  },
  {
   "cell_type": "raw",
   "metadata": {},
   "source": [
    "2. Filtering Out Rows From A DataFrame\n",
    "\n",
    "Because we want to understand what people ate for Thanksgiving, we'll remove any responses from people who don't celebrate it. The column Do you celebrate Thanksgiving? contains this information. We only want to keep data for people who answered Yes to this questions.\n",
    "\n",
    "Instructions\n",
    "Use the pandas.Series.value_counts() [http://pandas.pydata.org/pandas-docs/stable/generated/pandas.Series.value_counts.html] method to display counts of how many times each category occurs in the Do you celebrate Thanksgiving? column.\n",
    "Filter out any rows in data where the response to Do you celebrate Thanksgiving? is not Yes. At the end, all of the values in the Do you celebrate Thanksgiving? column of data should be Yes."
   ]
  },
  {
   "cell_type": "code",
   "execution_count": null,
   "metadata": {
    "collapsed": true
   },
   "outputs": [],
   "source": [
    "data[\"Do you celebrate Thanksgiving?\"].value_counts()"
   ]
  },
  {
   "cell_type": "code",
   "execution_count": null,
   "metadata": {
    "collapsed": true
   },
   "outputs": [],
   "source": [
    "data = data[data[\"Do you celebrate Thanksgiving?\"] == \"Yes\"]"
   ]
  },
  {
   "cell_type": "raw",
   "metadata": {},
   "source": [
    "3. Using value_counts to Explore Main Dishes\n",
    "\n",
    "Let's explore what main dishes people tend to eat during Thanksgiving dinner. We can again use the value_counts method to help us with this.\n",
    "\n",
    "Instructions\n",
    "Use the pandas.Series.value_counts() method to display counts of how many times each category occurs in the What is typically the main dish at your Thanksgiving dinner? column.\n",
    "Display the Do you typically have gravy? column for any rows from data where the What is typically the main dish at your Thanksgiving dinner? column equals Tofurkey.\n",
    "Create a filter that only selects rows from data where What is typically the main dish at your Thanksgiving dinner? equals Tofurkey.\n",
    "Select the Do you typically have gravy? column, and display it."
   ]
  },
  {
   "cell_type": "code",
   "execution_count": null,
   "metadata": {
    "collapsed": true
   },
   "outputs": [],
   "source": [
    "data[\"What is typically the main dish at your Thanksgiving dinner?\"].value_counts()"
   ]
  },
  {
   "cell_type": "code",
   "execution_count": null,
   "metadata": {
    "collapsed": true
   },
   "outputs": [],
   "source": [
    "data[data[\"What is typically the main dish at your Thanksgiving dinner?\"] == \"Tofurkey\"][\"Do you typically have gravy?\"]"
   ]
  },
  {
   "cell_type": "raw",
   "metadata": {},
   "source": [
    "4. Figuring Out What Pies People Eat\n",
    "\n",
    "Now that we've looked into the main dishes, let's explore the dessert dishes. Specifically, we'll look at how many people eat Apple, Pecan, or Pumpkin pie during Thanksgiving dinner. This data is encoded in the following three columns:\n",
    "\n",
    "Which type of pie is typically served at your Thanksgiving dinner? Please select all that apply. - Apple\n",
    "Which type of pie is typically served at your Thanksgiving dinner? Please select all that apply. - Pumpkin\n",
    "Which type of pie is typically served at your Thanksgiving dinner? Please select all that apply. - Pecan\n",
    "In all three columns, the value is either the name of the pie if the person eats it for Thanksgiving dinner, or null otherwise.\n",
    "\n",
    "We can find out how many people eat one of these three pies for Thanksgiving dinner by figuring out for how many people all three columns are null.\n",
    "\n",
    "You may recall from an earlier mission that the pandas.isnull() function will return a Boolean Series indicating whether or not each value in a specified DataFrame or Series is null.\n",
    "\n",
    "We can also use the & operator to combine two Boolean Series into a single one. If both Series contain True in a position, the result will be True. Otherwise, the result will be False. Here's an example:\n",
    "\n",
    "If we use the pandas.isnull() [http://pandas.pydata.org/pandas-docs/stable/generated/pandas.isnull.html] function to check where all three columns are null, then use the & operator to join all of the Series, we'll end up with a single Boolean Series. Where that Series contains False, the person ate at least one of the types of pies for Thanksgiving dinner. Where it contains True, they ate none of the types of pies.\n",
    "\n",
    "Instructions\n",
    "Generate a Boolean Series indicating where the Which type of pie is typically served at your Thanksgiving dinner? Please select all that apply. - Apple column is null. Assign to the apple_isnull variable.\n",
    "Generate a Boolean Series indicating where the Which type of pie is typically served at your Thanksgiving dinner? Please select all that apply. - Pumpkin column is null. Assign to the pumpkin_isnull variable.\n",
    "Generate a Boolean Series indicating where the Which type of pie is typically served at your Thanksgiving dinner? Please select all that apply. - Pecan column is null. Assign to the pecan_isnull variable.\n",
    "Join all three Series using the & operator, and assign the result to ate_pies.\n",
    "Display the unique values and how many times each occurs in the ate_pies column."
   ]
  },
  {
   "cell_type": "code",
   "execution_count": null,
   "metadata": {
    "collapsed": true
   },
   "outputs": [],
   "source": [
    "data[\"Which type of pie is typically served at your Thanksgiving dinner? Please select all that apply. - Apple\"].value_counts()"
   ]
  },
  {
   "cell_type": "code",
   "execution_count": null,
   "metadata": {
    "collapsed": true
   },
   "outputs": [],
   "source": [
    "ate_pies = (pd.isnull(data[\"Which type of pie is typically served at your Thanksgiving dinner? Please select all that apply. - Apple\"])\n",
    "&\n",
    "pd.isnull(data[\"Which type of pie is typically served at your Thanksgiving dinner? Please select all that apply. - Pecan\"])\n",
    " &\n",
    " pd.isnull(data[\"Which type of pie is typically served at your Thanksgiving dinner? Please select all that apply. - Pumpkin\"])\n",
    ")\n",
    "\n",
    "ate_pies.value_counts()"
   ]
  },
  {
   "cell_type": "raw",
   "metadata": {},
   "source": [
    "5. Converting Age to Numeric\n",
    "\n",
    "Let's analyze the Age column in more depth. In order to analyze the Age column, we'll first need to convert it to numeric values. This will make it simple to figure out things like the average age of survey respondents. The Age column contains values that fall into one of a few categories:\n",
    "\n",
    "18 - 29\n",
    "30 - 44\n",
    "45 - 59\n",
    "60+\n",
    "null\n",
    "Because we're missing the exact age value, we won't be able to extract an exact integer value, and we'll instead have to extract the first age value in the strings given.\n",
    "\n",
    "We can do this by splitting each value on the space character (), then taking the first item in the resulting list. We'll also have to replace the + character to account for 60+, which follows a different format than the rest.\n",
    "\n",
    "Instructions\n",
    "Write a function to convert a single string to an appropriate integer value. This will allow us to convert the values in the Age column to integers.\n",
    "Use the isnull() function to check if the value is null. If it is, return None.\n",
    "Split the string on the space character (), and extract the first item of the resulting list.\n",
    "Replace the + character in the result with an empty string to remove it.\n",
    "Use int() to convert the result to an integer.\n",
    "Return the result.\n",
    "Use the pandas.Series.apply() [http://pandas.pydata.org/pandas-docs/stable/generated/pandas.Series.apply.html] method to apply the function to each value in the Age column of data.\n",
    "Assign the result to the int_age column of data.\n",
    "Call the pandas.Series.describe() [http://pandas.pydata.org/pandas-docs/stable/generated/pandas.Series.describe.html] method on the int_age column of data, and display the result.\n",
    "In a separate markdown cell, write up your findings.\n",
    "Is there anything that we should be aware of about the results or our methodology?\n",
    "Is this a true depiction of the ages of survey participants?"
   ]
  },
  {
   "cell_type": "code",
   "execution_count": null,
   "metadata": {
    "collapsed": true
   },
   "outputs": [],
   "source": [
    "data[\"Age\"].value_counts()"
   ]
  },
  {
   "cell_type": "code",
   "execution_count": null,
   "metadata": {
    "collapsed": true
   },
   "outputs": [],
   "source": [
    "def extract_age(age_str):\n",
    "    if pd.isnull(age_str):\n",
    "        return None\n",
    "    age_str = age_str.split(\" \")[0]\n",
    "    age_str = age_str.replace(\"+\", \"\")\n",
    "    return int(age_str)\n",
    "\n",
    "data[\"int_age\"] = data[\"Age\"].apply(extract_age)\n",
    "data[\"int_age\"].describe()"
   ]
  },
  {
   "cell_type": "raw",
   "metadata": {},
   "source": [
    "6. Converting Income to Numeric\n",
    "\n",
    "The How much total combined money did all members of your HOUSEHOLD earn last year? column is very similar to the Age column. It contains categories, but can be converted to numerical values. Here are the unique values in the column:\n",
    "\n",
    "Prefer not to answer\n",
    "$0 to $9,999\n",
    "$10,000 to $24,999\n",
    "$25,000 to $49,999\n",
    "$50,000 to $74,999\n",
    "$75,000 to $99,999\n",
    "$100,000 to $124,999\n",
    "$125,000 to $149,999\n",
    "$150,000 to $174,999\n",
    "$175,000 to $199,999\n",
    "$200,000 and up\n",
    "null\n",
    "We can convert these values to numeric by again splitting on the space character (). We'll then have to account for the string Prefer. Finally, we'll be able to replace the dollar sign character $ and the comma ,, and return the result.\n",
    "\n",
    "Instructions\n",
    "Write a function to convert a single string to an appropriate integer income value.\n",
    "Use the isnull() function to check if the value is null. If it is, return None.\n",
    "Split the string on the space character (), and extract the first item of the resulting list.\n",
    "If the result equals Prefer, return None.\n",
    "Replace the $ and , characters in the result with empty strings to remove them.\n",
    "Use int() to convert the result to an integer.\n",
    "Return the result.\n",
    "Use the pandas.Series.apply() method to apply the function to each value in the How much total combined money did all members of your HOUSEHOLD earn last year? column of data.\n",
    "Assign the result to the int_income column of data.\n",
    "Call the pandas.Series.describe() method on the int_income column of data, and display the result.\n",
    "In a separate markdown cell, write up your findings.\n",
    "Is there anything that we should be aware of about the results or our methodology?\n",
    "Is this a true depiction of the incomes of survey participants?"
   ]
  },
  {
   "cell_type": "code",
   "execution_count": null,
   "metadata": {
    "collapsed": true
   },
   "outputs": [],
   "source": [
    "data[\"How much total combined money did all members of your HOUSEHOLD earn last year?\"].value_counts()"
   ]
  },
  {
   "cell_type": "code",
   "execution_count": null,
   "metadata": {
    "collapsed": true
   },
   "outputs": [],
   "source": [
    "def extract_income(income_str):\n",
    "    if pd.isnull(income_str):\n",
    "        return None\n",
    "    income_str = income_str.split(\" \")[0]\n",
    "    if income_str == \"Prefer\":\n",
    "        return None\n",
    "    income_str = income_str.replace(\",\", \"\")\n",
    "    income_str = income_str.replace(\"$\", \"\")\n",
    "    return int(income_str)\n",
    "\n",
    "data[\"int_income\"] = data[\"How much total combined money did all members of your HOUSEHOLD earn last year?\"].apply(extract_income)\n",
    "data[\"int_income\"].describe()"
   ]
  },
  {
   "cell_type": "raw",
   "metadata": {},
   "source": [
    "7. Correlating Travel Distance and Income\n",
    "\n",
    "We can now see how the distance someone travels for Thanksgiving dinner relates to their income level. It's safe to hypothesize that people earning less money could be younger, and would travel to their parent's houses for Thanksgiving. People earning more are more likely to have Thanksgiving at their house as a result.\n",
    "\n",
    "We can test this by filtering data based on int_income, and seeing what the values in the How far will you travel for Thanksgiving? column are.\n",
    "\n",
    "Instructions\n",
    "See how far people earning under 150000 will travel.\n",
    "Filter data, and only select rows where int_income is less than 150000.\n",
    "Use indexing to select the How far will you travel for Thanksgiving? column.\n",
    "Use the value_counts() method to count up how many times each value occurs in the column.\n",
    "Display the results.\n",
    "See how far people earning over 150000 will travel.\n",
    "Filter data, and only select rows where int_income is greater than 150000.\n",
    "Use indexing to select the How far will you travel for Thanksgiving? column.\n",
    "Use the value_counts() method to count up how many times each value occurs in the column.\n",
    "Display the results\n",
    "Write up your findings in a markdown cell."
   ]
  },
  {
   "cell_type": "code",
   "execution_count": null,
   "metadata": {
    "collapsed": true
   },
   "outputs": [],
   "source": [
    "data[data[\"int_income\"] < 150000][\"How far will you travel for Thanksgiving?\"].value_counts()"
   ]
  },
  {
   "cell_type": "code",
   "execution_count": null,
   "metadata": {
    "collapsed": true
   },
   "outputs": [],
   "source": [
    "data[data[\"int_income\"] > 150000][\"How far will you travel for Thanksgiving?\"].value_counts()"
   ]
  },
  {
   "cell_type": "raw",
   "metadata": {},
   "source": [
    "8. Linking Friendship and Age\n",
    "\n",
    "There are two columns which directly pertain to friendship, Have you ever tried to meet up with hometown friends on Thanksgiving night?, and Have you ever attended a \"Friendsgiving?. In the US, a \"Friendsgiving\" is when instead of traveling home for the holiday, you celebrate it with friends who live in your area. Both questions seem skewed towards younger people. Let's see if this hypothesis holds up.\n",
    "\n",
    "In order to see the average ages of people who have done both, we can use a pivot table. As you may recall from an earlier mission, we can generate a pivot table with the pandas.DataFrame.pivot_table() [http://pandas.pydata.org/pandas-docs/stable/generated/pandas.DataFrame.pivot_table.html] method. By calling this method on data, and passing in the right keyword arguments, we can generate a table showing the average ages of people who answered Yes to both questions, answered Yes to one question, and so on.\n",
    "\n",
    "Instructions\n",
    "Generate a pivot table showing the average age of respondents for each category of Have you ever tried to meet up with hometown friends on Thanksgiving night? and Have you ever attended a \"Friendsgiving?.\n",
    "Call the pivot_table() method on data.\n",
    "Pass in \"Have you ever tried to meet up with hometown friends on Thanksgiving night?\" to the index keyword argument.\n",
    "Pass in 'Have you ever attended a \"Friendsgiving?\"' to the columns keyword argument.\n",
    "Pass in \"int_age\" to the values keyword argument.\n",
    "Display the results.\n",
    "Generate a pivot table showing the average income of respondents for each category of Have you ever tried to meet up with hometown friends on Thanksgiving night? and Have you ever attended a \"Friendsgiving?.\n",
    "Write up a markdown cell with your findings."
   ]
  },
  {
   "cell_type": "code",
   "execution_count": null,
   "metadata": {
    "collapsed": true
   },
   "outputs": [],
   "source": [
    "data.pivot_table(\n",
    "    index=\"Have you ever tried to meet up with hometown friends on Thanksgiving night?\", \n",
    "    columns='Have you ever attended a \"Friendsgiving?\"',\n",
    "    values=\"int_age\""
   ]
  },
  {
   "cell_type": "code",
   "execution_count": null,
   "metadata": {
    "collapsed": true
   },
   "outputs": [],
   "source": [
    "data.pivot_table(\n",
    "    index=\"Have you ever tried to meet up with hometown friends on Thanksgiving night?\", \n",
    "    columns='Have you ever attended a \"Friendsgiving?\"',\n",
    "    values=\"int_income\"\n",
    ")"
   ]
  },
  {
   "cell_type": "raw",
   "metadata": {},
   "source": [
    "9. Next Steps\n",
    "\n",
    "That's it for the guided steps! We recommend exploring the data more on your own.\n",
    "\n",
    "Here are some potential next steps:\n",
    "\n",
    "Figure out the most common dessert people eat.\n",
    "Figure out the most common complete meal people eat.\n",
    "Identify how many people work on Thanksgiving.\n",
    "Find regional patterns in the dinner menus.\n",
    "Find age, gender, and income based patterns in dinner menus.\n",
    "We recommend creating a Github repository and placing this project there. It will help other people, including employers, see your work. As you start to put multiple projects on Github, you'll have the beginnings of a strong portfolio. You're welcome to keep working on the project here, but we recommend downloading it to your computer using the download icon above and working on it there."
   ]
  }
 ],
 "metadata": {
  "kernelspec": {
   "display_name": "Python 2",
   "language": "python",
   "name": "python2"
  },
  "language_info": {
   "codemirror_mode": {
    "name": "ipython",
    "version": 2
   },
   "file_extension": ".py",
   "mimetype": "text/x-python",
   "name": "python",
   "nbconvert_exporter": "python",
   "pygments_lexer": "ipython2",
   "version": "2.7.14"
  }
 },
 "nbformat": 4,
 "nbformat_minor": 2
}
