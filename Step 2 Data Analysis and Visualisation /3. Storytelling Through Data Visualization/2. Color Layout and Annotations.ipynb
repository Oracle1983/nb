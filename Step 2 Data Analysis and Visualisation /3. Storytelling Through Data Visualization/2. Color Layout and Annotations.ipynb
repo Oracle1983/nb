{
 "cells": [
  {
   "cell_type": "markdown",
   "metadata": {},
   "source": [
    "# Step 2 Data Analysis and Visualisation - Color, Layout and Annotations"
   ]
  },
  {
   "cell_type": "raw",
   "metadata": {},
   "source": [
    "1. Introduction\n",
    "\n",
    "In the previous mission, we learned some basic techniques and principles for making our plots more aesthetic. In this mission, we'll focus more directly on customizing colors, line widths, layout, and annotations to improve the ability for a viewer to extract insights from the charts. We'll continue to use the same data set containing the percentage of bachelor's degrees granted to women from 1970 to 2012\n",
    "\n",
    "We've gone ahead and read the data set into a DataFrame named women_degrees. We've also brought over the code we wrote at the end of the previous mission to generate line charts for four STEM degree categories. If it's been a while since you completed the last mission, spend some time getting familiar with the data set and the charts we generated."
   ]
  },
  {
   "cell_type": "code",
   "execution_count": null,
   "metadata": {
    "collapsed": true
   },
   "outputs": [],
   "source": [
    "import pandas as pd\n",
    "import matplotlib.pyplot as plt\n",
    "\n",
    "women_degrees = pd.read_csv('percent-bachelors-degrees-women-usa.csv')\n",
    "major_cats = ['Biology', 'Computer Science', 'Engineering', 'Math and Statistics']\n",
    "\n",
    "fig = plt.figure(figsize=(12, 12))\n",
    "\n",
    "for sp in range(0,4):\n",
    "    ax = fig.add_subplot(2,2,sp+1)\n",
    "    ax.plot(women_degrees['Year'], women_degrees[major_cats[sp]], c='blue', label='Women')\n",
    "    ax.plot(women_degrees['Year'], 100-women_degrees[major_cats[sp]], c='green', label='Men')\n",
    "    for key,spine in ax.spines.items():\n",
    "        spine.set_visible(False)\n",
    "    ax.set_xlim(1968, 2011)\n",
    "    ax.set_ylim(0,100)\n",
    "    ax.set_title(major_cats[sp])\n",
    "    ax.tick_params(bottom=\"off\", top=\"off\", left=\"off\", right=\"off\")\n",
    "\n",
    "plt.legend(loc='upper right')\n",
    "plt.show()"
   ]
  },
  {
   "cell_type": "raw",
   "metadata": {},
   "source": [
    "2. Color\n",
    "\n",
    "So far, we've been using the default matplotlib colors [https://matplotlib.org/api/colors_api.html#module-matplotlib.colors] to color the lines in line charts. When selecting colors, we need to be mindful of people who have some amount of color blindness. People who have color blindness have a decreased ability to distinguish between certain kinds of colors. The most common form of color blindness is red-green color blindness, where the person can't distinguish between red and green shades. Approximately 8% of men and 0.5% of women of Northern European descent suffer from red-green color blindness.\n",
    "\n",
    "The Ishihara test is a well known test for color blindness, where the person is asked to identify the number in the following image:\n",
    "\n",
    "Ishihara color test plate\n",
    "\n",
    "People with complete color vision can observe the number 74. Some with partial color blindness see the number 21 instead and those with full color blindness can't see any number at all.\n",
    "\n",
    "If we wanted to publish the data visualizations we create, we need to be mindful of color blindness. Thankfully, there are color palettes we can use that are friendly for people with color blindness. One of them is called Color Blind 10 and was released by Tableau, the company that makes the data visualization platform of the same name. Navigate to this page [http://tableaufriction.blogspot.sg/2012/11/finally-you-can-use-tableau-data-colors.html] and select just the Color Blind 10 option from the list of palettes to see the ten colors included in the palette."
   ]
  },
  {
   "cell_type": "raw",
   "metadata": {},
   "source": [
    "3. Setting Line Color Using RGB\n",
    "\n",
    "The Color Blind 10 palette contains ten colors that are colorblind friendly. Let's use the first two colors in the palette for the line colors in our charts. You'll notice that next to each color strip are three integer values, separated by periods (.):\n",
    "\n",
    "Tableau RGB values\n",
    "https://s3.amazonaws.com/dq-content/tableau_rgb_values.png\n",
    "\n",
    "These numbers represent the RGB values for each color. The RGB color model describes how the three primary colors (red, green, and blue) can be combined in different proportions to form any secondary color. The RGB color model is very familiar to people who work in photography, filmography, graphic design, and any field that use colors extensively. In computers, each RGB value can range between 0 and 255. This is because 256 integer values can be represented using 8 bits. You can read more about 8-bit color here.\n",
    "\n",
    "The first color in the palette is a color that resembles dark blue and has the following RGB values:\n",
    "\n",
    "Red: 0\n",
    "Green: 107\n",
    "Blue: 164\n",
    "To specify a line color using RGB values, we pass in a tuple of the values to the c parameter when we generate the line chart. Matplotlib expects each value to be scaled down and to range between 0 and 1 (not 0 and 255). In the following code, we scale the first color, which resembles dark blue, in the Color Blind 10 palette and set it as the line color:\n",
    "\n",
    "cb_dark_blue = (0/255,107/255,164/255)\n",
    "ax.plot(women_degrees['Year'], women_degrees['Biology'], label='Women', c=cb_dark_blue)\n",
    "\n",
    "Instructions\n",
    "Modify the starter code to:\n",
    "Set the line color for the line charts visualizing women percentages to the dark blue color from the Color Blind 10 palette (RGB value of (0, 107, 164)).\n",
    "Set the line color for the line charts visualizing men percentages to the orange color from the Color Blind 10 palette (RGB value of (255, 128, 14)).\n",
    "Display the figure after you've made these changes."
   ]
  },
  {
   "cell_type": "code",
   "execution_count": null,
   "metadata": {
    "collapsed": true
   },
   "outputs": [],
   "source": [
    "fig = plt.figure(figsize=(12, 12))\n",
    "\n",
    "for sp in range(0,4):\n",
    "    ax = fig.add_subplot(2,2,sp+1)\n",
    "    # The color for each line is assigned here.\n",
    "    ax.plot(women_degrees['Year'], women_degrees[major_cats[sp]], c='blue', label='Women')\n",
    "    ax.plot(women_degrees['Year'], 100-women_degrees[major_cats[sp]], c='green', label='Men')\n",
    "    for key,spine in ax.spines.items():\n",
    "        spine.set_visible(False)\n",
    "    ax.set_xlim(1968, 2011)\n",
    "    ax.set_ylim(0,100)\n",
    "    ax.set_title(major_cats[sp])\n",
    "    ax.tick_params(bottom=\"off\", top=\"off\", left=\"off\", right=\"off\")\n",
    "\n",
    "plt.legend(loc='upper right')\n",
    "plt.show()"
   ]
  },
  {
   "cell_type": "raw",
   "metadata": {},
   "source": [
    "4. Setting Line Width\n",
    "\n",
    "By default, the actual lines reflecting the underlying data in the line charts we've been generating are quite thin. The white color in the blank area in the line charts is still a dominating color. To emphasize the lines in the plots, we can increase the width of each line. Increasing the line width also improves the data-ink ratio a little bit, because more of the chart area is used to showcase the data.\n",
    "\n",
    "When we call the Axes.plot() method, we can use the linewidth parameter to specify the line width. Matplotlib expects a float value for this parameter:\n",
    "\n",
    "ax.plot(women_degrees['Year'], women_degrees['Biology'], label='Women', c=cb_dark_blue, linewidth=2)\n",
    "The higher the line width, the thicker each line will be.\n",
    "\n",
    "Instructions\n",
    "Modify the starter code to set the line widths for both line charts to 3."
   ]
  },
  {
   "cell_type": "code",
   "execution_count": null,
   "metadata": {
    "collapsed": true
   },
   "outputs": [],
   "source": [
    "cb_dark_blue = (0/255, 107/255, 164/255)\n",
    "cb_orange = (255/255, 128/255, 14/255)\n",
    "\n",
    "fig = plt.figure(figsize=(12, 12))\n",
    "\n",
    "for sp in range(0,4):\n",
    "    ax = fig.add_subplot(2,2,sp+1)\n",
    "    # Set the line width when specifying how each line should look.\n",
    "    ax.plot(women_degrees['Year'], women_degrees[major_cats[sp]], c=cb_dark_blue, label='Women', linewidth = 3)\n",
    "    ax.plot(women_degrees['Year'], 100-women_degrees[major_cats[sp]], c=cb_orange, label='Men', linewidth = 3)\n",
    "    for key,spine in ax.spines.items():\n",
    "        spine.set_visible(False)\n",
    "    ax.set_xlim(1968, 2011)\n",
    "    ax.set_ylim(0,100)\n",
    "    ax.set_title(major_cats[sp])\n",
    "    ax.tick_params(bottom=\"off\", top=\"off\", left=\"off\", right=\"off\")\n",
    "\n",
    "plt.legend(loc='upper right')\n",
    "plt.show()"
   ]
  },
  {
   "cell_type": "raw",
   "metadata": {},
   "source": [
    "5. Improve the Layout and Ordering\n",
    "\n",
    "So far, we've been generating our line charts on a 2 by 2 subplot grid. If we wanted to visualize all six STEM degrees, we'd need to either add a new column or a new row. Unfortunately, neither solution orders the plots in a beneficial way to the viewer. By scanning horizontally or vertically, a viewer isn't able to learn any new information and this can cause some frustration as the viewer's gaze jumps around the image.\n",
    "\n",
    "To make the viewing experience more coherent, we can:\n",
    "\n",
    "use layout of a single row with multiple columns\n",
    "order the plots in decreasing order of initial gender gap\n",
    "Here's what that would look like:\n",
    "\n",
    "Line Charts Ordered By Decreasing Initial Gender Gap\n",
    "https://s3.amazonaws.com/dq-content/line_charts_dec_initial_gg.png\n",
    "\n",
    "The leftmost plot has the largest gender gap in 1968 while the rightmost plot has the smallest gender gap in 1968. If we're instead interested in the recent gender gaps in STEM degrees, we can order the plots from largest to smallest ending gender gaps. Here's what that would look like:\n",
    "\n",
    "Line Charts Ordered By Decreasing Ending Gender Gap\n",
    "https://s3.amazonaws.com/dq-content/line_charts_dec_ending_gg.png\n",
    "\n",
    "In this exercise, you'll order the charts by decreasing ending gender gap. We've populated the list stem_cats with the six STEM degree categories. In the next step, we'll explore how we can replace the legend, which is currently overlapping with the rightmost line chart.\n",
    "\n",
    "Instructions\n",
    "Modify the starter code to:\n",
    "Change the width of the figure to a width of 18 inches and a height of 3 inches.\n",
    "In the for loop, change the range to (0,6) instead of (0,4).\n",
    "Change the subplot layout from 2 rows by 2 columns to 1 row by 6 columns.\n",
    "Use stem_cats instead of major_cats when generating and setting the titles for the line charts."
   ]
  },
  {
   "cell_type": "code",
   "execution_count": null,
   "metadata": {
    "collapsed": true
   },
   "outputs": [],
   "source": [
    "stem_cats = ['Engineering', 'Computer Science', 'Psychology', 'Biology', 'Physical Sciences', 'Math and Statistics']\n",
    "\n",
    "fig = plt.figure(figsize=(18, 3))\n",
    "\n",
    "for sp in range(0,6):\n",
    "    ax = fig.add_subplot(1,6,sp+1)\n",
    "    ax.plot(women_degrees['Year'], women_degrees[stem_cats[sp]], c=cb_dark_blue, label='Women', linewidth=3)\n",
    "    ax.plot(women_degrees['Year'], 100-women_degrees[stem_cats[sp]], c=cb_orange, label='Men', linewidth=3)\n",
    "    for key,spine in ax.spines.items():\n",
    "        spine.set_visible(False)\n",
    "    ax.set_xlim(1968, 2011)\n",
    "    ax.set_ylim(0,100)\n",
    "    ax.set_title(stem_cats[sp])\n",
    "    ax.tick_params(bottom=\"off\", top=\"off\", left=\"off\", right=\"off\")\n",
    "\n",
    "plt.legend(loc='upper right')\n",
    "plt.show()"
   ]
  },
  {
   "cell_type": "raw",
   "metadata": {},
   "source": [
    "6. Replacing the Legend With Annotations\n",
    "\n",
    "The purpose of a legend is to ascribe meaning to symbols or colors in a chart. We're using it to inform the viewer of what gender corresponds to each color. Tufte encourages removing legends entirely if the same information can be conveyed in a cleaner way. Legends consist of non-data ink and take up precious space that could be used for the visualizations themselves (data-ink).\n",
    "\n",
    "Instead of trying to move the legend to a better location, we can replace it entirely by annotating the lines directly with the corresponding genders:\n",
    "\n",
    "Annotated Legend\n",
    "https://s3.amazonaws.com/dq-content/annotated_legend.png\n",
    "\n",
    "If you notice, even the position of the text annotations have meaning. In both plots, the annotation for Men is positioned above the orange line while the annotation for Women is positioned below the dark blue line. This positioning subtly suggests that men are a majority for the degree categories the line charts are representing (Engineering and Math and Statistics) and women are a minority for those degree categories.\n",
    "\n",
    "Combined, these two observations suggest that we should stick with annotating just the leftmost and the rightmost line charts, prioritizing the data-ink ratio over the consistency of elements."
   ]
  },
  {
   "cell_type": "raw",
   "metadata": {},
   "source": [
    "7. Annotating in Matplotlib\n",
    "\n",
    "To add text annotations to a matplotlib plot, we use the Axes.text() [https://matplotlib.org/api/axes_api.html#matplotlib.axes.Axes.text] method. This method has a few required parameters:\n",
    "\n",
    "x: x-axis coordinate (as a float)\n",
    "y: y-axis coordinate (as a float)\n",
    "s: the text we want in the annotation (as a string value)\n",
    "The values in the coordinate grid match exactly with the data ranges for the x-axis and the y-axis. If we want to add text at the intersection of 1970 from the x-axis and 0 from the y-axis, we would pass in those values:\n",
    "\n",
    "ax.text(1970, 0, \"starting point\")\n",
    "\n",
    "Instructions\n",
    "Add the following text annotations in the leftmost chart:\n",
    "The string \"Men\" at the x-axis coordinate of 2005 and the y-axis coordinate of 87.\n",
    "The string \"Women\" at the x-axis coordinate of 2002 and the y-axis coordinate of 8.\n",
    "Add the following text annotations in the rightmost chart:\n",
    "The string \"Men\" at the x-axis coordinate of 2005 and the y-axis coordinate of 62.\n",
    "The string \"Women\" at the x-axis coordinate of 2001 and the y-axis coordinate of 35."
   ]
  },
  {
   "cell_type": "code",
   "execution_count": null,
   "metadata": {
    "collapsed": true
   },
   "outputs": [],
   "source": [
    "fig = plt.figure(figsize=(18, 3))\n",
    "\n",
    "for sp in range(0,6):\n",
    "    ax = fig.add_subplot(1,6,sp+1)\n",
    "    ax.plot(women_degrees['Year'], women_degrees[stem_cats[sp]], c=cb_dark_blue, label='Women', linewidth=3)\n",
    "    ax.plot(women_degrees['Year'], 100-women_degrees[stem_cats[sp]], c=cb_orange, label='Men', linewidth=3)\n",
    "    for key,spine in ax.spines.items():\n",
    "        spine.set_visible(False)\n",
    "    ax.set_xlim(1968, 2011)\n",
    "    ax.set_ylim(0,100)\n",
    "    ax.set_title(stem_cats[sp])\n",
    "    ax.tick_params(bottom=\"off\", top=\"off\", left=\"off\", right=\"off\")\n",
    "    if sp == 0:\n",
    "        ax.text(2005, 87, \"Men\")\n",
    "        ax.text(2002, 8, \"Women\")\n",
    "    if sp == 5:\n",
    "        ax.text(2005,62, \"Men\")\n",
    "        ax.text(2001,35, \"Women\")\n",
    "        \n",
    "plt.show()"
   ]
  }
 ],
 "metadata": {
  "kernelspec": {
   "display_name": "Python 2",
   "language": "python",
   "name": "python2"
  },
  "language_info": {
   "codemirror_mode": {
    "name": "ipython",
    "version": 2
   },
   "file_extension": ".py",
   "mimetype": "text/x-python",
   "name": "python",
   "nbconvert_exporter": "python",
   "pygments_lexer": "ipython2",
   "version": "2.7.14"
  }
 },
 "nbformat": 4,
 "nbformat_minor": 2
}
