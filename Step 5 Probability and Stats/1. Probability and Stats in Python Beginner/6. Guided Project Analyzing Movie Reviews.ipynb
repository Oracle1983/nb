{
 "cells": [
  {
   "cell_type": "markdown",
   "metadata": {},
   "source": [
    "# Step 5 Introduction to Stats - Guided Project Analyzing Movie Reviews"
   ]
  },
  {
   "cell_type": "raw",
   "metadata": {},
   "source": [
    "1. Movie Reviews\n",
    "\n",
    "In this project, you'll be working with Jupyter notebook, and analyzing data on movie review scores. By the end, you'll have a notebook that you can add to your portfolio or build on top of on your own. If you need help at any point, you can consult our solution notebook here [https://github.com/dataquestio/solutions/blob/master/Mission209Solution.ipynb].\n",
    "\n",
    "The dataset is stored in the fandango_score_comparison.csv file. It contains information on how major movie review services rated movies. The data originally came from FiveThirtyEight.\n",
    "\n",
    "Here are the first few rows of the data, in CSV format:\n",
    "\n",
    "Each row represents a single movie. Each column contains information about how the online moview review services RottenTomatoes, Metacritic, IMDB, and Fandango rated the movie. The dataset was put together to help detect bias in the movie review sites. Each of these sites has 2 types of score -- User scores, which aggregate user reviews, and Critic score, which aggregate professional critical reviews of the movie. Each service puts their ratings on a different scale:\n",
    "\n",
    "RottenTomatoes - 0-100, in increments of 1.\n",
    "Metacritic - 0-100, in increments of 1.\n",
    "IMDB - 0-10, in increments of .1.\n",
    "Fandango - 0-5, in increments of .5.\n",
    "Typically, the primary score shown by the sites will be the Critic score. Here are descriptions of some of the relevant columns in the dataset:\n",
    "\n",
    "FILM -- the name of the movie.\n",
    "RottenTomatoes -- the RottenTomatoes (RT) critic score.\n",
    "RottenTomatoes_User -- the RT user score.\n",
    "Metacritic -- the Metacritic critic score.\n",
    "Metacritic_User -- the Metacritic user score.\n",
    "IMDB -- the IMDB score given to the movie.\n",
    "Fandango_Stars -- the number of stars Fandango gave the movie.\n",
    "To make it easier to compare scores across services, the columns were normalized so their scale and rounding matched the Fandango ratings. Any column with the suffix _norm is the corresponding column changed to a 0-5 scale. For example, RT_norm takes the RottenTomatoes column and turns it into a 0-5 scale from a 0-100 scale. Any column with the suffix _round is the rounded version of another column. For example, RT_user_norm_round rounds the RT_user_norm column to the nearest .5.\n",
    "\n",
    "Instructions\n",
    "Read fandango_score_comparison.csv into a Dataframe named movies.\n",
    "Display the movies DataFrame by just typing the variable name and running the code cell.\n",
    "If you're unfamiliar with RottenTomatoes, Metacritic, IMDB, or Fandango, visit the websites to get a better handle on their review methodology."
   ]
  },
  {
   "cell_type": "raw",
   "metadata": {},
   "source": [
    "2. Histograms\n",
    "\n",
    "Now that you've read the dataset in, you can do some statistical exploration of the ratings columns. We'll primarily focus on the Metacritic_norm_round and the Fandango_Stars columns, which will let you see how Fandango and Metacritic differ in terms of review scores.\n",
    "\n",
    "Instructions\n",
    "Enable plotting in Jupyter notebook with import matplotlib.pyplot as plt and run the following magic %matplotlib inline.\n",
    "Create a histogram of the Metacritic_norm_round column.\n",
    "Create a histogram of the Fandango_Stars column.\n",
    "Look critically at both histograms, and write up any differences you see in a markdown cell."
   ]
  },
  {
   "cell_type": "raw",
   "metadata": {},
   "source": [
    "3. Mean, median, and standard deviation\n",
    "\n",
    "In the last screen, you may have noticed some differences between the Fandango and Metacritic scores. Metrics we've covered, including the mean, median, and standard deviation, allow you to quantify these differences. You can apply these metrics to the Fandango_Stars and Metacritic_norm_round columns to figure out how different they are.\n",
    "\n",
    "Instructions\n",
    "Calculate the mean of both Fandango_Stars and Metacritic_norm_round.\n",
    "Calculate the median of both Fandango_Stars and Metacritic_norm_round.\n",
    "Calculate the standard deviation of both Fandango_Stars and Metacritic_norm_round. You can use the numpy.std [http://docs.scipy.org/doc/numpy/reference/generated/numpy.std] method to find this.\n",
    "Print out all the values and look over them.\n",
    "Look at the review methodologies for Metacritic and Fandango. You can find the methodologies on their websites, or by using Google. Do you see any major differences? Write them up in a markdown cell.\n",
    "Write up the differences in numbers in a markdown cell, including the following:\n",
    "Why would the median for Metacritic_norm_round be lower than the mean, but the median for Fandango_Stars is higher than the mean? Recall that the mean is usually larger than the median when there are a few large values in the data, and lower when there are a few small values.\n",
    "Why would the standard deviation for Fandango_Stars be much lower than the standard deviation for Metacritic_norm_round?\n",
    "Why would the mean for Fandango_Stars be much higher than the mean for Metacritic_norm_round."
   ]
  },
  {
   "cell_type": "raw",
   "metadata": {},
   "source": [
    "4. Scatter plots\n",
    "\n",
    "We know the ratings tend to differ, but we don't know which movies tend to be the largest outliers. You can find this by making a scatterplot, then looking at which movies are far away from the others.\n",
    "\n",
    "You can also subtract the Fandango_Stars column from the Metacritic_norm_round column, take the absolute value, and sort movies based on the difference to find the movies with the largest differences between their Metacritic and Fandango ratings.\n",
    "\n",
    "Instructions\n",
    "Make a scatterplot that compares the Fandango_Stars column to the Metacritic_norm_round column.\n",
    "Several movies appear to have low ratings in Metacritic and high ratings in Fandango, or vice versa. We can explore this further by finding the differences between the columns.\n",
    "Subtract the Fandango_Stars column from the Metacritic_norm_round column, and assign to a new column, fm_diff, in movies.\n",
    "Assign the absolute value [http://docs.scipy.org/doc/numpy-1.10.0/reference/generated/numpy.absolute.html] of fm_diff to fm_diff. This will ensure that we don't only look at cases where Metacritic_norm_round is greater than Fandango_Stars.\n",
    "You can calculate absolute values with the absolute function in NumPy.\n",
    "Sort movies based on the fm_diff column, in descending order.\n",
    "Print out the top 5 movies with the biggest differences between Fandango_Stars and Metacritic_norm_round."
   ]
  },
  {
   "cell_type": "raw",
   "metadata": {},
   "source": [
    "5. Correlations\n",
    "\n",
    "Let's see what the correlation coefficient between Fandango_Stars and Metacritic_norm_round is. This will help you determine if Fandango consistently has higher scores than Metacritic, or if only a few movies were assigned higher ratings.\n",
    "\n",
    "You can then create a linear regression to see what the predicted Fandango score would be based on the Metacritic score.\n",
    "\n",
    "Instructions\n",
    "Calculate the r-value measuring the correlation between Fandango_Stars and Metacritic_norm_round using the scipy.stats.pearsonr [http://docs.scipy.org/doc/scipy-0.16.0/reference/generated/scipy.stats.pearsonr.html] function.\n",
    "The correlation is actually fairly low. Write up a markdown cell that discusses what this might mean.\n",
    "Use the scipy.stats.linregress [http://docs.scipy.org/doc/scipy/reference/generated/scipy.stats.linregress.html] function create a linear regression with Metacritic_norm_round as the x-values and Fandango_Stars as the y-values.\n",
    "Predict what a movie that got a 3.0 in Metacritic would get on Fandango using the formula pred_3 = 3 * slope + intercept."
   ]
  },
  {
   "cell_type": "raw",
   "metadata": {},
   "source": [
    "6. Finding residuals\n",
    "\n",
    "In the last screen, you created a linear regression for relating Metacritic_norm_round to Fandango_Stars. You can create a residual plot to better visualize how the line relates to the existing datapoints. This can help you see if two variables are linearly related or not.\n",
    "\n",
    "Instructions\n",
    "Predict what a movie that got a 1.0 in Metacritic would get on Fandango using the line from the last screen.\n",
    "Predict what a movie that got a 5.0 in Metacritic would get on Fandango using the line from the last screen.\n",
    "Make a scatter plot using the scatter function in matplotlib.pyplot.\n",
    "On top of the scatter plot, use the plot function in matplotlib.pyplot to plot a line using the predicted values for 1.0 and 5.0.\n",
    "Setup the x values as the list [1.0, 5.0].\n",
    "The y values should be a list with the corresponding predictions.\n",
    "Pass in both x and y to plot to create a line.\n",
    "Set the x-limits of the plot to 1 and 5 using the pyplot.xlim() [http://matplotlib.org/api/pyplot_api.html#matplotlib.pyplot.xlim] method.\n",
    "Show the plot."
   ]
  },
  {
   "cell_type": "raw",
   "metadata": {},
   "source": [
    "7. Next steps\n",
    "\n",
    "That's it for the guided steps! We recommend exploring the data more on your own.\n",
    "\n",
    "Here are some potential next steps:\n",
    "\n",
    "Explore the other rating services, IMDB and RottenTomatoes.\n",
    "See how they differ from each other.\n",
    "See how they differ from Fandango.\n",
    "See how user scores differ from critic scores.\n",
    "Acquire more recent review data, and see if the pattern of Fandango inflating reviews persists.\n",
    "Dig more into why certain movies had their scores inflated more than others.\n",
    "We recommend creating a Github repository and placing this project there. It will help other people, including employers, see your work. As you start to put multiple projects on Github, you'll have the beginnings of a strong portfolio.\n",
    "\n",
    "You're welcome to keep working on the project here, but we recommend downloading it to your computer using the download icon above and working on it there."
   ]
  }
 ],
 "metadata": {
  "kernelspec": {
   "display_name": "Python 2",
   "language": "python",
   "name": "python2"
  },
  "language_info": {
   "codemirror_mode": {
    "name": "ipython",
    "version": 2
   },
   "file_extension": ".py",
   "mimetype": "text/x-python",
   "name": "python",
   "nbconvert_exporter": "python",
   "pygments_lexer": "ipython2",
   "version": "2.7.14"
  }
 },
 "nbformat": 4,
 "nbformat_minor": 2
}
