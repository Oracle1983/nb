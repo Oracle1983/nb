{
 "cells": [
  {
   "cell_type": "markdown",
   "metadata": {},
   "source": [
    "# Step 2 Data Analysis and Visualisation - Improving Plot Aesthetics"
   ]
  },
  {
   "cell_type": "raw",
   "metadata": {},
   "source": [
    "1. Introduction\n",
    "\n",
    "In the Exploratory Data Visualization course, we learned how to use visualizations to explore and understand data. Because we were focused on exploring trends and getting familiar with the data, we didn't focus much on tweaking the appearance of the plots to make them more presentable to others. We instead focused on the workflow of quickly creating, tweaking, displaying, and iterating on plots.\n",
    "\n",
    "In this course, we'll focus on how to use data visualization to communicate insights and tell stories. In this mission, we'll start with a standard matplotlib plot and improve its appearance to better communicate the patterns we want a viewer to understand. Along the way, we'll introduce the principles that informed those changes and provide a framework for you to apply them in the future. Here's a preview that demonstrates some of the improvements we make in this course:\n",
    "\n",
    "Storytelling Course Overview\n",
    "https://s3.amazonaws.com/dq-content/storytelling_course_overview.png"
   ]
  },
  {
   "cell_type": "raw",
   "metadata": {},
   "source": [
    "2. Introduction to The Data\n",
    "\n",
    "The Department of Education Statistics releases a data set annually containing the percentage of bachelor's degrees granted to women from 1970 to 2012. The data set is broken up into 17 categories of degrees, with each column as a separate category.\n",
    "\n",
    "Randal Olson, a data scientist at University of Pennsylvania, has cleaned the data set and made it available on his personal website. You can download the dataset Randal compiled here [http://www.randalolson.com/wp-content/uploads/percent-bachelors-degrees-women-usa.csv]. Here's a preview of the first few rows:\n",
    "\n",
    "Year\tAgriculture\tArchitecture\tArt and Performance\tBiology\tBusiness\tCommunications and Journalism\tComputer Science\tEducation\tEngineering\tEnglish\tForeign Languages\tHealth Professions\tMath and Statistics\tPhysical Sciences\tPsychology\tPublic Administration\tSocial Sciences and History\n",
    "1970\t4.229798\t11.921005\t59.7\t29.088363\t9.064439\t35.3\t13.6\t74.535328\t0.8\t65.570923\t73.8\t77.1\t38.0\t13.8\t44.4\t68.4\t36.8\n",
    "1971\t5.452797\t12.003106\t59.9\t29.394403\t9.503187\t35.5\t13.6\t74.149204\t1.0\t64.556485\t73.9\t75.5\t39.0\t14.9\t46.2\t65.5\t36.2\n",
    "1972\t7.420710\t13.214594\t60.4\t29.810221\t10.558962\t36.6\t14.9\t73.554520\t1.2\t63.664263\t74.6\t76.9\t40.2\t14.8\t47.6\t62.6\t36.1\n",
    "Randal compiled this data set to explore the gender gap in STEM fields, which stands for science, technology, engineering, and mathematics. This gap is reported on often in the news and not everyone agrees that there is a gap.\n",
    "\n",
    "In this mission and the next few missions, we'll explore how we can communicate the nuanced narrative of gender gap using effective data visualization. Let's first generate a standard matplotlib plot.\n",
    "\n",
    "Instructions\n",
    "Generate a line chart that visualizes the historical percentage of Biology degrees awarded to women:\n",
    "Set the x-axis to the Year column from women_degrees.\n",
    "Set the y-axis to the Biology column from women_degrees.\n",
    "Display the plot."
   ]
  },
  {
   "cell_type": "code",
   "execution_count": null,
   "metadata": {
    "collapsed": true
   },
   "outputs": [],
   "source": [
    "import pandas as pd\n",
    "import matplotlib.pyplot as plt\n",
    "\n",
    "women_degrees = pd.read_csv('percent-bachelors-degrees-women-usa.csv')\n",
    "\n",
    "x = women_degrees['Year']\n",
    "y = women_degrees['Biology']\n",
    "\n",
    "plt.plot(x,y)\n",
    "plt.show()"
   ]
  },
  {
   "cell_type": "raw",
   "metadata": {},
   "source": [
    "3. Visualizing The Gender Gap\n",
    "\n",
    "From the plot, we can tell that Biology degrees increased steadily from 1970 and peaked in the early 2000's. We can also tell that the percentage has stayed above 50% since around 1987. While it's helpful to visualize the trend of Biology degrees awarded to women, it only tells half the story. If we want the gender gap to be apparent and emphasized in the plot, we need a visual analogy to the difference in the percentages between the genders.\n",
    "\n",
    "If we visualize the trend of Biology degrees awarded to men on the same plot, a viewer can observe the space between the lines for each gender. We can calculate the percentages of Biology degrees awarded to men by subtracting each value in the Biology column from 100. Once we have the male percentages, we can generate two line charts as part of the same diagram.\n",
    "\n",
    "Let's now create a diagram containing both the line charts we just described.\n",
    "\n",
    "Instructions\n",
    "Generate 2 line charts on the same figure:\n",
    "One that visualizes the percentages of Biology degrees awarded to women over time. Set the line color to \"blue\" and the label to \"Women\".\n",
    "One that visualizes the percentages of Biology degrees awarded to men over time. Set the line color to \"green\" and the label to \"Men\".\n",
    "Set the title of the chart to \"Percentage of Biology Degrees Awarded By Gender\".\n",
    "Generate a legend and place it in the \"upper right\" location.\n",
    "Display the chart."
   ]
  },
  {
   "cell_type": "code",
   "execution_count": null,
   "metadata": {
    "collapsed": true
   },
   "outputs": [],
   "source": [
    "import matplotlib.pyplot as plt\n",
    "import pandas as pd\n",
    "\n",
    "plt.plot(women_degrees['Year'], women_degrees['Biology'], c='blue', label='Women')\n",
    "plt.plot(women_degrees['Year'], 100-women_degrees['Biology'], c='green', label='Men')\n",
    "plt.legend(loc='upper right')\n",
    "plt.title('Percentage of Biology Degrees Awarded By Gender')\n",
    "plt.show()"
   ]
  },
  {
   "cell_type": "raw",
   "metadata": {},
   "source": [
    "4. Data-Ink Ratio\n",
    "\n",
    "The chart containing both line charts tells a more complete story than the one containing just the line chart that visualized just the women percentages. This plot instead tells the story of two distinct periods. In the first period, from 1970 to around 1987, women were a minority when it came to majoring in Biology while in the second period, from around 1987 to around 2012, women became a majority. You can see the point where women overtook men where the lines intersect. While a viewer could have reached the same conclusions using the individual line chart of just the women percentages, it would have required more effort and mental processing on their part.\n",
    "\n",
    "Although our plot is better, it still contains some extra visual elements that aren't necessary to understand the data. We're interested in helping people understand the gender gap in different fields across time. These excess elements, sometimes known as chartjunk, increase as we add more plots for visualizing the other degrees, making it harder for anyone trying to interpret our charts. In general, we want to maximize the data-ink ratio, which is the fractional amount of the plotting area dedicated to displaying the data.\n",
    "\n",
    "The following is an animated GIF by Darkhorse Analytics that shows a series of tweaks for boosting the data-ink ratio:\n",
    "\n",
    "Darkhorse Analytics GIF\n",
    "http://cdn2.hubspot.net/hubfs/2020805/Imported_Blog_Media/data-ink.gif?t=1477583494534\n",
    "\n",
    "Non-data ink includes any elements in the chart that don't directly display data points. This includes tick markers, tick labels, and legends. Data ink includes any elements that display and depend on the data points underlying the chart. In a line chart, data ink would primarily be the lines and in a scatter plot, the data ink would primarily be in the markers. As we increase the data-ink ratio, we decrease non-data ink that can help a viewer understand certain aspects of the plots. We need to be mindful of this trade-off as we work on tweaking the appearance of plots to tell a story, because plots we create could end up telling the wrong story.\n",
    "\n",
    "This principle was originally set forth by Edward Tufte, a pioneer of the field of data visualization. Tufte's first book, The Visual Display of Quantitative Information, is considered a bible among information designers. We cover some of the ideas presented in the book in this course, but we recommend going through the entire book for more depth.\n",
    "\n",
    "To improve the data-ink ratio, let's make the following changes to the plot we created in the last step:\n",
    "\n",
    "Remove all of the axis tick marks.\n",
    "Hide the spines, which are the lines that connects the tick marks, on each axis."
   ]
  },
  {
   "cell_type": "raw",
   "metadata": {},
   "source": [
    "5. Hiding Tick Marks\n",
    "\n",
    "To customize the appearance of the ticks, we use the Axes.tick_params() [https://matplotlib.org/api/axes_api.html#matplotlib.axes.Axes.tick_params] method. Using this method, we can modify which tick marks and tick labels are displayed. By default, matplotlib displays the tick marks on all four sides of the plot. Here are the four sides for a standard line chart:\n",
    "\n",
    "The left side is the y-axis.\n",
    "The bottom side is the x-axis.\n",
    "The top side is across from the x-axis.\n",
    "The right side is across from the y-axis.\n",
    "The parameters for enabling or disabling tick marks are conveniently named after the sides. To hide all of them, we need to pass in the following values for each parameter when we call Axes.tick_params():\n",
    "\n",
    "bottom: \"off\"\n",
    "top: \"off\"\n",
    "left: \"off\"\n",
    "right: \"off\"\n",
    "\n",
    "Instructions\n",
    "Generate 2 line chart in the same plotting area:\n",
    "One that visualizes the percentages of Biology degrees awarded to women over time. Set the line color to \"blue\" and the label to \"Women\".\n",
    "One that visualizes the percentages of Biology degrees awarded to men over time. Set the line color to \"green\" and the label to \"Men\".\n",
    "Remove all of the tick marks.\n",
    "Set the title of the plot to \"Percentage of Biology Degrees Awarded By Gender\".\n",
    "Generate a legend and place it in the \"upper right\" location.\n",
    "Display the chart."
   ]
  },
  {
   "cell_type": "code",
   "execution_count": null,
   "metadata": {
    "collapsed": true
   },
   "outputs": [],
   "source": [
    "import pandas as pd\n",
    "import matplotlib.pyplot as plt\n",
    "\n",
    "plt.plot(women_degrees['Year'], women_degrees['Biology'], c='blue', label='Women')\n",
    "plt.plot(women_degrees['Year'], 100-women_degrees['Biology'], c='green', label='Men')\n",
    "plt.legend(loc='upper right')\n",
    "plt.tick_params(bottom = \"off\", top = \"off\", left = \"off\", right = \"off\")\n",
    "plt.title('Percentage of Biology Degrees Awarded By Gender')\n",
    "plt.show()"
   ]
  },
  {
   "cell_type": "raw",
   "metadata": {},
   "source": [
    "6. Hiding Spines\n",
    "\n",
    "With the axis tick marks gone, the data-ink ratio is improved and the chart looks much cleaner. In addition, the spines in the chart now are no longer necessary. When we're exploring data, the spines and the ticks complement each other to help us refer back to specific data points or ranges. When a viewer is viewing our chart and trying to understand the insight we're presenting, the ticks and spines can get in the way. As we mentioned earlier, chartjunk becomes much more noticeable when you have multiple plots in the same chart. By keeping the axis tick labels but not the spines or tick marks, we strike an appropriate balance between hiding chartjunk and making the data visible.\n",
    "\n",
    "In matplotlib, the spines are represented using the matplotlib.spines.Spine [https://matplotlib.org/api/spines_api.html] class. When we create an Axes instance, four Spine objects are created for us. If you run print(ax.spines), you'll get back a dictionary of the Spine objects:\n",
    "\n",
    "{'right': <matplotlib.spines.spine object=\"\" at=\"\" 0x111089c18=\"\">, 'bottom': <matplotlib.spines.spine object=\"\" at=\"\" 0x111060898=\"\">, 'top': <matplotlib.spines.spine object=\"\" at=\"\" 0x1110606a0=\"\">, 'left': <matplotlib.spines.spine object=\"\" at=\"\" 0x11107cd30=\"\">}\n",
    "</matplotlib.spines.spine></matplotlib.spines.spine></matplotlib.spines.spine></matplotlib.spines.spine>\n",
    "To hide all of the spines, we need to:\n",
    "\n",
    "access each Spine object in the dictionary\n",
    "call the Spine.set_visible() method\n",
    "pass in the Boolean value False\n",
    "The following line of code removes the spines for the right axis:\n",
    "\n",
    "ax.spines[\"right\"].set_visible(False)\n",
    "\n",
    "Instructions\n",
    "Generate 2 line charts on the same plotting area:\n",
    "One that visualizes the percentages of Biology degrees awarded to women over time. Set the line color to \"blue\" and the label to \"Women\".\n",
    "One that visualizes the percentages of Biology degrees awarded to men over time. Set the line color to \"green\" and the label to \"Men\".\n",
    "Remove all of the axis tick marks.\n",
    "Hide all of the spines.\n",
    "Set the title of the plot to \"Percentage of Biology Degrees Awarded By Gender\".\n",
    "Display the chart."
   ]
  },
  {
   "cell_type": "code",
   "execution_count": null,
   "metadata": {
    "collapsed": true
   },
   "outputs": [],
   "source": [
    "fig, ax = plt.subplots()\n",
    "ax.plot(women_degrees['Year'], women_degrees['Biology'], c = 'blue', label='Women')\n",
    "ax.plot(women_degrees['Year'], 100-women_degrees['Biology'], c = 'green', label='Men')\n",
    "ax.tick_params(bottom=\"off\", top=\"off\", left=\"off\", right=\"off\")\n",
    "# Add your code here\n",
    "ax.spines[\"right\"].set_visible(False)\n",
    "ax.spines[\"top\"].set_visible(False)\n",
    "ax.spines[\"bottom\"].set_visible(False)\n",
    "ax.spines[\"left\"].set_visible(False)\n",
    "\n",
    "ax.legend(loc='upper right')\n",
    "ax.set_title('Percentage of Biology Degrees Awarded By Gender')\n",
    "plt.show()"
   ]
  },
  {
   "cell_type": "raw",
   "metadata": {},
   "source": [
    "7. Comparing Gender Gap Across Degress Categories\n",
    "\n",
    "So far, matplotlib has set the limits automatically for each axis and this hasn't had any negative effect on communicating our story with data. If we want to generate charts to compare multiple degree categories, the axis ranges need to be consistent. Inconsistent data ranges can distort the story our charts are telling and fool the viewer.\n",
    "\n",
    "Edward Tufte often preaches that a good chart encourages comparison over just description. A good chart uses a consistent style for the elements that aren't directly conveying the data points. These elements are part of the non-data ink in the chart. By keeping the non-data ink as consistent as possible across multiple plots, differences in those elements stick out easily to the viewer. This is because our visual processing systems are excellent at discerning differences quickly and brings them to the front of our thought process. The similarities naturally fade to the back of our thought process.\n",
    "\n",
    "Let's generate line charts for four STEM degree categories on a grid to encourage comparison. Our instructions for generating the chart are cumbersome. Here's what the final chart looks like, so you can refer to it as you write your code:\n",
    "\n",
    "Four Major Categories\n",
    "https://s3.amazonaws.com/dq-content/four_major_categories_plots.png\n",
    "\n",
    "We've also added some starter code to help you generate the chart. This code uses a for loop to generate the line charts for each subplot in the chart. We can save space this way and easily tweak the code to generate other variations of the chart.\n",
    "\n",
    "Instructions\n",
    "Generate a line chart using the women and men percentages for Biology in the top left subplot.\n",
    "Generate a line chart using the women and men percentages for Computer Science in the top right subplot.\n",
    "Generate a line chart using the women and men percentages for Engineering in the bottom left subplot.\n",
    "Generate a line chart using the women and men percentages for Math and Statistics in the bottom right subplot.\n",
    "For all subplots:\n",
    "For the line chart visualizing female percentages, set the line color to \"blue\" and the label to \"Women\".\n",
    "For the line chart visualizing male percentages, set the line color to \"green\" and the label to \"Men\".\n",
    "Set the x-axis limit to range from 1968 to 2011.\n",
    "Set the y-axis limit to range from 0 to 100.\n",
    "Hide all of the spines and tick marks.\n",
    "Set the title of each subplot to the name of the major category (e.g. \"Biology\", \"Computer Science\").\n",
    "Place a legend in the upper right corner of the bottom right subplot.\n",
    "Display the plot."
   ]
  },
  {
   "cell_type": "code",
   "execution_count": null,
   "metadata": {
    "collapsed": true
   },
   "outputs": [],
   "source": [
    "major_cats = ['Biology', 'Computer Science', 'Engineering', 'Math and Statistics']\n",
    "fig = plt.figure(figsize=(12, 12))\n",
    "\n",
    "for sp in range(0,4):\n",
    "    ax = fig.add_subplot(2,2,sp+1)\n",
    "    ax.plot(women_degrees['Year'], women_degrees[major_cats[sp]], c='blue', label='Women')\n",
    "    ax.plot(women_degrees['Year'], 100-women_degrees[major_cats[sp]], c='green', label='Men')\n",
    "    # Add your code here.\n",
    "    ax.set_xlim([1968,2011])\n",
    "    ax.set_ylim([0,100])\n",
    "        \n",
    "    ax.tick_params(bottom=\"off\", top=\"off\", left=\"off\", right=\"off\")\n",
    "        \n",
    "    ax.spines[\"right\"].set_visible(False)\n",
    "    ax.spines[\"top\"].set_visible(False)\n",
    "    ax.spines[\"bottom\"].set_visible(False)\n",
    "    ax.spines[\"left\"].set_visible(False)    \n",
    "    \n",
    "    ax.set_title(major_cats[sp])\n",
    "\n",
    "# Calling pyplot.legend() here will add the legend to the last subplot that was created.\n",
    "plt.legend(loc='upper right')\n",
    "plt.show()"
   ]
  }
 ],
 "metadata": {
  "kernelspec": {
   "display_name": "Python 2",
   "language": "python",
   "name": "python2"
  },
  "language_info": {
   "codemirror_mode": {
    "name": "ipython",
    "version": 2
   },
   "file_extension": ".py",
   "mimetype": "text/x-python",
   "name": "python",
   "nbconvert_exporter": "python",
   "pygments_lexer": "ipython2",
   "version": "2.7.14"
  }
 },
 "nbformat": 4,
 "nbformat_minor": 2
}
