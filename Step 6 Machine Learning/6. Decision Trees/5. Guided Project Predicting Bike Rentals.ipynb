{
 "cells": [
  {
   "cell_type": "markdown",
   "metadata": {},
   "source": [
    "# Step 6 Machine Learning -  Guided Project Predicting Bike Rentals"
   ]
  },
  {
   "cell_type": "raw",
   "metadata": {},
   "source": [
    "1. Introduction to the Data Set\n",
    "\n",
    "Many American cities have communal bike sharing stations where you can rent bicycles by the hour or day. Washington, D.C. is one of these cities. The District collects detailed data on the number of bicycles people rent by the hour and day.\n",
    "\n",
    "Hadi Fanaee-T at the University of Porto compiled this data into a CSV file, which you'll be working with in this project. The file contains 17380 rows, with each row representing the number of bike rentals for a single hour of a single day. You can download the data from the University of California, Irvine's website [http://archive.ics.uci.edu/ml/datasets/Bike+Sharing+Dataset]. If you need help at any point, you can consult the solution notebook in our GitHub repository [https://github.com/dataquestio/solutions/blob/master/Mission213Solution.ipynb].\n",
    "\n",
    "Here's what the first five rows look like:\n",
    "\n",
    "Imgur\n",
    "\n",
    "Here are the descriptions for the relevant columns:\n",
    "\n",
    "instant - A unique sequential ID number for each row\n",
    "dteday - The date of the rentals\n",
    "season - The season in which the rentals occurred\n",
    "yr - The year the rentals occurred\n",
    "mnth - The month the rentals occurred\n",
    "hr - The hour the rentals occurred\n",
    "holiday - Whether or not the day was a holiday\n",
    "weekday - The day of the week (as a number, 0 to 7)\n",
    "workingday - Whether or not the day was a working day\n",
    "weathersit - The weather (as a categorical variable)\n",
    "temp - The temperature, on a 0-1 scale\n",
    "atemp - The adjusted temperature\n",
    "hum - The humidity, on a 0-1 scale\n",
    "windspeed - The wind speed, on a 0-1 scale\n",
    "casual - The number of casual riders (people who hadn't previously signed up with the bike sharing program)\n",
    "registered - The number of registered riders (people who had already signed up)\n",
    "cnt - The total number of bike rentals (casual + registered)\n",
    "In this project, you'll try to predict the total number of bikes people rented in a given hour. You'll predict the cnt column using all of the other columns, except for casual and registered. To accomplish this, you'll create a few different machine learning models and evaluate their performance.\n",
    "\n",
    "Instructions\n",
    "Use the pandas library to read bike_rental_hour.csv into the dataframe bike_rentals.\n",
    "Print out the first few rows of bike_rentals and take a look at the data.\n",
    "Make a histogram of the cnt column of bike_rentals, and take a look at the distribution of total rentals.\n",
    "Use the corr [http://pandas.pydata.org/pandas-docs/stable/generated/pandas.DataFrame.corr.html] method on the bike_rentals dataframe to explore how each column is correlated with cnt."
   ]
  },
  {
   "cell_type": "raw",
   "metadata": {},
   "source": [
    "2. Calculating Features\n",
    "\n",
    "It can often be helpful to calculate features before applying machine learning models. Features can enhance the accuracy of models by introducing new information, or distilling existing information.\n",
    "\n",
    "For example, the hr column in bike_rentals contains the hours during which bikes are rented, from 1 to 24. A machine will treat each hour differently, without understanding that certain hours are related. We can introduce some order into the process by creating a new column with labels for morning, afternoon, evening, and night. This will bundle similar times together, enabling the model to make better decisions.\n",
    "\n",
    "Instructions\n",
    "Write a function called assign_label that takes in a numeric value for an hour, and returns:\n",
    "1 if the hour is from 6 to 12\n",
    "2 if the hour is from 12 to 18\n",
    "3 if the hour is from 18 to 24\n",
    "4 if the hour is from 0 to 6\n",
    "Use the apply [http://pandas.pydata.org/pandas-docs/stable/generated/pandas.Series.apply.html] method on series objects to apply the function to each item in the hr column.\n",
    "Assign the result to the time_label column of bike_rentals."
   ]
  },
  {
   "cell_type": "code",
   "execution_count": null,
   "metadata": {
    "collapsed": true
   },
   "outputs": [],
   "source": [
    "from sklearn.tree import DecisionTreeClassifier\n",
    "from sklearn.metrics import roc_auc_score\n",
    "\n",
    "columns = [\"age\", \"workclass\", \"education_num\", \"marital_status\", \"occupation\", \"relationship\", \"race\", \"sex\", \"hours_per_week\", \"native_country\"]\n",
    "\n",
    "clf = DecisionTreeClassifier(random_state=1, min_samples_leaf=2)\n",
    "clf.fit(train[columns], train[\"high_income\"])\n",
    "\n",
    "clf2 = DecisionTreeClassifier(random_state=1, max_depth=5)\n",
    "clf2.fit(train[columns], train[\"high_income\"])"
   ]
  },
  {
   "cell_type": "raw",
   "metadata": {},
   "source": [
    "3. Splitting the Data Into Train and Test Sets\n",
    "\n",
    "Before you can begin applying machine learning algorithms, you'll need to split the data into training and testing sets. This will enable you to train an algorithm using the training set, and evaluate its accuracy on the testing set. If you train an algorithm on the training data, then evaluate its performance on the same data, you can get an unrealistically low error value, due to overfitting.\n",
    "\n",
    "Instructions\n",
    "Based on your explorations of the cnt column, pick an error metric you want to use to evaluate the performance of the machine learning algorithms. Explain why you chose this metric in a markdown cell.\n",
    "Select 80% of the rows in bike_rentals to be part of the training set using the sample [http://pandas.pydata.org/pandas-docs/stable/generated/pandas.DataFrame.sample.html] method on bike_rentals. Assign the result to train.\n",
    "Select the rows that are in bike_rentals but not in train to be in the testing set. Assign the result to test.\n",
    "This line will generate a Boolean series that's False when a row in bike_rentals isn't found in train: bike_rentals.index.isin(train.index)\n",
    "This line will select any rows in bike_rentals that aren't found in train to be in the testing set: bike_rentals.loc[~bike_rentals.index.isin(train.index)]"
   ]
  },
  {
   "cell_type": "raw",
   "metadata": {},
   "source": [
    "4. Applying Linear Regression\n",
    "\n",
    "Now that you've done some exploration and manipulation, you're ready to apply linear regression to the data. Linear regression will probably work fairly well on this data, given that many of the columns are highly correlated with cnt.\n",
    "\n",
    "As you learned in earlier missions, linear regression works best when predictors are linearly correlated to the target and also independent -- in other words, they don't change meaning when we combine them with each other. The good thing about linear regression is that it's fairly resistant to overfitting because it's straightforward. It also can be prone to underfitting the data, however, and not building a powerful enough model. This means that linear regression usually isn't the most accurate option.\n",
    "\n",
    "You'll need to ignore the casual and registered columns because cnt is derived from them. If you're trying to predict the number of people who rent bikes in a given hour (cnt), it doesn't make sense that you'd already know casual or registered, because those numbers are added together to get cnt.\n",
    "\n",
    "Instructions\n",
    "Create a list of predictor columns to use in training and predictions.\n",
    "At a minimum, this list should exclude the cnt, casual, dteday, and registered columns.\n",
    "Feel free to remove other columns you don't think will be useful for the predictions.\n",
    "Use the LinearRegression class from sklearn to train a machine learning algorithm on train.\n",
    "Use only the columns in the list of predictors for this.\n",
    "Make predictions using the LinearRegression class on test.\n",
    "Use the exact same predictor columns here.\n",
    "Calculate the error between the predictions and the actual values.\n",
    "Write your thoughts about the predictions and the error in a markdown cell."
   ]
  },
  {
   "cell_type": "raw",
   "metadata": {},
   "source": [
    "5. Applying Decision Trees\n",
    "\n",
    "Now you're ready to apply the decision tree algorithm. You'll be able to compare its error with the error from linear regression, which will enable you to pick the right algorithm for this data set.\n",
    "\n",
    "Decision trees tend to predict outcomes much more reliably than linear regression models. Because a decision tree is a fairly complex model, it also tends to overfit, particularly when we don't tweak parameters like maximum depth and minimum number of samples per leaf. Decision trees are also prone to instability -- small changes in the input data can result in a very different output model.\n",
    "\n",
    "Instructions\n",
    "Use the DecisionTreeRegressor class to fit a decision tree algorithm to the train data.\n",
    "Make predictions using the DecisionTreeRegressor class on test.\n",
    "Calculate the error between the predictions and the actual values.\n",
    "Experiment with various parameters of the DecisionTreeRegressor class, including min_samples_leaf, to see if it changes the error.\n",
    "Write your thoughts on the predictions and the error in a markdown cell."
   ]
  },
  {
   "cell_type": "raw",
   "metadata": {
    "collapsed": true
   },
   "source": [
    "6. Applying Random Forests\n",
    "\n",
    "You can now apply the random forest algorithm, which improves on the decision tree algorithm. Random forests tend to be much more accurate than simple models like linear regression. Due to the way random forests are constructed, they tend to overfit much less than decision trees. Random forests can still be prone to overfitting, though, so it's important to tune parameters like maximum depth and minimum samples per leaf.\n",
    "\n",
    "Instructions\n",
    "Use the RandomForestRegressor class to fit a random forest algorithm to the train data.\n",
    "Make predictions using the RandomForestRegressor class on test.\n",
    "Calculate the error between the predictions and the actual values.\n",
    "Experiment with various parameters of the RandomForestRegressor class, including min_samples_leaf, to see if it changes the error.\n",
    "Write your thoughts on the predictions and the error in a markdown cell."
   ]
  },
  {
   "cell_type": "raw",
   "metadata": {},
   "source": [
    "7. Next Steps\n",
    "\n",
    "That's it for the guided steps! We recommend exploring the data more on your own.\n",
    "\n",
    "Here are some potential next steps:\n",
    "\n",
    "Calculate additional features, such as:\n",
    "An index combining temperature, humidity, and wind speed\n",
    "Try predicting casual and registered instead of cnt.\n",
    "We recommend creating a GitHub repository and placing this project there. It will help other people, including employers, see your work. As you start to put multiple projects on GitHub, you'll have the beginnings of a strong portfolio.\n",
    "\n",
    "You're welcome to continue working on the project here, but we recommend downloading it to your computer using the download icon above and working on it there."
   ]
  }
 ],
 "metadata": {
  "kernelspec": {
   "display_name": "Python 2",
   "language": "python",
   "name": "python2"
  },
  "language_info": {
   "codemirror_mode": {
    "name": "ipython",
    "version": 2
   },
   "file_extension": ".py",
   "mimetype": "text/x-python",
   "name": "python",
   "nbconvert_exporter": "python",
   "pygments_lexer": "ipython2",
   "version": "2.7.14"
  }
 },
 "nbformat": 4,
 "nbformat_minor": 2
}
