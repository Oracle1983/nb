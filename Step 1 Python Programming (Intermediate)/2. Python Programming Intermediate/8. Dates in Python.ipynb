{
 "cells": [
  {
   "cell_type": "markdown",
   "metadata": {},
   "source": [
    "# Step1 Python Programming (Intermediate) : Dates in Python"
   ]
  },
  {
   "cell_type": "raw",
   "metadata": {},
   "source": [
    "1. The Time Module\n",
    "\n",
    "There are a few modules in Python's Standard Library that deal with dates and times. One is the time [https://docs.python.org/3/library/time.html] module, which deals primarily with Unix timestamps.\n",
    "\n",
    "A Unix timestamp is a floating point value with no explicit mention of day, month, or year. This value represents the number of seconds that have passed since the \"epoch\", or the first second of the year 1970. So, a timestamp of 0.0 would represent the epoch, and a timestamp of 60.0 would represent one minute after the epoch. We can represent any date after 1970 this way.\n",
    "\n",
    "To retrieve the current Unix timestamp, we use the time.time() [https://docs.python.org/3/library/time.html#time.time] function.\n",
    "\n",
    "Instructions\n",
    "Return the current timestamp and assign it to current_time.\n",
    "Display current_time using the print() function."
   ]
  },
  {
   "cell_type": "code",
   "execution_count": 1,
   "metadata": {
    "collapsed": true
   },
   "outputs": [],
   "source": [
    "import time\n",
    "\n",
    "current_time = time.time()\n",
    "print(current_time)"
   ]
  },
  {
   "cell_type": "raw",
   "metadata": {},
   "source": [
    "2. Converting Timestamps\n",
    "\n",
    "We can convert a timestamp to a more human-readable form using the time.gmtime() [https://docs.python.org/3/library/time.html#time.gmtime] function. This function takes a timestamp as an argument, and returns an instance of the struct_time class. struct_time instances have attributes that represent the current time in other ways.\n",
    "\n",
    "Here are some of the attributes:\n",
    "\n",
    "tm_year: The year of the timestamp\n",
    "tm_mon: The month of the timestamp (1-12)\n",
    "tm_mday: The day in the month of the timestamp (1-31)\n",
    "tm_hour: The hour of the timestamp (0-23)\n",
    "tm_min: The minute of the timestamp (0-59)\n",
    "For example, we can retrieve the year value as an integer using the tm_year property:\n",
    "\n",
    "current_time = time.time()\n",
    "current_struct_time = time.gmtime(current_time)\n",
    "current_year = current_struct_time.tm_year\n",
    "\n",
    "Instructions\n",
    "Use the time.time() function to assign the current Unix timestamp to a new variable current_time.\n",
    "Convert current_time to a struct_time object and assign the resulting object to current_struct_time.\n",
    "Assign the current hour to current_hour and display the value."
   ]
  },
  {
   "cell_type": "code",
   "execution_count": null,
   "metadata": {
    "collapsed": true
   },
   "outputs": [],
   "source": [
    "import time\n",
    "\n",
    "current_time = time.time()\n",
    "current_struct_time = time.gmtime(current_time)\n",
    "current_hour = current_struct_time.tm_hour\n",
    "print(current_hour)"
   ]
  },
  {
   "cell_type": "raw",
   "metadata": {},
   "source": [
    "3. UTC\n",
    "\n",
    "Note the value for the hour from the last screen. The time module always results in a UTC time. UTC stands for Coordinated Universal Time. This is the accepted time standard within the programming community. It corresponds to the mean solar time at 0° longitude, or Greenwich Mean Time, except that it doesn't follow daylight saving time. While we can convert UTC to other time zones, we'll use UTC in this mission for simplicity.\n",
    "\n",
    "The datetime [https://docs.python.org/3/library/datetime.html] module offers better support for working extensively with dates. For example, it's easier to perform arithmetic on them (such as adding days), and to work with different time zones.\n",
    "\n",
    "The datetime module contains a class that's also named datetime that represents points in time. These datetime instances appear similar to struct_time instances.\n",
    "\n",
    "To represent a specific point in time, we pass in values into the constructor when creating an instance of the datetime class:\n",
    "\n",
    "nye_2017 = datetime.datetime(year=2017, month=12, day=31, hour=12, minute=59, second=59)\n",
    "We can leave out specific details if we'd like:\n",
    "\n",
    "nye_day_2017 = datetime.datetime(year=2017, month=12, day=31)\n",
    "We can return the current utc time as a datetime instance using the datetime.utcnow() function.\n",
    "\n",
    "Once we have a datetime instance that represents a specific point in time, we can use the following attributes to return more specific properties:\n",
    "\n",
    "year: returns the year value as an integer.\n",
    "month: returns the month value an integer.\n",
    "day: returns the day value as an integer.\n",
    "hour: returns the hour value as an integer.\n",
    "minute: returns the minute value as an integer.\n",
    "second: returns the second value as an integer.\n",
    "microsecond: returns the microsecond value as an integer.\n",
    "You can read about these attributes in the documentation.\n",
    "\n",
    "Instructions\n",
    "Import the datetime module.\n",
    "Assign the datetime object representation of the current time to a new variable current_datetime.\n",
    "Assign the current year to current_year.\n",
    "Assign the current month to current_month."
   ]
  },
  {
   "cell_type": "code",
   "execution_count": null,
   "metadata": {
    "collapsed": true
   },
   "outputs": [],
   "source": [
    "import datetime\n",
    "\n",
    "current_datetime = datetime.datetime.utcnow()\n",
    "current_year = current_datetime.year\n",
    "current_month = current_datetime.month"
   ]
  },
  {
   "cell_type": "raw",
   "metadata": {},
   "source": [
    "4. Timedelta\n",
    "\n",
    "We know how to represent dates, but we'd also like to perform arithmetic on them. Since adding a day, week, month, etc. to a date can be tedious to do from scratch, the datetime module provides the timedelta [https://docs.python.org/3/library/datetime.html#timedelta-objects] class. We can create an instance of this class that represents a span of time, then add or subtract it from instances of the datetime class.\n",
    "\n",
    "When we create instances of the timedelta class, we can specify the following parameters:\n",
    "\n",
    "weeks\n",
    "days\n",
    "hours\n",
    "minutes\n",
    "seconds\n",
    "milliseconds\n",
    "microseconds\n",
    "Suppose we want to calculate the date for three weeks and two days from now. We would first create an instance of the datetime class that represents today:\n",
    "\n",
    "today = datetime.datetime.now()\n",
    "Then, we could get an instance of the timedelta class that represents the span of time we're working with:\n",
    "\n",
    "diff = datetime.timedelta(weeks = 3, days = 2)\n",
    "Finally, we would add these two instances:\n",
    "\n",
    "future = today + diff\n",
    "We can also subtract a timedelta instance from a datetime instance.\n",
    "\n",
    "past = today - diff\n",
    "\n",
    "Instructions\n",
    "Create an instance of the datetime class that represents the day March 22, 2233. Assign this to a new variable kirks_birthday.\n",
    "Create an instance of the timedelta class representing 15 weeks and assign to diff.\n",
    "Find the date 15 weeks prior to March 22, 2233 and assign the resulting datetime instance to before_kirk."
   ]
  },
  {
   "cell_type": "code",
   "execution_count": null,
   "metadata": {
    "collapsed": true
   },
   "outputs": [],
   "source": [
    "import datetime\n",
    "\n",
    "kirks_birthday = datetime.datetime(2233, 3, 22)\n",
    "diff = datetime.timedelta(weeks = 15)\n",
    "before_kirk = kirks_birthday - diff"
   ]
  },
  {
   "cell_type": "raw",
   "metadata": {},
   "source": [
    "5. Formatting Dates\n",
    "\n",
    "Suppose we'd like to output dates in human-readable formats. If we use the print() function to display a datetime object, the output will look something like 2016-01-06 13:51:25.849719. Instead of displaying the full timestamp down to the microsecond, we can use the datetime.strftime() [https://docs.python.org/3/library/datetime.html#strftime-and-strptime-behavior] method to specify how we'd like the string output to be formatted.\n",
    "\n",
    "The datetime.datetime.strftime() method takes a format string as its input. A format string contains special indicators, usually preceded by percent characters (\"%\"), that indicate where certain values should go. For example, suppose we stored a timestamp from March 3, 2010 in the object march3. If we want to format it nicely into the string \"Mar 03, 2010\", we can write the following code:\n",
    "\n",
    "march3 = datetime.datetime(year = 2010, month = 3, day = 3)\n",
    "pretty_march3 = march3.strftime(\"%b %d, %Y\")\n",
    "print(pretty_march3)\n",
    "The format string argument in strftime() indicates that we want:\n",
    "\n",
    "the abbreviated month name (\"%b\") followed by a space\n",
    "the day of the month (\"%d\") followed by a comma and space\n",
    "the full year (\"%Y\").\n",
    "Thankfully, we don't have to memorize the string arguments and can refer to the documentation for the strftime() method, which provides a useful summary table of the different options.\n",
    "\n",
    "Instructions\n",
    "Using the datetime.datetime.strftime() method, display mystery_date, a datetime instance we've created for you, in the following format:\n",
    "[12-hour time with minutes][AM/PM] on [Day of week] [Month full name] [Day of month], [Full year]\n",
    "Here's an example in that format:\n",
    "\"11:00AM on Wednesday March 03, 2010\"\n",
    "Store this string in the new variable mystery_date_formatted_string and display using the print() function."
   ]
  },
  {
   "cell_type": "code",
   "execution_count": null,
   "metadata": {
    "collapsed": true
   },
   "outputs": [],
   "source": [
    "import datetime\n",
    "\n",
    "mystery_date_formatted_string = mystery_date.strftime('%I:%M%p on %A %B %d, %Y')\n",
    "print(mystery_date_formatted_string)"
   ]
  },
  {
   "cell_type": "raw",
   "metadata": {},
   "source": [
    "6. Parsing Dates\n",
    "\n",
    "Just as we can convert a datetime object into a formatted string, we can also do the reverse. The datetime.datetime.strptime() function allows us to convert a string to a datetime instance:\n",
    "\n",
    "The date string (e.g. \"Mar 03, 2010\")\n",
    "The format string (e.g. \"%b %d, %Y\")\n",
    "With just these two arguments, strptime() will return a datetime instance for March 3, 2010. The one thing to remember is that datetime.datetime.strptime() is a function, not a method that's called on a specific object.\n",
    "\n",
    "march3 = datetime.datetime.strptime(\"Mar 03, 2010\", \"%b %d, %Y\")\n",
    "This is useful if we have a date in a string format, and need to convert it to a datetime instance. If we inspect the data and determine the format of every date, we can save ourselves a lot of manual string manipulation by using the datetime.datetime.strptime() function instead. We could even use datetime.strptime() and datetime.strftime() together to convert a date string to a datetime object, and then convert it to a date string of a different format.\n",
    "\n",
    "Instructions\n",
    "Use the datetime.datetime.strptime() function to return a datetime instance that represents the timestamp associated with the string mystery_date_formatted_string:\n",
    "mystery_date_formatted_string has the format: [Time][AM/PM] on [Day of week] [Month full name] [Day of month], [Full year].\n",
    "March 3, 2010 at 11:00AM would look like \"11:00AM on Wednesday March 03, 2010\" in this format.\n",
    "Assign the resulting datetime instance in mystery_date_2 and display it using the print() function."
   ]
  },
  {
   "cell_type": "code",
   "execution_count": null,
   "metadata": {
    "collapsed": true
   },
   "outputs": [],
   "source": [
    "import datetime\n",
    "\n",
    "mystery_date_2 = datetime.datetime.strptime(mystery_date_formatted_string, '%I:%M%p on %A %B %d, %Y')\n",
    "print(mystery_date_2)"
   ]
  },
  {
   "cell_type": "raw",
   "metadata": {},
   "source": [
    "7. AskReddit Data\n",
    "\n",
    "Reddit is a content and community website where users can submit links, text posts, and other types of content to groups of people with similar interests. These groups are called subreddits, and each one specializes in a particular topic. One popular subreddit, AskReddit, is a place where users pose questions to the entire Reddit population. Other users answer those questions in the comments section.\n",
    "\n",
    "We'll be working with a data set of the top 1,000 posts on AskReddit from 2015. Reddit user P_S_Laplace created the data set, which contains the following columns:\n",
    "\n",
    "Title: The title of the post\n",
    "Score: The number of upvotes the post received\n",
    "Time: When the post appeared (timestamp)\n",
    "Gold: How much Reddit Gold users gave the post\n",
    "NumComs: The number of comments the post received"
   ]
  },
  {
   "cell_type": "raw",
   "metadata": {},
   "source": [
    "8. Reformatting Our Data\n",
    "\n",
    "In the following code cell, we've read the AskReddit data into the posts variable for you as a list of lists. Each nested list represents an AskReddit post. Here's what the first few rows of the data set looks like:\n",
    "\n",
    "Here's what the first three lists in posts looks like:\n",
    "\n",
    "posts = [\n",
    "            ['What\\'s your internet \"white whale\", something you\\'ve been searching for years to find with no luck?', '11510', '1433213314.0', '1', '26195'],\n",
    "            [\"What's your favorite video that is 10 seconds or less?\", '8656', '1434205517.0', '4', '8479'],\n",
    "            ['What are some interesting tests you can take to find out about yourself?', '8480', '1443409636.0', '1', '4055'],\n",
    "            ...\n",
    "        ]\n",
    "The values in the Time column are formatted as Unix timestamps, not human-readable strings. We can convert each Unix time stamp into datetime object using the datetime.datetime.fromtimestamp() function:\n",
    "\n",
    "datetime_object = datetime.datetime.fromtimestamp(1433213314.0)\n",
    "\n",
    "Instructions\n",
    "Loop through posts, and for each row:\n",
    "Convert the value in the Time column (index 2 of each row) to a floating point number.\n",
    "Convert the floating point number to a datetime instance using datetime.datetime.fromtimestamp().\n",
    "Store the resulting datetime instance back in index 2 of the row, overwriting the original Unix timestamp value."
   ]
  },
  {
   "cell_type": "code",
   "execution_count": null,
   "metadata": {
    "collapsed": true
   },
   "outputs": [],
   "source": [
    "import datetime\n",
    "\n",
    "for post in posts:\n",
    "    float_num = float(post[2])\n",
    "    datetime_object = datetime.datetime.fromtimestamp(float_num)\n",
    "    post[2] = datetime_object"
   ]
  },
  {
   "cell_type": "raw",
   "metadata": {},
   "source": [
    "9. Counting Posts from March\n",
    "\n",
    "Now that we've converted our posts data set to contain datetime instances, we can count how many of the top 1,000 posts users submitted in the month of March.\n",
    "\n",
    "Instructions\n",
    "Loop through posts, and for each row:\n",
    "Use the datetime.month attribute to check if the datetime instance at index 2 equals 3.\n",
    "If so, increment march_count."
   ]
  },
  {
   "cell_type": "code",
   "execution_count": null,
   "metadata": {
    "collapsed": true
   },
   "outputs": [],
   "source": [
    "march_count = 0\n",
    "\n",
    "for post in posts:\n",
    "    if post[2].month == 3:\n",
    "        march_count += 1"
   ]
  },
  {
   "cell_type": "raw",
   "metadata": {},
   "source": [
    "10. Counting Posts from Any Month\n",
    "\n",
    "Let's write a function that generalizes our counting logic and makes it works for any month.\n",
    "\n",
    "Instructions\n",
    "Write a function that takes in an integer value representing a month, and returns the number of posts users submitted during that month.\n",
    "Use the function to return the number of posts users submitted in February (month value of 2), and assign the count to a new variable feb_count.\n",
    "Use the function to return the number of posts users submitted in August (month value of 8), and assign the count to a new variable aug_count."
   ]
  },
  {
   "cell_type": "code",
   "execution_count": null,
   "metadata": {
    "collapsed": true
   },
   "outputs": [],
   "source": [
    "def month_post(mth):\n",
    "    count = 0\n",
    "    for row in posts:\n",
    "        if row[2].month == mth:\n",
    "            count += 1\n",
    "    return count\n",
    "\n",
    "feb_count = month_post(2)\n",
    "aug_count = month_post(8)"
   ]
  }
 ],
 "metadata": {
  "kernelspec": {
   "display_name": "Python 2",
   "language": "python",
   "name": "python2"
  },
  "language_info": {
   "codemirror_mode": {
    "name": "ipython",
    "version": 2
   },
   "file_extension": ".py",
   "mimetype": "text/x-python",
   "name": "python",
   "nbconvert_exporter": "python",
   "pygments_lexer": "ipython2",
   "version": "2.7.14"
  }
 },
 "nbformat": 4,
 "nbformat_minor": 2
}
