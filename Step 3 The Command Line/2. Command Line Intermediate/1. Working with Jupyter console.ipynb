{
 "cells": [
  {
   "cell_type": "markdown",
   "metadata": {},
   "source": [
    "# Step 3 The Command Line - Working with Jupyter console"
   ]
  },
  {
   "cell_type": "raw",
   "metadata": {},
   "source": [
    "1. Jupyter console\n",
    "\n",
    "The Jupyter console, formerly known as IPython, is an enhanced Python interpreter. From our earlier missions, you may recall that by typing python on the command line, you get access to an interactive shell that lets you write and execute Python code. Jupyter console enhances this shell, and adds several niceties that make working with data easier.\n",
    "\n",
    "Generally, it's useful to use the shell in situations where you need to quickly test some code you're writing. This happens frequently when you're writing data analysis scripts. It can also be used to quickly explore datasets and do basic analysis. Another use case is prototyping code before later saving it to a script file.\n",
    "\n",
    "The main difference between Jupyter console and Jupyter notebook is that the console functions in interactive mode. Whenever you type a line of code, it is immediately executed, and you can see the results. If you want to write medium-length pieces of code or do deep exploration of a dataset, the notebook is better. If you want to test out code you're writing, or run quick commands, the console is better.\n",
    "\n",
    "The Jupyter project is in the midst of rebranding from IPython to Jupyter. Depending on the version of Jupyter you have installed, you can access the console by typing either jupyter console or ipython at the command line.\n",
    "\n",
    "Instructions\n",
    "Open the Jupyter console by typing ipython.\n",
    "Once you access it, you can run Python commands. Type print(10) to see what happens.\n",
    "Exit Jupyter console by typing exit."
   ]
  },
  {
   "cell_type": "raw",
   "metadata": {},
   "source": [
    "2. Getting help\n",
    "\n",
    "Jupyter console has a robust built-in help system. You can get help in several ways:\n",
    "\n",
    "You can type ? after starting the console. This will display help about Jupyter. You can exit by typing q.\n",
    "You can type %quickref. This is a magic that will tell you some useful commands. We'll talk more about Jupyter magics shortly.\n",
    "If you want information about a variable, just type the name of the variable, followed by ?. For information on the dq variable, you'd type dq?.\n",
    "Type help() to get access to Python help. This will enable you to get help on all the modules and functions currently available. You can quit by typing quit.\n",
    "If you want to use the Python help system to get information on a variable, type help(variable_name). If you wanted help with the variable dq, you'd type help(dq).\n",
    "Being able to get help will let you see which methods are allowed on which objects, and be able to better understand the capabilities of Jupyter console.\n",
    "\n",
    "Instructions\n",
    "Open the Jupyter console by typing ipython.\n",
    "Assign the value 5 to the variable dq.\n",
    "Get help with the variable dq using both ? and help(dq).\n",
    "Type help(), and explore the Python help functionality. See if you can look up some modules.\n",
    "Exit Jupyter console by typing exit."
   ]
  },
  {
   "cell_type": "raw",
   "metadata": {},
   "source": [
    "3. Persistent sessions\n",
    "\n",
    "Just like with Jupyter notebook, Jupyter console starts a kernel session when you first load it. Every time you run code in the console, the variables are stored in the session. Any subsequent lines you execute can access those variables.\n",
    "\n",
    "This functionality is extremely powerful, and allows you to execute longer scripts line by line and inspect the variables at each step.\n",
    "\n",
    "Instructions\n",
    "Open the Jupyter console by typing ipython.\n",
    "Assign the value 5 to the variable dq.\n",
    "Assign the value dq * 10 to the variable dq_10.\n",
    "Exit Jupyter console by typing exit."
   ]
  },
  {
   "cell_type": "raw",
   "metadata": {},
   "source": [
    "4. Jupyter magics\n",
    "\n",
    "You may have used the %quickref Jupyter magic in the last screen. Magics are special Jupyter commands that always start with %. They enable you to access Jupyter-specific functionality, without Python executing your commands.\n",
    "\n",
    "Some useful magics are:\n",
    "\n",
    "%run -- allows you to run an external Python script. Any variables in the script will be stored in the current kernel session.\n",
    "%edit -- opens a file editor. Any code you type into the editor will be executed by Jupyter when you exit the editor.\n",
    "%debug -- if there's an error in any of your code, running %debug afterwards will open an interactive debugger you can use to trace the error.\n",
    "%history -- shows you the last few commands you ran.\n",
    "%save -- saves the last few commands you ran to a file.\n",
    "%who -- print all the variables in the session.\n",
    "%reset -- resets the session, and removes all stored variables.\n",
    "\n",
    "You can see a full list of magics here. [http://ipython.readthedocs.org/en/stable/interactive/magics.html]\n",
    "\n",
    "You can use the %run, %who, and %debug magics to iteratively develop scripts with Jupyter console. Have your favorite editor open, and start writing a Python script. In a separate shell, open Jupyter console. As you get to checkpoints in your script where you want to test it out, use the %run magic to run the script. Check the values of the variables using the %who magic. If you see any errors, debug them with the %debug magic. If you want to clear the session, use %reset.\n",
    "\n",
    "Instructions\n",
    "Create a Python script using nano.\n",
    "Add in whatever code you want, but make sure you add at least one print statement, and at least one variable definition.\n",
    "Open the Jupyter console by typing ipython.\n",
    "Use the %run magic to run the file you created.\n",
    "Use the %who magic to verify that the variable you defined exists.\n",
    "Exit Jupyter console by typing exit."
   ]
  },
  {
   "cell_type": "raw",
   "metadata": {},
   "source": [
    "5. Autocompletion\n",
    "\n",
    "If you hit the TAB key while typing a variable name, Jupyter will show you all the possible variables it could be, or auto-complete the name if there's only a single option. If you hit TAB after typing a variable name, Jupyter will show you the methods on the variable.\n",
    "\n",
    "Autocompletion makes it much quicker to write code, and can also enable you to discover new methods on variables. \n",
    "\n",
    "Instructions\n",
    "Open the Jupyter console by typing ipython.\n",
    "Create a variable.\n",
    "Experiment with autocompletion by typing the variable name.\n",
    "Exit Jupyter console by typing exit."
   ]
  },
  {
   "cell_type": "raw",
   "metadata": {},
   "source": [
    "6. Accessing the shell\n",
    "\n",
    "You can run shell commands in Jupyter console. Just prefix your shell commands with an exclamation point(!). Running !ls in Jupyter will show the contents of the current directory.\n",
    "\n",
    "This can be useful when you want to quickly inspect a file or check on the contents of a folder.\n",
    "\n",
    "Instructions\n",
    "Open the Jupyter console by typing ipython.\n",
    "Check the contents of the current directory with !ls.\n",
    "Exit Jupyter console by typing exit."
   ]
  },
  {
   "cell_type": "raw",
   "metadata": {},
   "source": [
    "7. Pasting in code\n",
    "\n",
    "You'll often want to paste code into Jupyter console to see if it runs properly. Because of how Python handles indentation, nested for loops, functions, and if statements will fail if you just copy and paste them in.\n",
    "\n",
    "In order to paste in code with indents, you'll need to use paste magics:\n",
    "\n",
    "%cpaste -- opens a special editing area where you can paste in code normally, without whitespace being a problem. You can type -- alone on a line to exit. After you exit, any code you pasted in will be immediately executed.\n",
    "%paste -- takes code from your clipboard and runs it in Jupyter. This doesn't work on remote systems, where Jupyter doesn't have access to your clipboard.\n",
    "\n",
    "Instructions\n",
    "Copy the code below:\n",
    "for i in range(10):\n",
    "    if i < 5:\n",
    "        print(i)\n",
    "    else:\n",
    "        print(i * 2)\n",
    "Open the Jupyter console by typing ipython.\n",
    "Paste in the above code using %cpaste.\n",
    "Exit Jupyter console by typing exit."
   ]
  },
  {
   "cell_type": "raw",
   "metadata": {},
   "source": [
    "8. Next steps\n",
    "\n",
    "You should now be familiar with how to use Jupyter console to interactively execute Python code. Jupyter console is a great addition to your development workflow, and can help you write and debug code.\n",
    "\n",
    "We encourage you to keep exploring Jupyter console.\n",
    "\n",
    "Some specific explorations you can try:\n",
    "\n",
    "Explore more [http://ipython.readthedocs.org/en/stable/interactive/magics.html] of the magics.\n",
    "Try using Jupyter to debug exceptions.\n",
    "Develop a Python script locally, and see if Jupyter can help with your workflow.\n",
    "\n",
    "Instructions\n",
    "Start the Jupyter console, do some exploration, and exit the console."
   ]
  }
 ],
 "metadata": {
  "kernelspec": {
   "display_name": "Python 2",
   "language": "python",
   "name": "python2"
  },
  "language_info": {
   "codemirror_mode": {
    "name": "ipython",
    "version": 2
   },
   "file_extension": ".py",
   "mimetype": "text/x-python",
   "name": "python",
   "nbconvert_exporter": "python",
   "pygments_lexer": "ipython2",
   "version": "2.7.14"
  }
 },
 "nbformat": 4,
 "nbformat_minor": 2
}
