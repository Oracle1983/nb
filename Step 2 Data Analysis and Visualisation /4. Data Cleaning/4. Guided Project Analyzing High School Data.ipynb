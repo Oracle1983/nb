{
 "cells": [
  {
   "cell_type": "markdown",
   "metadata": {},
   "source": [
    "# Step 2 Data Analysis and Visualisation - Analyzing NYC High School Data"
   ]
  },
  {
   "cell_type": "raw",
   "metadata": {},
   "source": [
    "1. Introduction\n",
    "\n",
    "Over the last three missions, we explored relationships between SAT scores and demographic factors in New York City public schools. For a brief bit of background, the SAT, or Scholastic Aptitude Test, is a test that high school seniors in the U.S. take every year. The SAT has three sections, each of which is worth a maximum of 800 points. Colleges use the SAT to determine which students to admit. High average SAT scores are usually indicative of a good school.\n",
    "\n",
    "New York City has published data on student SAT scores [https://data.cityofnewyork.us/Education/2012-SAT-Results/f9bf-2cp4] by high school, along with additional demographic data sets. Over the last three missions, we combined the following data sets into a single, clean pandas dataframe:\n",
    "\n",
    "SAT scores by school [https://data.cityofnewyork.us/Education/2012-SAT-Results/f9bf-2cp4] - SAT scores for each high school in New York City\n",
    "School attendance [https://data.cityofnewyork.us/Education/School-Attendance-and-Enrollment-Statistics-by-Dis/7z8d-msnt] - Attendance information for each school in New York City\n",
    "Class size [https://data.cityofnewyork.us/Education/2010-2011-Class-Size-School-level-detail/urz7-pzb3] - Information on class size for each school\n",
    "AP test results [https://data.cityofnewyork.us/Education/AP-College-Board-2010-School-Level-Results/itfs-ms3e] - Advanced Placement (AP) exam results for each high school (passing an optional AP exam in a particular subject can earn a student college credit in that subject)\n",
    "Graduation outcomes [https://data.cityofnewyork.us/Education/Graduation-Outcomes-Classes-Of-2005-2010-School-Le/vh2h-md7a] - The percentage of students who graduated, and other outcome information\n",
    "Demographics [https://data.cityofnewyork.us/Education/School-Demographics-and-Accountability-Snapshot-20/ihfw-zy9j] - Demographic information for each school\n",
    "School survey [https://data.cityofnewyork.us/Education/NYC-School-Survey-2011/mnz3-dyi8] - Surveys of parents, teachers, and students at each school\n",
    "New York City has a significant immigrant population and is very diverse, so comparing demographic factors such as race, income, and gender with SAT scores is a good way to determine whether the SAT is a fair test. For example, if certain racial groups consistently perform better on the SAT, we would have some evidence that the SAT is unfair.\n",
    "\n",
    "In the last mission, we began performing some analysis. We'll extend that analysis in this mission. As you can see, we've included the code to read in all of the data, combine it, and create correlations in the notebook. If you'd like to see the finished notebook that contains solutions for all of the steps, you can find it in the GitHub repo [https://github.com/dataquestio/solutions/blob/master/Mission217Solutions.ipynb] for this mission.\n",
    "\n",
    "The dataframe combined contains all of the data we'll be using in our analysis.\n",
    "\n",
    "Instructions\n",
    "Set up matplotlib to work in Jupyter notebook.\n",
    "There are several fields in combined that originally came from a survey of parents, teachers, and students. Make a bar plot of the correlations between these fields and sat_score.\n",
    "You can find a list of the fields in the survey_fields variable in the notebook.\n",
    "Consult the data dictionary that's part of the zip file you can download from the City of New York's website [https://data.cityofnewyork.us/Education/2010-2011-NYC-School-Survey/mnz3-dyi8].\n",
    "Did you find any surprising correlations?\n",
    "Write up your results in a Markdown cell."
   ]
  },
  {
   "cell_type": "raw",
   "metadata": {},
   "source": [
    "2. Exploring Safety and SAT Scores\n",
    "\n",
    "On the last screen, you may have noticed that saf_t_11 and saf_s_11, which measure how teachers and students perceive safety at school, correlated highly with sat_score. On this screen, we'll dig into this relationship a bit more, and try to figure out which schools have low safety scores.\n",
    "\n",
    "Instructions\n",
    "Investigate safety scores.\n",
    "Make a scatter plot of the saf_s_11 column vs. the sat_score in combined.\n",
    "Write up your conclusions about safety and SAT scores in a Markdown cell.\n",
    "Map out safety scores.\n",
    "Compute the average safety score for each district.\n",
    "Make a map that shows safety scores by district.\n",
    "Write up your conclusions about safety by geographic area in a Markdown cell. You may want to read up on the boroughs of New York City [http://www.nycgo.com/boroughs-neighborhoods]."
   ]
  },
  {
   "cell_type": "raw",
   "metadata": {},
   "source": [
    "3. Exploring Race and SAT Scores\n",
    "\n",
    "There are a few columns that indicate the percentage of each race at a given school:\n",
    "\n",
    "white_per\n",
    "asian_per\n",
    "black_per\n",
    "hispanic_per\n",
    "By plotting out the correlations between these columns and sat_score, we can determine whether there are any racial differences in SAT performance.\n",
    "\n",
    "Instructions\n",
    "Investigate racial differences in SAT scores.\n",
    "Make a bar plot of the correlations between the columns above and sat_score.\n",
    "Write up a Markdown cell containing your findings. Are there any unexpected correlations?\n",
    "Explore schools with low SAT scores and high values for hispanic_per.\n",
    "Make a scatter plot of hispanic_per vs. sat_score.\n",
    "What does the scatter plot show? Record any interesting observsations in a Markdown cell.\n",
    "Research any schools with a hispanic_per greater than 95%.\n",
    "Find the school names in the data.\n",
    "Use Wikipedia and Google to research the schools by name.\n",
    "Is there anything interesting about these particular schools? Record your findings in a Markdown cell.\n",
    "Research any schools with a hispanic_per less than 10% and an average SAT score greater than 1800.\n",
    "Find the school names in the data.\n",
    "Use Wikipedia and Google to research the schools by name.\n",
    "Is there anything interesting about these particular schools? Record your findings in a Markdown cell."
   ]
  },
  {
   "cell_type": "raw",
   "metadata": {},
   "source": [
    "4. Exploring Gender and SAT Scores\n",
    "\n",
    "There are two columns that indicate the percentage of each gender at a school:\n",
    "\n",
    "male_per\n",
    "female_per\n",
    "We can plot out the correlations between each percentage and sat_score.\n",
    "\n",
    "Instructions\n",
    "Investigate gender differences in SAT scores.\n",
    "Make a bar plot of the correlations between the columns above and sat_score.\n",
    "Record your findings in a Markdown cell. Are there any unexpected correlations?\n",
    "Investigate schools with high SAT scores and a high female_per.\n",
    "Make a scatter plot of female_per vs. sat_score.\n",
    "What does the scatter plot show? Record any interesting observations in a Markdown cell.\n",
    "Research any schools with a female_per greater than 60% and an average SAT score greater than 1700.\n",
    "Find the school names in the data.\n",
    "Use Wikipedia and Google to research the schools by name.\n",
    "Is there anything interesting about these particular schools? Record your findings in a Markdown cell."
   ]
  },
  {
   "cell_type": "raw",
   "metadata": {},
   "source": [
    "5. Exploring AP Scores vs. SAT Scores\n",
    "\n",
    "In the U.S., high school students take Advanced Placement (AP) exams to earn college credit. There are AP exams for many different subjects.\n",
    "\n",
    "It makes sense that the number of students at a school who took AP exams would be highly correlated with the school's SAT scores. Let's explore this relationship. Because total_enrollment is highly correlated with sat_score, we don't want to bias our results. Instead, we'll look at the percentage of students in each school who took at least one AP exam.\n",
    "\n",
    "Instructions\n",
    "Calculate the percentage of students in each school that took an AP exam.\n",
    "Divide the AP Test Takers column by the total_enrollment column.\n",
    "The column name AP Test Takers has a space at the end -- don't forget to add it!\n",
    "Assign the result to the ap_per column.\n",
    "Investigate the relationship between AP scores and SAT scores.\n",
    "Make a scatter plot of ap_per vs. sat_score.\n",
    "What does the scatter plot show? Record any interesting observations in a Markdown cell."
   ]
  },
  {
   "cell_type": "raw",
   "metadata": {},
   "source": [
    "6. Next Steps\n",
    "\n",
    "We've done quite a bit of investigation into relationships between demographics and SAT scores in this guided project. There's still quite a bit of analysis left to do, however. Here are some potential next steps:\n",
    "\n",
    "Determing wheter there's a correlation between class size and SAT scores\n",
    "Figuring out which neighborhoods have the best schools\n",
    "If we combine this information with a dataset containing property values, we could find the least expensive neighborhoods that have good schools.\n",
    "Investigating the differences between parent, teacher, and student responses to surveys.\n",
    "Assigning scores to schools based on sat_score and other attributes.\n",
    "We recommend creating a GitHub repository and placing this project there. It will help other people see your work, including employers. As you start to put multiple projects on GitHub, you'll have the beginnings of a strong portfolio.\n",
    "\n",
    "You're welcome to keep working on the project here, but we recommend downloading it to your computer using the download icon above and working on it there."
   ]
  }
 ],
 "metadata": {
  "kernelspec": {
   "display_name": "Python 2",
   "language": "python",
   "name": "python2"
  },
  "language_info": {
   "codemirror_mode": {
    "name": "ipython",
    "version": 2
   },
   "file_extension": ".py",
   "mimetype": "text/x-python",
   "name": "python",
   "nbconvert_exporter": "python",
   "pygments_lexer": "ipython2",
   "version": "2.7.14"
  }
 },
 "nbformat": 4,
 "nbformat_minor": 2
}
