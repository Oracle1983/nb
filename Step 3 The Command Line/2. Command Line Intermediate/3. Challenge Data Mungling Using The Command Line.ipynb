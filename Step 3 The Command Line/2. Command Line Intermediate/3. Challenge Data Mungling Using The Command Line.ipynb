{
 "cells": [
  {
   "cell_type": "markdown",
   "metadata": {},
   "source": [
    "# Step 3 The Command Line - Challenge Data Mungling Using The Command Line"
   ]
  },
  {
   "cell_type": "raw",
   "metadata": {},
   "source": [
    "1. Data munging\n",
    "\n",
    "In this challenge, you'll practice the command line concepts you've learned so far by munging datasets using just the command line. Data munging involves transforming datasets to make them easier to work with. Some datasets are too large to load into Python, so looking at them or transforming them beforehand can be useful. Even for smaller datasets, simple exploration on the command line is faster than exploration in Python, and file-based tasks like unifying datasets can be faster on the command line.\n",
    "\n",
    "You'll be interacting with datasets on U.S. housing affordability from the U.S. Department of Housing & Urban Development [http://www.huduser.org/portal/datasets/hads/hads.html] in this challenge. To start things off, let's explore the datasets in the first few steps.\n",
    "\n",
    "Instructions\n",
    "List all of the files in the current directory (the home directory), including the file names, permissions, formats, and sizes."
   ]
  },
  {
   "cell_type": "raw",
   "metadata": {},
   "source": [
    "2. Data exploration\n",
    "\n",
    "It looks like there are 3 different CSV files, each corresponding to a separate year.\n",
    "\n",
    "You learned about the tail command to display the last n rows in a file. To display the first n rows (10 by default), you can instead use the head command.\n",
    "\n",
    "Instructions\n",
    "Use the head command to display the first 10 rows of each of the 3 CSV files."
   ]
  },
  {
   "cell_type": "raw",
   "metadata": {},
   "source": [
    "3. Filtering\n",
    "\n",
    "The goal is to eventually get this into a Pandas Dataframe so let's combine the datasets into one file so it can be read in easily. Since each dataset contains the same columns, you need to combine the datasets into one file. You can't, however, just use append the full contents of each file to one final file since each dataset contains the header row. The consolidated file should only contain the header row once (in the first row). You need to instead append the header row to the consolidated file once, then append only the non-header rows from the 3 datasets to the consolidated file.\n",
    "\n",
    "Here's a reminder of how the first 10 rows of Hud_2013.csv looks like:\n",
    "\n",
    "Imgur\n",
    "https://dq-content.s3.amazonaws.com/D1jLnjY.png\n",
    "\n",
    "Since the header row is always the first row in each of the datasets, you can just select all rows after the header row. You can use the command wc [http://bit.ly/1ZqAXDh] along with the l flag to return the number of lines for a specified file. You can use each file's line count combined with the tail command to return the last n lines of a file.\n",
    "\n",
    "Instructions\n",
    "Create the file combined_hud.csv and append the header row from one of the datasets.\n",
    "Select all non-header rows from Hud_2005.csv and append to combined_hud.csv.\n",
    "Display the first 10 rows in combined_hud.csv to verify your work."
   ]
  },
  {
   "cell_type": "raw",
   "metadata": {},
   "source": [
    "4. Consolidating datasets\n",
    "\n",
    "Looks good! Now finish the job by adding in the data from the other datasets.\n",
    "\n",
    "Instructions\n",
    "Append the remaining datasets in the order of the years they describe.\n",
    "Select all non-header rows from Hud_2007.csv and append to combined_hud.csv.\n",
    "Select all non-header rows from Hud_2013.csv and append to combined_hud.csv.\n",
    "Display the last 10 rows of combined_hud.csv and verify that they match the last 10 rows of Hud_2013.csv."
   ]
  },
  {
   "cell_type": "raw",
   "metadata": {},
   "source": [
    "5. Counting\n",
    "\n",
    "Now that you have a consolidated dataset, you can start to answer basic questions on the entire dataset.\n",
    "\n",
    "Instructions\n",
    "Count and display the number of lines in combined_hud.csv containing 1980-1989."
   ]
  }
 ],
 "metadata": {
  "kernelspec": {
   "display_name": "Python 2",
   "language": "python",
   "name": "python2"
  },
  "language_info": {
   "codemirror_mode": {
    "name": "ipython",
    "version": 2
   },
   "file_extension": ".py",
   "mimetype": "text/x-python",
   "name": "python",
   "nbconvert_exporter": "python",
   "pygments_lexer": "ipython2",
   "version": "2.7.14"
  }
 },
 "nbformat": 4,
 "nbformat_minor": 2
}
