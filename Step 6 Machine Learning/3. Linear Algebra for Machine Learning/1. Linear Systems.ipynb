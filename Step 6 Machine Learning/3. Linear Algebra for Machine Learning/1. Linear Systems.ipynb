{
 "cells": [
  {
   "cell_type": "markdown",
   "metadata": {},
   "source": [
    "# Step 6 Machine Learning -  Linear Systems"
   ]
  },
  {
   "cell_type": "raw",
   "metadata": {},
   "source": [
    "1. Overview Of Linear Algebra\n",
    "\n",
    "In the last course, we explored the framework of calculus and used it to:\n",
    "\n",
    "understand the slope of linear functions\n",
    "understand the derivative (slope as a function) of nonlinear functions\n",
    "find extreme values in nonlinear functions\n",
    "While we learned the basics of slope through linear functions, we primarily focused on nonlinear functions in the last course.\n",
    "\n",
    "In this course, we'll focus on understanding linear functions. Specifically, we'll explore the framework of linear algebra, which provides a way to represent and understand the solutions to systems of linear equations. A system of linear equations consists of multiple, related functions with a common set of variables. The word linear equation is often used interchangeably with linear function. Many real world processes can be modeled using multiple, related linear equations. We'll start by exploring a concrete example of a linear system, another word for system of linear equations, before we dive further into linear algebra.\n",
    "\n",
    "Optimal Salary Problem\n",
    "\n",
    "Let's say we have to pick between 2 different job offers. The first job offer has a base weekly salary of 1000 dollars and pays 30 dollars an hour. We can represent this offer as \n",
    ", where \n",
    " represents dollars earned that week and \n",
    " represents hours worked that week. The second job offer has a base weekly salary of 100 dollars and pays 50 dollars an hour. We can represent this offer as \n",
    ", where \n",
    " also represents dollars earned that week and \n",
    " also represents hours worked that week.\n",
    "\n",
    "We want to understand which job offer is better. If we know exactly the amount of money we'd like to make each week (\n",
    "), we can substitute that value into both equations and solve for \n",
    " to identify which job will require us to work less hours. If we know exactly the number of hours we want to work each week (\n",
    "), we can substitute that value into both equations and solve for \n",
    " to identify which job will make us more money for the same amount of hours worked.\n",
    "\n",
    "Instead, if we want to understand:\n",
    "\n",
    "At what number of hours worked can we expect to make the same amount of money at either job?\n",
    "How many hours do we have to work to make more money at the first job than the second job?\n",
    "To answer the first question, we need to find the \n",
    "value where both the \n",
    " values are equivalent. Once we know where they intersect, we can easily find out the answer to the second question.\n",
    "\n",
    "Let's start by visualizing both of these equations on a plot and gaining a visual intuition for where they intersect.\n",
    "\n",
    "Instructions\n",
    "Use numpy.linspace() to generate 1000, evenly spaced values between 0 and 50 and assign to x.\n",
    "Transform x using the equation \n",
    " and assign the result to y1.\n",
    "Transform x using the equation \n",
    " and assign the result to y2.\n",
    "Generate 2 line plots on the same subplot:\n",
    "One with x on the x-axis and y1 on the y-axis. Set the line color to \"orange\".\n",
    "One with x on the x-axis and y2 on the y-axis. Set the line color to \"blue\".\n",
    "Skip selecting a value range for the x and y axes, and instead let matplotlib automatically select based on the data."
   ]
  },
  {
   "cell_type": "code",
   "execution_count": null,
   "metadata": {
    "collapsed": true
   },
   "outputs": [],
   "source": [
    "import numpy as np\n",
    "import matplotlib.pyplot as plt"
   ]
  },
  {
   "cell_type": "raw",
   "metadata": {},
   "source": [
    "2. Solving Linear Systems By Elimination\n",
    "\n",
    "From the plot we generated in the last screen, we can tell that both functions intersect at somewhere near the point \n",
    ".\n",
    "\n",
    "Visual Solution\n",
    "https://s3.amazonaws.com/dq-content/160/visual_solution.svg\n",
    "\n",
    "This point where both equations intersect is known as a solution to the system, because substituting for \n",
    " and \n",
    " into both functions in the system makes both of them true. Said another way, plugging in the \n",
    " value of the solution into both functions yields the same \n",
    " value.\n",
    "\n",
    "Let's explore how to solve this system by hand. Because both functions share the same variables, we can represent one of the variables, say \n",
    ", in terms of the other variable and solve for the \n",
    " value. Then, we can substitute this \n",
    " value into either equation to determine the \n",
    " value. This process is known as solving by elimination or the elimination method. Let's walkthrough how to apply this process to our system.\n",
    "\n",
    "First, we'll substitute \n",
    " in the second function with the first function:\n",
    "\n",
    "Solve By Elimination 1\n",
    "https://s3.amazonaws.com/dq-content/160/solve_elimination_1.svg\n",
    "\n",
    "Note that order isn't important and we could have also substituted \n",
    " in the first function with the second function. Now that we know that \n",
    ", we can substitute this into either equation to determine \n",
    ".\n",
    "\n",
    "Solve By Elimination 2\n",
    "https://s3.amazonaws.com/dq-content/160/solve_elimination_2.svg\n",
    "\n",
    "The solution to our system is \n",
    ". This means that if we work exactly \n",
    " hours a week, we'll make the same amount of money at either job: \n",
    ".\n",
    "\n",
    "While we can solve a linear system like this by hand using arithmetic, we can't use the same technique to solve much more complex systems. Many real world systems are modeled using many more than 2 variables and functions and solving by hand is unfeasible.\n",
    "\n",
    "Those types of systems can be solved using linear algebra using a variation of arithmetic elimination called Gaussian elimination. We'll walkthrough how to perform Gaussian elimination in the rest of this mission to find a solution to our linear system."
   ]
  },
  {
   "cell_type": "raw",
   "metadata": {},
   "source": [
    "3. Representing Functions In General Form\n",
    "\n",
    "Linear algebra provides a way to represent a linear system compactly, known as a matrix, and a set of rules for manipulating that representation, also known as an algebra. A matrix uses rows and columns to represent only the coefficients in a linear system and it's similar to the way data is represented in a spreadsheet or a dataframe. Before we can represent our system in a matrix, we need to rearrange each of our functions into the general form.\n",
    "\n",
    "In the last course, we primarily explored linear functions in point-slope form:\n",
    "\n",
    "\n",
    "In linear algebra, we usually represent linear functions in the general form:\n",
    "\n",
    "\n",
    "In the general form, the variables and their coefficients are on the left side, while the constant term is on the right side. We can switch from point-slope form to the general form by rearranging the terms:\n",
    "\n",
    "\n",
    "Here's what the first function looks like in general form:\n",
    "\n",
    "\n",
    "Here's what the second function looks like in general form:\n",
    "\n",
    "\n",
    "To represent both linear functions in a system, we use an augmented matrix:\n",
    "\n",
    "\n",
    " \n",
    "In an augmented matrix, the coefficients from the left sides of the functions are on the left side of the bar (|), while the constants from the right sides of the functions are on the right side. An augmented matrix allows us to represent a linear system using just the real number coefficients and constants.\n",
    "\n",
    "Here's a summary of the 3 different representations of the linear system we just discussed:\n",
    "\n",
    "Equation To Matrix\n",
    "\n",
    "In the next screen, we'll walkthrough how to represent this augmented matrix in NumPy. In later screens, we'll learn the rules of matrix manipulation and how to apply them to arrive at the system's solution."
   ]
  },
  {
   "cell_type": "raw",
   "metadata": {},
   "source": [
    "4. Representing An Augmented Matrix In NumPy\n",
    "\n",
    "To represent an augmented matrix, we can use the numpy.asarray() [https://docs.scipy.org/doc/numpy/reference/generated/numpy.asarray.html] function and pass in each row as a list, from the top row to the bottom row. The following code represents a 2 row by 3 column matrix containing all 0's:\n",
    "\n",
    "matrix_one = np.asarray([\n",
    "    [0, 0, 0],\n",
    "    [0, 0, 0]  \n",
    "])\n",
    "Because we'll be performing addition, subtraction, multiplication, and division operations using the values in this matrix, we need to set the type to float32 to preserve precision.\n",
    "\n",
    "matrix_one = np.asarray([\n",
    "    [30, -1, -1000],\n",
    "    [50, -1, -100]  \n",
    "], dtype=np.float32)\n",
    "We'll dive more into those operations in the next screen.\n",
    "\n",
    "Instructions\n",
    "Create a NumPy 2D array representation of our augmented matrix:\n",
    "[30 -1 | -1000]\n",
    "[50 -1 | -100 ]\n",
    "Assign the resulting numpy.ndarray object to matrix_one."
   ]
  },
  {
   "cell_type": "raw",
   "metadata": {},
   "source": [
    "5. Matrix Representation Of The Solution\n",
    "\n",
    "The important question now is, how do we arrive at the same solution we did earlier in the mission by arithmetic? Earlier in the mission, we used arithmetic to calculate the solution to the system and represented it as a coordinate pair: \n",
    ". Here's how we represent the solution when we're working with the matrix representation:\n",
    "\n",
    "\n",
    " \n",
    "When we convert this matrix back into equations in the standard form, you'll notice that this corresponds to the same solution:\n",
    "\n",
    "Matrix To Equation\n",
    "\n",
    "To solve a linear system, we need to perform a series of transformations to try to evolve the matrix into this form (where the solution is presented). Not all linear systems have solutions, however, and we'll explore this in further detail throughout this course."
   ]
  },
  {
   "cell_type": "raw",
   "metadata": {},
   "source": [
    "6. Row Operations\n",
    "\n",
    "To preserve the relationships in the linear system, we can only use the following row operations:\n",
    "\n",
    "Matrix Row Operations\n",
    "https://s3.amazonaws.com/dq-content/160/matrix_row_operations.svg\n",
    "\n",
    "While these may seem new, these row operations are the same allowed operations we can perform when the functions are in equation form. Before we dive into how to solve our linear system using these row operations, let's practice performing these transformations in NumPy.\n",
    "\n",
    "To swap 2 rows in a NumPy ndarray object, we need to use double bracket notation to specify the row ordering change:\n",
    "\n",
    "matrix =  np.asarray([\n",
    "    [1, 3],\n",
    "    [50, 2]  \n",
    "], dtype=np.float32)\n",
    "# Swap the second row (at index value 1) with the first row (at index value 0).\n",
    "matrix = matrix[[1,0]]\n",
    "To multiply a row by a nonzero constant, we select the row, use the * operator to multiply all of the values by a scalar value, and then assign the transformed row back:\n",
    "\n",
    "# Multipy the second row by 2.\n",
    "matrix[1] = 2*matrix[1]\n",
    "To add one row to another row, we need to add both rows then assign it back to row we want to overwrite:\n",
    "\n",
    "# Add the second row to the first row.\n",
    "matrix[1] = matrix[1] + matrix[2]\n",
    "Lastly, we can combine and chain these rules to perform more complex row transformations:\n",
    "\n",
    "matrix[1] = 0.5*matrix[2] + matrix[1] + matrix[3]\n",
    "Note that you can't multiply or divide rows.\n",
    "\n",
    "Instructions\n",
    "Divide the first row from matrix_one by 30."
   ]
  },
  {
   "cell_type": "code",
   "execution_count": null,
   "metadata": {
    "collapsed": true
   },
   "outputs": [],
   "source": [
    "matrix_one = np.asarray([\n",
    "    [30, -1, -500],\n",
    "    [50, -1, -100]  \n",
    "], dtype=np.float32)"
   ]
  },
  {
   "cell_type": "raw",
   "metadata": {
    "collapsed": true
   },
   "source": [
    "7. Simplifying Matrix To Echelon Form\n",
    "\n",
    "To find the solutions of a matrix, there are 2 main steps we need to take. The first step is to rearrange the matrix into echelon form. In this form, the values on the diagonal locations are all equal to \n",
    " and the values below the diagonal are all equal to \n",
    ".\n",
    "\n",
    "\n",
    " \n",
    "First let's divide the first row by \n",
    " so that the diagonal value on the first row becomes \n",
    ":\n",
    "\n",
    "Echelon One\n",
    "\n",
    "Then, let's subtract 50 times the first row from the second row:\n",
    "\n",
    "Echelon Two\n",
    "\n",
    "We'll leave it to you to perform the last transform to get the matrix into echelon form."
   ]
  },
  {
   "cell_type": "raw",
   "metadata": {},
   "source": [
    "8. Row Reduced Echelon Form\n",
    "\n",
    "The second step is to rearrange the matrix into row reduced echelon form. This is the form that we mentioned earlier where the solution is exposed to us:\n",
    "\n",
    "\n",
    " \n",
    "The two question marks (?), which we still need to determine, represent the \n",
    " and \n",
    " values that solve our system. In the last step, we brought the matrix one transformation away from row reduced echelon form:\n",
    "\n",
    "Echelon Three\n",
    "\n",
    "The only step that's left is to zero out the second value in the first row. We'll leave that to you to finish\n",
    "\n",
    "Instructions\n",
    "Transform matrix_three into echelon form and display using the print() function."
   ]
  },
  {
   "cell_type": "code",
   "execution_count": null,
   "metadata": {
    "collapsed": true
   },
   "outputs": [],
   "source": [
    "matrix_three = np.asarray([\n",
    "    [1, -1/30, -1000/30],\n",
    "    [0, 1, 2350]  \n",
    "], dtype=np.float32)"
   ]
  }
 ],
 "metadata": {
  "kernelspec": {
   "display_name": "Python 2",
   "language": "python",
   "name": "python2"
  },
  "language_info": {
   "codemirror_mode": {
    "name": "ipython",
    "version": 2
   },
   "file_extension": ".py",
   "mimetype": "text/x-python",
   "name": "python",
   "nbconvert_exporter": "python",
   "pygments_lexer": "ipython2",
   "version": "2.7.14"
  }
 },
 "nbformat": 4,
 "nbformat_minor": 2
}
