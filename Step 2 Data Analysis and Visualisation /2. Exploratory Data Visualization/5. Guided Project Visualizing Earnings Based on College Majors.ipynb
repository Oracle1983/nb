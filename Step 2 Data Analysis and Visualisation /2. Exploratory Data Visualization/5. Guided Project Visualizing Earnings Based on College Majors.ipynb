{
 "cells": [
  {
   "cell_type": "markdown",
   "metadata": {},
   "source": [
    "# Step 2 Data Analysis and Visualisation - Guided Project: Visualizing Earnings Based on College Majors"
   ]
  },
  {
   "cell_type": "raw",
   "metadata": {},
   "source": [
    "1. Introduction\n",
    "\n",
    "In this course, we've been creating plots using pyplot and matplotlib directly. When we want to explore a new dataset by quickly creating visualizations, using these tools directly can be cumbersome. Thankfully, pandas has many methods for quickly generating common plots from data in DataFrames. Like pyplot, the plotting functionality in pandas is a wrapper for matplotlib. This means we can customize the plots when necessary by accessing the underlying Figure, Axes, and other matplotlib objects.\n",
    "\n",
    "In this guided project, we'll explore how using the pandas plotting functionality along with the Jupyter notebook interface allows us to explore data quickly using visualizations. If you're new to either our guided projects or Jupyter notebook in general, you can learn more here. You can find the solutions to this guided project here.\n",
    "https://github.com/fivethirtyeight/data/tree/master/college-majors\n",
    "\n",
    "We'll be working with a dataset on the job outcomes of students who graduated from college between 2010 and 2012. The original data on job outcomes was released by American Community Survey, which conducts surveys and aggregates the data. FiveThirtyEight cleaned the dataset and released it on their Github repo [https://github.com/fivethirtyeight/data/tree/master/college-majors].\n",
    "\n",
    "Each row in the dataset represents a different major in college and contains information on gender diversity, employment rates, median salaries, and more. Here are some of the columns in the dataset:\n",
    "\n",
    "Rank - Rank by median earnings (the dataset is ordered by this column).\n",
    "Major_code - Major code.\n",
    "Major - Major description.\n",
    "Major_category - Category of major.\n",
    "Total - Total number of people with major.\n",
    "Sample_size - Sample size (unweighted) of full-time.\n",
    "Men - Male graduates.\n",
    "Women - Female graduates.\n",
    "ShareWomen - Women as share of total.\n",
    "Employed - Number employed.\n",
    "Median - Median salary of full-time, year-round workers.\n",
    "Low_wage_jobs - Number in low-wage service jobs.\n",
    "Full_time - Number employed 35 hours or more.\n",
    "Part_time - Number employed less than 35 hours.\n",
    "Using visualizations, we can start to explore questions from the dataset like:\n",
    "\n",
    "Do students in more popular majors make more money?\n",
    "Using scatter plots\n",
    "How many majors are predominantly male? Predominantly female?\n",
    "Using histograms\n",
    "Which category of majors have the most students?\n",
    "Using bar plots\n",
    "We'll explore how to do these and more while primarily working in pandas. Before we start creating data visualizations, let's import the libraries we need and remove rows containing null values.\n",
    "\n",
    "Instructions\n",
    "Let's setup the environment by importing the libraries we need and running the necessary Jupyter magic so that plots are displayed inline.\n",
    "Import pandas and matplotlib into the environment.\n",
    "Run the Jupyter magic %matplotlib inline so that plots are displayed inline.\n",
    "Read the dataset into a DataFrame and start exploring the data.\n",
    "Read recent-grads.csv into pandas and assign the resulting DataFrame to recent_grads.\n",
    "Use DataFrame.iloc[] to return the first row formatted as a table.\n",
    "Use DataFrame.head() and DataFrame.tail() to become familiar with how the data is structured.\n",
    "Use DataFrame.describe() to generate summary statistics for all of the numeric columns.\n",
    "Drop rows with missing values. Matplotlib expects that columns of values we pass in have matching lengths and missing values will cause matplotlib to throw errors.\n",
    "Look up the number of rows in recent_grads and assign the value to raw_data_count.\n",
    "Use DataFrame.dropna() to drop rows containing missing values and assign the resulting DataFrame back to recent_grads.\n",
    "Look up the number of rows in recent_grads now and assign the value to cleaned_data_count. If you compare cleaned_data_count and raw_data_count, you'll notice that only one row contained missing values and was dropped."
   ]
  },
  {
   "cell_type": "code",
   "execution_count": null,
   "metadata": {
    "collapsed": true
   },
   "outputs": [],
   "source": [
    "import pandas as pd\n",
    "import matplotlib.pyplot as plt\n",
    "% matplotlib inline\n",
    "recent_grads = pd.read_csv('recent-grads.csv')\n",
    "print(recent_grads.iloc[0])\n",
    "print(recent_grads.head())\n",
    "print(recent_grads.tail())\n",
    "recent_grads = recent_grads.dropna()"
   ]
  },
  {
   "cell_type": "raw",
   "metadata": {},
   "source": [
    "2. Pandas, Scatter Plots\n",
    "\n",
    "Most of the plotting functionality in pandas is contained within the DataFrame.plot() [http://pandas.pydata.org/pandas-docs/version/0.19.0/generated/pandas.DataFrame.plot.html] method. When we call this method, we specify the data we want plotted as well as the type of plot. We use the kind parameter to specify the type of plot we want. We use x and y to specify the data we want on each axis. You can read about the different parameters in the documentation.\n",
    "\n",
    "recent_grads.plot(x='Sample_size', y='Employed', kind='scatter')\n",
    "If you create a new cell in jupyter notebook and run the above code, the scatter plot will be displayed immediately. This functionality is a byproduct of running the jupyter magic %matplotlib inline. This means we can write one line of code to generate a scatter plot, run the cell using a keyboard shortcut, inspect the plot, and repeat. The DataFrame.plot() method has a few parameters we can use for tweaking the scatter plot:\n",
    "\n",
    "recent_grads.plot(x='Sample_size', y='Employed', kind='scatter', title='Employed vs. Sample_size', figsize=(5,10))\n",
    "We can access the underlying matplotlib Axes object by assigning the return value to a variable:\n",
    "\n",
    "ax = recent_grads.plot(x='Sample_size', y='Employed', kind='scatter')\n",
    "ax.set_title('Employed vs. Sample_size')\n",
    "When you run the code above in a jupyter notebook cell, the plot will be returned inline just like before.\n",
    "\n",
    "Instructions\n",
    "Generate scatter plots in separate jupyter notebook cells to explore the following relations:\n",
    "Sample_size and Median\n",
    "Sample_size and Unemployment_rate\n",
    "Full_time and Median\n",
    "ShareWomen and Unemployment_rate\n",
    "Men and Median\n",
    "Women and Median\n",
    "Use the plots to explore the following questions:\n",
    "Do students in more popular majors make more money?\n",
    "Do students that majored in subjects that were majority female make more money?\n",
    "Is there any link between the number of full-time employees and median salary?"
   ]
  },
  {
   "cell_type": "code",
   "execution_count": null,
   "metadata": {
    "collapsed": true
   },
   "outputs": [],
   "source": [
    "recent_grads.plot(x='Sample_size', y='Median', kind='scatter')"
   ]
  },
  {
   "cell_type": "code",
   "execution_count": null,
   "metadata": {
    "collapsed": true
   },
   "outputs": [],
   "source": [
    "recent_grads.plot(x='Sample_size', y='Unemployment_rate', kind='scatter')"
   ]
  },
  {
   "cell_type": "code",
   "execution_count": null,
   "metadata": {
    "collapsed": true
   },
   "outputs": [],
   "source": [
    "recent_grads.plot(x='Full_time', y='Median', kind='scatter')"
   ]
  },
  {
   "cell_type": "code",
   "execution_count": null,
   "metadata": {
    "collapsed": true
   },
   "outputs": [],
   "source": [
    "recent_grads.plot(x='ShareWomen', y='Unemployment_rate', kind='scatter')"
   ]
  },
  {
   "cell_type": "code",
   "execution_count": null,
   "metadata": {
    "collapsed": true
   },
   "outputs": [],
   "source": [
    "recent_grads.plot(x='Men', y='Median', kind='scatter')"
   ]
  },
  {
   "cell_type": "code",
   "execution_count": null,
   "metadata": {
    "collapsed": true
   },
   "outputs": [],
   "source": [
    "recent_grads.plot(x='Women', y='Median', kind='scatter')"
   ]
  },
  {
   "cell_type": "raw",
   "metadata": {},
   "source": [
    "3. Pandas, Histograms\n",
    "\n",
    "To explore the distribution of values in a column, we can select it from the DataFrame, call Series.plot() [http://pandas.pydata.org/pandas-docs/stable/generated/pandas.Series.plot.html], and set the kind parameter to hist:\n",
    "\n",
    "recent_grads['Sample_size'].plot(kind='hist')\n",
    "The DataFrame.plot() and Series.plot() methods have many of the same parameters but are used for different use cases. We use Series.plot() to plot a specific column and DataFrame.plot() to generate plots that use values from multiple columns. For example, because scatter plots are generated using 2 sets of values (one for each axis), we can't create a scatter plot using Series.plot().\n",
    "\n",
    "Unfortunately, Series.plot() doesn't contain parameters for tweaking a histogram because it was implemented to handle generating standard plots with default settings quickly. If we want to control the binning strategy of a histogram, we should use Series.hist() [http://pandas.pydata.org/pandas-docs/stable/generated/pandas.Series.hist.html] instead, which contains parameters specific to customizing histograms:\n",
    "\n",
    "recent_grads['Sample_size'].hist(bins=25, range=(0,5000))\n",
    "\n",
    "Instructions\n",
    "Generate histograms in separate jupyter notebook cells to explore the distributions of the following columns:\n",
    "Sample_size\n",
    "Median\n",
    "Employed\n",
    "Full_time\n",
    "ShareWomen\n",
    "Unemployment_rate\n",
    "Men\n",
    "Women\n",
    "We encourage you to experiment with different bin sizes and ranges when generating these histograms.\n",
    "Use the plots to explore the following questions:\n",
    "What percent of majors are predominantly male? Predominantly female?\n",
    "What's the most common median salary range?"
   ]
  },
  {
   "cell_type": "code",
   "execution_count": null,
   "metadata": {
    "collapsed": true
   },
   "outputs": [],
   "source": [
    "cols = [\"Sample_size\", \"Median\", \"Employed\", \"Full_time\", \"ShareWomen\", \"Unemployment_rate\", \"Men\", \"Women\"]\n",
    "\n",
    "fig = plt.figure(figsize=(5,12))\n",
    "for r in range(1,5):\n",
    "    ax = fig.add_subplot(4,1,r)\n",
    "    ax = recent_grads[cols[r]].plot(kind='hist', rot=40)"
   ]
  },
  {
   "cell_type": "code",
   "execution_count": null,
   "metadata": {
    "collapsed": true
   },
   "outputs": [],
   "source": [
    "cols = [\"Sample_size\", \"Median\", \"Employed\", \"Full_time\", \"ShareWomen\", \"Unemployment_rate\", \"Men\", \"Women\"]\n",
    "\n",
    "fig = plt.figure(figsize=(5,12))\n",
    "for r in range(4,8):\n",
    "    ax = fig.add_subplot(4,1,r-3)\n",
    "    ax = recent_grads[cols[r]].plot(kind='hist', rot=40)"
   ]
  },
  {
   "cell_type": "raw",
   "metadata": {},
   "source": [
    "4. Pandas, Scatter Matrix Plot\n",
    "\n",
    "In the last 2 steps, we created individual scatter plots to visualize potential relationships between columns and histograms to visualize the distributions of individual columns. A scatter matrix plot combines both scatter plots and histograms into one grid of plots and allows us to explore potential relationships and distributions simultaneously. A scatter matrix plot consists of n by n plots on a grid, where n is the number of columns, the plots on the diagonal are histograms, and the non-diagonal plots are scatter plots.\n",
    "\n",
    "Scatter Matrix Plot\n",
    "https://s3.amazonaws.com/dq-content/scatterplot_matrix_intro.png\n",
    "\n",
    "Because scatter matrix plots are frequently used in the exploratory data analysis, pandas contains a function named scatter_matrix() that generates the plots for us. This function is part of the pandas.tools.plotting module and needs to be imported separately. To generate a scatter matrix plot for 2 columns, select just those 2 columns and pass the resulting DataFrame into the scatter_matrix() function.\n",
    "\n",
    "scatter_matrix(recent_grads[['Women', 'Men']], figsize=(10,10))\n",
    "While passing in a DataFrame with 2 columns returns a 2 by 2 scatter matrix plot (4 plots total), passing in one with 3 returns a 3 by 3 scatter matrix plot (9 plots total). This means that the number of plots generated scales exponentially by a factor of 2, not linearly. If you increase the number of columns to 4 or more, the resulting grid of plots becomes unreadable and difficult to interpret (even if you increase the plotting area using the figsize parameter).\n",
    "\n",
    "Unfortunately, the documentation for scatter_matrix() is missing from the pandas website. If you want to read more about the parameters the function accepts, read the comments in the source code for the function.\n",
    "\n",
    "Instructions\n",
    "Import scatter_matrix from pandas.tools.plotting\n",
    "Create a 2 by 2 scatter matrix plot using the Sample_size and Median columns.\n",
    "Create a 3 by 3 scatter matrix plot using the Sample_size, Median, and Unemployment_rate columns.\n",
    "Explore the questions from the last few steps using these scatter matrix plots. You may need to create more scatter matrix plots."
   ]
  },
  {
   "cell_type": "code",
   "execution_count": null,
   "metadata": {
    "collapsed": true
   },
   "outputs": [],
   "source": [
    "from pandas.tools.plotting import scatter_matrix\n",
    "scatter_matrix(recent_grads[['Sample_size', 'Median']], figsize=(6,6))"
   ]
  },
  {
   "cell_type": "code",
   "execution_count": null,
   "metadata": {
    "collapsed": true
   },
   "outputs": [],
   "source": [
    "scatter_matrix(recent_grads[['Sample_size', 'Median', 'Unemployment_rate']], figsize=(10,10))"
   ]
  },
  {
   "cell_type": "raw",
   "metadata": {},
   "source": [
    "5. Pandas, Bar Plots\n",
    "\n",
    "To create bar plots in matplotlib, we had to specify many aspects of the bar plot ourselves. We had to specify the locations, labels, lengths, and widths of the bars. When creating bar plots using pandas, we only need specify the data we want the bars to represent and the labels for each bar. The following code returns a bar plot of the first 5 values in the Women column:\n",
    "\n",
    "recent_grads[:5]['Women'].plot(kind='bar')\n",
    "By default, pandas will use the default labels on the x-axis for each bar (1 to n) from matplotlib. If we instead use the DataFrame.plot.bar() [http://pandas.pydata.org/pandas-docs/stable/generated/pandas.DataFrame.plot.bar.html] method, we can use the x parameter to specify the labels and the y parameter to specify the data for the bars:\n",
    "\n",
    "recent_grads[:5].plot.bar(x='Major', y='Women')\n",
    "\n",
    "Instructions\n",
    "Use bar plots to compare the percentages of women (ShareWomen) from the 10 highest paying majors and from the 10 lowest paying majors.\n",
    "Use bar plots to compare the unemployment rate (Unemployment_rate) from the 10 highest paying majors and from the 10 lowest paying majors."
   ]
  },
  {
   "cell_type": "code",
   "execution_count": null,
   "metadata": {
    "collapsed": true
   },
   "outputs": [],
   "source": [
    "recent_grads[:10].plot.bar(x='Major', y='ShareWomen', legend=False)\n",
    "recent_grads[163:].plot.bar(x='Major', y='ShareWomen', legend=False)"
   ]
  },
  {
   "cell_type": "raw",
   "metadata": {},
   "source": [
    "6. Next steps\n",
    "\n",
    "In this guided project, we learned how to use the plotting tools built into pandas to explore data on job outcomes. If you head over to the documentation on plotting in pandas [http://pandas.pydata.org/pandas-docs/version/0.18.1/visualization.html], you'll notice that there's built in support for many more plots.\n",
    "\n",
    "We encourage you to keep exploring these other visualizations on your own. Here are some ideas:\n",
    "\n",
    "Use a grouped bar plot to compare the number of men with the number of women in each category of majors.\n",
    "Use a box plot to explore the distributions of median salaries and unemployment rate.\n",
    "Use a hexagonal bin plot to visualize the columns that had dense scatter plots from earlier in the project."
   ]
  }
 ],
 "metadata": {
  "kernelspec": {
   "display_name": "Python 2",
   "language": "python",
   "name": "python2"
  },
  "language_info": {
   "codemirror_mode": {
    "name": "ipython",
    "version": 2
   },
   "file_extension": ".py",
   "mimetype": "text/x-python",
   "name": "python",
   "nbconvert_exporter": "python",
   "pygments_lexer": "ipython2",
   "version": "2.7.14"
  }
 },
 "nbformat": 4,
 "nbformat_minor": 2
}
