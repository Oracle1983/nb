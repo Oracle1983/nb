{
 "cells": [
  {
   "cell_type": "markdown",
   "metadata": {},
   "source": [
    "# Step 4 Working with Data Sources - Multi-column indexing"
   ]
  },
  {
   "cell_type": "raw",
   "metadata": {},
   "source": [
    "1. Introduction\n",
    "\n",
    "In the last mission, we explored how to speed up SELECT queries that only filter on one column by creating an index for that column. In this mission, we'll explore how to create indexes for speeding up queries that filter on multiple columns.\n",
    "\n",
    "We'll continue to work with factbook.db, a SQLite database that contains information about each country in the world. Recall that this database contains just the facts table and each row represents a single country. While we created indexes for the facts table in this database in the previous mission, this version of factbook.db contains no indexes.\n",
    "\n",
    "Here are some of the columns:\n",
    "\n",
    "name -- the name of the country.\n",
    "area -- the total land and sea area of the country.\n",
    "population -- the population of the country.\n",
    "birth_rate -- the birth rate of the country.\n",
    "created_at -- the date the record was created.\n",
    "updated_at -- the date the record was updated.\n",
    "and the first few rows of facts:\n",
    "\n",
    "We limited ourselves to working with queries that only filtered on one column like:\n",
    "\n",
    "SELECT * FROM facts WHERE name = 'India';\n",
    "In this mission, we'll explore how to create indexes for speeding up queries that filter on multiple columns, like:\n",
    "\n",
    "SELECT * FROM facts WHERE population > 1000000 AND population_growth < 2.0;\n",
    "We'll also explore how to modify the queries we write to better take advantage of indexes. For example, if we create an index for the name column, we'll explore why the following query:\n",
    "\n",
    "SELECT name from facts WHERE name = 'India'`;\n",
    "will be faster than:\n",
    "\n",
    "SELECT * from facts WHERE name = 'India'`;\n",
    "To start, let's write and run a query that involves filtering on more than 1 column and use the EXPLAIN QUERY PLAN statement to understand what SQLite is doing to return the results. Our intuition suggests that SQLite will have to perform a full table scan. It will have to check if each row in the table meets the WHERE constraints since there are no indexes in the table to take advantage of.\n",
    "\n",
    "We've already imported the sqlite3 library and initialized a connection to factbook.db in the coding cell.\n",
    "\n",
    "Instructions\n",
    "Return the query plan for a query that returns all rows where population is greater than 1000000 and where population_growth is less than 0.05.\n",
    "We're interested in all of the columns in the rows.\n",
    "Assign the query plan to query_plan_one and use print function to display the query plan."
   ]
  },
  {
   "cell_type": "code",
   "execution_count": null,
   "metadata": {
    "collapsed": true
   },
   "outputs": [],
   "source": [
    "import sqlite3\n",
    "conn = sqlite3.connect(\"factbook.db\")"
   ]
  },
  {
   "cell_type": "raw",
   "metadata": {},
   "source": [
    "3. Query plan for multi-column queries\n",
    "\n",
    "As expected, SQLite had to perform a full table scan to access the data we asked for. Let's add indexes for both the population and population_growth columns to see how SQLite uses these indexes for returning the same query.\n",
    "\n",
    "Instructions\n",
    "Create an index called pop_idx for the population column in the facts table.\n",
    "Create an index called pop_growth_idx for the population_growth column in the facts table.\n",
    "Return the query plan for a query that returns all rows where population is greater than 1000000 and where population_growth is less than 0.05. We're interested in all of the columns in the rows.\n",
    "Assign the query plan to query_plan_two and display it using the print function."
   ]
  },
  {
   "cell_type": "code",
   "execution_count": null,
   "metadata": {
    "collapsed": true
   },
   "outputs": [],
   "source": [
    "conn = sqlite3.connect(\"factbook.db\")"
   ]
  },
  {
   "cell_type": "raw",
   "metadata": {},
   "source": [
    "4. Explanation\n",
    "\n",
    "If you recall, SQLite returns only a high-level query plan when you use the EXPLAIN QUERY PLAN statement in front of a query. This means that you'll often have to augment the returned query plan with your own understanding of the available indexes. In this case, the facts table has 2 indexes:\n",
    "\n",
    "one ordered by population called pop_idx,\n",
    "one ordered by population_growth, called pop_growth_idx.\n",
    "SQLite struggles to take advantage of both indexes since each index is optimized for lookups on just that column. SQLite can use the indexes to quickly find the row id values where either population is greater than 1000000 or where population_growth is less than 0.05. If SQLite uses the index of population values to return all of the row id values where population is less than 1000000, it can't use those id values to search the pop_growth_idx index quickly to find the rows where population_growth is less than 0.05.\n",
    "\n",
    "If you look at the query plan, you can infer that SQLite first decided to use the pop_growth_idx index to return the id values for the rows where population_growth was less than 0.05. Then, SQLite used a binary search on the facts table to access the row at each id value, add that row to a temporary collection if the value for population was greater than 1000000, and return the collection of rows.\n",
    "\n",
    "You may be wondering why SQLite chose the pop_growth_idx instead of the pop_idx. This is because when there are 2 possible indexes available, SQLite tries to estimate which index will result in better performance. Unfortunately, to keep SQLite lightweight, limited ability was added to estimate and plan accurately and SQLite often ends up picking an index at random."
   ]
  },
  {
   "cell_type": "raw",
   "metadata": {},
   "source": [
    "5. Multi-column index\n",
    "\n",
    "In cases like this, we need to create a multi-column index that contains values from both of the columns we're filtering on. This way, both criteria in the WHERE statement can be evaluted in the index itself and the facts table will only be queried at the end when we have the specific row id values.\n",
    "\n",
    "Here's how a multi-column index for population and population_growth would look like:\n",
    "\n",
    "While the single column indexes we've created in the past contain just the primary key column (population) and the row id (id) columns, this multi-column index contains the population_growth column as well. SQLite can:\n",
    "\n",
    "use binary search to find the first row in this index where population is greater than 1000000,\n",
    "add the row to a temporary collection if population_growth is less than 0.05,\n",
    "advance to the next row (the index is ordered by population) and check if it's greater than 1000000,\n",
    "add the row to a temporary collection if population_growth is less than 0.05,\n",
    "when the end of the index is reached, look up each row in facts using the id values from the temporary collection.\n",
    "This way the facts table is only accessed at the end and the index is used to process the WHERE criteria.\n",
    "\n",
    "When creating a multi-column index, we need to specify which of the columns we want as the primary key. In the example above, this means that SQLite can use binary search to quickly jump to the first row that matches a specific population value but not for jumping to the first row that matches a specific population_growth value."
   ]
  },
  {
   "cell_type": "raw",
   "metadata": {},
   "source": [
    "6. Creating a multi-column index\n",
    "\n",
    "To create a multi-column index, we use the same CREATE INDEX syntax as before but instead specify 2 columns in the ON statement:\n",
    "\n",
    "CREATE INDEX index_name ON table_name(column_name_1, column_name_2);\n",
    "The important thing to know here is that the first column in the parentheses becomes the primary key for the index. Let's create a multi-column index for the population and population_growth columns and return the query plan for the query we've been working with.\n",
    "\n",
    "Instructions\n",
    "Create a multi-column index for population and population_growth named pop_pop_growth_idx with population as the primary key.\n",
    "Return the query plan for a query that returns all rows where population is greater than 1000000 and where population_growth is less than 0.05. We're interested in all of the columns in the rows.\n",
    "Assign the returned query plan to query_plan_three and use the print function to display it."
   ]
  },
  {
   "cell_type": "code",
   "execution_count": null,
   "metadata": {
    "collapsed": true
   },
   "outputs": [],
   "source": [
    "conn = sqlite3.connect(\"factbook.db\")"
   ]
  },
  {
   "cell_type": "raw",
   "metadata": {},
   "source": [
    "7. Covering index\n",
    "\n",
    "This time, SQLite used the multi-column index pop_pop_growth_idx that we created instead of either pop_growth_idx or pop_idx. SQLite only needed to access the facts table to return the rest of the column values for the rows that met the WHERE criteria. This is only because the pop_pop_growth_idx doesn't contain the other values (besides population and population_growth already).\n",
    "\n",
    "What if we restricted the columns in the SELECT that we want returned to just population and population_growth? In this case, SQLite will not need to interact with the facts table since the pop_pop_growth_idx can service the query. When an index contains all of the information necessary to answer a query, it's called a covering index. Since the index covers for the actual table and can return the requested results to the query, SQLite doesn't need to query the actual table. For many queries, especially as your data gets larger, this can be much more efficient.\n",
    "\n",
    "Let's write a query that uses the index we created as a covering index and return it's query plan.\n",
    "\n",
    "Instructions\n",
    "Return the query plan for a query that returns all rows where population is greater than 1000000 and where population_growth is less than 0.05. Select only the population and population_growth columns.\n",
    "Assign the returned query plan to query_plan_four and use the print function to display it."
   ]
  },
  {
   "cell_type": "code",
   "execution_count": null,
   "metadata": {
    "collapsed": true
   },
   "outputs": [],
   "source": [
    "conn = sqlite3.connect(\"factbook.db\")\n",
    "conn.execute(\"create index if not exists pop_pop_growth_idx on facts(population, population_growth);\")"
   ]
  },
  {
   "cell_type": "raw",
   "metadata": {},
   "source": [
    "8. Covering index for single column\n",
    "\n",
    "There's two things that stand out from the query plan from the previous screen:\n",
    "\n",
    "instead of USING INDEX the query plan says USING COVERING INDEX,\n",
    "the query plan still contains SEARCH TABLE facts as before.\n",
    "Even though the query plan indicates that a binary search on facts was performed, this is misleading and it was instead able to use the covering index. You can read more about that on the documentation. [https://www.sqlite.org/queryplanner.html#covidx]\n",
    "\n",
    "Covering indexes don't apply just to multi-column indexes. If a query we write only touches a column in the database that we have a single-column index for, SQLite will use only the index to service the query. Let's test this by writing a query that can take advantage of just the index, pop_idx, for the population column.\n",
    "\n",
    "Instructions\n",
    "Return the query plan for a query that returns all rows where population is greater than 1000000. We're only interested in the population column.\n",
    "Assign the returned query plan to query_plan_five and use the print function to display it."
   ]
  },
  {
   "cell_type": "code",
   "execution_count": null,
   "metadata": {
    "collapsed": true
   },
   "outputs": [],
   "source": [
    "conn = sqlite3.connect(\"factbook.db\")\n",
    "conn.execute(\"create index if not exists pop_pop_growth_idx on facts(population, population_growth);\")"
   ]
  },
  {
   "cell_type": "raw",
   "metadata": {},
   "source": [
    "9. Conclusion\n",
    "\n",
    "Since only the population values were necessary to service the query, SQLite used the pop_idx index as a covering index and didn't have to access the facts table.\n",
    "\n",
    "In this mission, we explored how to create multi-column indexes and how to restrict our query to utilize an index if we don't always need information on column values only available in the table."
   ]
  }
 ],
 "metadata": {
  "kernelspec": {
   "display_name": "Python 2",
   "language": "python",
   "name": "python2"
  },
  "language_info": {
   "codemirror_mode": {
    "name": "ipython",
    "version": 2
   },
   "file_extension": ".py",
   "mimetype": "text/x-python",
   "name": "python",
   "nbconvert_exporter": "python",
   "pygments_lexer": "ipython2",
   "version": "2.7.14"
  }
 },
 "nbformat": 4,
 "nbformat_minor": 2
}
