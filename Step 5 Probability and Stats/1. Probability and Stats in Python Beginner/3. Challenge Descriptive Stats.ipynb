{
 "cells": [
  {
   "cell_type": "markdown",
   "metadata": {},
   "source": [
    "# Step 5 Introduction to Stats - Challenge Descriptive Stats"
   ]
  },
  {
   "cell_type": "raw",
   "metadata": {},
   "source": [
    "1. Introduction\n",
    "\n",
    "In this challenge, you'll practice the statistical techniques you learned in the previous missions. These techniques are referred to collectively as descriptive statistics since they're used to describe and understand a dataset and not directly for prediction.\n",
    "\n",
    "The FiveThirtyEight team recently released a dataset containing the critics scores for a sample of movies that have substantive (at least 30) user and critic reviews from IMDB, Rotten Tomatoes, Metacritic, IMDB, and Fandango. Whenever a movie is released, movie review sites ask their approved network of critics and their site's user base to rate the movie. These scores are aggregated and the average score from both groups are posted on their site for each movie.\n",
    "\n",
    "Here are links to the page for Star Trek Beyond for each site:\n",
    "\n",
    "Rotten Tomatoes\n",
    "Fandango\n",
    "Metacritic\n",
    "IMDB\n",
    "The dataset contains information on most movies from 2014 and 2015 and was used to help the team at FiveThirtyEight explore Fandango's suspiciously high ratings. You can read their analysis here.\n",
    "\n",
    "You'll be working with the file fandango_score_comparison.csv, which you can download from their Github repo [https://github.com/fivethirtyeight/data/tree/master/fandango]. Here are some of the columns in the dataset:\n",
    "\n",
    "FILM - film name.\n",
    "RottenTomatoes - Rotten Tomatoes critics average score.\n",
    "RottenTomatoes_User - Rotten Tomatoes user average score.\n",
    "RT_norm - Rotten Tomatoes critics average score (normalized to a 0 to 5 point scale).\n",
    "RT_user_norm - Rotten Tomatoes user average score (normalized to a 0 to 5 point scale).\n",
    "Metacritic - Metacritic critics average score.\n",
    "Metacritic_user_nom - Metacritic user average score (normalized to a 0 to 5 point scale).\n",
    "Metacritic_norm - Metacritic critics average score (normalized to a 0 to 5 point scale).\n",
    "Fandango_Ratingvalue - Fandango user average score (0 to 5 stars).\n",
    "IMDB_norm - IMDB user average score (normalized to a 0 to 5 point scale).\n",
    "The full column list and descriptions are available at FiveThirtyEight's Github repo. Let's focus on the normalized user scores for now and generate histograms to better understand each site's distributions.\n",
    "\n",
    "Instructions\n",
    "Create a matplotlib subplot grid with the following properties:\n",
    "4 rows by 1 column,\n",
    "figsize of 5 (width) by 12 (height).\n",
    "each Axes instance should have an x-value range of 0.0 to 5.0.\n",
    "Generate the following histograms:\n",
    "First plot (top most): Histogram of normalized Rotten Tomatoes scores by users.\n",
    "Second plot: Histogram of normalized Metacritic scores by users.\n",
    "Third plot: Histogram of Fandango scores by users.\n",
    "Fourth plot (bottom most): Histogram of IMDB scores by users.\n",
    "Note: If you still feel uncomfortable with matplotlib & its terminology, we'd recommend you reviewing the Exploratory Data Visualization course."
   ]
  },
  {
   "cell_type": "code",
   "execution_count": null,
   "metadata": {
    "collapsed": true
   },
   "outputs": [],
   "source": [
    "import matplotlib.pyplot as plt\n",
    "import pandas as pd\n",
    "movie_reviews = pd.read_csv(\"fandango_score_comparison.csv\")"
   ]
  },
  {
   "cell_type": "raw",
   "metadata": {},
   "source": [
    "2. Mean\n",
    "\n",
    "The most obvious things that stick out is that essentially all of the Fandango average user reviews are greater than 3 on a 5 point scale. The distributions of the Rotten Tomatoes and Metacritic scores, on the other hand, more closely resemble a normal distribution, which is generally what you'd expect if you knew nothing else. This is because the normal distribution is the most common distribution in nature and is used to approximate many phenomenon. Starting with the assumption that a phenomenon is normal is incredibly common, especially when you don't have a clear generative model to understand how the data was generated.\n",
    "\n",
    "Now that you hopefully have some visual understanding of these scores, let's calculate some statistical measures to see how the properties the histograms suggested are reflected in numerical values. Let's focus on just the normalized user reviews in this mission.\n",
    "\n",
    "Instructions\n",
    "Write a function, named calc_mean, that returns the mean for the values in a Series object.\n",
    "Recall that you can return the values in a Series using the values attribute [http://pandas.pydata.org/pandas-docs/stable/generated/pandas.Series.values.html].\n",
    "Select just the columns containing normalized user reviews and assign to a separate Dataframe named user_reviews. Those columns are: RT_user_norm, Metacritic_user_nom, Fandango_Ratingvalue, IMDB_norm.\n",
    "Use the Dataframe method apply to apply the calc_mean function over the filtered Dataframe user_reviews.\n",
    "Assign the mean of RT_user_norm to rt_mean.\n",
    "Assign the mean of Metacritic_user_nom to mc_mean.\n",
    "Assign the mean of Fandango_Ratingvalue to fg_mean.\n",
    "Assign the mean of IMDB_norm to id_mean.\n",
    "Use the variables display below the code output window or print statements to observe each value."
   ]
  },
  {
   "cell_type": "code",
   "execution_count": null,
   "metadata": {
    "collapsed": true
   },
   "outputs": [],
   "source": [
    "def calc_mean(series):\n",
    "    return None"
   ]
  },
  {
   "cell_type": "raw",
   "metadata": {},
   "source": [
    "3. Variance and standard deviation\n",
    "\n",
    "It seems like the Fandango user reviews have the highest mean and skew the most towards to the higher end compared to the other review sites. Let's now calculate variance and standard deviation to better understand the spreads.\n",
    "\n",
    "Instructions\n",
    "To calculate the variance:\n",
    "write a function, named calc_variance, that returns the variance for the values in a Series object.\n",
    "To calculate the standard deviation:\n",
    "use the output of the calc_variance function since standard deviation is a simple calculation away from variance.\n",
    "Calculate the variance and standard deviation for the RT_user_norm column and assign to rt_var and rt_stdev respectively.\n",
    "Calculate the variance and standard deviation for the Metacritic_user_nom column and assign to mc_var and mc_stdev respectively.\n",
    "Calculate the variance and standard deviation for the Fandango_Ratingvalue column and assign to fg_var and fg_stdev respectively.\n",
    "Calculate the variance and standard deviation for the IMDB_norm column and assign to id_var and id_stdev respectively.\n",
    "Use the variables display below the code output window or print statements to observe each value."
   ]
  },
  {
   "cell_type": "code",
   "execution_count": null,
   "metadata": {
    "collapsed": true
   },
   "outputs": [],
   "source": [
    "def calc_mean(series):\n",
    "    vals = series.values\n",
    "    mean = sum(vals) / len(vals)\n",
    "    return mean"
   ]
  },
  {
   "cell_type": "raw",
   "metadata": {},
   "source": [
    "4. Scatter plots\n",
    "\n",
    "The mean and variance values you calculated in the last screens should match the visual intuition the histograms gave you. Rotten Tomatoes and Metacritic have more spread out scores (high variance) and the mean is around 3. Fandango, on the other hand, has low spread (low variance) and a much higher mean, which could imply that the site has a strong bias towards higher reviews. IMDB is somewhere in the middle, with a low variance, like Fandango's user reviews, but a much more moderate mean value.\n",
    "\n",
    "So it seems like something is especially fishy about Fandango's ratings, which was the inspiration behind the FiveThirtyEight post to begin with. Since Fandango's main business is selling movie tickets, it's possible their primary incentive may differ from pure review sites like Rotten Tomatoes or Metacritic.\n",
    "\n",
    "Let's now explore if Fandango's user ratings are at least relatively correct. More precisely, are movies that are highly rated on Rotten Tomatoes, IMDB, and Metacritic also highly rated on Fandango?\n",
    "\n",
    "We can accomplish that by understanding how Fandango's scores are related to scores from Rotten Tomatoes and Metacritic. First things first, let's get a visual sense by generating scatter plots.\n",
    "\n",
    "Instructions\n",
    "Create a matplotlib subplot grid with the following properties:\n",
    "3 rows by 1 column,\n",
    "figsize of 4 (width) by 8 (height),\n",
    "each Axes instance should have an x-value range of 0.0 to 5.0.\n",
    "Generate the following scatter plot (y-axis vs x-axis):\n",
    "First plot (top most): Fandango user reviews vs. Rotten Tomatoes user reviews.\n",
    "Second plot: Fandango user reviews vs. Metacritic user reviews.\n",
    "Third plot (bottom most): Fandango user reviews vs. IMDB user reviews."
   ]
  },
  {
   "cell_type": "raw",
   "metadata": {},
   "source": [
    "5. Covariance\n",
    "\n",
    "It seems like Rotten Tomatoes and IMDB user reviews correlate the most with Fandango user reviews while Metacritic only weakly correlates. Let's write a function that to calculates the covariance values in this screen and a function to calculate the correlation values in the next screen.\n",
    "\n",
    "Here's the formula for computing the covariance between 2 variables: \n",
    "\n",
    "Instructions\n",
    "Write a function, named calc_covariance, that computes the covariance between the values of 2 Series objects.\n",
    "Use the calc_covariance function you wrote to:\n",
    "Compute the covariance between the RT_user_norm and Fandango_Ratingvalue columns. Assign the result to rt_fg_covar.\n",
    "Compute the covariance between the Metacritic_user_nom and Fandango_Ratingvalue columns. Assign the result to mc_fg_covar.\n",
    "Compute the covariance between the IMDB_norm and Fandango_Ratingvalue columns. Assign the result to id_fg_covar.\n",
    "Use the variables display below the code output window or print statements to observe each value."
   ]
  },
  {
   "cell_type": "code",
   "execution_count": null,
   "metadata": {
    "collapsed": true
   },
   "outputs": [],
   "source": [
    "def calc_mean(series):\n",
    "    vals = series.values\n",
    "    mean = sum(vals) / len(vals)\n",
    "    return mean"
   ]
  },
  {
   "cell_type": "raw",
   "metadata": {},
   "source": [
    "6. Correlation\n",
    "\n",
    "Interestingly, Rotten Tomatoes covaries strongly with Fandango (0.36) compared to Metacritic (0.13) and IMDB (0.14). Finally, let's calculate the correlation values by using the calc_covariance a function from the previous step.\n",
    "\n",
    "Here's the full formula for correlation:\n",
    "\n",
    "\n",
    ".\n",
    "\n",
    "where cov is shorthand for the covariance function, and  \n",
    " represents the standard deviation.\n",
    "\n",
    "Instructions\n",
    "Write a function, named calc_correlation, that uses the calc_covariance and calc_variance functions to calculate the correlation for 2 Series objects. The function should have 2 parameters, one for each Series object.\n",
    "Compute the correlation between the RT_user_norm and Fandango_Ratingvalue columns and assign the result to rt_fg_corr.\n",
    "Compute the correlation between the Metacritic_user_nom and Fandango_Ratingvalue columns and assign the result to mc_fg_corr.\n",
    "Compute the correlation between the IMDB_norm and Fandango_Ratingvalue columns and assign the result to id_fg_corr.\n",
    "Use the variables display below the code output window or print statements to observe each value."
   ]
  },
  {
   "cell_type": "code",
   "execution_count": null,
   "metadata": {
    "collapsed": true
   },
   "outputs": [],
   "source": [
    "def calc_mean(series):\n",
    "    vals = series.values\n",
    "    mean = sum(vals) / len(vals)\n",
    "    return mean\n",
    "\n",
    "def calc_variance(series):\n",
    "    mean = calc_mean(series)\n",
    "    squared_deviations = (series - mean)**2\n",
    "    mean_squared_deviations = calc_mean(squared_deviations)\n",
    "    return mean_squared_deviations\n",
    "\n",
    "def calc_covariance(series_one, series_two):\n",
    "    x = series_one.values\n",
    "    y = series_two.values\n",
    "    x_mean = calc_mean(series_one)\n",
    "    y_mean = calc_mean(series_two)\n",
    "    x_diffs = [i - x_mean for i in x]\n",
    "    y_diffs = [i - y_mean for i in y]\n",
    "    codeviates = [x_diffs[i] * y_diffs[i] for i in range(len(x))]\n",
    "    return sum(codeviates) / len(codeviates)\n",
    "\n",
    "rt_fg_covar = calc_covariance(movie_reviews[\"RT_user_norm\"], movie_reviews[\"Fandango_Ratingvalue\"])\n",
    "mc_fg_covar = calc_covariance(movie_reviews[\"Metacritic_user_nom\"], movie_reviews[\"Fandango_Ratingvalue\"])\n",
    "id_fg_covar = calc_covariance(movie_reviews[\"IMDB_norm\"], movie_reviews[\"Fandango_Ratingvalue\"])"
   ]
  },
  {
   "cell_type": "raw",
   "metadata": {},
   "source": [
    "7. Next steps\n",
    "\n",
    "As the scatter plots suggested, Rotten Tomatoes and IMDB correlate the strongest with Fandango, with correlation values of 0.72 and 0.60 respectively. Metacritic, on the other hand, only has a correlation value of 0.34 with Fandango. While covariance and correlation values may seem complicated to compute and hard to reason with, their best use case is in comparing relationships like we did in this challenge.\n",
    "\n",
    "In the next mission, we'll explore the basics of linear regression, which is a powerful machine learning technique."
   ]
  }
 ],
 "metadata": {
  "kernelspec": {
   "display_name": "Python 2",
   "language": "python",
   "name": "python2"
  },
  "language_info": {
   "codemirror_mode": {
    "name": "ipython",
    "version": 2
   },
   "file_extension": ".py",
   "mimetype": "text/x-python",
   "name": "python",
   "nbconvert_exporter": "python",
   "pygments_lexer": "ipython2",
   "version": "2.7.14"
  }
 },
 "nbformat": 4,
 "nbformat_minor": 2
}
