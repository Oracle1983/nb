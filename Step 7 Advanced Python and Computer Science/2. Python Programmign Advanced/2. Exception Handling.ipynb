{
 "cells": [
  {
   "cell_type": "markdown",
   "metadata": {},
   "source": [
    "# Step 7 Advanced Python and Computer Science - Exception Handling"
   ]
  },
  {
   "cell_type": "raw",
   "metadata": {},
   "source": [
    "1. Introduction: The Science of Chopsticks\n",
    "\n",
    "In 1991, a group of Taiwanese researchers set out to determine the ideal length for chopsticks. More than 30 people participated in the experiment by trying out chopsticks of various lengths. The researchers' approach ensured that the participants' different skill levels and length preferences didn't skew the results.\n",
    "\n",
    "After an exciting few days of picking up peanuts and placing them into cups, the researchers gathered enough data to determine which chopsticks are most efficient. Their findings form our data set.\n",
    "\n",
    "The first column contains the \"Food pinching efficiency\" measurement, which is a decimal value. The higher the value, the better the chopstick.\n",
    "\n",
    "The second column, \"Individual,\" holds unique identifiers for the person who used the chopstick.\n",
    "\n",
    "The third column records the \"Chopstick length\" measurement in millimeters.\n",
    "\n",
    "Each row of our data set represents a trial in which a participant used a chopstick of a certain length. It records the food pinching efficiency for a specific individual and chopstick length."
   ]
  },
  {
   "cell_type": "raw",
   "metadata": {},
   "source": [
    "2. Organizing Our Code\n",
    "\n",
    "Let's think a bit about how we should structure our code. We want to answer questions like:\n",
    "\n",
    "Which chopstick is more efficient?\n",
    "Which chopstick has the most consistent results?\n",
    "Other similar questions\n",
    "All of our questions are specific to certain chopstick lengths. It would be useful to have a Chopstick class that has methods for computing these values, based on the lengths.\n",
    "\n",
    "Before we can do that though, we need a way to store the data for each chopstick. While there are a few ways to go about this, we'll create an entire Trial class that stores information about each row of data. We've stored our data set in the variable chopsticks in the code cell.\n",
    "\n",
    "Instructions\n",
    "Write a Trial class with the following instance properties: efficiency, individual, chopstick_length\n",
    "efficiency should be a floating point number, and the other two properties should be integers.\n",
    "Set these properties within the class's constructor function (__init__), which should take in a row from our data set as an argument.\n",
    "Store the first trial of our data set in first_trial."
   ]
  },
  {
   "cell_type": "raw",
   "metadata": {},
   "source": [
    "3. Creating the Chopstick Class\n",
    "\n",
    "Let's also create a class named Chopstick whose instance properties contain information about each chopstick. For now, the only instance property we'll store in our chopstick class is length.\n",
    "\n",
    "Instructions\n",
    "Write a Chopstick class that initializes with a length, and stores it in the length instance property.\n",
    "Store the Chopstick instance with a length of 100 millimeters in mini_chopstick."
   ]
  },
  {
   "cell_type": "code",
   "execution_count": null,
   "metadata": {
    "collapsed": true
   },
   "outputs": [],
   "source": [
    "class Trial(object):\n",
    "    def __init__(self, datarow):\n",
    "        self.efficiency = float(datarow[0])\n",
    "        self.individual = int(datarow[1])\n",
    "        self.chopstick_length = int(datarow[2])\n",
    "first_trial = Trial(chopsticks[0])\n",
    "\n",
    "# Define the Chopstick class here"
   ]
  },
  {
   "cell_type": "raw",
   "metadata": {},
   "source": [
    "4. Storing the Trials in the Chopstick Class\n",
    "\n",
    "Now we need to refine our Chopstick class a little to make it more useful. Let's store all of the trials for a certain length in the Chopstick instance corresponding to that length.\n",
    "\n",
    "Instructions\n",
    "Modify the __init__ method of our Chopstick class to store a list of trials corresponding to the proper chopstick length.\n",
    "We'll store this information in an instance property called trials.\n",
    "We should cast the data set length to an integer before searching for rows of the proper length so that we're not comparing a string to an integer.\n",
    "Store the Chopstick instance with a length of 240 in medium_chopstick."
   ]
  },
  {
   "cell_type": "code",
   "execution_count": null,
   "metadata": {
    "collapsed": true
   },
   "outputs": [],
   "source": [
    "class Trial(object):\n",
    "    def __init__(self, datarow):\n",
    "        self.efficiency = float(datarow[0])\n",
    "        self.individual = int(datarow[1])\n",
    "        self.chopstick_length = int(datarow[2])\n",
    "\n",
    "class Chopstick(object):\n",
    "    def __init__(self, length):\n",
    "        self.length = length\n",
    "        # Start our trial list empty\n",
    "        self.trials = []\n",
    "        # Now, fill our list with relevant trials"
   ]
  },
  {
   "cell_type": "raw",
   "metadata": {},
   "source": [
    "5. Calculating Average Efficiency With a Method\n",
    "\n",
    "Now let's write a method we can use to calculate the average food pinching efficiency for each chopstic length.\n",
    "\n",
    "Instructions\n",
    "Write an avg_efficiency method for our Chopstick class that returns the average food pinching efficiency for chopsticks of a certain length.\n",
    "We recommend writing a num_trials method to help you with this implementation, because the method could come in handy further down the line.\n",
    "Store the average efficiency of chopsticks 210 millimeters long in avg_eff_210."
   ]
  },
  {
   "cell_type": "code",
   "execution_count": null,
   "metadata": {
    "collapsed": true
   },
   "outputs": [],
   "source": [
    "class Trial(object):\n",
    "    def __init__(self, datarow):\n",
    "        self.efficiency = float(datarow[0])\n",
    "        self.individual = int(datarow[1])\n",
    "        self.chopstick_length = int(datarow[2])\n",
    "\n",
    "class Chopstick(object):\n",
    "    def __init__(self, length):\n",
    "        self.length = length\n",
    "        self.trials = []\n",
    "        for row in chopsticks:\n",
    "            if int(row[2]) == self.length:\n",
    "                self.trials.append(Trial(row))"
   ]
  },
  {
   "cell_type": "raw",
   "metadata": {},
   "source": [
    "6. Overview of Exceptions\n",
    "\n",
    "When programming, we usually try to avoid writing code that will generate errors. Even so, errors can be quite useful to us because they tell us what went wrong with our code. We can use this information to improve our program's logic. If part of our code fails, we can check why it failed, and execute some other code instead.\n",
    "\n",
    "We need a way to handle errors gracefully during code execution so that our program doesn't crash, however. This is where exception handling comes into play.\n",
    "\n",
    "An exception is a broad characterization of what can go wrong with a program. When a statement is syntactically correct but something goes wrong during execution (a division by zero occurs or the interpreter tries to read a non-existent file, for example), the compiler raises an exception. An important distinction is that exceptions occur during the execution of the program, whereas syntax errors such as forgetting a colon or mispelling a variable don't, because your code won't run to begin with."
   ]
  },
  {
   "cell_type": "raw",
   "metadata": {},
   "source": [
    "7. Handling Exceptions\n",
    "\n",
    "Typically when we write Python code, the interpreter will raise an exception (report an error) and then continue executing the rest of the code. We'll see the exception, but our program will keep running as if it never happened. This is undesireable, because our program probably relies on the previous statements to succeed.\n",
    "\n",
    "We want to handle exceptions by observing when they occur and reacting to them accordingly instead. This way, every piece of code that executes is deliberate, and we have complete control over what our program does. In Python, we use a try-except block to handle exceptions. Consider this piece of code:\n",
    "\n",
    "try:\n",
    "    impossible_value = int(\"Not an integer\")\n",
    "except ValueError:\n",
    "    print(\"Cannot convert string to integer\")\n",
    "When the Python interpreter sees this code, it attempts to execute the try section of the statement. If the interpreter raises any exceptions within the try section (if we hit some sort of error), our code will attempt to catch it, or handle it gracefully with different code. In our example, the except statement is that different code. It will catch the exception and print out our message because we anticipated that a ValueError could occur, and built the error handling in.\n",
    "\n",
    "Now consider this code block:\n",
    "\n",
    "try:\n",
    "    f = open(\"data.txt\", \"r\")\n",
    "    s = f.readline()\n",
    "    i = float(s)\n",
    "except ValueError:\n",
    "    print(\"Cannot convert data to floating point value\")\n",
    "except IOError:\n",
    "    print(\"Could not read file\")\n",
    "Here, we caught a couple different types of exceptions that we suspected could arise during the execution of the try block.\n",
    "\n",
    "With Python, we have the ability to catch any exception by writing an except: section without specifying a particular error. This is a sort of \"catch-all\" that works like an else: section. Using a catch-all for exceptions is usually bad practice, however. Trying to catch every exception without being specific is dangerous because then we can't execute exception-specific logic, and it means we may not understand our code as fully as we should.\n",
    "\n",
    "If we catch every exception in a single statement, we can't react to the exception that occurred because we have no idea what type it is. Instead, we should try catching as many specific exceptions as we possibly can. To do this, we need to think about the exceptions our code might cause, then catch and react to each one individually.\n",
    "\n",
    "That being said, there are still times when implementing a catch-all after we've caught all of the expected exceptions is a good idea. We may want to catch the unknown exception, store it somewhere so we can find what went wrong later on, and then change our code to handle that particular exception."
   ]
  },
  {
   "cell_type": "raw",
   "metadata": {},
   "source": [
    "8. Handling Bad Data in the Trial Class\n",
    "\n",
    "We have a working program that can find the average efficiency for a length of chopstick. We need to account for what happens when we read in bad data, however. We'll handle this exception in our Trial class, because that's the class that reads in the values in our data set.\n",
    "\n",
    "Instructions\n",
    "Our Trial class's __init__ function uses floating point conversion and integer conversion.\n",
    "These conversions could fail with a ValueError exception.\n",
    "Catch this exception, and set each attribute to -1 if it occurs.\n",
    "Create a Trial instance from the last row of our chopsticks data set (chopsticks[-1]).\n",
    "Store this instance in bad_trial."
   ]
  },
  {
   "cell_type": "code",
   "execution_count": null,
   "metadata": {
    "collapsed": true
   },
   "outputs": [],
   "source": [
    "class Trial(object):\n",
    "    def __init__(self, datarow):\n",
    "        self.efficiency = float(datarow[0])\n",
    "        self.individual = int(datarow[1])\n",
    "        self.chopstick_length = int(datarow[2])"
   ]
  },
  {
   "cell_type": "raw",
   "metadata": {},
   "source": [
    "9. Handling Bad Data in the Chopstick Class\n",
    "\n",
    "While we wrote exceptions for handling bad data in the Trial class, we haven't done the same for the Chopstick class. Let's do that here.\n",
    "\n",
    "Instructions\n",
    "We set our Trial instances' attributes to -1 whenever we encountered bad data.\n",
    "Because we want to skip trials with bad data when populating a Chopstick instance's trials, verify that none of the attributes on the Trial instance equal -1, and only add trials that are valid.\n",
    "Then, create a new chopstick named bad_chopstick with a length of 400 millimeters.          "
   ]
  },
  {
   "cell_type": "code",
   "execution_count": null,
   "metadata": {
    "collapsed": true
   },
   "outputs": [],
   "source": [
    "class Trial(object):\n",
    "    def __init__(self, datarow):\n",
    "        try:\n",
    "            self.efficiency = float(datarow[0])\n",
    "            self.individual = int(datarow[1])\n",
    "            self.chopstick_length = int(datarow[2])\n",
    "        except:\n",
    "            self.efficiency = -1\n",
    "            self.individual = -1\n",
    "            self.chopstick_length = -1\n",
    "\n",
    "class Chopstick(object):\n",
    "    def __init__(self, length):\n",
    "        self.length = length\n",
    "        self.trials = []\n",
    "        for row in chopsticks:\n",
    "            if int(row[2]) == self.length:\n",
    "                trial = Trial(row)\n",
    "                # Verify that the data is good\n",
    "                    # Add the trial to trials if it is good\n",
    "    def num_trials(self):\n",
    "        return len(self.trials)\n",
    "    def avg_efficiency(self):\n",
    "        efficiency_sum = 0\n",
    "        for trial in self.trials:\n",
    "            efficiency_sum += trial.efficiency\n",
    "        return efficiency_sum / self.num_trials()"
   ]
  },
  {
   "cell_type": "raw",
   "metadata": {},
   "source": [
    "10. Handling Lengths Outside of the Data Set\n",
    "\n",
    "When we try to find the average efficiency for a chopstick length that isn't in our data set, we end up dividing by zero in our avg_efficiency method. Fortunately, this throws a exception, and we can catch it.\n",
    "\n",
    "Instructions\n",
    "Modify the Chopstick class so that computing the average efficiency of a chopstick whose length is outside our data set returns -1.0.\n",
    "The Python interpreter will throw a ZeroDivisionError exception when trying to divide by zero.\n",
    "You must write a try-except statement to handle this.\n",
    "Store the result of finding the average efficiency of a chopstick that's 100 millimeters long in bad_average."
   ]
  },
  {
   "cell_type": "code",
   "execution_count": null,
   "metadata": {
    "collapsed": true
   },
   "outputs": [],
   "source": [
    "class Trial(object):\n",
    "    def __init__(self, datarow):\n",
    "        try:\n",
    "            self.efficiency = float(datarow[0])\n",
    "            self.individual = int(datarow[1])\n",
    "            self.chopstick_length = int(datarow[2])\n",
    "        except:\n",
    "            self.efficiency = -1\n",
    "            self.individual = -1\n",
    "            self.chopstick_length = -1\n",
    "\n",
    "class Chopstick(object):\n",
    "    def __init__(self, length):\n",
    "        self.length = length\n",
    "        self.trials = []\n",
    "        for row in chopsticks:\n",
    "            if int(row[2]) == self.length:\n",
    "                trial = Trial(row)\n",
    "                if trial.individual >= 0:\n",
    "                    self.trials.append(trial)\n",
    "    def num_trials(self):\n",
    "        return len(self.trials)\n",
    "    def avg_efficiency(self):\n",
    "        efficiency_sum = 0\n",
    "        for trial in self.trials:\n",
    "            efficiency_sum += trial.efficiency\n",
    "        return efficiency_sum / self.num_trials()"
   ]
  },
  {
   "cell_type": "raw",
   "metadata": {},
   "source": [
    "11. Converting Lengths to Chopstick Instances\n",
    "\n",
    "Now it's time to answer our question. We want to determine which chopstick length is best by looking for the highest average food pinching efficiency. Because we defined our average efficiencies to be -1.0 for chopsticks with bad data, those averages won't interrupt our calculations. 0 is the lowest possible average efficiency, so -1.0 shouldn't be an issue.\n",
    "\n",
    "Instructions\n",
    "We've given you a list of chopstick lengths called, unsurprisingly, chopstick_lengths. Some of these lengths aren't in our data set, but we've already made sure our code is robust enough to ignore them.\n",
    "Use a list comprehension to convert the list of chopstick lengths into a list of Chopstick instances.\n",
    "Store the resulting list in chopstick_list."
   ]
  },
  {
   "cell_type": "code",
   "execution_count": null,
   "metadata": {
    "collapsed": true
   },
   "outputs": [],
   "source": [
    "class Trial(object):\n",
    "    def __init__(self, datarow):\n",
    "        try:\n",
    "            self.efficiency = float(datarow[0])\n",
    "            self.individual = int(datarow[1])\n",
    "            self.chopstick_length = int(datarow[2])\n",
    "        except:\n",
    "            self.efficiency = -1\n",
    "            self.individual = -1\n",
    "            self.chopstick_length = -1\n",
    "\n",
    "class Chopstick(object):\n",
    "    def __init__(self, length):\n",
    "        self.length = length\n",
    "        self.trials = []\n",
    "        for row in chopsticks:\n",
    "            if int(row[2]) == self.length:\n",
    "                trial = Trial(row)\n",
    "                if trial.individual >= 0:\n",
    "                    self.trials.append(trial)\n",
    "    def num_trials(self):\n",
    "        return len(self.trials)\n",
    "    def avg_efficiency(self):\n",
    "        efficiency_sum = 0\n",
    "        for trial in self.trials:\n",
    "            efficiency_sum += trial.efficiency\n",
    "        try:\n",
    "            return efficiency_sum / self.num_trials()\n",
    "        except ZeroDivisionError:\n",
    "            return -1.0\n",
    "        \n",
    "        \n",
    "chopstick_lengths = [180, 195, 210, 225, 240, 255, 270, 285, 300, 315, 330]"
   ]
  },
  {
   "cell_type": "raw",
   "metadata": {},
   "source": [
    "12. Overloading Comparison Operators\n",
    "\n",
    "Now let's overload the comparison operators for the Chopstick class so we can take advantage of built-in Python functions.\n",
    "\n",
    "Instructions\n",
    "Overload the __lt__ (<), __gt__ (>), __le__ (<=), __ge__ (>=), __eq__ (==), and __ne__ (!=) methods for the Chopstick class so that you can simply use Python's built-in max function.\n",
    "Remember that each of these methods takes self and other as arguments, where each argument is an instance of our class.\n",
    "Use the max function to store the most efficient chopstick in most_efficient."
   ]
  },
  {
   "cell_type": "code",
   "execution_count": null,
   "metadata": {
    "collapsed": true
   },
   "outputs": [],
   "source": [
    "class Trial(object):\n",
    "    def __init__(self, datarow):\n",
    "        try:\n",
    "            self.efficiency = float(datarow[0])\n",
    "            self.individual = int(datarow[1])\n",
    "            self.chopstick_length = int(datarow[2])\n",
    "        except:\n",
    "            self.efficiency = -1\n",
    "            self.individual = -1\n",
    "            self.chopstick_length = -1\n",
    "\n",
    "class Chopstick(object):\n",
    "    def __init__(self, length):\n",
    "        self.length = length\n",
    "        self.trials = []\n",
    "        for row in chopsticks:\n",
    "            if int(row[2]) == self.length:\n",
    "                trial = Trial(row)\n",
    "                if trial.individual >= 0:\n",
    "                    self.trials.append(trial)\n",
    "    def num_trials(self):\n",
    "        return len(self.trials)\n",
    "    def avg_efficiency(self):\n",
    "        efficiency_sum = 0\n",
    "        for trial in self.trials:\n",
    "            efficiency_sum += trial.efficiency\n",
    "        try:\n",
    "            return efficiency_sum / self.num_trials()\n",
    "        except ZeroDivisionError:\n",
    "            return -1.0\n",
    "        \n",
    "chopstick_lengths = [180, 195, 210, 225, 240, 255, 270, 285, 300, 315, 330]\n",
    "\n",
    "chopstick_list = [Chopstick(length) for length in chopstick_lengths]"
   ]
  }
 ],
 "metadata": {
  "kernelspec": {
   "display_name": "Python 2",
   "language": "python",
   "name": "python2"
  },
  "language_info": {
   "codemirror_mode": {
    "name": "ipython",
    "version": 2
   },
   "file_extension": ".py",
   "mimetype": "text/x-python",
   "name": "python",
   "nbconvert_exporter": "python",
   "pygments_lexer": "ipython2",
   "version": "2.7.14"
  }
 },
 "nbformat": 4,
 "nbformat_minor": 2
}
