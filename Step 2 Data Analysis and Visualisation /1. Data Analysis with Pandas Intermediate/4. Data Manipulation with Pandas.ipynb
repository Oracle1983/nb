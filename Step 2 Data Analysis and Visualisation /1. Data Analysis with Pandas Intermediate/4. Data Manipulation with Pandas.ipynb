{
 "cells": [
  {
   "cell_type": "markdown",
   "metadata": {},
   "source": [
    "# Step 2 Data Analysis and Visualisation - Data Manipulation with Pandas"
   ]
  },
  {
   "cell_type": "raw",
   "metadata": {},
   "source": [
    "1. Overview\n",
    "\n",
    "In the previous mission, we learned how to explore a pandas DataFrame. In this mission, we'll explore how to manipulate a DataFrame and make transformations to it. We'll continue to work with the same data set from the USDA on nutritional information. We'll build a basic nutritional index for people who want to eat high-protein, low-fat foods. The \"Lipid_Tot_(g)\" column contains each food's total fat content, and the \"Protein_(g)\" (in grams) contains each food's total protein content (in grams). Let's use the following formula to score each food in our data set:\n",
    "\n",
    "\n",
    "While this formula is by no means scientific, it will act as a guide as we explore pandas further.\n",
    "\n",
    "Here's a preview of the data set:\n",
    "\n",
    "Instructions\n",
    "To practice what we learned in the previous mission:\n",
    "Import the pandas library.\n",
    "Read food_info.csv into a DataFrame object named food_info.\n",
    "Use the DataFrame.columns attribute, followed by the Index.tolist() method, to return a list containing only the column names.\n",
    "Assign the resulting list to col_names, and use the print() function to display the value.\n",
    "Display the first three rows of food_info."
   ]
  },
  {
   "cell_type": "code",
   "execution_count": null,
   "metadata": {
    "collapsed": true
   },
   "outputs": [],
   "source": [
    "import pandas as pd\n",
    "\n",
    "food_info = pd.read_csv(\"food_info.csv\")\n",
    "food_info.head(3)\n",
    "\n",
    "col_names = food_info.columns.tolist()\n",
    "print(col_names)"
   ]
  },
  {
   "cell_type": "raw",
   "metadata": {},
   "source": [
    "2. Transforming a Column\n",
    "\n",
    "We can use the arithmetic operators to transform a numerical column. The values in the \"Iron_(mg)\" column, for example, are currently in milligrams. We can divide each value by 1000 to convert the values to grams. The following code will divide each value in the \"Iron_(mg)\" column by 1000, and return a new Series object with those values:\n",
    "\n",
    "div_1000 = food_info[\"Iron_(mg)\"] / 1000\n",
    "pandas allows us to use any of the arithmetic operators to scale the values in a numerical column:\n",
    "\n",
    "# Adds 100 to each value in the column and returns a Series object.\n",
    "add_100 = food_info[\"Iron_(mg)\"] + 100\n",
    "\n",
    "# Subtracts 100 from each value in the column and returns a Series object.\n",
    "sub_100 = food_info[\"Iron_(mg)\"] - 100\n",
    "\n",
    "# Multiplies each value in the column by 2 and returns a Series object.\n",
    "mult_2 = food_info[\"Iron_(mg)\"]*2\n",
    "\n",
    "Instructions\n",
    "Divide the \"Sodium_(mg)\" column by 1000 to convert the values to grams, and assign the result to sodium_grams.\n",
    "Multiply the \"Sugar_Tot_(g)\" column by 1000 to convert to milligrams, and assign the result to sugar_milligrams."
   ]
  },
  {
   "cell_type": "code",
   "execution_count": null,
   "metadata": {
    "collapsed": true
   },
   "outputs": [],
   "source": [
    "div_1000 = food_info[\"Iron_(mg)\"] / 1000\n",
    "add_100 = food_info[\"Iron_(mg)\"] + 100\n",
    "sub_100 = food_info[\"Iron_(mg)\"] - 100\n",
    "mult_2 = food_info[\"Iron_(mg)\"]*2\n",
    "\n",
    "sodium_grams = food_info['Sodium_(mg)'] / 1000\n",
    "sugar_milligrams = food_info['Sugar_Tot_(g)'] * 1000"
   ]
  },
  {
   "cell_type": "raw",
   "metadata": {},
   "source": [
    "3. Performing Math\n",
    "\n",
    "In addition to transforming columns by numerical values, we can transform columns by other columns. When we use an arithmetic operator between two columns (Series objects), pandas will perform that computation in a pair-wise fashion, and return a new Series object. It applies the arithmetic operator to the first value in both columns, the second value in both columns, and so on.\n",
    "\n",
    "In the following code, we multiply the \"Water_(g)\" column by the \"Energ_Kcal\" column, and assign the resulting Series to water_energy:\n",
    "\n",
    "water_energy = food_info[\"Water_(g)\"] * food_info[\"Energ_Kcal\"]\n",
    "The following diagram may help you understand pair-wise computation a bit better:\n",
    "\n",
    "Instructions\n",
    "Assign the number of grams of protein per gram of water (\"Protein_(g)\" column divided by \"Water_(g)\" column) to grams_of_protein_per_gram_of_water.\n",
    "Assign the total amount of calcium and iron (\"Calcium_(mg)\" column plus \"Iron_(mg)\" column) to milligrams_of_calcium_and_iron."
   ]
  },
  {
   "cell_type": "code",
   "execution_count": null,
   "metadata": {
    "collapsed": true
   },
   "outputs": [],
   "source": [
    "water_energy = food_info[\"Water_(g)\"] * food_info[\"Energ_Kcal\"]\n",
    "print(water_energy[0:5])\n",
    "\n",
    "grams_of_protein_per_gram_of_water = food_info['Protein_(g)'] / food_info['Water_(g)']\n",
    "\n",
    "milligrams_of_calcium_and_iron = food_info['Calcium_(mg)'] + food_info['Iron_(mg)']"
   ]
  },
  {
   "cell_type": "raw",
   "metadata": {},
   "source": [
    "4. Create a Nutritional Index\n",
    "\n",
    "Now that we've learned how to transform columns with a numerical value and how to combine columns, we can use the following formula to create a nutritional index:\n",
    "\n",
    "\\text{Score} = 2\\times\\text{(Protein_(g))}  -  0.75\\times\\text{(Lipid_Tot_(g))}\n",
    "\n",
    "Instructions\n",
    "Multiply the \"Protein_(g)\" column by two, and assign the resulting Series to weighted_protein.\n",
    "Multiply the \"Lipid_Tot_(g)\" column by -0.75, and assign the resulting Series to weighted_fat.\n",
    "Add both Series objects together and assign the result to initial_rating."
   ]
  },
  {
   "cell_type": "code",
   "execution_count": null,
   "metadata": {
    "collapsed": true
   },
   "outputs": [],
   "source": [
    "weighted_protein = food_info['Protein_(g)'] * 2\n",
    "weighted_fat = food_info['Lipid_Tot_(g)'] * -0.75\n",
    "initial_rating = weighted_protein + weighted_fat"
   ]
  },
  {
   "cell_type": "raw",
   "metadata": {},
   "source": [
    "5. Normalizing Columns in a Data Set\n",
    "\n",
    "The columns in the data set use different units (kilo-calories, milligrams, etc.). As a result, the range of values varies greatly between columns. For example, the \"Vit_A_IU\" column ranges from 0 to 100000, while the \"Fiber_TD_(g)\" column ranges from 0 to 79. For certain calculations, columns like \"Vit_A_IU\" can have a greater effect on the result, due to the scale of the values.\n",
    "\n",
    "While there are many ways to normalize data, one of the simplest ways is called rescaling. The outcome of rescaling is that every value in a numeric column will range between 0 and 1 (with the column's minimum value being 0 and the maximum value being 1). Here's the formula for rescaling:\n",
    "\n",
    "x' = \\frac{x - min(x)} {max(x) - min(x)}\n",
    "\n",
    "where \n",
    " represents a column and \n",
    " is the new rescaled column.\n",
    "\n",
    "To calculate a column's minimum value, we use the Series.min() method. We can use the equivalent Series.max() method to compute the maximum value. Whenever we use either of these methods, a new Series object is returned. We can take advantage of column math for Series objects to add, subtract, and divide Series objects and rescale any numeric column in the data frame.\n",
    "\n",
    "Let's explore a small example of using one of these methods and taking advantage of column math. In the following code, we use the Series.max() method to calculate the largest value in the \"Energ_Kcal\" column, and assign it to max_calories:\n",
    "\n",
    "# The largest value in the \"Energ_Kcal\" column.\n",
    "max_calories = food_info[\"Energ_Kcal\"].max()\n",
    "We can then use the division operator (/) to divide the values in the \"Energ_Kcal\" column by the maximum value, max_calories:\n",
    "\n",
    "# Divide the values in \"Energ_Kcal\" by the largest value.\n",
    "normalized_calories = food_info[\"Energ_Kcal\"] / max_calories\n",
    "\n",
    "Instructions\n",
    "Normalize the values in the \"Protein_(g)\" column, and assign the result to normalized_protein.\n",
    "Normalize the values in the \"Lipid_Tot_(g)\" column, and assign the result to normalized_fat."
   ]
  },
  {
   "cell_type": "code",
   "execution_count": null,
   "metadata": {
    "collapsed": true
   },
   "outputs": [],
   "source": [
    "print(food_info[\"Protein_(g)\"][0:5])\n",
    "max_protein = food_info[\"Protein_(g)\"].max()\n",
    "max_fat = food_info['Lipid_Tot_(g)'].max()\n",
    "\n",
    "normalized_protein = food_info['Protein_(g)'] / max_protein\n",
    "normalized_fat = food_info['Lipid_Tot_(g)'] / max_fat"
   ]
  },
  {
   "cell_type": "raw",
   "metadata": {},
   "source": [
    "6. Creating a New Column\n",
    "\n",
    "So far, we've assigned the Series object that results from a column transform to a variable. However, we can add it to the DataFrame as a new column instead.\n",
    "\n",
    "We add bracket notation to specify the name we want for that column, then use the assignment operator (=) to specify the Series object containing the values we want to assign to that column:\n",
    "\n",
    "iron_grams = food_info[\"Iron_(mg)\"] / 1000  \n",
    "food_info[\"Iron_(g)\"] = iron_grams\n",
    "The DataFrame food_info now includes the \"Iron_(g)\" column, which contains the values from iron_grams.\n",
    "\n",
    "Instructions\n",
    "Assign the normalized \"Protein_(g)\" column to a new column named \"Normalized_Protein\" in food_info.\n",
    "Assign the normalized \"Lipid_Tot_(g)\" column to a new column named \"Normalized_Fat\" in food_info."
   ]
  },
  {
   "cell_type": "code",
   "execution_count": null,
   "metadata": {
    "collapsed": true
   },
   "outputs": [],
   "source": [
    "normalized_protein = (food_info[\"Protein_(g)\"] - food_info[\"Protein_(g)\"].min()) / (food_info[\"Protein_(g)\"].max() - food_info[\"Protein_(g)\"].min())\n",
    "normalized_fat = (food_info[\"Lipid_Tot_(g)\"] - food_info[\"Lipid_Tot_(g)\"].min()) / (food_info[\"Lipid_Tot_(g)\"].max() - food_info[\"Lipid_Tot_(g)\"].min())\n",
    "\n",
    "food_info['Normalized_Protein'] = normalized_protein\n",
    "food_info['Normalized_Fat'] = normalized_fat"
   ]
  },
  {
   "cell_type": "raw",
   "metadata": {},
   "source": [
    "7. Create a Normalized Nutritional index\n",
    "\n",
    "Combining what you've learned so far, you can now create a nutritional index that uses the normalized fat and protein values, instead of the original values.\n",
    "\n",
    "Here's the formula for reference:\n",
    "\n",
    "\\text{Score} = 2\\times\\text{(Normalized_Protein)}  -  0.75\\times\\text{(Normalized_Fat)}\n",
    "\n",
    "Instructions\n",
    "Use the Normalized_Protein and Normalized_Fat columns with the formula above to create the Norm_Nutr_Index column."
   ]
  },
  {
   "cell_type": "code",
   "execution_count": null,
   "metadata": {
    "collapsed": true
   },
   "outputs": [],
   "source": [
    "food_info[\"Normalized_Protein\"] = normalized_protein\n",
    "food_info[\"Normalized_Fat\"] = normalized_fat\n",
    "\n",
    "food_info['Norm_Nutr_Index'] = (2*food_info['Normalized_Protein']) + (-0.75*food_info['Normalized_Fat'])"
   ]
  },
  {
   "cell_type": "raw",
   "metadata": {},
   "source": [
    "8. Sorting a Dataframe by a Column\n",
    "\n",
    "The DataFrame currently appears in numerical order according to the NDB_No column. NDB_No is a unique USDA identifier that isn't really useful for our needs. To explore which foods rank the highest in the Norm_Nutr_Index column, we need to sort the DataFrame by that column. DataFrame objects have a sort_values() method that we can use to sort the entire DataFrame.\n",
    "\n",
    "To sort the DataFrame on the Sodium_(mg) column, pass in the column name to the DataFrame.sort_values() method, and assign the resulting DataFrame to a new variable:\n",
    "\n",
    "food_info.sort_values(\"Sodium_(mg)\")\n",
    "By default, pandas will sort the data by the column we specify in ascending order and return a new DataFrame, rather than modifying food_info itself. To customize the method's behavior, use the parameters listed in the documentation:\n",
    "\n",
    "# Sorts the DataFrame in-place, rather than returning a new DataFrame.\n",
    "food_info.sort_values(\"Sodium_(mg)\", inplace=True)\n",
    "\n",
    "# Sorts by descending order, rather than ascending.\n",
    "food_info.sort_values(\"Sodium_(mg)\", inplace=True, ascending=False)\n",
    "\n",
    "Instructions\n",
    "Sort the food_info DataFrame in-place on the Norm_Nutr_Index column in descending order."
   ]
  },
  {
   "cell_type": "code",
   "execution_count": null,
   "metadata": {
    "collapsed": true
   },
   "outputs": [],
   "source": [
    "food_info[\"Norm_Nutr_Index\"] = 2*food_info[\"Normalized_Protein\"] + (-0.75*food_info[\"Normalized_Fat\"])\n",
    "\n",
    "food_info.sort_values('Norm_Nutr_Index', inplace=True, ascending=False)"
   ]
  }
 ],
 "metadata": {
  "kernelspec": {
   "display_name": "Python 2",
   "language": "python",
   "name": "python2"
  },
  "language_info": {
   "codemirror_mode": {
    "name": "ipython",
    "version": 2
   },
   "file_extension": ".py",
   "mimetype": "text/x-python",
   "name": "python",
   "nbconvert_exporter": "python",
   "pygments_lexer": "ipython2",
   "version": "2.7.14"
  }
 },
 "nbformat": 4,
 "nbformat_minor": 2
}
