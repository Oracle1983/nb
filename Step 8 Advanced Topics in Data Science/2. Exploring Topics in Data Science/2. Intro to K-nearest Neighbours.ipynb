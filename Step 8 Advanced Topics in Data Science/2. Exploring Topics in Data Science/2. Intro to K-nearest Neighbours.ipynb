{
 "cells": [
  {
   "cell_type": "markdown",
   "metadata": {},
   "source": [
    "# Step 8 Advanced Topics in Data Science -Intro to K-nearest Neighbours"
   ]
  },
  {
   "cell_type": "raw",
   "metadata": {},
   "source": [
    "1. Introduction\n",
    "\n",
    "Before we get started with the K-Nearest Neighbors (kNN) algorithm, let's take a look at our data. Each row contains information on how a player performed during the 2013-2014 NBA season.\n",
    "\n",
    "Here are a few of the columns:\n",
    "\n",
    "player - The player's name\n",
    "pos - The player's position\n",
    "g - The number of games the player was in\n",
    "gs - The number of games in which the player started\n",
    "pts - The total points the player scored\n",
    "\n",
    "See this site [http://www.databasebasketball.com/about/aboutstats.htm] for descriptions of the remaining columns."
   ]
  },
  {
   "cell_type": "code",
   "execution_count": null,
   "metadata": {
    "collapsed": true
   },
   "outputs": [],
   "source": [
    "import pandas as pd\n",
    "nba = pd.read_csv(\"nba_2013.csv\")\n",
    "\n",
    "# The names of the columns in the data\n",
    "print(nba.columns.values)"
   ]
  },
  {
   "cell_type": "raw",
   "metadata": {},
   "source": [
    "2. Understanding the kNN Algorithm\n",
    "\n",
    "The kNN algorithm is based on the idea that we can predict values we don't know by matching them with the most similar values we do know.\n",
    "\n",
    "Imagine that we have three different types of cars:\n",
    "\n",
    "car,horsepower,racing_stripes,is_fast\n",
    "Honda Accord,180,False,False\n",
    "Yugo,500,True,True\n",
    "Delorean DMC-12,200,True,True\n",
    "Let's say that we now have another car:\n",
    "\n",
    "Chevrolet Camaro,400,True,Unknown\n",
    "We don't know whether or not this car is fast, but we can make a prediction based on the most similar car whose speed we know. In this case, we would compare the horsepower and racing_stripes values to find the most similar car, which is the Yugo. Because the Yugo is fast, we would predict that the Camaro is also fast. This is an example of 1-nearest neighbors, because we only looked at the most similar car.\n",
    "\n",
    "If we performed a 2-nearest neighbors, we would end up with two True values (for the Delorean and the Yugo), which would average out to True.\n",
    "\n",
    "If we did 3-nearest neighbors, we would end up with two True values and a False value, which would average out to True."
   ]
  },
  {
   "cell_type": "raw",
   "metadata": {},
   "source": [
    "3. Finding Similar Rows With Euclidean Distance\n",
    "\n",
    "Before we can make predictions with kNN, we need to find some way to figure out which data rows are \"closest\" to the row we're trying to predict.\n",
    "\n",
    "A simple way to do this is to use Euclidean distance. The formula is:\n",
    "\n",
    "\n",
    "Let's say we have these two rows (we've converted True/False to 1/0), and we want to find the distance between them:\n",
    "\n",
    "Honda Accord,180,0\n",
    "Chevrolet Camaro,400,1\n",
    "We'd only select the numeric columns. The distance becomes \n",
    ", which is about equal to 220.\n",
    "\n",
    "Instructions\n",
    "Create a function for calculating the Euclidean distance between two pandas series objects.\n",
    "Use the function to find the Euclidean distance between selected_player and each row in nba.\n",
    "Use the .apply(func, axis=1) method on dataframes to apply function func to each row.\n",
    "The function should take row as its first argument.\n",
    "Only use the columns in distance_columns to compute the distance. - See the documentation on the apply() [http://pandas.pydata.org/pandas-docs/dev/generated/pandas.DataFrame.apply.html] method if you get stuck.\n",
    "Assign the resulting pandas series to lebron_distance."
   ]
  },
  {
   "cell_type": "code",
   "execution_count": null,
   "metadata": {
    "collapsed": true
   },
   "outputs": [],
   "source": [
    "selected_player = nba[nba[\"player\"] == \"LeBron James\"].iloc[0]\n",
    "distance_columns = ['age', 'g', 'gs', 'mp', 'fg', 'fga', 'fg.', 'x3p', 'x3pa', 'x3p.', 'x2p', 'x2pa', 'x2p.', 'efg.', 'ft', 'fta', 'ft.', 'orb', 'drb', 'trb', 'ast', 'stl', 'blk', 'tov', 'pf', 'pts']"
   ]
  },
  {
   "cell_type": "raw",
   "metadata": {},
   "source": [
    "4. Normalizing Columns\n",
    "\n",
    "You may have noticed that horsepower in the last example had a much larger impact on the final distance than racing_stripes did. That's because horsepower values are much larger in absolute terms, and therefore dwarf the impact of racing_stripes values in the Euclidean distance calculations.\n",
    "\n",
    "This can be bad, because having larger values doesn't necessarily make a variable better at predicting which rows are similar.\n",
    "\n",
    "A simple way to deal with this problem is to normalize all of the columns to have a mean of 0 and a standard deviation of 1. This ensures that no single column has a dominant impact on the Euclidean distance calculations.\n",
    "\n",
    "To set a column's mean to 0, we have to find its current mean, then subtract it from every value in that column. To set the standard deviation to 1, we divide every value in the column by the current standard deviation. The formula is:\n",
    "\n",
    "Instructions\n",
    "Normalize the columns in nba_numeric.\n",
    "Using .mean() on a dataframe will return the mean of each column.\n",
    "Using .std() will return the standard deviation of each column.\n",
    "Assign the result to nba_normalized."
   ]
  },
  {
   "cell_type": "code",
   "execution_count": null,
   "metadata": {
    "collapsed": true
   },
   "outputs": [],
   "source": [
    "nba_numeric = nba[distance_columns]"
   ]
  },
  {
   "cell_type": "raw",
   "metadata": {},
   "source": [
    "5. Finding the Nearest Neighbor\n",
    "\n",
    "Now we know enough to find the nearest neighbor of a given row. Instead of the Euclidean distance formula, we can use the distance.euclidean function from scipy.spatial, which is a much faster way to calculate Euclidean distance.\n",
    "\n",
    "Instructions\n",
    "Find the player who's most similar to LeBron James by our distance metric.\n",
    "You can accomplish this by finding the second lowest value in the euclidean_distances series (the lowest value will correspond to Lebron, as he is most similar to himself), and then cross-referencing the NBA dataframe with the same index.\n",
    "Assign the name of the player to most_similar_to_lebron."
   ]
  },
  {
   "cell_type": "code",
   "execution_count": null,
   "metadata": {
    "collapsed": true
   },
   "outputs": [],
   "source": [
    "from scipy.spatial import distance\n",
    "\n",
    "# Fill in the NA values in nba_normalized\n",
    "nba_normalized.fillna(0, inplace=True)\n",
    "\n",
    "# Find the normalized vector for Lebron James\n",
    "lebron_normalized = nba_normalized[nba[\"player\"] == \"LeBron James\"]\n",
    "\n",
    "# Find the distance between Lebron James and everyone else.\n",
    "euclidean_distances = nba_normalized.apply(lambda row: distance.euclidean(row, lebron_normalized), axis=1)"
   ]
  },
  {
   "cell_type": "raw",
   "metadata": {},
   "source": [
    "6. Generating Training and Testing Sets\n",
    "\n",
    "Now that we know how to find the nearest neighbors, we can make predictions on a test set.\n",
    "\n",
    "First, we have to generate testing and training sets. We'll use random sampling to do this. We'll randomly shuffle the index of the nba dataframe, and then pick rows using the randomly shuffled values.\n",
    "\n",
    "If we didn't do this, we'd end up predicting and training on the same data set, which would overfit. We could do cross-validation also, which would be slightly better, but also slightly more complex."
   ]
  },
  {
   "cell_type": "code",
   "execution_count": null,
   "metadata": {
    "collapsed": true
   },
   "outputs": [],
   "source": [
    "import random\n",
    "from numpy.random import permutation\n",
    "\n",
    "# Randomly shuffle the index of nba\n",
    "random_indices = permutation(nba.index)\n",
    "# Set a cutoff for how many items we want in the test set (in this case 1/3 of the items)\n",
    "test_cutoff = math.floor(len(nba)/3)\n",
    "# Generate the test set by taking the first 1/3 of the randomly shuffled indices\n",
    "test = nba.loc[random_indices[1:test_cutoff]]\n",
    "# Generate the train set with the rest of the data\n",
    "train = nba.loc[random_indices[test_cutoff:]]"
   ]
  },
  {
   "cell_type": "raw",
   "metadata": {},
   "source": [
    "7. Using sklearn\n",
    "\n",
    "Instead of having to do it all ourselves, we can use the kNN implementation in scikit-learn [http://scikit-learn.org/stable/modules/neighbors.html]. While scikit-learn (Sklearn for short) makes a regressor and a classifier available, we'll be using the regressor, as we have continuous values to predict on.\n",
    "\n",
    "Sklearn performs the normalization and distance finding automatically, and lets us specify how many neighbors we want to look at."
   ]
  },
  {
   "cell_type": "code",
   "execution_count": null,
   "metadata": {
    "collapsed": true
   },
   "outputs": [],
   "source": [
    "# The columns that we'll be using to make predictions\n",
    "x_columns = ['age', 'g', 'gs', 'mp', 'fg', 'fga', 'fg.', 'x3p', 'x3pa', 'x3p.', 'x2p', 'x2pa', 'x2p.', 'efg.', 'ft', 'fta', 'ft.', 'orb', 'drb', 'trb', 'ast', 'stl', 'blk', 'tov', 'pf']\n",
    "# The column we want to predict\n",
    "y_column = [\"pts\"]\n",
    "\n",
    "from sklearn.neighbors import KNeighborsRegressor\n",
    "# Create the kNN model\n",
    "knn = KNeighborsRegressor(n_neighbors=5)\n",
    "# Fit the model on the training data\n",
    "knn.fit(train[x_columns], train[y_column])\n",
    "# Make predictions on the test set using the fit model\n",
    "predictions = knn.predict(test[x_columns])"
   ]
  },
  {
   "cell_type": "raw",
   "metadata": {},
   "source": [
    "8. Computing Error\n",
    "\n",
    "Now that we know our predictions, we can compute the error involved as mean squared error. The formula is:\n",
    "\n",
    "Instructions\n",
    "Compute the mean squared error between actual and predictions.\n",
    "Assign the result to mse."
   ]
  },
  {
   "cell_type": "code",
   "execution_count": null,
   "metadata": {
    "collapsed": true
   },
   "outputs": [],
   "source": [
    "actual = test[y_column]"
   ]
  }
 ],
 "metadata": {
  "kernelspec": {
   "display_name": "Python 2",
   "language": "python",
   "name": "python2"
  },
  "language_info": {
   "codemirror_mode": {
    "name": "ipython",
    "version": 2
   },
   "file_extension": ".py",
   "mimetype": "text/x-python",
   "name": "python",
   "nbconvert_exporter": "python",
   "pygments_lexer": "ipython2",
   "version": "2.7.14"
  }
 },
 "nbformat": 4,
 "nbformat_minor": 2
}
