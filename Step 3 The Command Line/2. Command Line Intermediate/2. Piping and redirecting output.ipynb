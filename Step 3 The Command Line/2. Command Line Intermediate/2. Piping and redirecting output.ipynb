{
 "cells": [
  {
   "cell_type": "markdown",
   "metadata": {},
   "source": [
    "# Step 3 The Command Line - Piping and redirecting output"
   ]
  },
  {
   "cell_type": "raw",
   "metadata": {},
   "source": [
    "1. Appending\n",
    "\n",
    "In an earlier mission, we looked at how to redirect output from a command to a file using >. Here's an example:\n",
    "\n",
    "echo \"This is all a dream...\" > dream.txt\n",
    "If the file dream.txt already exists, the above code will overwrite the file with the string This is all a dream.... If the file dream.txt doesn't exist, it will be created, and the string This is all a dream... will be used as the content. This involves redirecting from the standard output of the command to the standard input of the file.\n",
    "\n",
    "If we don't want to overwrite dream.txt, and we instead want to add to it, we can use >>.\n",
    "\n",
    "echo \"Wake up!\" >> dream.txt\n",
    "The above code will append This is all a dream... to the file dream.txt. The file will still be created if it didn't exist.\n",
    "\n",
    "Instructions\n",
    "Overwrite the file beer.txt with the string 99 bottles of beer on the wall....\n",
    "Append the string Take one down, pass it around, 98 bottles of beer on the wall... to the file beer.txt."
   ]
  },
  {
   "cell_type": "raw",
   "metadata": {},
   "source": [
    "2. Redirecting from a file\n",
    "\n",
    "We've seen how to redirect from a command to a file. We can also redirect the other way, from a file to a command. This involves redirecting from the standard output of the file to the standard input of the command.\n",
    "\n",
    "In our last screen, the file beer.txt ends up looking like this:\n",
    "\n",
    "99 bottles of beer on the wall...\n",
    "Take one down, pass it around, 98 bottles of beer on the wall...\n",
    "The Linux sort command will sort the lines of a file in alphabetical order. If we pass the -r flag, the lines will be sorted in reverse order.\n",
    "\n",
    "sort < beer.txt\n",
    "The above code will sort each of the lines in beer.txt in order.\n",
    "\n",
    "Instructions\n",
    "Use the sort [https://en.wikipedia.org/wiki/Sort] command to sort the lines of beer.txt in reverse order."
   ]
  },
  {
   "cell_type": "raw",
   "metadata": {},
   "source": [
    "3. The grep command\n",
    "\n",
    "Sometimes, we'll want to search through the contents of a set of files to find a specific line of text. We can use the grep [http://www.gnu.org/software/grep/manual/grep.html] command for this.\n",
    "\n",
    "grep \"pass\" beer.txt\n",
    "The above command will print any lines in beer.txt where the string pass appears, and highlight the string pass.\n",
    "\n",
    "We can specify multiple files by passing in more arguments:\n",
    "\n",
    "grep \"beer\" beer.txt coffee.txt\n",
    "This will show all lines from either file that contain the string beer.\n",
    "\n",
    "Instructions\n",
    "Make a file called coffee.txt that has two lines of text in it:\n",
    "Coffee is almost as good as beer,\n",
    "But I could never drink 99 bottles of it\n",
    "Use the grep command to search beer.txt and coffee.txt for the string bottles of."
   ]
  },
  {
   "cell_type": "raw",
   "metadata": {},
   "source": [
    "4. Special characters\n",
    "\n",
    "Like we did in the last screen, sometimes we'll want to execute commands on a set of files. There were only 2 files in the last screen though, beer.txt and coffee.txt. But what if we wanted to search through all 1000 files in a folder? We definitely wouldn't want to type out all of the names. Let's say we have the following files in a directory:\n",
    "\n",
    "beer.txt\n",
    "beer1.txt\n",
    "beer2.txt\n",
    "coffee.txt\n",
    "better_coffee.txt\n",
    "If we wanted to search for a string in beer1.txt and beer2.txt, we could use this command:\n",
    "\n",
    "grep \"beer\" beer1.txt beer2.txt\n",
    "We could also use a wildcard character, ?. ? is used to represent a single, unknown character. We could perform the same search we did above like this:\n",
    "\n",
    "grep \"beer\" beer?.txt\n",
    "The wildcard above will match both beer1.txt and beer2.txt. We can use as many wildcards as we want in a filename.\n",
    "\n",
    "Instructions\n",
    "Create empty files called beer1.txt and beer2.txt.\n",
    "Use grep and the ? wildcard character to search for beer in both beer1.txt and beer2.txt."
   ]
  },
  {
   "cell_type": "raw",
   "metadata": {},
   "source": [
    "5. The star wildcard\n",
    "\n",
    "We learned about the ? wildcard character in the last screen, but there are also other wildcard characters. Let's say we again have the following files in a directory:\n",
    "\n",
    "beer.txt\n",
    "beer1.txt\n",
    "beer2.txt\n",
    "coffee.txt\n",
    "better_coffee.txt\n",
    "We can use the * character to match any number of characters, including 0.\n",
    "\n",
    "grep \"beer\" beer*.txt\n",
    "The above command will search for the string beer in beer.txt, beer1.txt, and beer2.txt. We can also use the wildcard to match more than 1 character:\n",
    "\n",
    "grep \"beer\" *.txt\n",
    "The above command will search for the string beer in any file that has a name ending in .txt.\n",
    "\n",
    "We can use wildcards anytime we would otherwise enter a filename. For example:\n",
    "\n",
    "ls *.txt\n",
    "The above command will list any files with names ending in .txt in the current directory.\n",
    "\n",
    "Instructions\n",
    "Use grep and the * wildcard character to search for beer in all the files ending in .txt in the home directory."
   ]
  },
  {
   "cell_type": "raw",
   "metadata": {},
   "source": [
    "6. Piping output\n",
    "\n",
    "The pipe character, |, allows you to send the standard output from one command to the standard input of another command. This can be very useful for chaining together commands.\n",
    "\n",
    "For example, let's say we had a file called logs.txt with 100000 lines. We only want to search the last 10 lines for the string Error. We can use the tail -n 10 logs.txt to get the last 10 lines of logs.txt. We can then use the pipe character to chain it with a grep command to perform the search:\n",
    "\n",
    "tail -n 10 logs.txt | grep \"Error\"\n",
    "The above command will search the last 10 lines of logs.txt for the string Error.\n",
    "\n",
    "We can also pipe the output of a Python script. Let's say we had this script called rand.py:\n",
    "\n",
    "import random\n",
    "for i in range(10000):\n",
    "    print(random.randint(1,10))\n",
    "The above script will use the random [https://docs.python.org/3/library/random.html] library to generate a sequence of random integers, ranging in value from 0 to 10, and will print them to the standard output.\n",
    "\n",
    "This command will run the script, and search each line of output to see if a 9 occurs:\n",
    "\n",
    "python rand.py | grep 9\n",
    "Any lines that output a 9 will be printed.\n",
    "\n",
    "Instructions\n",
    "Make a Python script that generates output.\n",
    "Use pipes and grep to search the output of the script."
   ]
  },
  {
   "cell_type": "raw",
   "metadata": {},
   "source": [
    "7. Chaining commands\n",
    "\n",
    "If we want to run two commands sequentially, but not pass output between them, we can use && to chain them. Let's say we want to add some content to a file, then print the whole file:\n",
    "\n",
    "echo \"All the beers are gone\" >> beer.txt && cat beer.txt\n",
    "This will first add the string All the beers are gone to the file beer.txt, then print the entire contents of beer.txt. The && only runs the second command if the first command doesn't return an error. If we instead tried this:\n",
    "\n",
    "ec \"All the beers are gone\" >> beer.txt && cat beer.txt\n",
    "We'd get an error, and nothing would be printed, because we used the command ec instead of echo.\n",
    "\n",
    "Instructions\n",
    "Add a line to beer.txt, and then print the contents of the file with cat."
   ]
  },
  {
   "cell_type": "raw",
   "metadata": {},
   "source": [
    "8. Escaping characters\n",
    "\n",
    "There are quite a few special characters that bash uses. A full list can be found here. When you use these characters in a string or a command, and you don't want them to have a special effect, you may have to escape them.\n",
    "\n",
    "Escaping tells the shell to not treat the character as special, but to treat it as a plain character instead. Here's an example:\n",
    "\n",
    "echo \"\"Get out of here,\" said Neil Armstrong to the moon people.\" >> famous_quotes.txt\n",
    "The above command won't work as we intend because the quotes inside the string will be treated as special. But what we want to do is add the quotes into the file.\n",
    "\n",
    "We use a backslash (\\) as an escape character -- if you add a backslash before a special character, the special character is treated like plain text.\n",
    "\n",
    "echo \"\\\"Get out of here,\\\" said Neil Armstrong to the moon people.\" >> famous_quotes.txt\n",
    "The command above has the double quotes escaped with a backslash, so it will work as we intend.\n",
    "\n",
    "Instructions\n",
    "Use the echo command to add a double quote character into a file."
   ]
  }
 ],
 "metadata": {
  "kernelspec": {
   "display_name": "Python 2",
   "language": "python",
   "name": "python2"
  },
  "language_info": {
   "codemirror_mode": {
    "name": "ipython",
    "version": 2
   },
   "file_extension": ".py",
   "mimetype": "text/x-python",
   "name": "python",
   "nbconvert_exporter": "python",
   "pygments_lexer": "ipython2",
   "version": "2.7.14"
  }
 },
 "nbformat": 4,
 "nbformat_minor": 2
}
