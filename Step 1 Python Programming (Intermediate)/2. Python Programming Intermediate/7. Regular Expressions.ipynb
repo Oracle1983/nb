{
 "cells": [
  {
   "cell_type": "markdown",
   "metadata": {},
   "source": [
    "# Step1 Python Programming (Intermediate) : Regular Expressions"
   ]
  },
  {
   "cell_type": "raw",
   "metadata": {},
   "source": [
    "1. Introduction\n",
    "\n",
    "Data scientists often need to parse strings to extract important information. Suppose we have manually-entered data that includes dates, and need to extract the years from those dates. The dates may look something like this:\n",
    "\n",
    "- \"Jan 17, 2012\"\n",
    "- \"9/22/2005\"\n",
    "- \"Spring 2007\"\n",
    "- \"New Year's Eve 1999\"\n",
    "All of these strings contain the information we need, but in very different formats. If we try to split the strings, what character would we split them on? In the resulting lists, which element would contain the year? We can handle a problem like this with regular expressions.\n",
    "\n",
    "A regular expression (regex) is a sequence of characters that describes a search pattern. We can use regular expressions to search for and extract data.\n",
    "\n",
    "In practice, we say that strings match a regular expression if the pattern exists anywhere within those strings (as substrings). The simplest example of a regular expression is an ordinary sequence of characters that we specify. We say that any string containing that sequence of characters, adjacent and in the same exact order, matches the regular expression. Here are a few examples:\n",
    "\n",
    "This is the simplest form of a regex. We'll soon see that regular expressions can also contain special characters that denote particular patterns.\n",
    "\n",
    "Instructions\n",
    "In the code cell, assign to the variable regex a regular expression that's four characters long and matches every string in the list strings."
   ]
  },
  {
   "cell_type": "code",
   "execution_count": null,
   "metadata": {
    "collapsed": true
   },
   "outputs": [],
   "source": [
    "strings = [\"data science\", \"big data\", \"metadata\"]\n",
    "regex = \"data\""
   ]
  },
  {
   "cell_type": "raw",
   "metadata": {},
   "source": [
    "2. Wildcards in Regular Expressions\n",
    "\n",
    "We've seen that we can use regular expressions to find strings containing a simple pattern, but they can match much more complex patterns.\n",
    "\n",
    "There are a number of special characters we can use with regular expressions to change the way a pattern is interpreted. In Python, we use the re [https://docs.python.org/3/library/re.html] module to work with regular expressions. The module's documentation provides a list of these special characters.\n",
    "\n",
    "For instance, we use the special character \".\" to indicate that any character can be put in its place. Here are a few examples of how you might use this placeholder:\n",
    "\n",
    "Let's create a regular expression in the exercise on the next screen.\n",
    "\n",
    "Instructions\n",
    "Assign a regular expression that is three characters long and matches every string in strings to the variable regex."
   ]
  },
  {
   "cell_type": "code",
   "execution_count": null,
   "metadata": {
    "collapsed": true
   },
   "outputs": [],
   "source": [
    "strings = [\"bat\", \"robotics\", \"megabyte\"]\n",
    "regex = \"b.t\""
   ]
  },
  {
   "cell_type": "raw",
   "metadata": {},
   "source": [
    "3. Searching the Beginnings And Endings Of Strings\n",
    "\n",
    "We can use the caret symbol (\"^\") to match the beginning of a string, and the dollar sign (\"$\") to match the end of a string.\n",
    "\n",
    "\"^a\" will match all strings that start with \"a\".\n",
    "\n",
    "\"a$\" will match all strings that end with \"a\".\n",
    "\n",
    "We can use any combination of special characters in a regex. Let's combine what we've learned so far to create some more advanced expressions.\n",
    "\n",
    "Instructions\n",
    "Assign a regular expression that's seven characters long and matches every string in strings (except for bad_string) to the variable regex."
   ]
  },
  {
   "cell_type": "code",
   "execution_count": null,
   "metadata": {
    "collapsed": true
   },
   "outputs": [],
   "source": [
    "strings = [\"better not put too much\", \"butter in the\", \"batter\"]\n",
    "bad_string = \"We also wouldn't want it to be bitter\"\n",
    "regex = \"^b....r\""
   ]
  },
  {
   "cell_type": "raw",
   "metadata": {},
   "source": [
    "4. Introduction to the AskReddit Data Set\n",
    "\n",
    "Reddit is a content and community website where users can submit links, text posts, and other types of content to groups of people with similar interests. These groups are called subreddits, and each one specializes in a particular topic.\n",
    "\n",
    "For example, AskReddit is a popular subreddit where you can pose questions to the entire Reddit community. Users answer the questions by commenting on them.\n",
    "\n",
    "In this mission, we'll be working with a data set containing the top 1,000 questions users posted to AskReddit in 2015. Reddit user P_S_Laplace created the data set, which has five columns that appear in the following order:\n",
    "\n",
    "Title -- The title of the post\n",
    "Score -- The number of upvotes the post received\n",
    "Time -- When the post was posted\n",
    "Gold -- How much Reddit Gold users gave the post\n",
    "NumComs -- The number of comments the post received"
   ]
  },
  {
   "cell_type": "raw",
   "metadata": {},
   "source": [
    "5. Reading and Printing the Data Set\n",
    "\n",
    "Let's use the csv module to read and print our data file, \"askreddit_2015.csv\". Recall that we can use the csv module by performing the following steps:\n",
    "\n",
    "Import csv.\n",
    "Open the file that contains our CSV data in 'r' mode.\n",
    "Call the csv.reader() function with the file object as input.\n",
    "Convert the result to a list.\n",
    "\n",
    "Instructions\n",
    "Use the csv module to read our data set and assign it to posts_with_header.\n",
    "Use list slicing to exclude the first row, which represents the column names. Assign this sliced data set to posts.\n",
    "Use a for loop and string slicing to print the first 10 rows. See if you notice any patterns in this sample of the data set."
   ]
  },
  {
   "cell_type": "code",
   "execution_count": null,
   "metadata": {
    "collapsed": true
   },
   "outputs": [],
   "source": [
    "import csv\n",
    "\n",
    "f = open('askreddit_2015.csv')\n",
    "posts_with_header = list(csv.reader(f))\n",
    "\n",
    "posts = posts_with_header[1:]\n",
    "\n",
    "for i in range(10):\n",
    "    print(posts_with_header[i])"
   ]
  },
  {
   "cell_type": "raw",
   "metadata": {},
   "source": [
    "6. Counting Simple Matches in the Data Set with re()\n",
    "\n",
    "We mentioned the re module earlier, and now we'll begin to use it in our code. One useful function the module provides is re.search.\n",
    "\n",
    "With re.search(regex, string), we can check whether string is a match for regex. If it is, the expression will return a match object. If it isn't, it will return None. For now, we won't worry about returning the actual matches - we'll just compare the result to None to see whether we have a match or not.\n",
    "\n",
    "if re.search(\"needle\", \"haystack\") is not None:\n",
    "    print(\"We found it!\")\n",
    "else:\n",
    "    print(\"Not a match\")\n",
    "The code above will print Not a match, because \"haystack\" is not a match for the regex \"needle\".\n",
    "\n",
    "You may have noticed that many of the posts in our AskReddit database are directed towards particular groups of people, using phrases like \"Soldiers of Reddit\". These types of posts are common, and always follow a similar format. We can use regular expressions to count how many of them are in the top 1,000.\n",
    "\n",
    "Let's do this in our next exercise. We've already read the data set into the variable posts.\n",
    "\n",
    "Instructions\n",
    "Count the number of posts in our data set that match the regex \"of Reddit\". Assign the count to of_reddit_count."
   ]
  },
  {
   "cell_type": "code",
   "execution_count": null,
   "metadata": {
    "collapsed": true
   },
   "outputs": [],
   "source": [
    "import re\n",
    "\n",
    "of_reddit_count = 0\n",
    "\n",
    "for post in posts:\n",
    "    if re.search('of Reddit', post[0]) is not None:\n",
    "        of_reddit_count += 1\n",
    "    else:\n",
    "        pass"
   ]
  },
  {
   "cell_type": "raw",
   "metadata": {},
   "source": [
    "7. Using Square Brackets to Match Multiple Characters\n",
    "\n",
    "If you look at the data set closely, you may notice that some posts use \"of Reddit\", and others use \"of reddit\". While both versions have the same format, the capitalization of \"Reddit\" is different. We can account for this inconsistency with square brackets. We use square brackets in a regex to indicate that any character within them can fill the space.\n",
    "\n",
    "For example, the regex \"[bcr]at\" would match the substrings \"bat\", \"cat\", and \"rat\", but nothing else. We indicate that the first character in the regex can be either \"b\", \"c\" or \"r\".\n",
    "\n",
    "Instructions\n",
    "Use square bracket notation to make the code account for both capitalizations of \"Reddit\", and count how many posts contain \"of Reddit\" or \"of reddit\" in the title.\n",
    "Assign the resulting count to of_reddit_count."
   ]
  },
  {
   "cell_type": "code",
   "execution_count": null,
   "metadata": {
    "collapsed": true
   },
   "outputs": [],
   "source": [
    "import re\n",
    "\n",
    "of_reddit_count = 0\n",
    "for row in posts:\n",
    "    if re.search(\"of [Rr]eddit\", row[0]) is not None:\n",
    "        of_reddit_count += 1"
   ]
  },
  {
   "cell_type": "raw",
   "metadata": {},
   "source": [
    "8. Escaping Special Characters\n",
    "\n",
    "Our data set contains a lot of posts that use the [Serious] tag. AskReddit members use this tag to indicate that they're not looking for humorous responses, and that their question should be taken seriously. We'd like to search through our data set to see how many posts have this tag, but the regex \"[Serious]\" doesn't do what we need. Since square brackets serve a special function within regular expressions, \"[Serious]\" will match any string that contains \"S\", \"e\", \"r\", etc.\n",
    "\n",
    "To deal with this sort of problem, we need to escape special characters. In regular expressions, escaping a character means indicating that you don't want the character to do anything special, and that the interpreter should treat it just like any other character. We use the backslash (\"\\\") to escape characters in a regex.\n",
    "\n",
    "Suppose we wanted to match all of the strings that end with a period. If we used \".$\", it would match all strings that contain any character, because \".\" has that special meaning. Instead, we need to escape the \".\" with a backslash, so our regex becomes \"\\.$\"."
   ]
  },
  {
   "cell_type": "code",
   "execution_count": null,
   "metadata": {
    "collapsed": true
   },
   "outputs": [],
   "source": [
    "import re\n",
    "\n",
    "serious_count = 0\n",
    "\n",
    "for post in posts:\n",
    "    if re.search('\\[Serious\\]', post[0]) is not None:\n",
    "        serious_count += 1"
   ]
  },
  {
   "cell_type": "raw",
   "metadata": {},
   "source": [
    "9. Combining Escaped Characters and Multiple Matches\n",
    "\n",
    "Some people tag serious posts as \"[Serious]\", and others as \"[serious]\". We should account for both capitalizations.\n",
    "\n",
    "Instructions\n",
    "Refine the code to count how many posts have either \"[Serious]\" or \"[serious]\" in the title.\n",
    "Assign the count to serious_count."
   ]
  },
  {
   "cell_type": "code",
   "execution_count": null,
   "metadata": {
    "collapsed": true
   },
   "outputs": [],
   "source": [
    "import re\n",
    "\n",
    "serious_count = 0\n",
    "for row in posts:\n",
    "    if re.search(\"[Ss]erious\\]\", row[0]) is not None:\n",
    "        serious_count += 1"
   ]
  },
  {
   "cell_type": "raw",
   "metadata": {},
   "source": [
    "10. Adding More Complexity to Your Regular Expression\n",
    "\n",
    "On the previous screen, you saw that we can use square brackets as both special notation and escaped characters, all in the same regex. We'll be using more brackets to refine our search.\n",
    "\n",
    "In our data set, some users have tagged their posts with \"(Serious)\" or \"(serious)\", including the parentheses. Therefore, we should account for both square brackets and parentheses. We can do this by using square bracket notation, and escaping the \"[\", \"]\", \"(\", and \")\" characters with the backslash.\n",
    "\n",
    "Instructions\n",
    "Refine the code so that it counts how many posts have the serious tag enclosed in either square brackets or parentheses.\n",
    "Assign the count to serious_count.10. Adding More Complexity to Your Regular Expression"
   ]
  },
  {
   "cell_type": "code",
   "execution_count": null,
   "metadata": {
    "collapsed": true
   },
   "outputs": [],
   "source": [
    "import re\n",
    "\n",
    "serious_count = 0\n",
    "for row in posts:\n",
    "    if re.search(\"[\\[\\(][Ss]erious[\\]\\)]\", row[0]) is not None:\n",
    "        serious_count += 1"
   ]
  },
  {
   "cell_type": "raw",
   "metadata": {},
   "source": [
    "11. Combining Multiple Regular Expressions\n",
    "\n",
    "We should consider a post serious only if the tag occurs at the beginning or end of the title. To match titles with the tag at the beginning, we can use the \"^\" character in a regex. To match titles with the tag at the end, we can use \"$\". These characters produce two different regular expressions, and we'd like to identify all titles that match either of them.\n",
    "\n",
    "To combine regular expressions, we use the \"|\" character. For example, \"cat|dog\" would match \"catfish\" and \"hotdog\", because both of these strings match either \"cat\" or \"dog\". Similarly, we can combine our regular expressions for the serious tags with the \"|\" operator to match all titles that either begin or end with the tag.\n",
    "\n",
    "Instructions\n",
    "Use the \"^\" character to count how many posts include the serious tag at the beginning of the title. Assign this count to serious_start_count.\n",
    "Use the \"$\" character to count how many posts include the serious tag at the end of the title. Assign this count to serious_end_count.\n",
    "Use the \"|\" character to count how many posts include the serious tag at either the beginning or end of the title. Assign this count to serious_count_final."
   ]
  },
  {
   "cell_type": "code",
   "execution_count": null,
   "metadata": {
    "collapsed": true
   },
   "outputs": [],
   "source": [
    "import re\n",
    "\n",
    "serious_start_count = 0\n",
    "serious_end_count = 0\n",
    "serious_count_final = 0\n",
    "\n",
    "for row in posts:\n",
    "    if re.search('^[\\[\\(][Ss]erious[\\]\\)]', row[0]) is not None:\n",
    "        serious_start_count += 1\n",
    "        \n",
    "    if re.search('[\\[\\(][Ss]erious[\\]\\)]$', row[0]) is not None:\n",
    "        serious_end_count += 1\n",
    "        \n",
    "    if re.search('^[\\[\\(][Ss]erious[\\]\\)]|[\\[\\(][Ss]erious[\\]\\)]$', row[0]) is not None:\n",
    "        serious_count_final += 1"
   ]
  },
  {
   "cell_type": "raw",
   "metadata": {},
   "source": [
    "12. Using Regular Expressions to Substitute Strings\n",
    "\n",
    "We've looked at one way we can account for inconsistencies in data; now let's examine another approach. The re module provides a sub() function that takes the following parameters (in order):\n",
    "\n",
    "pattern: The regex to match\n",
    "repl: The string that should replace the substring matches\n",
    "string: The string containing the pattern we want to search\n",
    "If we were to call re.sub(\"yo\", \"hello\", \"yo world\") and assign it to a variable:\n",
    "\n",
    "if a match is found, the function will replace the \"yo\" in \"yo world\" with \"hello\" and return the result \"hello world\".\n",
    "if a match isn't found, the function simply returns the original string.\n",
    "Let's use re.sub() to convert all serious tags to the format \"[Serious]\".\n",
    "\n",
    "Instructions\n",
    "Replace \"[serious]\", \"(Serious)\", and \"(serious)\" with \"[Serious]\" for all of the titles in posts.\n",
    "You should only need to use one call to sub(), and one regex.\n",
    "Recall that the repl argument is an ordinary string. It's not a regex, so you don't need to escape characters like \"[\"."
   ]
  },
  {
   "cell_type": "code",
   "execution_count": null,
   "metadata": {
    "collapsed": true
   },
   "outputs": [],
   "source": [
    "import re\n",
    "\n",
    "for row in posts:\n",
    "     row[0] = re.sub('[\\[\\(][Ss]erious[\\]\\)]', '[Serious]', row[0])"
   ]
  },
  {
   "cell_type": "raw",
   "metadata": {},
   "source": [
    "13. Matching Years with Regular Expressions\n",
    "\n",
    "Let's return to the example from the beginning of our mission. Suppose we need to extract years from strings. An intuitive way to do this would be to match any string that contains four consecutive integers. We can indicate that we're looking for integers in a pattern by using square brackets (\"[\" and \"]\"), along with a dash (\"-\"). For example, \"[0-9]\" will match any character that falls between 0 and 9 (all of which will be one-digit integers). Similarly, \"[a-z]\" would match any lowercase letter. We can also specify smaller ranges like \"[3-5]\" or \"[d-g]\".\n",
    "\n",
    "Since we want to match four consecutive integers, our regex could be \"[0-9][0-9][0-9][0-9]\". This would work, but let's also add the condition that we only want to match years after year 999 and before year 3000 (any other four-digit numbers in a string are probably not years).\n",
    "\n",
    "Instructions\n",
    "We've loaded a number of strings into the strings variable for you.\n",
    "Loop through strings and use re.search() to determine whether each string contains a year between 1000 and 2999.\n",
    "Store every string that contains a year in year_strings. The .append() function will help here."
   ]
  },
  {
   "cell_type": "code",
   "execution_count": null,
   "metadata": {
    "collapsed": true
   },
   "outputs": [],
   "source": [
    "import re\n",
    "\n",
    "year_strings = []\n",
    "\n",
    "for string in strings:\n",
    "    if re.search('[1-2][0-9][0-9][0-9]',string) is not None:\n",
    "        year_strings.append(string)"
   ]
  },
  {
   "cell_type": "raw",
   "metadata": {},
   "source": [
    "14. Repeating Characters in Regular Expressions\n",
    "\n",
    "On the previous screen, we used the regex \"[1-2][0-9][0-9][0-9]\", which looks a bit repetitive. Luckily, there's a better way to do it!\n",
    "\n",
    "We can use curly brackets (\"{\" and \"}\") to indicate that a pattern should repeat. To match any four-digit number, for example, we could repeat the pattern \"[0-9]\" four times by writing \"[0-9]{4}\".\n",
    "\n",
    "Instructions\n",
    "We've loaded a number of strings into the strings variable for you.\n",
    "Loop through strings and use re.search() to determine whether each string contains a year between 1000 and 2999. Use a regex that takes advantage of curly brackets.\n",
    "Store every string that contains a year in year_strings. The .append() function will help here."
   ]
  },
  {
   "cell_type": "code",
   "execution_count": null,
   "metadata": {
    "collapsed": true
   },
   "outputs": [],
   "source": [
    "import re\n",
    "\n",
    "year_strings = []\n",
    "\n",
    "for string in strings:\n",
    "    if re.search('[1-2][0-9]{3}', string) is not None:\n",
    "        year_strings.append(string)"
   ]
  },
  {
   "cell_type": "raw",
   "metadata": {},
   "source": [
    "15. Challenge: Extracting all Years\n",
    "\n",
    "Finally, let's extract years from a string. The re module contains a findall() [https://docs.python.org/3/library/re.html#re.findall ] function that returns a list of substrings matching the regex. re.findall(\"[a-z]\", \"abc123\") would return [\"a\", \"b\", \"c\"], because those are the substrings that match the regex.\n",
    "\n",
    "Instructions\n",
    "Finally, let's extract years from a string. The re module contains a findall() function that returns a list of substrings matching the regex. re.findall(\"[a-z]\", \"abc123\") would return [\"a\", \"b\", \"c\"], because those are the substrings that match the regex."
   ]
  },
  {
   "cell_type": "code",
   "execution_count": null,
   "metadata": {
    "collapsed": true
   },
   "outputs": [],
   "source": [
    "import re\n",
    "\n",
    "years = re.findall('[1-2][0-9]{3}', years_string)"
   ]
  }
 ],
 "metadata": {
  "kernelspec": {
   "display_name": "Python 2",
   "language": "python",
   "name": "python2"
  },
  "language_info": {
   "codemirror_mode": {
    "name": "ipython",
    "version": 2
   },
   "file_extension": ".py",
   "mimetype": "text/x-python",
   "name": "python",
   "nbconvert_exporter": "python",
   "pygments_lexer": "ipython2",
   "version": "2.7.14"
  }
 },
 "nbformat": 4,
 "nbformat_minor": 2
}
