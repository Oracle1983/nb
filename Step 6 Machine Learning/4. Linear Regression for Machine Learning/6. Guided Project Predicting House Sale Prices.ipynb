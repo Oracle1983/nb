{
 "cells": [
  {
   "cell_type": "markdown",
   "metadata": {},
   "source": [
    "# Step 6 Machine Learning -  Guided Project Predicting House Sale Prices"
   ]
  },
  {
   "cell_type": "raw",
   "metadata": {},
   "source": [
    "1. Introduction\n",
    "\n",
    "In this course, we started by building intuition for model based learning, explored how the linear regression model worked, understood how the two different approaches to model fitting worked, and some techniques for cleaning, transforming, and selecting features. In this guided project, you can practice what you learned in this course by exploring ways to improve the models we built.\n",
    "\n",
    "You'll work with housing data for the city of Ames, Iowa, United States from 2006 to 2010. You can read more about why the data was collected here [http://ww2.amstat.org/publications/jse/v19n3/decock.pdf]. You can also read about the different columns in the data here[https://ww2.amstat.org/publications/jse/v19n3/decock/DataDocumentation.txt].\n",
    "\n",
    "Let's start by setting up a pipeline of functions that will let us quickly iterate on different models.\n",
    "\n",
    "https://s3.amazonaws.com/dq-content/240/pipeline.svg\n",
    "\n",
    "You can find the solutions notebook for this guided project here[https://github.com/dataquestio/solutions/blob/master/Mission240Solutions.ipynb].\n",
    "\n",
    "Instructions\n",
    "Import pandas, matplotlib, and numpy into the environment. Import the classes you need from scikit-learn as well.\n",
    "Read AmesHousing.tsv into a pandas data frame.\n",
    "For the following functions, we recommend creating them in the first few cells in the notebook. This way, you can add cells to the end of the notebook to do experiments and update the functions in these cells.\n",
    "Create a function named transform_features() that, for now, just returns the train data frame.\n",
    "Create a function named select_features() that, for now, just returns the Gr Liv Area and SalePrice columns from the train data frame.\n",
    "Create a function named train_and_test() that, for now:\n",
    "Selects the first 1460 rows from from data and assign to train.\n",
    "Selects the remaining rows from data and assign to test.\n",
    "Trains a model using all numerical columns except the SalePrice column (the target column) from the data frame returned from select_features()\n",
    "Tests the model on the test set using and returns the RMSE value."
   ]
  },
  {
   "cell_type": "raw",
   "metadata": {},
   "source": [
    "2. Feature Engineering\n",
    "\n",
    "Let's now start to removing features with many missing values, diving deeper into potential categorical features, and transforming text and numerical columns. Update transform_features() so that any column from the data frame with more than 25% (or another cutoff value) missing values is dropped. You also need to remove any columns that leak information about the sale (e.g. like the year the sale happened). In general, the goal of this function is to:\n",
    "\n",
    "remove features that we don't want to use in the model, just based on the number of missing values or data leakage\n",
    "transform features into the proper format (numerical to categorical, scaling numerical, filling in missing values, etc)\n",
    "create new features by combining other features\n",
    "Next, you need to get more familiar with the remaining columns by reading the data documentation [https://ww2.amstat.org/publications/jse/v19n3/decock/DataDocumentation.txt] for each column, determining what transformations are necessary (if any), and more. As we mentioned earlier, succeeding in predictive modeling (and competitions like Kaggle) is highly dependent on the quality of features the model has. Libraries like scikit-learn has made it quick and easy to simply try and tweak many different models, but cleaning, selecting, and transforming features is still more of an art that requires a bit of human ingenuity.\n",
    "\n",
    "Instructions\n",
    "As we mentioned earlier, we recommend adding some cells to explore and experiment with different features (before rewriting these functions).\n",
    "The transform_features() function shouldn't modify the train data frame and instead return a new one entirely. This way, we can keep using train in the experimentation cells.\n",
    "Which columns contain less than 5% missing values?\n",
    "For numerical columns that meet this criteria, let's fill in the missing values using the most popular value for that column.\n",
    "What new features can we create, that better capture the information in some of the features?\n",
    "An example of this would be the years_until_remod feature we created in the last mission.\n",
    "Which columns need to be dropped for other reasons?\n",
    "Which columns aren't useful for machine learning?\n",
    "Which columns leak data about the final sale?"
   ]
  },
  {
   "cell_type": "raw",
   "metadata": {},
   "source": [
    "3. Feature Selection\n",
    "\n",
    "Now that we have cleaned and transformed a lot of the features in the data set, it's time to move on to feature selection for numerical features.\n",
    "\n",
    "Instructions\n",
    "Generate a correlation heatmap matrix of the numerical features in the training data set.\n",
    "Which features correlate strongly with our target column, SalePrice?\n",
    "Calculate the correlation coefficients for the columns that seem to correlate well with SalePrice. Because we have a pipeline in place, it's easy to try different features and see which features result in a better cross validation score.\n",
    "Which columns in the data frame should be converted to the categorical data type? All of the columns marked as nominal from the documentation are candidates for being converted to categorical. Here are some other things you should think about:\n",
    "If a categorical column has hundreds of unique values (or categories), should you keep it? When you dummy code this column, hundreds of columns will need to be added back to the data frame.\n",
    "Which categorical columns have a few unique values but more than 95% of the values in the column belong to a specific category? This would be similar to a low variance numerical feature (no variability in the data for the model to capture).\n",
    "Which columns are currently numerical but need to be encoded as categorical instead (because the numbers don't have any semantic meaning)?\n",
    "What are some ways we can explore which categorical columns \"correlate\" well with SalePrice?\n",
    "Read this post for some potential strategies [http://machinelearningmastery.com/feature-selection-machine-learning-python/].\n",
    "Update the logic for the select_features() function. This function should take in the new, modified train and test data frames that were returned from transform_features()."
   ]
  },
  {
   "cell_type": "raw",
   "metadata": {},
   "source": [
    "4. Train And Test\n",
    "\n",
    "Now for the final part of the pipeline, training and testing. When iterating on different features, using simple validation is a good idea. Let's add a parameter named k that controls the type of cross validation that occurs.\n",
    "\n",
    "Instructions\n",
    "The optional k parameter should accept integer values, with a default value of 0.\n",
    "When k equals 0, perform holdout validation (what we already implemented):\n",
    "Select the first 1460 rows and assign to train.\n",
    "Select the remaining rows and assign to test.\n",
    "Train on train and test on test.\n",
    "Compute the RMSE and return.\n",
    "When k equals 1, perform simple cross validation:\n",
    "Shuffle the ordering of the rows in the data frame.\n",
    "Select the first 1460 rows and assign to fold_one.\n",
    "Select the remaining rows and assign to fold_two.\n",
    "Train on fold_one and test on fold_two.\n",
    "Train on fold_two and test on fold_one.\n",
    "Compute the average RMSE and return.\n",
    "When k is greater than 0, implement k-fold cross validation using k folds:\n",
    "Perform k-fold cross validation using k folds.\n",
    "Calculate the average RMSE value and return this value."
   ]
  },
  {
   "cell_type": "raw",
   "metadata": {},
   "source": [
    "5. Next Steps\n",
    "\n",
    "That's it for the guided steps. Here's some potenial next steps that you can take:\n",
    "\n",
    "Continue iteration on feature engineering:\n",
    "Reserach some other approaches to feature engineering online around housing data.\n",
    "Visit the Kaggle kernels page [https://www.kaggle.com/c/house-prices-advanced-regression-techniques/kernels] for this dataset to see approaches others took.\n",
    "Improve your feature selection:\n",
    "Research ways of doing feature selection better with categorical columns (something we didn't cover in this particular course)."
   ]
  }
 ],
 "metadata": {
  "kernelspec": {
   "display_name": "Python 2",
   "language": "python",
   "name": "python2"
  },
  "language_info": {
   "codemirror_mode": {
    "name": "ipython",
    "version": 2
   },
   "file_extension": ".py",
   "mimetype": "text/x-python",
   "name": "python",
   "nbconvert_exporter": "python",
   "pygments_lexer": "ipython2",
   "version": "2.7.14"
  }
 },
 "nbformat": 4,
 "nbformat_minor": 2
}
