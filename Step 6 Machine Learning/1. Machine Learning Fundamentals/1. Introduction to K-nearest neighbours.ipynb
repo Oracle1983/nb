{
 "cells": [
  {
   "cell_type": "markdown",
   "metadata": {},
   "source": [
    "# Step 6 Machine Learning - Intro to K-Nearest Neighbours"
   ]
  },
  {
   "cell_type": "raw",
   "metadata": {},
   "source": [
    "1. Problem definition\n",
    "\n",
    "AirBnB is a marketplace for short term rentals that allows you to list part or all of your living space for others to rent. You can rent everything from a room in an apartment to your entire house on AirBnB. Because most of the listings are on a short-term basis, AirBnB has grown to become a popular alternative to hotels. The company itself has grown from it's founding in 2008 to a 30 billion dollar valuation in 2016 and is currently worth more than any hotel chain in the world.\n",
    "\n",
    "One challenge that hosts looking to rent their living space face is determining the optimal nightly rent price. In many areas, renters are presented with a good selection of listings and can filter on criteria like price, number of bedrooms, room type and more. Since AirBnB is a marketplace, the amount a host can charge on a nightly basis is closely linked to the dynamics of the marketplace. Here's a screenshot of the search experience on AirBnB:\n",
    "\n",
    "Imgur\n",
    "https://s3.amazonaws.com/dq-content/airbnb.png\n",
    "\n",
    "As a host, if we try to charge above market price for a living space we'd like to rent, then renters will select more affordable alternatives which are similar to ours.. If we set our nightly rent price too low, we'll miss out on potential revenue.\n",
    "\n",
    "One strategy we could use is to:\n",
    "\n",
    "find a few listings that are similar to ours,\n",
    "average the listed price for the ones most similar to ours,\n",
    "set our listing price to this calculated average price.\n",
    "The process of discovering patterns in existing data to make a prediction is called machine learning. In our case, we want to use data on local listings to predict the optimal price for us to set. In this mission, we'll explore a specific machine learning technique called k-nearest neighbors, which mirrors the strategy we just described. Before we dive further into machine learning and k-nearest neighbors, let's get familiar with the dataset we'll be working with."
   ]
  },
  {
   "cell_type": "raw",
   "metadata": {},
   "source": [
    "2. Introduction to the data\n",
    "\n",
    "While AirBnB doesn't release any data on the listings in their marketplace, a separate group named Inside AirBnB has extracted data on a sample of the listings for many of the major cities on the website. In this post, we'll be working with their dataset from October 3, 2015 on the listings from Washington, D.C., the capital of the United States. Here's a direct link to that dataset [http://data.insideairbnb.com/united-states/dc/washington-dc/2015-10-03/data/listings.csv.gz]. Each row in the dataset is a specific listing that's available for renting on AirBnB in the Washington, D.C. area\n",
    "\n",
    "To make the dataset less cumbersome to work with, we've removed many of the columns in the original dataset and renamed the file to dc_airbnb.csv. Here are the columns we kept:\n",
    "\n",
    "host_response_rate: the response rate of the host\n",
    "host_acceptance_rate: number of requests to the host that convert to rentals\n",
    "host_listings_count: number of other listings the host has\n",
    "latitude: latitude dimension of the geographic coordinates\n",
    "longitude: longitude part of the coordinates\n",
    "city: the city the living space resides\n",
    "zipcode: the zip code the living space resides\n",
    "state: the state the living space resides\n",
    "accommodates: the number of guests the rental can accommodate\n",
    "room_type: the type of living space (Private room, Shared room or Entire home/apt\n",
    "bedrooms: number of bedrooms included in the rental\n",
    "bathrooms: number of bathrooms included in the rental\n",
    "beds: number of beds included in the rental\n",
    "price: nightly price for the rental\n",
    "cleaning_fee: additional fee used for cleaning the living space after the guest leaves\n",
    "security_deposit: refundable security deposit, in case of damages\n",
    "minimum_nights: minimum number of nights a guest can stay for the rental\n",
    "maximum_nights: maximum number of nights a guest can stay for the rental\n",
    "number_of_reviews: number of reviews that previous guests have left\n",
    "Let's read the dataset into Pandas and become more familiar with it.\n",
    "\n",
    "Instructions\n",
    "Read dc_airbnb.csv into a Dataframe named dc_listings.\n",
    "Use the print function to display the first row in dc_listings."
   ]
  },
  {
   "cell_type": "code",
   "execution_count": null,
   "metadata": {
    "collapsed": true
   },
   "outputs": [],
   "source": [
    "import pandas as pd\n",
    "\n",
    "f = open(\"dc_airbnb.csv\")\n",
    "dc_listings = pd.read_csv(f)\n",
    "print(dc_listings.loc[0])"
   ]
  },
  {
   "cell_type": "raw",
   "metadata": {},
   "source": [
    "3. K-nearest neighbors\n",
    "\n",
    "Here's the strategy we wanted to use:\n",
    "\n",
    "Find a few similar listings.\n",
    "Calculate the average nightly rental price of these listings.\n",
    "Set the average price as the price for our listing.\n",
    "The k-nearest neighbors algorithm is similar to this strategy. Here's an overview:\n",
    "\n",
    "https://s3.amazonaws.com/dq-content/knn_infographic.png\n",
    "\n",
    "There are 2 things we need to unpack in more detail:\n",
    "\n",
    "the similarity metric\n",
    "how to choose the k value\n",
    "In this mission, we'll define what similarity metric we're going to use. Then, we'll implement the k-nearest neighbors algorithm and use it to suggest a price for a new, unpriced listing. We'll use a k value of 5 in this mission. In later missions, we'll learn how to evaluate how good the suggested prices are, how to choose the optimal k value, and more."
   ]
  },
  {
   "cell_type": "raw",
   "metadata": {},
   "source": [
    "4. Euclidean distance\n",
    "\n",
    "The similarity metric works by comparing a fixed set of numerical features, another word for attributes, between 2 observations, or living spaces in our case. When trying to predict a continuous value, like price, the main similarity metric that's used is Euclidean distance. Here's the general formula for Euclidean distance:\n",
    "\n",
    "where \n",
    " to \n",
    " represent the feature values for one observation and \n",
    " to \n",
    " represent the feature values for the other observation. Here's a diagram that breaks down the Euclidean distance between the first 2 observations in the dataset using only the host_listings_count, accommodates, bedrooms, bathrooms, and beds columns:\n",
    "\n",
    "Imgur\n",
    "https://s3.amazonaws.com/dq-content/euclidean_distance_five_features.png\n",
    "\n",
    "In this mission, we'll use just one feature in this mission to keep things simple as you become familiar with the machine learning workflow. Since we're only using one feature, this is known as the univariate case. Here's how the formula looks like for the univariate case:\n",
    "\n",
    "The square root and the squared power cancel and the formula simplifies to:\n",
    "\n",
    "The living space that we want to rent can accommodate 3 people. Let's first calculate the distance, using just the accommodates feature, between the first living space in the dataset and our own.\n",
    "\n",
    "Instructions\n",
    "Calculate the Euclidean distance between our living space, which can accommodate 3 people, and the first living space in the dc_listings Dataframe.\n",
    "Assign the result to first_distance and display the value using the print function."
   ]
  },
  {
   "cell_type": "code",
   "execution_count": null,
   "metadata": {
    "collapsed": true
   },
   "outputs": [],
   "source": [
    "import numpy as np\n",
    "\n",
    "first_distance = dc_listings['accommodates'][0] - 3\n",
    "print(first_distance)"
   ]
  },
  {
   "cell_type": "raw",
   "metadata": {},
   "source": [
    "5. Calculate distance for all observations\n",
    "\n",
    "The Euclidean distance between the first row in the dc_listings Dataframe and our own living space is 1. How do we know if this is high or low? If you look at the Euclidean distance equation itself, the lowest value you can achieve is 0. This happens when the value for the feature is exactly the same for both observations you're comparing. If \n",
    ", then \n",
    " which results in \n",
    ". The closer to 0 the distance the more similar the living spaces are.\n",
    "\n",
    "If we wanted to calculate the Euclidean distance between each living space in the dataset and a living space that accommodates 8 people, here's a preview of what that would look like.\n",
    "\n",
    "Imgur\n",
    "https://s3.amazonaws.com/dq-content/distance_between_rows_and_ours.png\n",
    "\n",
    "Then, we can rank the existing living spaces by ascending distance values, the proxy for similarity.\n",
    "\n",
    "Instructions\n",
    "Calculate the distance between each value in the accommodates column from dc_listings and the value 3, which is the number of people our listing accommodates:\n",
    "Use the apply method to calculate the absolute value between each value in accommodates and 3 and return a new Series containing the distance values.\n",
    "Assign the distance values to the distance column.\n",
    "Use the Series method value_counts and the print function to display the unique value counts for the distance column."
   ]
  },
  {
   "cell_type": "raw",
   "metadata": {},
   "source": [
    "6. Randomizing, and sorting\n",
    "\n",
    "It looks like there are quite a few, 461 to be precise, living spaces that can accommodate 3 people just like ours. This means the 5 \"nearest neighbors\" we select after sorting all will have a distance value of 0. If we sort by the distance column and then just select the first 5 living spaces, we would be biasing the result to the ordering of the dataset.\n",
    "\n",
    ">> dc_listings[dc_listings[\"distance\"] == 0][\"accommodates\"]\n",
    "26      3\n",
    "34      3\n",
    "36      3\n",
    "40      3\n",
    "44      3\n",
    "45      3\n",
    "48      3\n",
    "65      3\n",
    "66      3\n",
    "71      3\n",
    "75      3\n",
    "86      3\n",
    "...\n",
    "Let's instead randomize the ordering of the dataset and then sort the Dataframe by the distance column. This way, all of the living spaces with the same number of bedrooms will still be at the top of the Dataframe but will be in random order across the first 461 rows. We've already done the first step of setting the random seed, so we can perform answer checking on our end.\n",
    "\n",
    "Instructions\n",
    "Randomize the order of the rows in dc_listings:\n",
    "Use the np.random.permutation() function to return a NumPy array of shuffled index values.\n",
    "Use the Dataframe method loc[] to return a new Dataframe containing the shuffled order.\n",
    "Assign the new Dataframe back to dc_listings.\n",
    "After randomization, sort dc_listings by the distance column.\n",
    "Display the first 10 values in the price column using the print function."
   ]
  },
  {
   "cell_type": "code",
   "execution_count": null,
   "metadata": {
    "collapsed": true
   },
   "outputs": [],
   "source": [
    "import numpy as np\n",
    "import pandas as pd\n",
    "np.random.seed(1)\n",
    "\n",
    "f = open(\"dc_airbnb.csv\")\n",
    "dc_listings = pd.read_csv(f)\n",
    "\n",
    "dc_listings.loc[np.random.permutation(dc_listings)\n",
    "dcdc_listings.sort_values('distance')\n",
    "print(dc_listings['price'].loc[:10])"
   ]
  },
  {
   "cell_type": "raw",
   "metadata": {},
   "source": [
    "7. Average price\n",
    "\n",
    "Before we can select the 5 most similar living spaces and compute the average price, we need to clean the price column. Right now, the price column contains comma characters (,) and dollar sign characters and is formatted as a text column instead of a numeric one. We need to remove these values and convert the entire column to the float datatype. Then, we can calculate the average price.\n",
    "\n",
    "Instructions\n",
    "Remove the commas (,) and dollar sign characters ($) from the price column:\n",
    "Use the str accessor so we can apply string methods to each value in the column followed by the string method replace to replace all comma characters with the empty character: stripped_commas = dc_listings['price'].str.replace(',', '')\n",
    "Repeat to remove the dollar sign characters as well.\n",
    "Convert the new Series object containing the cleaned values to the float datatype and assign back to the price column in dc_listings.\n",
    "Calculate the mean of the first 5 values in the price column and assign to mean_price.\n",
    "Use the print function or the variable inspector below to display mean_price."
   ]
  },
  {
   "cell_type": "raw",
   "metadata": {},
   "source": [
    "8. Function to make predictions\n",
    "\n",
    "Congrats! You've just made your first prediction! Based on the average price of other listings that accommdate 3 people, we should charge 156.6 dollars per night for a guest to stay at our living space. In the next mission, we'll dive into evaluating how good of a prediction this is.\n",
    "\n",
    "Let's write a more general function that can suggest the optimal price for other values of the accommodates column. The dc_listings Dataframe has information specific to our living space, e.g. the distance column. To save you time, we've reset the dc_listings Dataframe to a clean slate and only kept the data cleaning and randomization we did since those weren't unique to the prediction we were making for our living space.\n",
    "\n",
    "Instructions\n",
    "Write a function named predict_price that can use the k-nearest neighbors machine learning technique to calculate the suggested price for any value for accommodates. This function should:\n",
    "Take in a single parameter, new_listing, that describes the number of bedrooms.\n",
    "We've added code that assigns dc_listings to a new Dataframe named temp_df. We used the pandas.DataFrame.copy() [https://pandas.pydata.org/pandas-docs/stable/generated/pandas.DataFrame.copy.html] method so the underlying dataframe is assigned to temp_df, instead of just a reference to dc_listings.\n",
    "Calculate the distance between each value in the accommodates column and the new_listing value that was passed in. Assign the resulting Series object to the distance column in temp_df.\n",
    "Sort temp_df by the distance column and select the first 5 values in the price column. Don't randomize the ordering of temp_df.\n",
    "Calculate the mean of these 5 values and use that as the return value for the entire predict_price function.\n",
    "Use the predict_price function to suggest a price for a living space that:\n",
    "accommodates 1 person, assign the suggested price to acc_one.\n",
    "accommodates 2 people, assign the suggested price to acc_two.\n",
    "accommodates 4 people, assign the suggested price to acc_four."
   ]
  },
  {
   "cell_type": "code",
   "execution_count": null,
   "metadata": {
    "collapsed": true
   },
   "outputs": [],
   "source": [
    "# Brought along the changes we made to the `dc_listings` Dataframe.\n",
    "dc_listings = pd.read_csv('dc_airbnb.csv')\n",
    "stripped_commas = dc_listings['price'].str.replace(',', '')\n",
    "stripped_dollars = stripped_commas.str.replace('$', '')\n",
    "dc_listings['price'] = stripped_dollars.astype('float')\n",
    "dc_listings = dc_listings.loc[np.random.permutation(len(dc_listings))]\n",
    "\n",
    "def predict_price(new_listing):\n",
    "    temp_df = dc_listings.copy()\n",
    "    ## Complete the function.\n",
    "    return(new_listing)\n",
    "\n",
    "acc_one = predict_price(1)\n",
    "acc_two = predict_price(2)\n",
    "acc_four = predict_price(4)"
   ]
  }
 ],
 "metadata": {
  "kernelspec": {
   "display_name": "Python 2",
   "language": "python",
   "name": "python2"
  },
  "language_info": {
   "codemirror_mode": {
    "name": "ipython",
    "version": 2
   },
   "file_extension": ".py",
   "mimetype": "text/x-python",
   "name": "python",
   "nbconvert_exporter": "python",
   "pygments_lexer": "ipython2",
   "version": "2.7.14"
  }
 },
 "nbformat": 4,
 "nbformat_minor": 2
}
