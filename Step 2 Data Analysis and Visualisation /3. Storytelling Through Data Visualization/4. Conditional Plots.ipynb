{
 "cells": [
  {
   "cell_type": "markdown",
   "metadata": {},
   "source": [
    "# Step 2 Data Analysis and Visualisation - Conditional Plots"
   ]
  },
  {
   "cell_type": "raw",
   "metadata": {},
   "source": [
    "1. Introduction to Seaborn\n",
    "\n",
    "So far, we've mostly worked with plots that are quick to analyze and make sense of. Line charts, scatter plots, and bar plots allow us to convey a few nuggets of insights to the reader. We've also explored how we can combine those plots in interesting ways to convey deeper insights and continue to extend the storytelling power of data visualization. In this mission, we'll explore how to quickly create multiple plots that are subsetted using one or more conditions.\n",
    "\n",
    "We'll be working with the seaborn visualization library, which is built on top of matplotlib. Seaborn has good support for more complex plots, attractive default styles, and integrates well with the pandas library. Here are some examples of some complex plots that can be created using seaborn [http://seaborn.pydata.org]:\n",
    "\n",
    "Seaborn Gallery\n",
    "https://s3.amazonaws.com/dq-content/seaborn_gallery.png\n",
    "\n",
    "Before we dive into seaborn, let's understand the data set we'll be working with in this mission."
   ]
  },
  {
   "cell_type": "raw",
   "metadata": {},
   "source": [
    "2. Introduction to the Data Set\n",
    "\n",
    "We'll be working with a data set of the passengers of the Titanic. The Titanic shipwreck is the most famous shipwreck in history and led to the creation of better safety regulations for ships. One substantial safety issue was that there were not enough lifeboats for every passenger on board, which meant that some passengers were prioritized over others to use the lifeboats.\n",
    "\n",
    "The data set was compiled by Kaggle for their introductory data science competition, called Titanic: Machine Learning from Disaster. The goal of the competition is to build machine learning models that can predict if a passenger survives from their attributes. You can download the data set [https://www.kaggle.com/c/titanic/data] by navigating to the data download page for the competition and creating a free account.\n",
    "\n",
    "The data for the passengers is contained in two files:\n",
    "\n",
    "train.csv: Contains data on 712 passengers\n",
    "test.csv: Contains data on 418 passengers\n",
    "Each row in both data sets represents a passenger on the Titanic, and some information about them. We'll be working with the train.csv file, because the Survived column, which describes if a given passenger survived the crash, is preserved in the file. The column was removed in test.csv, to encourage competitors to practice making predictions using the data. Here are descriptions for each of the columns in train.csv:\n",
    "\n",
    "PassengerId -- A numerical id assigned to each passenger.\n",
    "Survived -- Whether the passenger survived (1), or didn't (0).\n",
    "Pclass -- The class the passenger was in.\n",
    "Name -- the name of the passenger.\n",
    "Sex -- The gender of the passenger -- male or female.\n",
    "Age -- The age of the passenger. Fractional.\n",
    "SibSp -- The number of siblings and spouses the passenger had on board.\n",
    "Parch -- The number of parents and children the passenger had on board.\n",
    "Ticket -- The ticket number of the passenger.\n",
    "Fare -- How much the passenger paid for the ticker.\n",
    "Cabin -- Which cabin the passenger was in.\n",
    "Embarked -- Where the passenger boarded the Titanic.\n",
    "Here's what the first few rows look like:\n",
    "\n",
    "PassengerId\tSurvived\tPclass\tName\tSex\tAge\tSibSp\tParch\tTicket\tFare\tCabin\tEmbarked\n",
    "1\t0\t3\tBraund, Mr. Owen Harris\tmale\t22.0\t1\t0\tA/5 21171\t7.2500\t\tS\n",
    "2\t1\t1\tCumings, Mrs. John Bradley (Florence Briggs Thayer)\tfemale\t38.0\t1\t0\tPC 17599\t71.2833\tC85\tC\n",
    "3\t1\t3\tHeikkinen, Miss. Laina\tfemale\t26.0\t0\t0\tSTON/O2. 3101282\t7.9250\t\tS\n",
    "Let's remove columns like Name and Ticket that we don't have a way to visualize. In addition, we need to remove any rows containing missing values, as seaborn will throw errors when we try to plot missing values.\n",
    "\n",
    "Instructions\n",
    "Read train.csv into a DataFrame named titanic. Keep only the following columns:\n",
    "\"Survived\"\n",
    "\"Pclass\"\n",
    "\"Sex\"\n",
    "\"Age\"\n",
    "\"SibSp\"\n",
    "\"Parch\"\n",
    "\"Fare\"\n",
    "\"Embarked\"\n",
    "Use the DataFrame.dropna() [http://pandas.pydata.org/pandas-docs/stable/generated/pandas.DataFrame.dropna.html] method to remove rows containing missing values.\n"
   ]
  },
  {
   "cell_type": "code",
   "execution_count": null,
   "metadata": {
    "collapsed": true
   },
   "outputs": [],
   "source": [
    "import pandas as pd\n",
    "\n",
    "titanic = pd.read_csv('train.csv')\n",
    "cols = ['Survived', 'Pclass', 'Sex', 'Age', 'SibSp', 'Parch', 'Fare', 'Embarked']\n",
    "titanic = titanic[cols].dropna()"
   ]
  },
  {
   "cell_type": "raw",
   "metadata": {},
   "source": [
    "3. Creating Histograms in Seaborn\n",
    "\n",
    "Seaborn works similarly to the pyplot module from matplotlib. We primarily use seaborn interactively, by calling functions in its top level namespace. Like the pyplot module from matplotlib, seaborn creates a matplotlib figure or adds to the current, existing figure each time we generate a plot. When we're ready to display the plots, we call pyplot.show().\n",
    "\n",
    "To get familiar with seaborn, we'll start by creating the familiar histogram. We can generate a histogram of the Fare column using the seaborn.distplot() function:\n",
    "\n",
    "# seaborn is commonly imported as `sns`.\n",
    "import seaborn as sns\n",
    "sns.distplot(titanic[\"Fare\"])\n",
    "plt.show()\n",
    "Here's the plot that's generated when the above code is run:\n",
    "\n",
    "Seaborn Histogram With KDE\n",
    "https://s3.amazonaws.com/dq-content/seaborn_histogram_with_kde.png\n",
    "\n",
    "Under the hood, seaborn creates a histogram using matplotlib, scales the axes values, and styles it. In addition, seaborn uses a technique called kernel density estimation, or KDE for short, to create a smoothed line chart over the histogram. If you're interested in learning about how KDE works, you can read more on Wikipedia.\n",
    "\n",
    "What you need to know for now is that the resulting line is a smoother version of the histogram, called a kernel density plot. Kernel density plots are especially helpful when we're comparing distributions, which we'll explore later in this mission. When viewing a histogram, our visual processing systems influence us to smooth out the bars into a continuous line.\n",
    "\n",
    "Instructions\n",
    "Import seaborn as sns and matplotlib.pyplot as plt.\n",
    "Use the seaborn.distplot() function to visualize the distribution of the \"Age\" column.\n",
    "Display the plot using pyplot.show()."
   ]
  },
  {
   "cell_type": "code",
   "execution_count": null,
   "metadata": {},
   "outputs": [],
   "source": [
    "import seaborn as sns\n",
    "import matplotlib.pyplot as plt\n",
    "import pandas as pd\n",
    "\n",
    "sns.distplot(titanic['Age'])\n",
    "plt.show()"
   ]
  },
  {
   "cell_type": "raw",
   "metadata": {},
   "source": [
    "4. Generating A Kernel Density Plot\n",
    "\n",
    "While having both the histogram and the kernel density plot is useful when we want to explore the data, it can be overwhelming for someone who's trying to understand the distribution. To generate just the kernel density plot, we use the seaborn.kdeplot() function:\n",
    "\n",
    "sns.kdeplot(titanic[\"Age\"])\n",
    "Here's what just the kernel density plot looks like:\n",
    "\n",
    "Seaborn KDE Plot\n",
    "https://s3.amazonaws.com/dq-content/seaborn_kdeplot.png\n",
    "\n",
    "While the distribution of data is displayed in a smoother fashion, it's now more difficult to visually estimate the area under the curve using just the line chart. When we also had the histogram, the bars provided a way to understand and compare proportions visually.\n",
    "\n",
    "To bring back some of the ability to easily compare proportions, we can shade the area under the line using a single color. When calling the seaborn.kdeplot() function, we can shade the area under the line by setting the shade parameter to True.\n",
    "\n",
    "Instructions\n",
    "Generate a kernel density plot:\n",
    "Using the values in the \"Age\" column\n",
    "With the area under the curve shaded\n",
    "Set the x-axis label to \"Age\" using pyplot.xlabel()."
   ]
  },
  {
   "cell_type": "code",
   "execution_count": null,
   "metadata": {
    "collapsed": true
   },
   "outputs": [],
   "source": [
    "sns.kdeplot(titanic['Age'], shade = True)\n",
    "plt.xlabel(\"Age\")"
   ]
  },
  {
   "cell_type": "raw",
   "metadata": {},
   "source": [
    "5. Modifying The Appearance Of The Plots\n",
    "\n",
    "From the plots in the previous step, you'll notice that seaborn:\n",
    "\n",
    "Sets the x-axis label based on the column name passed through plt.xlabel() function\n",
    "Sets the background color to a light gray color\n",
    "Hides the x-axis and y-axis ticks\n",
    "Displays the coordinate grid\n",
    "In the last few missions, we explored some general aesthetics guidelines for plots. The default seaborn style sheet gets some things right, like hiding axis ticks, and some things wrong, like displaying the coordinate grid and keeping all of the axis spines. We can use the seaborn.set_style() function to change the default seaborn style sheet. Seaborn comes with a few style sheets:\n",
    "\n",
    "darkgrid: Coordinate grid displayed, dark background color\n",
    "whitegrid: Coordinate grid displayed, white background color\n",
    "dark: Coordinate grid hidden, dark background color\n",
    "white: Coordinate grid hidden, white background color\n",
    "ticks: Coordinate grid hidden, white background color, ticks visible\n",
    "Here's a diagram that compares the same plot across all styles:\n",
    "\n",
    "Seaborn All Styles\n",
    "https://s3.amazonaws.com/dq-content/seaborn_all_styles.png\n",
    "\n",
    "By default, the seaborn style is set to \"darkgrid\":\n",
    "\n",
    "sns.set_style(\"darkgrid\")\n",
    "If we change the style sheet using this method, all future plots will match that style in your current session. This means you need to set the style before generating the plot.\n",
    "\n",
    "To remove the axis spines for the top and right axes, we use the seaborn.despine() function:\n",
    "\n",
    "sns.despine()\n",
    "By default, only the top and right axes will be despined, or have their spines removed. To despine the other two axes, we need to set the left and bottom parameters to True.\n",
    "\n",
    "Instructions\n",
    "Set the style to the style sheet that hides the coordinate grid and sets the background color to white.\n",
    "Generate a kernel density plot of the \"Age\" column, with the area under the curve shaded.\n",
    "Set the x-axis label to \"Age\".\n",
    "Despine all of the axes."
   ]
  },
  {
   "cell_type": "code",
   "execution_count": null,
   "metadata": {
    "collapsed": true
   },
   "outputs": [],
   "source": [
    "sns.set_style('white')\n",
    "sns.kdeplot(titanic['Age'], shade = True)\n",
    "plt.xlabel('Age')\n",
    "sns.despine(left = True, bottom = True)\n",
    "\n",
    "plt.plot()"
   ]
  },
  {
   "cell_type": "raw",
   "metadata": {},
   "source": [
    "6. Conditional Distributions Using A Single Condition\n",
    "\n",
    "In the last few missions, we created a small multiple, which is a group of plots that have the same axis scales so the viewer can compare plots effectively. We accomplished this by subsetting the data manually and generating a plot using matplotlib for each one.\n",
    "\n",
    "In seaborn, we can create a small multiple by specifying the conditioning criteria and the type of data visualization we want. For example, we can visualize the differences in age distributions between passengers who survived and those who didn't by creating a pair of kernel density plots. One kernel density plot would visualize the distribution of values in the \"Age\" column where Survived equalled 0 and the other would visualize the distribution of values in the \"Age\" column where Survived equalled 1.\n",
    "\n",
    "Here's what those plots look like:\n",
    "\n",
    "Simple Conditional KDE Plot\n",
    "\n",
    "The code to generate the pair of plots, is short and sweet:\n",
    "\n",
    "# Condition on unique values of the \"Survived\" column.\n",
    "g = sns.FacetGrid(titanic, col=\"Survived\", size=6)\n",
    "# For each subset of values, generate a kernel density plot of the \"Age\" columns.\n",
    "g.map(sns.kdeplot, \"Age\", shade=True)\n",
    "Seaborn handled:\n",
    "\n",
    "subsetting the data into rows where Survived is 0 and where Survived is 1\n",
    "creating both Axes objects, ensuring the same axis scales\n",
    "plotting both kernel density plots\n",
    "Instead of subsetting the data and generating each plot ourselves, seaborn allows us to express the plots we want as parameter values. The seaborn.FacetGrid object is used to represent the layout of the plots in the grid and the columns used for subsetting the data. The word \"facet\" from FacetGrid is another word for \"subset\". Setting the col parameter to \"Survived\" specifies a separate plot for each unique value in the Survived column. Setting the size parameter to 6 specifies a height of 6 inches for each plot.\n",
    "\n",
    "Once we've created the grid, we use the FacetGrid.map() method to specify the plot we want for each unique value of Survived. Seaborn generated one kernel density plot for the ages of passengers that survived and one kernel density plot for the ages of passengers that didn't survive.\n",
    "\n",
    "The function that's passed into FacetGrid.map() has to be a valid matplotlib or seaborn function. For example, we can map matplotlib histograms to the grid:\n",
    "\n",
    "g = sns.FacetGrid(titanic, col=\"Survived\", size=6)\n",
    "g.map(plt.hist, \"Age\")\n",
    "Let's create a grid of plots that displays the age distributions for each class.\n",
    "\n",
    "Instructions\n",
    "Use a FacetGrid instance to generate three plots on the same row:\n",
    "One for each unique value of Pclass.\n",
    "Each plot should be a kernel density plot of the \"Age\" column, with the area under the curve shaded.\n",
    "Each plot should have a height of 6 inches.\n",
    "Remove all of the spines using seaborn.despine().\n",
    "Display the plots."
   ]
  },
  {
   "cell_type": "code",
   "execution_count": null,
   "metadata": {
    "collapsed": true
   },
   "outputs": [],
   "source": [
    "g = sns.FacetGrid(titanic, col = 'Pclass', size =6)\n",
    "g.map(sns.kdeplot, 'Age', shade = True)\n",
    "sns.despine(left = True, bottom = True)\n",
    "plt.show()"
   ]
  },
  {
   "cell_type": "raw",
   "metadata": {},
   "source": [
    "7. Creating Conditional PLots Using Two Conditions\n",
    "\n",
    "We can use two conditions to generate a grid of plots, each containing a subset of the data with a unique combination of each condition. When creating a FacetGrid, we use the row parameter to specify the column in the dataframe we want used to subset across the rows in the grid. The best way to understand this is to see a working example.\n",
    "\n",
    "The starter code subsets the dataframe on different combinations of unique values in both the Pclass and Survived columns. Try changing the conditions to see the resulting plots."
   ]
  },
  {
   "cell_type": "code",
   "execution_count": null,
   "metadata": {
    "collapsed": true
   },
   "outputs": [],
   "source": [
    "g = sns.FacetGrid(titanic, col=\"Survived\", row=\"Sex\")\n",
    "g.map(sns.kdeplot, \"Age\", shade=True)\n",
    "sns.despine(left=True, bottom=True)\n",
    "plt.show()"
   ]
  },
  {
   "cell_type": "raw",
   "metadata": {},
   "source": [
    "When subsetting data using two conditions, the rows in the grid represented one condition while the columns represented another. We can express a third condition by generating multiple plots on the same subplot in the grid and color them differently. Thankfully, we can add a condition just by setting the hue parameter to the column name from the dataframe.\n",
    "\n",
    "Let's add a new condition to the grid of plots we generated in the last step and see what this grid of plots would look like.\n",
    "\n",
    "Instructions\n",
    "Use a FacetGrid instance to generate a grid of plots using the following conditions:\n",
    "The Survived column across the columns in the grid.\n",
    "The Pclass column across the rows in the grid.\n",
    "The Sex column using different hues.\n",
    "Each plot should be a kernel density plot of the \"Age\" column, with the area under the curve shaded.\n",
    "Each plot should have a height of 3 inches.\n",
    "Remove all of the spines using seaborn.despine().\n",
    "Display the plots."
   ]
  },
  {
   "cell_type": "code",
   "execution_count": null,
   "metadata": {
    "collapsed": true
   },
   "outputs": [],
   "source": [
    "g = sns.FacetGrid(titanic, col=\"Survived\", row=\"Pclass\", hue = \"Sex\", size = 3)\n",
    "g.map(sns.kdeplot, \"Age\", shade=True)\n",
    "sns.despine(left=True, bottom=True)\n",
    "plt.show()"
   ]
  },
  {
   "cell_type": "raw",
   "metadata": {},
   "source": [
    "Now that we're coloring plots, we need a legend to keep track of which value each color represents. As a challenge to you, we won't specify how exactly to generate a legend in seaborn. Instead, we encourage you to use the examples from the page on plotting using the FacetGrid instance.\n",
    "\n",
    "Here's what we want the final grid to look like:\n",
    "\n",
    "Seaborn Three Conditions\n",
    "https://s3.amazonaws.com/dq-content/seaborn_three_conditions.png\n",
    "\n",
    "Instructions\n",
    "Use a FacetGrid instance to generate a grid of plots using the following conditions:\n",
    "The Survived column across the columns in the grid.\n",
    "The Pclass column across the rows in the grid.\n",
    "The Sex column using different hues.\n",
    "Each plot should be a kernel density plot of the \"Age\" column, with the area under the curve shaded.\n",
    "Each plot should have a height of 3 inches.\n",
    "Remove all of the spines using seaborn.despine().\n",
    "Add a legend for the Sex column.\n",
    "Display the plots."
   ]
  },
  {
   "cell_type": "code",
   "execution_count": null,
   "metadata": {
    "collapsed": true
   },
   "outputs": [],
   "source": [
    "g = sns.FacetGrid(titanic, col=\"Survived\", row=\"Pclass\", hue = \"Sex\", size = 3)\n",
    "g.map(sns.kdeplot, \"Age\", shade=True)\n",
    "g.add_legend()\n",
    "sns.despine(left=True, bottom=True)\n",
    "plt.show()"
   ]
  }
 ],
 "metadata": {
  "kernelspec": {
   "display_name": "Python 2",
   "language": "python",
   "name": "python2"
  },
  "language_info": {
   "codemirror_mode": {
    "name": "ipython",
    "version": 2
   },
   "file_extension": ".py",
   "mimetype": "text/x-python",
   "name": "python",
   "nbconvert_exporter": "python",
   "pygments_lexer": "ipython2",
   "version": "2.7.14"
  }
 },
 "nbformat": 4,
 "nbformat_minor": 2
}
