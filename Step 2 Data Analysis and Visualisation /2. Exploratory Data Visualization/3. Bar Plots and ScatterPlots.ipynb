{
 "cells": [
  {
   "cell_type": "markdown",
   "metadata": {},
   "source": [
    "# Step 2 Data Analysis and Visualisation - Bar Plots and ScatterPlots"
   ]
  },
  {
   "cell_type": "raw",
   "metadata": {},
   "source": [
    "1. Recap\n",
    "\n",
    "In the previous missions in this course, we explored trends in unemployment data using line charts. The unemployment data we worked with had 2 columns:\n",
    "\n",
    "DATE - monthly time stamp\n",
    "VALUE - unemployment rate (in percent)\n",
    "Line charts were an appropriate choice for visualizing this dataset because the rows had a natural ordering to it. Each row reflected information about an event that occurred after the previous row. Changing the order of the rows would make the line chart inaccurate. The lines from one marker to the next helped emphasize the logical connection between the data points.\n",
    "\n",
    "In this mission, we'll be working with a dataset that has no particular order. Before we explore other plots we can use, let's get familiar with the dataset we'll be working with."
   ]
  },
  {
   "cell_type": "raw",
   "metadata": {},
   "source": [
    "2. Introduction to the data\n",
    "\n",
    "To investigate the potential bias that movie reviews site have, FiveThirtyEight compiled data for 147 films from 2015 that have substantive reviews from both critics and consumers. Every time Hollywood releases a movie, critics from Metacritic, Fandango, Rotten Tomatoes, and IMDB review and rate the film. They also ask the users in their respective communities to review and rate the film. Then, they calculate the average rating from both critics and users and display them on their site. Here are screenshots from each site:\n",
    "\n",
    "Imgur\n",
    "https://s3.amazonaws.com/dq-content/review_sites_screenshots.png\n",
    "\n",
    "FiveThirtyEight compiled this dataset to investigate if there was any bias to Fandango's ratings. In addition to aggregating ratings for films, Fandango is unique in that it also sells movie tickets, and so it has a direct commercial interest in showing higher ratings. After discovering that a few films that weren't good were still rated highly on Fandango, the team investigated and published an article about bias in movie ratings.\n",
    "\n",
    "We'll be working with the fandango_scores.csv file, which can be downloaded from the FiveThirtEight Github repo [https://github.com/fivethirtyeight/data/tree/master/fandango]. Here are the columns we'll be working with in this mission:\n",
    "\n",
    "FILM - film name\n",
    "RT_user_norm - average user rating from Rotten Tomatoes, normalized to a 1 to 5 point scale\n",
    "Metacritic_user_nom - average user rating from Metacritc, normalized to a 1 to 5 point scale\n",
    "IMDB_norm - average user rating from IMDB, normalized to a 1 to 5 point scale\n",
    "Fandango_Ratingvalue - average user rating from Fandango, normalized to a 1 to 5 point scale\n",
    "Fandango_Stars - the rating displayed on the Fandango website (rounded to nearest star, 1 to 5 point scale)\n",
    "Instead of displaying the raw rating, the writer discovered that Fandango usually rounded the average rating to the next highest half star (next highest 0.5 value). The Fandango_Ratingvalue column reflects the true average rating while the Fandango_Stars column reflects the displayed, rounded rating.\n",
    "\n",
    "Let's read in this dataset, which allows us to compare how a movie fared across all 4 review sites.\n",
    "\n",
    "Instructions\n",
    "Read fandango_scores.csv into a Dataframe named reviews.\n",
    "Select the following columns and assign the resulting Dataframe to norm_reviews:\n",
    "FILM\n",
    "RT_user_norm\n",
    "Metacritic_user_nom (note the misspelling of norm)\n",
    "IMDB_norm\n",
    "Fandango_Ratingvalue\n",
    "Fandango_Stars\n",
    "Display the first row in norm_reviews"
   ]
  },
  {
   "cell_type": "code",
   "execution_count": null,
   "metadata": {
    "collapsed": true
   },
   "outputs": [],
   "source": [
    "import pandas as pd\n",
    "\n",
    "reviews = pd.read_csv('fandango_scores.csv')\n",
    "norm_reviews = pd.DataFrame(reviews, columns =['FILM','RT_user_norm','Metacritic_user_nom','IMDB_norm','Fandango_Ratingvalue','Fandango_Stars'])\n",
    "print(norm_reviews.iloc[1])"
   ]
  },
  {
   "cell_type": "raw",
   "metadata": {},
   "source": [
    "3. Bar Plot\n",
    "\n",
    "These sites use different scales for ratings. Some use a 5 star scale while others use a 100 point scale. In addition, Metacritic and Rotten Tomatoes aggregate scores from both users and film critics, while IMDB and Fandango aggregate only from their users. We'll focus on just the average scores from users, because not all of the sites have scores from critics.\n",
    "\n",
    "The RT_user_norm, Metacritic_user_nom, IMDB_norm, and Fandango_Ratingvalue columns contain the average user rating for each movie, normalized to a 0 to 5 point scale. This allows us to compare how the users on each site rated a movie. While using averages isn't perfect because films with a few reviews can skew the average rating, FiveThirtyEight only selected movies with a non-trivial number of ratings to ensure films with only a handful of reviews aren't included.\n",
    "\n",
    "If you look at the first row, which lists the average user ratings for Avengers: Age of Ultron (2015), you'll notice that the Fandango ratings, both the actual and the displayed rating, are higher than those from the other sites for a given movie. While calculating and comparing summary statistics give us hard numbers for quantifying the bias, visualizing the data using plots can help us gain a more intuitive understanding. We need a visualization that scales graphical objects to the quantitative values we're interested in comparing. One of these visualizations is a bar plot.\n",
    "\n",
    "Vertical Bar Plot\n",
    "https://s3.amazonaws.com/dq-content/vertical_bar_plot.png\n",
    "\n",
    "In the bar plot above, the x-axis represented the different ratings and the y-axis represented the actual ratings. An effective bar plot uses categorical values on one axis and numerical values on the other axis. Because bar plots can help us find the category corresponding to the smallest or largest values, it's important that we restrict the number of bars in a single plot. Using a bar plot to visualize hundreds of values makes it difficult to trace the category with the smallest or largest value.\n",
    "\n",
    "If the x-axis contains the categorical values and the rectangular bars are scaled vertically, this is known as a vertical bar plot. A horizontal bar plot flips the axes, which is useful for quickly spotting the largest value.\n",
    "\n",
    "Horizontal Bar Plot\n",
    "https://s3.amazonaws.com/dq-content/horizontal_bar_plot.png\n",
    "\n",
    "An effective bar plot uses a consistent width for each bar. This helps keep the visual focus on the heights of the bars when comparing. Let's now learn how to create a vertical bar plot in matplotlib that represents the different user scores for Avengers: Age of Ultron (2015)."
   ]
  },
  {
   "cell_type": "raw",
   "metadata": {},
   "source": [
    "4. Creating Bars\n",
    "\n",
    "When we generated line charts, we passed in the data to pyplot.plot() and matplotlib took care of the rest. Because the markers and lines in a line chart correspond directly with x-axis and y-axis coordinates, all matplotlib needed was the data we wanted plotted. To create a useful bar plot, however, we need to specify the positions of the bars, the widths of the bars, and the positions of the axis labels. Here's a diagram that shows the various values we need to specify:\n",
    "\n",
    "Matplotlib Barplot Positioning\n",
    "https://s3.amazonaws.com/dq-content/matplotlib_barplot_positioning.png\n",
    "\n",
    "We'll focus on positioning the bars on the x-axis in this step and on positioning the x-axis labels in the next step. We can generate a vertical bar plot using either pyplot.bar() [https://matplotlib.org/api/pyplot_api.html#matplotlib.pyplot.bar] or Axes.bar()[https://matplotlib.org/api/axes_api.html#matplotlib.axes.Axes.bar]. We'll use Axes.bar() so we can extensively customize the bar plot more easily. We can use pyplot.subplots() [https://matplotlib.org/api/pyplot_api.html#matplotlib.pyplot.subplots] to first generate a single subplot and return both the Figure and Axes object. This is a shortcut from the technique we used in the previous mission:\n",
    "\n",
    "fig, ax = plt.subplots()\n",
    "The Axes.bar() method has 2 required parameters, left and height. We use the left parameter to specify the x coordinates of the left sides of the bar (marked in blue on the above image). We use the height parameter to specify the height of each bar. Both of these parameters accept a list-like object.\n",
    "\n",
    "The np.arange() [https://docs.scipy.org/doc/numpy/reference/generated/numpy.arange.html] function returns evenly spaced values. We use arange() to generate the positions of the left side of our bars. This function requires a paramater that specifies the number of values we want to generate. We'll also want to add space between our bars for better readability:\n",
    "\n",
    "# Positions of the left sides of the 5 bars. [0.75, 1.75, 2.75, 3.75, 4.75]\n",
    "from numpy import arange\n",
    "bar_positions = arange(5) + 0.75\n",
    "\n",
    "# Heights of the bars.  In our case, the average rating for the first movie in the dataset.\n",
    "num_cols = ['RT_user_norm', 'Metacritic_user_nom', 'IMDB_norm', 'Fandango_Ratingvalue', 'Fandango_Stars']\n",
    "bar_heights = norm_reviews[num_cols].iloc[0].values\n",
    "\n",
    "ax.bar(bar_positions, bar_heights)\n",
    "We can also use the width parameter to specify the width of each bar. This is an optional parameter and the width of each bar is set to 0.8 by default. The following code sets the width parameter to 1.5:\n",
    "\n",
    "ax.bar(bar_positions, bar_heights, 1.5)\n",
    "\n",
    "Instructions\n",
    "Create a single subplot and assign the returned Figure object to fig and the returned Axes object to ax.\n",
    "Generate a bar plot with:\n",
    "left set to bar_positions\n",
    "height set to bar_heights\n",
    "width set to 0.5\n",
    "Use plt.show() to display the bar plot."
   ]
  },
  {
   "cell_type": "code",
   "execution_count": null,
   "metadata": {
    "collapsed": true
   },
   "outputs": [],
   "source": [
    "import matplotlib.pyplot as plt\n",
    "from numpy import arange\n",
    "num_cols = ['RT_user_norm', 'Metacritic_user_nom', 'IMDB_norm', 'Fandango_Ratingvalue', 'Fandango_Stars']\n",
    "\n",
    "bar_heights = norm_reviews[num_cols].iloc[0].values\n",
    "bar_positions = arange(5) + 0.75\n",
    "\n",
    "fig, ax = plt.subplots()\n",
    "ax.bar(bar_positions, bar_heights, 0.50)\n",
    "plt.show()"
   ]
  },
  {
   "cell_type": "raw",
   "metadata": {},
   "source": [
    "5. Aligning Axis Ticks and Labels\n",
    "\n",
    "By default, matplotlib sets the x-axis tick labels to the integer values the bars spanned on the x-axis (from 0 to 6). We only need tick labels on the x-axis where the bars are positioned. We can use Axes.set_xticks() [https://matplotlib.org/api/axes_api.html#matplotlib.axes.Axes.set_xticks] to change the positions of the ticks to [1, 2, 3, 4, 5]:\n",
    "\n",
    "tick_positions = range(1,6)\n",
    "ax.set_xticks(tick_positions)\n",
    "Then, we can use Axes.set_xticklabels() [https://matplotlib.org/api/axes_api.html#matplotlib.axes.Axes.set_xticklabels] to specify the tick labels:\n",
    "\n",
    "num_cols = ['RT_user_norm', 'Metacritic_user_nom', 'IMDB_norm', 'Fandango_Ratingvalue', 'Fandango_Stars']\n",
    "ax.set_xticklabels(num_cols)\n",
    "If you look at the documentation for the method, you'll notice that we can specify the orientation for the labels using the rotation parameter:\n",
    "\n",
    "ax.set_xticklabels(num_cols, rotation=90)\n",
    "Rotating the labels by 90 degrees keeps them readable. In addition to modifying the x-axis tick positions and labels, let's also set the x-axis label, y-axis label, and the plot title.\n",
    "\n",
    "Instructions\n",
    "Create a single subplot and assign the returned Figure object to fig and the returned Axes object to ax.\n",
    "Generate a bar plot with:\n",
    "left set to bar_positions\n",
    "height set to bar_heights\n",
    "width set to 0.5\n",
    "Set the x-axis tick positions to tick_positions.\n",
    "Set the x-axis tick labels to num_cols and rotate by 90 degrees.\n",
    "Set the x-axis label to \"Rating Source\".\n",
    "Set the y-axis label to \"Average Rating\".\n",
    "Set the plot title to \"Average User Rating For Avengers: Age of Ultron (2015)\".\n",
    "Use plt.show() to display the bar plot."
   ]
  },
  {
   "cell_type": "code",
   "execution_count": null,
   "metadata": {
    "collapsed": true
   },
   "outputs": [],
   "source": [
    "num_cols = ['RT_user_norm', 'Metacritic_user_nom', 'IMDB_norm', 'Fandango_Ratingvalue', 'Fandango_Stars']\n",
    "bar_heights = norm_reviews[num_cols].iloc[0].values\n",
    "bar_positions = arange(5) + 0.75\n",
    "tick_positions = range(1,6)\n",
    " \n",
    "fig, ax = plt.subplots()\n",
    "ax.bar(bar_positions, bar_heights, 0.5)\n",
    "ax.set_xticks(tick_positions)\n",
    "ax.set_xticklabels(num_cols, rotation=90)\n",
    "ax.set_xlabel('Rating Source')\n",
    "ax.set_ylabel('Average Rating')\n",
    "ax.set_title('Average User Rating For Avengers: Age of Ultron (2015)')\n",
    "plt.show()"
   ]
  },
  {
   "cell_type": "raw",
   "metadata": {},
   "source": [
    "6. Comparing Across More Years\n",
    "\n",
    "We can create a horizontal bar plot in matplotlib in a similar fashion. Instead of using Axes.bar(), we use Axes.barh() [https://matplotlib.org/api/axes_api.html#matplotlib.axes.Axes.barh]. This method has 2 required parameters, bottom and width. We use the bottom parameter to specify the y coordinate for the bottom sides for the bars and the width parameter to specify the lengths of the bars:\n",
    "\n",
    "bar_widths = norm_reviews[num_cols].iloc[0].values\n",
    "bar_positions = arange(5) + 0.75\n",
    "ax.barh(bar_positions, bar_widths, 0.5)\n",
    "To recreate the bar plot from the last step as horizontal bar plot, we essentially need to map the properties we set for the y-axis instead of the x-axis. We use Axes.set_yticks() to set the y-axis tick positions to [1, 2, 3, 4, 5] and Axes.set_yticklabels() to set the tick labels to the column names:\n",
    "\n",
    "tick_positions = range(1,6)\n",
    "num_cols = ['RT_user_norm', 'Metacritic_user_nom', 'IMDB_norm', 'Fandango_Ratingvalue', 'Fandango_Stars']\n",
    "ax.set_yticks(tick_positions)\n",
    "ax.set_yticklabels(num_cols)\n",
    "\n",
    "Instructions\n",
    "Create a single subplot and assign the returned Figure object to fig and the returned Axes object to ax.\n",
    "Generate a bar plot with:\n",
    "bottom set to bar_positions\n",
    "width set to bar_widths\n",
    "height set to 0.5\n",
    "Set the y-axis tick positions to tick_positions.\n",
    "Set the y-axis tick labels to num_cols.\n",
    "Set the y-axis label to \"Rating Source\".\n",
    "Set the x-axis label to \"Average Rating\".\n",
    "Set the plot title to \"Average User Rating For Avengers: Age of Ultron (2015)\".\n",
    "Use plt.show() to display the bar plot."
   ]
  },
  {
   "cell_type": "code",
   "execution_count": null,
   "metadata": {
    "collapsed": true
   },
   "outputs": [],
   "source": [
    "import matplotlib.pyplot as plt\n",
    "from numpy import arange\n",
    "num_cols = ['RT_user_norm', 'Metacritic_user_nom', 'IMDB_norm', 'Fandango_Ratingvalue', 'Fandango_Stars']\n",
    "\n",
    "bar_widths = norm_reviews[num_cols].iloc[0].values\n",
    "bar_positions = arange(5) + 0.75\n",
    "tick_positions = range(1,6)\n",
    "\n",
    "fig, ax = plt.subplots()\n",
    "ax.barh(bar_positions, bar_widths, 0.5)\n",
    "ax.set_yticks(tick_positions)\n",
    "ax.set_yticklabels(num_cols)\n",
    "ax.set_ylabel('Rating Source')\n",
    "ax.set_xlabel('Average Rating')\n",
    "ax.set_title('Average User Rating For Avengers: Age of Ultron (2015)')\n",
    "plt.show()"
   ]
  },
  {
   "cell_type": "raw",
   "metadata": {},
   "source": [
    "7. Scatter plot\n",
    "\n",
    "From the horizontal bar plot, we can more easily determine that the 2 average scores from Fandango users are higher than those from the other sites. While bar plots help us visualize a few data points to quickly compare them, they aren't good at helping us visualize many data points. Let's look at a plot that can help us visualize many points.\n",
    "\n",
    "In the previous mission, the line charts we generated always connected points from left to right. This helped us show the trend, up or down, between each point as we scanned visually from left to right. Instead, we can avoid using lines to connect markers and just use the underlying markers. A plot containing just the markers is known as a scatter plot.\n",
    "\n",
    "Imgur\n",
    "https://s3.amazonaws.com/dq-content/scatter_plot_intro.png\n",
    "\n",
    "A scatter plot helps us determine if 2 columns are weakly or strongly correlated. While calculating the correlation coefficient will give us a precise number, a scatter plot helps us find outliers, gain a more intuitive sense of how spread out the data is, and compare more easily.\n",
    "\n",
    "To generate a scatter plot, we use Axes.scatter(). The scatter() method has 2 required parameters, x and y, which matches the parameters of the plot() method. The values for these parameters need to be iterable objects of matching lengths (lists, NumPy arrays, or pandas series).\n",
    "\n",
    "Let's start by creating a scatter plot that visualizes the relationship between the Fandango_Ratingvalue and RT_user_norm columns. We're looking for at least a weak correlation between the columns.\n",
    "\n",
    "Instructions\n",
    "Create a single subplot and assign the returned Figure object to fig and the returned Axes object to ax.\n",
    "Generate a scatter plot with the Fandango_Ratingvalue column on the x-axis and the RT_user_norm column on the y-axis.\n",
    "Set the x-axis label to \"Fandango\" and the y-axis label to \"Rotten Tomatoes\".\n",
    "Use plt.show() to display the resulting plot."
   ]
  },
  {
   "cell_type": "code",
   "execution_count": null,
   "metadata": {
    "collapsed": true
   },
   "outputs": [],
   "source": [
    "fig, ax = plt.subplots()\n",
    "x = norm_reviews['Fandango_Ratingvalue']\n",
    "y = norm_reviews['RT_user_norm']\n",
    "ax.scatter(x,y)\n",
    "ax.set_xlabel('Fandango')\n",
    "ax.set_ylabel('Rotten Tomatoes')\n",
    "plt.show()"
   ]
  },
  {
   "cell_type": "raw",
   "metadata": {},
   "source": [
    "8. Switching axes\n",
    "\n",
    "The scatter plot suggests that there's a weak, positive correlation between the user ratings on Fandango and the user ratings on Rotten Tomatoes. The correlation is weak because for many x values, there are multiple corresponding y values. The correlation is positive because, in general, as x increases, y also increases.\n",
    "\n",
    "When using scatter plots to understand how 2 variables are correlated, it's usually not important which one is on the x-axis and which one is on the y-axis. This is because the relationship is still captured either way, even if the plots look a little different. If you want to instead understand how an independent variable affects a dependent variables, you want to put the independent one on the x-axis and the dependent one on the y-axis. Doing so helps emphasize the potential cause and effect relation.\n",
    "\n",
    "In our case, we're not exploring if the ratings from Fandango influence those on Rotten Tomatoes and we're instead looking to understand how much they agree. Let's see what happens when we flip the columns.\n",
    "\n",
    "Instructions\n",
    "For the subplot associated with ax1:\n",
    "Generate a scatter plot with the Fandango_Ratingvalue column on the x-axis and the RT_user_norm column on the y-axis.\n",
    "Set the x-axis label to \"Fandango\" and the y-axis label to \"Rotten Tomatoes\".\n",
    "For the subplot associated with ax2:\n",
    "Generate a scatter plot with the RT_user_norm column on the x-axis and the Fandango_Ratingvalue column on the y-axis.\n",
    "Set the x-axis label to \"Rotten Tomatoes\" and the y-axis label to \"Fandango\".\n",
    "Use plt.show() to display the resulting plot."
   ]
  },
  {
   "cell_type": "code",
   "execution_count": null,
   "metadata": {
    "collapsed": true
   },
   "outputs": [],
   "source": [
    "fig = plt.figure(figsize=(5,10))\n",
    "ax1 = fig.add_subplot(2,1,1)\n",
    "ax2 = fig.add_subplot(2,1,2)\n",
    "\n",
    "ax1.scatter(norm_reviews['Fandango_Ratingvalue'], norm_reviews['RT_user_norm'])\n",
    "ax1.set_xlabel('Fandango')\n",
    "ax1.set_ylabel('Rotten Tomatoes')\n",
    "ax2.scatter(norm_reviews['RT_user_norm'], norm_reviews['Fandango_Ratingvalue'])\n",
    "ax2.set_xlabel('Rotten Tomatoes')\n",
    "ax2.set_ylabel('Fandango')\n",
    "plt.show()"
   ]
  },
  {
   "cell_type": "raw",
   "metadata": {},
   "source": [
    "9. Benchmarking correlation\n",
    "\n",
    "The second scatter plot is a mirror reflection of the first scatter plot. The nature of the correlation is still reflected, however, which is the important thing. Let's now generate scatter plots to see how Fandango ratings correlate with all 3 of the other review sites.\n",
    "\n",
    "When generating multiple scatter plots for the purpose of comparison, it's important that all plots share the same ranges in the x-axis and y-axis. In the 2 plots we generated in the last step, the ranges for both axes didn't match. We can use Axes.set_xlim() [https://matplotlib.org/api/axes_api.html#matplotlib.axes.Axes.set_xlim] and Axes.set_ylim() to set the data limits for both axes:\n",
    "\n",
    "ax.set_xlim(0, 5)\n",
    "ax.set_ylim(0, 5)\n",
    "By default, matplotlib uses the minimal ranges for the data limits necessary to display all of the data we specify. By manually setting the data limits ranges to specific ranges for all plots, we're ensuring that we can accurately compare. We can even use the methods we just mentioned to zoom in on a part of the plots. For example, the following code will constrained the axes to the 4 to 5 range:\n",
    "\n",
    "ax.set_xlim(4, 5)\n",
    "ax.set_ylim(4, 5)\n",
    "This makes small changes in the actual values in the data appear larger in the plot. A difference of 0.1 in a plot that ranges from 0 to 5 is hard to visually observe. A difference of 0.1 in a plot that only ranges from 4 to 5 is easily visible since the difference is 1/10th of the range.\n",
    "\n",
    "Instructions\n",
    "For the Subplot associated with ax1:\n",
    "Generate a scatter plot with the Fandango_Ratingvalue column on the x-axis and the RT_user_norm column on the y-axis.\n",
    "Set the x-axis label to \"Fandango\" and the y-axis label to \"Rotten Tomatoes\".\n",
    "Set the x-axis and y-axis data limits to range from 0 and 5.\n",
    "For the Subplot associated with ax2:\n",
    "Generate a scatter plot with the Fandango_Ratingvalue column on the x-axis and the Metacritic_user_nom column on the y-axis.\n",
    "Set the x-axis label to \"Fandango\" and the y-axis label to \"Metacritic\".\n",
    "Set the x-axis and y-axis data limits to range from 0 and 5.\n",
    "For the Subplot associated with ax3:\n",
    "Generate a scatter plot with the Fandango_Ratingvalue column on the x-axis and the IMDB_norm column on the y-axis.\n",
    "Set the x-axis label to \"Fandango\" and the y-axis label to \"IMDB\".\n",
    "Set the x-axis and y-axis data limits to range from 0 and 5.\n",
    "Use plt.show() to display the plots.                                      "
   ]
  },
  {
   "cell_type": "code",
   "execution_count": null,
   "metadata": {
    "collapsed": true
   },
   "outputs": [],
   "source": [
    "import matplotlib.pyplot as plt\n",
    "\n",
    "fig = plt.figure(figsize=(5,10))\n",
    "ax1 = fig.add_subplot(3,1,1)\n",
    "ax2 = fig.add_subplot(3,1,2)\n",
    "ax3 = fig.add_subplot(3,1,3)\n",
    "\n",
    "ax1.scatter(norm_reviews['Fandango_Ratingvalue'], norm_reviews['RT_user_norm'])\n",
    "ax1.set_xlabel('Fandango')\n",
    "ax1.set_ylabel('Rotten Tomatoes')\n",
    "ax1.set_xlim(0,5)\n",
    "ax1.set_ylim(0,5)\n",
    "\n",
    "ax2.scatter(norm_reviews['Fandango_Ratingvalue'], norm_reviews['Metacritic_user_nom'])\n",
    "ax2.set_xlabel('Fandango')\n",
    "ax2.set_ylabel('Metacritic')\n",
    "ax2.set_xlim(0,5)\n",
    "ax2.set_ylim(0,5)\n",
    "\n",
    "ax3.scatter(norm_reviews['Fandango_Ratingvalue'], norm_reviews['IMDB_norm'])\n",
    "ax3.set_xlabel('Fandango')\n",
    "ax3.set_ylabel('IMDB')\n",
    "ax3.set_xlim(0,5)\n",
    "ax3.set_ylim(0,5)\n",
    "\n",
    "plt.show()"
   ]
  },
  {
   "cell_type": "raw",
   "metadata": {},
   "source": [
    "10. Next steps\n",
    "\n",
    "From the scatter plots, we can conclude that user ratings from IMDB and Fandango are the most similar. In addition, user ratings from Metacritic and Rotten Tomatoes have positive but weak correlations with user ratings from Fandango. We can also notice that user ratings from Metacritic and Rotten Tomatoes span a larger range of values than those from IMDB or Fandango. User ratings from Metacritic and Rotten Tomatoes range from 1 to 5. User ratings from Fandango range approximately from 2.5 to 5 while those from IMDB range approximately from 2 to 4.5.\n",
    "\n",
    "The scatter plots unfortunately only give us a cursory understanding of the distributions of user ratings from each review site. For example, if a hundred movies had the same average user rating from IMDB and Fandango in the dataset, we would only see a single marker in the scatter plot. In the next mission, we'll learn about two types of plots that help us understand distributions of values."
   ]
  }
 ],
 "metadata": {
  "kernelspec": {
   "display_name": "Python 2",
   "language": "python",
   "name": "python2"
  },
  "language_info": {
   "codemirror_mode": {
    "name": "ipython",
    "version": 2
   },
   "file_extension": ".py",
   "mimetype": "text/x-python",
   "name": "python",
   "nbconvert_exporter": "python",
   "pygments_lexer": "ipython2",
   "version": "2.7.14"
  }
 },
 "nbformat": 4,
 "nbformat_minor": 2
}
