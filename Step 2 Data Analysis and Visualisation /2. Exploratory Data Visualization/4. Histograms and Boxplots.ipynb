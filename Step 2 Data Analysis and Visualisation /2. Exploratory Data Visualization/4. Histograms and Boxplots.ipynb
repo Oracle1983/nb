{
 "cells": [
  {
   "cell_type": "markdown",
   "metadata": {},
   "source": [
    "# Step 2 Data Analysis and Visualisation - Histograms and Boxplots"
   ]
  },
  {
   "cell_type": "raw",
   "metadata": {},
   "source": [
    "1. Introduction\n",
    "\n",
    "In the last mission, we learned how to create bar plots to compare the average user rating a movie received from four movie review sites. We also learned how to create scatter plots to explore how ratings on one site compare with ratings on another site. We ended the mission with the observations that user ratings from Metacritic and Rotten Tomatoes spanned a larger range (1.0 to 5.0) while those from Fandango and IMDB spanned a smaller range (2.5 to 5 and 2 to 5 respectively).\n",
    "\n",
    "In this mission, we'll learn how to visualize the distributions of user ratings using histograms and box plots. We'll continue working with the same dataset from the last mission. Recall that you can download the dataset fandango_scores.csv from the FiveThirtEight Github repo [https://github.com/fivethirtyeight/data/tree/master/fandango]. We've read the dataset into pandas, selected the columns we're going to work with, and assigned the new Dataframe to norm_reviews."
   ]
  },
  {
   "cell_type": "code",
   "execution_count": null,
   "metadata": {
    "collapsed": true
   },
   "outputs": [],
   "source": [
    "import pandas as pd\n",
    "import matplotlib.pyplot as plt\n",
    "reviews = pd.read_csv('fandango_scores.csv')\n",
    "cols = ['FILM', 'RT_user_norm', 'Metacritic_user_nom', 'IMDB_norm', 'Fandango_Ratingvalue']\n",
    "norm_reviews = reviews[cols]\n",
    "print(norm_reviews[:5])"
   ]
  },
  {
   "cell_type": "raw",
   "metadata": {},
   "source": [
    "2. Frequency Distribution\n",
    "\n",
    "Let's first compare the frequency distributions of user ratings from Fandango with those from IMDB using tables. A column's frequency distribution consists of the unique values in that column along with the count for each of those values (or their frequency). We can use Series.value_counts() [http://pandas.pydata.org/pandas-docs/stable/generated/pandas.Series.value_counts.html] to return the frequency distribution as Series object:\n",
    "\n",
    "freq_counts = df['Fandango_Ratingvalue'].value_counts()\n",
    "The resulting Series object will be sorted by frequency in descending order:\n",
    "\n",
    "Fandango Frequency Distribution\n",
    "https://s3.amazonaws.com/dq-content/fandango_frequency_distribution.png\n",
    "\n",
    "While this ordering is helpful when we're looking to quickly find the most common values in a given column, it's not helpful when trying to understand the range that the values in the column span. We can use Series.sort_index() [http://pandas.pydata.org/pandas-docs/stable/generated/pandas.Series.sort_index.html] to sort the frequency distribution in ascending order by the values in the column (which make up the index for the Series object):\n",
    "\n",
    "freq_counts = df['Fandango_Ratingvalue'].value_counts()\n",
    "sorted_freq_counts = freq_counts.sort_index()\n",
    "\n",
    "Here's what both frequency distributions look like side-by-side:\n",
    "https://s3.amazonaws.com/dq-content/both_fandango_distributions.png\n",
    "\n",
    "Instructions\n",
    "Use the value_counts() method to return the frequency counts for the Fandango_Ratingvalue column. Sort the resulting Series object by the index and assign to fandango_distribution.\n",
    "Use the value_counts() method to return frequency counts the IMDB_norm column. Sort the resulting Series object by the index and assign to imdb_distribution.\n",
    "Use the print() function to display fandango_distribution and imdb_distribution."
   ]
  },
  {
   "cell_type": "code",
   "execution_count": null,
   "metadata": {
    "collapsed": true
   },
   "outputs": [],
   "source": [
    "fc_fandango = norm_reviews['Fandango_Ratingvalue'].value_counts()\n",
    "fandango_distribution = fc_fandango.sort_index()\n",
    "\n",
    "fc_IMDB = norm_reviews['IMDB_norm'].value_counts()\n",
    "imdb_distribution = fc_IMDB.sort_index()\n",
    "\n",
    "print(fandango_distribution)\n",
    "print(imdb_distribution)"
   ]
  },
  {
   "cell_type": "raw",
   "metadata": {},
   "source": [
    "3. Binning\n",
    "\n",
    "Because there are only a few unique values, we can quickly scan the frequency counts and confirm that the Fandango_Ratingvalue column ranges from 2.7 to 4.8 while the IMDB_norm column ranges from 2 to 4.3. While we can quickly determine the minimum and maximum values, we struggle to answer the following questions about a column:\n",
    "\n",
    "What percent of the ratings are contained in the 2.0 to 4.0 range?\n",
    "How does this compare with other sites?\n",
    "Which values represent the top 25% of the ratings? The bottom 25%?\n",
    "How does this compare with other sites?\n",
    "Comparing frequency distributions is also challenging because the Fandango_Ratingvalue column contains 21 unique values while IMDB_norm contains 41 unique values. We need a way to compare frequencies across a shared set of values. Because all ratings have been normalized to a range of 0 to 5, we can start by dividing the range of possible values into a series of fixed length intervals, called bins. We can then sum the frequencies for the values that fall into each bin. Here's a diagram that makes binning easier to understand:\n",
    "\n",
    "Binning Introduction\n",
    "https://s3.amazonaws.com/dq-content/histogram_binning.png\n",
    "\n",
    "The distributions for both of these columns are now easier to compare because of the shared x-axis (the bins). We can now plot the bins along with the frequency sums as a bar plot. This type of plot is called a histogram. Let's dive right into creating a histogram in matplotlib."
   ]
  },
  {
   "cell_type": "raw",
   "metadata": {},
   "source": [
    "4. Histogram in Matplotlib\n",
    "\n",
    "We can generate a histogram using Axes.hist() [https://matplotlib.org/api/axes_api.html#matplotlib.axes.Axes.hist]. This method has only 1 required parameter, an iterable object containing the values we want a histogram for. By default, matplotlib will:\n",
    "\n",
    "calculate the minimum and maximum value from the sequence of values we passed in\n",
    "create 10 bins of equal length that span the range from the minimum to the maximum value\n",
    "group unique values into the bins\n",
    "sum up the associated unique values\n",
    "generate a bar for the frequency sum for each bin\n",
    "The default behavior of Axes.hist() is problematic for the use case of comparing distributions for multiple columns using the same binning strategy. This is because the binning strategy for each column would depend on the minimum and maximum values, instead of a shared binning strategy. We can use the range parameter to specify the range we want matplotlib to use as a tuple:\n",
    "\n",
    "ax.hist(norm_reviews['Fandango_Ratingvalue'], range=(0, 5))\n",
    "While histograms use bars whose lengths are scaled to the values they're representing, they differ from bar plots in a few ways. Histograms help us visualize continuous values using bins while bar plots help us visualize discrete values. The locations of the bars on the x-axis matter in a histogram but they don't in a simple bar plot. Lastly, bar plots also have gaps between the bars, to emphasize that the values are discrete.\n",
    "\n",
    "Instructions\n",
    "Create a single subplot and assign the returned Figure object to fig and the returned Axes object to ax.\n",
    "Generate a histogram from the values in the Fandango_Ratingvalue column using a range of 0 to 5.\n",
    "Use plt.show() to display the plot."
   ]
  },
  {
   "cell_type": "code",
   "execution_count": null,
   "metadata": {
    "collapsed": true
   },
   "outputs": [],
   "source": [
    "fig, ax = plt.subplots()\n",
    "ax.hist(norm_reviews['Fandango_Ratingvalue'], range=(0,5))\n",
    "plt.show()"
   ]
  },
  {
   "cell_type": "raw",
   "metadata": {},
   "source": [
    "5. Comparing histograms\n",
    "\n",
    "If you recall, one of the questions we were looking to answer was:\n",
    "\n",
    "What percent of the ratings are contained in the 2.0 to 4.0 range?\n",
    "We can visually examine the proportional area that the bars in the 2.0 to 4.0 range take up and determine that more than 50% of the movies on Fandango fall in this range. We can increase the number of bins from 10 to 20 for improved resolution of the distribution. The length of each bin will be 0.25 (5 / 20) instead of 0.5 (5 / 10). The bins parameter for Axes.hist() is the 2nd positional parameter, but can also be specified as a named parameter:\n",
    "\n",
    "# Either of these will work.\n",
    "ax.hist(norm_reviews['Fandango_Ratingvalue'], 20, range=(0, 5))\n",
    "ax.hist(norm_reviews['Fandango_Ratingvalue'], bins=20, range=(0, 5))\n",
    "Let's now generate histograms using 20 bins for all four columns. To ensure that the scales for the y-axis are the same for all histograms, let's set them manually using Axes.set_ylim().\n",
    "\n",
    "Instructions\n",
    "For the subplot associated with ax1:\n",
    "Generate a histogram of the values in the Fandango_Ratingvalue column using 20 bins and a range of 0 to 5.\n",
    "Set the title to Distribution of Fandango Ratings.\n",
    "For the subplot associated with ax2:\n",
    "Generate a histogram of the values in the RT_user_norm column using 20 bins and a range of 0 to 5.\n",
    "Set the title to Distribution of Rotten Tomatoes Ratings.\n",
    "For the subplot associated with ax3:\n",
    "Generate a histogram of the values in the Metacritic_user_nom column using 20 bins and a range of 0 to 5.\n",
    "Set the title to Distribution of Metacritic Ratings.\n",
    "For the subplot associated with ax4:\n",
    "Generate a histogram of the values in the IMDB_norm column using 20 bins and a range of 0 to 5.\n",
    "Set the title to Distribution of IMDB Ratings.\n",
    "For all subplots:\n",
    "Set the y-axis range to 0 to 50 using Axes.set_ylim().\n",
    "Use plt.show() to display the plots."
   ]
  },
  {
   "cell_type": "code",
   "execution_count": null,
   "metadata": {
    "collapsed": true
   },
   "outputs": [],
   "source": [
    "fig = plt.figure(figsize=(5,20))\n",
    "ax1 = fig.add_subplot(4,1,1)\n",
    "ax2 = fig.add_subplot(4,1,2)\n",
    "ax3 = fig.add_subplot(4,1,3)\n",
    "ax4 = fig.add_subplot(4,1,4)\n",
    "\n",
    "ax1.hist(norm_reviews['Fandango_Ratingvalue'], bins=20, range=(0,5))\n",
    "ax1.set_title('Distribution of Fandango Ratings.')\n",
    "ax1.set_ylim(0,50)\n",
    "\n",
    "ax2.hist(norm_reviews['RT_user_norm'], bins=20, range=(0,5))\n",
    "ax2.set_title('Distribution of Rotten Tomatoes Ratings.')\n",
    "ax2.set_ylim(0,50)\n",
    "\n",
    "ax3.hist(norm_reviews['Metacritic_user_nom'], bins=20, range=(0,5))\n",
    "ax3.set_title('Distribution of Metacritic Ratings.')\n",
    "ax3.set_ylim(0,50)\n",
    "\n",
    "ax4.hist(norm_reviews['IMDB_norm'], bins=20, range=(0,5))\n",
    "ax4.set_title('Distribution of IMDB Ratings.')\n",
    "ax4.set_ylim(0,50)\n",
    "\n",
    "plt.show()"
   ]
  },
  {
   "cell_type": "raw",
   "metadata": {},
   "source": [
    "6. Quartiles\n",
    "\n",
    "From the histograms, we can make the following observations:\n",
    "\n",
    "Around 50% of user ratings from Fandango fall in the 2 to 4 score range\n",
    "Around 50% of user ratings from Rotten Tomatoes fall in the 2 to 4 score range\n",
    "Around 75% of the user ratings from Metacritic fall in the 2 to 4 score range\n",
    "Around 90% of the user ratings from IMDB fall in the 2 to 4 score range\n",
    "While histograms allow us to visually estimate the percentage of ratings that fall into a range of bins, they don't allow us to easily understand how the top 25% or the bottom 25% of the ratings differ across the sites. The bottom 25% of values and top 25% of values both represent quartiles. The four quartiles divide the range of values into four regions where each region contains 1/4th of the total values.\n",
    "\n",
    "While these regions may sound similar to bins, they differ in how values are grouped into each region. Each bin covers an equal proportion of the values in the range. On the other hand, each quantile covers an equal number of values (1/4th of the total values). To visualize quartiles, we need to use a box plot, also referred to as a box-and-whisker plot."
   ]
  },
  {
   "cell_type": "raw",
   "metadata": {},
   "source": [
    "7. Box Plot\n",
    "\n",
    "A box plot consists of box-and-whisker diagrams, which represents the different quartiles in a visual way. Here's a box plot of the values in the RT_user_norm column:\n",
    "\n",
    "Boxplot\n",
    "https://s3.amazonaws.com/dq-content/boxplot_intro.png\n",
    "\n",
    "The two regions contained within the box in the middle make up the interquartile range, or IQR. The IQR is used to measure dispersion of the values. The ratio of the length of the box to the whiskers around the box helps us understand how values in the distribution are spread out.\n",
    "\n",
    "We can generate a boxplot using Axes.boxplot() [https://matplotlib.org/api/axes_api.html#matplotlib.axes.Axes.boxplot].\n",
    "\n",
    "ax.boxplot(norm_reviews['RT_user_norm'])\n",
    "Matplotlib will sort the values, calculate the quartiles that divide the values into four equal regions, and generate the box and whisker diagram.\n",
    "\n",
    "Instructions\n",
    "Create a single subplot and assign the returned Figure object to fig and the returned Axes object to ax.\n",
    "Generate a box plot from the values in the RT_user_norm column.\n",
    "Set the y-axis limit to range from 0 to 5.\n",
    "Set the x-axis tick label to Rotten Tomatoes.\n",
    "Use plt.show() to display the plot."
   ]
  },
  {
   "cell_type": "code",
   "execution_count": null,
   "metadata": {
    "collapsed": true
   },
   "outputs": [],
   "source": [
    "fig, ax = plt.subplots()\n",
    "ax.boxplot(norm_reviews['RT_user_norm'])\n",
    "ax.set_ylim(0,5)\n",
    "ax.set_xticklabels(['Rotten Tomatoes'])\n",
    "plt.show()"
   ]
  },
  {
   "cell_type": "raw",
   "metadata": {},
   "source": [
    "8. Multiple Box Plots\n",
    "\n",
    "From the box plot we generated using Rotten Tomatoes ratings, we can conclude that:\n",
    "\n",
    "the bottom 25% of user ratings range from around 1 to 2.5\n",
    "the top 25% of of user ratings range from around 4 to 4.6\n",
    "To compare the lower and upper ranges with those for the other columns, we need to generate multiple box-and-whisker diagrams in the same box plot. When selecting multiple columns to pass in to Axes.boxplot(), we need to use the values accessor to return a multi-dimensional numpy array:\n",
    "\n",
    "num_cols = ['RT_user_norm', 'Metacritic_user_nom', 'IMDB_norm', 'Fandango_Ratingvalue', 'Fandango_Stars']\n",
    "ax.boxplot(norm_reviews[num_cols].values)\n",
    "\n",
    "Instructions\n",
    "Create a single subplot and assign the returned Figure object to fig and the returned Axes object to ax.\n",
    "Generate a box plot containing a box-and-whisker diagram for each column in num_cols.\n",
    "Set the x-axis tick labels to the column names in num_cols and rotate the ticks by 90 degrees.\n",
    "Set the y-axis limit to range from 0 to 5.\n",
    "Use plt.show() to display the plot."
   ]
  },
  {
   "cell_type": "code",
   "execution_count": null,
   "metadata": {
    "collapsed": true
   },
   "outputs": [],
   "source": [
    "num_cols = ['RT_user_norm', 'Metacritic_user_nom', 'IMDB_norm', 'Fandango_Ratingvalue']\n",
    "\n",
    "fig, ax = plt.subplots()\n",
    "\n",
    "ax.boxplot(norm_reviews[num_cols].values)\n",
    "ax.set_xticklabels(num_cols, rotation=90)\n",
    "ax.set_ylim(0,5)\n",
    "plt.show()"
   ]
  },
  {
   "cell_type": "raw",
   "metadata": {},
   "source": [
    "9. Next steps\n",
    "\n",
    "From the boxplot, we can reach the following conclusions:\n",
    "\n",
    "user ratings from Rotten Tomatoes and Metacritic span a larger range of values\n",
    "user ratings from IMDB and Fandango are both skewed in the positive direction and span a more constrained range of values\n",
    "In this mission, we learned how to use histograms and box plots to visualize and compare the distributions of the ratings from the four movie review sites. Next in this course is a guided project, where we'll explore how to use pandas with matplotlib effectively and create more complex plots.                                        "
   ]
  }
 ],
 "metadata": {
  "kernelspec": {
   "display_name": "Python 2",
   "language": "python",
   "name": "python2"
  },
  "language_info": {
   "codemirror_mode": {
    "name": "ipython",
    "version": 2
   },
   "file_extension": ".py",
   "mimetype": "text/x-python",
   "name": "python",
   "nbconvert_exporter": "python",
   "pygments_lexer": "ipython2",
   "version": "2.7.14"
  }
 },
 "nbformat": 4,
 "nbformat_minor": 2
}
