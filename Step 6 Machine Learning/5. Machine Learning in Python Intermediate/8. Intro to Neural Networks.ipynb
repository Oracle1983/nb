{
 "cells": [
  {
   "cell_type": "markdown",
   "metadata": {},
   "source": [
    "# Step 6 Machine Learning -  Intro to Neural Networks"
   ]
  },
  {
   "cell_type": "raw",
   "metadata": {},
   "source": [
    "1. Neural networks and iris flowers\n",
    "\n",
    "Many machine learning prediction problems are rooted in complex data and its non-linear relationships between features. Neural networks are a class of models that can learn these non-linear interactions between variables.\n",
    "\n",
    "We will introduce neural networks by predicting the species of iris flowers from data with the following features:\n",
    "\n",
    "sepal_length - Continuous variable measured in centimeters.\n",
    "sepal_width - Continuous variable measured in centimeters.\n",
    "petal_length - Continuous variable measured in centimeters.\n",
    "petal_width - Continuous variable measured in centimeters.\n",
    "species - Categorical. 2 species of iris flowers, Iris-virginica or Iris-versicolor.\n",
    "The DataFrame class includes a hist() method which creates a histogram for every numeric column in that DataFrame. The histograms are generated using Matplotlib and displayed using plt.show().\n",
    "\n",
    "Instructions\n",
    "Visualize the data using the method hist() on our DataFrame iris and showing the plots."
   ]
  },
  {
   "cell_type": "code",
   "execution_count": null,
   "metadata": {
    "collapsed": true
   },
   "outputs": [],
   "source": [
    "import pandas\n",
    "import matplotlib.pyplot as plt\n",
    "import numpy as np\n",
    "\n",
    "# Read in dataset\n",
    "iris = pandas.read_csv(\"iris.csv\")\n",
    "\n",
    "# shuffle rows\n",
    "shuffled_rows = np.random.permutation(iris.index)\n",
    "iris = iris.loc[shuffled_rows,:]\n",
    "\n",
    "print(iris.head())\n",
    "\n",
    "# There are 2 species\n",
    "print(iris.species.unique())"
   ]
  },
  {
   "cell_type": "code",
   "execution_count": null,
   "metadata": {
    "collapsed": true
   },
   "outputs": [],
   "source": [
    "import pandas\n",
    "import matplotlib.pyplot as plt\n",
    "\n",
    "# Read data from csv\n",
    "pga = pandas.read_csv(\"pga.csv\")\n",
    "\n",
    "# Normalize the data\n",
    "pga.distance = (pga.distance - pga.distance.mean()) / pga.distance.std()\n",
    "pga.accuracy = (pga.accuracy - pga.accuracy.mean()) / pga.accuracy.std()\n",
    "print(pga.head())\n",
    "\n",
    "plt.scatter(pga.distance, pga.accuracy)\n",
    "plt.xlabel('normalized distance')\n",
    "plt.ylabel('normalized accuracy')\n",
    "plt.show()"
   ]
  },
  {
   "cell_type": "raw",
   "metadata": {},
   "source": [
    "2. Neurons\n",
    "\n",
    "So far we have talked about methods which do not allow for a large amount of non-linearity. For example, in the two dimensional case shown below, we want to find a function that can cleanly separate the X's from the O's.\n",
    "\n",
    "Imgur\n",
    "https://dq-content.s3.amazonaws.com/l92oKZd.png\n",
    "\n",
    "Neither a linear model nor logistic model is capable of building such a function, so we must explore other options like neural networks. Neural networks are very loosely inspired by the structure of neurons in the human brain. These models are built by using a series of activation units, known as neurons, to make predictions of some outcome. Neurons take in some input, apply a transformation function, and return an output. Below we see a representation of a neuron.\n",
    "\n",
    "Imgur\n",
    "https://dq-content.s3.amazonaws.com/RdPPxre.png\n",
    "\n",
    "This neuron is taking in 5 units represented as \n",
    ", a bias unit, and 4 features. This bias unit (1) is similar in concept to the intercept in linear regression and it will shift the activity of the neuron to one direction or the other. These units are then fed into an activation function \n",
    ". We will use the popular sigmoid (logistic) activation function because it returns values between 0 and 1 and can be treated as probabilities.\n",
    "\n",
    "\n",
    "This sigmoid function then leads to the corresponding activation function:\n",
    "\n",
    "\n",
    "If you look closely, you might notice that the logistic regression function we learned in previous lessons can be represented here as a neuron.\n",
    "\n",
    "Instructions\n",
    "Write a function called sigmoid_activation with inputs x a feature vector and theta a parameter vector of the same length to implement the sigmoid activation function.\n",
    "Assign the value of sigmoid_activation(x0, theta_init) to a1. a1 should be a vector."
   ]
  },
  {
   "cell_type": "code",
   "execution_count": null,
   "metadata": {
    "collapsed": true
   },
   "outputs": [],
   "source": [
    "z = np.asarray([[9, 5, 4]])\n",
    "y = np.asarray([[-1, 2, 4]])\n",
    "\n",
    "# np.dot is used for matrix multiplication\n",
    "# z is 1x3 and y is 1x3,  z * y.T is then 1x1\n",
    "print(np.dot(z,y.T))\n",
    "\n",
    "# Variables to test sigmoid_activation\n",
    "iris[\"ones\"] = np.ones(iris.shape[0])\n",
    "X = iris[['ones', 'sepal_length', 'sepal_width', 'petal_length', 'petal_width']].values\n",
    "y = (iris.species == 'Iris-versicolor').values.astype(int)\n",
    "\n",
    "# The first observation\n",
    "x0 = X[0]\n",
    "\n",
    "# Initialize thetas randomly \n",
    "theta_init = np.random.normal(0,0.01,size=(5,1))"
   ]
  },
  {
   "cell_type": "raw",
   "metadata": {},
   "source": [
    "3. Cost function\n",
    "\n",
    "We can train a single neuron as a two layer network using gradient descent. As we learned in the previous mission, we need to minimize a cost function which measures the error in our model. The cost function measures the difference between the desired output and actual output, defined as:\n",
    "\n",
    "\n",
    "Since our targets, \n",
    ", are binary, either \n",
    " or \n",
    "will equal zero. One of the terms in the summation will disappear because of this result and. the activation function is then used to compute the error. For example, if we observe a true target, \n",
    ", then we want \n",
    " to also be close to 1. So as \n",
    "approaches 1, the \n",
    " becomes very close to 0. Since the log of a value between 0 and 1 is negative, we must take the negative of the entire summation to compute the cost. The parameters are randomly initialized using a normal random variable with a small variance, less than 0.1.\n",
    "\n",
    "Instructions\n",
    "Write a function, singlecost(), that can compute the cost from just a single observation.\n",
    "This function should use input features X, targets y, and parameters theta to compute the cost function.\n",
    "Assign the cost of variables x0, y0, and theta_init to variable first_cost."
   ]
  },
  {
   "cell_type": "code",
   "execution_count": null,
   "metadata": {
    "collapsed": true
   },
   "outputs": [],
   "source": [
    "# First observation's features and target\n",
    "x0 = X[0]\n",
    "y0 = y[0]\n",
    "\n",
    "# Initialize parameters, we have 5 units and just 1 layer\n",
    "theta_init = np.random.normal(0,0.01,size=(5,1))"
   ]
  },
  {
   "cell_type": "raw",
   "metadata": {},
   "source": [
    "4. Compute the Gradients\n",
    "\n",
    "In the previous mission we learned that we need to compute the partial derivatives of the cost function to get the gradients. Calculating derivatives are more complicated in neural networks than in linear regression. Here we must compute the overall error and then distribute that error to each parameter. Compute the derivative using the chain rule.\n",
    "\n",
    "\n",
    "This rule may look complicated, but we can break it down. The first part is computing the error between the target variable and prediction. The second part then computes the sensitivity relative to each parameter. In the end, the gradients are computed as: \n",
    ".\n",
    "\n",
    "Now we will step through the math. \n",
    " is a scalar and the error between our target and prediction. \n",
    " is also a scalar and the sensitivity of the activation function.  \n",
    " is the features for our observation i. \n",
    " is then a vector of length 5, 4 features plus a bias unit, corresponding to the gradients.\n",
    "\n",
    "To implement this, we compute \n",
    " for each observation, then average to get the average gradient. The average gradient is then used to update the corresponding parameters.\n",
    "\n",
    "Instructions\n",
    "Compute the average gradients over each observation in X and corresponding target y with the initialized parameters theta_init.\n",
    "Assign the average gradients to variable grads."
   ]
  },
  {
   "cell_type": "code",
   "execution_count": null,
   "metadata": {
    "collapsed": true
   },
   "outputs": [],
   "source": [
    "# Initialize parameters\n",
    "theta_init = np.random.normal(0,0.01,size=(5,1))\n",
    "\n",
    "# Store the updates into this array\n",
    "grads = np.zeros(theta_init.shape)\n",
    "\n",
    "# Number of observations \n",
    "n = X.shape[0]"
   ]
  },
  {
   "cell_type": "raw",
   "metadata": {},
   "source": [
    "5. Two layer network\n",
    "\n",
    "Now that you can compute the gradients, use gradient descent to learn the parameters and predict the species of iris flower given the 4 features. Gradient descent minimizes the cost function by adjusting the parameters accordingly. Adjust the parameters by adding the product of the gradients and the learning rate from the previous parameters. Repeat until the cost function converges or a maximum number of iterations is reached.\n",
    "\n",
    "The high level algorithm is,\n",
    "\n",
    "while (number_of_iterations < max_iterations and (prev_cost - cost) > convergence_thres ) {\n",
    "    update paramaters\n",
    "    get new cost\n",
    "    repeat\n",
    "}\n",
    "We have implemented all these pieces in a single function learn() that can learn this two layer network. After setting a few initial variables, we begin to iterate until convergence. During each iteration we compute our gradients, update accordingly, and compute the new cost."
   ]
  },
  {
   "cell_type": "code",
   "execution_count": null,
   "metadata": {
    "collapsed": true
   },
   "outputs": [],
   "source": [
    "theta_init = np.random.normal(0,0.01,size=(5,1))\n",
    "\n",
    "# set a learning rate\n",
    "learning_rate = 0.1\n",
    "# maximum number of iterations for gradient descent\n",
    "maxepochs = 10000       \n",
    "# costs convergence threshold, ie. (prevcost - cost) > convergence_thres\n",
    "convergence_thres = 0.0001  \n",
    "\n",
    "def learn(X, y, theta, learning_rate, maxepochs, convergence_thres):\n",
    "    costs = []\n",
    "    cost = singlecost(X, y, theta)  # compute initial cost\n",
    "    costprev = cost + convergence_thres + 0.01  # set an inital costprev to past while loop\n",
    "    counter = 0  # add a counter\n",
    "    # Loop through until convergence\n",
    "    for counter in range(maxepochs):\n",
    "        grads = np.zeros(theta.shape)\n",
    "        for j, obs in enumerate(X):\n",
    "            h = sigmoid_activation(obs, theta)   # Compute activation\n",
    "            delta = (y[j]-h) * h * (1-h) * obs   # Get delta\n",
    "            grads += delta[:,np.newaxis]/X.shape[0]  # accumulate\n",
    "        \n",
    "        # update parameters \n",
    "        theta += grads * learning_rate\n",
    "        counter += 1  # count\n",
    "        costprev = cost  # store prev cost\n",
    "        cost = singlecost(X, y, theta) # compute new cost\n",
    "        costs.append(cost)\n",
    "        if np.abs(costprev-cost) < convergence_thres:\n",
    "            break\n",
    "        \n",
    "    plt.plot(costs)\n",
    "    plt.title(\"Convergence of the Cost Function\")\n",
    "    plt.ylabel(\"J($\\Theta$)\")\n",
    "    plt.xlabel(\"Iteration\")\n",
    "    plt.show()\n",
    "    return theta\n",
    "        \n",
    "theta = learn(X, y, theta_init, learning_rate, maxepochs, convergence_thres)"
   ]
  },
  {
   "cell_type": "raw",
   "metadata": {},
   "source": [
    "6. Neural Network\n",
    "\n",
    "Neural networks are usually built using multiple layers of neurons. Adding more layers into the network allows you to learn more complex functions. Here's a picture representing a 3 layer neural network.\n",
    "\n",
    "https://dq-content.s3.amazonaws.com/J1Y6YEf.png\n",
    "\n",
    "We have a 3 layer neural network with four input variables \n",
    " and a bias unit. Each variable and bias unit is then sent to four hidden units, \n",
    ". The hidden units have different sets of parameters \n",
    ".\n",
    "\n",
    "\n",
    "\n",
    "\n",
    "\n",
    "\n",
    " represents the parameter of input unit \n",
    " which transform the units in layer \n",
    " to activation unit \n",
    ".\n",
    "\n",
    "This layer is known as a hidden layer because the user does not directly interact with it by passing or retrieving data. The third and final layer is the output, or prediction, of our model. Similar to how each variable was sent to each neuron in the hidden layer, the activation units in each neuron are then sent to each neuron on the next layer. Since there is only a single layer, we can write it as:\n",
    "\n",
    "\n",
    "While the mathematical notation may seem confusing at first, at a high level, we are organizing multiple logistic regression models to create a more complex function.\n",
    "\n",
    "Instructions\n",
    "Write a function feedforward() that will take in an input X and two sets of parameters theta0 and theta1 to compute the output \n",
    ".\n",
    "Assign the output to variable h using features X and parameters theta0_init and theta1_init."
   ]
  },
  {
   "cell_type": "code",
   "execution_count": null,
   "metadata": {
    "collapsed": true
   },
   "outputs": [],
   "source": [
    "theta0_init = np.random.normal(0,0.01,size=(5,4))\n",
    "theta1_init = np.random.normal(0,0.01,size=(5,1)"
   ]
  },
  {
   "cell_type": "raw",
   "metadata": {},
   "source": [
    "7. Multiple neural network cost function\n",
    "\n",
    "The cost function to multiple layer neural networks is identical to the cost function we used in the last screen, but \n",
    " is more complicated.\n",
    "\n",
    "Instructions\n",
    "Write a function multiplecost() which estimates the cost function.\n",
    "Use the observations in X, targets y and inital parameters theta0_init and theta1_init.\n",
    "Assign the cost to variable c."
   ]
  },
  {
   "cell_type": "code",
   "execution_count": null,
   "metadata": {
    "collapsed": true
   },
   "outputs": [],
   "source": [
    "theta0_init = np.random.normal(0,0.01,size=(5,4))\n",
    "theta1_init = np.random.normal(0,0.01,size=(5,1))\n",
    "\n",
    "# X and y are in memory and should be used as inputs to multiplecost()"
   ]
  },
  {
   "cell_type": "raw",
   "metadata": {},
   "source": [
    "8. Backpropagation\n",
    "\n",
    "Now that we have multiple layers of parameters to learn, we must implement a method called backpropagation. We've already implemented forward propagation by feeding the data through each layer and returning an output. Backpropagation focuses on updating parameters starting at the last layer and circling back through each layer, updating accordingly. As there are multiple layers we are forced to compute \n",
    " where \n",
    " is the layer. For a three layer network, use the following approach,\n",
    "\n",
    "\n",
    "\n",
    "\n",
    "\n",
    "We have written code that trains a three layer neural network in the code cell. You will notice that there are many parameters and moving parts to this algorithm. To make the code more modular, we have refactored our previous code as a class, allowing us to organize related attributes and methods.\n",
    "\n",
    "We have reused feedforward() and multiplecost() but in more condensed forms. During initialization, we set attributes like the learning rate, maximum number of iterations to convergence, and number of units in the hidden layer. In learn() you'll find the backpropagation algorithm, which computes the gradients and updates the parameters. We then test the class by using the features and the species of the flower."
   ]
  },
  {
   "cell_type": "code",
   "execution_count": null,
   "metadata": {
    "collapsed": true
   },
   "outputs": [],
   "source": [
    "# Use a class for this model, it's good practice and condenses the code\n",
    "class NNet3:\n",
    "    def __init__(self, learning_rate=0.5, maxepochs=1e4, convergence_thres=1e-5, hidden_layer=4):\n",
    "        self.learning_rate = learning_rate\n",
    "        self.maxepochs = int(maxepochs)\n",
    "        self.convergence_thres = 1e-5\n",
    "        self.hidden_layer = int(hidden_layer)\n",
    "        \n",
    "    def _multiplecost(self, X, y):\n",
    "        # feed through network\n",
    "        l1, l2 = self._feedforward(X) \n",
    "        # compute error\n",
    "        inner = y * np.log(l2) + (1-y) * np.log(1-l2)\n",
    "        # negative of average error\n",
    "        return -np.mean(inner)\n",
    "    \n",
    "    def _feedforward(self, X):\n",
    "        # feedforward to the first layer\n",
    "        l1 = sigmoid_activation(X.T, self.theta0).T\n",
    "        # add a column of ones for bias term\n",
    "        l1 = np.column_stack([np.ones(l1.shape[0]), l1])\n",
    "        # activation units are then inputted to the output layer\n",
    "        l2 = sigmoid_activation(l1.T, self.theta1)\n",
    "        return l1, l2\n",
    "    \n",
    "    def predict(self, X):\n",
    "        _, y = self._feedforward(X)\n",
    "        return y\n",
    "    \n",
    "    def learn(self, X, y):\n",
    "        nobs, ncols = X.shape\n",
    "        self.theta0 = np.random.normal(0,0.01,size=(ncols,self.hidden_layer))\n",
    "        self.theta1 = np.random.normal(0,0.01,size=(self.hidden_layer+1,1))\n",
    "        \n",
    "        self.costs = []\n",
    "        cost = self._multiplecost(X, y)\n",
    "        self.costs.append(cost)\n",
    "        costprev = cost + self.convergence_thres+1  # set an inital costprev to past while loop\n",
    "        counter = 0  # intialize a counter\n",
    "\n",
    "        # Loop through until convergence\n",
    "        for counter in range(self.maxepochs):\n",
    "            # feedforward through network\n",
    "            l1, l2 = self._feedforward(X)\n",
    "\n",
    "            # Start Backpropagation\n",
    "            # Compute gradients\n",
    "            l2_delta = (y-l2) * l2 * (1-l2)\n",
    "            l1_delta = l2_delta.T.dot(self.theta1.T) * l1 * (1-l1)\n",
    "\n",
    "            # Update parameters by averaging gradients and multiplying by the learning rate\n",
    "            self.theta1 += l1.T.dot(l2_delta.T) / nobs * self.learning_rate\n",
    "            self.theta0 += X.T.dot(l1_delta)[:,1:] / nobs * self.learning_rate\n",
    "            \n",
    "            # Store costs and check for convergence\n",
    "            counter += 1  # Count\n",
    "            costprev = cost  # Store prev cost\n",
    "            cost = self._multiplecost(X, y)  # get next cost\n",
    "            self.costs.append(cost)\n",
    "            if np.abs(costprev-cost) < self.convergence_thres and counter > 500:\n",
    "                break\n",
    "\n",
    "# Set a learning rate\n",
    "learning_rate = 0.5\n",
    "# Maximum number of iterations for gradient descent\n",
    "maxepochs = 10000       \n",
    "# Costs convergence threshold, ie. (prevcost - cost) > convergence_thres\n",
    "convergence_thres = 0.00001  \n",
    "# Number of hidden units\n",
    "hidden_units = 4\n",
    "\n",
    "# Initialize model \n",
    "model = NNet3(learning_rate=learning_rate, maxepochs=maxepochs,\n",
    "              convergence_thres=convergence_thres, hidden_layer=hidden_units)\n",
    "# Train model\n",
    "model.learn(X, y)\n",
    "\n",
    "# Plot costs\n",
    "plt.plot(model.costs)\n",
    "plt.title(\"Convergence of the Cost Function\")\n",
    "plt.ylabel(\"J($\\Theta$)\")\n",
    "plt.xlabel(\"Iteration\")\n",
    "plt.show()"
   ]
  },
  {
   "cell_type": "raw",
   "metadata": {},
   "source": [
    "9. Splitting data\n",
    "\n",
    "Now that we have learned about neural networks, learned about backpropagation, and have code which will train a 3-layer neural network, we will split the data into training and test datasets and run the model.\n",
    "\n",
    "Instructions\n",
    "Choose the first 70 rows in both X and y and assign them respectively to X_train and y_train.\n",
    "The last 30 rows should be assigned to variables X_test and y_test."
   ]
  },
  {
   "cell_type": "code",
   "execution_count": null,
   "metadata": {
    "collapsed": true
   },
   "outputs": [],
   "source": [
    "# First 70 rows to X_train and y_train\n",
    "# Last 30 rows to X_test and y_test"
   ]
  },
  {
   "cell_type": "raw",
   "metadata": {},
   "source": [
    "10. Predicting iris flowers\n",
    "\n",
    "To benchmark how well a three layer neural network performs when predicting the species of iris flowers, you will have to compute the AUC, area under the curve, score of the receiver operating characteristic. The function NNet3 not only trains the model but also returns the predictions. The method predict() will return a 2D matrix of probabilities. Since there is only one target variable in this neural network, select the first row of this matrix, which corresponds to the type of flower.\n",
    "\n",
    "Instructions\n",
    "Train the neural network using X_test and y_test and model, which has been initialized with a set of parameters.\n",
    "Once training is complete, use the predict() function to return the probabilities of the flower matching the species Iris-versicolor.\n",
    "Compute the AUC score, using roc_auc_score() and assign it to auc."
   ]
  },
  {
   "cell_type": "code",
   "execution_count": null,
   "metadata": {
    "collapsed": true
   },
   "outputs": [],
   "source": [
    "from sklearn.metrics import roc_auc_score\n",
    "# Set a learning rate\n",
    "learning_rate = 0.5\n",
    "# Maximum number of iterations for gradient descent\n",
    "maxepochs = 10000       \n",
    "# Costs convergence threshold, ie. (prevcost - cost) > convergence_thres\n",
    "convergence_thres = 0.00001  \n",
    "# Number of hidden units\n",
    "hidden_units = 4\n",
    "\n",
    "# Initialize model \n",
    "model = NNet3(learning_rate=learning_rate, maxepochs=maxepochs,\n",
    "              convergence_thres=convergence_thres, hidden_layer=hidden_units)"
   ]
  }
 ],
 "metadata": {
  "kernelspec": {
   "display_name": "Python 2",
   "language": "python",
   "name": "python2"
  },
  "language_info": {
   "codemirror_mode": {
    "name": "ipython",
    "version": 2
   },
   "file_extension": ".py",
   "mimetype": "text/x-python",
   "name": "python",
   "nbconvert_exporter": "python",
   "pygments_lexer": "ipython2",
   "version": "2.7.14"
  }
 },
 "nbformat": 4,
 "nbformat_minor": 2
}
