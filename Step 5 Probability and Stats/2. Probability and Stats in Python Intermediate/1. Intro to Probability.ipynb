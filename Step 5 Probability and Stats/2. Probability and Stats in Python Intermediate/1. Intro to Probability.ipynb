{
 "cells": [
  {
   "cell_type": "markdown",
   "metadata": {},
   "source": [
    "# Step 5 Introduction to Stats - Intro to Probability"
   ]
  },
  {
   "cell_type": "raw",
   "metadata": {},
   "source": [
    "1. Probability basics\n",
    "\n",
    "We covered a bit of probability in the last mission, but we'll go more into depth here and build a strong foundation. Before we do that, let's introduce our dataset. Our dataset contains information on flags of countries around the world. Each row is a country. Here are the relevant columns:\n",
    "\n",
    "name -- name of the country\n",
    "landmass -- which continent the country is in (1=N.America, 2=S.America, 3=Europe, 4=Africa, 4=Asia, 6=Oceania)\n",
    "area -- country area, in thousands of square kilometers\n",
    "population -- rounded to the nearest million\n",
    "bars -- Number of vertical bars in the flag\n",
    "stripes -- Number of horizontal stripes in the flag\n",
    "colors -- Number of different colours in the flag\n",
    "red, green, blue, gold, white, black, orange -- 0 if color absent, 1 if color present in the flag\n",
    "This data was collected from Collins Gem Guide to Flags. It was written in 1986, so some flag information may be out of date!\n",
    "\n",
    "Instructions\n",
    "Find the country with the most bars in its flag. Assign the name of the country to most_bars_country.\n",
    "Find the country with the highest population (as of 1986). Assign the name of the country to highest_population_country."
   ]
  },
  {
   "cell_type": "code",
   "execution_count": null,
   "metadata": {
    "collapsed": true
   },
   "outputs": [],
   "source": [
    "# Print the first two rows of the data.\n",
    "print(flags[:2])"
   ]
  },
  {
   "cell_type": "raw",
   "metadata": {},
   "source": [
    "2. Calculating probability\n",
    "\n",
    "Now that we've explored the data a bit, let's get back to probability. Probability can roughly be described as \"the percentage chance of an event or sequence of events occurring\".\n",
    "\n",
    "If you think about a coin flip intuitively, there's a 50% chance of getting heads, and a 50% chance of getting tails. This is because there are only two possible outcomes, and each event is equally likely.\n",
    "\n",
    "We can apply the same principle to find how likely it is to select an element with certain characteristics from a sample. In this case, our sample is all the country flags. With a coin flip, it's already known that only two outcomes exist -- we need to compute the probability ourselves for the flags.\n",
    "\n",
    "We could compute the probability of a country flag having a certain characteristic by dividing how many flags have that characteristic by the total number of flags.\n",
    "\n",
    "Instructions\n",
    "Determine the probability of a country having a flag with the color orange in it. Assign the result to orange_probability.\n",
    "Determine the probability of a country having a flag with more than 1 stripe in it. Assign the result to stripe_probability."
   ]
  },
  {
   "cell_type": "code",
   "execution_count": null,
   "metadata": {
    "collapsed": true
   },
   "outputs": [],
   "source": [
    "total_countries = flags.shape[0]"
   ]
  },
  {
   "cell_type": "raw",
   "metadata": {},
   "source": [
    "3. Conjunctive probabilities\n",
    "\n",
    "We just found the probability of a country having a flag with more than one stripe. This was fairly straightforward, as it only involved one probability.\n",
    "\n",
    "But let's say we have a coin that we flip 5 times, and we want to find the probability that it will come up heads every time. This is called a conjunctive probability, because it involves a sequence of events. We want to find the probability that the first flip is heads and the second flip is heads, and so on.\n",
    "\n",
    "Each event in this sequence is independent, as the outcome of the first flip won't have an impact on the outcome of the last flip. All we have to do to compute the probability of this sequence is multiply the individual probabilities of each event together. This is .5 * .5 * .5 * .5 * .5, which equals .03125, giving us a 3.125% chance that all 5 coin flips result in heads.\n",
    "\n",
    "Instructions\n",
    "Find the probability that 10 flips in a row will all turn out heads. Assign the probability to ten_heads.\n",
    "Find the probability that 100 flips in a row will all turn out heads. Assign the probability to hundred_heads."
   ]
  },
  {
   "cell_type": "code",
   "execution_count": null,
   "metadata": {
    "collapsed": true
   },
   "outputs": [],
   "source": [
    "five_heads = .5 ** 5"
   ]
  },
  {
   "cell_type": "raw",
   "metadata": {},
   "source": [
    "4. Dependent probabilities\n",
    "\n",
    "Let's say that we're picking countries from the sample, and removing them when we pick. Each time we pick a country, we reduce the sample size for the next pick. The events are dependent -- the number of countries available to pick depends on the previous pick. We can't just calculate the probability upfront and take a power in this case -- we need to recompute the probability after each selection happens.\n",
    "\n",
    "Let's simplify the example a bit by saying that we're eating some M&Ms. There are 10 M&Ms left in the bag: 5 are green, and 5 are blue. What are the odds of getting 3 blue candies in a row? The probability of getting the first blue candy is 5/10, or 1/2. When we pick a blue candy, though, we remove it from the bag, so the probability of getting another is 4/9. The probability of picking a third blue candy is 3/8. This means our final probability is 1/2 * 4/9 * 3/8, or .0833. So, there is an 8.3% chance of picking three blue candies in a row.\n",
    "\n",
    "Instructions\n",
    "Let's say that we're picking countries from our dataset, and removing each one that we pick.\n",
    "What are the odds of picking three countries with red in their flags in a row? Assign the resulting probability to three_red."
   ]
  },
  {
   "cell_type": "code",
   "execution_count": null,
   "metadata": {
    "collapsed": true
   },
   "outputs": [],
   "source": [
    "# Remember that whether a flag has red in it or not is in the `red` column."
   ]
  },
  {
   "cell_type": "raw",
   "metadata": {},
   "source": [
    "5. Disjunctive probability\n",
    "\n",
    "Conjunctive probability is when something happens and something else happens. But sometimes, we want to know the probability of some event occurring or another event occurring. Let's say we're rolling a six-sided die -- the probability of rolling a 2 is 1/6.\n",
    "\n",
    "What if we want to know the probability of rolling a 2 or the probability of rolling a three? We actually can just add the probabilities, because both events are independent. Rolling a 2 doesn't change my odds of rolling a three next time around. Thus, the probability is 1/6 + 1/6, or 1/3.\n",
    "\n",
    "Instructions\n",
    "Let's say we have a random number generator that generates numbers from 1 to 18000.\n",
    "What are the odds of getting a number evenly divisible by 100, with no remainder? (ie 100, 200, 300, etc). Assign the result to hundred_prob.\n",
    "What are the odds of getting a number evenly divisible by 70, with no remainder? (ie 70, 140, 210, etc). Assign the result to seventy_prob."
   ]
  },
  {
   "cell_type": "code",
   "execution_count": null,
   "metadata": {
    "collapsed": true
   },
   "outputs": [],
   "source": [
    "art = 1\n",
    "end = 18000"
   ]
  },
  {
   "cell_type": "raw",
   "metadata": {},
   "source": [
    "6. Disjunctive dependent probabilities\n",
    "\n",
    "So we've covered disjunctive probabilities in the neat case where everything is mututally exclusive, and we can just add them up.\n",
    "\n",
    "But, let's think about a slightly more complex case with dependencies. What if we have a set of 10 cars -- 5 are red and 5 are blue. 5 of the 10 are convertibles, and 5 are sport utility vehicles.\n",
    "\n",
    "If we wanted to find cars that were red or were convertibles, we might try to add the probability of the car being red to the probability of the car being a convertible. This would give us 1/2 + 1/2 == 1. But, this is wrong, as it tells us that all 10 cars are either red or convertibles.\n",
    "\n",
    "It's wrong because it assumes that the two traits (color and vehicle type) are independent, when in fact they aren't. Some of the cars are red and convertibles. If we don't account for this overlap, we end up with a vastly inflated count.\n",
    "\n",
    "Let's say that we have 3 cars that are red and convertibles. Our probability for red or convertible then comes out to (1/2 + 1/2) - 3/10. We subtract 3/10 to account for the cars we double counted when we computed (1/2 + 1/2). This gives us a .7 probability of a car being a convertible or red.\n",
    "\n",
    "Instructions\n",
    "Find the probability of a flag having red or orange as a color. Assign the result to red_or_orange.\n",
    "Find the probability of a flag having at least one stripes or at least one bars. Assign the result to stripes_or_bars."
   ]
  },
  {
   "cell_type": "code",
   "execution_count": null,
   "metadata": {
    "collapsed": true
   },
   "outputs": [],
   "source": [
    "stripes_or_bars = None\n",
    "red_or_orange = None"
   ]
  },
  {
   "cell_type": "raw",
   "metadata": {},
   "source": [
    "7. Disjunctive probabilities with multiple conditions\n",
    "\n",
    "We've looked at disjunctive probabilities in cases where there are only two conditions (A or B). But what if we have three or more conditions?\n",
    "\n",
    "Let's say we have 10 cars again. 5 are red and 5 are blue. 5 are convertibles and 5 are sport utility vehicles. 5 have a top speed of 130mph, and 5 have a top speed of 110mph.\n",
    "\n",
    "Let's say we want to find all cars that are red or convertibles or have a top speed of 130mph. Let's say 2 cars meet all three criteria. We would end up with 1/2 + 1/2 + 1/2 - 1/5, or a 1.3 probability if we tried to apply the formula from before. This is clearly false, as we can't have a probability greater than 1.\n",
    "\n",
    "One easy way to solve for cases like this is to find everything that doesn't match our criteria first. In this case, we'd look for blue sport utility vehicles with a top speed of 110mph. We would then subtract that probability from 1 to get the probability of red or convertible or 130mph top speed. Let's say there are 2 vehicles that are blue and sport utility vehicles and have a 110mph top speed. We would get a 1 - .2 or .8 probability for red or convertible or 130mph top speed.\n",
    "\n",
    "Instructions\n",
    "Let's say we have a coin that we're flipping. Find the probability that at least one of the first three flips comes up heads. Assign the result to heads_or."
   ]
  },
  {
   "cell_type": "code",
   "execution_count": null,
   "metadata": {
    "collapsed": true
   },
   "outputs": [],
   "source": [
    "heads_or = None"
   ]
  }
 ],
 "metadata": {
  "kernelspec": {
   "display_name": "Python 2",
   "language": "python",
   "name": "python2"
  },
  "language_info": {
   "codemirror_mode": {
    "name": "ipython",
    "version": 2
   },
   "file_extension": ".py",
   "mimetype": "text/x-python",
   "name": "python",
   "nbconvert_exporter": "python",
   "pygments_lexer": "ipython2",
   "version": "2.7.14"
  }
 },
 "nbformat": 4,
 "nbformat_minor": 2
}
