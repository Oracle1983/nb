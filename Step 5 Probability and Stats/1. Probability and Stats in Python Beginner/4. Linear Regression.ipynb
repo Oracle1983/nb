{
 "cells": [
  {
   "cell_type": "markdown",
   "metadata": {},
   "source": [
    "# Step 5 Introduction to Stats - Linear Regression"
   ]
  },
  {
   "cell_type": "raw",
   "metadata": {},
   "source": [
    "1. Introduction\n",
    "\n",
    "In this mission, we'll be looking at how expert wine tasters evaluated different white wines. Here are the first few rows of the data:\n",
    "\n",
    "\"fixed acidity\",\"volatile acidity\",\"citric acid\",\"residual sugar\",\"chlorides\",\"free sulfur dioxide\",\"total sulfur dioxide\",\"density\",\"pH\",\"sulphates\",\"alcohol\",\"quality\"\n",
    "7,0.27,0.36,20.7,0.045,45,170,1.001,3,0.45,8.8,6\n",
    "6.3,0.3,0.34,1.6,0.049,14,132,0.994,3.3,0.49,9.5,6\n",
    "Each row represents a single wine, and each column represents some property of that wine. Here are some of the interesting columns:\n",
    "\n",
    "density -- shows the amount of material dissolved in the wine.\n",
    "alcohol -- the alcohol content of the wine.\n",
    "quality -- the average quality rating (1-10) given to the wine.\n",
    "In the next few screens, we'll learn how to use a technique called linear regression to make predictions about wine quality using existing data."
   ]
  },
  {
   "cell_type": "raw",
   "metadata": {},
   "source": [
    "2. Drawing lines\n",
    "\n",
    "Before we get started with linear regression, let's take a look at how to draw lines.\n",
    "\n",
    "A simple line is \n",
    ". This means that the value of a point on the y-axis is the same as the corresponding value on the x-axis.\n",
    "\n",
    "Instructions\n",
    "Plot the equation y = x - 1, using the existing x variable.\n",
    "Plot the equation y = x + 10, using the existing x variable."
   ]
  },
  {
   "cell_type": "code",
   "execution_count": null,
   "metadata": {
    "collapsed": true
   },
   "outputs": [],
   "source": [
    "import matplotlib.pyplot as plt\n",
    "import numpy as np\n",
    "\n",
    "x = [0, 1, 2, 3, 4, 5]\n",
    "# Going by our formula, every y value at a position is the same as the x-value in the same position.\n",
    "# We could write y = x, but let's write them all out to make this more clear.\n",
    "y = [0, 1, 2, 3, 4, 5]\n",
    "\n",
    "# As you can see, this is a straight line that passes through the points (0,0), (1,1), (2,2), and so on.\n",
    "plt.plot(x, y)\n",
    "plt.show()\n",
    "\n",
    "# Let's try a slightly more ambitious line.\n",
    "# What if we did y = x + 1?\n",
    "# We'll make x an array now, so we can add 1 to every element more easily.\n",
    "x = np.asarray([0, 1, 2, 3, 4, 5])\n",
    "y = x + 1\n",
    "\n",
    "# y is the same as x, but every element has 1 added to it.\n",
    "print(y)\n",
    "\n",
    "# This plot passes through (0,1), (1,2), and so on.\n",
    "# It's the same line as before, but shifted up 1 on the y-axis.\n",
    "plt.plot(x, y)\n",
    "plt.show()\n",
    "\n",
    "# By adding 1 to the line, we moved what's called the y-intercept -- where the line intersects with the y-axis.\n",
    "# Moving the intercept can shift the whole line up (or down when we subtract)."
   ]
  },
  {
   "cell_type": "raw",
   "metadata": {},
   "source": [
    "3. Working with slope\n",
    "\n",
    "Now that we have a way to move the line up and down, what about the steepness of the line?\n",
    "\n",
    "This was unchanged earlier -- the values on the line always went up 1 on the y-axis every time they went up 1 on the x-axis.\n",
    "\n",
    "What if we want to make a line that goes up 2 numbers on the y-axis every time it goes up 1 on the x-axis?\n",
    "\n",
    "This is where slope comes in. The slope is multiplied by the x-value to get the new y value.\n",
    "\n",
    "It looks like this: \n",
    ". If we set the slope, \n",
    ", equal to 2, we'll get what we want.\n",
    "\n",
    "Instructions\n",
    "Plot the equation y = 4x, using the existing x variable.\n",
    "Plot the equation y = .5x, using the existing x variable.\n",
    "Plot the equation y = -2x, using the existing x variable."
   ]
  },
  {
   "cell_type": "code",
   "execution_count": null,
   "metadata": {
    "collapsed": true
   },
   "outputs": [],
   "source": [
    "import matplotlib.pyplot as plt\n",
    "import numpy as np\n",
    "\n",
    "x = np.asarray([0, 1, 2, 3, 4, 5])\n",
    "# Let's set the slope of the line to 2.\n",
    "y = 2 * x\n",
    "\n",
    "# See how this line is \"steeper\" than before?  The larger the slope is, the steeper the line becomes.\n",
    "# On the flipside, fractional slopes will create a \"shallower\" line.\n",
    "# Negative slopes will create a line where y values decrease as x values increase.\n",
    "plt.plot(x, y)\n",
    "plt.show()"
   ]
  },
  {
   "cell_type": "raw",
   "metadata": {},
   "source": [
    "4. Starting out with linear regression\n",
    "\n",
    "In the last mission, we did some work with the r-value. The r-value indicates how correlated two variables are. This can range from no correlation to a negative correlation to a positive correlation.\n",
    "\n",
    "The more correlated two variables are, the easier it becomes to use one to predict the other. For instance, if I know that how much I pay for my steak is highly positively correlated to the size of the steak (in ounces), I can create a formula that helps me predict how much I would be paying for my steak.\n",
    "\n",
    "The way we do this is with linear regression. Linear regression gives us a formula. If we plug in the value for one variable into this formula, we get the value for the other variable.\n",
    "\n",
    "The equation to create the formula takes the form \n",
    ".\n",
    "\n",
    "You might recognize pieces of this equation from the past two screens -- we're just adding the intercept and slope into one equation.\n",
    "\n",
    "This equation is saying \"the predicted value of the second variable (y) is equal to the value of the first variable (x) times the slope (m) plus the intercept (b)\".\n",
    "\n",
    "We have to calculate values for \n",
    " and \n",
    " before we can use our formula.\n",
    "\n",
    "We'll calculate slope first -- the formula is \n",
    ", which is just the covariance of x and y divided by the variance of x.\n",
    "\n",
    "We can use the cov function to calculate covariance, and the .var() method on Pandas series to calculate variance.\n",
    "\n",
    "Instructions\n",
    "Calculate the slope you would need to predict the \"quality\" column (y) using the \"density\" column (x).\n",
    "Assign the slope to slope_density."
   ]
  },
  {
   "cell_type": "code",
   "execution_count": null,
   "metadata": {
    "collapsed": true
   },
   "outputs": [],
   "source": [
    "# The wine quality data is loaded into wine_quality\n",
    "from numpy import cov"
   ]
  },
  {
   "cell_type": "raw",
   "metadata": {},
   "source": [
    "5. Finishing linear regression\n",
    "\n",
    "Now that we can calculate the slope for our linear regression line, we just need to calculate the intercept.\n",
    "\n",
    "The intercept is just how much higher or lower the average y point is than our predicted value.\n",
    "\n",
    "We can compute the intercept by taking the slope we calculated and doing this: \n",
    ". So we just take the mean of the y values, and then subtract the slope times the mean of the x values from that.\n",
    "\n",
    "Remember that we can calculate the mean by using the .mean() method.\n",
    "\n",
    "Instructions\n",
    "Calculate the y-intercept that you would need to predict the \"quality\" column (y) using the \"density\" column (x).\n",
    "Assign the result to intercept_density."
   ]
  },
  {
   "cell_type": "code",
   "execution_count": null,
   "metadata": {
    "collapsed": true
   },
   "outputs": [],
   "source": [
    "from numpy import cov\n",
    "\n",
    "# This function will take in two columns of data, and return the slope of the linear regression line.\n",
    "def calc_slope(x, y):\n",
    "    return cov(x, y)[0, 1] / x.var()"
   ]
  },
  {
   "cell_type": "raw",
   "metadata": {},
   "source": [
    "6. Making predictions\n",
    "\n",
    "Now that we've computed our slope and our intercept, we can make predictions about the y-values from the x-values.\n",
    "\n",
    "In order to do this, we go back to our original formula: \n",
    ", and just plug in the values for \n",
    " and \n",
    ".\n",
    "\n",
    "We can then compute predicted y-values for any x-value. This lets us make predictions about the quality of x-values that we've never seen. For example, a wine with a density of .98 isn't in our dataset, but we can make a prediction about what quality a reviewer would assign to a wine with this density.\n",
    "\n",
    "Depending on how correlated the predictor and the value being predicted are, the predictions may be good or bad.\n",
    "\n",
    "Let's look at making predictions now, and we'll move on to figuring out how good they are.\n",
    "\n",
    "Instructions\n",
    "Write a function to compute the predicted y-value from a given x-value.\n",
    "Use the .apply() method on the \"density\" column to apply the function to each item in the column. This will compute all the predicted y-values.\n",
    "Assign the result to predicted_quality."
   ]
  },
  {
   "cell_type": "code",
   "execution_count": null,
   "metadata": {
    "collapsed": true
   },
   "outputs": [],
   "source": [
    "from numpy import cov\n",
    "\n",
    "def calc_slope(x, y):\n",
    "    return cov(x, y)[0, 1] / x.var()\n",
    "\n",
    "# Calculate the intercept given the x column, y column, and the slope\n",
    "def calc_intercept(x, y, slope):\n",
    "    return y.mean() - (slope * x.mean())"
   ]
  },
  {
   "cell_type": "raw",
   "metadata": {},
   "source": [
    "7. Finding error\n",
    "\n",
    "Now that we know how to make a regression line manually, let's look at an easier way to do it, using a function from scipy.\n",
    "\n",
    "The linregress function makes it simple to do linear regression.\n",
    "\n",
    "Now that we know a simpler way to do linear regression, let's look at how to figure out if our regression is good or bad.\n",
    "\n",
    "We can plot out our line and our actual values, and see how far apart they are on the y-axis.\n",
    "\n",
    "We can also compute the distance between each prediction and the actual value -- these distances are called residuals.\n",
    "\n",
    "If we add up the sum of the squared residuals, we can get a good error estimate for our line.\n",
    "\n",
    "We have to add the squared residuals, because just like differences from the mean, the residuals add to 0 if they aren't squared.\n",
    "\n",
    "To put it in math terms, the sum of squared residuals is: \n",
    "\n",
    "The variable\n",
    "\n",
    "\n",
    "\n",
    "is the predicted y value at position i.\n",
    "\n",
    "Instructions\n",
    "Using the given slope and intercept, calculate the predicted y values.\n",
    "Subtract each predicted y value from the corresponding actual y value, square the difference, and add all the differences together.\n",
    "This will give you the sum of squared residuals. Assign this value to rss."
   ]
  },
  {
   "cell_type": "code",
   "execution_count": null,
   "metadata": {
    "collapsed": true
   },
   "outputs": [],
   "source": [
    "from scipy.stats import linregress\n",
    "\n",
    "# We've seen the r_value before -- we'll get to what p_value and stderr_slope are soon -- for now, don't worry about them.\n",
    "slope, intercept, r_value, p_value, stderr_slope = linregress(wine_quality[\"density\"], wine_quality[\"quality\"])\n",
    "\n",
    "# As you can see, these are the same values we calculated (except for slight rounding differences)\n",
    "print(slope)\n",
    "print(intercept)"
   ]
  },
  {
   "cell_type": "raw",
   "metadata": {},
   "source": [
    "8. Standard error\n",
    "\n",
    "From the sum of squared residuals, we can find the standard error. The standard error is similar to the standard deviation, but it tries to make an estimate for the whole population of y-values -- even the ones we haven't seen yet that we may want to predict in the future.\n",
    "\n",
    "The standard error lets us quickly determine how good or bad a linear model is at prediction.\n",
    "\n",
    "The equation for standard error is \n",
    ".\n",
    "\n",
    "You take the sum of squared residuals, divide by the number of y-points minus two, and then take the square root.\n",
    "\n",
    "You might be wondering about why 2 is subtracted -- this is due to differences between the whole population and a sample. This will be explained in more depth later on.\n",
    "\n",
    "Instructions\n",
    "Calculate the standard error using the above formula.\n",
    "Calculate what proportion of actual y values are within 1 standard error of the predicted y value. Assign the result to within_one.\n",
    "Calculate what proportion of actual y values are within 2 standard errors of the predicted y value. Assign the result to within_two.\n",
    "Calculate what proportion of actual y values are within 3 standard errors of the predicted y value. Assign the result to within_three.\n",
    "Assume that \"within\" means \"up to and including\", so be sure to count values that are exactly 1, 2, or 3 standard errors away."
   ]
  },
  {
   "cell_type": "code",
   "execution_count": null,
   "metadata": {
    "collapsed": true
   },
   "outputs": [],
   "source": [
    "from scipy.stats import linregress\n",
    "import numpy as np\n",
    "\n",
    "# We can do our linear regression\n",
    "# Sadly, the stderr_slope isn't the standard error, but it is the standard error of the slope fitting only\n",
    "# We'll need to calculate the standard error of the equation ourselves\n",
    "slope, intercept, r_value, p_value, stderr_slope = linregress(wine_quality[\"density\"], wine_quality[\"quality\"])\n",
    "\n",
    "predicted_y = np.asarray([slope * x + intercept for x in wine_quality[\"density\"]])\n",
    "residuals = (wine_quality[\"quality\"] - predicted_y) ** 2\n",
    "rss = sum(residuals)"
   ]
  }
 ],
 "metadata": {
  "kernelspec": {
   "display_name": "Python 2",
   "language": "python",
   "name": "python2"
  },
  "language_info": {
   "codemirror_mode": {
    "name": "ipython",
    "version": 2
   },
   "file_extension": ".py",
   "mimetype": "text/x-python",
   "name": "python",
   "nbconvert_exporter": "python",
   "pygments_lexer": "ipython2",
   "version": "2.7.14"
  }
 },
 "nbformat": 4,
 "nbformat_minor": 2
}
