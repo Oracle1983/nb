{
 "cells": [
  {
   "cell_type": "markdown",
   "metadata": {},
   "source": [
    "# Step1 Python Programming (Intermediate) : Error Handling"
   ]
  },
  {
   "cell_type": "raw",
   "metadata": {},
   "source": [
    "1. The Dataset\n",
    "\n",
    "In this mission, we'll be working with legislators.csv, which records information on every historical member of the U.S. Congress. Here's a preview of the dataset:\n",
    "\n",
    "last_name,first_name,birthday,gender,type,state,party\n",
    "Bassett,Richard,1745-04-02,M,sen,DE,Anti-Administration\n",
    "Bland,Theodorick,1742-03-21,,rep,VA,\n",
    "Burke,Aedanus,1743-06-16,,rep,SC,\n",
    "Carroll,Daniel,1730-07-22,M,rep,MD,\n",
    "The file includes these columns:\n",
    "\n",
    "last_name -- the legislator's last name\n",
    "first_name -- the legislator's first name\n",
    "birthday -- the legislator's birthday\n",
    "gender -- the legislator's gender\n",
    "type -- the chamber in which the legislator served - either Senate (sen) or House of Representatives (rep)\n",
    "state -- the state the legislator represents\n",
    "party -- the legislator's party affiliation\n",
    "As you can see from the data extract, some rows contain missing values for some columns. For example, the gender and party columns are missing in the second row after the header row. Missing data can cause errors, so it needs to be dealt with. In this mission, we'll explore some of the errors that occur when we ignore missing values and how to handle them.\n",
    "\n",
    "As we learn, we'll work on finding the most common names for U.S. legislators. We'll lay the groundwork in this mission, and bring it all together in the next one."
   ]
  },
  {
   "cell_type": "raw",
   "metadata": {},
   "source": [
    "2. Sets\n",
    "\n",
    "When exploring data, it's often useful to extract the unique elements in a list. For example, this list has duplicate values:\n",
    "\n",
    "[\"Dog\", \"Cat\", \"Hippo\", \"Dog\", \"Cat\", \"Dog\", \"Dog\", \"Cat\"]\n",
    "Extracting the unique elements will give us:\n",
    "\n",
    "[\"Dog\", \"Cat\", \"Hippo\"]\n",
    "Simplifying lists in this way can help you find unexpected values.\n",
    "\n",
    "The result of this conversion is a set - a data type where each element is unique. A set behaves very similarly to a list. However, if you add an element to a set that it already contains, the set will ignore it. Also, the items in a set are unordered, while each item in a list has an index.\n",
    "\n",
    "You can create a set with the set() function. Simply pass a list into the function, and the function will convert it:\n",
    "\n",
    "unique_animals = set([\"Dog\", \"Cat\", \"Hippo\", \"Dog\", \"Cat\", \"Dog\", \"Dog\", \"Cat\"])\n",
    "print(unique_animals)\n",
    "We'll get {'Hippo', 'Cat', 'Dog'} as a result. Note that the interpreter encloses Sets in curly braces when it prints them. Because Sets don't have indexes, the items in a set may display in a different order each time you print it.\n",
    "\n",
    "You can add items to a set using the add() method:\n",
    "\n",
    "unique_animals.add(\"Tiger\")\n",
    "Finally, you can remove items from a set with the remove() method:\n",
    "\n",
    "unique_animals.remove(\"Dog\")\n",
    "If we want to convert a set to a list, we can use the list() method:\n",
    "\n",
    "list(unique_animals)\n",
    "\n",
    "Instructions\n",
    "We've read legislators.csv into the variable legislators, which is a list of lists. Extract the gender column from legislators and assign it to the variable gender.\n",
    "Create an empty list named gender.\n",
    "Loop over each item in legislators.\n",
    "Append the fourth element in the item to gender.\n",
    "Convert gender to a set.\n",
    "Print out gender and see what the unique values are."
   ]
  },
  {
   "cell_type": "code",
   "execution_count": null,
   "metadata": {
    "collapsed": true
   },
   "outputs": [],
   "source": [
    "gender = []\n",
    "\n",
    "for row in legislators:\n",
    "    gender.append(row[3])\n",
    "    \n",
    "gender = set(gender)\n",
    "print(gender)"
   ]
  },
  {
   "cell_type": "raw",
   "metadata": {},
   "source": [
    "3. Exploring the Dataset\n",
    "\n",
    "When you have a fresh dataset, it's always a good idea to look for any patterns, such as:\n",
    "\n",
    "Missing data\n",
    "Some files contain empty fields. Others may use a string like N/A to indicate missing values.\n",
    "Values that don't make intuitive sense\n",
    "A legislator with a birthday in 2050, for example, would indicate a problem with the data.\n",
    "Recurring themes\n",
    "One theme in this dataset is that the overwhelming majority of legislators are male.\n",
    "Let's take a closer look at a few columns to see if we can identify any patterns.\n",
    "\n",
    "Instructions\n",
    "Extract the party column from legislators and convert it to a set. Assign the result to party.\n",
    "Print out party and inspect the values.\n",
    "Print out legislators and inspect the data."
   ]
  },
  {
   "cell_type": "code",
   "execution_count": null,
   "metadata": {
    "collapsed": true
   },
   "outputs": [],
   "source": [
    "party = []\n",
    "for row in legislators:\n",
    "    party.append(row[6])\n",
    "\n",
    "party = set(party)\n",
    "print(party)\n",
    "print(legislators)"
   ]
  },
  {
   "cell_type": "raw",
   "metadata": {},
   "source": [
    "4. Missing Values\n",
    "\n",
    "You may have noticed that the set representations of the gender and party columns on the previous two screens contained an empty string (''). This indicates that one or more of the rows in the data have missing values in those columns. Missing values are very common in real world data analysis, since the people compiling the datasets often don't have full information.\n",
    "\n",
    "You can use one of the following strategies to address missing data:\n",
    "\n",
    "Remove any rows that contain missing data.\n",
    "Populate the empty fields with a specified value.\n",
    "Populate the empty fields with a calculated value.\n",
    "Use analysis techniques that work with missing data.\n",
    "We'll work with missing data in more depth later on, but for now, we'll focus on populating empty fields with a specified value.\n",
    "\n",
    "Here's how we could replace any missing values in the party column with the string No Party:\n",
    "\n",
    "rows = [\n",
    "    [\"Bassett\", \"Richard\", \"1745-04-02\", \"M\", \"sen\", \"DE\", \"Anti-Administration\"],\n",
    "    [\"Bland\", \"Theodorick\", \"1742-03-21\", \"\", \"rep\", \"VA\", \"\"]\n",
    "]\n",
    "for row in rows:\n",
    "    if row[6] == \"\":\n",
    "        row[6] = \"No Party\"\n",
    "Step by step, we:\n",
    "\n",
    "Loop through each row in rows.\n",
    "Check whether the party column (index 6) has a missing value.\n",
    "If so, replace it with the string No Party.\n",
    "Next, we'll populate the empty fields in the gender column. Most U.S. legislators have historically been men (although this is changing), so we'll replace any missing values with the string M.\n",
    "\n",
    "Instructions\n",
    "Replace any missing values in the gender column of legislators with the string M.\n",
    "When you're done, the gender column of legislators should only contain the values F and M."
   ]
  },
  {
   "cell_type": "code",
   "execution_count": null,
   "metadata": {
    "collapsed": true
   },
   "outputs": [],
   "source": [
    "for row in legislators:\n",
    "    if row[3] == \"\":\n",
    "        row[3] = 'M'"
   ]
  },
  {
   "cell_type": "raw",
   "metadata": {},
   "source": [
    "5. Parsing Birth Years\n",
    "\n",
    "While we're looking for the most common names of U.S. legislators, the year of birth could also be of interest. For example, we could use that field to identify historical naming trends, and explore how popular names have changed from 1820 to today.\n",
    "\n",
    "As you may have noticed, the birthday column has the format 1820-01-02, which is hard to work with. However, it's common to reformat values to simplify them. In this case, we can split the date into its component parts:\n",
    "\n",
    "date = \"1820-01-02\"\n",
    "parts = date.split(\"-\")\n",
    "print(parts)\n",
    "This will create a list [\"1820\", \"01\", \"02\"]. The first item in the list is the year the legislator was born, the second is the month, and the last is the day.\n",
    "\n",
    "Instructions\n",
    "Create an empty list named birth_years.\n",
    "Loop through each item in legislators.\n",
    "Split the value in the birthday column on the - character."
   ]
  },
  {
   "cell_type": "code",
   "execution_count": null,
   "metadata": {
    "collapsed": true
   },
   "outputs": [],
   "source": [
    "birth_years = []\n",
    "\n",
    "for row in legislators:\n",
    "    parts = row[2].split(\"-\")\n",
    "    birth_years.append(parts[0])"
   ]
  },
  {
   "cell_type": "raw",
   "metadata": {},
   "source": [
    "6. Try/except Blocks\n",
    "\n",
    "Converting a column to a different data type is a common operation in data analysis. For example, we just extracted the year on the previous screen, but it's in string form. To find the average year in which legislators were born, we'll need to convert the data to integers first. We can perform this conversion with the int() function. The only challenge is that the year column has missing values. If we try to convert a missing value, we'll get an error:\n",
    "\n",
    "int('')\n",
    "The code above will cause a ValueError, because an empty string can't be converted to an integer.\n",
    "\n",
    "Not all errors should halt execution, though. Sometimes we expect a certain type of error, and want to handle it in a specific way that allows the code to complete. We can manage errors with something known as a try/except block. If you surround the code that causes an error with a try/except block, the error will be handled, and the code will continue to run:\n",
    "\n",
    "try:\n",
    "    int('')\n",
    "except Exception:\n",
    "    print(\"There was an error\")\n",
    "In the example above, the Python interpreter will try to run int(''), and generate a ValueError. Instead of stopping the code from executing, it will be handled by the except statement, which will print the message There was an error. The Python interpreter will continue to run any lines of code that come after the except statement.\n",
    "\n",
    "Instructions\n",
    "Convert the string hello to a float with the float() function.\n",
    "Wrap the code that does the conversion in a try/except block.\n",
    "In the except statement, print out Error converting to float.."
   ]
  },
  {
   "cell_type": "code",
   "execution_count": null,
   "metadata": {
    "collapsed": true
   },
   "outputs": [],
   "source": [
    "try:\n",
    "    float('hello')\n",
    "except:\n",
    "    print('Error converting to float.')"
   ]
  },
  {
   "cell_type": "raw",
   "metadata": {},
   "source": [
    "7. Exception Instances\n",
    "\n",
    "When the Python interpreter generates an exception, it actually creates an instance of the Exception class. This class has certain properties that help us debug the error. We can access the instance of the Exception class in the except statement body:\n",
    "\n",
    "try:\n",
    "    int('')\n",
    "except Exception as exc:\n",
    "    print(type(exc))\n",
    "In the example above, we use the as statement to assign the instance of the Exception class to the variable exc. We can then access the variable in the except statement body. Printing type(exc) will display the type of Exception that occured in the try statement body.\n",
    "\n",
    "We can also convert the Exception class to a string and print out the error message:\n",
    "\n",
    "try:\n",
    "    int('')\n",
    "except Exception as exc:\n",
    "    print(str(exc))\n",
    "This will print a message that will help us debug the error.\n",
    "\n",
    "Instructions\n",
    "Write a statement that attempts to convert an empty string to an integer, and wrap it in a try/except block.\n",
    "Capture the Exception instance.\n",
    "Print the type of the Exception instance.\n",
    "Convert the Exception instance to a string and print it out."
   ]
  },
  {
   "cell_type": "code",
   "execution_count": null,
   "metadata": {
    "collapsed": true
   },
   "outputs": [],
   "source": [
    "try:\n",
    "    int(\"\")\n",
    "except Exception as exc:\n",
    "    print(type(exc))\n",
    "    print(str(exc))"
   ]
  },
  {
   "cell_type": "raw",
   "metadata": {},
   "source": [
    "8. The Pass Keyword\n",
    "\n",
    "On the previous screen, we printed a message each time an error occurred:\n",
    "\n",
    "try:\n",
    "    int('')\n",
    "except Exception:\n",
    "    print(\"There was an error\")\n",
    "However, there are times when we don't want to do anything specific to handle errors; we just want the code to keep running. This is common when looping over a long list, and performing the same operation multiple times. In cases like this, printing lots of errors messages would be fairly annoying. For example, running the following code results in many errors:\n",
    "\n",
    "numbers = [1,2,3,4,5,6,7,8,9,10]\n",
    "for i in numbers:\n",
    "    try:\n",
    "        int('')\n",
    "    except Exception:\n",
    "        print(\"There was an error\")\n",
    "Unfortunately, we can't just leave out the print statement to avoid this, since that would cause an error:\n",
    "\n",
    "numbers = [1,2,3,4,5,6,7,8,9,10]\n",
    "for i in numbers:\n",
    "    try:\n",
    "        int('')\n",
    "    except Exception:\n",
    "That's because any Python statement that ends in a colon (:) needs to have an indented body below it. Instead, we can use the pass keyword to avoid generating an error:\n",
    "\n",
    "try:\n",
    "    int('')\n",
    "except Exception:\n",
    "    pass\n",
    "While the pass keyword doesn't actually do anything, it's a valid statement body. It offers a solution when we don't want an error to stop code execution, but also don't want to do anything in the except statement body.\n",
    "\n",
    "Instructions\n",
    "Loop through each element in birth_years.\n",
    "Assign the element to year.\n",
    "Try to convert year to an integer using the int() function.\n",
    "Wrap the conversion in a try/except block.\n",
    "Use the pass keyword in the except statement body.\n",
    "Append year to converted_years."
   ]
  },
  {
   "cell_type": "code",
   "execution_count": null,
   "metadata": {
    "collapsed": true
   },
   "outputs": [],
   "source": [
    "converted_years = []\n",
    "\n",
    "for year in birth_years:\n",
    "    try:\n",
    "        year = int(year)\n",
    "    except Exception:\n",
    "        pass\n",
    "    converted_years.append(year)"
   ]
  },
  {
   "cell_type": "raw",
   "metadata": {},
   "source": [
    "9. Convert Birth Years to Integers\n",
    "\n",
    "Let's convert all of the birth years in legislators to integers. To change the items in a list of lists, we need to loop over the top-level list (items):\n",
    "\n",
    "items = [          \n",
    "    [1, \"1\", 2],    \n",
    "    [2, \"\", 3],\n",
    "    [5, \"5\", 3]\n",
    "]\n",
    "​\n",
    "for item in items:\n",
    "    item[1] = int(item[1])\n",
    "The above code will modify the second element in each item (embedded list). In other words, it will convert all of the values in the second column of items to integers.\n",
    "\n",
    "Instructions\n",
    "Loop through each row in legislators.\n",
    "Parse the birth year from the birthday column.\n",
    "Convert the birth year to an integer, and assign it to birth_year.\n",
    "Wrap this code in a try/except block.\n",
    "If there's an exception, assign 0 to birth_year.\n",
    "Append birth_year to the row with the append() method.\n",
    "When finished, legislators should have an extra column for birth year."
   ]
  },
  {
   "cell_type": "code",
   "execution_count": null,
   "metadata": {
    "collapsed": true
   },
   "outputs": [],
   "source": [
    "for row in legislators:\n",
    "    birthdate = row[2]\n",
    "    birth_year = birthdate.split('-')[0]\n",
    "    try:    \n",
    "        birth_year = int(birth_year)\n",
    "    except Exception:\n",
    "        birth_year = 0\n",
    "    row.append(birth_year)"
   ]
  },
  {
   "cell_type": "raw",
   "metadata": {},
   "source": [
    "10. Fill in Years Without a Value\n",
    "\n",
    "We finished parsing the birth years to integers, but now we have several birth years with the value 0. Here are the first few items in the birth_year column of legislators:\n",
    "\n",
    "[1745,\n",
    " 1742,\n",
    " 1743,\n",
    " 1730,\n",
    " 1739,\n",
    " 0,\n",
    " 1738,\n",
    " 1745,\n",
    " 1748,\n",
    " ...\n",
    "]\n",
    "While exploring the dataset, you may have noticed that the legislators appear in roughly chronological order. We can use this knowledge to populate the missing values intelligently.\n",
    "\n",
    "Earlier, we replaced missing values with a fixed value M. This time, because the values generally appear in chronological order, we can loop through each year and replace any 0 values with the values from the previous rows.\n",
    "\n",
    "By doing this, we'll make sure each legislator without a birth year is assigned one that's relatively close to the actual date.\n",
    "\n",
    "Instructions\n",
    "Create a variable called last_value, and set it to 1.\n",
    "Loop through each row in legislators.\n",
    "If the year column (index 7) equals 0, replace it with last_value.\n",
    "Assign the value of the year column (index 7) to last_value.\n",
    "After the code runs, each row previously containing 0 for birth_year column will now instead have the previous row's value for the same column."
   ]
  },
  {
   "cell_type": "code",
   "execution_count": null,
   "metadata": {
    "collapsed": true
   },
   "outputs": [],
   "source": [
    "last_value = 1\n",
    "\n",
    "for row in legislators:\n",
    "    if row[7] == 0:\n",
    "        row[7] = last_value\n",
    "    last_value = row[7]"
   ]
  }
 ],
 "metadata": {
  "kernelspec": {
   "display_name": "Python 2",
   "language": "python",
   "name": "python2"
  },
  "language_info": {
   "codemirror_mode": {
    "name": "ipython",
    "version": 2
   },
   "file_extension": ".py",
   "mimetype": "text/x-python",
   "name": "python",
   "nbconvert_exporter": "python",
   "pygments_lexer": "ipython2",
   "version": "2.7.14"
  }
 },
 "nbformat": 4,
 "nbformat_minor": 2
}
