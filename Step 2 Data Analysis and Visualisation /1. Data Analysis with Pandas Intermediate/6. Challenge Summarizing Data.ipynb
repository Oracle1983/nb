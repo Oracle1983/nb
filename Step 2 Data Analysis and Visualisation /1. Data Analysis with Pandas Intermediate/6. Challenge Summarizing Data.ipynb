{
 "cells": [
  {
   "cell_type": "markdown",
   "metadata": {},
   "source": [
    "# Step 2 Data Analysis and Visualisation - Challenge Summarizing Data"
   ]
  },
  {
   "cell_type": "raw",
   "metadata": {},
   "source": [
    "1. How Challenges Work\n",
    "\n",
    "At Dataquest, we're huge believers in learning through doing, and we hope this shows in your learning experience. While missions focus on introducing concepts, challenges allow you to perform deliberate practice by completing structured problems. You can read more about deliberate practice here and here. Challenges will feel similar to missions, but with little instructional material and a greater focus on exercises.\n",
    "\n",
    "If you have questions or run into issues, head over to the Dataquest forums or our Slack community."
   ]
  },
  {
   "cell_type": "raw",
   "metadata": {},
   "source": [
    "2. Introduction to the Data\n",
    "\n",
    "The American Community Survey is a U.S. Census Bureau survey that collects data on everything from housing affordability to industry employment rates. For this challenge, you'll be using the data that the team at FiveThirtyEight derived from the 2010-2012 American Community Surveys. FiveThirtyEight cleaned the data set and made it available in a Github repository. [https://github.com/fivethirtyeight/data/tree/master/college-majors]\n",
    "\n",
    "Here's a quick overview of the files we'll be working with:\n",
    "\n",
    "all-ages.csv - Employment data by major for all ages\n",
    "recent-grads.csv - Employment data by major for recent college graduates only\n",
    "Here are descriptions for a few of the columns (out of 21 total columns):\n",
    "\n",
    "Rank - The major's numerical rank, by post-graduation median earnings\n",
    "Major_code - The major's numerical code\n",
    "Major - The major's description\n",
    "Major_category - The major's category\n",
    "Total - The total number of people who studied the major\n",
    "Sample_size - Sample size (unweighted) of full-time, year-round students\n",
    "Men - The number of men who studied the major\n",
    "Women - The number of women who studied the major\n",
    "ShareWomen - The share of women (from 0 to 1) who studied the major\n",
    "Employed - The number of people who studied the major and obtained a job after graduating\n",
    "Low_wage_jobs - Number in low-wage service jobs\n",
    "Here are the first few rows and columns in recent-grads.csv. The data set all-ages.csv has the same structure, but with different values for some of the columns:\n",
    "\n",
    "Rank\tMajor_code\tMajor\tMajor_category\tTotal\tSample_size\tMen\tWomen\tShareWomen\tEmployed\tLow_wage_jobs\n",
    "1\t2419\tPETROLEUM ENGINEERING\tEngineering\t2339\t36\t2057\t282\t0.120564\t1976\t193\n",
    "2\t2416\tMINING AND MINERAL ENGINEERING\tEngineering\t756\t7\t679\t77\t0.101852\t640\t50\n",
    "3\t2415\tMETALLURGICAL ENGINEERING\tEngineering\t856\t3\t725\t131\t0.153037\t648\t0\n",
    "4\t2417\tNAVAL ARCHITECTURE AND MARINE ENGINEERING\tEngineering\t1258\t16\t1123\t135\t0.107313\t758\t0\n",
    "5\t2405\tCHEMICAL ENGINEERING\tEngineering\t32260\t289\t21239\t11021\t0.341631\t25694\t972\n",
    "By completing this challenge, you'll test your comfort level with using pandas to manipulate DataFrames and calculate summary statistics. First, we'll need to read the data set into pandas.\n",
    "\n",
    "Instructions\n",
    "Read all-ages.csv into a DataFrame object, and assign it to all_ages.\n",
    "Read recent-grads.csv into a DataFrame object, and assign it to recent_grads.\n",
    "Display the first five rows of all_ages and recent_grads."
   ]
  },
  {
   "cell_type": "code",
   "execution_count": 1,
   "metadata": {
    "collapsed": true
   },
   "outputs": [],
   "source": [
    "import pandas as pd\n",
    "\n",
    "all_ages = pd.read_csv(\"all-ages.csv\")\n",
    "recent_grads = pd.read_csv('recent-grads.csv')\n",
    "all_ages.head(5)\n",
    "recent_grads.head(5)"
   ]
  },
  {
   "cell_type": "raw",
   "metadata": {},
   "source": [
    "3. Summarizing Major Categories\n",
    "\n",
    "Both of these data sets group the various majors into categories in the Major_category column. Let's start by understanding the number of people in each Major_category for both data sets.\n",
    "\n",
    "To do so, you'll need to:\n",
    "\n",
    "Return the unique values in Major_category.\n",
    "Use the Series.unique() [http://pandas.pydata.org/pandas-docs/stable/generated/pandas.Series.unique.html] method to return the unique values in a column, like this: recent_grads['Major_category'].unique()\n",
    "For each unique value:\n",
    "Return all of the rows where Major_category equals that unique value.\n",
    "Calculate the total number of students those rows represent (using the Total column).\n",
    "Use the Series.sum() to calculate the sum of the values in a column. recent_grads['Total'].sum() returns the sum of the values in the Total column.\n",
    "Keep track of the totals by adding the Major_category value and the total number of students to a dictionary.\n",
    "\n",
    "Instructions\n",
    "Use the Total column to calculate the number of people who fall under each Major_category in each data set.\n",
    "Store the result as a separate dictionary for each data set.\n",
    "The key for the dictionary should be the Major_category, and the value should be the total count.\n",
    "For the counts from all_ages, store the results as a dictionary named aa_cat_counts.\n",
    "For the counts from recent_grads, store the results as a dictionary named rg_cat_counts.\n",
    "Recall that we format a dictionary like this:\n",
    "{ \n",
    "    \"Engineering\": 500,\n",
    "    \"Business\": 500\n",
    "    ...\n",
    "}"
   ]
  },
  {
   "cell_type": "code",
   "execution_count": null,
   "metadata": {
    "collapsed": true
   },
   "outputs": [],
   "source": [
    "# Unique values in Major_category column.\n",
    "print(all_ages['Major_category'].unique())\n",
    "\n",
    "aa_cat_counts = dict()\n",
    "rg_cat_counts = dict()\n",
    "\n",
    "\n",
    "unique_rg = recent_grads['Major_category'].unique()\n",
    "\n",
    "for value in unique_rg:\n",
    "    is_value = recent_grads['Major_category'] == value\n",
    "    rows = recent_grads[is_value]\n",
    "    total = rows['Total'].sum()\n",
    "    rg_cat_counts[value] = total\n",
    "    \n",
    "unique_aa = all_ages['Major_category'].unique()\n",
    "\n",
    "for value in unique_aa:\n",
    "    is_value = all_ages['Major_category'] == value\n",
    "    rows = all_ages[is_value]\n",
    "    total = rows['Total'].sum()\n",
    "    aa_cat_counts[value] = total"
   ]
  },
  {
   "cell_type": "raw",
   "metadata": {},
   "source": [
    "4. Low-Wage Job Rates\n",
    "\n",
    "The press likes to talk about the number of college graduates working low-pay, unskilled jobs because they can't find better ones. As a data person, you should be skeptical of any broad claims, and analyze relevant data to obtain a more nuanced view.\n",
    "\n",
    "Let's run some basic calculations to explore that idea further.\n",
    "\n",
    "Instructions\n",
    "Use the Low_wage_jobs and Total columns to calculate the proportion of recent college graduates that worked low wage jobs.\n",
    "Recall that you can use the Series.sum() method to return the sum of the values in a column.\n",
    "Store the resulting float as low_wage_proportion, and display the value with the print() function."
   ]
  },
  {
   "cell_type": "code",
   "execution_count": null,
   "metadata": {
    "collapsed": true
   },
   "outputs": [],
   "source": [
    "low_wage_proportion = recent_grads['Low_wage_jobs'].sum() / recent_grads['Total'].sum()\n",
    "print(low_wage_proportion)"
   ]
  },
  {
   "cell_type": "raw",
   "metadata": {},
   "source": [
    "5. Comparing Data Sets\n",
    "\n",
    "It looks like only about 9.85%, equivalent to a proportion of 0.0985, of graduates took on a low wage job after finishing college.\n",
    "\n",
    "Both the all_ages and recent_grads data sets have 173 rows, corresponding to the 173 college major codes. This enables us to do some comparisons between the two data sets, and perform some initial calculations to see how the statistics for recent college graduates compare with those for the entire population.\n",
    "\n",
    "Next, let's calculate the number of majors where recent graduates did better than the overall population.\n",
    "\n",
    "Instructions\n",
    "Use a for loop to iterate over majors.\n",
    "For each major, use Boolean filtering to find the corresponding row in both DataFrames.\n",
    "Compare the values for Unemployment_rate to see which DataFrame has a lower value.\n",
    "Increment rg_lower_count if the value for Unemployment_rate is lower for recent_grads than it is for all_ages.\n",
    "Display rg_lower_count with the print() function."
   ]
  },
  {
   "cell_type": "code",
   "execution_count": null,
   "metadata": {
    "collapsed": true
   },
   "outputs": [],
   "source": [
    "# All majors, common to both DataFrames\n",
    "majors = recent_grads['Major'].unique()\n",
    "rg_lower_count = 0\n",
    "\n",
    "for major in majors:\n",
    "    rg_matches = recent_grads['Major'] == major\n",
    "    aa_matches = all_ages['Major'] == major\n",
    "    data_rg = recent_grads[rg_matches].iloc[0]['Unemployment_rate']\n",
    "    data_aa = all_ages[aa_matches].iloc[0]['Unemployment_rate']\n",
    "   \n",
    "    if data_rg < data_aa:\n",
    "        rg_lower_count += 1\n",
    "        \n",
    "print(rg_lower_count)"
   ]
  },
  {
   "cell_type": "raw",
   "metadata": {},
   "source": [
    "6. Next Steps\n",
    "\n",
    "It appears that less recent graduates who studied 43 of the 173 majors ended up having lower unemployment rates than the general population.\n",
    "\n",
    "In the next few missions, we'll dive further into the two key data structures in pandas: Series and DataFrame objects.                       "
   ]
  }
 ],
 "metadata": {
  "kernelspec": {
   "display_name": "Python 2",
   "language": "python",
   "name": "python2"
  },
  "language_info": {
   "codemirror_mode": {
    "name": "ipython",
    "version": 2
   },
   "file_extension": ".py",
   "mimetype": "text/x-python",
   "name": "python",
   "nbconvert_exporter": "python",
   "pygments_lexer": "ipython2",
   "version": "2.7.14"
  }
 },
 "nbformat": 4,
 "nbformat_minor": 2
}
