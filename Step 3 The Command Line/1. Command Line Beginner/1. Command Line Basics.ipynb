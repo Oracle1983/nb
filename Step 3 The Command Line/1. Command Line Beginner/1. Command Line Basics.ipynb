{
 "cells": [
  {
   "cell_type": "markdown",
   "metadata": {},
   "source": [
    "# Step 3 The Command Line - Command Line Basics"
   ]
  },
  {
   "cell_type": "raw",
   "metadata": {},
   "source": [
    "1. Introduction\n",
    "\n",
    "Most people interact with a computer through a graphical user interface (GUI), a visual interface that looks like this:\n",
    "\n",
    "\n",
    "This is a screenshot of the desktop from a Macintosh computer. There's an icon for each program, and we can click on one to launch the corresponding program. Before GUIs came along, the most common way to interact with a computer was through a command line interface, which we also refer to as a shell or terminal (we'll use these terms interchangeably in this mission). A command line interface lets us switch between folders and launch programs by typing commands. A command line interface is often faster and more powerful than a GUI for programming tasks.\n",
    "\n",
    "Virtually all programmers and data scientists make extensive use of the terminal, and knowing how to interact with it is a critical skill. Every operating system has a slightly different terminal with different commands and syntax. Because Linux and OS X are both based on an older operating system called UNIX, they both have very similar terminals. Windows isn't based on UNIX, so it has different commands. It's more common to use Linux and OS X for data science work, so our terminal missions will use Linux. In particular, we'll be running Ubuntu 14.04.\n",
    "\n",
    "To the right is a terminal interface. The dollar sign is called the command prompt. Anything we type to the right of it is a shell command that will execute immediately when we press the Enter key.\n",
    "\n",
    "Instructions\n",
    "Type pwd into the terminal to the right, and press the Enter key on your keyboard.\n",
    "This command returns the current directory (folder you're located in). It's an acronym that stands for print working directory."
   ]
  },
  {
   "cell_type": "code",
   "execution_count": 1,
   "metadata": {},
   "outputs": [
    {
     "name": "stdout",
     "output_type": "stream",
     "text": [
      "/Users/kelvintham\r\n"
     ]
    }
   ],
   "source": [
    "! pwd"
   ]
  },
  {
   "cell_type": "raw",
   "metadata": {},
   "source": [
    "2. Overview of the Filesystem\n",
    "\n",
    "When we typed pwd on the last screen, the terminal printed out the name of the folder we were in. The terminal was designed to navigate and switch between directories. You've probably browsed through directories using a GUI like Explorer in Windows, or Finder in OS X. The terminal lets us do the same thing, except that we type a command instead of clicking on a folder name. Once you learn the terminal, you'll see that using it to navigate through directories is much faster than using a GUI.\n",
    "\n",
    "Computers store files in directories, or folders. Each directory can have subdirectories or files within it. Right now, we're in the dq folder, which is a subfolder of the home folder. That means our current folder path is /home/dq. home is a folder that exists at the root of the filesystem; consider it the \"master\" or \"original\" folder. We indicate that dq is in the home folder by separating the two folder names with a forward slash -- home/dq. We indicate that home is at the root of the filesystem with the leading slash -- /home.\n",
    "\n",
    "The root directory, or /, is a special directory that will navigate to the root of the filesystem. We can think of our filesystem as a tree that looks like this:\n",
    "\n",
    "/\n",
    "|__home\n",
    "    |\n",
    "    |__dq\n",
    "home is a folder at the root of the filesystem, and dq is a folder inside the home folder.\n",
    "\n",
    "We can use the cd command to switch directories. For example, we can type cd / to switch to the root directory.\n",
    "\n",
    "Instructions\n",
    "Type cd / to switch to the root directory"
   ]
  },
  {
   "cell_type": "code",
   "execution_count": 2,
   "metadata": {
    "collapsed": true
   },
   "outputs": [],
   "source": [
    "! cd /"
   ]
  },
  {
   "cell_type": "raw",
   "metadata": {},
   "source": [
    "3. Absolute vs. Relative Paths\n",
    "\n",
    "When we typed the forward slash (/), the terminal switched to the root directory. Any path that starts with / is an absolute path that's written in relation to the root of the filesystem. No matter what folder we're in, typing cd /home/dq will switch to the dq folder, inside the home folder, which is at the root of the filesystem.\n",
    "\n",
    "On the other hand, relative paths are relative to the directory we're currently in. These don't start with a forward slash. If we're in the home folder, for example, typing cd dq will move us to /home/dq. If we're in the root (/) of the filesystem, however, typing cd dq will cause an error because the shell thinks we're asking for a dq subfolder within the current directory (which doesn't exist), rather than the one in the home folder.\n",
    "\n",
    "Instructions\n",
    "Type cd home to move into the home folder.\n",
    "This is a relative path -- not an absolute path.\n",
    "This works because the home folder is located in the root of the filesystem, and you're currently in the root folder."
   ]
  },
  {
   "cell_type": "code",
   "execution_count": 3,
   "metadata": {},
   "outputs": [
    {
     "name": "stdout",
     "output_type": "stream",
     "text": [
      "/bin/sh: line 0: cd: home: No such file or directory\r\n"
     ]
    }
   ],
   "source": [
    "! cd home"
   ]
  },
  {
   "cell_type": "raw",
   "metadata": {},
   "source": [
    "4. Getting Back to the dq Folder\n",
    "\n",
    "Now that we're in the home folder, let's navigate back to the /home/dq folder.\n",
    "\n",
    "Instructions\n",
    "Type cd dq to go to the /home/dq folder."
   ]
  },
  {
   "cell_type": "raw",
   "metadata": {},
   "source": [
    "5. Understanding Users\n",
    "\n",
    "Most popular operating systems have a concept of users. Users have certain permissions within the system, can create their own files, and run their own programs. Users can also restrict other users from accessing their files and running their programs.\n",
    "\n",
    "Right now, we're logged in as a user called dq (short for Dataquest). We can check which user we're logged in as with the whoami command.\n",
    "\n",
    "Instructions\n",
    "Type whoami to check your username."
   ]
  },
  {
   "cell_type": "code",
   "execution_count": 4,
   "metadata": {},
   "outputs": [
    {
     "name": "stdout",
     "output_type": "stream",
     "text": [
      "kelvintham\r\n"
     ]
    }
   ],
   "source": [
    "! whoami"
   ]
  },
  {
   "cell_type": "raw",
   "metadata": {},
   "source": [
    "6. The Home Directory\n",
    "\n",
    "Every user has their own home directory within /home where they can add files specific to their username. For example, the home directory for dq is at /home/dq. The tilde (~) is a shortcut for referring to the home directory. Typing cd ~ will automatically take us to the current user's home directory.\n",
    "\n",
    "Instructions\n",
    "Type cd / to switch to the root directory.\n",
    "Then, type cd ~ to switch back to the home directory for dq."
   ]
  },
  {
   "cell_type": "code",
   "execution_count": 5,
   "metadata": {
    "collapsed": true
   },
   "outputs": [],
   "source": [
    "! cd ~"
   ]
  },
  {
   "cell_type": "raw",
   "metadata": {},
   "source": [
    "7. Making a New Directory\n",
    "\n",
    "We can also create files and directories with the terminal. We'll explore how to make a directory first. We can do this with the mkdir command. We just have to type mkdir test to create a directory called test. This will also add a folder icon to the corresponding location in your GUI file browser (Explorer in Windows, or Finder in OS X).\n",
    "\n",
    "Note that rules about absolute and relative paths apply here, and in almost every command that involves paths. If we type mkdir test, the shell will make a directory called test in the current folder, because it's a relative path. If we type mkdir /home/dq/test instead, the shell will make a folder called test inside the /home/dq folder, because it's an absolute path.\n",
    "\n",
    "Instructions\n",
    "Type mkdir test to create a directory called test inside the user dqs home folder."
   ]
  },
  {
   "cell_type": "raw",
   "metadata": {},
   "source": [
    "8. Using Command Options to Modify Behavior\n",
    "\n",
    "Commands have options that can modify their behavior. We specify these options by adding them, preceded by one dash, after we invoke the command.\n",
    "\n",
    "For example, adding the -v option, or \"flag,\" after the mkdir command will turn on \"verbose\" mode, and print output when it makes the folder.\n",
    "\n",
    "Instructions\n",
    "Type mkdir -v test2 to check out the verbose option."
   ]
  },
  {
   "cell_type": "raw",
   "metadata": {},
   "source": [
    "9. Reviewing Available Command Options\n",
    "\n",
    "Most commands will let us use the --help flag to see what all of the possible options are. A flag comes after a command. When you use the --help flag, you don't need to specify a directory -- the shell will automatically know that you want to see the help contents.\n",
    "\n",
    "Instructions\n",
    "Type mkdir --help to see the help contents for the mkdir command."
   ]
  },
  {
   "cell_type": "raw",
   "metadata": {},
   "source": [
    "10. Listing the Contents of a Directory\n",
    "\n",
    "Now that we've made a couple of directories, let's see what's in our home folder. We can use the ls command to list all of the files and folders in a directory. If we pass in the -l option, it will format the list nicely as a table.\n",
    "\n",
    "Instructions\n",
    "Type ls -l to see the contents of the home folder for dq."
   ]
  },
  {
   "cell_type": "raw",
   "metadata": {},
   "source": [
    "11. Removing a Directory\n",
    "\n",
    "There are two directories, test and test2. Let's clean up the clutter by removing one of them. We can use the rmdir command to delete a directory.\n",
    "\n",
    "Instructions\n",
    "Delete the test2 directory using rmdir."
   ]
  }
 ],
 "metadata": {
  "kernelspec": {
   "display_name": "Python 2",
   "language": "python",
   "name": "python2"
  },
  "language_info": {
   "codemirror_mode": {
    "name": "ipython",
    "version": 2
   },
   "file_extension": ".py",
   "mimetype": "text/x-python",
   "name": "python",
   "nbconvert_exporter": "python",
   "pygments_lexer": "ipython2",
   "version": "2.7.14"
  }
 },
 "nbformat": 4,
 "nbformat_minor": 2
}
