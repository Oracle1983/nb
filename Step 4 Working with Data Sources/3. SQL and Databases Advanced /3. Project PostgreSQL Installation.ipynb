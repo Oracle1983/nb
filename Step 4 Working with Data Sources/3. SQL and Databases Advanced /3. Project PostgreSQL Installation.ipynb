{
 "cells": [
  {
   "cell_type": "markdown",
   "metadata": {},
   "source": [
    "# Step 4 Working with Data Sources - Project PostgreSQL Installation"
   ]
  },
  {
   "cell_type": "raw",
   "metadata": {},
   "source": [
    "1. Introduction\n",
    "\n",
    "So far, we've explored many database concepts using SQLite and PostgreSQL. In this project, we'll walk through how to install the PostgreSQL database system and the psycopg2 Python library for Windows, Mac, and Linux. We'll be focusing on installing and running PostgreSQL locally on your own machine instead of on a remote server."
   ]
  },
  {
   "cell_type": "raw",
   "metadata": {},
   "source": [
    "2. Installing PostgreSQL\n",
    "\n",
    "First things first, let's install PostgreSQL. During the setup process, you'll be asked to specify a default username and password. Select a username and password combination you'll remember since you're only installing PostgreSQL locally and don't need a highly secure combination.\n",
    "\n",
    "Also during installation, you may be asked to specify a port number. Even though PostgreSQL will be running on the same machine, other applications communciate with it through the port as if it were on a remote machine. Port number 5432 is the default for PostgreSQL.\n",
    "\n",
    "Here are the installation instructions for each operating system:\n",
    "\n",
    "Mac:\n",
    "\n",
    "Download Postgres.app [http://postgresapp.com/] here, move to the Applications folder, and double click to launch. This applications runs in the background and you'll need it to be running to connect to it from Python. By default, PostgreSQL will run on port 5432.\n",
    "Add the following line to the end of ~/.bash_profile:\n",
    "export PATH=$PATH:/Applications/Postgres.app/Contents/Versions/latest/bin\n",
    "Windows:\n",
    "\n",
    "Download the latest Windows installer [http://www.bigsql.org/postgresql/installers.jsp] here, double click the installer, and go through the installation wizard.\n",
    "When asked for a port number, use 5432.\n",
    "Linux:\n",
    "\n",
    "Read the installation directions for your specific flavor of Linux from the official documentation. [https://www.postgresql.org/download/linux/]\n",
    "If asked for a port number, use 5432.\n",
    "To test your installation, open your command line application, type psql, and you should be in the PostgreSQL shell."
   ]
  },
  {
   "cell_type": "raw",
   "metadata": {},
   "source": [
    "3. Psycopg2\n",
    "\n",
    "You can install this library using Anaconda:\n",
    "\n",
    "conda install psycopg2"
   ]
  },
  {
   "cell_type": "raw",
   "metadata": {},
   "source": [
    "4. Connecting to PostgreSQL from psycopg2\n",
    "\n",
    "Launch your Python shell and import the psycopg2 library. Then, run the following code to connect to PostgreSQL and test that everything works as expected:\n",
    "\n",
    "import psycopg2\n",
    "conn = psycopg2.connect(dbname=\"postgres\", user=\"postgres\")\n",
    "cursor = conn.cursor()\n",
    "cursor.execute(\"CREATE TABLE notes(id integer PRIMARY KEY, body text, title text)\")\n",
    "conn.close()\n",
    "If no errors were returned, then you're setup is good to go! If you run into any issues, use Google, StackOverflow, and the Dataquest member-only Slack community to get help."
   ]
  }
 ],
 "metadata": {
  "kernelspec": {
   "display_name": "Python 2",
   "language": "python",
   "name": "python2"
  },
  "language_info": {
   "codemirror_mode": {
    "name": "ipython",
    "version": 2
   },
   "file_extension": ".py",
   "mimetype": "text/x-python",
   "name": "python",
   "nbconvert_exporter": "python",
   "pygments_lexer": "ipython2",
   "version": "2.7.14"
  }
 },
 "nbformat": 4,
 "nbformat_minor": 2
}
