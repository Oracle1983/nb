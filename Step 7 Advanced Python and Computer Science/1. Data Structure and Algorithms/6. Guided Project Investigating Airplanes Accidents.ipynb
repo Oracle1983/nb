{
 "cells": [
  {
   "cell_type": "markdown",
   "metadata": {},
   "source": [
    "# Step 7 Advanced Python and Computer Science - Guided Project Investigating Airplanes Accidents"
   ]
  },
  {
   "cell_type": "raw",
   "metadata": {},
   "source": [
    "1. Introduction\n",
    "\n",
    "Accidents are an unfortunate fact of air travel. Although flying is statistically safer than driving, minor and major flying accidents occur daily. In this project, we'll work with a data set of airplane accident statistics to analyze patterns and look for any common threads.\n",
    "\n",
    "We'll be working with a data set that contains 77,282 aviation accidents that occurred in the U.S., and the metadata associated with them. The data in our AviationData.txt file comes from the National Transportation Safety Board (NTSB) [http://www.ntsb.gov/Pages/default.aspx]. You can download the file at data.gov [http://catalog.data.gov/dataset/aviation-data-and-documentation-from-the-ntsb-accident-database-system-05748/resource/4b1e95fe-91a7-4112-85fa-424d2672a906]. Here's a preview:\n",
    "\n",
    "Event Id | Investigation Type | Accident Number | Event Date | Location | Country | Latitude | Longitude | Airport Code | Airport Name | Injury Severity | Aircraft Damage | Aircraft Category | Registration Number | Make | Model | Amateur Built | Number of Engines | Engine Type | FAR Description | Schedule | Purpose of Flight | Air Carrier | Total Fatal Injuries | Total Serious Injuries | Total Minor Injuries | Total Uninjured | Weather Condition | Broad Phase of Flight | Report Status | Publication Date |\n",
    "20150908X74637 | Accident | CEN15LA402 | 09/08/2015 | Freeport, IL | United States | 42.246111 | -89.581945 | KFEP | albertus Airport | Non-Fatal | Substantial | Unknown | N24TL | CLARKE REGINALD W | DRAGONFLY MK |  |  |  | Part 91: General Aviation |  | Personal |  |  | 1 |  |  | VMC | TAKEOFF | Preliminary | 09/09/2015 |\n",
    "20150906X32704 | Accident | ERA15LA339 | 09/05/2015 | Laconia, NH | United States | 43.606389 | -71.452778 | LCI | Laconia Municipal Airport | Fatal(1) | Substantial | Weight-Shift | N2264X | EVOLUTION AIRCRAFT INC | REVO | No | 1 | Reciprocating | Part 91: General Aviation |  | Personal |  | 1 |  |  |  | VMC | MANEUVERING | Preliminary | 09/10/2015 |\n",
    "20150908X00229 | Accident | GAA15CA251 | 09/04/2015 | Hayes, SD | United States |  |  |  |  |  |  |  | N321DA | AIR TRACTOR INC | AT 402A |  |  |  |  |  |  |  |  |  |  |  |  |  | Preliminary |  |\n",
    "As we can see, the file isn't in CSV format; it separates the fields with a pipe character (|) instead. In the following exercise, you'll need to do some custom parsing to read in AviationData.txt. Each row contains data about a single aviation accident. Here are descriptions for some of the columns:\n",
    "\n",
    "Event Id - The unique id for the incident\n",
    "Investigation Type - The type of investigation the NTSB conducted\n",
    "Event Date - The date of the accident\n",
    "Location - Where the accident occurred\n",
    "Country - The country where the accident occurred\n",
    "Latitude - The latitude where the accident occurred\n",
    "Longitude - The longitude where the accident occurred\n",
    "Injury Severity - The severity of any injuries\n",
    "Aircraft Damage - The extent of the damage to the aircraft\n",
    "Aircraft Category - The type of aircraft\n",
    "Make - The make of the aircraft\n",
    "Model - The model of the aircraft\n",
    "Number of Engines - The number of engines on the plane\n",
    "Air Carrier - The carrier operating the aircraft\n",
    "Total Fatal Injuries - The number of fatal injuries\n",
    "Total Serious Injuries - The number of serious injuries\n",
    "Total Minor Injuries - The number of minor injuries\n",
    "Total Uninjured - The number of people who did not sustain injuries\n",
    "Broad Phase of Flight - The phase of flight during which the accident occurred\n",
    "\n",
    "Instructions\n",
    "Use the head and tail commands to explore AviationData.txt on the command line.\n",
    "Open the empty Python script read.py.\n",
    "In read.py, open AviationData.txt and read each line into a list.\n",
    "When you're finished, you should have a list of strings, each of which represents one line from AviationData.txt.\n",
    "Assign the result to aviation_data.\n",
    "Loop through each item in aviation_data and split it on the pipe character (|).\n",
    "After the loop completes, you should have a list of lists. Each inner list should be a single row.\n",
    "Assign the result to aviation_list.\n",
    "Create a list named lax_code.\n",
    "Search through aviation_list for LAX94LA336. This value could be in any column and in any row.\n",
    "When you find the value, append the entire row to lax_code.\n",
    "Were there any downsides to the approach you just took to search through AviationData.txt? Write some text explaining your answer."
   ]
  },
  {
   "cell_type": "raw",
   "metadata": {},
   "source": [
    "2. Linear and Log Time Algorithms\n",
    "\n",
    "The algorithm you wrote on the previous screen took exponential time. That's because it had to loop through each row first, and then each column inside that row.\n",
    "\n",
    "There are ways to make the algorithm take linear and constant time while we still scan across the whole data set, though.\n",
    "\n",
    "Instructions\n",
    "Write a linear time algorithm that searches each row in aviation_data for the string LAX94LA336.\n",
    "Try writing a log(n) time algorithm that searches AviationData.txt for the string LAX94LA336.\n",
    "What are the trade-offs between the different approaches? Write some text explaining your answer."
   ]
  },
  {
   "cell_type": "raw",
   "metadata": {},
   "source": [
    "3. Hash Tables\n",
    "\n",
    "So far, you've stored the data as a list of strings and a list of lists. You can also store the data as a list of dictionaries.\n",
    "\n",
    "Instructions\n",
    "Create an empty list and name it aviation_dict_list.\n",
    "Loop through each item in aviation_data and split it on the pipe character (|).\n",
    "Convert the split row to a dictionary. The dictionary should use the columns names as keys, and their values as its own values. Here's an example of a single item:\n",
    "{\"Event Id\": \"20150908X74637\", \"Investigation Type\": \"Accident\", ...}\n",
    "Append the result to aviation_dict_list.\n",
    "Create an empty list and name it lax_dict.\n",
    "Search through aviation_dict_list for LAX94LA336. This value could be in any key in any dictionary.\n",
    "When you find the value, append the entire dictionary to lax_dict.\n",
    "Was it harder or easier to search through a list of dictionaries than a list of lists? Write your thoughts in a text file."
   ]
  },
  {
   "cell_type": "raw",
   "metadata": {},
   "source": [
    "4. Accidents by U.S. State\n",
    "\n",
    "You now have two representations of the data - aviation_dict_list and aviation_list. In the analysis on the next few screens, feel free to choose the representation that makes the analysis the easiest.\n",
    "\n",
    "On this screen, you'll count how many accidents occurred in each U.S. state, then determine which state had the most accidents overall.\n",
    "\n",
    "Instructions\n",
    "Count up how many accidents occurred in each U.S. state, and assign the result to state_accidents.\n",
    "You can parse the state by splitting the Location field and extracting the state.\n",
    "Sort state_accidents, and extract the name of the state with the most aviation accidents."
   ]
  },
  {
   "cell_type": "raw",
   "metadata": {},
   "source": [
    "5. Fatalities and Injuries by Month\n",
    "\n",
    "You can also count how many fatalities and serious injuries occurred during each month.\n",
    "\n",
    "Instructions\n",
    "Count how many fatalities and serious injuries occured during each unique month and year, and assign the result to monthly_injuries.\n",
    "You can parse the date by splitting the Event Date column and extracting the month number.\n",
    "Total the fatalities and serious injuries by adding the numbers in the Total Fatal Injuries and Total Serious Injuries columns.\n",
    "These columns are blank for months with no fatalities or serious injuries, so you'll have to replace those empty slots with 0.\n",
    "Turn monthly_injuries into two lists - one with the month names, and one with the counts.\n",
    "Implement a clever way of displaying these lists so you can understand the number of fatalities and serious injuries per month."
   ]
  },
  {
   "cell_type": "raw",
   "metadata": {},
   "source": [
    "6. Next Steps\n",
    "\n",
    "That's it for the guided steps! We recommend spending some time to explore the data on your own.\n",
    "\n",
    "Here are some ways you might go about this:\n",
    "\n",
    "Map out accidents using the basemap library for matplotlib.\n",
    "Count the number of accidents by air carrier.\n",
    "Count the number of accidents by airplane make and model.\n",
    "Figure out what percentage of accidents occur under adverse weather conditions.\n",
    "We recommend creating a GitHub repository and placing this project there. It will help other people see your work - including potential employers. As you start to put multiple projects on Github, you'll have the beginnings of a strong portfolio.\n",
    "\n",
    "You're welcome to keep working on the project here, but we recommend downloading it to your computer using the download icon and working on it there."
   ]
  }
 ],
 "metadata": {
  "kernelspec": {
   "display_name": "Python 2",
   "language": "python",
   "name": "python2"
  },
  "language_info": {
   "codemirror_mode": {
    "name": "ipython",
    "version": 2
   },
   "file_extension": ".py",
   "mimetype": "text/x-python",
   "name": "python",
   "nbconvert_exporter": "python",
   "pygments_lexer": "ipython2",
   "version": "2.7.14"
  }
 },
 "nbformat": 4,
 "nbformat_minor": 2
}
