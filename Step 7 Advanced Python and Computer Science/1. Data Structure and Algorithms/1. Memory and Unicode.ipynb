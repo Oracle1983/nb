{
 "cells": [
  {
   "cell_type": "markdown",
   "metadata": {},
   "source": [
    "# Step 7 Advanced Python and Computer Science - Memory and Unicode"
   ]
  },
  {
   "cell_type": "raw",
   "metadata": {},
   "source": [
    "1. Introduction\n",
    "\n",
    "In this mission, we'll learn how computers store values in memory.\n",
    "\n",
    "Our data set contains excerpts from CIA memos that detail covert activities. It includes the year the statement was made, then an excerpt from the memo. The file, sentences_cia.csv, is in CSV format. Here's a preview of the first few lines:\n",
    "\n",
    "year,statement,,,\n",
    "1997,\"The FBI information included that al-Mairi's brother \"\"traveled to Afghanistan in 1997-1998 to train in Bin - Ladencamps.\"\"\",,,\n",
    "1997,\"The FBI information included that al-Mairi's brother \"\"traveled to Afghanistan in 1997-1998 to train in Bin - Ladencamps.\"\"\",,,\n",
    "The file consists of one long string. To use it effectively, we'd need to parse it and convert it into rows and columns. We've covered strings extensively so far, but we haven't covered how a computer stores them.\n",
    "\n",
    "Computers store files on hard drives. A hard drive allows us to save data, turn the computer off, and then access the data again later. The tech community commonly refers to hard drives as magnetic storage, because they store data on magnetic strips.\n",
    "\n",
    "Magnetic strips can only contain a series of two values - up and down. Our entire CSV file saves to a hard drive the same way. We can't directly write strings such as the letter a to a hard disk; we need to convert them to a series of magnetic ups and downs first.\n",
    "\n",
    "We can do this with an encoding system called binary. With binary, the only valid numbers are 0 and 1. This constraint makes it easy to store binary values on a hard disk.\n",
    "\n",
    "On the next few screens, we'll learn how to convert string values to binary values, as well as how to manipulate binary values."
   ]
  },
  {
   "cell_type": "raw",
   "metadata": {},
   "source": [
    "2. The Basics of Binary\n",
    "\n",
    "Computers can't store values like strings or integers directly. Instead, they store information in binary, where the only valid numbers are 0 and 1. This system makes storing data on devices like hard drives possible.\n",
    "\n",
    "However, we normally count in \"base 10.\" We call this system base 10 because there are 10 possible digits - 0 through 9. Binary is base two, because there are only two possible digits - 0 and 1.\n",
    "\n",
    "To work with binary in Python, we need to enter it as a string. If we enter something like b = 10 directly, for example, Python will assume that it's a base 10 integer (rather than binary). Instead, we would need to put quotes around it to enter it as a string before working with it further.\n",
    "\n",
    "Let's explore how binary numbers work.\n",
    "\n",
    "Instructions\n",
    "Convert the binary number \"100\" to a base 10 integer, and assign the result to base_10_100."
   ]
  },
  {
   "cell_type": "code",
   "execution_count": null,
   "metadata": {
    "collapsed": true
   },
   "outputs": [],
   "source": [
    "# Let's say b is a binary number.  In python, we have to store binary numbers as strings.\n",
    "# If we try to enter it directly as b = 10, Python will assume it's a base 10 integer.\n",
    "b = \"10\"\n",
    "\n",
    "# Now, we can convert b from a string to a binary number with the int function. We'll need to set the optional second argument, base, to 2 (binary is base two).\n",
    "print(int(b, 2))"
   ]
  },
  {
   "cell_type": "raw",
   "metadata": {},
   "source": [
    "3. Binary Addition\n",
    "\n",
    "We can add binary numbers together, just like we can with base 10 numbers.\n",
    "\n",
    "Instructions\n",
    "Add \"10\" (base 2) to c."
   ]
  },
  {
   "cell_type": "code",
   "execution_count": null,
   "metadata": {
    "collapsed": true
   },
   "outputs": [],
   "source": [
    "# a is in base 10 -- because we have 10 possible digits, the highest value we can represent with one digit is 9.\n",
    "a = 9\n",
    "\n",
    "# When we want to represent a value one higher, we need to add another digit.\n",
    "a += 1\n",
    "# a now has two digits -- we incremented the invisible leading digit, which was 0 and is now 1, and set the last digit back to zero.\n",
    "print(a)\n",
    "\n",
    "# When we add 1 to 19, we increment the leading 1 by 1, and then set the last digit to 0, giving us 20.\n",
    "a = 19\n",
    "a += 1\n",
    "\n",
    "# When we add 1 to 99, we increment the last digit by 1, and add 1 to the first digit, but the first digit is now greater than 9, so we have to increment the invisible leading digit.\n",
    "a = 99\n",
    "a += 1\n",
    "\n",
    "# Binary addition works the exact same way, except the highest value any single digit can represent is 1.\n",
    "b = \"1\"\n",
    "\n",
    "# We'll add binary values using a binary_add function that was made just for this exercise.\n",
    "# It's not extremely important to know how it works right this second.\n",
    "def binary_add(a, b):\n",
    "    return bin(int(a, 2) + int(b, 2))[2:]\n",
    "\n",
    "c = binary_add(b, \"1\")\n",
    "\n",
    "# We now see that c equals \"10\", which is exactly what happens in base 10 when we reach the highest possible digit.\n",
    "print(c)\n",
    "\n",
    "# c now equals \"11\"\n",
    "c = binary_add(c, \"1\")\n",
    "print(c)\n",
    "\n",
    "# c now equals \"100\"\n",
    "c = binary_add(c, \"1\")\n",
    "print(c)"
   ]
  },
  {
   "cell_type": "raw",
   "metadata": {},
   "source": [
    "4. Converting Binary Values to Other Bases\n",
    "\n",
    "We just saw how we can convert between bases with the int() function.\n",
    "\n",
    "Let's see which values in binary equal which values in base 10.\n",
    "\n",
    "Instructions\n",
    "Convert \"1001\" to base 10, and assign the result to base_10_1001."
   ]
  },
  {
   "cell_type": "code",
   "execution_count": null,
   "metadata": {
    "collapsed": true
   },
   "outputs": [],
   "source": [
    "def binary_add(a, b):\n",
    "    return bin(int(a, 2) + int(b, 2))[2:]\n",
    "\n",
    "# Start both at 0\n",
    "a = 0\n",
    "b = \"0\"\n",
    "\n",
    "# Loop 10 times\n",
    "for i in range(0, 10):\n",
    "    # Add 1 to each\n",
    "    a += 1\n",
    "    b = binary_add(b, \"1\")\n",
    "\n",
    "    # Check if they are equal\n",
    "    print(int(b, 2) == a)\n",
    "\n",
    "# The cool thing here is that a and b are always equal if we add the same amount to both.\n",
    "# This is because base 2 and base 10 are just ways to write numbers.\n",
    "# Counting 100 apples in base 2 or base 10 will always give us an equivalent result - we just have to convert between them.\n",
    "# We can represent any number in binary; we just need to use more digits than we would in base 10."
   ]
  },
  {
   "cell_type": "raw",
   "metadata": {},
   "source": [
    "5. Converting Characters to Binary\n",
    "\n",
    "Computers store strings in binary, just like they do with integers. First, they split them into single characters, then convert those characters to integers. Finally, they convert those integers to binary and store them.\n",
    "\n",
    "We'll look at simple characters first - the so called ASCII characters. These include all upper and lowercase English letters, digits, and several punctuation symbols.\n",
    "\n",
    "Instructions\n",
    "Convert \"w\" to binary and assign the result to binary_w.\n",
    "Convert \"}\" to binary and assign the result to binary_bracket."
   ]
  },
  {
   "cell_type": "code",
   "execution_count": null,
   "metadata": {
    "collapsed": true
   },
   "outputs": [],
   "source": [
    "# We can use the ord() function to get the integer for an ASCII character.\n",
    "ord('a')\n",
    "\n",
    "# Then, we use the bin() function to convert to binary.\n",
    "# The bin function adds \"0b\" to the beginning of a string to indicate that it contains binary values.\n",
    "bin(ord('a'))\n",
    "\n",
    "# ÿ is the \"last\" ASCII character; it has the highest integer value of any ASCII character.\n",
    "# This is because 255 is the highest value we can represent with eight binary digits.\n",
    "ord('ÿ')\n",
    "# As you can see, we get eight 1's, which shows that this is the highest possible eight-digit value.\n",
    "bin(ord('ÿ'))\n",
    "\n",
    "# Why is this?  Because a single binary digit is called a bit, and computers store values in sequences of eight bits (i.e., a byte).\n",
    "# You might be more familiar with kilobytes or megabytes. A kilobyte is 1000 bytes, and a megabyte is 1000 kilobytes.\n",
    "# There are 256 different ASCII symbols, because the largest amount of storage any single ASCII character can take up is one byte."
   ]
  },
  {
   "cell_type": "raw",
   "metadata": {},
   "source": [
    "6. Introduction to Unicode\n",
    "\n",
    "You might be wondering what happened to all of the other characters and alphabets in the world. ASCII can't handle them, because it only supports 255 characters. The tech community realized it needed a new standard, and created Unicode.\n",
    "\n",
    "Unicode assigns \"code points\" to characters. In Python, code points look like this:\n",
    "\n",
    "\"\\u3232\"\n",
    "\n",
    "We can use an encoding system to convert these code points to binary integers. The most common encoding system for Unicode is UTF-8. This encoding tells a computer which code points are associated with which integers.\n",
    "\n",
    "UTF-8 can encode values that are longer that one byte, which enables it to store all Unicode characters. It encodes characters using a variable number of bytes, which means that it also supports regular ASCII characters (which are one byte each).\n",
    "\n",
    "Instructions\n",
    "Find the binary representation of \"\\u1019\" and assign it to binary_1019."
   ]
  },
  {
   "cell_type": "code",
   "execution_count": null,
   "metadata": {
    "collapsed": true
   },
   "outputs": [],
   "source": [
    "# We can initialize Unicode code points (the value for this code point is \\u27F6, but you see it as a character here because the Dataquest system is automatically converting it).\n",
    "code_point = \"⟶\"\n",
    "\n",
    "# This particular code point maps to a right arrow character.\n",
    "print(code_point)\n",
    "\n",
    "# We can get the base 10 integer value of the code point with the ord function.\n",
    "print(ord(code_point))\n",
    "\n",
    "# As you can see, this takes up a lot more than 1 byte.\n",
    "print(bin(ord(code_point)))"
   ]
  },
  {
   "cell_type": "raw",
   "metadata": {},
   "source": [
    "7. Strings with Unicode\n",
    "\n",
    "ASCII is a subset of Unicode. Unicode implements all of the ASCII characters, as well as the additional characters that code points allow.\n",
    "\n",
    "This lets us create Unicode strings that combine both ASCII and Unicode characters.\n",
    "\n",
    "By default, Python 3 uses Unicode for all strings, and encodes them with UTF-8. That means we can enter the Unicode code points or the actual characters.\n",
    "\n",
    "Instructions\n",
    "Make a string that combines Unicode and ASCII, and assign it to s3."
   ]
  },
  {
   "cell_type": "code",
   "execution_count": null,
   "metadata": {
    "collapsed": true
   },
   "outputs": [],
   "source": [
    "s1 = \"café\"\n",
    "# The \\u prefix means \"the next four digits are a Unicode code point\"\n",
    "# It doesn't change the value at all (the last character in the string below is \\u00e9)\n",
    "s2 = \"café\"\n",
    "\n",
    "# These strings are the same, because code points are equal to their corresponding Unicode characters.\n",
    "# \\u00e9 and é are equivalent.\n",
    "print(s1 == s2)"
   ]
  },
  {
   "cell_type": "raw",
   "metadata": {},
   "source": [
    "8. The Bytes Data Type\n",
    "\n",
    "Python includes a data type called \"bytes.\" It's similar to a string, except that it contains encoded bytes values.\n",
    "\n",
    "When we create an object with a bytes type from a string, we specify an encoding system (usually UTF-8).\n",
    "\n",
    "Then, we can use the .encode() method to encode the string into bytes.\n",
    "\n",
    "Instructions\n",
    "Encode batman in UTF-8 and assign it to batman_bytes."
   ]
  },
  {
   "cell_type": "code",
   "execution_count": null,
   "metadata": {
    "collapsed": true
   },
   "outputs": [],
   "source": [
    "# We can make a string with some Unicode values\n",
    "superman = \"Clark Kent␦\"\n",
    "print(superman)\n",
    "\n",
    "# This tells Python to encode the string superman as Unicode using the UTF-8 encoding system\n",
    "# We end up with a sequence of bytes instead of a string\n",
    "superman_bytes = \"Clark Kent␦\".encode(\"utf-8\")\n",
    "\n",
    "batman = \"Bruce Wayne␦\""
   ]
  },
  {
   "cell_type": "raw",
   "metadata": {},
   "source": [
    "9. Introduction to HexaDecimal\n",
    "\n",
    "batman_bytes from the last screen prints out as Bruce Wayne\\xe2\\x90\\xa6. Similar to the \\u prefix for a Unicode code point, \\x is the prefix for a hexadecimal character.\n",
    "\n",
    "Just like binary is base 2 and our normal counting system is base 10, hexadecimal is base 16. The valid digits in hexadecimal are 0-9 and A-F. Here are the values corresponding to each character:\n",
    "\n",
    "A - 10\n",
    "B - 11\n",
    "C - 12\n",
    "D - 13\n",
    "E - 14\n",
    "F - 15\n",
    "In hexadecimal, 9 + 1 equals A. We use hexadecimal because it represents a byte efficiently. You may recall that a byte is eight bits, or eight binary digits. The highest value we can express in a byte is 11111111, or 255 in base 10. We can express the same value in two hexadecimal digits, FF.\n",
    "\n",
    "Programmers often use hexadecimal to display bytes instead of binary because it's more compact and easier to write out."
   ]
  },
  {
   "cell_type": "raw",
   "metadata": {},
   "source": [
    "10. Hexadecimal Conversions\n",
    "\n",
    "On the last screen, you might have noticed that using .encode() converted a sequence of code points into something that looked like \\xe2\\x90\\xa6.\n",
    "\n",
    "The three sections of this result (which the \\ character separates) represent three hexadecimal bytes. The \\x prefix means \"the next two digits are in hexadecimal.\"\n",
    "\n",
    "Two hexadecimal digits equal eight binary digits, because digits can have higher values in hexadecimal (base 16). For instance, \"F\" is 15 in hexadecimal, but 1111 is 15 in binary.\n",
    "\n",
    "Because it's shorter to display, and four binary digits always equal one hexadecimal digit, programs often use hexadecimal to print out values. This is purely for convenience.\n",
    "\n",
    "Let's experiment a bit with hexadecimal conversions.\n",
    "\n",
    "Instructions\n",
    "Add \"2\" to \"ea\" in hexadecimal, and assign the result to hex_ea.\n",
    "Add \"e\" to \"f\" in hexadecimal, and assign the result to hex_ef."
   ]
  },
  {
   "cell_type": "code",
   "execution_count": null,
   "metadata": {
    "collapsed": true
   },
   "outputs": [],
   "source": [
    "# F is the highest single digit in hexadecimal (base 16)\n",
    "# Its value is 15 in base 10\n",
    "print(int(\"F\", 16))\n",
    "\n",
    "# A in base 16 has the value 10 in base 10\n",
    "print(int(\"A\", 16))\n",
    "\n",
    "# Just like the earlier binary_add function, this adds two hexadecimal numbers\n",
    "def hexadecimal_add(a, b):\n",
    "    return hex(int(a, 16) + int(b, 16))[2:]\n",
    "\n",
    "# When we add 1 to 9 in hexadecimal, it becomes \"a\"\n",
    "value = \"9\"\n",
    "value = hexadecimal_add(value, \"1\")\n",
    "print(value)"
   ]
  },
  {
   "cell_type": "raw",
   "metadata": {},
   "source": [
    "11. Hex to Binary\n",
    "\n",
    "We can convert hexadecimal to binary fairly easily. We can even use the ord() and bin() functions that helped us convert code points to binary.\n",
    "\n",
    "Instructions\n",
    "Convert the hexadecimal byte \"\\xaa\" to binary, and assign the result to binary_aa.\n",
    "Convert the hexadecimal byte \"\\xab\" to binary, and assign the result to binary_ab."
   ]
  },
  {
   "cell_type": "code",
   "execution_count": null,
   "metadata": {
    "collapsed": true
   },
   "outputs": [],
   "source": [
    "# One byte (eight bits) in hexadecimal (the value of the byte below is \\xe2)\n",
    "hex_byte = \"â\"\n",
    "\n",
    "# Print the base 10 integer value for the hexadecimal byte\n",
    "print(ord(hex_byte))\n",
    "\n",
    "# This gives the exact same value. Remember that \\x is just a prefix, and doesn't affect the value.\n",
    "print(int(\"e2\", 16))\n",
    "\n",
    "# Convert the base 10 integer to binary\n",
    "print(bin(ord(\"â\")))"
   ]
  },
  {
   "cell_type": "raw",
   "metadata": {},
   "source": [
    "12. Bytes and Strings\n",
    "\n",
    "There's no encoding system associated with the bytes data type. That means if we have an object with that data type, Python won't know how to display the (encoded) code points in it. For this reason, we can't mix bytes objects and strings together.\n",
    "\n",
    "Instructions\n",
    "Make a bytes object containing \"Thor\", and assign it to thor_bytes."
   ]
  },
  {
   "cell_type": "code",
   "execution_count": null,
   "metadata": {
    "collapsed": true
   },
   "outputs": [],
   "source": [
    "hulk_bytes = \"Bruce Banner␦\".encode(\"utf-8\")\n",
    "\n",
    "# We can't mix strings and bytes\n",
    "# For instance, if we try to replace the Unicode ␦ character as a string, it won't work, because that value has been encoded to bytes\n",
    "try:\n",
    "    hulk_bytes.replace(\"Banner\", \"\")\n",
    "except Exception:\n",
    "    print(\"TypeError with replacement\")\n",
    "\n",
    "# We can create objects of the bytes data type by putting a b in front of the quotation marks in a string\n",
    "hulk_bytes = b\"Bruce Banner\"\n",
    "# Now, instead of mixing strings and bytes, we can use the replace method with bytes objects instead\n",
    "hulk_bytes.replace(b\"Banner\", b\"\")"
   ]
  },
  {
   "cell_type": "raw",
   "metadata": {},
   "source": [
    "13. Decode Bytes to Strings\n",
    "\n",
    "Once we have a bytes object, we can decode it into a string using an encoding system. We use the .decode() method to do this.\n",
    "\n",
    "Instructions\n",
    "Decode morgan_freeman_bytes using the 'UTF-8' encoding system, and assign the result to morgan_freeman."
   ]
  },
  {
   "cell_type": "code",
   "execution_count": null,
   "metadata": {
    "collapsed": true
   },
   "outputs": [],
   "source": [
    "# Make a bytes object with aquaman's secret identity\n",
    "aquaman_bytes = b\"Who knows?\"\n",
    "\n",
    "# Now, we can use the decode method, along with the encoding system (UTF-8) to turn it into a string\n",
    "aquaman = aquaman_bytes.decode(\"utf-8\")\n",
    "\n",
    "# We can print the value and type to verify that it's a string\n",
    "print(aquaman)\n",
    "print(type(aquaman))\n",
    "\n",
    "morgan_freeman_bytes = b\"Morgan Freeman\""
   ]
  },
  {
   "cell_type": "raw",
   "metadata": {},
   "source": [
    "14. Read in File Data\n",
    "\n",
    "Now that we understand Unicode, we can go ahead and read our data in.\n",
    "\n",
    "The data contains several symbols and other Unicode characters. We'll learn how to address them as we go along.\n",
    "\n",
    "Instructions\n",
    "Assign the second column of the tenth row in sentences_cia to sentences_ten."
   ]
  },
  {
   "cell_type": "code",
   "execution_count": null,
   "metadata": {
    "collapsed": true
   },
   "outputs": [],
   "source": [
    "# We can read our data in using csvreader\n",
    "import csv\n",
    "# When we open a file, we can specify the system used to encode it (in this case, UTF-8).\n",
    "f = open(\"sentences_cia.csv\", 'r', encoding=\"utf-8\")\n",
    "csvreader = csv.reader(f)\n",
    "sentences_cia = list(csvreader)\n",
    "\n",
    "# The data consists of two columns\n",
    "# The first column contains the year, and the second contains a sentence from a CIA report written in that year\n",
    "# Print the first column of the second row\n",
    "print(sentences_cia[1][0])\n",
    "\n",
    "# Print the second column of the second row\n",
    "print(sentences_cia[1][1])"
   ]
  },
  {
   "cell_type": "raw",
   "metadata": {},
   "source": [
    "15. Convert to a dataframe\n",
    "\n",
    "To make this easier for ourselves, let's convert our sentences to a pandas dataframe.\n",
    "\n",
    "Having a dataframe will make processing and analysis much simpler because we can use the .apply() method.\n",
    "\n",
    "Instructions\n",
    "Convert sentences_cia to a dataframe. Remember to handle the headers properly by mirroring the technique demonstrated in the default, display code."
   ]
  },
  {
   "cell_type": "code",
   "execution_count": null,
   "metadata": {
    "collapsed": true
   },
   "outputs": [],
   "source": [
    "import csv\n",
    "# Let's read in the legislators data from a few missions ago\n",
    "f = open(\"legislators.csv\", 'r', encoding=\"utf-8\")\n",
    "csvreader = csv.reader(f)\n",
    "legislators = list(csvreader)\n",
    "\n",
    "# Now, we can import pandas and use the DataFrame class to convert the list of lists to a dataframe.\n",
    "import pandas as pd\n",
    "\n",
    "legislators_df = pd.DataFrame(legislators)\n",
    "\n",
    "# As you can see, the first row contains the headers, which we don't want (because they're not actually data)\n",
    "print(legislators_df.iloc[0,:])\n",
    "\n",
    "# To remove the headers, we'll subset the df and pass them in separately\n",
    "# This code removes the headers from legislators, and instead passes them into the columns argument\n",
    "# The columns argument specifies column names\n",
    "legislators_df = pd.DataFrame(legislators[1:], columns=legislators[0])\n",
    "# We now have the right data in the first row, as well as the proper headers\n",
    "print(legislators_df.iloc[0,:])\n",
    "\n",
    "# The sentences_cia data from the last screen is available."
   ]
  },
  {
   "cell_type": "raw",
   "metadata": {},
   "source": [
    "16. Clean up Sentences\n",
    "\n",
    "Now that we've formatted our data nicely, we need to process the strings to count term occurences.\n",
    "\n",
    "First, though, we need to clean them up by removing extraneous symbols. We only really care about letters, digits, and spaces.\n",
    "\n",
    "Luckily, we can check the integer code of each character using ord() to see if it's a character we want to keep.\n",
    "\n",
    "Instructions\n",
    "Make a function that takes a dataframe row and then returns the clean version of the \"statement\" column.\n",
    "Use the .apply() method on dataframe to apply the function to each row of sentences_cia.\n",
    "Assign the resulting vector to the cleaned_statement column of sentences_cia."
   ]
  },
  {
   "cell_type": "code",
   "execution_count": null,
   "metadata": {
    "collapsed": true
   },
   "outputs": [],
   "source": [
    "# The integer codes for all the characters we want to keep\n",
    "good_characters = [48, 49, 50, 51, 52, 53, 54, 55, 56, 65, 66, 67, 68, 69, 70, 71, 72, 73, 74, 75, 76, 77, 78, 79, 80, 81, 82, 83, 84, 85, 86, 87, 88, 89, 90, 97, 98, 99, 100, 101, 102, 103, 104, 105, 106, 107, 108, 109, 110, 111, 112, 113, 114, 115, 116, 117, 118, 119, 120, 121, 122, 32]\n",
    "\n",
    "sentence_15 = sentences_cia[\"statement\"][14]\n",
    "\n",
    "# Iterate over the characters in the sentence, and only take those whose integer representations are in good_characters\n",
    "# This will construct a list of single characters\n",
    "cleaned_sentence_15_list = [s for s in sentence_15 if ord(s) in good_characters]\n",
    "\n",
    "# Join the list together, separated by \"\" (no space), which creates a string again\n",
    "cleaned_sentence_15 = \"\".join(cleaned_sentence_15_list)"
   ]
  },
  {
   "cell_type": "raw",
   "metadata": {},
   "source": [
    "7. Tokenize Statements\n",
    "\n",
    "Now we need to combine the sentences and convert them to tokens.\n",
    "\n",
    "The eventual goal is to count up how many times each term occurs.\n",
    "\n",
    "Instructions\n",
    "Tokenize combined_statements by splitting it into words on the spaces.\n",
    "You should end up with a list of all the words in combined_statements.\n",
    "Assign the result to statement_tokens."
   ]
  },
  {
   "cell_type": "code",
   "execution_count": null,
   "metadata": {
    "collapsed": true
   },
   "outputs": [],
   "source": [
    "# We can use the .join() method on strings to join lists together.\n",
    "# The string we use the method on will become the separator -- the character(s) between each string when they are joined..\n",
    "combined_statements = \" \".join(sentences_cia[\"cleaned_statement\"])"
   ]
  },
  {
   "cell_type": "raw",
   "metadata": {},
   "source": [
    "18. Filter the Tokens\n",
    "\n",
    "We want to count how many times each term occurs in our data, so we can find the most common items.\n",
    "\n",
    "The problem is that the most common words in the English language are ones that are relatively uninteresting to us right now -- words like \"the\", \"a\", and so on. These words are called stopwords - words that don't add much information to our analysis.\n",
    "\n",
    "It's common to filter out any words on a list of known stopwords. What we'll do here for the sake of simplicity is filter out any words less than five characters long. This should remove most stopwords.\n",
    "\n",
    "Instructions\n",
    "Filter the statement_tokens list so that it only contains tokens that are at least five characters long.\n",
    "Assign the result to filtered_tokens."
   ]
  },
  {
   "cell_type": "code",
   "execution_count": null,
   "metadata": {
    "collapsed": true
   },
   "outputs": [],
   "source": [
    "# statement_tokens has been loaded in."
   ]
  },
  {
   "cell_type": "raw",
   "metadata": {},
   "source": [
    "20. Most Common Tokens\n",
    "\n",
    "Now that we've created a Counter object using filtered_tokens as \n",
    "input, let's find the most common tokens.\n",
    "\n",
    "Instructions\n",
    "Get the three most common items in filtered_token_counts, and assign the result to common_tokens."
   ]
  },
  {
   "cell_type": "code",
   "execution_count": null,
   "metadata": {
    "collapsed": true
   },
   "outputs": [],
   "source": [
    "from collections import Counter\n",
    "fruits = [\"apple\", \"apple\", \"banana\", \"orange\", \"pear\", \"orange\", \"apple\", \"grape\"]\n",
    "fruit_count = Counter(fruits)\n",
    "\n",
    "# We can use the most_common method of a Counter class to get the most common items\n",
    "# We pass in a number, which is the number of items we want to get\n",
    "print(fruit_count.most_common(2))\n",
    "print(fruit_count.most_common(3))\n",
    "\n",
    "# filtered_token_counts has been loaded in"
   ]
  },
  {
   "cell_type": "raw",
   "metadata": {},
   "source": [
    "21. Finding the Most Common Tokens by Year\n",
    "\n",
    "Let's write a function that computes the most common terms by year.\n",
    "\n",
    "Instructions\n",
    "Write a function that finds the two most common terms in sentences_cia for a given year (the \"year\" column).\n",
    "The \"year\" column in sentences_cia stores strings, so you'll need to pass strings into the function.\n",
    "Select the rows in sentences_cia that match that year, combine the clean statements, split them into a list on the space character (\" \"), filter out words less than five characters long, make a counter object with the results, and find the two most common items in the counter.\n",
    "Use the function to find the most common terms for \"2000\". Assign the result to common_2000.\n",
    "Use the function to find the most common terms for \"2002\". Assign the result to common_2002.\n",
    "Use the function to find the most common terms for \"2013\". Assign the result to common_2013."
   ]
  },
  {
   "cell_type": "code",
   "execution_count": null,
   "metadata": {
    "collapsed": true
   },
   "outputs": [],
   "source": [
    "# sentences_cia has been loaded in.\n",
    "# It already has the cleaned_statement column."
   ]
  }
 ],
 "metadata": {
  "kernelspec": {
   "display_name": "Python 2",
   "language": "python",
   "name": "python2"
  },
  "language_info": {
   "codemirror_mode": {
    "name": "ipython",
    "version": 2
   },
   "file_extension": ".py",
   "mimetype": "text/x-python",
   "name": "python",
   "nbconvert_exporter": "python",
   "pygments_lexer": "ipython2",
   "version": "2.7.14"
  }
 },
 "nbformat": 4,
 "nbformat_minor": 2
}
