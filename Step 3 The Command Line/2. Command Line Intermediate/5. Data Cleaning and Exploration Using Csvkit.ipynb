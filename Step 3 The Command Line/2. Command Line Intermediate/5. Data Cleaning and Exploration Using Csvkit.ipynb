{
 "cells": [
  {
   "cell_type": "markdown",
   "metadata": {},
   "source": [
    "# Step 3 The Command Line - Data Cleaning and Exploration Using Csvkit"
   ]
  },
  {
   "cell_type": "raw",
   "metadata": {},
   "source": [
    "1. Csvkit\n",
    "\n",
    "So far, we've been using the default command line tools to clean, munge, and explore data. Tools like wc and head are useful tools, but weren't designed specifically for working with datasets and are limited in many ways. These tools lack features specific to working with tabular datasets, like parsing the header row or understanding the row and column layout. Because of this, in the Data Munging Using the Command Line challenge, you had to specifically compute the number of lines in each CSV file using the wc tool and use that number to select just the non-header rows using the tail tool. You then had to repeat this for each CSV file you were trying to merge into the resulting, single file!\n",
    "\n",
    "In this mission, we'll learn about the Csvkit library, which supercharges your workflow by adding 13 new command line tools specifically for working with CSV files. We'll focus on these 5 tools from Csvkit:\n",
    "\n",
    "csvstack: for stacking rows from multiple CSV files.\n",
    "csvlook: renders CSV in pretty table format.\n",
    "csvcut: for selecting specific columns from a CSV file.\n",
    "csvstat: for calculating descriptive statistics for some or all columns.\n",
    "csvgrep: for filtering tabular data using specific criteria.\n",
    "\n",
    "We'll be using csvkit version 0.9.1 in this mission and you can read about the installation procedure in the documentation [https://csvkit.readthedocs.io/en/0.9.1/install.html]. We'll continue to work with the same 3 datasets on housing affordability:\n",
    "\n",
    "Hud_2005.csv,\n",
    "Hud_2007.csv,\n",
    "Hud_2013.csv."
   ]
  },
  {
   "cell_type": "raw",
   "metadata": {},
   "source": [
    "2. Csvstack\n",
    "\n",
    "To start, let's circle back to the task of merging 3 CSV files into 1 file. We can use csvstack [http://csvkit.readthedocs.io/en/0.9.1/scripts/csvstack.html#description] tool to consolidate the rows from multiple CSV files and redirect the stdout to a new file:\n",
    "\n",
    "csvstack file1.csv file2.csv file3.csv > final.csv\n",
    "As long as the header row for each file in the stdin to csvstack is the same, the first row in the resulting file will match this header row. After the header row, final.csv will contain all of the non-header rows from file1.csv, then all of the non-header rows from file2.csv, then finally the non-header rows from file3.csv. If you don't redirect the stdout of csvstack to a file or a tool like head, the full output will be rendered in the terminal. This can cause your terminal to grind to a halt as it tries to process and display all of the output and you want to be extra careful to avoid doing so.\n",
    "\n",
    "If you peeked at the documentation [http://csvkit.readthedocs.io/en/0.9.1/scripts/csvstack.html#description], you may have noticed that the behavior of csvstack can be modified using a few different flags. For example,\n",
    "\n",
    "if you want to be able to trace the file where each row originated from in the merged file, you can use the -g flag to specify a grouping value for each filename. When stacking the rows from a file, csvstack will add the corresponding value in a new column. Lastly, you can use the -n flag to specify the name of this new column. The following code will create a new column named origin, containing the values 1, 2, or 3 depending on which file that row originated from:\n",
    "\n",
    "csvstack -n origin -g 1,2,3 file1.csv file2.csv file3.csv > final.csv\n",
    "The rows in final.csv that originated from file1.csv will contain the value 1 in the origin column and those from file2.csv will contain the value 2 in the origin column. Let's now use csvstack to combine the 3 datasets on U.S. housing affordability from the last challenge.\n",
    "\n",
    "Instructions\n",
    "Merge Hud_2005.csv, Hud_2007.csv, and Hud_2013.csv in that order into one file:\n",
    "Name the resulting file Combined_hud.csv.\n",
    "Add an extra column named year which contains the year value from the file name for each row. E.g. the rows that originated from Hud_2005.csv should have 2005 as the value in the year column.\n",
    "Use head to preview the first few rows of Combined_hud.csv.\n",
    "Use the wc command with the l flag to confirm that the merged file contains 154118 rows."
   ]
  },
  {
   "cell_type": "raw",
   "metadata": {},
   "source": [
    "3. Csvlook\n",
    "\n",
    "While head allows you to quickly observe the first few rows in a file, it doesn't attempt to format the rendered output at all. CSV files are tabular and it's incredibly useful to observe this structure and other data tools like Pandas and Microsoft Excel factored that notion in when displaying tabular data. Thankfully, we can use the csvlook tool to display tabular data in the table format we're used to.\n",
    "\n",
    "The csvlook tool [http://csvkit.readthedocs.io/en/0.9.1/scripts/csvlook.html] parses CSV formatted data from it's stdin and outputs a pretty formatted table representation of that data to it's stdout:\n",
    "\n",
    "head -10 final.csv | csvlook\n",
    "Let's use csvlook to explore the first few rows from the CSV file we created in the last screen.\n",
    "\n",
    "Instructions\n",
    "Use csvlook to preview the first 10 rows from Combined_hud.csv."
   ]
  },
  {
   "cell_type": "raw",
   "metadata": {},
   "source": [
    "4. Csvcut\n",
    "\n",
    "Csvlook returned a table formatted output of the merged CSV file. Let's now explore individual columns using the csvcut tool. Using the csvcut [http://csvkit.readthedocs.io/en/0.9.1/scripts/csvcut.html] command with just the -n flag parses and displays all the columns in a CSV file along with an unique integer identifier for each column:\n",
    "\n",
    "csvcut -n Combined_hud.csv\n",
    "will output:\n",
    "\n",
    "1: year\n",
    "2: AGE1\n",
    "3: BURDEN\n",
    "4: FMR\n",
    "5: FMTBEDRMS\n",
    "6: FMTBUILT\n",
    "7: TOTSAL\n",
    "You can use the integer identifier for each column and the -c flag to select just a specific column:\n",
    "\n",
    "csvcut -c 1 Combined_hud.csv\n",
    "will output just the year column. You want to avoid displaying the entire column since it contains 154118 rows and your terminal window will severely come to a halt attempting to display all that information. Instead, you can pipe the column output to head to preview just the first n rows.\n",
    "\n",
    "Instructions\n",
    "Use csvcut to return all of the column names from Combined_hud.csv.\n",
    "Use csvcut to display just the first 10 values in the AGE1 column."
   ]
  },
  {
   "cell_type": "raw",
   "metadata": {},
   "source": [
    "5. Csvstat\n",
    "\n",
    "Now that we know how to select specific columns, we can select a column and pipe it to the csvstat tool to calculate summary statistics for that column:\n",
    "\n",
    "csvcut -c 4 Combined_hud.csv | csvstat\n",
    "This calculates a full suite of summary statistics, including:\n",
    "\n",
    "max,\n",
    "min,\n",
    "sum,\n",
    "mean,\n",
    "median,\n",
    "standard deviation.\n",
    "Depending on the size of the data, the full summary statistics for a column can take a long time and you often just want a specific summary statistic. You can use -- flags to choose specific summary statistics, which will greatly improve the speed:\n",
    "\n",
    "# Just the max value.\n",
    "csvcut -c 2 Combined_hud.csv | csvstat --max\n",
    "# Just the mean value.\n",
    "csvcut -c 2 Combined_hud.csv | csvstat --mean\n",
    "# Just the number of null values.\n",
    "csvcut -c 2 Combined_hud.csv | csvstat --nulls\n",
    "\n",
    "You can see a full list of flags in the documentation [http://csvkit.readthedocs.io/en/0.9.1/scripts/csvstat.html#description]. If you want to calculate summary statistics over all the columns in a CSV file, you can pass the file to csvstat directly:\n",
    "\n",
    "csvstat Combined_hud.csv\n",
    "\n",
    "Instructions\n",
    "Use csvstat to calculate just the mean for each column in Combined_hud.csv."
   ]
  },
  {
   "cell_type": "raw",
   "metadata": {},
   "source": [
    "6. Csvcut | csvstat\n",
    "\n",
    "Let's use csvcut and csvstat to search for any problematic values in the AGE1 column.\n",
    "\n",
    "Instructions\n",
    "Use csvstat to calculate the full summary statistics for just the AGE1 column."
   ]
  },
  {
   "cell_type": "raw",
   "metadata": {},
   "source": [
    "7. Csvgrep\n",
    "\n",
    "You'll notice that -9 is the most common value in the AGE1 column, which is problematic since age values have to be greater than 0. We can use csvgrep [http://csvkit.readthedocs.io/en/0.9.1/scripts/csvgrep.html] to select all the rows that match a specific pattern to dive a bit deeper. By default, csvgrep will search all of the rows in the dataset but we can restrict the search to specific columns using the -c flag (just like with csvcut). We then use the -m flag to specify the pattern:\n",
    "\n",
    "csvgrep -c 2 -m -9 Combined_hud.csv\n",
    "This command will return all rows from Combined_hud.csv with -9 as the value for the AGE1 column. The behavior of csvgrep can be customized using the flags. For example, you can use the -r flag to pass in a regular expression as the pattern instead. We're now going to combined several of the tools we've talked about so far so that you can see the real power of using the csvkit tools combined with other CLI tools.\n",
    "\n",
    "Instructions\n",
    "Display the first 10 rows from Combined_hud.csv where the value for the AGE1 column is -9 in a pretty table format."
   ]
  },
  {
   "cell_type": "raw",
   "metadata": {},
   "source": [
    "8. Filtering out problematic rows\n",
    "\n",
    "Let's now filter out all of these problematic rows from the dataset since they have data quality issues. Csvkit wasn't developed with a sharp focus on editing existing files, and the easiest way to filter rows is to create a separate file with just the rows we're interested in. To accomplish this, we can redirect the output of csvgrep to a file. So far, we've only used csvgrep to select rows that match a specific pattern. We need to instead select the rows that don't match a pattern, which we can specify with the -i flag. You can read more about this flag in the documentation. [http://csvkit.readthedocs.io/en/0.9.1/scripts/csvgrep.html]\n",
    "\n",
    "Instructions\n",
    "Select all rows where the value for AGE1 isn't -9 and write just those rows to positive_ages_only.csv."
   ]
  },
  {
   "cell_type": "raw",
   "metadata": {},
   "source": [
    "9. Next steps\n",
    "\n",
    "In this challenge, you learned how to use the csvkit library to explore and clean CSV files. You should use csvkit whenever you need to quickly transform or explore data from the command line, but remember that it has a few limitations:\n",
    "\n",
    "Csvkit is not optimized for speed and struggles to run some commands over larger files.\n",
    "Csvkit has very limited capabilities for actually editing problematic values in a dataset, since the community behind the library aspired to keep the library small and lightweight."
   ]
  }
 ],
 "metadata": {
  "kernelspec": {
   "display_name": "Python 2",
   "language": "python",
   "name": "python2"
  },
  "language_info": {
   "codemirror_mode": {
    "name": "ipython",
    "version": 2
   },
   "file_extension": ".py",
   "mimetype": "text/x-python",
   "name": "python",
   "nbconvert_exporter": "python",
   "pygments_lexer": "ipython2",
   "version": "2.7.14"
  }
 },
 "nbformat": 4,
 "nbformat_minor": 2
}
