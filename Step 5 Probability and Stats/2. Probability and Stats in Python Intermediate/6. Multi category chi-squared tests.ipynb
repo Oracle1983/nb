{
 "cells": [
  {
   "cell_type": "markdown",
   "metadata": {},
   "source": [
    "# Step 5 Introduction to Stats - Multi category chi-squared tests"
   ]
  },
  {
   "cell_type": "raw",
   "metadata": {},
   "source": [
    "1. Multiple categories\n",
    "\n",
    "In the last mission, we looked at the gender frequencies of people included in a data set on US income. The dataset consists of 32561 rows, and here are the first few:\n",
    "\n",
    "age,workclass,fnlwgt,education,education_num,marital_status,occupation,relationship,race,sex,capital_gain,capital_loss,hours_per_week,native_country,high_income\n",
    "39, State-gov, 77516, Bachelors, 13, Never-married, Adm-clerical, Not-in-family, White, Male, 2174, 0, 40, United-States, <=50K\n",
    "50, Self-emp-not-inc, 83311, Bachelors, 13, Married-civ-spouse, Exec-managerial, Husband, White, Male, 0, 0, 13, United-States, <=50K\n",
    "38, Private, 215646, HS-grad, 9, Divorced, Handlers-cleaners, Not-in-family, White, Male, 0, 0, 40, United-States, <=50K\n",
    "Each row represents a single person who was counted in the 1990 US Census, and contains information about their income and demograpics. Here are some of the relevant columns:\n",
    "\n",
    "age -- how old the person is\n",
    "workclass -- the type of sector the person is employed in.\n",
    "race -- the race of the person.\n",
    "sex -- the gender of the person, either Male or Female.\n",
    "high_income -- if the person makes more the 50k or not.\n",
    "In the last mission, we calculated a chi-squared value indicating how the observed frequencies in a single categorical column, such as sex, varied from the US population as a whole.\n",
    "\n",
    "In this mission, we'll look how to make this same technique applicable to cross tables, that show how two categorical columns interact. For instance, here's a table showing the relationship between sex and high_income:\n",
    "\n",
    "On looking at this diagram, you might see a pattern between sex and high_income. But it's hard to immediately quantify that pattern, and tell if it's significant. We can apply the chi-squared test (also known as the chi-squared test of association) [https://en.wikipedia.org/wiki/Chi-squared_test] to figure out if there's a statistically significant correlation between two categorical columns."
   ]
  },
  {
   "cell_type": "raw",
   "metadata": {},
   "source": [
    "2. Calculating expected values\n",
    "\n",
    "In the single category chi-squared test, we find expected values from other data sets, and then compare with our own observed values. In a multiple category chi-squared test, we calculate expected values across our whole dataset. We'll illustrate this by converting our \n",
    "chart from last screen into proportions:\n",
    "\n",
    "                      Sex\n",
    "             Male    Female    Totals \n",
    "Income >50K  .205     .036      .241\n",
    "       <=50K .465     .294      .759\n",
    "       Totals .669    .331       1\n",
    "       \n",
    "Each cell represents the proportion of people in the data set that fall into the specified categories.\n",
    "\n",
    "20.5% of Males in the whole data set earn >50k in income.\n",
    "33.1% of the whole dataset is Female\n",
    "75.9% of the whole dataset earns <=50k.\n",
    "We can use our total proportions to calculate expected values. 24.1% of all people in income earn >50k, and 33.1% of all people in income are Female, so we'd expect the proportion of people who are female and earn >50k to be .241 * .331, which is .0799771. We have this expectation based on the proportions of Females and >50k earners across the whole dataset. Instead, we see that the observed proportion is .036, which indicates that there may be some correlation between the sex and high_income columns.\n",
    "\n",
    "We can convert our expected proportion to an expected value by multiplying by 32561, the total number of rows in the data set, which gives us 32561 * .0799771, or 2597.4.\n",
    "\n",
    "Instructions\n",
    "Using the expected proportions in the table above, calculate the expected values for each of the 4 cells in the table.\n",
    "Calculate the expected value for Males who earn >50k, and assign to males_over50k.\n",
    "Calculate the expected value for Males who earn <=50k, and assign to males_under50k.\n",
    "Calculate the expected value for Females who earn >50k, and assign to females_over50k.\n",
    "Calculate the expected value for Females who earn <=50k, and assign to females_under50k."
   ]
  },
  {
   "cell_type": "raw",
   "metadata": {},
   "source": [
    "3. Calculating chi-squared\n",
    "\n",
    "In the last screen, you should have ended up with a table like this:\n",
    "\n",
    "                      Sex\n",
    "             Male    Female    \n",
    "Income >50K  5249.8   2597.4         \n",
    "       <=50K 16533.5   8180.3    \n",
    "       \n",
    "Now that we have our expected values, we can calculate the chi-squared value by using the same principle from the previous mission. Here are the steps:\n",
    "\n",
    "Subtract the expected value from the observed value.\n",
    "Square the difference.\n",
    "Divide the squared difference by the expected value.\n",
    "Repeat for all the observed and expected values and add up the values.\n",
    "Here's the formula:\n",
    "\n",
    "\n",
    "Here's the table of our observed values for reference:\n",
    "\n",
    "                  Sex\n",
    "             Male    Female    \n",
    "Income >50K  6662     1179         \n",
    "       <=50K 15128    9592\n",
    "\n",
    "Instructions\n",
    "Compute the chi-squared value for the observed values above and the expected values above.\n",
    "Assign the result to chisq_gender_income."
   ]
  },
  {
   "cell_type": "raw",
   "metadata": {},
   "source": [
    "4. Finding statistical significance\n",
    "\n",
    "Now that we've found our chi-squared value, 1517.6, we can use the same technique with the chi-squared sampling distribution from the last mission to find a p-value associated with the chi-squared value. The p-value will tell us whether the difference between the observed and expected values is statistically significant or not.\n",
    "\n",
    "Rather than construct a sampling distribution again manually, we'll use the scipy.stats.chisquare [http://docs.scipy.org/doc/scipy/reference/generated/scipy.stats.mstats.chisquare.html] function that we covered in the last mission.\n",
    "\n",
    "If we had a table of expected values that looked like this:\n",
    "And a table of observed values that looked like this:\n",
    "\n",
    "We could find the chi-squared value and the p-value using the scipy.stats.chisquare function like this:\n",
    "\n",
    "import numpy as np\n",
    "from scipy.stats import chisquare\n",
    "​\n",
    "observed = np.array([10, 10, 5, 5])\n",
    "expected = np.array([5, 5, 10, 10])\n",
    "chisquare_value, pvalue = chisquare(observed, expected)\n",
    "\n",
    "Instructions\n",
    "Here are our expected values from the last screen:\n",
    "\n",
    "                      Sex\n",
    "             Male    Female    \n",
    "Income >50K  5249.8   2597.4         \n",
    "       <=50K 16533.5   8180.3   \n",
    "  \n",
    "And here are our observed values:\n",
    "\n",
    "                  Sex\n",
    "             Male    Female    \n",
    "Income >50K  6662     1179         \n",
    "       <=50K 15128    9592\n",
    "\n",
    "Use the scipy.stats.chisquare function to find the chi-squared value and p-value for the above observed and expected counts.\n",
    "Assign the p-value to pvalue_gender_income."
   ]
  },
  {
   "cell_type": "raw",
   "metadata": {},
   "source": [
    "5. Cross tables\n",
    "\n",
    "We can also scale up the chi-squared test to cases where each category contains more than two possibilities. We'll illustrate this with an example where we look at sex vs race.\n",
    "\n",
    "Before we can find the chi-squared value, we need to find the observed frequency counts. We can do this using the pandas.crosstab [http://pandas.pydata.org/pandas-docs/version/0.17.0/generated/pandas.crosstab.html] function. The crosstab function will print a table that shows frequency counts for two or more columns. Here's how you could use the pandas.crosstab function:\n",
    "\n",
    "import pandas\n",
    "​\n",
    "table = pandas.crosstab(income[\"sex\"], [income[\"high_income\"]])\n",
    "print(table)\n",
    "The above code will print a table showing how many people from income fall into each category of sex and high_income.\n",
    "\n",
    "The second parameter passed into pandas.crosstab is actually a list -- this parameter can contain more than one item.\n",
    "\n",
    "Instructions\n",
    "Use the pandas.crosstab function to print out a table comparing the sex column of income to the race column of income."
   ]
  },
  {
   "cell_type": "raw",
   "metadata": {},
   "source": [
    "6. Finding expected values\n",
    "\n",
    "Now that we have the observed frequency counts, we can generate the expected values. We can use the scipy.stats.chi2_contingency function to do this. The function takes in a cross table of observed counts, and returns the chi-squared value, the p-value, the degrees of freedom, and the expected frequencies. Let's say we have the following observed counts:\n",
    "\n",
    "5 5\n",
    "10 10\n",
    "\n",
    "Here's how we could use the scipy.stats.chi2_contingency [http://docs.scipy.org/doc/scipy-0.15.1/reference/generated/scipy.stats.chi2_contingency.html] function:\n",
    "\n",
    "import numpy as np\n",
    "from scipy.stats import chi2_contingency\n",
    "observed = np.array([[5, 5], [10, 10]])\n",
    "​\n",
    "chisq_value, pvalue, df, expected = chi2_contingency(observed)\n",
    "You can also directly pass the result of the pandas.crosstab function into the scipy.stats.chi2_contingency function, which makes it extremely easy to do perform a chi-squared test.\n",
    "\n",
    "Instructions\n",
    "Use the scipy.stats.chi2_contingency [http://docs.scipy.org/doc/scipy-0.15.1/reference/generated/scipy.stats.chi2_contingency.html] function to calculate the pvalue for the sex and race columns of income.\n",
    "Assign the result to pvalue_gender_race."
   ]
  },
  {
   "cell_type": "raw",
   "metadata": {},
   "source": [
    "7. Caveats\n",
    "\n",
    "Now that we've learned the chi-squared test, you should be able to figure out if the association between two columns of categorical data is statistically significant or not. There are a few caveats to using the chi-squared test that are important to cover, though:\n",
    "\n",
    "Finding that a result isn't significant doesn't mean that no association between the columns exists. For instance, if we found that the chi-squared test between the sex and race columns returned a p-value of .1, it wouldn't mean that there is no relationship between sex and race. It just means that there isn't a statistically significant relationship.\n",
    "Finding a statistically significant result doesn't imply anything about what the correlation is. For instance, finding that a chi-squared test between sex and race results in a p-value of .01 doesn't mean that the dataset contains too many Females who are White (or too few). A statistically significant finding means that some evidence of a relationship between the variables exists, but needs to be investigated further.\n",
    "Chi-squared tests can only be applied in the case where each possibility within a category is independent. For instance, the Census counts individuals as either Male or Female, not both.\n",
    "Chi-squared tests are more valid when the numbers in each cell of the cross table are larger. So if each number is 100, great -- if each number is 1, you may need to gather more data."
   ]
  }
 ],
 "metadata": {
  "kernelspec": {
   "display_name": "Python 2",
   "language": "python",
   "name": "python2"
  },
  "language_info": {
   "codemirror_mode": {
    "name": "ipython",
    "version": 2
   },
   "file_extension": ".py",
   "mimetype": "text/x-python",
   "name": "python",
   "nbconvert_exporter": "python",
   "pygments_lexer": "ipython2",
   "version": "2.7.14"
  }
 },
 "nbformat": 4,
 "nbformat_minor": 2
}
