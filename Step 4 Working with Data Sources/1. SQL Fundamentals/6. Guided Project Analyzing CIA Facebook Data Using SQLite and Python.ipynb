{
 "cells": [
  {
   "cell_type": "markdown",
   "metadata": {},
   "source": [
    "# Step 4 Working with Data Sources -  Guided Project Analyzing CIA Facebook Data Using SQLite and Python"
   ]
  },
  {
   "cell_type": "raw",
   "metadata": {},
   "source": [
    "1. Overview of the Data\n",
    "\n",
    "In this project, we'll work with data from the CIA World Factbook [https://www.cia.gov/library/publications/the-world-factbook/], a compendium of statistics about all of the countries on Earth. The Factbook contains demographic information like:\n",
    "\n",
    "population - The population as of 2015.\n",
    "population_growth - The annual population growth rate, as a percentage.\n",
    "area - The total land and water area.\n",
    "You can download the SQLite database, factbook.db, from this GitHub repo [https://github.com/factbook/factbook.sql/releases] if you want to work with it on your own computer. In this guided project, we'll explore the Python SQLite workflow to explore, analyze, and visualize data from this database. First things first, let's get familiar with the database.\n",
    "\n",
    "Throughout this course, we always introduced the name of the table and what the table looked like in the jobs.db database we worked with. We can actually query the database to get this information directly:\n",
    "\n",
    "SELECT * FROM sqlite_master WHERE type='table';\n",
    "In the last mission, we learned how to connect to a SQLite database and query it using the sqlite3 module. When working in the Jupyter notebook environment, we can actually use pandas to run SQL queries and display the results neatly as a DataFrame object. We create a sqlite3.Connection instance as usual and then use pandas.read_sql_query(sql, con) to handle running the query and returning the results in a table:\n",
    "\n",
    "import sqlite3\n",
    "import pandas as pd\n",
    "conn = sqlite3.connect(\"factbook.db\")\n",
    "​\n",
    "q = \"SELECT * FROM sqlite_master WHERE type='table';\"\n",
    "pd.read_sql_query(q, conn)\n",
    "This will return the following data frame:\n",
    "\n",
    "type name tbl_name rootpage sql\t\t\t\t\t\t\n",
    "0 table facts facts 2 CREATE\tTABLE\tfacts\t(\"id\"\tINTEGER\tPRIMARY\tKEY...\n",
    "1 table sqlite_sequence sqlite_sequence 3 CREATE\tTABLE\tsqlite_sequence(name,seq)\t\t\t\t\n",
    "If we had used the default sqlite3 querying method, we would have gotten back nested tuples:\n",
    "\n",
    "[('table',\n",
    "  'facts',\n",
    "  'facts',\n",
    "  2,\n",
    "  'CREATE TABLE \"facts\" (\"id\" INTEGER PRIMARY KEY AUTOINCREMENT NOT NULL, \"code\" varchar(255) NOT NULL, \"name\" varchar(255) NOT NULL, \"area\" integer, \"area_land\" integer, \"area_water\" integer, \"population\" integer, \"population_growth\" float, \"birth_rate\" float, \"death_rate\" float, \"migration_rate\" float, \"created_at\" datetime, \"updated_at\" datetime)'),\n",
    " ('table',\n",
    "  'sqlite_sequence',\n",
    "  'sqlite_sequence',\n",
    "  3,\n",
    "  'CREATE TABLE sqlite_sequence(name,seq)')]\n",
    "You may be wondering why we're using SQLite at all if we're just reading in the results into pandas dataframes anyway. Why not just use pandas? First, most data analysts and data scientists in industry use a SQL GUI based tool which:\n",
    "\n",
    "let you write queries and save them for later\n",
    "let you run queries against multiple enterprise database systems (MySQL, Postgres, etc.)\n",
    "return results as a table\n",
    "create standard visualizations like line charts, bar plots, and histograms from the results table without any programming\n",
    "Here are some examples of GUI based SQL tools:\n",
    "\n",
    "Mode Analytics [https://about.modeanalytics.com/product/]\n",
    "Periscope Data [https://www.periscopedata.com/product]\n",
    "MySQL Workbench [https://www.mysql.com/products/workbench/]\n",
    "Jack DB [https://www.jackdb.com/]\n",
    "We're using pandas and matplotlib to display results nearly and visualize them because they let us focus on practicing thinking and working in SQL. You'll spend most of your time in SQL in this guided project and will inteface with pandas and matplotlib minimally.\n",
    "\n",
    "You can find the solutions notebook for this guided project here. [https://github.com/dataquestio/solutions/blob/master/Mission257Solutions.ipynb]\n",
    "\n",
    "Instructions\n",
    "Import pandas and sqlite3.\n",
    "Connect to factbook.db and use pandas.read_sql_query() to return information on the tables in the database.\n",
    "Write and run another query that returns the first 5 rows of the only table in the database."
   ]
  },
  {
   "cell_type": "raw",
   "metadata": {},
   "source": [
    "2. Introduction to the Data\n",
    "\n",
    "We now know that factbook.db contains a single table, the facts table, and that the first few rows look like:\n",
    "\n",
    "id\tcode\tname\tarea\tarea_land\tarea_water\tpopulation\tpopulation_growth\tbirth_rate\tdeath_rate\tmigration_rate\tcreated_at\tupdated_at\t\n",
    "0\t1\taf\tAfghanistan\t652230\t652230\t0\t32564342\t2.32\t38.57\t13.89\t1.51\t2015-11-01 13:19:49.461734\t2015-11-01 13:19:49.461734\n",
    "1\t2\tal\tAlbania\t28748\t27398\t1350\t3029278\t0.30\t12.92\t6.58\t3.30\t2015-11-01 13:19:54.431082\t2015-11-01 13:19:54.431082\n",
    "2\t3\tag\tAlgeria\t2381741\t2381741\t0\t39542166\t1.84\t23.67\t4.31\t0.92\t2015-11-01 13:19:59.961286\t2015-11-01 13:19:59.961286\n",
    "3\t4\tan\tAndorra\t468\t468\t0\t85580\t0.12\t8.13\t6.96\t0.00\t2015-11-01 13:20:03.659945\t2015-11-01 13:20:03.659945\n",
    "4\t5\tao\tAngola\t1246700\t1246700\t0\t19625353\t2.78\t38.78\t11.49\t0.46\t2015-11-01 13:20:08.625072\t2015-11-01 13:20:08.625072\n",
    "Here are the descriptions for some of the columns:\n",
    "\n",
    "name - The name of the country.\n",
    "area - The total land and sea area of the country.\n",
    "population - The country's population.\n",
    "population_growth- The country's population growth as a percentage.\n",
    "birth_rate - The country's birth rate, or the number of births a year per 1,000 people.\n",
    "death_rate - The country's death rate, or the number of death a year per 1,000 people.\n",
    "area- The country's total area (both land and water).\n",
    "area_land - The country's land area in square kilometers.\n",
    "area_water - The country's waterarea in square kilometers.\n",
    "Let's start by calculating some summary statistics and look for any outlier countries.\n",
    "\n",
    "Instructions\n",
    "Write a single query that returns the:\n",
    "minimum population\n",
    "maximum population\n",
    "minimum population growth\n",
    "maximum population growth"
   ]
  },
  {
   "cell_type": "raw",
   "metadata": {},
   "source": [
    "3. Exploring Outliers\n",
    "\n",
    "A few things stick out from the summary statistics in the last screen:\n",
    "\n",
    "there's a country with a population of 0\n",
    "there's a country with a population of 7256490011 (or more than 7.2 billion people)\n",
    "Let's zoom in on just these countries.\n",
    "\n",
    "Instructions\n",
    "Write a query that returns the countrie(s) with a population of 0.\n",
    "Write a query that returns the countrie(s) with a population of 7256490011.\n",
    "In a markdown cell, type up your observations on these rows."
   ]
  },
  {
   "cell_type": "raw",
   "metadata": {},
   "source": [
    "4. Histograms\n",
    "\n",
    "It seems like the table contains a row for the whole world, which explains the population of over 7.2 billion. It also seems like the table contains a row for Antarctica, which explains the population of 0. This seems to match the CIA Factbook page for Antarctica:\n",
    "\n",
    "Antarctica\n",
    "\n",
    "Let's move on to generating histograms for the rest of the countries in the table, ignoring these 2 rows. You'll want to write a query that returns all of the values in the columns you want to visualize:\n",
    "\n",
    "population\tpopulation_growth\tbirth_rate\tdeath_rate\t\n",
    "0\t32564342\t2.32\t38.57\t13.89\n",
    "1\t3029278\t0.30\t12.92\t6.58\n",
    "2\t39542166\t1.84\t23.67\t4.31\n",
    "3\t85580\t0.12\t8.13\t6.96\n",
    "Once the results table is represented as a dataframe, you can use the pd.DataFrame.hist() method [https://pandas.pydata.org/pandas-docs/stable/generated/pandas.DataFrame.hist.html] to generate histograms for all of the columns.\n",
    "\n",
    "Instructions\n",
    "Using just the non-outlier rows, generate a 2 by 2 grid of histograms for the following columns:\n",
    "population\n",
    "population_growth\n",
    "birth_rate\n",
    "death_rate"
   ]
  },
  {
   "cell_type": "raw",
   "metadata": {},
   "source": [
    "5. Next Steps\n",
    "\n",
    "That's it for the guided steps. Here are some next steps for you to explore:\n",
    "\n",
    "Which countries have the highest population density?\n",
    "Population density is the ratio of population to land area. Compare your results with those from Wikipedia.\n",
    "Generate a histogram of population densities.\n",
    "Which countries have the highest ratios of water to land? Which countries have more water than land?"
   ]
  }
 ],
 "metadata": {
  "kernelspec": {
   "display_name": "Python 2",
   "language": "python",
   "name": "python2"
  },
  "language_info": {
   "codemirror_mode": {
    "name": "ipython",
    "version": 2
   },
   "file_extension": ".py",
   "mimetype": "text/x-python",
   "name": "python",
   "nbconvert_exporter": "python",
   "pygments_lexer": "ipython2",
   "version": "2.7.14"
  }
 },
 "nbformat": 4,
 "nbformat_minor": 2
}
