{
 "cells": [
  {
   "cell_type": "markdown",
   "metadata": {},
   "source": [
    "# Step 7 Advanced Python and Computer Science - Binary Search"
   ]
  },
  {
   "cell_type": "raw",
   "metadata": {},
   "source": [
    "1. Let's Play a Game\n",
    "\n",
    "Imagine you and I are playing a game. You have to guess a number between 1 and 100, and after each guess I'll tell you whether the answer is higher or lower than your guess.\n",
    "\n",
    "Perhaps your strategy is to start at 1. If 1 isn't the answer, you guess 2, then 3, and so on. This strategy resembles the linear search we learned in our last mission. However, since I'm giving you helpful hints, I'll tell you that a linear search is a naive approach to this game."
   ]
  },
  {
   "cell_type": "raw",
   "metadata": {},
   "source": [
    "2. A Better Strategy\n",
    "\n",
    "Instead, imagine guessing 50 first. I tell you the answer is higher. Suddenly, you've removed half of the original possibilities for consideration. You then guess 75, and I tell you the answer is lower. In only two guesses, you've eliminated 3/4 of the possibilities, and you now know that the answer lies between 50 and 75. That's a significant reduction, and your strategy is very efficient.\n",
    "\n",
    "This is the strategy a binary search uses. A binary search can help us find an item in a list efficiently if we know the list is ordered. We can check the middle element of the list, compare it to the item we're looking for, and continue narrowing our search in this manner."
   ]
  },
  {
   "cell_type": "raw",
   "metadata": {},
   "source": [
    "3. When can we use binary search?\n",
    "\n",
    "So if binary search is more efficient than linear search, why ever bother with linear search at all?\n",
    "\n",
    "The answer is that we can only perform a binary search on ordered data. Recall that in our game, the key to our strategy was that we knew exactly how our guess compared to the correct number. We only knew this because there was an order to the \"data.\"\n",
    "\n",
    "To order data, we must be able to compare two elements and determine which is greater, or if they're equal. We can compare two strings the same way we compare integers. For instance, \"A\" is less than \"Z\", and \"A\" < \"Z\" would evaluate to True.\n",
    "\n",
    "Next, we'll be searching a data set for the names of specific athletes who played in the NBA in 2012. The data set is in alphabetical order by last name, then first name. This a problem, because the data is ordered alphabetically by last name, but the first name is the first thing that appears in each row. As a result, we can't directly compare the names in their current, raw format. Instead, we'll need to format them as last_name, first_name.\n",
    "\n",
    "Before moving on, be sure you understand why reformatting the names is important, and why it will allow us to compare names properly."
   ]
  },
  {
   "cell_type": "raw",
   "metadata": {},
   "source": [
    "4. Implementing Binary Search: Part 1\n",
    "\n",
    "Let's start implementing a binary search on our list of NBA players.\n",
    "\n",
    "We'll need to do some division by two to perform binary search. To ensure we get a sensible index, we'll cast the result of this division to an integer using the math.floor() function, which rounds down to the nearest integer.\n",
    "\n",
    "We need to do this because if we're splitting an interval with an odd length, we'll get an index that has a fraction. Since a fraction is nonsense in the context of indexing a data set, we'll cast it to an integer. The choice to round down rather than up is arbitrary, but we'll use it for our implementation.\n",
    "\n",
    "Because this is a fairly involved algorithm, we'll implement it piece by piece. First, we need to understand what step to take after each guess. We've created the format_name function to save you from tedious string manipulation. We've also loaded the nba data set for you.\n",
    "\n",
    "Instructions\n",
    "Write the function player_age, which takes in name as a parameter.\n",
    "For now, start your guess at the middle of the list. Return \"later\" if the name we want is later in the list, \"earlier\" if it's earlier in the list, and \"found\" if you've found the right name.\n",
    "Store the result of calling player_age on \"Darius Johnson-Odom\" in johnson_odom_age.\n",
    "Store the result of calling player_age on \"Nick Young\" in young_age.\n",
    "Store the result of calling player_age on \"Jeff Adrien\" in adrien_age."
   ]
  },
  {
   "cell_type": "code",
   "execution_count": null,
   "metadata": {
    "collapsed": true
   },
   "outputs": [],
   "source": [
    "# A function to extract a player's last name\n",
    "def format_name(name):\n",
    "    return name.split(\" \")[1] + \", \" + name.split(\" \")[0]\n",
    "\n",
    "# The length of the data set\n",
    "length = len(nba)\n",
    "\n",
    "# Implement the player_age function. For now, just return what the instructions specify\n",
    "def player_age(name):\n",
    "    # We need to format our name appropriately for successful comparison\n",
    "    name = format_name(name)\n",
    "    # First guess halfway through the list\n",
    "    first_guess_index = math.floor(length/2)\n",
    "    first_guess = format_name(nba[first_guess_index][0])\n",
    "    # Check where we should continue searching"
   ]
  },
  {
   "cell_type": "raw",
   "metadata": {},
   "source": [
    "5. Implementing Binary Search: Part 2\n",
    "\n",
    "We've found our first guess and figured out where to keep looking. The next step is to continue our binary search.\n",
    "\n",
    "Let's imagine a round of our game from before. You guess 50, and I tell you the answer is higher. Now what do you do? You guess 75 - but how did you calculate that value? This is the step we'll focus on in part two of our implementation.\n",
    "\n",
    "We can calculate the index of the next split in several ways. Whichever method we use, we must keep track of the upper and lower bounds of our search. At the beginning of our game, the lower bound is 1, and the upper bound is 100. After I tell you the answer is greater than 50, the lower bound becomes 51 while the upper bound remains 100.\n",
    "\n",
    "The bounds will look slightly different in our binary search implementation, but only because the data set's index starts at 0 instead of 1. It's important to note that our bounds are inclusive.\n",
    "\n",
    "Instructions\n",
    "Edit the player_age function to change the bounds and make a second guess when needed.\n",
    "player_age should return the second guess, which will be a player's name.\n",
    "Format the value the function returns using our \"last_name, first_name\" format.\n",
    "Store the result of calling player_age on \"Pau Gasol\" in gasol_age.\n",
    "Store the result of calling player_age on \"Paul Pierce\" in pierce_age."
   ]
  },
  {
   "cell_type": "code",
   "execution_count": null,
   "metadata": {
    "collapsed": true
   },
   "outputs": [],
   "source": [
    "# A function to extract a player's last name\n",
    "def format_name(name):\n",
    "    return name.split(\" \")[1] + \", \" + name.split(\" \")[0]\n",
    "\n",
    "# The length of the data set\n",
    "length = len(nba)\n",
    "\n",
    "# Implement the player_age function. For now, just return what the instructions specify\n",
    "def player_age(name):\n",
    "    # We need to format our name appropriately for successful comparison\n",
    "    name = format_name(name)\n",
    "    # Initial bounds of the search\n",
    "    upper_bound = length - 1\n",
    "    lower_bound = 0\n",
    "    # Index of first split\n",
    "    first_guess_index = math.floor(length/2)\n",
    "    first_guess = format_name(nba[first_guess_index][0])\n",
    "    # If the name comes before our guess\n",
    "        # Adjust the bounds as needed\n",
    "    # Else if the name comes after our guess\n",
    "        # Adjust the bounds as needed\n",
    "    # Else\n",
    "        # Player found, so return first guess\n",
    "    # Set the index of the second split\n",
    "    # Find and format the second guess\n",
    "    # Return the second guess"
   ]
  },
  {
   "cell_type": "raw",
   "metadata": {},
   "source": [
    "6. Pseudo-Code\n",
    "\n",
    "develop and visualize algorithms. pseudo-code is a powerful, easy-to-use tool that will help you do this. You've already seen plenty of pseudo-code, even in this mission.\n",
    "\n",
    "Pseudo-code comments reflect the code we want to write, but describe it in a high-level human language. For example, we saw the following code snippet on the previous screen:\n",
    "\n",
    "# If the name comes before our guess\n",
    "    # Adjust the bounds as needed\n",
    "# Else if the name comes after our guess\n",
    "    # Adjust the bounds as needed\n",
    "# Else\n",
    "    # Player found, so return first guess\n",
    "The comments in this snippet serve as placeholders for code we haven't written yet. Writing pseudo-code like this can often help us plan and visualize an algorithm before worrying about syntactic details.\n",
    "\n",
    "Pseudo-code is a great tool for all aspects of programming, and we'll use it in this mission to indicate where we need to write certain code."
   ]
  },
  {
   "cell_type": "raw",
   "metadata": {},
   "source": [
    "7. Implementing Binary Search: Part 3\n",
    "\n",
    "We've implemented a binary search function that runs for two iterations. It guesses twice, but if it doesn't find the answer in those two guesses, it gives up. This isn't robust, and we shouldn't stop until we've found our answer.\n",
    "\n",
    "We've also seen that the guessing code is very repetitive. After each guess, we check whether it's correct, adjust our bounds as needed, and then guess again. This is precisely the logic we need, and we can run that logic over and over again. Next, we'll translate it into a loop.\n",
    "\n",
    "A while loop is perfect for this algorithm. It executes code as long as a condition is met.\n",
    "\n",
    "count = 10\n",
    "    while count != 0:\n",
    "        print(count)\n",
    "        count = count - 1\n",
    "    print(\"blastoff!\")\n",
    "The while loop above counts down from 10, and then prints \"blastoff!\". We'll use a while loop to keep guessing until we've found the NBA player we're searching for.\n",
    "\n",
    "Instructions\n",
    "Edit the player_age function so that it continues guessing until it finds the name we requested.\n",
    "To accomplish this, use a while loop with an appropriate condition.\n",
    "When the function finds the right name, return \"found\".\n",
    "Store the result of calling player_age on \"Carmelo Anthony\" in carmelo_age."
   ]
  },
  {
   "cell_type": "code",
   "execution_count": null,
   "metadata": {
    "collapsed": true
   },
   "outputs": [],
   "source": [
    "# A function to extract a player's last name\n",
    "def format_name(name):\n",
    "    return name.split(\" \")[1] + \", \" + name.split(\" \")[0]\n",
    "\n",
    "# The length of the data set\n",
    "length = len(nba)\n",
    "\n",
    "# Implement the player_age function. For now, just return what the instructions specify\n",
    "def player_age(name):\n",
    "    # We need to format our name appropriately for successful comparison\n",
    "    name = format_name(name)\n",
    "    # Bounds of the search\n",
    "    upper_bound = length - 1\n",
    "    lower_bound = 0\n",
    "    # Index of first split. It's important to understand how we compute this\n",
    "    index = math.floor((upper_bound + lower_bound) / 2)\n",
    "    # First, guess halfway through the list\n",
    "    guess = format_name(nba[index][0])\n",
    "    # Keep guessing until it finds the name. Use a while loop here.\n",
    "        # Check where our guess is in relation to the name we're requesting,\n",
    "        #     and adjust our bounds as necessary (multiple lines here).\n",
    "        #     If we have found the name, we wouldn't be in this loop, so\n",
    "        #     we shouldn't worry about that case\n",
    "        # Find the new index of our guess\n",
    "        # Find and format the new guess value\n",
    "    # When our loop terminates, we have found the right NBA player's name"
   ]
  },
  {
   "cell_type": "raw",
   "metadata": {},
   "source": [
    "8. Implementing Binary Search: Part 4\n",
    "\n",
    "We're almost finished implementing our binary search. We still have to retrieve the player's age if we find him, and return -1 if we don't. We can tell when the function doesn't find a player by adding a small condition to our search.\n",
    "\n",
    "We should continue to search until we find the player, or until our list of possible answers is depleted. If we deplete all possible answers, the final step of our search, when upper_bound is equal to lower_bound (and also equal to index), will result in either upper_bound being decremented, or lower_bound being incremented. When this happens, lower_bound will be above upper_bound. We can easily check for this in our loop. It's very important to understand this nuance of our algorithm in order to take advantage of it.\n",
    "\n",
    "Because these additions are short, we've also left it up to you to fill in the missing components of our algorithm.\n",
    "\n",
    "While we've entered the pseudo-code for it in the code screen, you'll need to write the actual code yourself.\n",
    "\n",
    "Instructions\n",
    "Write code that satisfies the tasks the pseudo-code outlines.\n",
    "Store the result of calling player_age on \"Stephen Curry\" in curry_age.\n",
    "Store the result of calling player_age on \"Blake Griffin\" in griffin_age.\n",
    "Store the result of calling player_age on \"Michael Jordan\" in jordan_age."
   ]
  },
  {
   "cell_type": "code",
   "execution_count": null,
   "metadata": {
    "collapsed": true
   },
   "outputs": [],
   "source": [
    "# A function to extract a player's last name\n",
    "def format_name(name):\n",
    "    return name.split(\" \")[1] + \", \" + name.split(\" \")[0]\n",
    "\n",
    "# The length of the data set\n",
    "length = len(nba)\n",
    "\n",
    "# Implement the player_age function. For now, just return what the instructions specify\n",
    "def player_age(name):\n",
    "    name = format_name(name)\n",
    "    # Set the initial upper bound of the search\n",
    "    # Set the initial lower bound of the search\n",
    "    # Set the index of the first split (remember to use math.floor)\n",
    "    # First guess at index (remember to format the guess)\n",
    "    # Run search code until the name is equal to the guess, or upper bound is less than lower bound\n",
    "        # If name comes before the guess\n",
    "            # Change the appropriate bound\n",
    "        # Else (name comes after the guess)\n",
    "            # Change the appropriate bound\n",
    "        # Set the index of our next guess (remember to use math.floor)\n",
    "        # Retrieve and format our next guess\n",
    "        \n",
    "    ### Now that our loop has terminated, we must find out why ###\n",
    "    # If the name is equal to the guess\n",
    "        # Return the age of the player at index (column index 2 in data set)\n",
    "    # Else\n",
    "        # Return -1, because the function didn't find our player"
   ]
  },
  {
   "cell_type": "raw",
   "metadata": {},
   "source": [
    "9. Binary Search Time Complexity Analysis\n",
    "\n",
    "Now let's analyze the complexity of binary search.\n",
    "\n",
    "We've established that every iteration of the algorithm reduces the size of our problem by a factor of two. Because the algorithm's time complexity depends on the input size, we can conclude that it's not constant time. It's not linear time either, though, because it's more efficient than a linear search.\n",
    "\n",
    "It turns out that binary search runs in logarithmic time, which we denote as O(log(n)). Logarithms are the mathematical counterpart to exponents. It makes sense that an algorithm that cuts its problem size in half (or by any fraction) with each iteration will be logarithmic. Here's a graph of constant, linear, and logarithmic time:\n",
    "\n",
    "Imgur\n",
    "https://imgur.com/TPJDmzg.png\n",
    "\n",
    "The graph shows the runtimes of three algorithms with respect to input size. The constant time algorithm is green, linear time is red, and logarithmic time is blue. You can see that the logarithmic function grows more slowly than the linear function over the long run, but still more quickly than the constant function."
   ]
  }
 ],
 "metadata": {
  "kernelspec": {
   "display_name": "Python 2",
   "language": "python",
   "name": "python2"
  },
  "language_info": {
   "codemirror_mode": {
    "name": "ipython",
    "version": 2
   },
   "file_extension": ".py",
   "mimetype": "text/x-python",
   "name": "python",
   "nbconvert_exporter": "python",
   "pygments_lexer": "ipython2",
   "version": "2.7.14"
  }
 },
 "nbformat": 4,
 "nbformat_minor": 2
}
