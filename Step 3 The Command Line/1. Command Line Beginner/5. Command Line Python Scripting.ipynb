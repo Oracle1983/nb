{
 "cells": [
  {
   "cell_type": "markdown",
   "metadata": {},
   "source": [
    "# Step 3 The Command Line - Command Line Python Scripting"
   ]
  },
  {
   "cell_type": "raw",
   "metadata": {},
   "source": [
    "1. Introduction to Command Line Python\n",
    "\n",
    "We looked at the command line Python interpreter in the last mission. The interpreter lets us run Python commands and see their results immediately. It's very useful for testing snippets of code quicky, as well as debugging. But it's not a good way to develop Python programs, because the commands aren't saved anywhere.\n",
    "\n",
    "In order to develop Python programs, we'll need to make files containing Python code. Then we'll be able to use the interpreter to run them from the command line. This way, we can save all of our commands, but still see what's happening.\n",
    "\n",
    "This is a very common way to develop with Python -- use an IDE or text editor to create Python files, then run them from the command line.\n",
    "\n",
    "We can make a file that Python can execute on the command line by adding some lines of Python code to a blank file. Here's an example of Python code:\n",
    "\n",
    "if __name__ == \"__main__\":\n",
    "    print(\"Welcome to a Python script\")\n",
    "The code above will print Welcome to a Python script when we run it from the command line. To run it, we just need to put those lines into a file, save the file as file.py, and then call it with python file.py.\n",
    "\n",
    "This code works because the __name__ variable in Python scripts is automatically set to the name of the module. If the module is being run from the command line, the __name__ variable will be __main__ by default. Checking the __name__ variable allows us to tell whether a script is running from the command line or not.\n",
    "\n",
    "Instructions\n",
    "Create a file called script.py in the /home/dq folder that contains the following code:\n",
    "if __name__ == \"__main__\":\n",
    "    print(\"Welcome to a Python script\")\n",
    "Finally, save the file and run it using python script.py."
   ]
  },
  {
   "cell_type": "raw",
   "metadata": {},
   "source": [
    "2. Using Different Python Versions\n",
    "\n",
    "There are actually two versions of Python on this machine. We ran the last script using the default python executable, which is Python version 2. We'll want to use Python 3 instead, which we can access with the python3 executable.\n",
    "\n",
    "Instructions\n",
    "Type python3 script.py to run the file script.py using Python 3."
   ]
  },
  {
   "cell_type": "raw",
   "metadata": {},
   "source": [
    "3. Installing Packages that Extend Python\n",
    "\n",
    "Packages are an important way to extend Python's functionality. We've worked with packages like matplotlib and pandas. The best way to install packages is to use the command line and a program called pip. The newest versions of Python include pip by default, so installing Python will automatically give you access to pip.\n",
    "\n",
    "In order to install a package with pip, we just use pip install. pip install requests will install the requests package, which developers use to interact with websites and APIs.\n",
    "\n",
    "Instructions\n",
    "Type pip install requests to install the requests package.\n",
    "The requests library is already installed, so you'll see a message indicating that."
   ]
  },
  {
   "cell_type": "raw",
   "metadata": {},
   "source": [
    "4. Overview of Virtual Environments\n",
    "\n",
    "On the previous screen, we used the default version of pip to install requests for the python executable, which is Python version 2.\n",
    "\n",
    "What if we had wanted to install requests for Python 3 instead? Different projects can require different packages and Python versions. This type of version switching can become confusing.\n",
    "\n",
    "For this reason, a computer system has one python executable, and we have to install all packages and libraries globally. This means that every single project on a machine has to use the same version of Python, and the same version of every package.\n",
    "\n",
    "By default, we can't use different versions of Python without some hacks. One such hack is renaming python to python3 so we can have access to both Python 2 and Python 3.\n",
    "\n",
    "A better solution is for each project we write to have its own version of Python, along with its own packages. This way, we don't need to worry that upgrading the version of a package will affect other projects on the system and cause them to stop working.\n",
    "\n",
    "Virtual environments, or virtualenvs, let us do this. We can create a new virtualenv with the virtualenv command. While we normally have to install the virtualenv package first in order to access this command, we've already installed it for you to simplify the process.\n",
    "\n",
    "Typing virtualenv main will create a virtualenv named main. It will create a folder in the current directory called main that will hold all of the packages we install into the virtual environment.\n",
    "\n",
    "Instructions\n",
    "Type virtualenv python2 in the /home/dq directory to create a new virtual environmented named python2.\n",
    "Note how it makes a folder called python2."
   ]
  },
  {
   "cell_type": "raw",
   "metadata": {},
   "source": [
    "5. Creating a Python 3 virtualenv\n",
    "\n",
    "By default, virtualenv will use the python executable when it makes a new virtualenv, which means that it has the same version of Python as the system. In this case, we want to use python3 for our virtualenv instead. In order to do this, we pass the -p flag to the virtualenv command, which will allow us to change the Python interpreter that virtualenv uses.\n",
    "\n",
    "In this case, we can type virtualenv -p /usr/bin/python3 python3 to use Python 3 instead of Python 2.\n",
    "\n",
    "Instructions\n",
    "Create a virtualenv called python3 in the /home/dq folder that uses Python 3."
   ]
  },
  {
   "cell_type": "raw",
   "metadata": {},
   "source": [
    "6. Activating a virtualenv\n",
    "\n",
    "Once we've created a virtualenv, we can activate it using source python3/bin/activate (this assumes that the virtualenv is called python3, and that the folder for the virtualenv is in our current directory).\n",
    "\n",
    "Once we activate a virtualenv, the Python version and packages installed in it will become the default Python version and packages that run when we type python.\n",
    "\n",
    "Instructions\n",
    "Activate the python3 virtualenv."
   ]
  },
  {
   "cell_type": "raw",
   "metadata": {},
   "source": [
    "7. Verifying the Installed Packages\n",
    "\n",
    "We can find out which version of Python we're using with python -V. We can also look up which packages are currently installed (along with their versions) with pip freeze. If we activate a virtualenv, all of the packages, including pip, will be from the virtualenv instead of the main system Python executable.\n",
    "\n",
    "Instructions\n",
    "Type python -V to verify that Python 3 is the current Python version after activating the virtualenv.\n",
    "Type pip freeze to check which packages are installed, and their versions."
   ]
  },
  {
   "cell_type": "raw",
   "metadata": {},
   "source": [
    "8. Importing Saved Functions into a File\n",
    "\n",
    "One of the great things about Python is that we can import functions from a package into a file. We can also import functions and classes from one file into another file. This gives us a powerful way to structure larger projects without having to put everything into one file.\n",
    "\n",
    "We'll experiment with this style of import by writing a function in a file, and then importing it into another file.\n",
    "\n",
    "If there's a file named utils.py, we can import it into another file in the same directory using import utils. All of the functions and classes defined in utils.py will then be available using dot notation. If there's a function called keep_time() in utils.py, we can access it with utils.keep_time() after importing it.\n",
    "\n",
    "Instructions\n",
    "Create a file called utils.py that contains the following code:\n",
    "def print_message():\n",
    "    print(\"Hello from another file!\")\n",
    "Modify the original script.py file to contain this code instead:\n",
    "import utils\n",
    "\n",
    "if __name__ == \"__main__\":\n",
    "    utils.print_message()\n",
    "Both script.py and utils.py should be in the same folder.\n",
    "Finally, run python script.py to print out the message."
   ]
  },
  {
   "cell_type": "raw",
   "metadata": {},
   "source": [
    "9. Accessing Command Line Arguments\n",
    "\n",
    "We can also pass command line options into Python scripts. We can retrieve them from inside the script through the sys package.\n",
    "\n",
    "Once we import the sys package, the argv list will allow us to retrieve the positional arguments passed into the script. We learned about positional arguments in the last mission -- they're the arguments that come after the command name. python script.py 82 is one example. The first positional argument is script.py, and the second is 82.\n",
    "\n",
    "The following code will read input from the command line and print it back out. If the code is in a file named script.py, we'd call python script.py \"Hello from the command line\" to pass in the text we want to display.\n",
    "\n",
    "import sys\n",
    "​\n",
    "if __name__ == \"__main__\":\n",
    "    print(sys.argv[1])\n",
    "Notice that we printed the second item in the argv list (sys.argv[1]). This is because the arguments come after the python command, so the first argument is the name of the file we want to run. The second argument is the actual text that we want to print.\n",
    "\n",
    "Instructions\n",
    "Modify script.py to accept and print a command line argument.\n",
    "Then, call the script and pass in \"Hello from the command line\"."
   ]
  },
  {
   "cell_type": "raw",
   "metadata": {},
   "source": [
    "10. Deactivating a virtualenv\n",
    "\n",
    "To switch a virtualenv off so we can move to a different project, we deactivate it with the deactivate command. This command will automatically shut down the current virtualenv, so we don't need to pass in its name.\n",
    "\n",
    "Instructions\n",
    "Deactivate the virtualenv."
   ]
  }
 ],
 "metadata": {
  "kernelspec": {
   "display_name": "Python 2",
   "language": "python",
   "name": "python2"
  },
  "language_info": {
   "codemirror_mode": {
    "name": "ipython",
    "version": 2
   },
   "file_extension": ".py",
   "mimetype": "text/x-python",
   "name": "python",
   "nbconvert_exporter": "python",
   "pygments_lexer": "ipython2",
   "version": "2.7.14"
  }
 },
 "nbformat": 4,
 "nbformat_minor": 2
}
