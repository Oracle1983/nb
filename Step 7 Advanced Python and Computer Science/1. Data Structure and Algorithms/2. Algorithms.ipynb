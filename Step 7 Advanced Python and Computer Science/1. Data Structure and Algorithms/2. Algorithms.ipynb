{
 "cells": [
  {
   "cell_type": "markdown",
   "metadata": {},
   "source": [
    "# Step 7 Advanced Python and Computer Science - Algorithms"
   ]
  },
  {
   "cell_type": "raw",
   "metadata": {},
   "source": [
    "1. What is an algorithm?\n",
    "\n",
    "An algorithm is a well-defined series of steps for performing a task, such as making calculations or processing data. An algorithm usually has an input and an output. In reality, any code we write performs an algorithm, whether it be simple or complicated.\n",
    "\n",
    "In real life, we perform algorithms daily. Following a cookie recipe is an example of a series of steps that takes an input (the ingredients) and produces an output (the cookies).\n",
    "\n",
    "You may have seen machine learning algorithms on Dataquest. These are a special type of algorithm. There are many other kinds of algorithms. In this mission, we'll show you a few examples of what an algorithm looks like, and introduce some methods for evaluating their efficiency."
   ]
  },
  {
   "cell_type": "raw",
   "metadata": {},
   "source": [
    "2. Implementing an Algorithm\n",
    "\n",
    "Let's start with a simple algorithm that searches for a value in a list. We could use a linear search algorithm to do this. Remember that an algorithm is a particular method for performing a task, and linear search is only one of several algorithms that can solve this problem.\n",
    "\n",
    "Linear search checks a list of items for a particular value by reviewing each item in the list until it finds the one it's looking for. If it doesn't find a matching item, we can conclude that there's no matching item in the list.\n",
    "\n",
    "Instructions\n",
    "You'll be working with nba, a data set containing the names and ages of National Basketball Association (NBA) players from 2013, along with some statistics.\n",
    "Write a linear search algorithm to find \"Kobe Bryant\" in the nba data set.\n",
    "The first column (index 0) contains each player's name.\n",
    "Once the algorithm finds \"Kobe Bryant\", store his position (from the second column) in the variable kobe_position."
   ]
  },
  {
   "cell_type": "code",
   "execution_count": null,
   "metadata": {
    "collapsed": true
   },
   "outputs": [],
   "source": [
    "# When the algorithm finds Kobe in the data set, store his position in Kobe_position\n",
    "kobe_position = \"\"\n",
    "\n",
    "# Find Kobe in the data set"
   ]
  },
  {
   "cell_type": "raw",
   "metadata": {},
   "source": [
    "3. The Importance of Modularity and Abstraction\n",
    "\n",
    "As algorithms become more complex, it's important to make sure the code remains modular.\n",
    "\n",
    "Modular code consists of smaller chunks that we can reuse for other things. The most common way to make code modular is to use functions.\n",
    "\n",
    "Abstraction is the idea that someone can use our code to perform an operation without having to worry about how we wrote or implemented it.\n",
    "\n",
    "The sum() function exhibits both modularity and abstraction. We don't know exactly how the function is implemented, and we don't need to; we only need to know what it does. That makes it abstract. It also saves us the work of having to manually compute sums in many parts of our code. That makes it modular."
   ]
  },
  {
   "cell_type": "raw",
   "metadata": {},
   "source": [
    "4. Linear Search with Modular Code\n",
    "\n",
    "Now let's try writing a modular search function that can find the age of any player in our data set without having to repeat code.\n",
    "\n",
    "Instructions\n",
    "Write a function called player_age that takes in a name parameter.\n",
    "The function should return the player's age from the nba data set, which we've loaded in for you.\n",
    "If the function doesn't find the player, it should return -1.\n",
    "The third column of nba (index 2) contains the players' ages.\n",
    "Store the age of \"Ray Allen\" in the variable allen_age.\n",
    "Store the age of \"Kevin Durant\" in the variable durant_age.\n",
    "Store the age of \"Shaquille O'Neal\" in the variable shaq_age."
   ]
  },
  {
   "cell_type": "code",
   "execution_count": null,
   "metadata": {
    "collapsed": true
   },
   "outputs": [],
   "source": [
    "# player_age returns the age of a player in our NBA data set"
   ]
  },
  {
   "cell_type": "raw",
   "metadata": {},
   "source": [
    "5. What Makes an Algorithm Smart?\n",
    "\n",
    "So far, we've been working with linear search, which is a fairly basic algorithm. When we need to perform more complicated tasks, algorithms can become very involved, especially considering that many different ones can achieve the same result.\n",
    "\n",
    "With multiple algorithms to choose from, a programmer has to make trade-offs and decide which algorithm best suits his or her needs. The most common factor to consider is time complexity.\n",
    "\n",
    "Time complexity is a measurement of how much time an algorithm takes with respect to its input size. Algorithms with smaller time complexities generally take less time and are more desirable."
   ]
  },
  {
   "cell_type": "raw",
   "metadata": {},
   "source": [
    "6. Constant Time Algorithms\n",
    "\n",
    "A constant algorithm takes the same amount of time to complete, regardless of the input size.\n",
    "\n",
    "For example, let's consider an algorithm that returns the first element of a list:\n",
    "\n",
    "def first(ls):\n",
    "    return ls[0]\n",
    "Regardless of list size, the algorithm returns the first element in constant time. It only takes one operation to retrieve this element, no matter how large the list.\n",
    "\n",
    "We tend to think of algorithms in terms of steps. We consider any basic operation like setting a variable or performing arithmetic a step. Algorithms that take a constant number of steps are always constant time, even if that constant number is not 1.\n",
    "\n",
    "Most complicated algorithms are not constant time. However, many operations within larger algorithms are constant time. Since we don't particularly care about what the constant is, we don't need to tediously count steps, as long as we're certain we'll get a constant.\n",
    "\n",
    "An example of an operation that's not constant time is a loop that touches every element in an input list. Since a larger input would necessitate more steps, we can't treat this operation as a constant. We'll look closely at cases like this soon."
   ]
  },
  {
   "cell_type": "raw",
   "metadata": {},
   "source": [
    "7. Exercise: Recognizing Constant Time Algorithms\n",
    "\n",
    "It's important to recognize the time complexity of your algorithms. This exercise will help you learn to identify them.\n",
    "\n",
    "Instructions\n",
    "Read the function implementations in the code cell. Of A, B, and C, one implementation is not constant time.\n",
    "Indicate which one is not constant time by setting not_constant to the value \"A\", \"B\", or \"C\"."
   ]
  },
  {
   "cell_type": "code",
   "execution_count": null,
   "metadata": {
    "collapsed": true
   },
   "outputs": [],
   "source": [
    "# Implementation A: Convert degrees Celcius to degrees Fahrenheit\n",
    "def celcius_to_fahrenheit(degrees):\n",
    "    step_1 = degrees * 1.8\n",
    "    step_2 = step_1 + 32\n",
    "    return step_2\n",
    "\n",
    "# Implementation B: Reverse a list\n",
    "def reverse(ls):\n",
    "    length = len(ls)\n",
    "    new_list = []\n",
    "    for i in range(length):\n",
    "        new_list[i] = ls[length - i]\n",
    "    return new_list\n",
    "\n",
    "# Implementation C: Print a blastoff message after a countdown\n",
    "def blastoff(message):\n",
    "    count = 10\n",
    "    for i in range(count):\n",
    "        print(count - i)\n",
    "    print(message)\n",
    "\n",
    "not_constant = \"\""
   ]
  },
  {
   "cell_type": "raw",
   "metadata": {},
   "source": [
    "8. A Common Pitfall\n",
    "\n",
    "We said earlier that we often consider small steps in an algorithm to be constant time. However, be careful not to assume that every small operation is. For instance, function calls and built-in Python operations are often not constant time because the function/operator itself isn't.\n",
    "\n",
    "def has_milk(fridge_items):\n",
    "    if \"milk\" in fridge_items:\n",
    "        return True\n",
    "    else:\n",
    "        return False\n",
    "It's easy to mistake the function above for a constant time algorithm. However, Python's in operator has to search through the list we passed in to check whether the element \"milk\" exists. This can take more or less time, depending on the size of the list. Therefore, this algorithm is not constant time."
   ]
  },
  {
   "cell_type": "raw",
   "metadata": {},
   "source": [
    "9. Linear Time Algorithms\n",
    "\n",
    "Now let's consider the linear search we wrote earlier. It looked something like this:\n",
    "\n",
    "def player_age(name):\n",
    "    for row in nba:\n",
    "        if row[0] == name:\n",
    "            return row[2]\n",
    "    return -1\n",
    "The code above stops executing and returns immediately when it finds the NBA player. If the algorithm performs a linear search and the element we're looking for happens to be first on the list, then the search is very quick.\n",
    "\n",
    "However, that case isn't very interesting, and it doesn't tell us very much about what trade-offs we're really making by choosing that specific algorithm.\n",
    "\n",
    "The opposite scenario occurs when the element is very far down on the list, or doesn't exist at all. This is the case we care about, because accounting for the worst case scenario will ensure that the algorithm we choose or build is more robust.\n",
    "\n",
    "In the worst case scenario for a list of size n, the algorithm has to check n elements. We refer to this time complexity as linear time because the runtime grows at a constant rate with respect to the size of the input.\n",
    "\n",
    "Algorithms that take constant multiples of n steps (where n is the input size) are still linear time. For instance, an algorithm that takes 5n steps, or even 0.5n steps, is linear time. If we have an algorithm that prints the first half of a list (and we know the length of the list ahead of time), the algorithm will take 0.5n time. Even though it takes less than n time, we still consider it linear.\n",
    "\n",
    "It's also worth noting that we only care about performance at a large scale. At a small scale, most algorithms will run pretty quickly, and it's only when n becomes large that we worry about time complexity.\n",
    "\n",
    "Consequently, we only consider the highest order of n for time complexity. That means that an algorithm that runs in 9n + 20 time is linear, because the constant component is negligible for large values of n."
   ]
  },
  {
   "cell_type": "raw",
   "metadata": {},
   "source": [
    "10. Some Other Algorithms\n",
    "\n",
    "So far, we've only seen linear time and constant time algorithms. While there are infinitely many categories of algorithms and time complexities, these two cover a large variety of possibilities.\n",
    "\n",
    "Instructions\n",
    "Read the following implementations of algorithms, and indicate their time complexities by setting the corresponding variables to \"linear\" or \"constant\"."
   ]
  },
  {
   "cell_type": "code",
   "execution_count": null,
   "metadata": {
    "collapsed": true
   },
   "outputs": [],
   "source": [
    "# Find the length of a list\n",
    "def length(ls):\n",
    "    count = 0\n",
    "    for elem in ls:\n",
    "        count = count + 1\n",
    "length_time_complexity = \"\"\n",
    "\n",
    "# Check whether a list is empty -- Implementation 1\n",
    "def is_empty_1(ls):\n",
    "    if length(ls) == 0:\n",
    "        return True\n",
    "    else:\n",
    "        return False\n",
    "is_empty_1_complexity = \"\"\n",
    "\n",
    "# Check whether a list is empty -- Implementation 2\n",
    "def is_empty_2(ls):\n",
    "    for element in ls:\n",
    "        return False\n",
    "    return True\n",
    "is_empty_2_complexity = \"\""
   ]
  },
  {
   "cell_type": "raw",
   "metadata": {},
   "source": [
    "11. Notation for Time Complexity\n",
    "\n",
    "When discussing time complexity, we should use the proper notation. Most commonly, we use Big-O Notation.\n",
    "\n",
    "To denote constant time, we would write O(1), because 1 is a constant (and a simple constant).\n",
    "\n",
    "To denote linear time, we would write O(n), because n is the simplest example of linearity.\n",
    "\n",
    "Big-O Notation follows a similar pattern for other time complexities. For example, O(n^2), O(2^n), and O(log(n)) are all valid notation. The algorithms with these complexities are probably rather complicated, and we don't need to worry about them at the moment. For now, it's enough to be able to recognize Big-O Notation so we can use it to describe time complexities in future missions."
   ]
  },
  {
   "cell_type": "raw",
   "metadata": {},
   "source": [
    "12. Why Time Complexity Matters\n",
    "\n",
    "Time complexity is an important consideration when we're analyzing real-world data. An inefficient algorithm will perform very slowly on a large data set.\n",
    "\n",
    "Algorithms with lower-order time complexities are more efficient. Constant time algorithms, which we denote with O(1), are more efficient than linear time algorithms, which we denote with O(n). Similarly, an algorithm with complexity O(n^2) is more efficient than one with complexity O(n^3).\n",
    "\n",
    "When considering algorithms, we always want to choose the one with the lowest time complexity. It may not always be the easiest one to implement, but the extra effort is usually worth the resulting efficiency."
   ]
  }
 ],
 "metadata": {
  "kernelspec": {
   "display_name": "Python 2",
   "language": "python",
   "name": "python2"
  },
  "language_info": {
   "codemirror_mode": {
    "name": "ipython",
    "version": 2
   },
   "file_extension": ".py",
   "mimetype": "text/x-python",
   "name": "python",
   "nbconvert_exporter": "python",
   "pygments_lexer": "ipython2",
   "version": "2.7.14"
  }
 },
 "nbformat": 4,
 "nbformat_minor": 2
}
