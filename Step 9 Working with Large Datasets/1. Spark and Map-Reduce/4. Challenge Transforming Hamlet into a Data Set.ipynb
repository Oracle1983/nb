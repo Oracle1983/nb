{
 "cells": [
  {
   "cell_type": "markdown",
   "metadata": {},
   "source": [
    "# Step 9 Working with Large Datasets - Challenge Transforming Hamlet into a Data Set"
   ]
  },
  {
   "cell_type": "raw",
   "metadata": {},
   "source": [
    "1. Introduction\n",
    "\n",
    "n the previous two missions, we covered the basics of PySpark, the MapReduce paradigm, transformations and actions, and how to do basic data cleanup in PySpark. In this challenge, you'll use the techniques you've learned to transform the text of Hamlet into a format that's more useful for data analysis.\n",
    "\n",
    "Resources\n",
    "\n",
    "PySpark's documentation for the RDD data structure [http://spark.apache.org/docs/latest/api/python/pyspark.html#pyspark.RDD]\n",
    "Visual representation of methods (IPython Notebook format) [http://nbviewer.ipython.org/github/jkthompson/pyspark-pictures/blob/master/pyspark-pictures.ipynb]\n",
    "Visual representation of methods (PDF format) [http://training.databricks.com/visualapi.pdf]"
   ]
  },
  {
   "cell_type": "raw",
   "metadata": {},
   "source": [
    "2. Extract Line Numbers\n",
    "\n",
    "The first value in each element (or line from the play) is a line number that identifies the line of the play the text is from. It appears in the following format:\n",
    "\n",
    "'hamlet@0'\n",
    "'hamlet@8',\n",
    "'hamlet@9',\n",
    "...\n",
    "We don't need the hamlet@ at the beginning of these IDs for our data analysis. Let's extract just the integer part of the ID from each line, which is much more useful.\n",
    "\n",
    "Instructions\n",
    "Transform the RDD split_hamlet into a new RDD hamlet_with_ids that contains the clean version of the line ID for each element.\n",
    "For example, we want to transform hamlet@0 to 0, and leave the rest of the values in that element untouched.\n",
    "Recall that the map() function will run on each element in the RDD, where each element is a list that we can access using regular Python mechanics."
   ]
  },
  {
   "cell_type": "code",
   "execution_count": null,
   "metadata": {
    "collapsed": true
   },
   "outputs": [],
   "source": [
    "raw_hamlet = sc.textFile(\"hamlet.txt\")\n",
    "split_hamlet = raw_hamlet.map(lambda line: line.split('\\t'))\n",
    "split_hamlet.take(5)"
   ]
  },
  {
   "cell_type": "raw",
   "metadata": {},
   "source": [
    "3. Remove Blank Values\n",
    "\n",
    "Next, we want to get rid of elements that don't contain any actual words (and just have an ID as the first value). These typically represent blank lines between paragraphs or sections in the play. We also want to remove any blank values ('') within elements, which don't contain any useful information for our analysis.\n",
    "\n",
    "Instructions\n",
    "Clean up the RDD and store the result as a new RDD hamlet_text_only."
   ]
  },
  {
   "cell_type": "code",
   "execution_count": null,
   "metadata": {
    "collapsed": true
   },
   "outputs": [],
   "source": [
    "hamlet_with_ids.take(5)"
   ]
  },
  {
   "cell_type": "raw",
   "metadata": {},
   "source": [
    "4. Remove Pipe Characters\n",
    "\n",
    "If you've been using take() to preview the RDD after each task, you may have noticed there are some pipe characters (|) in odd places that add no value for us. The pipe character may appear as a standalone value in an element, or as part of an otherwise useful string value.\n",
    "\n",
    "Instructions\n",
    "Remove any list items that only contain the pipe character (|), and replace any pipe characters that appear within strings with an empty character.\n",
    "Assign the resulting RDD to clean_hamlet."
   ]
  },
  {
   "cell_type": "code",
   "execution_count": null,
   "metadata": {
    "collapsed": true
   },
   "outputs": [],
   "source": [
    "hamlet_text_only.take(10)"
   ]
  }
 ],
 "metadata": {
  "kernelspec": {
   "display_name": "Python 2",
   "language": "python",
   "name": "python2"
  },
  "language_info": {
   "codemirror_mode": {
    "name": "ipython",
    "version": 2
   },
   "file_extension": ".py",
   "mimetype": "text/x-python",
   "name": "python",
   "nbconvert_exporter": "python",
   "pygments_lexer": "ipython2",
   "version": "2.7.14"
  }
 },
 "nbformat": 4,
 "nbformat_minor": 2
}
