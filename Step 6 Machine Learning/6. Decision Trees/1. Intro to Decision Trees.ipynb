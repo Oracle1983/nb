{
 "cells": [
  {
   "cell_type": "markdown",
   "metadata": {},
   "source": [
    "# Step 6 Machine Learning -  Intro to Decision Trees"
   ]
  },
  {
   "cell_type": "raw",
   "metadata": {},
   "source": [
    "1. Introduction\n",
    "\n",
    "Decision trees are a powerful and popular machine learning technique. The basic concept is very similar to trees you may have seen commonly used to aid decision-making. Here's an example:\n",
    "\n",
    "In the diagram above, we're deciding whether we should wrestle a bear that's in front of us. We're using various criteria to make our final decision, including the size of the bear, and whether escape is possible. Let's say we had a data set of people who survived bear encounters and the actions they took:\n",
    "\n",
    "Bear name    Size    Escape possible?    Action\n",
    "Yogi         Small   No                  Wrestle\n",
    "Winnie       Small   Yes                 Wrestle\n",
    "Baloo        Large   Yes                 Run away\n",
    "Gentle Ben   Large   No                  Wrestle\n",
    "If we wanted to optimize our chances of surviving a bear encounter, we could construct a decision tree to tell us what action to take.\n",
    "\n",
    "As our data set gets larger though, this becomes less and less practical. What if we had 10000 rows and 10 variables? Would you want to look through all of the possibilities to construct a tree?\n",
    "\n",
    "This is where the decision tree machine learning algorithm can help. It enables us to automatically construct a decision tree that tells us what outcomes we should predict in certain situations.\n",
    "\n",
    "The decision tree algorithm is a supervised learning algorithm -- we first construct the tree with historical data, and then use it to predict an outcome. One of the major advantages of decision trees is that they can pick up nonlinear interactions between variables in the data that linear regression can't. In our bear wrestling example, a decision tree can pick up on the fact that you should only wrestle large bears when escape is impossible, whereas a linear regression would have had to weight both factors in the absence of the other.\n",
    "\n",
    "We can use trees for classification or regression problems. In this lesson, we'll walk through the building blocks of making a decision tree automatically."
   ]
  },
  {
   "cell_type": "raw",
   "metadata": {},
   "source": [
    "2. Overview of the Data Set\n",
    "\n",
    "We'll be looking at individual income in the United States. The data is from the 1994 census, and contains information on an individual's marital status, age, type of work, and more. The target column, or what we want to predict, is whether individuals make less than or equal to 50k a year, or more than 50k a year.\n",
    "\n",
    "You can download the data from the University of California, Irvine's website. [http://archive.ics.uci.edu/ml/datasets/Adult]"
   ]
  },
  {
   "cell_type": "code",
   "execution_count": null,
   "metadata": {
    "collapsed": true
   },
   "outputs": [],
   "source": [
    "import pandas\n",
    "\n",
    "# Set index_col to False to avoid pandas thinking that the first column is row indexes (it's age)\n",
    "income = pandas.read_csv(\"income.csv\", index_col=False)\n",
    "print(income.head(5))"
   ]
  },
  {
   "cell_type": "raw",
   "metadata": {},
   "source": [
    "3. Converting Categorical Variables\n",
    "\n",
    "As we can see in our data, we have categorical variables such as workclass that have string values. Multiple individuals can share the same string value. The types of work include State-gov, Self-emp-not-inc, Private, and so on. Each of these strings is a label for a category. Another example of a column of categories is sex, where the options are Male and Female.\n",
    "\n",
    "Before we get started with decision trees, we need to convert the categorical variables in our data set to numeric variables. This involves assigning a number to each category label, then converting all of the labels in a column to the corresponding numbers.\n",
    "\n",
    "One strategy is to convert the columns to a categorical type. Under this approach, pandas will display the labels as strings, but internally store them as numbers so we can do computations with them. The numbers aren't always compatible with other libraries like Scikit-learn, though, so it's easier to just do the conversion to numeric upfront.\n",
    "\n",
    "We can use the Categorical.from_array [http://pandas.pydata.org/pandas-docs/version/0.15.2/generated/pandas.core.categorical.Categorical.from_array.html] method from pandas to perform the conversion to numbers\n",
    "\n",
    "Instructions\n",
    "Convert the rest of the categorical columns in income (education, marital_status, occupation, relationship, race, sex, native_country, and high_income) to numeric columns."
   ]
  },
  {
   "cell_type": "code",
   "execution_count": null,
   "metadata": {
    "collapsed": true
   },
   "outputs": [],
   "source": [
    "# Convert a single column from text categories to numbers\n",
    "col = pandas.Categorical.from_array(income[\"workclass\"])\n",
    "income[\"workclass\"] = col.codes\n",
    "print(income[\"workclass\"].head(5))"
   ]
  },
  {
   "cell_type": "raw",
   "metadata": {},
   "source": [
    "4. Splitting Data\n",
    "\n",
    "A decision tree is made up of a series of nodes and branches. A node is where we split the data based on a variable, and a branch is one side of the split. Here's an example:\n",
    "\n",
    "In the diagram above, the node splits the data into two branches, No and Yes, based on whether the individual works in the private sector (the workclass column). We've mapped the value Private in the workclass column to the numeric code 4 (we can check this by comparing the values in the workclass column that used to have the label Private with the current values to see where they line up). So the No branch corresponds to workclass != 4, and the Yes branch corresponds to workclass == 4.\n",
    "\n",
    "This is exactly how a decision tree works -- we keep splitting the data based on variables. As we do this, the tree accumulates more levels. The tree we made above is two levels deep because it has one split, and two \"levels\" of nodes.\n",
    "\n",
    "The tree below is three levels deep.\n",
    "\n",
    "We added another split point to this tree \"below\", or after, our first split point. This made the tree three levels deep."
   ]
  },
  {
   "cell_type": "raw",
   "metadata": {},
   "source": [
    "5. Creating Splits\n",
    "\n",
    "Now think of rows of data flowing through a decision tree. In the diagram above, we can split the data set into two portions based on whether the individual works in the private sector or not.\n",
    " \n",
    "Instructions\n",
    "Split income into two parts based on the value of the workclass column.\n",
    "private_incomes should contain all rows where workclass is 4.\n",
    "public_incomes should contain all rows where workclass is not 4."
   ]
  },
  {
   "cell_type": "raw",
   "metadata": {},
   "source": [
    "6. Decision Trees as Flows of Data\n",
    "\n",
    "When we performed the split, 9865 rows went to the left, where workclass does not equal 4, and 22696 rows went to the right, where workclass equals 4.\n",
    "\n",
    "It's useful to think of a decision tree as a flow of rows of data. When we make a split, some rows will go to the right, and some will go to the left. As we build the tree deeper and deeper, each node will \"receive\" fewer and fewer rows.\n",
    "\n",
    "Here's a look at the splits, and the number of rows that will exist at each node:"
   ]
  },
  {
   "cell_type": "raw",
   "metadata": {
    "collapsed": true
   },
   "source": [
    "7. Splitting Data to Make Predictions\n",
    "\n",
    "The nodes at the bottom of the tree, where we decide to stop splitting, are called terminal nodes, or leaves. When we do our splits, we aren't doing them randomly; we have an objective. Our goal is to ensure that we can make a prediction on future data. In order to do this, all rows in each leaf must have only one value for our target column.\n",
    "\n",
    "We're trying to predict the high_income column.\n",
    "If high_income is 1, it means that the person has an income higher than 50k a year.\n",
    "If high_income is 0, it means that they have an income less than or equal to 50k a year.\n",
    "\n",
    "After constructing a tree using the income data, we'll want to make predictions. In order to do this, we'll take a new row and feed it through our decision tree.\n",
    "\n",
    "First, we check whether the person works in the private sector. If they do, we'll check to see whether they're native to the US, and so on.\n",
    "\n",
    "Eventually, we'll reach a leaf. The leaf will tell us what value we should predict for high_income.\n",
    "\n",
    "In order to be able to make this prediction, all of the rows in a leaf should only have a single value for high_income. This means that leaves can't have both 0 and 1 values in the high_income column. Each leaf can only have rows with the same values for our target column. If this isn't the case, we won't be able to make effective predictions.\n",
    "\n",
    "We'll need to continue splitting nodes until we get to a point where all of the rows in a node have the same value for high_income."
   ]
  },
  {
   "cell_type": "raw",
   "metadata": {},
   "source": [
    "8. Overview of Data Set Entropy\n",
    "\n",
    "Now that we have a high-level view of how decision trees work, let's explore the details and learn how to perform the splits.\n",
    "\n",
    "We'll use a specific measure to figure out which variables we should split nodes on. Post-split, we'll have two data sets, each containing the rows from one branch of the split.\n",
    "\n",
    "Because we're trying to reach the leaves having only 1s or only 0s in high_income, each split will need to get us closer to that goal.\n",
    "\n",
    "When we split, we'll try to separate as many 0s from 1s in the high_income column as we can. In order to do this, we need a metric for how \"together\" the different values in the high_income column are.\n",
    "\n",
    "Data scientists commonly use a metric called entropy for this purpose. Entropy refers to disorder. The more \"mixed together\" 1s and 0s are, the higher the entropy. A data set consisting entirely of 1s in the high_income column would have low entropy.\n",
    "\n",
    "Entropy, which is not to be confused with entropy from physics, comes from information theory. Information theory is based on probability and statistics, and deals with the transmission, processing, utilization, and extraction of information. A key concept in information theory is the notion of a bit of information. One bit of information is one unit of information.\n",
    "\n",
    "We can represent a bit of information as a binary number because it either has the value 1 or 0. Suppose there's an equal probability of tomorrow being sunny (1) or not sunny (0). If I tell you that it will be sunny, I've given you one bit of information.\n",
    "\n",
    "We can also think of entropy in terms of information. If we flip a coin where both sides are heads, we know upfront that the result will be heads. We gain no new information by flipping the coin, so entropy is 0. On the other hand, if the coin has a heads side and a tails side, there's a 50% probability that it will land on either. Thus, flipping the coin gives us one bit of information -- which side the coin landed on.\n",
    "\n",
    "Entropy can be much more complex, especially when we get to cases with more than two possible outcomes, or differential probabilities. A deep understanding of entropy isn't necessary for constructing decision trees, however. If you'd like, you can read more about entropy at Wikipedia.\n",
    "\n",
    "The formula for entropy looks like this:\n",
    "\n",
    "\n",
    "We iterate through each unique value in a single column (in this case, high_income), and assign it to \n",
    ". We then compute the probability of that value occurring in the data (\n",
    "). Next we do some multiplication, and sum all of the values together.  \n",
    " is the base of the logarithm. We commonly use the value 2 for this, but we can also set it to 10 or another value.\n",
    "\n",
    "Let's say we have this data:\n",
    "\n",
    "age    high_income\n",
    "25     1\n",
    "50     1\n",
    "30     0\n",
    "50     0\n",
    "80     1\n",
    "We could compute its entropy like this:\n",
    "\n",
    " \n",
    " \n",
    "We get less than one \"bit\" of information -- only .97 -- because there are slightly more 1s in the sample data than 0s. This means that if we were predicting a new value, we could guess that the answer is 1 and be right more often than wrong (because there's a .6 probability of the answer being 1). Due to this prior knowledge, we gain less than a full \"bit\" of information when we observe a new value.\n",
    "\n",
    "Instructions\n",
    "Compute the entropy of the high_income column in the income dataframe, and assign the result to income_entropy."
   ]
  },
  {
   "cell_type": "code",
   "execution_count": null,
   "metadata": {
    "collapsed": true
   },
   "outputs": [],
   "source": [
    "import math\n",
    "# We'll do the same calculation we did above, but in Python\n",
    "# Passing in 2 as the second parameter to math.log will take a base 2 log\n",
    "entropy = -(2/5 * math.log(2/5, 2) + 3/5 * math.log(3/5, 2))\n",
    "print(entropy)"
   ]
  },
  {
   "cell_type": "raw",
   "metadata": {},
   "source": [
    "10. Information Gain\n",
    "\n",
    "We'll need a way to go from computing entropy to figuring out which variable to split on. We can do this using information gain, which tells us which split will reduce entropy the most.\n",
    "\n",
    "Here's the formula for information gain:\n",
    "\n",
    "\n",
    "It may look complicated, but we'll break it down. We're computing information gain (\n",
    ") for a given target variable (\n",
    "), as well as a given variable we want to split on (\n",
    ").\n",
    "\n",
    "To compute it, we first calculate the entropy for \n",
    ". Then, for each unique value \n",
    " in the variable \n",
    ", we compute the number of rows in which \n",
    " takes on the value \n",
    ", and divide it by the total number of rows. Next, we multiply the results by the entropy of the rows where \n",
    " is \n",
    ". We add all of these subset entropies together, then subtract from the overall entropy to get information gain.\n",
    "\n",
    "Here's an alternate explanation. We're finding the entropy of each set post-split, weighting it by the number of items in each split, then subtracting from the current entropy. If the result is positive, we've lowered entropy with our split. The higher the result is, the more we've lowered entropy.\n",
    "\n",
    "One strategy for constructing trees is to create as many branches at each node as there are unique values for the variable we're splitting on. So if the variable has three or four values, we'd end up with three or four branches. This approach usually involves more complexity than it's worth and doesn't improve prediction accuracy, but it's worth knowing about.\n",
    "\n",
    "To simplify the calculation of information gain and make splits simpler, we won't do it for each unique value. We'll find the median for the variable we're splitting on instead. Any rows where the value of the variable is below the median will go to the left branch, and the rest of the rows will go to the right branch. To compute information gain, we'll only have to compute entropies for two subsets.\n",
    "\n",
    "Here's an example that uses the same data set we worked with earlier:\n",
    "\n",
    "age    high_income\n",
    "25     1\n",
    "50     1\n",
    "30     0\n",
    "50     0\n",
    "80     1\n",
    "Let's say we wanted to split this data set based on age. First, we calculate the median age, which is 50. Then, we assign any row with a value less than or equal to the median age the value 0 (in a new column named split_age), and the other rows 1.\n",
    "\n",
    "age    high_income    split_age\n",
    "25     1              0\n",
    "50     1              0\n",
    "30     0              0\n",
    "50     0              0\n",
    "80     1              1\n",
    "Now we compute entropy:\n",
    "\n",
    " \n",
    " \n",
    "We end up with .17, which means that we gain .17 bits of information by splitting our data set on the age variable.\n",
    "\n",
    "Instructions\n",
    "Compute the information gain for splitting on the age column of income.\n",
    "First, compute the median of age.\n",
    "Then, assign anything less than or equal to the median to the left branch, and anything greater than the median to the right branch.\n",
    "Compute the information gain and assign it to age_information_gain."
   ]
  },
  {
   "cell_type": "code",
   "execution_count": null,
   "metadata": {
    "collapsed": true
   },
   "outputs": [],
   "source": [
    "import numpy\n",
    "\n",
    "def calc_entropy(column):\n",
    "    \"\"\"\n",
    "    Calculate entropy given a pandas series, list, or numpy array.\n",
    "    \"\"\"\n",
    "    # Compute the counts of each unique value in the column\n",
    "    counts = numpy.bincount(column)\n",
    "    # Divide by the total column length to get a probability\n",
    "    probabilities = counts / len(column)\n",
    "    \n",
    "    # Initialize the entropy to 0\n",
    "    entropy = 0\n",
    "    # Loop through the probabilities, and add each one to the total entropy\n",
    "    for prob in probabilities:\n",
    "        if prob > 0:\n",
    "            entropy += prob * math.log(prob, 2)\n",
    "    \n",
    "    return -entropy\n",
    "\n",
    "# Verify that our function matches our answer from earlier\n",
    "entropy = calc_entropy([1,1,0,0,1])\n",
    "print(entropy)\n",
    "\n",
    "information_gain = entropy - ((.8 * calc_entropy([1,1,0,0])) + (.2 * calc_entropy([1])))\n",
    "print(information_gain)"
   ]
  },
  {
   "cell_type": "raw",
   "metadata": {},
   "source": [
    "12. Finding the Best Split\n",
    "\n",
    "Now that we know how to compute information gain, we can determine the best variable to split a node on. When we start our tree, we want to make an initial split. We'll find the variable to split on by calculating which split would have the highest information gain\n",
    "\n",
    "Create a list called information_gains.\n",
    "It should contain, in order, the information gain from splitting on these columns: age, workclass, education_num, marital_status, occupation, relationship, race, sex, hours_per_week, native_country.\n",
    "Find the highest value in the information_gains list, and assign the corresponding column name to highest_gain."
   ]
  },
  {
   "cell_type": "code",
   "execution_count": null,
   "metadata": {
    "collapsed": true
   },
   "outputs": [],
   "source": [
    "def calc_information_gain(data, split_name, target_name):\n",
    "    \"\"\"\n",
    "    Calculate information gain given a data set, column to split on, and target\n",
    "    \"\"\"\n",
    "    # Calculate the original entropy\n",
    "    original_entropy = calc_entropy(data[target_name])\n",
    "    \n",
    "    # Find the median of the column we're splitting\n",
    "    column = data[split_name]\n",
    "    median = column.median()\n",
    "    \n",
    "    # Make two subsets of the data, based on the median\n",
    "    left_split = data[column <= median]\n",
    "    right_split = data[column > median]\n",
    "    \n",
    "    # Loop through the splits and calculate the subset entropies\n",
    "    to_subtract = 0\n",
    "    for subset in [left_split, right_split]:\n",
    "        prob = (subset.shape[0] / data.shape[0]) \n",
    "        to_subtract += prob * calc_entropy(subset[target_name])\n",
    "    \n",
    "    # Return information gain\n",
    "    return original_entropy - to_subtract\n",
    "\n",
    "# Verify that our answer is the same as on the last screen\n",
    "print(calc_information_gain(income, \"age\", \"high_income\"))\n",
    "\n",
    "columns = [\"age\", \"workclass\", \"education_num\", \"marital_status\", \"occupation\", \"relationship\", \"race\", \"sex\", \"hours_per_week\", \"native_country\"]"
   ]
  },
  {
   "cell_type": "raw",
   "metadata": {},
   "source": [
    "13. Build the Whole Tree\n",
    "\n",
    "Now we know how to make a single split. To construct an entire tree, we'll need to continue creating splits until the leaves only have a single class.\n",
    "\n",
    "Here's an example of what this looks like:\n",
    "\n",
    "age    high_income\n",
    "25     1\n",
    "50     1\n",
    "30     0\n",
    "50     0\n",
    "80     1\n",
    "\n",
    "As you can see, we split the data all the way down the tree to the leaves. This example is different, because we only have a single variable to split with. This results in one leaf where both rows have an age of 50, so we can't split. One has a high_income of 1, however, and the other has a high_income of 0. That means we'd usually be able to split on another variable, but that's not possible in this case. Instead, we predict .5 for any rows that end up at this leaf.\n",
    "\n",
    "In order to construct a tree like this, we'll need to be able to split each node multiple times."
   ]
  },
  {
   "cell_type": "raw",
   "metadata": {},
   "source": [
    "14. Next Steps\n",
    "\n",
    "So far, we've been following the ID3 algorithm [https://en.wikipedia.org/wiki/ID3_algorithm] to construct decision trees. There are other algorithms like CART [ftp://public.dhe.ibm.com/software/analytics/spss/support/Stats/Docs/Statistics/Algorithms/13.0/TREE-CART.pdf] that use different measures for the split criterion. We'll learn more about these other algorithms in future missions.\n",
    "\n",
    "In the next mission, we'll figure out how to recursively construct an entire tree using the ID3 algorithm."
   ]
  }
 ],
 "metadata": {
  "kernelspec": {
   "display_name": "Python 2",
   "language": "python",
   "name": "python2"
  },
  "language_info": {
   "codemirror_mode": {
    "name": "ipython",
    "version": 2
   },
   "file_extension": ".py",
   "mimetype": "text/x-python",
   "name": "python",
   "nbconvert_exporter": "python",
   "pygments_lexer": "ipython2",
   "version": "2.7.14"
  }
 },
 "nbformat": 4,
 "nbformat_minor": 2
}
