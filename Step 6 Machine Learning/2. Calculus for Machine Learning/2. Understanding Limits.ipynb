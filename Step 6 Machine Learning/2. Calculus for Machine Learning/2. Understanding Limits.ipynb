{
 "cells": [
  {
   "cell_type": "markdown",
   "metadata": {},
   "source": [
    "# Step 6 Machine Learning - Understanding Limits"
   ]
  },
  {
   "cell_type": "raw",
   "metadata": {},
   "source": [
    "1. Introduction To Limits\n",
    "\n",
    "At the end of the last mission, we fixed a first point on our curve, drew a secant line between that first point and another second point, and observed what happened when we moved the second point closer to the first point along the curve. The larger the interval between the 2 points on the x-axis, the more the steepness of the secant line diverged from the steepness of the curve. The closer the interval, the more the secant line started to match the steepness at the first point on the curve.\n",
    "\n",
    "In this mission, we'll formalize the idea of slope further and learn how to calculate the slope for nonlinear equations at any given point. As you go through the rest of this course, we strongly recommend following the math we present using pencil and paper. We'll start by introducing some mathematical notation that formalizes the observation we made at the end of the last mission. If we try to state the observation by plugging in values to the slope equation, we'll run into the division by zero problem:\n",
    "\n",
    "\n",
    "Even though the slope is undefined when \n",
    " and \n",
    " are equivalent, we still want to be able to state and reason about what value the slope approaches as \n",
    " approaches \n",
    ". To do that, we need to reframe the problem as a limit. A limit desribes the value a function approaches when the input variable to the function approaches a specific value. In our case, the input variable is \n",
    " and our function is \n",
    ". The following mathematical notation formalizes the statement \"As \n",
    "approaches \n",
    ", the slope between \n",
    " and \n",
    " approaches \n",
    "\" using a limit:\n",
    "\n",
    "\n",
    "\n",
    " is another way of saying \"As \n",
    " approaches \n",
    "\". Because we fixed \n",
    " to \n",
    ", we can replace \n",
    " with \n",
    " in the function:\n",
    "\n",
    "\n",
    "We still need to prove that this limit actually does equal \n",
    ", which we'll spend the rest of this mission exploring."
   ]
  },
  {
   "cell_type": "raw",
   "metadata": {},
   "source": [
    "2. Defined vs. Undefined Limits\n",
    "\n",
    "There are 2 kinds of limits -- defined limits and undefined limits. As you can probably guess, the limit we looked at in the last screen was an undefined limit because plugging in \n",
    " for \n",
    " results in an undefined value. A defined limit can be evaluated just by substituting the value into the limit.\n",
    "\n",
    "Let's start by understanding how defined limits work. Whenever the resulting value of a limit is defined at the value the input variable approaches, we say that limit is defined. In the last mission, we generated a table of values that displayed the slopes of the secant lines between closer and closer points to \n",
    ":\n",
    "\n",
    "x1\tx0\tm\n",
    "2.9\t3\t-2.9\n",
    "2.99\t3\t-2.99\n",
    "2.999\t3\t-2.999\n",
    "3.01\t3\t-3.01\n",
    "3.001\t3\t-3.001\n",
    "3.0001\t3\t-3.0001\n",
    "To calculate each of these slopes, we plugged in both \n",
    " and \n",
    " values into the slope equation. Here's the calculation for the slope of the secant line between the points at \n",
    " and \n",
    " where \n",
    ":\n",
    "\n",
    "\n",
    "We can actually rewrite each of these as defined limits. For example, the following defined limit describes the slope of the secant line between the same 2 points points:\n",
    "\n",
    "\n",
    "Since we've fixed \n",
    " to the value \n",
    ", we can replace \n",
    " with \n",
    " and \n",
    " with \n",
    ":\n",
    "\n",
    "\n",
    "To finish solving the limit, we can use direct substition and plug in \n",
    " for \n",
    " into the limit. This is because the limit is defined at the specific value (\n",
    ") that the input variable approaches (\n",
    "). When we can replace the input variable with the value it approaches in the limit, the problem is converted to a regular arithmetic problem:\n",
    "\n",
    "\n",
    "Hopefully this process has shed some light on how we can solve undefined limits like the one we posed in the first screen. By rewriting and converting an undefined limit to a defined limit, we can solve the limit using direct substitution and standard arithmetic.\n",
    "\n",
    "Before diving into how to convert an undefined limit to a defined limit, let's explore how to compute limits using Python to verify our work."
   ]
  },
  {
   "cell_type": "raw",
   "metadata": {},
   "source": [
    "3. Introduction to SymPy\n",
    "\n",
    "The SymPy [http://docs.sympy.org/dev/tutorial/calculus.html#limits] library has a suite of functions that let us calculate limits. The syntax for SymPy closely follows mathematical notation. To start, we need to import the library and use sympy.symbols() declare the variables we want to be treated as symbols for SymPy to parse:\n",
    "\n",
    ">> import sympy\n",
    ">> x,y = sympy.symbols('x y')\n",
    "In the last mission, we plotted a function by generating many \n",
    " values (and assigning to x), transforming those \n",
    " values to \n",
    " values (assigned to y) using Python arithmetic operators, and using matplotlib to plot both lists:\n",
    "\n",
    ">> x = np.linspace(0, 3, 100)\n",
    ">> y = -1*(x**2) + x*3 - 1\n",
    ">> plt.plot(x,y)\n",
    "In SymPy, the workflow is different and the Python variables we use don't directly map to specific values. In SymPy, Python variables map directly to variables in math. We express a mathematical function as a transformation of the Python variable. When we called sympy.symbols() and passed in x, x points to a special SymPy object (not a list):\n",
    "\n",
    ">> type(x)\n",
    "sympy.core.symbol.Symbol\n",
    "We then need to express the mathematical function in SymPy. We use standard Python arithmetic operators for this:\n",
    "\n",
    ">> y = x**2 + 3*x\n",
    "\n",
    "Instructions\n",
    "Import SymPy and declare x and y as SymPy symbols.\n",
    "Try expressing y = x^2 + 1\n",
    " using the ^ character instead of **. Display y using the print() function. What's the result?\n",
    "What happens when you run y = 3(x) in Python?"
   ]
  },
  {
   "cell_type": "raw",
   "metadata": {},
   "source": [
    "4. Limits Using SymPy\n",
    "\n",
    "After we've defined the variables and the mathematical function in SymPy, we use the sympy.limit() function to calculate the limit. This function takes in 3 parameters:\n",
    "\n",
    "the function we're taking the limit for\n",
    "the input variable\n",
    "the value the input variable approaches\n",
    "In this screen and the next few screens, we'll work with some new limit problems to understand the basic ideas. Let's say we wanted to solve the following defined limit:\n",
    "\n",
    "\n",
    "For this problem, the input varialbe is \n",
    " and the limit criteria is \n",
    ". Here's how to express that in SymPy:\n",
    "\n",
    ">> limit_one = sympy.limit(x**2 +1, x, 1)\n",
    "Let's practice calculating limits using SymPy.\n",
    "\n",
    "Instructions\n",
    "Use SymPy to confirm that lim(f(x2)-(-1)/x2-3) = -2.9\n",
    ". You'll need to plug in x2 = 2.9 into f(x) = -(x^2) +3x - 1\n",
    " before passing in the limit function to sympy.limit().\n",
    "Assign the result of the limit calculation to limit_one and display it using the print() function."
   ]
  },
  {
   "cell_type": "code",
   "execution_count": null,
   "metadata": {
    "collapsed": true
   },
   "outputs": [],
   "source": [
    "import sympy\n",
    "x2,y = sympy.symbols('x2 y')"
   ]
  },
  {
   "cell_type": "raw",
   "metadata": {},
   "source": [
    "5. Properties Of Limits I\n",
    "\n",
    "SymPy returned \n",
    " as the slope of the secant line, which matches our calculation using the slope formula. Before we can convert undefined limits to defined limits, we need to first understand some of the properties of limits. Using these properties, we can rework undefined limits to defined limits and solve them. Here's the first property:\n",
    "\n",
    "\n",
    "This property allows us to break up limits with terms that are being summed into their individual components. This also holds true for subtraction:\n",
    "\n",
    "\n",
    "We can apply these rules to break up the following limit into smaller components:\n",
    "\n",
    "\n",
    "Even though this is a defined limit and we can solve it using direct substition, it's a good example for understanding how to apply these properties. By applying the property we just learned, the equation breaks down into:\n",
    "\n",
    "\n",
    "Now lets plug in \n",
    " to each of these limit terms.\n",
    "\n",
    "\n",
    "While we won't dive into the proofs for these limit properties in this mission, you can read more about them here. Let's use SymPy to confirm this result.\n",
    "\n",
    "Instructions\n",
    "Use SymPy to calculate lim x->1 [3x^2 + 3x - 3].\n",
    "Assign the result to limit_two and display using the print() function."
   ]
  },
  {
   "cell_type": "code",
   "execution_count": null,
   "metadata": {
    "collapsed": true
   },
   "outputs": [],
   "source": [
    "import sympy\n",
    "x,y = sympy.symbols('x y')"
   ]
  },
  {
   "cell_type": "raw",
   "metadata": {},
   "source": [
    "6. Properties Of Limits II\n",
    "\n",
    "The second property allows us to break up terms that are being multiplied by a constant:\n",
    "\n",
    "\n",
    "\n",
    "Here's the limit from the last screen before we performed direct substitution:\n",
    "\n",
    "\n",
    "\n",
    "If we apply the limit property from this screen, the limit terms transform into:\n",
    "\n",
    "\n",
    "If we use direct substitution, we'll get the same answer as the last screen: \n",
    "\n",
    "As you become more familiar with these properties, you'll be able to apply multiple properties at once and convert the following limit:\n",
    "\n",
    "\n",
    "\n",
    "To the simplified form immediately:\n",
    "\n",
    "\n",
    "Instructions\n",
    "Use the limit properties you just learned to solve the following limit: lim x->1 [x^3 + 2x^2 - 10x].\n",
    "Calculate it by hand first then by using SymPy.\n",
    "Assign the result to limit_three and display using the print() function."
   ]
  },
  {
   "cell_type": "code",
   "execution_count": null,
   "metadata": {
    "collapsed": true
   },
   "outputs": [],
   "source": [
    "import sympy\n",
    "x,y = sympy.symbols('x y')"
   ]
  },
  {
   "cell_type": "raw",
   "metadata": {
    "collapsed": true
   },
   "source": [
    "7. Undefined Limit To Defined Limit\n",
    "\n",
    "To wrap up this mission, let's convert the original undefined limit that calculated the slope at \n",
    " into a defined limit:\n",
    "\n",
    "\n",
    "Because \n",
    ", let's expand \n",
    ".\n",
    "\n",
    "\n",
    "We can simplify this to:\n",
    "\n",
    "\n",
    "We still can't use direct substitution to solve this limit because of the denominator term. We need a way to cancel the denominator or convert it into a form that lets us plug in \n",
    " for \n",
    ". If we factor out \n",
    " on the numerator, you'll notice something interesting:\n",
    "\n",
    "\n",
    "If we factor out \n",
    " as well, we can cancel \n",
    " on the denominator with the same term on the numerator:\n",
    "\n",
    "\n",
    "This simplifies to:\n",
    "\n",
    "\n",
    "Now we can use direct substition to arrive at \n",
    ". In this case, we didn't need to use the properties of limits that we explored in this mission. In the next mission, we'll learn how to derive the general function that tells us the slope at any point on the curve and we'll need to use these properties then! For now, let's confirm the work we just did by hand using SymPy.\n",
    "\n",
    "Instructions\n",
    "Use SymPy to solve the limit: lim x2->3 [f(x2) + 1/(x2-3)]\n",
    "Assign the result to limit_four."
   ]
  },
  {
   "cell_type": "code",
   "execution_count": null,
   "metadata": {
    "collapsed": true
   },
   "outputs": [],
   "source": [
    "import sympy\n",
    "x2, y = sympy.symbols('x2 y')"
   ]
  }
 ],
 "metadata": {
  "kernelspec": {
   "display_name": "Python 2",
   "language": "python",
   "name": "python2"
  },
  "language_info": {
   "codemirror_mode": {
    "name": "ipython",
    "version": 2
   },
   "file_extension": ".py",
   "mimetype": "text/x-python",
   "name": "python",
   "nbconvert_exporter": "python",
   "pygments_lexer": "ipython2",
   "version": "2.7.14"
  }
 },
 "nbformat": 4,
 "nbformat_minor": 2
}
