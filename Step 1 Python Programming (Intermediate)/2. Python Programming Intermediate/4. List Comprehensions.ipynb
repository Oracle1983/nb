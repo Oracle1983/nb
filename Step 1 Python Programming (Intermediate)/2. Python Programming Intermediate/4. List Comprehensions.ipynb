{
 "cells": [
  {
   "cell_type": "markdown",
   "metadata": {},
   "source": [
    "# Step1 Python Programming (Intermediate) : List Comprehensions"
   ]
  },
  {
   "cell_type": "raw",
   "metadata": {},
   "source": [
    "1. The Dataset\n",
    "\n",
    "In the previous mission, we worked with legislators.csv, which contains information on every person who has served in the U.S. Congress. We cleaned up some missing data and added a column for birth year.\n",
    "\n",
    "We'll continue to work with the same data set in this mission. Here's a preview of it in CSV format:\n",
    "\n",
    "last_name,first_name,birthday,gender,type,state,party,birth_year\n",
    "Bassett,Richard,1745-04-02,M,sen,DE,Anti-Administration,1745\n",
    "Bland,Theodorick,1742-03-21,M,rep,VA,1742\n",
    "Burke,Aedanus,1743-06-16,M,rep,SC,1743\n",
    "Carroll,Daniel,1730-07-22,M,rep,MD,1730\n",
    "The data set includes the following columns:\n",
    "\n",
    "last_name -- The legislator's last name\n",
    "first_name -- The legislator's first name\n",
    "birthday -- the legislator's birthday\n",
    "gender -- The legislator's gender\n",
    "type -- The chamber in which the legislator served - either Senate (sen) or House of Representatives (rep)\n",
    "state -- The state the legislator represents\n",
    "party -- The legislator's party affiliation\n",
    "birth_year -- integer values for the year the legislator was born\n",
    "In this mission, we'll use the data to find the most common names among U.S. legislators of each gender. Before diving into this, we'll explore some critical concepts, such as enumeration."
   ]
  },
  {
   "cell_type": "raw",
   "metadata": {},
   "source": [
    "2. Enumerate\n",
    "\n",
    "There are many situations where we'll need to iterate over multiple lists in tandem, such as this one:\n",
    "\n",
    "animals = [\"Dog\", \"Tiger\", \"SuperLion\", \"Cow\", \"Panda\"]\n",
    "viciousness = [1, 5, 10, 10, 1]\n",
    "​\n",
    "for animal in animals:\n",
    "    print(\"Animal\")\n",
    "    print(animal)\n",
    "    print(\"Viciousness\")\n",
    "In the example above, we have two lists. The second list describes the viciousness of the animals in the first list. A Dog has a viciousness level of 1, and a SuperLion has a viciousness level of 10. We want to retrieve the position of the item in animals the loop is currently on, so we can use it to look up the corresponding value in the viciousness list.\n",
    "\n",
    "Unfortunately, we can't just loop through animals, and then tap into the second list. Python has an enumerate() function that can help us with this, though. The enumerate() function allows us to have two variables in the body of a for loop -- an index, and the value.\n",
    "\n",
    "for i, animal in enumerate(animals):\n",
    "    print(\"Animal Index\")  ## label\n",
    "    print(i)\n",
    "    print(\"Animal\") ## label\n",
    "    print(animal)\n",
    "Here's a diagram of the Python logic that takes place when the code runs:\n",
    "\n",
    "\n",
    "On every iteration of the loop, the value for i will become the value of the index in animals that corresponds to that iteration. animal will take on the value in animals that corresponds to the index i.\n",
    "\n",
    "Here's another example of how we can use the enumerate() function to iterate over multiple lists in tandem:\n",
    "\n",
    "animals = [\"Dog\", \"Tiger\", \"SuperLion\", \"Cow\", \"Panda\"]\n",
    "viciousness = [1, 5, 10, 10, 1]\n",
    "​\n",
    "for i, animal in enumerate(animals):\n",
    "    print(\"Animal\")\n",
    "    print(animal)\n",
    "    print(\"Viciousness\")\n",
    "    print(viciousness[i])\n",
    "In this example, we use the index variable i to index the viciousness list, and print the viciousness value that corresponds to the same index in animals.\n",
    "\n",
    "Instructions\n",
    "Enumerate the ships list using a for loop and the enumerate() function.\n",
    "For each iteration of the loop:\n",
    "Print the item from ships at the current index.\n",
    "Print the item from cars at the current index."
   ]
  },
  {
   "cell_type": "code",
   "execution_count": null,
   "metadata": {
    "collapsed": true
   },
   "outputs": [],
   "source": [
    "ships = [\"Andrea Doria\", \"Titanic\", \"Lusitania\"]\n",
    "cars = [\"Ford Edsel\", \"Ford Pinto\", \"Yugo\"]\n",
    "\n",
    "for i, ship in enumerate(ships):\n",
    "    print(ship)\n",
    "    print(cars[i])\n",
    "    print('{0} : {1}'.format(ship, cars[i]))"
   ]
  },
  {
   "cell_type": "raw",
   "metadata": {},
   "source": [
    "3. Adding Columns\n",
    "\n",
    "When you have a fresh dataset, it's always a good idea to look for any patterns, such as:\n",
    "\n",
    "Missing data\n",
    "Some files contain empty fields. Others may use a string like N/A to indicate missing values.\n",
    "Values that don't make intuitive sense\n",
    "A legislator with a birthday in 2050, for example, would indicate a problem with the data.\n",
    "Recurring themes\n",
    "One theme in this dataset is that the overwhelming majority of legislators are male.\n",
    "Let's take a closer look at a few columns to see if we can identify any patterns.\n",
    "\n",
    "Instructions\n",
    "Loop through each row in things using the enumerate() function.\n",
    "Append the item in trees that has the same index (as the current thing) to the end of each row in things.\n",
    "After the code runs, things should have an extra column."
   ]
  },
  {
   "cell_type": "code",
   "execution_count": null,
   "metadata": {
    "collapsed": true
   },
   "outputs": [],
   "source": [
    "things = [[\"apple\", \"monkey\"], [\"orange\", \"dog\"], [\"banana\", \"cat\"]]\n",
    "trees = [\"cedar\", \"maple\", \"fig\"]\n",
    "\n",
    "for i, thing in enumerate(things):\n",
    "    thing.append(trees[i])"
   ]
  },
  {
   "cell_type": "raw",
   "metadata": {},
   "source": [
    "4. List Comprehensions\n",
    "\n",
    "We've written many short for loops to manipulate lists. Here's an example:\n",
    "\n",
    "animals = [\"Dog\", \"Tiger\", \"SuperLion\", \"Cow\", \"Panda\"]\n",
    "​\n",
    "animal_lengths = []\n",
    "for animal in animals:\n",
    "    animal_lengths.append(len(animal))\n",
    "It takes three lines to calculate the length of each string animals this way. However, we can condense this down to one line with a list comprehension:\n",
    "\n",
    "animal_lengths = [len(animal) for animal in animals]\n",
    "This comprehension consists of the list operation len(animal), the loop variable animal, and the list that we're iterating over, animals.\n",
    "\n",
    "The diagram below visualizes how a list comprehension condenses a for loop:\n",
    "\n",
    "Logically, the list comprehension:\n",
    "\n",
    "Loops through each element in the animals list and assigns the current element to animal\n",
    "Finds the length of each animal string\n",
    "Generates a new list that contains all of the lengths as elements\n",
    "Assigns the new list to animal_lengths\n",
    "List comprehensions are much more compact notation, and can save space when you need to write multiple for loops.\n",
    "\n",
    "Instructions\n",
    "Use list comprehension to create a new list called apple_prices_doubled, where you multiply each item in apple_prices by 2.\n",
    "Use list comprehension to create a new list called apple_prices_lowered, where you subtract 100 from each item in apple_prices."
   ]
  },
  {
   "cell_type": "code",
   "execution_count": null,
   "metadata": {
    "collapsed": true
   },
   "outputs": [],
   "source": [
    "apple_prices = [100, 101, 102, 105]\n",
    "\n",
    "apple_prices_doubled = [apple*2 for apple in apple_prices]\n",
    "apple_prices_lowered = [apple-100 for apple in apple_prices]"
   ]
  },
  {
   "cell_type": "raw",
   "metadata": {},
   "source": [
    "5. Counting Female Names\n",
    "\n",
    "Let's count how many times each female first name occurs in legislators. To limit our count to names from the modern era, we'll only look at those that appear after 1940. While names like Theodorick were common prior to 1940, they're rare today.\n",
    "\n",
    "Here's a preview of what this dictionary will look like:\n",
    "\n",
    "{\n",
    "    'Nancy': 1, \n",
    "    'Sandy': 1, \n",
    "    'Carolyn': 1, \n",
    "    'Melissa': 2, \n",
    "    'Jo Ann': 2,\n",
    "    ...\n",
    "}\n",
    "Now, let's work on creating it!\n",
    "\n",
    "Instructions\n",
    "Create an empty dictionary called name_counts.\n",
    "Loop through each row in legislators.\n",
    "If the gender column of the row equals F and the year column is greater than 1940:\n",
    "Assign the first_name column of the row to the variable name.\n",
    "If name is in name_counts:\n",
    "Add 1 to the value associated with name in name_counts.\n",
    "If name isn't in name_counts:\n",
    "Set the value associated with name in name_counts to 1.\n",
    "When the loop finishes, name_counts should contain each unique name in the first_name column of legislators as a key, and the corresponding number of times it appeared as the value."
   ]
  },
  {
   "cell_type": "code",
   "execution_count": null,
   "metadata": {
    "collapsed": true
   },
   "outputs": [],
   "source": [
    "name_counts = {}\n",
    "\n",
    "for row in legislators:\n",
    "    if row[3] == 'F' and row[7] > 1940:\n",
    "        name = row[1]\n",
    "        if name in name_counts:\n",
    "            name_counts[name] += 1\n",
    "        else:\n",
    "            name_counts[name] = 1"
   ]
  },
  {
   "cell_type": "raw",
   "metadata": {},
   "source": [
    "6. None\n",
    "\n",
    "Let's say we're trying to find the maximum value in a list. We might write some code that looks like this:\n",
    "\n",
    "values = [50, 80, 100]\n",
    "max_value = 0\n",
    "for i in values:\n",
    "    if i > max_value:\n",
    "        max_value = i\n",
    "We set max_value to a low value so that everything's greater than it. But what if we changed the values list slightly?\n",
    "\n",
    "values = [-50, -80, -100]\n",
    "max_value = 0\n",
    "for i in values:\n",
    "    if i > max_value:\n",
    "        max_value = i\n",
    "In the above scenario, max_value is 0 when the loop finishes. This is wrong, because 0 isn't in values; it's just a placeholder we used to initialize max_value.\n",
    "\n",
    "We can resolve this kind of issue using the None object, which has a special data type called NoneType.\n",
    "\n",
    "The None object indicates that the variable has no value. Rather than using the normal double equals sign (==) to check whether a value equals None, we use the variable is None syntax.\n",
    "\n",
    "The is comparison operator checks for object equality. Using is instead of == prevents some custom classes from resolving to True when compared with None. We'll explore how to use operators with the None object in greater depth during a later mission. For now, let's see what the variable is None syntax looks like:\n",
    "\n",
    "values = [-50, -80, -100]\n",
    "max_value = None\n",
    "for i in values:\n",
    "    if max_value is None or i > max_value:\n",
    "        max_value = i\n",
    "In the example above, we:\n",
    "\n",
    "Initialize max_value to None.\n",
    "Loop through each item in values.\n",
    "Check whether max_value equals None using the max_value is None syntax.\n",
    "If max_value equals None, or if i > max_value, then we assign the value of i to max_value.\n",
    "At the end of the loop, max_value will equal -50, which is the largest value in values."
   ]
  },
  {
   "cell_type": "raw",
   "metadata": {},
   "source": [
    "7. Comparing with None\n",
    "\n",
    "Comparing a value to None will usually generate an error. This is actually helpful when we're writing code, because it prevents unexpected variables from being None. For example, this code will cause an error:\n",
    "\n",
    "a = None\n",
    "a > 10\n",
    "Therefore, when a value could potentially be None, and we want to compare it to another value, we should always include code that checks whether it actually is None first.\n",
    "\n",
    "We can use two Boolean statements joined by or to do this. Here's an example:\n",
    "\n",
    "max_value is None or i > max_value\n",
    "\n",
    "The Python interpreter will evaluate the two statements in order. If the first statement is True, it won't evaluate the second one. This saves time, since when one statement is True, the whole or conditional is True.\n",
    "\n",
    "The following code will assign True to b if a is None, or if a is greater than 10:\n",
    "\n",
    "a = None\n",
    "b = a is None or a > 10\n",
    "The same logic applies to an and statement. Because both conditions have to be True, if the first one is False, the Python interpreter won't evaluate the second one. The example below shows how to write an and statement involving None that won't return an error. It will assign True to b if a does not equal None and a is greater than 10:\n",
    "\n",
    "a = None\n",
    "b = a is not None and a > 10\n",
    "Let's give this a try in our next exercise!\n",
    "\n",
    "Instructions\n",
    "Loop through each value in values.\n",
    "Check whether the value is not None, and if it's greater than 30.\n",
    "Append the result of the check to checks.\n",
    "When finished, checks should be a list of Booleans indicating whether or not the corresponding items in values are not None and greater than 30."
   ]
  },
  {
   "cell_type": "code",
   "execution_count": null,
   "metadata": {
    "collapsed": true
   },
   "outputs": [],
   "source": [
    "values = [None, 10, 20, 30, None, 50]\n",
    "checks = []\n",
    "\n",
    "for value in values:\n",
    "    check = value is not None and value > 30\n",
    "    checks.append(check)"
   ]
  },
  {
   "cell_type": "raw",
   "metadata": {},
   "source": [
    "8. Highest Female Name Count\n",
    "\n",
    "name_counts is a dictionary where the keys are female first names from legislators, and the values are the number of times the names occured after 1940.\n",
    "\n",
    "In order to extract the most common names from this dictionary, we need to determine the highest totals in name_counts. Once we know the totals, we can find the keys for them.\n",
    "\n",
    "We can iterate through all of the keys in a dictionary like this:\n",
    "\n",
    "fruits = {\n",
    "        \"apple\": 2,\n",
    "        \"orange\": 5,\n",
    "        \"melon\": 10\n",
    "    }\n",
    "​\n",
    "for fruit in fruits:\n",
    "    rating = fruits[fruit]\n",
    "In the loop above, we iterate through each key in fruits. We can access the corresponding value using fruits[fruit].\n",
    "\n",
    "Let's identify the highest totals in the next exercise.\n",
    "\n",
    "Instructions\n",
    "Set max_value to None.\n",
    "Loop through the keys in name_counts.\n",
    "Assign the value associated with the key to count.\n",
    "If max_value is None, or count is greater than max_value:\n",
    "Assign count to max_value.\n",
    "At the end of the loop, max_value will contain the largest value in name_counts."
   ]
  },
  {
   "cell_type": "code",
   "execution_count": null,
   "metadata": {
    "collapsed": true
   },
   "outputs": [],
   "source": [
    "max_value = None\n",
    "\n",
    "for name in name_counts:\n",
    "    count = name_counts[name]\n",
    "    if max_value is None or count > max_value:\n",
    "        max_value = count"
   ]
  },
  {
   "cell_type": "raw",
   "metadata": {},
   "source": [
    "9. The Items Method\n",
    "\n",
    "The code we used on the previous screen to access the keys and values in a dictionary was slightly awkward. We can simplify this process with the items() method, which allows us to iterate through keys and values at the same time.\n",
    "\n",
    "fruits = {\n",
    "    \"apple\": 2,\n",
    "    \"orange\": 5,\n",
    "    \"melon\": 10\n",
    "}\n",
    "​\n",
    "for fruit, rating in fruits.items():\n",
    "    print(rating)\n",
    "The items() method makes our code clearer and more compact.\n",
    "\n",
    "Instructions\n",
    "Use the items() method to iterate through the keys and values in plant_types.\n",
    "Print each key in plant_types.\n",
    "Print each value in plant_types."
   ]
  },
  {
   "cell_type": "code",
   "execution_count": null,
   "metadata": {
    "collapsed": true
   },
   "outputs": [],
   "source": [
    "plant_types = {\"orchid\": \"flower\", \"cedar\": \"tree\", \"maple\": \"tree\"}\n",
    "\n",
    "for plant, types in plant_types.items():\n",
    "    print(plant)\n",
    "    print(types)"
   ]
  },
  {
   "cell_type": "raw",
   "metadata": {},
   "source": [
    "10. Finding the Most Common Female Names\n",
    "\n",
    "As we learned on a previous screen, the most common female names occur two times in name_counts. Therefore, we want to extract any keys in name_counts that have the value 2.\n",
    "\n",
    "Instructions\n",
    "Loop through the keys in name_counts.\n",
    "If any value in name_counts equals 2, append its key to top_female_names.\n",
    "When you're finished, top_female_names will be a list of the most common names of female legislators."
   ]
  },
  {
   "cell_type": "code",
   "execution_count": null,
   "metadata": {
    "collapsed": true
   },
   "outputs": [],
   "source": [
    "top_female_names = []\n",
    "\n",
    "for name, counts in name_counts.items():\n",
    "    if counts == 2:\n",
    "        top_female_names.append(name)"
   ]
  },
  {
   "cell_type": "code",
   "execution_count": null,
   "metadata": {
    "collapsed": true
   },
   "outputs": [],
   "source": [
    "11. Finding the Most Common Male Names\n",
    "\n",
    "Now that we know how to find the most common female names, we can repeat the same process for male names.\n",
    "\n",
    "Instructions\n",
    "Create a dictionary called male_name_counts.\n",
    "Loop through legislators.\n",
    "Count how many times each name with \"M\" in the gender column and a birth year after 1940 occurs.\n",
    "Store the results in male_name_counts.\n",
    "Find the highest value in male_name_counts and assign it to highest_male_count.\n",
    "Append any keys from male_name_counts with a value equal to highest_male_count to top_male_names."
   ]
  },
  {
   "cell_type": "code",
   "execution_count": null,
   "metadata": {
    "collapsed": true
   },
   "outputs": [],
   "source": [
    "top_male_names = []\n",
    "male_name_counts = {}\n",
    "highest_male_count = None   \n",
    "\n",
    "for item in legislators:\n",
    "    if item[3] == 'M' and item[7] > 1940:\n",
    "        name = item[1]\n",
    "        if name in male_name_counts:\n",
    "            male_name_counts[name] += 1\n",
    "        else:\n",
    "            male_name_counts[name] = 1\n",
    "\n",
    "for name, count in male_name_counts.items():\n",
    "    if highest_male_count is None or count > highest_male_count:\n",
    "        highest_male_count = count\n",
    "        \n",
    "for name, count in male_name_counts.items():\n",
    "    if count == highest_male_count:\n",
    "        top_male_names.append(name)"
   ]
  }
 ],
 "metadata": {
  "kernelspec": {
   "display_name": "Python 2",
   "language": "python",
   "name": "python2"
  },
  "language_info": {
   "codemirror_mode": {
    "name": "ipython",
    "version": 2
   },
   "file_extension": ".py",
   "mimetype": "text/x-python",
   "name": "python",
   "nbconvert_exporter": "python",
   "pygments_lexer": "ipython2",
   "version": "2.7.14"
  }
 },
 "nbformat": 4,
 "nbformat_minor": 2
}
