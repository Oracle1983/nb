{
 "cells": [
  {
   "cell_type": "markdown",
   "metadata": {},
   "source": [
    "# Step 2 Data Analysis and Visualisation - Pandas Internal Series"
   ]
  },
  {
   "cell_type": "raw",
   "metadata": {},
   "source": [
    "1. Data Structures\n",
    "\n",
    "Over the next two missions, we'll dive into some of pandas' internals to better understand how it does things under the hood.\n",
    "\n",
    "The three key data structures in pandas are:\n",
    "\n",
    "Series objects (collections of values)\n",
    "DataFrames (collections of Series objects)\n",
    "Panels (collections of DataFrame objects)\n",
    "We'll focus on the Series object in this mission.\n",
    "\n",
    "Series objects use NumPy arrays for fast computation, but add valuable features to them for analyzing data. While NumPy arrays use an integer index, for example, Series objects can use other index types, such as a string index. Series objects also allow for mixed data types, and use the NaN Python value for handling missing values.\n",
    "\n",
    "A Series object can hold many data types, including:\n",
    "\n",
    "float - For float values\n",
    "int - For integer values\n",
    "bool - For Boolean values\n",
    "datetime64[ns] - For date & time, without time zone\n",
    "datetime64[ns, tz] - For date & time, with time zone\n",
    "timedelta[ns] - For representing differences in dates & times (seconds, minutes, etc.)\n",
    "category - For categorical values\n",
    "object - For string values\n",
    "Before we go into further depth, let's introduce the data set we'll be working with. The FiveThirtyEight team recently released a data set containing scores for all movies that have substantive user and critic reviews on IMDB, Rotten Tomatoes, Metacritic, and Fandango. We'll be working with the file fandango_score_comparison.csv, which you can download from their Github repository. Here are some of the columns in the data set:\n",
    "\n",
    "FILM - Film name\n",
    "RottenTomatoes - Average critic score on Rotten Tomatoes\n",
    "RottenTomatoes_User - Average user score on Rotten Tomatoes\n",
    "RT_norm - Average critic score on Rotten Tomatoes (normalized to a 0 to 5-point system)\n",
    "RT_user-norm - Average user score on Rotten Tomatoes (normalized to a 0 to 5-point system)\n",
    "Metacritic - Average critic score on Metacritic\n",
    "Metacritic_User - Average user score on Metacritic\n",
    "The full list of columns, along with their descriptions, is available on the Github repository.\n",
    "\n",
    "Instructions\n",
    "Use the pd.read_csv() function to read \"fandango_score_comparison.csv\" into a DataFrame object called fandango.\n",
    "Then, use the .head() method to print the first two rows."
   ]
  },
  {
   "cell_type": "code",
   "execution_count": null,
   "metadata": {
    "collapsed": true
   },
   "outputs": [],
   "source": [
    "import pandas as pd\n",
    "\n",
    "fandango = pd.read_csv('fandango_score_comparison.csv')\n",
    "fandango.head(2)"
   ]
  },
  {
   "cell_type": "raw",
   "metadata": {},
   "source": [
    "2. Integer Indexes\n",
    "\n",
    "DataFrames use Series objects to represent columns. When we select a single column from a DataFrame, pandas will return the Series object representing that column. By default, pandas indexes each individual Series object in a DataFrame with the integer data type. Each value in the Series has a unique integer index, or position. Like most Python data structures, the Series object uses 0-indexing. The indexing ranges from 0 to n-1, where n is the number of rows. We can use an integer index to select an individual value in a Series if we know its position.\n",
    "\n",
    "With both NumPy arrays and Series objects, we can pass integer indexes into bracket notation to slice and select values. With Series objects, however, we can also specify custom indexes.\n",
    "\n",
    "To explore this idea further, let's use two Series objects representing the film names and Rotten Tomatoes scores.\n",
    "\n",
    "Instructions\n",
    "Select the FILM column, assign it to the variable series_film, and print the first five values.\n",
    "Then, select the RottenTomatoes column, assign it to the variable series_rt, and print the first five values."
   ]
  },
  {
   "cell_type": "code",
   "execution_count": 1,
   "metadata": {
    "collapsed": true
   },
   "outputs": [],
   "source": [
    "fandango = pd.read_csv('fandango_score_comparison.csv')\n",
    "\n",
    "series_film = fandango['FILM']\n",
    "print(series_film.head(5))\n",
    "\n",
    "series_rt = fandango['RottenTomatoes']\n",
    "print(series_rt.head(5))"
   ]
  },
  {
   "cell_type": "raw",
   "metadata": {},
   "source": [
    "3. Custom Indexes\n",
    "\n",
    "Both of these Series objects use the same integer indexes. This means that the value at index 5, for example, would describe the same film in both Series objects (The Water Diviner (2015)). To look up information about a specific movie, we would need to know its integer index.\n",
    "\n",
    "If we only had these two Series objects and wanted to look up the Rotten Tomatoes scores for Minions (2015) and Leviathan (2014), we'd have to:\n",
    "\n",
    "Find the integer index corresponding to Minions (2015) in series_film\n",
    "Look up the value at that integer index from series_rt\n",
    "Find the integer index corresponding to Leviathan (2014) in series_film\n",
    "Look up the value at that integer index from series_rt\n",
    "This becomes especially cumbersome as we scale up the problem to look for a larger number of movies. What we really want is a way to retrieve the Rotten Tomatoes scores for many movies at the same time with just one command (and one Series object). To accomplish this, we need to move away from using integer indexes, and use string indexes corresponding to the film names instead. Then we can pass in a list of strings matching the film names to retrieve the scores, like so:\n",
    "\n",
    "series_custom[['Minions (2015)', 'Leviathan (2014)']]\n",
    "\n",
    "Instructions\n",
    "Create a new Series object named series_custom that has a string index (based on the values from film_names), and contains all of the Rotten Tomatoes scores from series_rt.\n",
    "To create a new Series object:\n",
    "Import Series from pandas.\n",
    "Instantiate a new Series object, which takes in a data parameter and an index parameter. See the documentation for help.\n",
    "Both of these parameters need to be lists."
   ]
  },
  {
   "cell_type": "code",
   "execution_count": null,
   "metadata": {
    "collapsed": true
   },
   "outputs": [],
   "source": [
    "# Import the Series object from pandas\n",
    "from pandas import Series\n",
    "\n",
    "film_names = series_film.values\n",
    "rt_scores = series_rt.values\n",
    "\n",
    "series_custom = pd.Series(rt_scores, index=film_names)\n",
    "series_custom[['Minions (2015)','Leviathan (2014)']]"
   ]
  },
  {
   "cell_type": "raw",
   "metadata": {},
   "source": [
    "4. Integer Index Preservation\n",
    "\n",
    "Even though we specified that the Series object uses a custom string index, the object still has an internal integer index that we can use for selection. When it comes to indexes, Series objects act like both dictionaries and lists. We can access values with our custom index (like the keys in a dictionary), or the integer index (like the index in a list).\n",
    "\n",
    "Instructions\n",
    "Assign the values in series_custom at indexes 5 through 10 to the variable fiveten. Then, print fiveten to verify that you can still use integer values for selection."
   ]
  },
  {
   "cell_type": "code",
   "execution_count": null,
   "metadata": {
    "collapsed": true
   },
   "outputs": [],
   "source": [
    "series_custom = Series(rt_scores , index=film_names)\n",
    "series_custom[['Minions (2015)', 'Leviathan (2014)']]\n",
    "\n",
    "fiveten = series_custom[5:11]\n",
    "print(fiveten)"
   ]
  },
  {
   "cell_type": "raw",
   "metadata": {},
   "source": [
    "5. Reindexing\n",
    "\n",
    "Reindexing is the pandas way of modifying the alignment between labels (indexes) and the data (values). The reindex() method allows us to specify a different order for the labels (indexes) in a Series object. This method takes in a list of strings corresponding to the order we'd like for that Series object.\n",
    "\n",
    "We can use the reindex() [http://pandas.pydata.org/pandas-docs/version/0.17.0/generated/pandas.Series.reindex.html] method to sort series_custom alphabetically by film. To accomplish this, we need to:\n",
    "\n",
    "Return a list representation of the current index using tolist().\n",
    "Sort the index with sorted().\n",
    "Use reindex() to set the newly-ordered index.\n",
    "The following code cell contains the logic for accomplishing the first task. We'll leave it up to you to finish the rest.\n",
    "\n",
    "Instructions\n",
    "The list original_index contains the original index. Sort this index using the Python 3 core method sorted(), then pass the result in to the Series method reindex().\n",
    "Store the result in a variable named sorted_by_index."
   ]
  },
  {
   "cell_type": "code",
   "execution_count": null,
   "metadata": {
    "collapsed": true
   },
   "outputs": [],
   "source": [
    "original_index = series_custom.index\n",
    "\n",
    "sort = sorted(original_index)\n",
    "sorted_by_index = series_custom.reindex(sort)\n",
    "sorted_by_index"
   ]
  },
  {
   "cell_type": "raw",
   "metadata": {},
   "source": [
    "6. Sorting \n",
    "\n",
    "We just learned how to sort a Series object by the index using the reindex() method. This can be cumbersome if we just want to do some quick exploratory data analysis, or reorder by rating instead of film name.\n",
    "\n",
    "To make sorting easier, pandas comes with a sort_index() [http://pandas.pydata.org/pandas-docs/version/0.17.0/generated/pandas.Series.sort_index.html] method that sorts a Series by index, and a sort_values() method that sorts a Series by its values. Since the values representing the Rotten Tomatoes scores are integers, sorting by values will return the data in numerically ascending order (low to high).\n",
    "\n",
    "In both cases, pandas preserves the link between each element's index (film name) and value (score). We call this data alignment, which is a key tenet of pandas that's incredibly important when analyzing data. Pandas allows us to assume the linking will be preserved, unless we specifically change a value or an index.\n",
    "\n",
    "Instructions\n",
    "Sort series_custom by index using sort_index(), and assign the result to the variable sc2.\n",
    "Sort series_custom by values, and assign the result to the variable sc3.\n",
    "Finally, print the first 10 values in sc2 and the first 10 values in sc3."
   ]
  },
  {
   "cell_type": "code",
   "execution_count": null,
   "metadata": {
    "collapsed": true
   },
   "outputs": [],
   "source": [
    "sc2 = series_custom.sort_index()\n",
    "sc3 = series_custom.sort_values()\n",
    "print(sc2.head(10))\n",
    "print(sc3.head(10))"
   ]
  },
  {
   "cell_type": "raw",
   "metadata": {},
   "source": [
    "7. Tranforming Columns with Vectorized Operations\n",
    "\n",
    "A column is really a vector of values. For this reason, we often want to transform an entire column in a data set. Series objects offer robust support for vectorized operations, which enable us to run computations over an entire column very quickly.\n",
    "\n",
    "Since pandas builds on NumPy, it takes advantage of NumPy's vectorizaton capabilities. These capabilities generate incredibly optimized, low level code in the C programming language to loop over the values. Using a traditional for loop would be much slower, especially for large data sets.\n",
    "\n",
    "We can use any of the standard Python arithmetic operators (+, -, *, and /) to transform each of the values in a Series object. If we wanted to transform the Rotten Tomatoes scores from a 100-point scale to a 10-point scale, for example, we could use the Python division operator (/) to divide the Series by 10:\n",
    "\n",
    "series_custom/10\n",
    "This will return a new Series object where each value is 1/10 of the original value. We can even use NumPy functions to transform and run calculations over Series objects:\n",
    "\n",
    "# Add each value with each other\n",
    "np.add(series_custom, series_custom)\n",
    "# Apply sine function to each value\n",
    "np.sin(series_custom)\n",
    "# Return the highest value (will return a single value, not a Series)\n",
    "np.max(series_custom)\n",
    "The values in a Series object are part of an ndarray, the core data type in NumPy. Applying some NumPy functions to a Series object will return a new Series object, while other functions will return a single value. NumPy's documentation gives us a good sense of the return value for each function. If a particular NumPy function usually returns an ndarray, it will return a Series object instead when we apply it to a Series.\n",
    "\n",
    "The original DataFrame contains the column RT_norm, which represents a normalized score (from 0 to 5) of the Rotten Tomatoes average critic score. Let's use vectorized operations to normalize series_custom back to the 0-5 scale.\n",
    "\n",
    "Instructions\n",
    "Normalize series_custom (which is currently on a 0 to 100-point scale) to a 0 to 5-point scale by dividing each value by 20.\n",
    "Assign the new normalized Series object to series_normalized."
   ]
  },
  {
   "cell_type": "code",
   "execution_count": null,
   "metadata": {
    "collapsed": true
   },
   "outputs": [],
   "source": [
    "series_normalized = series_custom / 20"
   ]
  },
  {
   "cell_type": "raw",
   "metadata": {},
   "source": [
    "8. Comparing and Filtering\n",
    "\n",
    "Pandas uses vectorized operations for many tasks, such as filtering values within a single Series object and comparing two different Series objects. For example, to find all films with an average critic rating of 50 or above on Rotten Tomatoes, running:\n",
    "\n",
    "series_custom > 50\n",
    "will actually return a Series object with a Boolean value for each film. That's because pandas applies the filter (> 50) to each value in the Series object. To retrieve the actual film names, we need to pass this Boolean series into the original Series object.\n",
    "\n",
    "series_greater_than_50 = series_custom[series_custom > 50]\n",
    "Pandas returns Boolean Series objects that serve as intermediate representations of the logic. These objects make it easier to separate complex logic into modular pieces. We can specify filtering criteria in different variables, then chain them together with the and operator (&) or the or operator (|). Finally, we can use a Series object's bracket notation to pass in an expression representing a Boolean Series object and get back the filtered data set.\n",
    "\n",
    "Instructions\n",
    "In the following code cell, the criteria_one and criteria_two statements return Boolean Series objects.\n",
    "Return a filtered Series object named both_criteria that only contains the values where both criteria are true. Use bracket notation and the & operator to obtain this Series object."
   ]
  },
  {
   "cell_type": "code",
   "execution_count": null,
   "metadata": {
    "collapsed": true
   },
   "outputs": [],
   "source": [
    "criteria_one = series_custom > 50\n",
    "criteria_two = series_custom < 75\n",
    "\n",
    "both_criteria = series_custom[criteria_one & criteria_two]"
   ]
  },
  {
   "cell_type": "raw",
   "metadata": {},
   "source": [
    "9. Alignment\n",
    "\n",
    "One of pandas' core tenets is data alignment. Series objects align along indices, and DataFrame objects align along both indices and columns. With Series objects, pandas implicitly preserves the link between the index labels and the values across operations and transformations, unless we explicitly break it. With DataFrame objects, the values link to the index labels and the column labels. Pandas also preserves these links, unless we explicitly break them (by reassigning or editing a column or index label, for example).\n",
    "\n",
    "This core tenet allows us to use pandas effectively when working with data, and offers a big advantage over using NumPy objects. For Series objects in particular, this means we can use the standard Python arithmetic operators (+, -, *, and /) to add, subtract, multiply, and divide the values at each index label for two different Series objects.\n",
    "\n",
    "Let's use this functionality to calculate the mean ratings from both critics and users on Rotten Tomatoes.\n",
    "\n",
    "Instructions\n",
    "rt_critics and rt_users are Series objects containing the average ratings from critics and users for each film.\n",
    "Both Series objects use the same custom string index, which they base on the film names. Use the Python arithmetic operators to return a new Series object, rt_mean, that contains the mean ratings from both critics and users for each film."
   ]
  },
  {
   "cell_type": "code",
   "execution_count": null,
   "metadata": {
    "collapsed": true
   },
   "outputs": [],
   "source": [
    "import pandas as pd\n",
    "import numpy as np\n",
    "\n",
    "t_critics = Series(fandango['RottenTomatoes'].values, index=fandango['FILM'])\n",
    "rt_users = Series(fandango['RottenTomatoes_User'].values, index=fandango['FILM'])\n",
    "\n",
    "rt_mean = (rt_critics + rt_users)/2\n",
    "print(rt_mean)"
   ]
  }
 ],
 "metadata": {
  "kernelspec": {
   "display_name": "Python 2",
   "language": "python",
   "name": "python2"
  },
  "language_info": {
   "codemirror_mode": {
    "name": "ipython",
    "version": 2
   },
   "file_extension": ".py",
   "mimetype": "text/x-python",
   "name": "python",
   "nbconvert_exporter": "python",
   "pygments_lexer": "ipython2",
   "version": "2.7.14"
  }
 },
 "nbformat": 4,
 "nbformat_minor": 2
}
