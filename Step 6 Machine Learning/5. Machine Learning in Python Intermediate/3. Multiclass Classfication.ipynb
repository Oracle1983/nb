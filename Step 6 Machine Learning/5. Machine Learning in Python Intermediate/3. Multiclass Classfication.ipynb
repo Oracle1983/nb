{
 "cells": [
  {
   "cell_type": "markdown",
   "metadata": {},
   "source": [
    "# Step 6 Machine Learning -  Multiclass Classification"
   ]
  },
  {
   "cell_type": "raw",
   "metadata": {},
   "source": [
    "1. Introduction to the data\n",
    "\n",
    "The dataset we will be working with contains information on various cars. For each car we have information about the technical aspects of the vehicle such as the motor's displacement, the weight of the car, the miles per gallon, and how fast the car accelerates. Using this information we will predict the origin of the vehicle, either North America, Europe, or Asia. We can see, that unlike our previous classification datasets, we have three categories to choose from, making our task slightly more challenging.\n",
    "\n",
    "Here's a preview of the data:\n",
    "\n",
    "18.0   8   307.0      130.0      3504.      12.0   70  1    \"chevrolet chevelle malibu\"\n",
    "15.0   8   350.0      165.0      3693.      11.5   70  1    \"buick skylark 320\"\n",
    "18.0   8   318.0      150.0      3436.      11.0   70  1    \"plymouth satellite\"\n",
    "The dataset is hosted by the University of California Irvine on their machine learning repository. As a side note, the UCI Machine Learning repository contains many small datasets which are useful when getting your hands dirty with machine learning.\n",
    "\n",
    "You'll notice that the Data Folder contains a few different files. We'll be working with auto-mpg.data, which omits the 8 rows containing missing values for fuel efficiency (mpg column). We've converted this data into a CSV file named auto.csv for you.\n",
    "\n",
    "Here are the columns in the dataset:\n",
    "\n",
    "mpg -- Miles per gallon, Continuous.\n",
    "cylinders -- Number of cylinders in the motor, Integer, Ordinal, and Categorical.\n",
    "displacement -- Size of the motor, Continuous.\n",
    "horsepower -- Horsepower produced, Continuous.\n",
    "weight -- Weights of the car, Continuous.\n",
    "acceleration -- Acceleration, Continuous.\n",
    "year -- Year the car was built, Integer and Categorical.\n",
    "origin -- Integer and Categorical. 1: North America, 2: Europe, 3: Asia.\n",
    "car_name -- Name of the car.\n",
    "\n",
    "Instructions\n",
    "Import the Pandas library and read auto.csv into a Dataframe named cars.\n",
    "Use the Series.unique() method to assign the unique elements in the column origin to unique_regions. Then use the print function to display unique_regions."
   ]
  },
  {
   "cell_type": "code",
   "execution_count": null,
   "metadata": {
    "collapsed": true
   },
   "outputs": [],
   "source": [
    "import pandas as pd\n",
    "cars = pd.read_csv(\"auto.csv\")"
   ]
  },
  {
   "cell_type": "raw",
   "metadata": {},
   "source": [
    "2. Dummy variables\n",
    "\n",
    "In previous classification missions, categorical variables have been represented in the dataset using integer values (like 0 and 1) for us already. In many cases, like with this dataset, you'll have to create numeric representation of categorical values yourself. For this dataset, categorical variables exist in three columns, cylinders, year, and origin. The cylinders and year columns must be converted to numeric values so we can use them to predict label origin. Even though the column year is a number, we’re going to treat them like categories. The year 71 is unlikely to relate to the year 70 in the same way those two numbers do numerically, but rather just as two different labels. In these instances, it is always safer to treat discrete values as categorical variables.\n",
    "\n",
    "We must use dummy variables for columns containing categorical values. Whenever we have more than 2 categories, we need to create more columns to represent the categories. Since we have 5 different categories of cylinders, we could use 3, 4, 5, 6, and 8 to represent the different categories. We can split the column into separate binary columns:\n",
    "\n",
    "cyl_3 -- Does the car have 3 cylinders? 0 if False, 1 if True.\n",
    "cyl_4 -- Does the car have 4 cylinders? 0 if False, 1 if True.\n",
    "cyl_5 -- Does the car have 5 cylinders? 0 if False, 1 if True.\n",
    "cyl_6 -- Does the car have 6 cylinders? 0 if False, 1 if True.\n",
    "cyl_8 -- Does the car have 8 cylinders? 0 if False, 1 if True.\n",
    "We can use the pandas.get_dummies() function to return a Dataframe containing binary columns from the values in the cylinders column. In addition, if we set the prefix parameter to cyl, Pandas will pre-pend the column names to match the style we'd like:\n",
    "\n",
    "dummy_df = pd.get_dummies(cars[\"cylinders\"], prefix=\"cyl\")\n",
    "We then use the pandas.concat() function to add the columns from this Dataframe back to cars:\n",
    "\n",
    "cars = pd.concat([cars, dummy_df], axis=1)\n",
    "Now it's your turn! Repeat the same process for the year column.\n",
    "\n",
    "Instructions\n",
    "Use the pandas.get_dummies() function to create dummy values from the year column.\n",
    "Use the prefix attribute to prepend year to each of the resulting column names.\n",
    "Assign the resulting Dataframe to dummy_years.\n",
    "Use the pandas.concat() function to concatenate the columns from dummy_years to cars.\n",
    "Use the DataFrame.drop() method to drop the year and cylinders columns from cars.\n",
    "Display the first 5 rows of the new cars Dataframe to confirm."
   ]
  },
  {
   "cell_type": "code",
   "execution_count": null,
   "metadata": {
    "collapsed": true
   },
   "outputs": [],
   "source": [
    "dummy_cylinders = pd.get_dummies(cars[\"cylinders\"], prefix=\"cyl\")\n",
    "cars = pd.concat([cars, dummy_cylinders], axis=1)"
   ]
  },
  {
   "cell_type": "raw",
   "metadata": {},
   "source": [
    "3. Multiclass classification\n",
    "\n",
    "In previous missions, we explored binary classification, where there were only 2 possible categories, or classes. When we have 3 or more categories, we call the problem a multiclass classification problem. There are a few different methods of doing multiclass classification and in this mission, we'll focus on the one-versus-all method.\n",
    "\n",
    "The one-versus-all method is a technique where we choose a single category as the Positive case and group the rest of the categories as the False case. We're essentially splitting the problem into multiple binary classification problems. For each observation, the model will then output the probability of belonging to each category.\n",
    "\n",
    "To start let's split our data into a training and test set. We've randomized the cars Dataframe for you already to start things off and assigned the shuffled Dataframe to shuffled_cars.\n",
    "\n",
    "Instructions\n",
    "Split the shuffled_cars Dataframe into 2 Dataframes: train and test.\n",
    "Assign the first 70% of the shuffled_cars to train.\n",
    "Assign the last 30% of the shuffled_cars to test."
   ]
  },
  {
   "cell_type": "code",
   "execution_count": null,
   "metadata": {
    "collapsed": true
   },
   "outputs": [],
   "source": [
    "shuffled_rows = np.random.permutation(cars.index)\n",
    "shuffled_cars = cars.iloc[shuffled_rows]"
   ]
  },
  {
   "cell_type": "raw",
   "metadata": {},
   "source": [
    "4. Training a multiclass logistic regression model\n",
    "\n",
    "In the one-vs-all approach, we're essentially converting an n-class (in our case n is 3) classification problem into n binary classification problems. For our case, we'll need to train 3 models:\n",
    "\n",
    "A model where all cars built in North America are considered Positive (1) and those built in Europe and Asia are considered Negative (0).\n",
    "A model where all cars built in Europe are considered Positive (1) and those built in North America and Asia are considered Negative (0).\n",
    "A model where all cars built in Asia are labeled Positive (1) and those built in North America and Europe are considered Negative (0).\n",
    "Each of these models is a binary classification model that will return a probability between 0 and 1. When we apply this model on new data, a probability value will be returned from each model (3 total). For each observation, we choose the label corresponding to the model that predicted the highest probability.\n",
    "\n",
    "We'll use the dummy variables we created from the cylinders and year columns to train 3 models using the LogisticRegression class from scikit-learn.\n",
    "\n",
    "Instructions\n",
    "For each value in unique_origins, train a logistic regression model with the following parameters:\n",
    "X: Dataframe containing just the cylinder & year binary columns.\n",
    "y: list (or Series) of Boolean values:\n",
    "True if observation's value for origin matches the current iterator variable.\n",
    "False if observation's value for origin doesn't match the current iterator variable.\n",
    "Add each model to the models dictionary with the following structure:\n",
    "key: origin value (1, 2, or 3),\n",
    "value: relevant LogistcRegression model instance."
   ]
  },
  {
   "cell_type": "code",
   "execution_count": null,
   "metadata": {
    "collapsed": true
   },
   "outputs": [],
   "source": [
    "from sklearn.linear_model import LogisticRegression\n",
    "\n",
    "unique_origins = cars[\"origin\"].unique()\n",
    "unique_origins.sort()\n",
    "\n",
    "models = {}"
   ]
  },
  {
   "cell_type": "raw",
   "metadata": {},
   "source": [
    "5. Testing the models\n",
    "\n",
    "Now that we have a model for each category, we can run our test dataset through the models and evaluate how well they performed.\n",
    " \n",
    "Instructions\n",
    "For each origin value from unique_origins:\n",
    "Use the LogisticRegression predict_proba function to return the 3 lists of predicted probabilities for the test set and add to the testing_probs Dataframe.\n",
    "Here's how the final Dataframe should look like (without all zeroes of course!):\n",
    "1\t2\t3\n",
    "0\t0.000\t0.000\t0.000\n",
    "1\t0.000\t0.000\t0.000\n",
    "2\t0.000\t0.000\t0.000\n",
    "3\t0.000\t0.000\t0.000\n",
    "4\t0.000\t0.000\t0.000\n",
    "5\t0.000\t0.000\t0.000"
   ]
  },
  {
   "cell_type": "code",
   "execution_count": null,
   "metadata": {
    "collapsed": true
   },
   "outputs": [],
   "source": [
    "testing_probs = pd.DataFrame(columns=unique_origins)"
   ]
  },
  {
   "cell_type": "raw",
   "metadata": {},
   "source": [
    "6. Choose the origin\n",
    "\n",
    "Now that we trained the models and computed the probabilities in each origin we can classify each observation. To classify each observation we want to select the origin with the highest probability of classification for that observation.\n",
    "\n",
    "While each column in our dataframe testing_probs represents an origin we just need to choose the one with the largest probability. We can use the Dataframe method .idxmax() [http://pandas.pydata.org/pandas-docs/stable/generated/pandas.DataFrame.idxmax.html] to return a Series where each value corresponds to the column or where the maximum value occurs for that observation. We need to make sure to set the axis paramater to 1 since we want to calculate the maximum value across columns. Since each column maps directly to an origin the resulting Series will be the classification from our model.\n",
    "\n",
    "Instructions\n",
    "Classify each observation in the test set using the testing_probs Dataframe.\n",
    "Assign the predicted origins to predicted_origins and use the print function to display it."
   ]
  }
 ],
 "metadata": {
  "kernelspec": {
   "display_name": "Python 2",
   "language": "python",
   "name": "python2"
  },
  "language_info": {
   "codemirror_mode": {
    "name": "ipython",
    "version": 2
   },
   "file_extension": ".py",
   "mimetype": "text/x-python",
   "name": "python",
   "nbconvert_exporter": "python",
   "pygments_lexer": "ipython2",
   "version": "2.7.14"
  }
 },
 "nbformat": 4,
 "nbformat_minor": 2
}
