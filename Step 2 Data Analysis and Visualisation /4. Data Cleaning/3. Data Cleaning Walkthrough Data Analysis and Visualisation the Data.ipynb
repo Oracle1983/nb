{
 "cells": [
  {
   "cell_type": "markdown",
   "metadata": {},
   "source": [
    "# Step 2 Data Analysis and Visualisation"
   ]
  },
  {
   "cell_type": "raw",
   "metadata": {},
   "source": [
    "1. Introduction\n",
    "\n",
    "Over the last two missions, we began investigating possible relationships between SAT scores and demographics. In order to do this, we acquired several data sets containing information about New York City public schools. We cleaned them, then combined them into a single data set named combined that we're now ready to analyze and visualize.\n",
    "\n",
    "In this mission, we'll discover correlations, create plots, and then make maps. The first thing we'll do is find any correlations between any of the columns and sat_score. This will help us determine which columns might be interesting to plot out or investigate further. Afterwards, we'll perform more analysis and make maps using the columns we've identified."
   ]
  },
  {
   "cell_type": "raw",
   "metadata": {},
   "source": [
    "2. Finding Correlations With the r Value\n",
    "\n",
    "Correlations tell us how closely related two columns are. We'll be using the r value, also called Pearson's correlation coefficient, which measures how closely two sequences of numbers are correlated.\n",
    "\n",
    "An r value falls between -1 and 1. The value tells us whether two columns are positively correlated, not correlated, or negatively correlated. The closer to 1 the r value is, the stronger the positive correlation between the two columns. The closer to -1 the r value is, the stronger the negative correlation (i.e., the more \"opposite\" the columns are). The closer to 0, the weaker the correlation. To learn more about r values, see the statistics course.\n",
    "\n",
    "The columns in the following diagram have a strong positive correlation -- when the value in class_size is high, the corresponding value in sat_score is also high, and vice versa:\n",
    "\n",
    "The r value for the columns in the diagram above is .99.\n",
    "\n",
    "The columns in the following diagram have a strong negative correlation -- when the value in class_size is high, the corresponding value in sat_score is low, and when the value in sat_score is high, the value in class_size is low:\n",
    "\n",
    "The r value for the columns in the diagram above is -.99.\n",
    "\n",
    "In the next diagram, the columns aren't correlated -- class_size and sat_score don't have any strong pattern in their values:\n",
    "\n",
    "The r value for the columns in the diagram above is -.02, which is very close to 0.\n",
    "\n",
    "In general, r values above .25 or below -.25 are enough to qualify a correlation as interesting. An r value isn't perfect, and doesn't indicate that there's a correlation -- just the possiblity of one. To really assess whether or not a correlation exists, we need to look at the data using a scatterplot to see its \"shape.\" For example, here's a scatterplot with a very strong negative r value of -.73:\n",
    "\n",
    "https://s3.amazonaws.com/dq-content/correlation.png\n",
    "\n",
    "Notice how in the image above, all of the points appear to fall along a line. This pattern indicates a correlation.\n",
    "\n",
    "Here's a scatterplot with an r value of .15, which indicates a weak correlation:\n",
    "\n",
    "https://s3.amazonaws.com/dq-content/no_correlation.png\n",
    "\n",
    "Notice how the data points in the image go in several directions, and there's no clear linear relationship. We'll explore correlations in greater detail later on in the statistics content. For now, this quick primer should be enough to get us through this project.\n",
    "\n",
    "Because we're interested in exploring the fairness of the SAT, a strong positive or negative correlation between a demographic factor like race or gender and SAT score would be an interesting result meriting investigation. If men tended to score higher on the SAT, for example, that would indicate that the SAT is potentially unfair to women.\n",
    "\n",
    "We can use the pandas pandas.DataFrame.corr() [http://pandas.pydata.org/pandas-docs/stable/generated/pandas.DataFrame.corr.html] method to find correlations between columns in a dataframe. The method returns a new dataframe where the index for each column and row is the name of a column in the original data set.\n",
    "\n",
    "Instructions\n",
    "Use the pandas.DataFrame.corr() method on the combined dataframe to find all possible correlations. Assign the result to correlations.\n",
    "Filter correlations so that it only shows correlations for the column sat_score.\n",
    "Display all of the rows in correlations and look them over."
   ]
  },
  {
   "cell_type": "code",
   "execution_count": null,
   "metadata": {
    "collapsed": true
   },
   "outputs": [],
   "source": [
    "correlations = combined.corr()\n",
    "correlations = correlations['sat_score']\n",
    "print(correlations)"
   ]
  },
  {
   "cell_type": "raw",
   "metadata": {},
   "source": [
    "4. Plotting Enrollment With the Plot() Accessor\n",
    "\n",
    "On the last screen, you should have seen output that looked like this:\n",
    "\n",
    "SAT Critical Reading Avg. Score         0.986820\n",
    "SAT Math Avg. Score                     0.972643\n",
    "SAT Writing Avg. Score                  0.987771\n",
    "sat_score                               1.000000\n",
    "AP Test Takers                          0.523140\n",
    "Total Exams Taken                       0.514333\n",
    "Number of Exams with scores 3 4 or 5    0.463245\n",
    "Total Cohort                            0.325144\n",
    "CSD                                     0.042948\n",
    "NUMBER OF STUDENTS / SEATS FILLED       0.394626\n",
    "NUMBER OF SECTIONS                      0.362673\n",
    "AVERAGE CLASS SIZE                      0.381014\n",
    "SIZE OF SMALLEST CLASS                  0.249949\n",
    "SIZE OF LARGEST CLASS                   0.314434\n",
    "SCHOOLWIDE PUPIL-TEACHER RATIO               NaN\n",
    "schoolyear                                   NaN\n",
    "fl_percent                                   NaN\n",
    "frl_percent                            -0.722225\n",
    "total_enrollment                        0.367857\n",
    "ell_num                                -0.153778\n",
    "ell_percent                            -0.398750\n",
    "sped_num                                0.034933\n",
    "sped_percent                           -0.448170\n",
    "asian_num                               0.475445\n",
    "asian_per                               0.570730\n",
    "black_num                               0.027979\n",
    "black_per                              -0.284139\n",
    "hispanic_num                            0.025744\n",
    "hispanic_per                           -0.396985\n",
    "white_num                               0.449559\n",
    "                                          ...   \n",
    "rr_p                                    0.047925\n",
    "N_s                                     0.423463\n",
    "N_t                                     0.291463\n",
    "N_p                                     0.421530\n",
    "saf_p_11                                0.122913\n",
    "com_p_11                               -0.115073\n",
    "eng_p_11                                0.020254\n",
    "aca_p_11                                0.035155\n",
    "saf_t_11                                0.313810\n",
    "com_t_11                                0.082419\n",
    "eng_t_10                                     NaN\n",
    "aca_t_11                                0.132348\n",
    "saf_s_11                                0.337639\n",
    "com_s_11                                0.187370\n",
    "eng_s_11                                0.213822\n",
    "aca_s_11                                0.339435\n",
    "saf_tot_11                              0.318753\n",
    "com_tot_11                              0.077310\n",
    "eng_tot_11                              0.100102\n",
    "aca_tot_11                              0.190966\n",
    "grade_span_max                               NaN\n",
    "expgrade_span_max                            NaN\n",
    "zip                                    -0.063977\n",
    "total_students                          0.407827\n",
    "number_programs                         0.117012\n",
    "priority08                                   NaN\n",
    "priority09                                   NaN\n",
    "priority10                                   NaN\n",
    "lat                                    -0.121029\n",
    "lon                                    -0.132222\n",
    "Name: sat_score, dtype: float64\n",
    "\n",
    "The numbers above represent the r value between the sat_score column and the named column. The numbers are in scientific notation, which is a system for representing numbers with many decimal places more easily. For example, 9.868201e-01 is scientific notation for .9868201, 4.294755e-02 is notation for .04294755, and -3.969849e-01 is notation for -.3969849. The number after the e- just means \"move the decimal point this many places to the left.\"\n",
    "\n",
    "Unsurprisingly, SAT Critical Reading Avg. Score, SAT Math Avg. Score, SAT Writing Avg. Score, and sat_score are strongly correlated with sat_score.\n",
    "\n",
    "We can also make some other observations:\n",
    "\n",
    "total_enrollment has a strong positive correlation with sat_score. This is surprising because we'd expect smaller schools where students receive more attention to have higher scores. However, it looks like the opposite is true -- larger schools tend to do better on the SAT.\n",
    "Other columns that are proxies for enrollment correlate similarly. These include total_students, N_s, N_p, N_t, AP Test Takers, Total Exams Taken, and NUMBER OF SECTIONS.\n",
    "Both the percentage of females (female_per) and number of females (female_num) at a school correlate positively with SAT score, whereas the percentage of males (male_per) and the number of males (male_num) correlate negatively. This could indicate that women do better on the SAT than men.\n",
    "Teacher and student ratings of school safety (saf_t_11, and saf_s_11) correlate with sat_score.\n",
    "Student ratings of school academic standards (aca_s_11) correlate with sat_score, but this does not hold for ratings from teachers and parents (aca_p_11 and aca_t_11).\n",
    "There is significant racial inequality in SAT scores (white_per, asian_per, black_per, hispanic_per).\n",
    "The percentage of English language learners at the school (ell_percent, frl_percent) has a strong negative correlation with SAT scores.\n",
    "Because enrollment seems to have such a strong correlation, let's make a scatterplot of total_enrollment vs sat_score. Each point in the scatterplot will represent a high school, so we'll be able to see if there are any interesting patterns.\n",
    "\n",
    "We can plot columns in a dataframe using the pandas.DataFrame.plot() [http://pandas.pydata.org/pandas-docs/stable/generated/pandas.DataFrame.plot.html] accessor on a dataframe. We can also specify a certain plot type. For example, df.plot.scatter(x=\"A\", y=\"b\") will create a scatterplot of columns A and B.\n",
    "\n",
    "Instructions\n",
    "Create a scatterplot of total_enrollment versus sat_score."
   ]
  },
  {
   "cell_type": "code",
   "execution_count": null,
   "metadata": {
    "collapsed": true
   },
   "outputs": [],
   "source": [
    "import matplotlib.pyplot as plt\n",
    "\n",
    "combined.plot.scatter(x='total_enrollment', y='sat_score')"
   ]
  },
  {
   "cell_type": "raw",
   "metadata": {},
   "source": [
    "6. Exploring Schools With Low SAT Scores and Enrollment\n",
    "\n",
    "Judging from the plot we just created, it doesn't appear that there's an extremely strong correlation between sat_score and total_enrollment. If there was a very strong correlation, we'd expect all of the points to line up. Instead, there's a large cluster of schools, and then a few others going off in three different directions.\n",
    "\n",
    "However, there's an interesting cluster of points at the bottom left where total_enrollment and sat_score are both low. This cluster may be what's making the r value so high. It's worth extracting the names of the schools in this cluster so we can research them further.\n",
    "\n",
    "Instructions\n",
    "Filter the combined dataframe to keep only those rows where total_enrollment is under 1000 and sat_score is under 1000. Assign the result to low_enrollment.\n",
    "Display all of the items in the School Name column of low_enrollment.\n",
    "Use Wikipedia and Google to research the names of the schools. Can you discover anything interesting about them?"
   ]
  },
  {
   "cell_type": "code",
   "execution_count": null,
   "metadata": {
    "collapsed": true
   },
   "outputs": [],
   "source": [
    "low_enrollment = combined[(combined['total_enrollment'] < 1000) & (combined['sat_score'] < 1000)]\n",
    "print(low_enrollment['School Name'])"
   ]
  },
  {
   "cell_type": "raw",
   "metadata": {},
   "source": [
    "7. Plotting Language Learning Percentage\n",
    "\n",
    "Our research on the last screen revealed that most of the high schools with low total enrollment and low SAT scores have high percentages of English language learners. This indicates that it's actually ell_percent that correlates strongly with sat_score, rather than total_enrollment. To explore this relationship further, let's plot out ell_percent vs sat_score.\n",
    "\n",
    "Instructions\n",
    "Create a scatterplot of ell_percent versus sat_score."
   ]
  },
  {
   "cell_type": "code",
   "execution_count": null,
   "metadata": {
    "collapsed": true
   },
   "outputs": [],
   "source": [
    "combined.plot.scatter(x='ell_percent', y='sat_score')"
   ]
  },
  {
   "cell_type": "raw",
   "metadata": {},
   "source": [
    "8. Mapping the Schools With Basemap\n",
    "\n",
    "It looks like ell_percent correlates with sat_score more strongly, because the scatterplot is more linear. However, there's still the cluster of schools that have very high ell_percent values and low sat_score values. This cluster represents the same group of international high schools we investigated earlier.\n",
    "\n",
    "In order to explore this relationship, we'll want to map out ell_percent by school district. The map will show us which areas of the city have a lot of English language learners.\n",
    "\n",
    "We learned how to use the Basemap [https://matplotlib.org/basemap/] package to create maps in the Visualizing Geographic Data mission. The Basemap package enables us to create high-quality maps, plot points over them, and then draw coastlines and other features.\n",
    "\n",
    "We extracted the coordinates for all of the schools earlier, and stored them in the lat and lon columns. The coordinates will enable us to plot all of the schools on a map of New York City.\n",
    "\n",
    "We can set up the map with this code:\n",
    "\n",
    "from mpl_toolkits.basemap import Basemap\n",
    "m = Basemap(\n",
    "    projection='merc', \n",
    "    llcrnrlat=40.496044, \n",
    "    urcrnrlat=40.915256, \n",
    "    llcrnrlon=-74.255735, \n",
    "    urcrnrlon=-73.700272,\n",
    "    resolution='i'\n",
    ")\n",
    "​\n",
    "m.drawmapboundary(fill_color='#85A6D9')\n",
    "m.drawcoastlines(color='#6D5F47', linewidth=.4)\n",
    "m.drawrivers(color='#6D5F47', linewidth=.4)\n",
    "This code snippet will create a map that centers on New York City (llcrnrlat, urcrnrlat, llcrnrlon, and urcrnrlon define the corners of the geographic area the map depicts). It will also draw coastlines and rivers accordingly.\n",
    "\n",
    "Now all we need to do is convert our lat and lon coordinates to x and y coordinates so we can plot them on top of the map. This will show us where all of the schools in our data set are located.\n",
    "\n",
    "As you may recall, in order to plot coordinates using Basemap, we need to:\n",
    "\n",
    "Convert the pandas series containing the latitude and longitude coordinates to lists using the pandas.Series.tolist() [http://pandas.pydata.org/pandas-docs/stable/generated/pandas.Series.tolist.html] method.\n",
    "Make a scatterplot using the longitudes and latitudes with the scatter() method on the Basemap object.\n",
    "Show the plot using the pyplot.show() method.\n",
    "We also need to make sure we pass a few keyword arguments to the scatter() method:\n",
    "\n",
    "s - Determines the size of the point that represents each school on the map.\n",
    "zorder - Determines where the method draws the points (that represent schools) on the z axis. In other words, it determines the order of the layers on the map. If we set zorder to 2, the method will draw the points on top of the continents, which is where we want them.\n",
    "latlon - A Boolean value that specifies whether we're passing in latitude and longitude coordinates instead of x and y plot coordinates.\n",
    "\n",
    "Instructions\n",
    "Set up the map using the code snippet you saw above -- the one that creates a map, then draws rivers, coastlines, and boundaries.\n",
    "Convert the lon column of combined to a list, and assign it to the longitudes variable.\n",
    "Convert the lat column of combined to a list, and assign it to the latitudes variable.\n",
    "Call the Basemap.scatter() [https://matplotlib.org/basemap/api/basemap_api.html#mpl_toolkits.basemap.Basemap.scatter] method on m, and pass in longitudes and latitudes as arguments.\n",
    "Make sure to pass in longitudes and latitudes in the correct order.\n",
    "Pass in the keyword argument s=20 to increase the size of the points in the scatterplot.\n",
    "Pass in the keyword argument zorder=2 to plot the points on top of the rest of the map. Otherwise the method will draw the points underneath the land.\n",
    "Pass in the keyword argument latlon=True to indicate that we're passing in latitude and longitude coordinates, rather than axis coordinates.\n",
    "Show the plot using the pyplot.show() method."
   ]
  },
  {
   "cell_type": "code",
   "execution_count": null,
   "metadata": {
    "collapsed": true
   },
   "outputs": [],
   "source": [
    "from mpl_toolkits.basemap import Basemap \n",
    "import matplotlib.pyplot as plt\n",
    "\n",
    "m = Basemap(\n",
    "    projection='merc', \n",
    "    llcrnrlat=40.496044, \n",
    "    urcrnrlat=40.915256, \n",
    "    llcrnrlon=-74.255735, \n",
    "    urcrnrlon=-73.700272,\n",
    "    resolution='i'\n",
    ")\n",
    "\n",
    "m.drawmapboundary(fill_color='#85A6D9')\n",
    "m.drawcoastlines(color='#6D5F47', linewidth=.4)\n",
    "m.drawrivers(color='#6D5F47', linewidth=.4)\n",
    "\n",
    "longitudes = combined['lon'].tolist()\n",
    "latitudes = combined['lat'].tolist()\n",
    "\n",
    "m.scatter(longitudes, latitudes, s=20, zorder=2, latlon=True)\n",
    "plt.show()"
   ]
  },
  {
   "cell_type": "raw",
   "metadata": {},
   "source": [
    "10. Plotting Out Statistics\n",
    "\n",
    "From the map above, we can see that school density is highest in Manhattan (the top of the map), and lower in Brooklyn, the Bronx, Queens, and Staten Island.\n",
    "\n",
    "Now that we've plotted the school locations, we can begin to display meaningful information on the maps, such as the percentage of English language learners by area.\n",
    "\n",
    "We can shade each point in the scatterplot by passing the keyword argument c into the scatter() method. This argument accepts a variable containing a sequence of numbers, assigns different colors to those numbers, and then shades the points on the plot associated with those numbers accordingly.\n",
    "\n",
    "The method will convert the sequence of numbers we pass into the c keyword argument to values ranging from 0 to 1. It will then map these values onto a colormap. Matplotlib has quite a few default colormaps [https://matplotlib.org/users/colormaps.html]. In our case, we'll use the summer colormap, which results in green points for low numbers, and yellow points for high numbers.\n",
    "\n",
    "For example, let's say we plotted ell_percent by school. If we pass in the keyword argument c=combined[\"ell_percent\"], then the method would shade a school with a high ell_percent yellow, and a school with a low ell_percent green. We can specify the colormap we want to use by passing the cmap keyword argument to the scatter() method.\n",
    "\n",
    "Instructions\n",
    "Set up the map using the code snippet that creates a map, then draws rivers, coastlines, and boundaries.\n",
    "Call the scatter() method on m, and pass in longitudes and latitudes as arguments.\n",
    "Make sure to pass in longitudes and latitudes in the correct order.\n",
    "Pass in the keyword argument s=20 to increase the size of the points in the scatterplot.\n",
    "Pass in the keyword argument zorder=2 to plot the points on top of the rest of the map. Otherwise the method will draw the points underneath the land.\n",
    "Pass in the keyword argument latlon=True to indicate that we're passing in latitude and longitude coordinates, rather than axis coordinates.\n",
    "Pass in the keyword argument c with the value combined[\"ell_percent\"] to plot the ell_percent.\n",
    "Pass in the keyword argument cmap=\"summer\" to get the right color scheme.\n",
    "Show the plot using the show() method."
   ]
  },
  {
   "cell_type": "code",
   "execution_count": null,
   "metadata": {
    "collapsed": true
   },
   "outputs": [],
   "source": [
    "from mpl_toolkits.basemap import Basemap \n",
    "import matplotlib.pyplot as plt\n",
    "\n",
    "m = Basemap(\n",
    "    projection='merc', \n",
    "    llcrnrlat=40.496044, \n",
    "    urcrnrlat=40.915256, \n",
    "    llcrnrlon=-74.255735, \n",
    "    urcrnrlon=-73.700272,\n",
    "    resolution='i'\n",
    ")\n",
    "\n",
    "m.drawmapboundary(fill_color='#85A6D9')\n",
    "m.drawcoastlines(color='#6D5F47', linewidth=.4)\n",
    "m.drawrivers(color='#6D5F47', linewidth=.4)\n",
    "\n",
    "longitudes = combined['lon'].tolist()\n",
    "latitudes = combined['lat'].tolist()\n",
    "\n",
    "m.scatter(longitudes, latitudes, s=20, zorder=2, latlon=True, c=combined['ell_percent'], cmap='summer')\n",
    "plt.show()"
   ]
  },
  {
   "cell_type": "raw",
   "metadata": {},
   "source": [
    "11. Calculating District-Level Statistics\n",
    "\n",
    "Unfortunately, due to the number of schools, it's hard to interpret the map we made on the last screen. It looks like uptown Manhattan and parts of Queens have a higher ell_percent, but we can't be sure. One way to make very granular statistics easier to read is to aggregate them. In this case, we can aggregate by district, which will enable us to plot ell_percent district-by-district instead of school-by-school.\n",
    "\n",
    "In the last mission, we used the pandas.DataFrame.groupby() [http://pandas.pydata.org/pandas-docs/stable/groupby.html] followed by the agg() [http://pandas.pydata.org/pandas-docs/stable/groupby.html#aggregation] method on the resulting object to find the mean class size for each unique DBN. The principle is exactly the same, except that here we'd find the mean of each column for each unique value in school_dist.\n",
    "\n",
    "Instructions\n",
    "Find the average values for each column for each school_dist in combined.\n",
    "Use the pandas.DataFrame.groupby() method to group combined by school_dist.\n",
    "Use the agg() method, along with the numpy.mean function as an argument, to calculate the average of each group.\n",
    "Assign the result to the variable districts.\n",
    "Reset the index of districts, making school_dist a column again.\n",
    "Use the pandas.DataFrame.reset_index() [http://pandas.pydata.org/pandas-docs/stable/generated/pandas.DataFrame.reset_index.html] method with the keyword argument inplace=True.\n",
    "Display the first few rows of districts to verify that everything went okay."
   ]
  },
  {
   "cell_type": "code",
   "execution_count": null,
   "metadata": {
    "collapsed": true
   },
   "outputs": [],
   "source": [
    "import numpy\n",
    "\n",
    "districts = combined.groupby('school_dist').agg(numpy.mean)\n",
    "districts.reset_index(inplace=True)\n",
    "print(districts.head())"
   ]
  },
  {
   "cell_type": "raw",
   "metadata": {},
   "source": [
    "12. Plotting Percent Of English Learners by District\n",
    "\n",
    "Now that we've taken the means of all of the columns, we can plot out ell_percent by district. Not only did we find the mean of ell_percent, but we also took the means of the lon and lat columns, which will give us the coordinates for the center of each district.\n",
    "\n",
    "\n",
    "Instructions\n",
    "Use the code snippet from before that creates a map, then draws rivers, coastlines, and boundaries.\n",
    "Convert the lon column of districts to a list, and assign it to the longitudes variable.\n",
    "Convert the lat column of districts to a list, and assign it to the latitudes variable.\n",
    "Call the scatter() method on m, and pass in longitudes and latitudes as arguments.\n",
    "Make sure to pass in longitudes and latitudes in the correct order.\n",
    "Pass in the keyword argument s=50 to increase the size of the points in the scatterplot.\n",
    "Pass in the keyword argument zorder=2 to plot the points on top of the rest of the map. Otherwise the method will draw the points underneath the land.\n",
    "Pass in the keyword argument latlon=True to indicate that we're passing in latitude and longitude coordinates, rather than axis coordinates.\n",
    "Pass in the keyword argument c with the value districts[\"ell_percent\"] to plot the ell_percent.\n",
    "Pass in the keyword argument cmap=\"summer\" to get the right color scheme.\n",
    "Show the plot using the show() method."
   ]
  },
  {
   "cell_type": "code",
   "execution_count": null,
   "metadata": {
    "collapsed": true
   },
   "outputs": [],
   "source": [
    "from mpl_toolkits.basemap import Basemap \n",
    "import matplotlib.pyplot as plt\n",
    "\n",
    "m = Basemap(\n",
    "    projection='merc', \n",
    "    llcrnrlat=40.496044, \n",
    "    urcrnrlat=40.915256, \n",
    "    llcrnrlon=-74.255735, \n",
    "    urcrnrlon=-73.700272,\n",
    "    resolution='i'\n",
    ")\n",
    "\n",
    "m.drawmapboundary(fill_color='#85A6D9')\n",
    "m.drawcoastlines(color='#6D5F47', linewidth=.4)\n",
    "m.drawrivers(color='#6D5F47', linewidth=.4)\n",
    "\n",
    "longitudes = districts['lon'].tolist()\n",
    "latitudes = districts['lat'].tolist()\n",
    "\n",
    "m.scatter(longitudes, latitudes, s=20, zorder=2, latlon=True, c=districts['ell_percent'], cmap='summer')\n",
    "plt.show()"
   ]
  }
 ],
 "metadata": {
  "kernelspec": {
   "display_name": "Python 2",
   "language": "python",
   "name": "python2"
  },
  "language_info": {
   "codemirror_mode": {
    "name": "ipython",
    "version": 2
   },
   "file_extension": ".py",
   "mimetype": "text/x-python",
   "name": "python",
   "nbconvert_exporter": "python",
   "pygments_lexer": "ipython2",
   "version": "2.7.14"
  }
 },
 "nbformat": 4,
 "nbformat_minor": 2
}
