{
 "cells": [
  {
   "cell_type": "markdown",
   "metadata": {},
   "source": [
    "# Step 5 Introduction to Stats - Probability distributions"
   ]
  },
  {
   "cell_type": "raw",
   "metadata": {},
   "source": [
    "1. The dataset\n",
    "\n",
    "In the last mission, we looked at calculating probabilities. In this mission, we'll construct probability distributions. But first, let's look at the dataset we'll be using.\n",
    "\n",
    "In many countries, there are bikesharing programs where anyone can rent a bike from a depot, and return it at other depots throughout a city. There is one such program in Washington, D.C., in the US. We'll be looking at the number of bikes that were rented by day. Here are the relevant columns:\n",
    "\n",
    "dteday -- the date that we're looking at.\n",
    "cnt -- the total number of bikes rented.\n",
    "This data was collected by Hadi Fanaee-T at the University of Porto, and can be downloaded here. [http://archive.ics.uci.edu/ml/datasets/Bike+Sharing+Dataset]"
   ]
  },
  {
   "cell_type": "raw",
   "metadata": {},
   "source": [
    "2. Binomial distributions\n",
    "\n",
    "In the last mission, we defined \n",
    " as the probability of an outcome occurring, and \n",
    " as the probability of it not occurring, where \n",
    ". These types of probabilites are known as binomial -- there are two values, which add to 1 collectively. There's a 100% chance of one outcome or the other occurring.\n",
    "\n",
    "Many commonly occurring events can be expressed in terms of binomial outcomes -- a coin flip, winning a football game, the stock market going up, and more.\n",
    "\n",
    "When we deal with binomial probabilities, we're often interested in the chance of a certain outcome happening in a sequence. We want to know what the chances are of our favorite football team winning 5 of its next 6 games, and the stock market going up in 4 of the next 6 days.\n",
    "\n",
    "The same interest applies when we're analyzing data. Companies and researchers conduct experiments every day. These can range from testing whether changing the button color on your webpage increases conversion rate to seeing if a new drug increases patient recovery rate.\n",
    "\n",
    "The core of these tests is the idea of a binomial distribution -- we want to know how many visitors out of 100 would normally sign up for our website, and we want to know if changing our button color affected that probability.\n",
    "\n",
    "One easy way to visualize binomials is a binomial distribution. Given N events, it plots the probabilities of getting different numbers of successful outcomes."
   ]
  },
  {
   "cell_type": "raw",
   "metadata": {},
   "source": [
    "3. Bikesharing distribution\n",
    "\n",
    "Let's say we're working for the mayor of Washington, DC, Muriel Bowser. She wants to know on how many days out of the next 30 we can expect more than 5000 riders.\n",
    "\n",
    "Rather than give her an exact number, which may not be accurate, we can hedge our bets with a probability distribution. This will show her all the possibilities, along with probabilities for each.\n",
    "\n",
    "First, we have to find the probability of there being more than 5000 riders in a single day.\n",
    "\n",
    "Instructions\n",
    "Find the probability of there being more than 5000 riders in a single day (using the cnt column).\n",
    "Assign the result to prob_over_5000."
   ]
  },
  {
   "cell_type": "code",
   "execution_count": null,
   "metadata": {
    "collapsed": true
   },
   "outputs": [],
   "source": [
    "import pandas\n",
    "bikes = pandas.read_csv(\"bike_rental_day.csv\")"
   ]
  },
  {
   "cell_type": "raw",
   "metadata": {},
   "source": [
    "4. Computing the distribution\n",
    "\n",
    "We now know that the probability is about .39 that there are more than 5000 riders in a single day. In the last mission, we figured out how to find the probability of k outcomes out of N events occurring. We'll need to use this to build up a list of probabilities.\n",
    "\n",
    "The formula we used in the last mission was:\n",
    "\n",
    "\n",
    "\n",
    "Instructions\n",
    "Using the knowledge from the last mission, create a function that can compute the probability of k outcomes out of N events occurring.\n",
    "Use the function to find the probability of each number of outcomes in outcome_counts occurring.\n",
    "An outcome is a day where there are more than 5000 riders, with p =.39.\n",
    "You should have a list with 31 items, where the first item is the probability of 0 days out of 30 with more than 5000 riders, the second is the probability of 1 day out of 30, and so on, up to 30 days out of 30.\n",
    "Assign the list to outcome_probs."
   ]
  },
  {
   "cell_type": "code",
   "execution_count": null,
   "metadata": {
    "collapsed": true
   },
   "outputs": [],
   "source": [
    "import math\n",
    "\n",
    "# Each item in this list represents one k, starting from 0 and going up to and including 30.\n",
    "outcome_counts = list(range(31))"
   ]
  },
  {
   "cell_type": "raw",
   "metadata": {},
   "source": [
    "5. Plotting the distribution\n",
    "\n",
    "You may have noticed that outcome_counts in the previous screen was 31 items long when N was only 30. This is because we need to account for 0. There's a chance of having \n",
    ", where the outcome we want doesn't happen at all. This data point needs to be on our charts. We'll always want to add 1 to N when figuring out how many points to plot.\n",
    "\n",
    "Our data is in terms of whole days. Either 1 day has more than 5000 riders, or 2 days have more than 5000 riders. It doesn't make sense to talk about the probability of 1.5 days having more than 5000 riders. The points in our data are discrete and not continuous, so we use a bar chart when plotting.\n",
    "\n",
    "Now that we've computed the distribution, we can easily plot it out using matplotlib. This will show us a nice distribution of our probabilities, along with the most likely outcomes.\n",
    "\n",
    "Instructions\n",
    "import matplotlib.pyplot as plt\n",
    "\n",
    "# The most likely number of days is between 10 and 15.\n",
    "plt.bar(outcome_counts, outcome_probs)\n",
    "plt.show()"
   ]
  },
  {
   "cell_type": "code",
   "execution_count": null,
   "metadata": {
    "collapsed": true
   },
   "outputs": [],
   "source": [
    "import matplotlib.pyplot as plt\n",
    "\n",
    "# The most likely number of days is between 10 and 15.\n",
    "plt.bar(outcome_counts, outcome_probs)\n",
    "plt.show()"
   ]
  },
  {
   "cell_type": "raw",
   "metadata": {},
   "source": [
    "6. Simplifying the computation\n",
    "\n",
    "To construct our distribution, we had to write our own custom function, and a decent amount of code. We can instead use the binom.pmf [http://docs.scipy.org/doc/scipy-0.16.1/reference/generated/scipy.stats.binom.html] function from SciPy to do this faster.\n",
    "\n",
    "Here's a usage example:\n",
    "\n",
    "from scipy import linspace\n",
    "from scipy.stats import binom\n",
    "​\n",
    "# Create a range of numbers from 0 to 30, with 31 elements (each number has one entry).\n",
    "outcome_counts = linspace(0,30,31)\n",
    "​\n",
    "# Create the binomial probabilities, one for each entry in outcome_counts.\n",
    "dist = binom.pmf(outcome_counts,30,0.39)\n",
    "The pmf function in SciPy is an implementation of the mathematical probability mass function [https://en.wikipedia.org/wiki/Probability_mass_function]. The pmf will give us the probability of each k in our outcome_counts list occurring.\n",
    "\n",
    "A binomial distribution only needs two parameters. A parameter is the statistical term for a number that summarizes data for the entire population. For a binomial distribution, the parameters are:\n",
    "\n",
    "N, the total number of events,\n",
    "p, the probability of the outcome we're interested in seeing.\n",
    "The SciPy function pmf matches this and takes in the following parameters:\n",
    "\n",
    "x: the list of outcomes,\n",
    "n: the total number of events,\n",
    "p: the probability of the outcome we're interested in seeing.\n",
    "Because we only need two parameters to describe a distribution, it doesn't matter whether we want to know if it will be sunny 5 days out of 5, or if 5 out of 5 coin flips will turn up heads. As long as the outcome that we care about has the same probability (\n",
    "), and \n",
    " is the same, the binomial distribution will look the same.\n",
    "\n",
    "Instructions\n",
    "Generate a binomial distribution, and then find the probabilities for each value in outcome_counts.\n",
    "Use N=30, and p=.39, as we're doing this for the bikesharing data.\n",
    "Plot the resulting data as a bar chart."
   ]
  },
  {
   "cell_type": "code",
   "execution_count": null,
   "metadata": {
    "collapsed": true
   },
   "outputs": [],
   "source": [
    "import scipy\n",
    "from scipy import linspace\n",
    "from scipy.stats import binom\n",
    "\n",
    "# Create a range of numbers from 0 to 30, with 31 elements (each number has one entry).\n",
    "outcome_counts = linspace(0,30,31)"
   ]
  },
  {
   "cell_type": "raw",
   "metadata": {},
   "source": [
    "7. How to think about a probability distribution\n",
    "\n",
    "Looking at a probability distribution might not be extremely intuitive. One way to think about it is that \"if we repeatedly look at samples, the expected number of outcomes will follow the probability distribution\".\n",
    "\n",
    "If we repeatedly look at 30 days of bikesharing data, we'll find that 10 of the days had more than 5000 riders about 12.4% of the time. We'll find that 12 of the days had more than 5000 riders about 14.6% of the time.\n",
    "\n",
    "A probability distribution is a great way to visualize data, but bear in mind that it's not dealing in absolute values. A probability distribution can only tell us which values are likely, and how likely they are."
   ]
  },
  {
   "cell_type": "raw",
   "metadata": {},
   "source": [
    "8. Computing the mean of a probability distribution\n",
    "\n",
    "Sometimes we'll want to be able to tell people the expected value of a probability distribution -- the most likely result of a single sample that we look at.\n",
    "\n",
    "To compute this, we just multiply N by p.\n",
    " \n",
    "Instructions\n",
    "Compute the mean for the bikesharing data, where N=30, and p=.39.\n",
    "Assign the result to dist_mean."
   ]
  },
  {
   "cell_type": "code",
   "execution_count": null,
   "metadata": {
    "collapsed": true
   },
   "outputs": [],
   "source": [
    "dist_mean = None"
   ]
  },
  {
   "cell_type": "raw",
   "metadata": {},
   "source": [
    "9. Computing the standard deviation\n",
    "\n",
    "Just as we can compute the mean, we can also compute the standard deviation of a probability distribution. This helps us find how much the actual values will vary from the mean when we take a sample.\n",
    "\n",
    "Going back to the bikesharing example, we know that the actual values will be around 11.7 (from the last screen). But, we'll need a standard deviation to explain how much the actual values can vary from this expectation.\n",
    "\n",
    "The formula for standard deviation of a probability distribution is:\n",
    "\n"
   ]
  },
  {
   "cell_type": "code",
   "execution_count": null,
   "metadata": {
    "collapsed": true
   },
   "outputs": [],
   "source": [
    "dist_stdev = None"
   ]
  },
  {
   "cell_type": "raw",
   "metadata": {},
   "source": [
    "10. A different plot\n",
    "\n",
    "Just like we did with histograms and sampling a few missions ago, we can vary the parameters to change the distribution. Let's see what the plot would look like with only 10 events, or 100 events.\n",
    "\n",
    "Instructions\n",
    "Generate a binomial distribution, with N=10, and p=.39.\n",
    "Find the probabilities for each value in outcome_counts.\n",
    "Plot the resulting data as a bar chart.\n",
    "Generate a binomial distribution, with N=100, and p=.39.\n",
    "Find the probabilities for each value in outcome_counts.\n",
    "Plot the resulting data as a bar chart."
   ]
  },
  {
   "cell_type": "raw",
   "metadata": {},
   "source": [
    "11. The normal distribution\n",
    "\n",
    "From the last screen, the more events we looked at, the closer our distribution was to being normal. With \n",
    ", we saw some rightward skew, but when we got up to \n",
    ", the skew disappeared.\n",
    "\n",
    "This is because the distribution got narrower relative to the x-axis range the more examples you add. With \n",
    ", there's a reasonable chance that 8 to 10 days could have over 5000 riders. But, when we get up to \n",
    ", it's statistically almost impossible that more than 60 days have over 5000 riders. This makes the distribution narrower.\n",
    "\n",
    "As the distribution gets narrower, it gets more similar to the normal distribution. In the code cell, we plot a line chart instead of a bar chart and it looks almost exactly like a normal distribution."
   ]
  },
  {
   "cell_type": "code",
   "execution_count": null,
   "metadata": {
    "collapsed": true
   },
   "outputs": [],
   "source": [
    "# Create a range of numbers from 0 to 100, with 101 elements (each number has one entry).\n",
    "outcome_counts = scipy.linspace(0,100,101)\n",
    "\n",
    "# Create a probability mass function along the outcome_counts.\n",
    "outcome_probs = binom.pmf(outcome_counts,100,0.39)\n",
    "\n",
    "# Plot a line, not a bar chart.\n",
    "plt.plot(outcome_counts, outcome_probs)\n",
    "plt.show()"
   ]
  },
  {
   "cell_type": "raw",
   "metadata": {},
   "source": [
    "12. Cumulative density function\n",
    "\n",
    "So far, we've looked at the probability that single values of k will occur. What we can look at instead is the probability that k or less will occur. These probabilities can be generated by the cumulative density function. [https://en.wikipedia.org/wiki/Binomial_distribution]\n",
    "\n",
    "Let's say we flip a coin 3 times -- \n",
    ", and \n",
    ". When this happens, here are the probabilities:\n",
    "\n",
    "k    probability\n",
    "​\n",
    "0    .125\n",
    "1    .375\n",
    "2    .375\n",
    "3    .125\n",
    "A cumulative distribution would look like this:\n",
    "\n",
    "k    probability\n",
    "​\n",
    "0    .125\n",
    "1    .5\n",
    "2    .875\n",
    "3    1\n",
    "For each k, we fill in the probability that we'll see k outcomes or less. By the end of the distribution, we should get 1, because all the probabilities add to 1 (if we flip 3 coins, either 0, 1, 2, or 3 of them must be heads).\n",
    "\n",
    "We can calculate this with binom.cdf in scipy.\n",
    "\n",
    "from scipy import linspace\n",
    "from scipy.stats import binom\n",
    "​\n",
    "# Create a range of numbers from 0 to 30, with 31 elements (each number has one entry).\n",
    "outcome_counts = linspace(0,30,31)\n",
    "​\n",
    "# Create the cumulative binomial probabilities, one for each entry in outcome_counts.\n",
    "dist = binom.cdf(outcome_counts,30,0.39)\n",
    "\n",
    "Instructions\n",
    "Create a cumulative distribution where N=30 and p=.39 and generate a line plot of the distribution."
   ]
  },
  {
   "cell_type": "code",
   "execution_count": null,
   "metadata": {
    "collapsed": true
   },
   "outputs": [],
   "source": [
    "outcome_counts = linspace(0,30,31)"
   ]
  },
  {
   "cell_type": "raw",
   "metadata": {},
   "source": [
    "13. Calculating z-scores\n",
    "\n",
    "We can calculate z-scores (the number of standard deviations away from the mean a probability is) fairly easily. These z-scores can then be used how we used z-scores earlier -- to find the percentage of values to the left and right of the value we're looking at.\n",
    "\n",
    "To make this more concrete, say we had 16 days where we observed more than 5000 riders. Is this likely? Unlikely? Using a z-score, we can figure out exactly how common this event is.\n",
    "\n",
    "This is because every normal distribution, as we learned in an earlier mission, has the same properties when it comes to what percentage of the data is within a certain number of standard deviations of the mean. You can look these up in a standard normal table [https://en.wikipedia.org/wiki/Standard_normal_table]. About 68% of the data is within 1 standard deviation of the mean, 95% is within 2, and 99% is within 3.\n",
    "\n",
    "We can calculate the mean (\n",
    ") and standard deviation (\n",
    ") of a binomial probability distribution using the formulas from earlier:\n",
    "\n",
    "\n",
    "\n",
    "If we want to figure out the number of standard deviations from the mean a value is, we just do:\n",
    "\n",
    "\n",
    "If we wanted to find how many standard deviations from the mean 16 days is:\n",
    "\n",
    "\n",
    "This tells us that 16 days is approximately 1.61 standard deviations above the mean. In percentage form, this captures about 44.63% of our data. If we also include 1.61 standard deviations below the mean(both sides of distribution), this'll include 89.26% of our data.\n",
    "\n",
    "There's a 5.37% chance that a value is 1.61 standard deviations or more above the mean (to the right of the mean), and there's a 5.37% chance that a value is 1.61 standard deviations below the mean (to the left)."
   ]
  },
  {
   "cell_type": "raw",
   "metadata": {},
   "source": [
    "14. Faster way to calculate likelihood\n",
    "\n",
    "We don't want to have to use a z-score table every time we want to see how likely or unlikely a probability is. A much faster way is to use the cumulative distribution fuction (cdf) like we did earlier. This won't give us the exact same values as using z-scores, because the distribution isn't exactly normal, but it will give us the actual amount of probability in a distribution to the left of a given k.\n",
    "\n",
    "To use it, we can run:\n",
    "\n",
    "# The sum of all the probabilities to the left of k, including k.\n",
    "left = binom.cdf(k,N,p)\n",
    "​\n",
    "# The sum of all probabilities to the right of k.\n",
    "right = 1 - left\n",
    "This will return the sum of all the probabilities to the left of and including k. If we subtract this value from 1, we get the sum of all the probabilities to the right of k.\n",
    "\n",
    "Instructions\n",
    "Find the probability to the left of \n",
    " (including 16) when k=16 and p=.39.\n",
    "Assign the result to left_16.\n",
    "Find the probability to the right of k=16 when N=30 and p=.39.\n",
    "Assign the result to right_16."
   ]
  },
  {
   "cell_type": "code",
   "execution_count": null,
   "metadata": {
    "collapsed": true
   },
   "outputs": [],
   "source": [
    "left_16 = None\n",
    "right_16 = None"
   ]
  }
 ],
 "metadata": {
  "kernelspec": {
   "display_name": "Python 2",
   "language": "python",
   "name": "python2"
  },
  "language_info": {
   "codemirror_mode": {
    "name": "ipython",
    "version": 2
   },
   "file_extension": ".py",
   "mimetype": "text/x-python",
   "name": "python",
   "nbconvert_exporter": "python",
   "pygments_lexer": "ipython2",
   "version": "2.7.14"
  }
 },
 "nbformat": 4,
 "nbformat_minor": 2
}
