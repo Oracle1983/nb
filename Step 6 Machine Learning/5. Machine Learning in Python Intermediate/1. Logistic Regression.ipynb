{
 "cells": [
  {
   "cell_type": "markdown",
   "metadata": {},
   "source": [
    "# Step 6 Machine Learning -  Logistic Regression"
   ]
  },
  {
   "cell_type": "raw",
   "metadata": {},
   "source": [
    "1. Classification\n",
    "\n",
    "In the previous course, we explored a supervised machine learning technique called linear regression. Linear regression works well when the target column we're trying to predict, the dependent variable, is ordered and continuous. If the target column instead contains discrete values, then linear regression isn't a good fit.\n",
    "\n",
    "In this mission, we'll explore how to build a predictive model for these types of problems, which are known as classification problems. In classification, our target column has a finite set of possible values which represent different categories a row can belong to. We use integers to represent the different categories so we can continue to use mathematical functions to describe how the independent variables map to the dependent variable. Here are a few examples of classification problems:\n",
    "\n",
    "Problem\tSample Features\tType\tCategories\tNumerical Categories\n",
    "Should we accept this student based on their graduate school application?\tCollege GPA, SAT Score, Quality of Recommendations\tBinary\tDon't Accept, Accept\t0, 1\n",
    "What is the most likely blood type of 2 parent's offspring?\tParent 1's blood type, Parent 2's blood type.\tMulti-class\tA, B, AB, O\t1, 2, 3, 4\n",
    "We'll focus on binary classification for now, where the only 2 options for values are:\n",
    "\n",
    "0 for the False condition,\n",
    "1 for the True condition.\n",
    "Before we dive into classification, let's understand the data we'll be working with."
   ]
  },
  {
   "cell_type": "raw",
   "metadata": {},
   "source": [
    "2. Introduction to the data\n",
    "\n",
    "Every year high school student and college students apply to various universities and programs. Each student has a unique set of test scores, grades, and backgrounds. Somehow, the admission commitees must decide which applicants to accept or reject from their program. In this case a binary classification algorithm can be used to accept or reject applicants. To grasp the concepts of classification, we'll try to predict whether an applicant will be admitted to a graduate program in a U.S. university.\n",
    "\n",
    "We'll be working with a dataset containing data on 644 applicants with the following columns:\n",
    "\n",
    "gre - applicant's score on the Graduate Record Exam, a generalized test for prospective graduate students.\n",
    "Score ranges from 200 to 800.\n",
    "gpa - college grade point average.\n",
    "Continuous between 0.0 and 4.0.\n",
    "admit - binary value\n",
    "Binary value, 0 or 1, where 1 means the applicant was admitted to the program and 0 means the applicant was rejected.\n",
    "Here's a preview of the dataset:\n",
    "\n",
    "admit\tgpa\tgre\n",
    "0\t3.177277\t594.102992\n",
    "0\t3.412655\t631.528607\n",
    "0\t2.728097\t553.714399\n",
    "0\t3.093559\t551.089985\n",
    "0\t3.141923\t537.184894\n",
    "While we can use both the gpa and gre columns to predict the admit column, we'll focus on using just the gpa column to keep things simple. Let's read the data into Pandas and visualize the relationship between gpa and admit.\n",
    "\n",
    "Instructions\n",
    "Read admissions.csv into a Dataframe named admissions.\n",
    "Use the Matplotlib method scatter [http://matplotlib.org/api/pyplot_api.html#matplotlib.pyplot.scatter] to generate a scatter plot with the:\n",
    "gpa column on the x-axis.\n",
    "admit column on the y-axis.\n",
    "Use plt.show() to display the scatter plot."
   ]
  },
  {
   "cell_type": "code",
   "execution_count": null,
   "metadata": {
    "collapsed": true
   },
   "outputs": [],
   "source": [
    "import pandas as pd\n",
    "import matplotlib.pyplot as plt"
   ]
  },
  {
   "cell_type": "raw",
   "metadata": {},
   "source": [
    "3. Logistic regression\n",
    "\n",
    "In the previous scatter plot, you'll notice that the gpa column and the admit column do not have a clear linear relationship. Recall that the admit column only contains the values 0 and 1 and are used to represent binary values and the numbers themselves don't carry any weight. When numbers are used to represent different options or categories, they are referred to as categorical values. Classification focuses on estimating the relationship between the independent variables and the dependent, categorical variable.\n",
    "\n",
    "In this mission, we'll focus on a classification technique called logistic regression. While a linear regression model outputs a real number as the label, a logistic regression model outputs a probability value. In binary classification, if the probability value is larger than a certain threshold probability, we assign the label for that row to 1 or 0 otherwise.\n",
    "\n",
    "This threshold probability is something we select, and we'll learn about how to select a good threshold probability in later missions. For now, let's dive more into how logistic regression works."
   ]
  },
  {
   "cell_type": "raw",
   "metadata": {},
   "source": [
    "4. Logistic function\n",
    "\n",
    "In linear regression, we used the linear function y = mx + b to represent the relationship between the independent variables and the dependent variable. In logistic regression, we use the logistic function, which is a version of the linear function that is adapted for classification.\n",
    "\n",
    "Let's explore some of the logistic function's properties to better understand why it's useful for classification tasks. Unlike in linear regression, where the output can be any real value, in logistic regression the output has to be a real value between 0 and 1, since the output represents a probability value. Note that the model can't output a negative value or it would violate this criteria.\n",
    "\n",
    "Here's the mathematical representation of the logistic function:\n",
    "\n",
    "\n",
    "The logistic function is broken up into 2 key parts:\n",
    "\n",
    "The exponential transformation, transforming all values to be positive:\n",
    "\n",
    "The normalization transformation, transforming all values to range between 0 and 1:\n",
    "\n",
    "The exponential transformation and the normalization forces the output values to be squeezed between 0 and 1. If you plot just the exponential part, the output values won't be limited to the range of 0 to 1:\n",
    "\n",
    "Imgur\n",
    "https://dq-content.s3.amazonaws.com/4esqrpy.png\n",
    "\n",
    "The normalization part alone unfortunately isn't sufficient since it struggles at constraining negative values:\n",
    "\n",
    "Imgur\n",
    "https://dq-content.s3.amazonaws.com/qbpTcrr.png\n",
    "\n",
    "Together, both of these pieces work well to constrain the output to the range of values that probabilities are in. In the following code cell, we plot the logistic function to visualize its properties. Specifically, we:\n",
    "\n",
    "define the logistic() function using the NumPy [http://docs.scipy.org/doc/numpy-1.10.1/reference/generated/numpy.exp.html] exp function,\n",
    "generate equally spaced values, between -6 and 6 to represent the x-axis,\n",
    "calculate the y-axis values by feeding each value in x to the logistic() function,\n",
    "creating a line plot to visualize x and y.\n",
    "The generated plot will demonstrate that the y-axis values are constrained to range from 0 to 1. We encourage you to plot more x-values to confirm that this holds true for all potential x values."
   ]
  },
  {
   "cell_type": "code",
   "execution_count": null,
   "metadata": {
    "collapsed": true
   },
   "outputs": [],
   "source": [
    "import numpy as np\n",
    "\n",
    "# Logistic Function\n",
    "def logistic(x):\n",
    "    # np.exp(x) raises x to the exponential power, ie e^x. e ~= 2.71828\n",
    "    return np.exp(x)  / (1 + np.exp(x)) \n",
    "    \n",
    "# Generate 50 real values, evenly spaced, between -6 and 6.\n",
    "x = np.linspace(-6,6,50, dtype=float)\n",
    "\n",
    "# Transform each number in t using the logistic function.\n",
    "y = logistic(x)\n",
    "\n",
    "# Plot the resulting data.\n",
    "plt.plot(x, y)\n",
    "plt.ylabel(\"Probability\")\n",
    "plt.show()"
   ]
  },
  {
   "cell_type": "raw",
   "metadata": {},
   "source": [
    "5. Training a logistic regression model\n",
    "\n",
    "Let's now move onto training the logistic regression model using our dataset. We won't dive into the math and the steps required to fit a logistic regression model to the training data in this mission. We'll instead focus on using the scikit-learn library to fit a model between the gpa and admit columns. Recall that the gpa column contains the GPA of each applicant as a real value between 0.0 and 4.0 and the admit column specifies if that applicant was admitted (0 if not admitted and 1 if admitted). Since we're only working with one feature, gpa, this is referred to as a univariate model.\n",
    "\n",
    "Training a logistic regression model in scikit-learn is similar to training a linear regression model, with the key difference that we use the LogisticRegression class instead of the LinearRegression class. Scikit-learn was designed to make it easy to swap out models by keeping the syntax and notation as consistent as possible across it's different classes.\n",
    " \n",
    "Instructions\n",
    "Import the LogisticRegression class and instantiate a model named logistic_model.\n",
    "Use the LogisticRegression method fit to fit the model to the data. We're only interested in constructing a model that uses gpa values to predict admit values.\n",
    "View the documentation for the LogisticRegression class [http://scikit-learn.org/stable/modules/generated/sklearn.linear_model.LogisticRegression.html] if you get stuck."
   ]
  },
  {
   "cell_type": "code",
   "execution_count": null,
   "metadata": {
    "collapsed": true
   },
   "outputs": [],
   "source": [
    "from sklearn.linear_model import LinearRegression\n",
    "linear_model = LinearRegression()\n",
    "linear_model.fit(admissions[[\"gpa\"]], admissions[\"admit\"])"
   ]
  },
  {
   "cell_type": "raw",
   "metadata": {},
   "source": [
    "6. Plotting probabilities\n",
    "\n",
    "regression model is the probability that the row should be labelled as True, or in our case 1. We can use the trained model to return the predicted probability for each row in the training data.\n",
    "\n",
    "To return the predicted probability, use the predict_proba method [http://scikit-learn.org/stable/modules/generated/sklearn.linear_model.LogisticRegression.html#sklearn.linear_model.LogisticRegression.predict_proba]. The only required parameter for this method is the num_features by num_sample matrix of observations we want scikit-learn to return predicted probabilities for. For each input row, scikit-learn will return a NumPy array with 2 probability values:\n",
    "\n",
    "the probability that the row should be labelled 0,\n",
    "the probability that the row should be labelled 1.\n",
    "Since 0 and 1 are the only 2 possible categories and represent the entire outcome space, these 2 probabilities will always add upto 1.\n",
    "\n",
    "probabilities = logistic_model.predict_proba(admissions[[\"gpa\"]])\n",
    "# Probability that the row belongs to label `0`.\n",
    "probabilities[:,0]\n",
    "# Probabililty that the row belongs to label `1`.\n",
    "probabilities[:,1]\n",
    "Let's use this method to return the probability for each student that they would be admitted and then visualize the results on a scatter plot.\n",
    "\n",
    "Instructions\n",
    "Use the LogisticRegression method predict_proba to return the predicted probabilities for the data in the gpa column. Assign the returned probabilities to pred_probs.\n",
    "Create and display a scatter plot using the Matplotlib scatter function [http://matplotlib.org/api/pyplot_api.html#matplotlib.pyplot.scatter] where:\n",
    "the x-axis is the values in the gpa column,\n",
    "the y-axis is the probability of being classified as label 1."
   ]
  },
  {
   "cell_type": "code",
   "execution_count": null,
   "metadata": {
    "collapsed": true
   },
   "outputs": [],
   "source": [
    "logistic_model = LogisticRegression()\n",
    "logistic_model.fit(admissions[[\"gpa\"]], admissions[\"admit\"])"
   ]
  },
  {
   "cell_type": "raw",
   "metadata": {
    "collapsed": true
   },
   "source": [
    "7. Predict labels\n",
    "\n",
    "You'll notice that the scatter plot suggests a linear relationship between the gpa values and the probability of being admitted. This is because logistic regression is really just an adapted version of linear regression for classification problems. Both logistic and linear regression are used to capture linear relationships between the independent variables and the dependent variable.\n",
    "\n",
    "Let's now use the predict method to return the label predictions for each row in our training dataset.\n",
    "\n",
    "Instructions\n",
    "Use the LogisticRegression method [http://scikit-learn.org/stable/modules/generated/sklearn.linear_model.LogisticRegression.html#sklearn.linear_model.LogisticRegression.predict] predict to return the predicted for each label in the training set.\n",
    "The parameter for the predict method matches that of the predict_proba method:\n",
    "X: rows of data to use for prediction.\n",
    "Assign the result to fitted_labels.\n",
    "Use the print function to display the first 10 values in fitted_labels."
   ]
  },
  {
   "cell_type": "code",
   "execution_count": null,
   "metadata": {
    "collapsed": true
   },
   "outputs": [],
   "source": [
    "logistic_model = LogisticRegression()\n",
    "logistic_model.fit(admissions[[\"gpa\"]], admissions[\"admit\"])"
   ]
  }
 ],
 "metadata": {
  "kernelspec": {
   "display_name": "Python 2",
   "language": "python",
   "name": "python2"
  },
  "language_info": {
   "codemirror_mode": {
    "name": "ipython",
    "version": 2
   },
   "file_extension": ".py",
   "mimetype": "text/x-python",
   "name": "python",
   "nbconvert_exporter": "python",
   "pygments_lexer": "ipython2",
   "version": "2.7.14"
  }
 },
 "nbformat": 4,
 "nbformat_minor": 2
}
