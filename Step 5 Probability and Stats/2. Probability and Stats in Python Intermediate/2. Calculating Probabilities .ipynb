{
 "cells": [
  {
   "cell_type": "markdown",
   "metadata": {},
   "source": [
    "# Step 5 Introduction to Stats - Calculating Probabilities"
   ]
  },
  {
   "cell_type": "raw",
   "metadata": {},
   "source": [
    "1. The dataset\n",
    "\n",
    "In the last mission, we looked at probability, and the ideas of disjunctive, dependent, and conjunctive probabilities.\n",
    "\n",
    "We'll dive more into probability in this mission, and calculate more complex probabilities. But first, we'll look at the dataset we'll be using.\n",
    "\n",
    "In many countries, there are bikesharing programs where anyone can rent a bike from a depot, and return it at other depots throughout a city. There is one such program in Washington, D.C., in the US. We'll be looking at the number of bikes that were rented by day. Here are the relevant columns:\n",
    "\n",
    "dteday -- the date that we're looking at.\n",
    "casual -- the number of casual riders (people who hadn't previously signed up with the bikesharing program) that rented bikes on the day.\n",
    "registered -- the number of registered riders (people who signed up previously) that rented bikes.\n",
    "cnt -- the total number of bikes rented.\n",
    "This data was collected by Hadi Fanaee-T at the University of Porto, and can be downloaded here. [http://archive.ics.uci.edu/ml/datasets/Bike+Sharing+Dataset]"
   ]
  },
  {
   "cell_type": "raw",
   "metadata": {},
   "source": [
    "2. Probability of renting bikes\n",
    "\n",
    "Let's explore our data a bit, first by finding the probability that more than 2000 bikes will be rented on any given day.\n",
    "\n",
    "Instructions\n",
    "Find the probability that more than 4000 bikes were rented on any given day.\n",
    "Assign the result to probability_over_4000."
   ]
  },
  {
   "cell_type": "code",
   "execution_count": null,
   "metadata": {
    "collapsed": true
   },
   "outputs": [],
   "source": [
    "import pandas\n",
    "bikes = pandas.read_csv(\"bike_rental_day.csv\")\n",
    "\n",
    "# Find the number of days the bikes rented exceeded the threshold.\n",
    "days_over_threshold = bikes[bikes[\"cnt\"] > 2000].shape[0]\n",
    "# Find the total number of days we have data for.\n",
    "total_days = bikes.shape[0]\n",
    "\n",
    "# Get the probability that more than 2000 bikes were rented for any given day.\n",
    "probability_over_2000 = days_over_threshold / total_days\n",
    "print(probability_over_2000)"
   ]
  },
  {
   "cell_type": "raw",
   "metadata": {},
   "source": [
    "3. Up to or greater\n",
    "\n",
    "Let's say we flip three coins, and we want to know the probability of getting 2 or more heads. In order to do this, we'd need to add the probability of getting exactly 2 heads with the probability of getting exactly 3 heads. The probability that any single coin will be heads is .5 (the probability that the coin will be tails is the same, .5).\n",
    "\n",
    "The probability of 3 heads is easy to calculate -- this can only happen in one situation, where all three coins are heads, or .5 * .5 * .5, which equals .125.\n",
    "\n",
    "The probability of 2 heads is a little trickier -- there are three different combinations that the three coins can configure themselves in to end up with 2 heads. We show this in the table below, using H for heads, and T for tails.\n",
    "\n",
    "Coin 1    Coin 2    Coin 3\n",
    "H         H         T\n",
    "T         H         H\n",
    "H         T         H\n",
    "Each one of these has a probability of .5 * .5 * .5, so we just multiply 3 * .125 to get .375, the probability that we'll get 2 heads.\n",
    "\n",
    "We then just have to add up the probability of getting 2 heads to the probability of getting 3 heads to get .5, the probability of getting 2 or more heads when we flip 3 coins."
   ]
  },
  {
   "cell_type": "raw",
   "metadata": {},
   "source": [
    "4. Calculating probabilities\n",
    "\n",
    "Now that we know how to calculate probabilities for coins, let's calculate the probability that 1 coin out of 3 is heads.\n",
    "\n",
    "Instructions\n",
    "Find the probability that 1 coin out of 3 is heads.\n",
    "Assign the result to coin_1_prob."
   ]
  },
  {
   "cell_type": "code",
   "execution_count": null,
   "metadata": {
    "collapsed": true
   },
   "outputs": [],
   "source": [
    "# Remember that whether a flag has red in it or not is in the `red` column."
   ]
  },
  {
   "cell_type": "raw",
   "metadata": {},
   "source": [
    "5. Number of combinations\n",
    "\n",
    "What we found in the last screen was that there were exactly 3 combinations of coins to get 2 out of the 3 coins to be heads. There was exactly 1 combination to get all three coins to be heads.\n",
    "\n",
    "Let's scale this example up a little bit. Let's say that we live in Los Angeles, CA, and the chance of any single day being sunny is .7. The chance of a day not being sunny is .3.\n",
    "\n",
    "If we have a sample of 5 days, and we want to find the chance that all 5 of them will be sunny, there's only one combination that allows this to happen -- the sunny outcome has to occur on all 5 days:\n",
    "\n",
    "Day 1    Day 2    Day 3    Day 4    Day 5\n",
    "S        S        S        S        S\n",
    "If we want to find the probability that only 4 days will be sunny, there are 5 possible combinations.\n",
    "\n",
    "Day 1    Day 2    Day 3    Day 4    Day 5\n",
    "S        S        S        S        N\n",
    "S        S        S        N        S\n",
    "S        S        N        S        S\n",
    "S        N        S        S        S\n",
    "N        S        S        S        S\n",
    "You may notice a pattern here. The most extreme cases -- a given outcome happening all the time or none of the time, can only occur in one combination. The next step lower, a given outcome happening every time except once, or a given outcome only happening once, can happen in as many combinations as there are total events.\n",
    "\n",
    "Instructions\n",
    "Find the number of combinations in which 1 day will be sunny.\n",
    "Assign the result to sunny_1_combinations."
   ]
  },
  {
   "cell_type": "code",
   "execution_count": null,
   "metadata": {
    "collapsed": true
   },
   "outputs": [],
   "source": [
    "sunny_1_combinations = None"
   ]
  },
  {
   "cell_type": "raw",
   "metadata": {},
   "source": [
    "7. Number of combinations formula\n",
    "\n",
    "In fact, there's an easily quantifiable pattern with the number of combinations. We can calculate the number of combinations in which an outcome can occur k times in a set of events with a formula:\n",
    "\n",
    "\n",
    "In this formula, \n",
    " is the total number of events we have, and \n",
    " is the target number of times we want our desired outcome to occur. So if we wanted to find the number of combinations in which 4 out of 5 days can be sunny, we'd set \n",
    " to 5, and \n",
    " to 4. The \n",
    " symbol means factorial. A factorial means \"multiply every number from 1 to this number together\". So \n",
    " is 1*2*3*4, which is 24.\n",
    "\n",
    "Plugging 4 and 5 into this formula gives us:\n",
    "\n",
    "\n",
    "This matches our intuitive answer that we got earlier!\n",
    "\n",
    "We can calculate probabilities greater than or equal to a threshold with our bike sharing data. We found that the probability of having more riders than 4000 is about .6. We can use this to find the probability that in 10 days, 7 or more days have more than 4000 riders.\n",
    "\n",
    "But first, let's find the number of combinations in which 7 days out of 10 have more than 4000 rentals. We can repeat this process for 8 and 9 days.\n",
    "\n",
    "Instructions\n",
    "Find the number of combinations where 8 days out of 10 have more than 4000 rentals. Assign the result to combinations_8.\n",
    "Find the number of combinations where 9 days out of 10 have more than 4000 rentals. Assign the result to combinations_9."
   ]
  },
  {
   "cell_type": "code",
   "execution_count": null,
   "metadata": {
    "collapsed": true
   },
   "outputs": [],
   "source": [
    "import math\n",
    "def find_outcome_combinations(N, k):\n",
    "    # Calculate the numerator of our formula.\n",
    "    numerator = math.factorial(N)\n",
    "    # Calculate the denominator.\n",
    "    denominator = math.factorial(k) * math.factorial(N - k)\n",
    "    # Divide them to get the final value.\n",
    "    return numerator / denominator\n",
    "\n",
    "combinations_7 = find_outcome_combinations(10, 7)"
   ]
  },
  {
   "cell_type": "raw",
   "metadata": {},
   "source": [
    "9. The probability for each combination\n",
    "\n",
    "Let's go back to our example about the number of sunny days in Los Angeles. We can call the probability that a day will be sunny \n",
    ", and the probability that a day won't be sunny \n",
    ".\n",
    "\n",
    "\n",
    " is the probability that an outcome will occur, and \n",
    " is the complementary probability that the outcome won't happen -- \n",
    ".\n",
    "\n",
    "When we calculate the number of combinations in which a given outcome can occur k times in N events, each of those combinations has a certain probability of occurring.\n",
    "\n",
    "Let's say that for sunny days in Los Angeles, \n",
    " is .7, and \n",
    " is .3. If we look at 5 days, there is one combination in which every day is sunny -- the probability for this combination is .7 * .7 * .7 * .7 * .7, which equals .168.\n",
    "\n",
    "There are 5 combinations in which only 4 days are sunny -- you can see our table earlier for a closer look. We can calculate the probability of the first combination with .7 * .7 * .7 * .7 * .3, which equals .072. The probability of the second combination is .7 * .7 * .7 * .3 * .7, which equals .072. We're multiplying all the same numbers, just in a different order, so this combination has the same probability as the first combination. The probability for each combination in which \n",
    " of the same outcome can happen in \n",
    " events is always the same.\n",
    " \n",
    "Instructions\n",
    "Find the probability of a single combination for finding 3 days out of 5 are sunny.\n",
    "The combination is Sunny, Sunny, Sunny, Not Sunny, Not Sunny.\n",
    "Assign the result to prob_combination_3."
   ]
  },
  {
   "cell_type": "code",
   "execution_count": null,
   "metadata": {
    "collapsed": true
   },
   "outputs": [],
   "source": [
    "prob_combination_3 = None"
   ]
  },
  {
   "cell_type": "raw",
   "metadata": {},
   "source": [
    "11. Per combination probability formula\n",
    "\n",
    "As we learned earlier, the probability for each combination in which \n",
    " of the same outcome can happen in \n",
    " events is always the same. Given this, we can calculate the probability of a given outcome happening \n",
    " times in \n",
    " events by multiplying the number of combinations in which our result can occur by the probability of a single combination occurring.\n",
    "\n",
    "The probability of a single combination occurring is given by \n",
    ". We can verify this with our sunny days example. First, let's find the probability of one combination in which there are 5 sunny days out of 5:\n",
    "\n",
    "\n",
    "Now, let's find the probability of one combination in which there are 4 sunny days out of 5:\n",
    "\n",
    "\n",
    "This matches up perfectly with what we did earlier. To find the overall probabilty of 4 days out of 5 being sunny, we just multiply the number of combinations by the probability of any single combination occurring. This gives us .36.\n",
    "\n",
    "Now we know enough to find the probability that within 10 days, 7 or more days have more than 4000 riders. The probability of having more than 4000 riders on any single day is about .6. This means that \n",
    " is .6, and \n",
    " is .4.\n",
    " \n",
    "Instructions\n",
    "Write a function to find the probability of a single combination occurring.\n",
    "Use the function to calculate the probability of 8 days out of 10 having more than 4000 riders.\n",
    "Assign the result to prob_8.\n",
    "Use the function to calculate the probability of 9 days out of 10 having more than 4000 riders.\n",
    "Assign the result to prob_9.\n",
    "Use the function to calculate the probability of 10 days out of 10 having more than 4000 riders.\n",
    "Assign the result to prob_10."
   ]
  },
  {
   "cell_type": "code",
   "execution_count": null,
   "metadata": {
    "collapsed": true
   },
   "outputs": [],
   "source": [
    "p = .6\n",
    "q = .4"
   ]
  },
  {
   "cell_type": "raw",
   "metadata": {},
   "source": [
    "13. Statistical significance\n",
    "\n",
    "Let's say we've invented a weather control device that can make the weather sunny (if only!), and we decide to test it on Los Angeles. The device isn't perfect, and can't make every single day sunny -- it can only increase the chance that a day is sunny. We turn it on for 10 days, and notice that the weather is sunny in 8 of those.\n",
    "\n",
    "We touched on the question of statistical significance before -- it's the question of whether a result happened as the result of something we changed, or whether a result is a matter of random chance.\n",
    "\n",
    "Typically, researchers will use 5% as a significance threshold -- if an event would only happen 5% or less of the time by random chance, then it is statistically significant. If an event would happen more than 5% of the time by random chance, then it isn't statistically significant.\n",
    "\n",
    "In order to determine statistical significance, we need to determine the percentage chance that the number of outcomes we saw or greater could happen by random chance.\n",
    "\n",
    "In our case, there is 12% chance that the weather would be sunny 8 days out of 10 by random chance. We add this to 4% for 9 days out of 10, and .6% for 10 days out of 10 to get a 16.6% total chance of the sunny outcome happening 8 or more time in our 10 days. Our result isn't statistically significant, so we'd have to go back to the lab and spend some time adding more flux capacitors to our weather control device.\n",
    "\n",
    "Let's say we recalibrate our weather control device successfully, and observe for 10 more days, of which 9 of them are sunny. This only has a 4.6% chance of happening randomly (probability of 9 plus probability of 10). This is a statistically significant result, but it isn't a slam-dunk. It would require more investigation, including collecting results for more days, to get a more conclusive result.\n",
    "\n",
    "In practice, setting statistical significance thresholds is tricky, and can be highly variable. We'll be touching on how to set thresholds later on."
   ]
  }
 ],
 "metadata": {
  "kernelspec": {
   "display_name": "Python 2",
   "language": "python",
   "name": "python2"
  },
  "language_info": {
   "codemirror_mode": {
    "name": "ipython",
    "version": 2
   },
   "file_extension": ".py",
   "mimetype": "text/x-python",
   "name": "python",
   "nbconvert_exporter": "python",
   "pygments_lexer": "ipython2",
   "version": "2.7.14"
  }
 },
 "nbformat": 4,
 "nbformat_minor": 2
}
