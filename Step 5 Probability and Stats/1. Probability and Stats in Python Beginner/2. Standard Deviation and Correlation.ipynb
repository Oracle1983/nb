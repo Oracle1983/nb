{
 "cells": [
  {
   "cell_type": "markdown",
   "metadata": {},
   "source": [
    "# Step 5 Introduction to Stats - Standard Deviation and Correlation"
   ]
  },
  {
   "cell_type": "raw",
   "metadata": {},
   "source": [
    "1. Introduction\n",
    "\n",
    "In this mission, we'll be calculating statistics using data from the National Basketball Association (NBA). Here are the first few rows of the CSV file we'll explore:\n",
    "\n",
    "player,pos,age,bref_team_id,g,gs,mp,fg,fga,fg.,x3p,x3pa,x3p.,x2p,x2pa,x2p.,efg.,ft,fta,ft.,orb,drb,trb,ast,stl,blk,tov,pf,pts,season,season_end\n",
    "Quincy Acy,SF,23,TOT,63,0,847,66,141,0.468,4,15,0.266666666666667,62,126,0.492063492063492,0.482,35,53,0.66,72,144,216,28,23,26,30,122,171,2013-2014,2013\n",
    "Steven Adams,C,20,OKC,81,20,1197,93,185,0.503,0,0,NA,93,185,0.502702702702703,0.503,79,136,0.581,142,190,332,43,40,57,71,203,265,2013-2014,2013\n",
    "Each row holds data on a single player for a single season. It contains the player's team, the total number of points the player scored, and other information.\n",
    "\n",
    "Here are some of the interesting columns:\n",
    "\n",
    "player - The player's name\n",
    "pts - The total number of points the player scored\n",
    "ast - The player's total number of assists\n",
    "fg. - The player's field goal percentage for the season\n",
    "On the next few screens, we'll explore this data set by calculating a few summary statistics."
   ]
  },
  {
   "cell_type": "raw",
   "metadata": {},
   "source": [
    "2. The Mean as the Center\n",
    "\n",
    "While we've looked at the mean briefly before, it has an interesting property we'd like to point out here.\n",
    "\n",
    "If we subtract the mean of a set of numbers from each of the numbers within that set, the overall total of all of the differences will always add up to zero.\n",
    "\n",
    "That's because the mean is the \"center\" of the data. All of the differences that are negative will always cancel out all of the differences that are positive. Let's look at some examples to verify this.\n",
    "\n",
    "Let's also become familiar with the mathematical symbol for the mean:\n",
    "\n",
    "\n",
    "\n",
    "This symbol means \"the average of all of the values in x.\" The fact that x is lowercase and in bold indicates that it's a vector. The bar over the top indicates \"the average of\".\n",
    "\n",
    "Instructions\n",
    "Find the median of the values list. Assign the result to values_median.\n",
    "Subtract the median from each element in values. Sum up all of the differences, and assign the result to median_difference_sum."
   ]
  },
  {
   "cell_type": "code",
   "execution_count": null,
   "metadata": {
    "collapsed": true
   },
   "outputs": [],
   "source": [
    "# Make a list of values\n",
    "values = [2, 4, 5, -1, 0, 10, 8, 9]\n",
    "# Compute the mean of the values\n",
    "values_mean = sum(values) / len(values)\n",
    "# Find the difference between each of the values and the mean by subtracting the mean from each value.\n",
    "differences = [i - values_mean for i in values]\n",
    "# This equals 0.  If you'd like, try changing the values around to verify that it still equals 0.\n",
    "print(sum(differences))\n",
    "\n",
    "# We can use the median function from numpy to find the median.\n",
    "# The median is the \"middle\" value in a set of values. If we sort the values in order, it's the one in the center (or the average of the two in the center if there are an even number of items in the set).\n",
    "# You'll see that the differences from the median don't always add up to 0.  You might want to play around with this and think about why that is.\n",
    "from numpy import median"
   ]
  },
  {
   "cell_type": "raw",
   "metadata": {},
   "source": [
    "3. Finding Variance\n",
    "\n",
    "Let's look at variance in the data. Variance tells us how concentrated or \"spread out\" the data is around the mean.\n",
    "\n",
    "We looked at kurtosis earlier, which measures the shape of a distribution. Variance directly measures how far the average data point is from the mean.\n",
    "\n",
    "We calculate variance by subtracting every value from the mean, squaring the results, and then averaging them. Mathemically, this looks like this:\n",
    "\n",
    "\n",
    "\n",
    " is variance, and \n",
    " means \"the sum from 1 to n\", where n is the number of elements in a vector.\n",
    "\n",
    "This formula goes through the exact same process we just described, and is the most common way to represent it.\n",
    "\n",
    "Let's complete an exercise to solidify what we've learned.\n",
    "\n",
    "The data set's \"pf\" column contains the total number of personal fouls each player committed during the season. Let's look at its variance.\n",
    "\n",
    "Instructions\n",
    "Compute the variance of the data set's \"pts\" column, which holds the total number of points each player scored.\n",
    "Assign the result to point_variance."
   ]
  },
  {
   "cell_type": "code",
   "execution_count": null,
   "metadata": {
    "collapsed": true
   },
   "outputs": [],
   "source": [
    "import matplotlib.pyplot as plt\n",
    "import pandas as pd\n",
    "# We've already loaded the NBA data into the nba_stats variable.\n",
    "# Find the mean value of the column.\n",
    "pf_mean = nba_stats[\"pf\"].mean()\n",
    "# Initialize variance at zero.\n",
    "variance = 0\n",
    "# Loop through each item in the \"pf\" column.\n",
    "for p in nba_stats[\"pf\"]:\n",
    "    # Calculate the difference between the mean and the value.\n",
    "    difference = p - pf_mean\n",
    "    # Square the difference. This ensures that the result isn't negative.\n",
    "    # If we didn't square the difference, the total variance would be zero.\n",
    "    # ** in python means \"raise whatever comes before this to the power of whatever number is after this.\"\n",
    "    square_difference = difference ** 2\n",
    "    # Add the difference to the total.\n",
    "    variance += square_difference\n",
    "# Average the total to find the final variance.\n",
    "variance = variance / len(nba_stats[\"pf\"])"
   ]
  },
  {
   "cell_type": "raw",
   "metadata": {},
   "source": [
    "4. Understanding the Order of Operations\n",
    "\n",
    "We've been multiplying and dividing values, but we haven't really discussed the order of operations yet.\n",
    "\n",
    "The order of operations defines the sequence in which mathematical operations occur. You may recall learning this in your primary school math classes.\n",
    "\n",
    "Think about the statement 2 * 5 - 1. The result will be different if we do the multiplication first, rather than the subtraction.\n",
    "\n",
    "If we multiply first, we get 10 - 1, which equals 9.\n",
    "\n",
    "If we subtract first, we get 2 * 4, which equals 8.\n",
    "\n",
    "We definitely want the results of these operations to be consistent; we don't want to get 8 one time and 9 the next. A default \"order of operations\" exists for this reason.\n",
    "\n",
    "Exponents occur first. That means if we raise something to a power (x ** y), that operation will execute before anything else. Multiplication (x * y) and division (x / y) occur next. They are equal to each other in priority. Addition (x + y) and subtraction (x - y) will occur last. They are also equal to each other in priority.\n",
    "\n",
    "So raising something to a power will always happen first, then any multiplication/division, and finally any addition/subtraction.\n",
    "\n",
    "Let's practice with these types of statements to get a better feel for the order of operations.\n",
    "\n",
    "Instructions\n",
    "Change the mathematical operations around so that c equals 25 and d equals .5."
   ]
  },
  {
   "cell_type": "code",
   "execution_count": null,
   "metadata": {
    "collapsed": true
   },
   "outputs": [],
   "source": [
    "# You may be wondering why multiplication and division are on the same level.\n",
    "# It doesn't matter whether we do the multiplication or division first; the answer here will always be the same.\n",
    "# In this case, we need to think of division as multiplication by a fraction. Otherwise, we'll be dividing more than we want to.\n",
    "# Create a formula\n",
    "a = 5 * 5 / 2\n",
    "# Multiply by 1/2 instead of dividing by 2. The result is the same (2/2 == 2 * 1/2).\n",
    "a_subbed = 5 * 5 * 1/2\n",
    "a_mul_first = 25 * 1/2\n",
    "a_div_first = 5 * 2.5\n",
    "print(a_mul_first == a_div_first)\n",
    "\n",
    "# The same is true for subtraction and addition.\n",
    "# In this case, we need to convert subtraction into adding a negative number. If we don't we'll end up subtracting more than we expect.\n",
    "b = 10 - 8 + 5\n",
    "# Add -8 instead of subtracting 8.\n",
    "b_subbed = 10 + -8 + 5\n",
    "b_sub_first = 2 + 5\n",
    "b_add_first = 10 + -3\n",
    "print(b_sub_first == b_add_first)\n",
    "\n",
    "c = 10 / 2 + 5\n",
    "d = 3 - 1 / 2 * 2"
   ]
  },
  {
   "cell_type": "raw",
   "metadata": {},
   "source": [
    "5. Using Parentheses to Change the Order of Operations\n",
    "\n",
    "We can use parentheses to override the order of operations and make something happen first.\n",
    "\n",
    "For example, 10 - 2 / 2 will equal 9, because the division occurs before the subtraction.\n",
    "\n",
    "If we write (10 - 2) / 2 instead, the parentheses \"force\" the operation inside to occur first, so we end up with 8/2.\n",
    "\n",
    "Instructions\n",
    "Use parentheses to make b equal 1100.\n",
    "Use parentheses to make c equal 200."
   ]
  },
  {
   "cell_type": "code",
   "execution_count": null,
   "metadata": {
    "collapsed": true
   },
   "outputs": [],
   "source": [
    "a = 50 * 50 - 10 / 5\n",
    "a_paren = 50 * (50 - 10) / 5\n",
    "# If we put multiple operations inside parentheses, the interpreter will use the order of operations to determine the sequence in which it should execute them.\n",
    "a_paren = 50 * (50 - 10 / 5)\n",
    "\n",
    "b = 10 * 10 + 100\n",
    "c = 8 - 6 * 100"
   ]
  },
  {
   "cell_type": "raw",
   "metadata": {},
   "source": [
    "6. Fractional Powers\n",
    "\n",
    "Before we explore variance in greater depth, let's take a quick look at exponents.\n",
    "\n",
    "We wrote difference ** 2 on a previous screen. This code squared the difference between the mean and the value in the pf column. It calculates the equivalent of difference * difference.\n",
    "\n",
    "We could cube the difference by writing difference ** 3. This calculation is equal to difference * difference * difference.\n",
    "\n",
    "The same pattern holds true as we raise to higher powers like 4, 5, and so on.\n",
    "\n",
    "We can also take the roots of numbers using the same syntax.\n",
    "\n",
    "difference ** (1/2) will take the square root. We need to put the fraction in parentheses because raising a value to a power is the operation that would normally occur first.\n",
    "\n",
    "difference ** (1/3) will take the cube root. We can even continue with even smaller fractions.\n",
    "\n",
    "Instructions\n",
    "Raise 11 to the fifth power. Assign the result to e.\n",
    "Take the fourth root of 10000. Assign the result to f."
   ]
  },
  {
   "cell_type": "code",
   "execution_count": null,
   "metadata": {
    "collapsed": true
   },
   "outputs": [],
   "source": [
    "a = 5 ** 2\n",
    "# Raise to the fourth power\n",
    "b = 10 ** 4\n",
    "\n",
    "# Take the square root ( 3 * 3 == 9, so the answer is 3)\n",
    "c = 9 ** (1/2)\n",
    "\n",
    "# Take the cube root (4 * 4 * 4 == 64, so 4 is the cube root)\n",
    "d = 64 ** (1/3)"
   ]
  },
  {
   "cell_type": "raw",
   "metadata": {},
   "source": [
    "7. Calculating Standard Deviation\n",
    "\n",
    "Standard deviation is the most common way to refer to the distance between data points and the mean. It's a very useful concept and a great way to measure the density of a data set.\n",
    "\n",
    "While it may sound complicated, standard deviation is fairly straightforward; it's the square root of the variance.\n",
    "\n",
    "Here's the mathematical formula for standard deviation:\n",
    "\n",
    "\n",
    "Statisticians and data scientists typically measure the percentage of data that falls within one or two standard deviations of the mean.\n",
    "\n",
    "Instructions\n",
    "Write a function that calculates the standard deviation of a given column in the nba_stats data.\n",
    "Use the new function to calculate the standard deviation of the minutes played column (\"mp\"). Assign the results to mp_dev.\n",
    "Use the function to calculate the standard deviation of the assists column (\"ast\"). Assign the results to ast_dev."
   ]
  },
  {
   "cell_type": "code",
   "execution_count": null,
   "metadata": {
    "collapsed": true
   },
   "outputs": [],
   "source": [
    "# We've already loaded the NBA stats into the nba_stats variable."
   ]
  },
  {
   "cell_type": "raw",
   "metadata": {},
   "source": [
    "8. Finding Standard Deviation Distance\n",
    "\n",
    "The standard deviation is very useful because it lets us compare the points in a distribution to the mean.\n",
    "\n",
    "We can say that a certain point is \"two standard deviations away from the mean,\" for example. This gives us a way to compare data density across different charts.\n",
    "\n",
    "Instructions\n",
    "Find how many standard deviations away from the mean point_10 is. Assign the result to point_10_std.\n",
    "Find how many standard deviations away from the mean point_100 is. Assign the result to point_100_std."
   ]
  },
  {
   "cell_type": "code",
   "execution_count": null,
   "metadata": {
    "collapsed": true
   },
   "outputs": [],
   "source": [
    "import matplotlib.pyplot as plt\n",
    "\n",
    "plt.hist(nba_stats[\"pf\"])\n",
    "mean = nba_stats[\"pf\"].mean()\n",
    "plt.axvline(mean, color=\"r\")\n",
    "# We can calculate standard deviation by using the std() method on a pandas series.\n",
    "std_dev = nba_stats[\"pf\"].std()\n",
    "# Plot a line one standard deviation below the mean.\n",
    "plt.axvline(mean - std_dev, color=\"g\")\n",
    "# Plot a line one standard deviation above the mean.\n",
    "plt.axvline(mean + std_dev, color=\"g\")\n",
    "\n",
    "# We can see how many of the data points fall within one standard deviation of the mean.\n",
    "# The more that fall into this range, the more dense the data is.\n",
    "plt.show()\n",
    "\n",
    "# We can calculate how many standard deviations a data point is from the mean by doing some subtraction and division.\n",
    "# First, we find the total distance by subtracting the mean.\n",
    "total_distance = nba_stats[\"pf\"][0] - mean\n",
    "# Then we divide by standard deviation to find how many standard deviations away the point is.\n",
    "standard_deviation_distance = total_distance / std_dev\n",
    "\n",
    "point_10 = nba_stats[\"pf\"][9]\n",
    "point_100 = nba_stats[\"pf\"][99]"
   ]
  },
  {
   "cell_type": "raw",
   "metadata": {},
   "source": [
    "9. Working with the Normal Distribution\n",
    "\n",
    "The normal distribution is a special kind of distribution. You might recognize it more commonly as a bell curve.\n",
    "\n",
    "The normal distribution is found in a variety of natural phenomena. If we made a histogram of the heights of everyone on the planet, for example, it would be more or less a normal distribution.\n",
    "\n",
    "We can generate a normal distribution by using a probability density function.\n",
    "\n",
    "Instructions\n",
    "Make a normal distribution across the range that starts at -10, ends at 10, and has the step .1.\n",
    "The distribution should have a mean of 0 and standard deviation of 2.     "
   ]
  },
  {
   "cell_type": "code",
   "execution_count": null,
   "metadata": {
    "collapsed": true
   },
   "outputs": [],
   "source": [
    "import numpy as np\n",
    "import matplotlib.pyplot as plt\n",
    "# The norm module has a pdf function (pdf stands for probability density function)\n",
    "from scipy.stats import norm\n",
    "\n",
    "# The arange function generates a numpy vector\n",
    "# The vector below will start at -1, and go up to, but not including 1\n",
    "# It will proceed in \"steps\" of .01.  So the first element will be -1, the second -.99, the third -.98, all the way up to .99.\n",
    "points = np.arange(-1, 1, 0.01)\n",
    "\n",
    "# The norm.pdf function will take the points vector and convert it into a probability vector\n",
    "# Each element in the vector will correspond to the normal distribution (earlier elements and later element smaller, peak in the center)\n",
    "# The distribution will be centered on 0, and will have a standard devation of .3\n",
    "probabilities = norm.pdf(points, 0, .3)\n",
    "\n",
    "# Plot the points values on the x-axis and the corresponding probabilities on the y-axis\n",
    "# See the bell curve?\n",
    "plt.plot(points, probabilities)\n",
    "plt.show()"
   ]
  },
  {
   "cell_type": "raw",
   "metadata": {},
   "source": [
    "10. Normal Distribution Deviation\n",
    "\n",
    "One cool thing about normal distributions is that for every single one, the same percentage of the data is within one standard deviation of the mean, the same percentage is within two standard deviations of the mean, and so on.\n",
    "\n",
    "About 68% of the data is within one standard deviation, roughly 95% is within two standard deviations, and about 99% is within three standard deviations.\n",
    "\n",
    "This helps us quickly understand where values fall within the data set, as well as how typical or unusual they are.\n",
    "\n",
    "Note: We'll temporarily deviate from the NBA dataset. We'll use housefly wing length dataset just for this section to better understand normal distributions.\n",
    "\n",
    "Instructions\n",
    "For each point in wing_lengths, calculate the distance from the mean in number of standard deviations.\n",
    "Calculate the proportion of the data that's within one standard deviation of the mean. Assign the result to within_one_percentage.\n",
    "Calculate the proportion of the data that's within two standard deviations of the mean. Assign the result to within_two_percentage.\n",
    "Calculate the proportion of the data that's within three standard deviations of the mean. Assign the result to within_three_percentage."
   ]
  },
  {
   "cell_type": "code",
   "execution_count": null,
   "metadata": {
    "collapsed": true
   },
   "outputs": [],
   "source": [
    "i# Housefly wing lengths in millimeters\n",
    "wing_lengths = [36, 37, 38, 38, 39, 39, 40, 40, 40, 40, 41, 41, 41, 41, 41, 41, 42, 42, 42, 42, 42, 42, 42, 43, 43, 43, 43, 43, 43, 43, 43, 44, 44, 44, 44, 44, 44, 44, 44, 44, 45, 45, 45, 45, 45, 45, 45, 45, 45, 45, 46, 46, 46, 46, 46, 46, 46, 46, 46, 46, 47, 47, 47, 47, 47, 47, 47, 47, 47, 48, 48, 48, 48, 48, 48, 48, 48, 49, 49, 49, 49, 49, 49, 49, 50, 50, 50, 50, 50, 50, 51, 51, 51, 51, 52, 52, 53, 53, 54, 55]"
   ]
  },
  {
   "cell_type": "raw",
   "metadata": {},
   "source": [
    "11. Using Scatterplots to Plot Correlations\n",
    "\n",
    "We've spent a lot of time looking at single variables and how their distributions look. While distributions are interesting on their own, it can also be revealing to look at how two variables correlate with each other.\n",
    "\n",
    "Much of statistics deals with analyzing how variables impact each other, and the first step is to graph them out with a scatterplot.\n",
    "\n",
    "While graphing them out, we can look at correlation. If two variables change together (ie, when one goes up, the other goes up), we know that they are correlated.\n",
    "\n",
    "Instructions\n",
    "Make a scatterplot of the \"fta\" (free throws attempted) column against the \"pts\" column.\n",
    "Make a scatterplot of the \"stl\" (steals) column against the \"pf\" column."
   ]
  },
  {
   "cell_type": "code",
   "execution_count": null,
   "metadata": {
    "collapsed": true
   },
   "outputs": [],
   "source": [
    "import matplotlib.pyplot as plt\n",
    "\n",
    "# Plot field goals attempted (number of shots someone takes in a season) vs. point scored in a season.\n",
    "# Field goals attempted is on the x-axis, and points is on the y-axis.\n",
    "# As you can tell, they are very strongly correlated. The plot is close to a straight line.\n",
    "# The plot also slopes upward, which means that as field goal attempts go up, so do points.\n",
    "# That means that the plot is positively correlated.\n",
    "plt.scatter(nba_stats[\"fga\"], nba_stats[\"pts\"])\n",
    "plt.show()\n",
    "\n",
    "# If we make points negative (so the people who scored the most points now score the least, because 3000 becomes -3000), we can change the direction of the correlation.\n",
    "# Field goals are negatively correlated with our new \"negative\" points column -- the more free throws you attempt, the less negative points you score.\n",
    "# We can see this because the correlation line slopes downward.\n",
    "plt.scatter(nba_stats[\"fga\"], -nba_stats[\"pts\"])\n",
    "plt.show()\n",
    "\n",
    "# Now, we can plot total rebounds (number of times someone got the ball back for their team after someone shot) vs total assists (number of times someone helped another person score).\n",
    "# These are uncorrelated, so you don't see the same nice line as you see with the plot above.\n",
    "plt.scatter(nba_stats[\"trb\"], nba_stats[\"ast\"])\n",
    "plt.show()"
   ]
  },
  {
   "cell_type": "raw",
   "metadata": {},
   "source": [
    "12. Measuring Correlation with Pearson's r\n",
    "\n",
    "Measuring correlation can be a big help when we need to analyze a lot of variables. This spares us from having to eyeball everything.\n",
    "\n",
    "The most common way to measure correlation is to use Pearson's r, which we also call an r-value.\n",
    "\n",
    "We'll explore how the calculations work later. For now, though, we'll focus on the values.\n",
    "\n",
    "An r-value ranges from -1 to 1, and indicates how strongly two variables are correlated.\n",
    "\n",
    "A 1 indicates a perfect positive correlation. This would appear as a straight, upward-sloping line on our plots.\n",
    "\n",
    "A 0 indicates no correlation. We'd see a scatterplot with points that appear random.\n",
    "\n",
    "A -1 indicates a perfect negative correlation. This would appear as a straight, downward-sloping line.\n",
    "\n",
    "Any correlation between -1 and 0 will show up as a scattering of points. The same is true of correlations falling between 0 and 1. The closer the value is to 0, the more random the points will appear. The closer it is to -1 or 1, the more \"line-like\" the points will appear.\n",
    "\n",
    "We can use a function from scipy to calculate Pearson's r.\n",
    "\n",
    "Instructions\n",
    "Find the correlation between the \"fta\" column and the \"pts\" column. Assign the result to r_fta_pts.\n",
    "Find the correlation between the \"stl\" column and the \"pf\" column. Assign the result to r_stl_pf."
   ]
  },
  {
   "cell_type": "code",
   "execution_count": null,
   "metadata": {
    "collapsed": true
   },
   "outputs": [],
   "source": [
    "from scipy.stats.stats import pearsonr\n",
    "\n",
    "# The pearsonr function will find the correlation between two columns of data.\n",
    "# It returns the r value and the p value.  We'll learn more about p values later on.\n",
    "r, p_value = pearsonr(nba_stats[\"fga\"], nba_stats[\"pts\"])\n",
    "# As we can see, this is a very high positive r value - it's close to 1.\n",
    "print(r)\n",
    "\n",
    "# These two columns are much less correlated.\n",
    "r, p_value = pearsonr(nba_stats[\"trb\"], nba_stats[\"ast\"])\n",
    "# We get a much lower, but still positive, r value.\n",
    "print(r)"
   ]
  },
  {
   "cell_type": "raw",
   "metadata": {},
   "source": [
    "13. Calculate Covariance\n",
    "\n",
    "We looked at finding the correlation coefficient with a function. Now, let's take a brief look under the hood to see how we can do it ourselves.\n",
    "\n",
    "Another way to think of correlation is in terms of variance.\n",
    "\n",
    "Two variables are correlated when they both vary individually, but in similar ways. For example, correlation occurs when if one variable goes up, another variable also goes up.\n",
    "\n",
    "This is called covariance. Covariance refers to how different numbers vary jointly.\n",
    "\n",
    "There's a limit to how much two variables can co-vary. This is because each variable has its own variance. These individual variances set a maximum theoretical limit on the covariance between two variables. In other words, a set of variables can't co-vary more from the mean than the two variables individually vary from the mean.\n",
    "\n",
    "Two variables reach the maximum possible covariance when they vary in an identical way (ie, you see a straight line on the plot).\n",
    "\n",
    "The r-value is a ratio between the actual covariance and the maximum possible positive covariance.\n",
    "\n",
    "Let's look at actual covariance first. Mathematically speaking, covariance between two variables looks like this:\n",
    "\n",
    "\n",
    "\n",
    "For each element in the vectors x and y, we:\n",
    "\n",
    "Take the value at each position from 1 to the length of the vectors.\n",
    "Subtract the mean of the vector from those values.\n",
    "Multiply them together at each position, and all of the resulting values together.\n",
    "\n",
    "Instructions\n",
    "Make a function that calculates covariance.\n",
    "Use the function to calculate the covariance of the \"stl\" and \"pf\" columns. Assign the result to cov_stl_pf.\n",
    "Use the function to calculate the covariance of the \"fta\" and \"pts\" columns. Assign the result to cov_fta_pts."
   ]
  },
  {
   "cell_type": "code",
   "execution_count": null,
   "metadata": {
    "collapsed": true
   },
   "outputs": [],
   "source": [
    "# We've already loaded the nba_stats variable."
   ]
  },
  {
   "cell_type": "raw",
   "metadata": {},
   "source": [
    "14. Calculate Correlation With the std() Method\n",
    "\n",
    "Now that we know how to calculate covariance, we can get the correlation coefficient using the following formula:\n",
    "\n",
    "\n",
    "For the denominator, we need to multiply the standard deviations for x and y. This is the maximum possible positive covariance, which is just both of the standard deviation values multiplied. If we divide our actual covariance by this, we get the r-value.\n",
    "\n",
    "We can use the std method on any pandas DataFrame or Series to calculate the standard deviation. The following code returns the standard deviation for the pf column:\n",
    "\n",
    "nba_stats[\"pf\"].std()\n",
    "We can use the cov function from NumPy to compute covariance, returning a 2x2 matrix. The following code returns the covariance between the pf and stl columns:\n",
    "\n",
    "cov(nba_stats[\"pf\"], nba_stats[\"stl\"])[0,1]\n",
    "\n",
    "Instructions\n",
    "Compute the correlation coefficient for the fta and blk columns, and assign the result to r_fta_blk.\n",
    "Compute the correlation coefficient for the ast and stl columns, and assign the result to r_ast_stl."
   ]
  },
  {
   "cell_type": "code",
   "execution_count": null,
   "metadata": {
    "collapsed": true
   },
   "outputs": [],
   "source": [
    "from numpy import cov\n",
    "# We've already loaded the nba_stats variable for you."
   ]
  }
 ],
 "metadata": {
  "kernelspec": {
   "display_name": "Python 2",
   "language": "python",
   "name": "python2"
  },
  "language_info": {
   "codemirror_mode": {
    "name": "ipython",
    "version": 2
   },
   "file_extension": ".py",
   "mimetype": "text/x-python",
   "name": "python",
   "nbconvert_exporter": "python",
   "pygments_lexer": "ipython2",
   "version": "2.7.14"
  }
 },
 "nbformat": 4,
 "nbformat_minor": 2
}
