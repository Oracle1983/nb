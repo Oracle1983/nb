{
 "cells": [
  {
   "cell_type": "markdown",
   "metadata": {},
   "source": [
    "# Step 3 The Command Line - Challenge Working with the Command Line"
   ]
  },
  {
   "cell_type": "raw",
   "metadata": {},
   "source": [
    "1. Introduction\n",
    "\n",
    "Over the past few missions, you learned how to navigate the filesystem, create and modify files, and work with Python on the command line. You discovered it isn't enough just to know how to write code in Python -- we also have to know how to modify and execute Python programs on a computer.\n",
    "\n",
    "In this challenge, you'll pull all of the concepts from the past few missions together to create and run a Python script on the command line. Here's a rough outline of the steps in this exercise:\n",
    "\n",
    "Create a Python script.\n",
    "Create a virtual environment.\n",
    "Change file permissions.\n",
    "Execute a Python script from the command line.\n",
    "\n",
    "Instructions\n",
    "Familiarize yourself with the current folder.\n",
    "Change out of the current directory, then back in.\n",
    "Print the path of the current folder to the standard output."
   ]
  },
  {
   "cell_type": "raw",
   "metadata": {},
   "source": [
    "2. Create a Script\n",
    "\n",
    "Now you'll be able to create a Python script in the current folder.\n",
    "\n",
    "Instructions\n",
    "Create a Python script that takes in a command line argument and prints it out.\n",
    "Use output redirection or a command line editor to create a Python script called script.py in the /home/dq/ folder.\n",
    "Add code to the file that will read the first command line argument we pass in and print it out."
   ]
  },
  {
   "cell_type": "raw",
   "metadata": {},
   "source": [
    "3. Change File Permissions\n",
    "\n",
    "You don't want just anyone to be able to use your script. By editing permissions, you can make it so that you're the only person who can run it.\n",
    "\n",
    "Instructions\n",
    "Edit the file permissions for script.py so that only the current user can access it.\n",
    "Assign read, write, and execute permissions to the current user.\n",
    "Don't assign any permissions to your group, or to other users."
   ]
  },
  {
   "cell_type": "raw",
   "metadata": {},
   "source": [
    "4. Create a Virtual Environment\n",
    "\n",
    "You'll want to isolate the Python environment your script is in by creating a virtual environment. This will allow you to install appropriate Python packages that will work with the script.\n",
    "\n",
    "Instructions\n",
    "Create a Python 3 virtualenv called script.\n",
    "Activate the script virtualenv."
   ]
  },
  {
   "cell_type": "raw",
   "metadata": {},
   "source": [
    "5. Move the Script\n",
    "\n",
    "Moving the script to its own folder will keep your home directory clean. If you end up creating more scripts, it will also help you tell your programs apart more easily.\n",
    "\n",
    "In this case, we can type virtualenv -p /usr/bin/python3 python3 to use Python 3 instead of Python 2.\n",
    "\n",
    "Instructions\n",
    "Create a folder called printer in the current user's home directory (/home/dq/).\n",
    "Move script.py into the printer folder."
   ]
  },
  {
   "cell_type": "raw",
   "metadata": {},
   "source": [
    "6. Execute the Script\n",
    "\n",
    "Now you're ready to execute the Python script.\n",
    "\n",
    "Instructions\n",
    "Change the current directory to the printer directory.\n",
    "Execute script.py, and pass in the string I'm so good at challenges!."
   ]
  }
 ],
 "metadata": {
  "kernelspec": {
   "display_name": "Python 2",
   "language": "python",
   "name": "python2"
  },
  "language_info": {
   "codemirror_mode": {
    "name": "ipython",
    "version": 2
   },
   "file_extension": ".py",
   "mimetype": "text/x-python",
   "name": "python",
   "nbconvert_exporter": "python",
   "pygments_lexer": "ipython2",
   "version": "2.7.14"
  }
 },
 "nbformat": 4,
 "nbformat_minor": 2
}
