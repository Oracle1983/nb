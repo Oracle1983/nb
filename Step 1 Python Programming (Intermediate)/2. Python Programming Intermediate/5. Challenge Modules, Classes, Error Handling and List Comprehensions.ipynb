{
 "cells": [
  {
   "cell_type": "markdown",
   "metadata": {},
   "source": [
    "# Step1 Python Programming (Intermediate) : Challenge"
   ]
  },
  {
   "cell_type": "raw",
   "metadata": {},
   "source": [
    "1. Intro to the Data\n",
    "\n",
    "    In this challenge, you'll practice using modules, classes, and list comprehensions to process and represent a data set in Python. You'll be working with data on NFL player suspensions. The FiveThirtyEight team compiled the data set for a piece on domestic violence. You can download it here.[https://github.com/fivethirtyeight/data/blob/master/nfl-suspensions/nfl-suspensions-data.csv]\n",
    "The data set contains all domestic violence-related suspensions issued before 2014.\n",
    "\n",
    "Here's a preview of what the file, nfl_suspensions_data.csv, looks like:\n",
    "\n",
    "name\tteam\tgames\tcategory\tdesc.\tyear\tsource\n",
    "F. Davis\tWAS\tIndef.\tSubstance abuse, repeated offense\tMarijuana-related\t2014\thttp://www.cbssports.com/nfl/eye-on-football/24448694/redskins-te-fred-davis-suspended-Indefiniteinitely-by-nfl\n",
    "J. Blackmon\tJAX\tIndef.\tSubstance abuse, repeated offense\t\t2014\thttp://espn.go.com/nfl/story/_/id/11257934/justin-blackmon-jacksonville-jaguars-arrested-marijuana-possession\n",
    "L. Brazill\tIND\tIndef.\tSubstance abuse, repeated offense\t\t2014\thttp://www.nfl.com/news/story/0ap2000000364622/article/lavon-brazill-released-by-colts-in-wake-of-suspension\n",
    "Let's read the file into Python and explore the data to become more familiar with it.\n",
    "\n",
    "Instructions\n",
    "Read the dataset into a list of lists.\n",
    "Import the csv module.\n",
    "Create a File handler for nfl_suspensions_data.csv.\n",
    "Use the csv.reader() and list() methods to read the file into a list named nfl_suspensions.\n",
    "Remove the first list in nfl_suspensions, which contains the header row of the CSV file.\n",
    "Select all lists in nfl_suspensions, except the for the one at index 0.\n",
    "Assign the resulting list of lists back to the variable nfl_suspensions.\n",
    "Count the number of times each value in the year column occurs.\n",
    "Create an empty dictionary called years.\n",
    "Use a for loop to iterate over the list in nfl_suspensions representing the year column:\n",
    "Extract that row's value for the year column and assign it to row_year.\n",
    "If row_year is already a key in years, add 1 to the value for that key.\n",
    "If row_year isn't already a key in years, set the value for the key to 1.\n",
    "Use the print() function to display the dictionary years."
   ]
  },
  {
   "cell_type": "code",
   "execution_count": null,
   "metadata": {
    "collapsed": true
   },
   "outputs": [],
   "source": [
    "import csv\n",
    "\n",
    "f = open('nfl_suspensions_data.csv')\n",
    "nfl_suspensions = list(csv.reader(f))\n",
    "nfl_suspensions = nfl_suspensions[1:]\n",
    "\n",
    "years = {}\n",
    "for item in nfl_suspensions:\n",
    "    year = item[5] \n",
    "    if year in years:\n",
    "        years[year] += 1\n",
    "    else:\n",
    "        years[year] = 1\n",
    "        \n",
    "print(years)"
   ]
  },
  {
   "cell_type": "raw",
   "metadata": {},
   "source": [
    "2. Unique Values\n",
    "\n",
    "Let's explore the values in these columns by using sets and list comprehensions.\n",
    "\n",
    "Instructions\n",
    "Retrieve the unique values in the team column and assign the list to unique_teams.\n",
    "Use a list comprehension to create a new list containined just the values in the team column.\n",
    "Use the set() function to return a list containing only the unique values and assign to unique_teams.\n",
    "Retrieve the unique values in the games column and assign the list to unique_games.\n",
    "Use a list comprehension to create a new list containined just the values in the games column.\n",
    "Use the set() function to return a list containing only the unique values and assign to unique_games.\n",
    "Display unique_teams and unique_games."
   ]
  },
  {
   "cell_type": "code",
   "execution_count": null,
   "metadata": {
    "collapsed": true
   },
   "outputs": [],
   "source": [
    "teams = [item[1] for item in nfl_suspensions]\n",
    "unique_teams = set(teams)\n",
    "\n",
    "games = [item[2] for item in nfl_suspensions]\n",
    "unique_games = set(games)\n",
    "\n",
    "print(unique_teams)\n",
    "print(unique_games)"
   ]
  },
  {
   "cell_type": "raw",
   "metadata": {},
   "source": [
    "3. Suspension Class\n",
    "\n",
    "Next, let's create a Suspension class that we can use to represent each NFL suspension in the data set.\n",
    "\n",
    "Instructions\n",
    "Create the Suspension class.\n",
    "Define the __init__() method with the following criteria:\n",
    "The sole required parameter is a list representing a row from the dataset.\n",
    "To create a Suspension instance, we want to be able to pass in a list from nfl_suspensions.\n",
    "Currently, we're only interested in storing the name, team, games and year columns. Upon instantiation:\n",
    "Set the name value for that row to the name property.\n",
    "Set the team value for that row to the team property.\n",
    "Set the games value for that row to the games property.\n",
    "Set the year value for that row to the year property.\n",
    "Create a Suspension instance using the third row in nfl_suspensions, and assign it to the variable third_suspension."
   ]
  },
  {
   "cell_type": "code",
   "execution_count": null,
   "metadata": {
    "collapsed": true
   },
   "outputs": [],
   "source": [
    "class Suspension:\n",
    "    def __init__(self,data):\n",
    "        self.name = data[2][0]\n",
    "        self.team = data[2][1]\n",
    "        self.games = data[2][2]\n",
    "        self.year = data[2][5]\n",
    "        \n",
    "third_suspension = Suspension(nfl_suspensions)"
   ]
  },
  {
   "cell_type": "raw",
   "metadata": {},
   "source": [
    "4. Tweaking the Suspension Class\n",
    "\n",
    "Let's tweak the Suspension class a bit to extend its functionality. Right now, the value for year is a string, rather than an integer. Let's modify the Suspension class so that it stores the values as integers.\n",
    "\n",
    "Instructions\n",
    "Instead of assigning the value at index 5 to the year property directly, use a try except block that:\n",
    "Tries to cast the value at index 5 to an integer\n",
    "If an exception is thrown, assign the value 0 to the year property instead\n",
    "Create a method called get_year() that returns the year value for that Suspension instance.\n",
    "Create a Suspension instance using the 23rd row, and assign it to missing_year.\n",
    "Use the get_year() method to assign the year of the missing_year suspension instance to twenty_third_year."
   ]
  },
  {
   "cell_type": "code",
   "execution_count": null,
   "metadata": {
    "collapsed": true
   },
   "outputs": [],
   "source": [
    "class Suspension():\n",
    "    def __init__(self,row):\n",
    "        self.name = row[0]\n",
    "        self.team = row[1]\n",
    "        self.games = row[2]\n",
    "        try:\n",
    "            self.year = int(row[5])\n",
    "        except Exception:\n",
    "            self.year = 0  \n",
    "\n",
    "    def get_year(self):      \n",
    "        return (self.year)\n",
    "    \n",
    "missing_year = Suspension(nfl_suspensions[22])\n",
    "twenty_third_year = missing_year.get_year()"
   ]
  }
 ],
 "metadata": {
  "kernelspec": {
   "display_name": "Python 2",
   "language": "python",
   "name": "python2"
  },
  "language_info": {
   "codemirror_mode": {
    "name": "ipython",
    "version": 2
   },
   "file_extension": ".py",
   "mimetype": "text/x-python",
   "name": "python",
   "nbconvert_exporter": "python",
   "pygments_lexer": "ipython2",
   "version": "2.7.14"
  }
 },
 "nbformat": 4,
 "nbformat_minor": 2
}
