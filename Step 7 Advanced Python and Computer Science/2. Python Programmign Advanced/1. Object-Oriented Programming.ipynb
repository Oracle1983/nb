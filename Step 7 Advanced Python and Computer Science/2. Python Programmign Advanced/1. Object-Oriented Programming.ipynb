{
 "cells": [
  {
   "cell_type": "markdown",
   "metadata": {},
   "source": [
    "# Step 7 Advanced Python and Computer Science - Object-Oriented Programming"
   ]
  },
  {
   "cell_type": "raw",
   "metadata": {},
   "source": [
    "1. Solving Problems with Code\n",
    "\n",
    "We've worked with variables, loops, lists, and other basic building blocks of programming. We know how to use them, but we need to begin identifying when they're appropriate.\n",
    "\n",
    "Computer programming is an engineering discipline. A successful engineer must be able to think through complex problems and choose an optimal solution. This involves careful planning, some trial and error, and above all else, experience. It's important to practice programming so you can build an intuition for the tools and approaches that fit a situation best."
   ]
  },
  {
   "cell_type": "raw",
   "metadata": {},
   "source": [
    "2. Defining Custom Classes\n",
    "\n",
    "Let's take a look at how to use custom classes. We'll use them to explore data on NBA players from the 2013-2014 season. The statistics are in a CSV file with a header and some rows of data. It looks like this:\n",
    "\n",
    "player\tpos\tage\tteam\n",
    "Quincy Acy\tSF\t23\tTOT\n",
    "Steven Adams\tC\t20\tOklahoma City Thunder\n",
    "Jeff Adrien\tPF\t27\tTOT\n",
    "Arron Afflalo\tSG\t28\tOrlando Magic\n",
    "We need an easy way to represent both the players and the teams. Let's focus on how we can use custom classes to compare the average ages of the players on each team.\n",
    "\n",
    "You can see in the starter code that we've defined a Player class and set up the default __init__ method to accept a data row as an argument. We made a deliberate choice to split up the logic of players and teams so our code is easy to read and maintain. We also made the convenient choice to initialize our Player instances using a data row. That's because all of the information is present in a row, and it will make it easier to create Player objects from the data set later on.\n",
    "\n",
    "Instructions\n",
    "Create a Team class, initialize it with a team name, and store that team name in the instance property team_name.\n",
    "Create an instance of the Team class with the team name \"San Antonio Spurs\", and assign it to spurs."
   ]
  },
  {
   "cell_type": "code",
   "execution_count": null,
   "metadata": {
    "collapsed": true
   },
   "outputs": [],
   "source": [
    "print(header)\n",
    "\n",
    "class Player():\n",
    "    # The special __init__ function runs whenever a class is instantiated\n",
    "    # The init function can take arguments, but self is always the first one\n",
    "    # Self is just a reference to the instance of the class\n",
    "    # It is automatically passed in when you instantiate an instance of the class\n",
    "    def __init__(self, data_row):\n",
    "        self.player_name = data_row[0]\n",
    "        self.position = data_row[1]\n",
    "        self.age = data_row[2]\n",
    "        self.team = data_row[3]\n",
    "\n",
    "# Initialize a player using the first row of our data set\n",
    "first_player = Player(nba[0])\n",
    "\n",
    "# Implement the Team class"
   ]
  },
  {
   "cell_type": "raw",
   "metadata": {},
   "source": [
    "3. More Interesting Instance Properties\n",
    "\n",
    "Now that we have a Team class with a team name, we can also store a team roster within each Team instance.\n",
    "\n",
    "We'll represent a roster as a list of Player instances. We can write code inside the __init__ method to run some initialization logic.\n",
    "\n",
    "We've loaded our data set of NBA players into the nba variable.\n",
    "\n",
    "Instructions\n",
    "Modify the __init__ method of the Team class to loop through our data set and add a player to the roster every time the row's team name matches the instance's team_name.\n",
    "You can add an item to a list using .append(item).\n",
    "Store the \"San Antonio Spurs\" team in spurs."
   ]
  },
  {
   "cell_type": "code",
   "execution_count": null,
   "metadata": {
    "collapsed": true
   },
   "outputs": [],
   "source": [
    "class Player():\n",
    "    # The special __init__ function runs whenever a class is instantiated\n",
    "    # The init function can take arguments, but self is always the first one\n",
    "    # Self is just a reference to the instance of the class\n",
    "    # It is automatically passed in when you instantiate an instance of the class\n",
    "    def __init__(self, data_row):\n",
    "        self.player_name = data_row[0]\n",
    "        self.position = data_row[1]\n",
    "        self.age = int(data_row[2])\n",
    "        self.team = data_row[3]\n",
    "\n",
    "# Initialize a player using the first row of our data set\n",
    "first_player = Player(nba[0])\n",
    "\n",
    "class Team():\n",
    "    def __init__(self, team_name):\n",
    "        self.team_name = team_name\n",
    "        # Team roster initially empty\n",
    "        self.roster = []\n",
    "        # Find the players for the roster in the data set"
   ]
  },
  {
   "cell_type": "raw",
   "metadata": {},
   "source": [
    "4. Instance Methods\n",
    "\n",
    "The Player and Team classes we've defined serve as blueprints that we can use to create instances of these classes. Classes and the instances of those classes, which are collectively known as objects, are fundamental to object-oriented programming.\n",
    "\n",
    "We can define some of our own methods on a class. For example, if we want to compute the average age of the players on a team, we would write a method for the Team class that does this. However, because this number can be different for each team, we want to make sure the method acts individually on specific instances of the Team class. We call these methods instance methods.\n",
    "\n",
    "For method declarations, the first argument to the method is always self, even though we don't explicitly pass in self when we call the method. self is a reference to the current object we're working with. It's useful when we want to access properties of that object within the method we're defining.\n",
    "\n",
    "Instructions\n",
    "Write an average_age() method for the Team class that computes the average age of the Team instance.\n",
    "We've provided a method, num_players, that returns the total number of players on a Team instance.\n",
    "Store the result of calling average_age() on the \"San Antonio Spurs\" team in spurs_avg_age."
   ]
  },
  {
   "cell_type": "code",
   "execution_count": null,
   "metadata": {
    "collapsed": true
   },
   "outputs": [],
   "source": [
    "class Player():\n",
    "    # The special __init__ function runs whenever a class is instantiated\n",
    "    # The init function can take arguments, but self is always the first one\n",
    "    # Self is just a reference to the instance of the class \n",
    "    # It's automatically passed in when you instantiate an instance of the class\n",
    "    def __init__(self, data_row):\n",
    "        self.player_name = data_row[0]\n",
    "        self.position = data_row[1]\n",
    "        self.age = int(data_row[2])\n",
    "        self.team = data_row[3]\n",
    "\n",
    "class Team():\n",
    "    def __init__(self, team_name):\n",
    "        self.team_name = team_name\n",
    "        # Team roster initially empty\n",
    "        self.roster = []\n",
    "        # Find the players for the roster in the data set\n",
    "        for row in nba:\n",
    "            if row[3] == self.team_name:\n",
    "                self.roster.append(Player(row))\n",
    "    def num_players(self):\n",
    "        count = 0\n",
    "        for player in self.roster:\n",
    "            count += 1\n",
    "        return count\n",
    "    # Implement the average_age() instance method\n",
    "    \n",
    "    \n",
    "spurs = Team(\"San Antonio Spurs\")\n",
    "spurs_num_players = spurs.num_players()"
   ]
  },
  {
   "cell_type": "raw",
   "metadata": {},
   "source": [
    "5. Class Methods\n",
    "\n",
    "In traditional object-oriented programming, everything (yes, everything) is an object. Integers are objects, and so are Booleans. While Python isn't quite this object-oriented, objects are nonetheless abundant in the Python language. For example, the math.floor function is really just a class method for the math class. Class methods act on an entire class, rather than a particular instance of one. We often use them as utility functions.\n",
    "\n",
    "Notice in the starter code that we've rewritten our average_age() method to use the math class, along with a list comprehension. This is somewhat advanced Python code, but you've seen all of it before. The math.fsum method acts on the math class, takes an iterable (i.e., a list or list-like) argument, and sums the values in the list to produce a result.\n",
    "\n",
    "Notice also that we've begun writing a class method for you. The @classmethod line that appears above it tells the Python interpreter that the method is a class method. You'll need to follow this pattern whenever you declare class methods.\n",
    "\n",
    "Instructions\n",
    "Modify the older_team method to return the team with the greatest average age.\n",
    "Store the result of calling older_team on the \"New York Knicks\" team and the \"Miami Heat\" team in old_team.\n",
    "Read through all of the code we've written so far for our Team class. It's full of advanced Python concepts that will be very useful to you."
   ]
  },
  {
   "cell_type": "code",
   "execution_count": null,
   "metadata": {
    "collapsed": true
   },
   "outputs": [],
   "source": [
    "import math\n",
    "\n",
    "class Player():\n",
    "    # The special __init__ function runs whenever a class is instantiated\n",
    "    # The init function can take arguments, but self is always the first one\n",
    "    # Self is just a reference to the instance of the class\n",
    "    # It's automatically passed in when you instantiate an instance of the class\n",
    "    def __init__(self, data_row):\n",
    "        self.player_name = data_row[0]\n",
    "        self.position = data_row[1]\n",
    "        self.age = int(data_row[2])\n",
    "        self.team = data_row[3]\n",
    "\n",
    "class Team():\n",
    "    def __init__(self, team_name):\n",
    "        self.team_name = team_name\n",
    "        self.roster = []\n",
    "        for row in nba:\n",
    "            if row[3] == self.team_name:\n",
    "                self.roster.append(Player(row))\n",
    "    \n",
    "    def num_players(self):\n",
    "        count = 0\n",
    "        for player in self.roster:\n",
    "            count += 1\n",
    "        return count\n",
    "   \n",
    "    def average_age(self):\n",
    "        return math.fsum([player.age for player in self.roster]) / self.num_players()\n",
    "    \n",
    "    @classmethod\n",
    "    def older_team(self, team1, team2):\n",
    "        return \"Not yet implemented\""
   ]
  },
  {
   "cell_type": "raw",
   "metadata": {},
   "source": [
    "6. Understanding Inheritance\n",
    "\n",
    "In object-oriented programming, the concept of inheritance enables us to organize classes in a tree-like hierarchy, where the parent class has some traits that it passes on to its descendants. When we define a class, we specify a parent class from which it inherits. Inheriting from a class means that the behavior of the parent also exists in the child, but that the child can still define its own additional behavior.\n",
    "\n",
    "Consider a Player class with generic information about NBA players. This would be very useful because players have a lot of things in common. However, we may also want to add specific behavior for different positions. We can define classes like Center, Forward, or Point Guard, each with behavior that's specific to that position. These classes would each specify Player as its parent class. They would all be siblings -- each would inherit the same behaviors from the Player class, while also having special behaviors of their own.\n",
    "\n",
    "In Python 3, every class is a subclass of a generic object class. While this happens automatically when we don't specify an ancestor, it's sometimes good practice to be explicit. For the remainder of this mission, we'll specify when a class has object as its parent while we code. This is a good programming practice -- if we get into the habit of specifying a class's ancestry, we won't forget to specify a parent when it's something other than object. It's simply a way to form good habits."
   ]
  },
  {
   "cell_type": "raw",
   "metadata": {},
   "source": [
    "7. Overloading Inherited Behavior\n",
    "\n",
    "When a class inherits from a parent class, it acquires all of the behavior of that parent class. There are times when we don't want all of that behavior, though, or want to modify it slightly for our custom class. We use a technique called overloading to accomplish this.\n",
    "\n",
    "Overloading inherited behavior involves assigning new behavior to our custom class. To accomplish this, we just redefine the method on our new class.\n",
    "\n",
    "We'll be altering our Player class to support comparisons that use these operators:\n",
    "\n",
    ">\n",
    "<\n",
    "==\n",
    "!=\n",
    ">=\n",
    "<=\n",
    "These methods already exist in the object class by default, and we've used these operators to compare integers, floating point numbers (decimals), and strings. The operators work because classes like string have implemented them specifically. It's a bit difficult to understand why the object class would need to have these methods, however. The best way to wrap your head around this is through an example.\n",
    "\n",
    "Let's consider the addition operator (+). The object class already defines a method for addition. The sum() function is defined using this addition method, but the object class doesn't really know how to add integers or floating points specifically.\n",
    "\n",
    "However, the integer and float classes define their own addition method (thus overloading the object's addition method), and the sum() function will add the values together properly. This architecture is very powerful, because even though sum() only had to be defined once, we can call it on a multitude of classes and it will result in proper behavior. This is an example of the power of inheritance and overloading.\n",
    "\n",
    "Instructions\n",
    "Read the implementation of the __lt__ (less than, or <) method of our Player class. In this exercise, we'll use comparisons to compare players by age.\n",
    "Implement __gt__ (greater than, or >), __le__ (<=), __ge__ (>=), __eq__ (==), and __ne__ (!=).\n",
    "Store the result of evaluating carmelo != kobe in result."
   ]
  },
  {
   "cell_type": "code",
   "execution_count": null,
   "metadata": {
    "collapsed": true
   },
   "outputs": [],
   "source": [
    "class Player(object):\n",
    "    # The special __init__ function runs whenever a class is instantiated\n",
    "    # The init function can take arguments, but self is always the first one\n",
    "    # Self is just a reference to the instance of the class\n",
    "    # It is automatically passed in when you instantiate an instance of the class\n",
    "    def __init__(self, data_row):\n",
    "        self.player_name = data_row[0]\n",
    "        self.position = data_row[1]\n",
    "        self.age = int(data_row[2])\n",
    "        self.team = data_row[3]\n",
    "    def __lt__(self, other):\n",
    "        return self.age < other.age\n",
    "    # Implement the rest of the comparison operators here\n",
    "    \n",
    "\n",
    "carmelo = Player(nba[17])\n",
    "kobe = Player(nba[68])"
   ]
  },
  {
   "cell_type": "raw",
   "metadata": {},
   "source": [
    "8. Comparing Average Ages\n",
    "\n",
    "We've seen that we can overload operators for custom classes. On the last screen, we were able to compare NBA players by age using several comparison operators (>, <, ==, etc). The ability to overload behavior is extremely powerful because many built-in Python functions use these simple operators. If we implement them on a custom class, we can use functions like min and max on instances of our Player class. min takes a list of values and returns the minimum value. max takes a list of values and returns the maximum value.\n",
    "\n",
    "Our original goal was to compare NBA teams based on average ages. We saw how we could overload methods in our Player class, and now it's time to do the same for our Team class.\n",
    "\n",
    "Instructions\n",
    "Overload the same six methods we wrote for the Player class on the Team class, this time comparing average ages for teams.\n",
    "The methods are __lt__ (<), __gt__ (>), __le__ (<=), __ge__ (>=), __eq__ (==), and __ne__ (!=).\n",
    "Each should take a self parameter and an other parameter.\n",
    "self and other are two instances of the Team class, whose average ages we want to compare.\n",
    "Compare the \"Utah Jazz\" and \"Detroit Pistons\". Store the older team in older_team.\n",
    "Now that we've implemented comparison operators, we can take advantage of the max function to get our maximum value."
   ]
  },
  {
   "cell_type": "code",
   "execution_count": null,
   "metadata": {
    "collapsed": true
   },
   "outputs": [],
   "source": [
    "import math\n",
    "\n",
    "class Team(object):\n",
    "    def __init__(self, team_name):\n",
    "        self.team_name = team_name\n",
    "        self.roster = []\n",
    "        for row in nba:\n",
    "            if row[3] == self.team_name:\n",
    "                self.roster.append(Player(row))\n",
    "    def num_players(self):\n",
    "        count = 0\n",
    "        for player in self.roster:\n",
    "            count += 1\n",
    "        return count\n",
    "    def average_age(self):\n",
    "        return math.fsum([player.age for player in self.roster]) / self.num_players()\n",
    "    # Define operators here"
   ]
  },
  {
   "cell_type": "raw",
   "metadata": {},
   "source": [
    "9. Oldest NBA Team\n",
    "\n",
    "A lot of interesting information is readily available to us now that we've implemented the comparison operations. That's because Python uses these comparisons to implement many utility functions. Now we're able to use those functions to analyze data in a new setting. By overloading methods, we've given ourselves access to powerful functions without having to implement tedious logic.\n",
    "\n",
    "Instructions\n",
    "Alter the list comprehension we've indicated below so that the teams variable contains a list of all the teams in team_names.\n",
    "Use max to store the oldest team in oldest_team.\n",
    "Use min to store the youngest team in youngest_team.\n",
    "Use sorted to store a list of teams (ordered from youngest to oldest) in sorted_teams.            "
   ]
  },
  {
   "cell_type": "code",
   "execution_count": null,
   "metadata": {
    "collapsed": true
   },
   "outputs": [],
   "source": [
    "import math\n",
    "\n",
    "class Team(object):\n",
    "    def __init__(self, team_name):\n",
    "        self.team_name = team_name\n",
    "        self.roster = []\n",
    "        for row in nba:\n",
    "            if row[3] == self.team_name:\n",
    "                self.roster.append(Player(row))\n",
    "    def num_players(self):\n",
    "        count = 0\n",
    "        for player in self.roster:\n",
    "            count += 1\n",
    "        return count\n",
    "    def average_age(self):\n",
    "        return math.fsum([player.age for player in self.roster]) / self.num_players()\n",
    "    def __lt__(self, other):\n",
    "        return self.average_age() < other.average_age()\n",
    "    def __gt__(self, other):\n",
    "        return self.average_age() > other.average_age()\n",
    "    def __le__(self, other):\n",
    "        return self.average_age() <= other.average_age()\n",
    "    def __ge__(self, other):\n",
    "        return self.average_age() >= other.average_age()\n",
    "    def __eq__(self, other):\n",
    "        return self.average_age() == other.average_age()\n",
    "    def __ne__(self, other):\n",
    "        return self.average_age() != other.average_age()\n",
    "\n",
    "team_names = [\"Boston Celtics\", \"Brooklyn Nets\", \"New York Knicks\", \"Philadelphia 76ers\", \"Toronto Raptors\", \n",
    "         \"Chicago Bulls\", \"Cleveland Cavaliers\", \"Detroit Pistons\", \"Indiana Pacers\", \"Milwaukee Bucks\",\n",
    "         \"Atlanta Hawks\", \"Charlotte Hornets\", \"Miami Heat\", \"Orlando Magic\", \"Washington Wizards\",\n",
    "         \"Dallas Mavericks\", \"Houston Rockets\", \"Memphis Grizzlies\", \"New Orleans Pelicans\", \"San Antonio Spurs\",\n",
    "         \"Denver Nuggets\", \"Minnesota Timberwolves\", \"Oklahoma City Thunder\", \"Portland Trail Blazers\", \"Utah Jazz\",\n",
    "         \"Golden State Warriors\", \"Los Angeles Clippers\", \"Los Angeles Lakers\", \"Phoenix Suns\", \"Sacramento Kings\"]\n",
    "\n",
    "# Alter this list comprehension\n",
    "teams = list([\"Change this expression\" for name in team_names])"
   ]
  },
  {
   "cell_type": "raw",
   "metadata": {},
   "source": [
    "10. Conclusion\n",
    "\n",
    "To solve our problem, we chose an implementation that cleanly separated the idea of a Player vs. a Team. By doing so, we wrote organized and sensible code that wasn't too difficult to keep track of.\n",
    "\n",
    "By implementing comparison operators, we were able to identify the oldest and youngest teams in a very efficient manner. We could even rank NBA teams by age with a single line of code. This is the power of object-oriented programming, and it highlights the importance of choosing our implementation wisely."
   ]
  }
 ],
 "metadata": {
  "kernelspec": {
   "display_name": "Python 2",
   "language": "python",
   "name": "python2"
  },
  "language_info": {
   "codemirror_mode": {
    "name": "ipython",
    "version": 2
   },
   "file_extension": ".py",
   "mimetype": "text/x-python",
   "name": "python",
   "nbconvert_exporter": "python",
   "pygments_lexer": "ipython2",
   "version": "2.7.14"
  }
 },
 "nbformat": 4,
 "nbformat_minor": 2
}
