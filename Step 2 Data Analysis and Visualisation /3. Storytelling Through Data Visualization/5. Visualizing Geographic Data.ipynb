{
 "cells": [
  {
   "cell_type": "markdown",
   "metadata": {},
   "source": [
    "# Step 2 Data Analysis and Visualisation - Visualizing Geographic Data"
   ]
  },
  {
   "cell_type": "raw",
   "metadata": {},
   "source": [
    "1. Geographic Data\n",
    "\n",
    "From scientific fields like meteorology and climatology, through to the software on our smartphones like Google Maps and Facebook check-ins, geographic data is always present in our everyday lives. Raw geographic data like latitudes and longitudes are difficult to understand using the data charts and plots we've discussed so far. To explore this kind of data, you'll need to learn how to visualize the data on maps.\n",
    "\n",
    "In this mission, we'll explore the fundamentals of geographic coordinate systems and how to work with the basemap library to plot geographic data points on maps. We'll be working with flight data from the openflights website [https://openflights.org/data.html]. Here's a breakdown of the files we'll be working with and the most pertinent columns from each dataset:\n",
    "\n",
    "airlines.csv - data on each airline.\n",
    "\n",
    "country - where the airline is headquartered.\n",
    "active - if the airline is still active.\n",
    "airports.csv - data on each airport.\n",
    "\n",
    "name - name of the airport.\n",
    "city - city the airport is located.\n",
    "country - country the airport is located.\n",
    "code - unique airport code.\n",
    "latitude - latitude value.\n",
    "longitude - longitude value.\n",
    "routes.csv - data on each flight route.\n",
    "\n",
    "airline - airline for the route.\n",
    "source - starting city for the route.\n",
    "dest - destination city for the route.\n",
    "We can explore a range of interesting questions and ideas using these datasets:\n",
    "\n",
    "For each airport, which destination airport is the most common?\n",
    "Which cities are the most important hubs for airports and airlines?\n",
    "Before diving into coordinate systems, explore the datasets in the code cell below.\n",
    "\n",
    "Instructions\n",
    "Read in the 3 CSV files into 3 separate dataframe objects - airlines, airports, and routes.\n",
    "Use the DataFrame.iloc[] method to return the first row in each dataframe as a neat table.\n",
    "Display the first rows for all dataframes using the print() function. Try to answer the following questions:\n",
    "What's the best way to link the data from these 3 different datasets together?\n",
    "What are the formats of the latitude and longitude values?"
   ]
  },
  {
   "cell_type": "code",
   "execution_count": null,
   "metadata": {
    "collapsed": true
   },
   "outputs": [],
   "source": [
    "import pandas as pd\n",
    "\n",
    "airlines = pd.read_csv('airlines.csv')\n",
    "airports = pd.read_csv('airports.csv')\n",
    "routes = pd.read_csv('routes.csv')\n",
    "\n",
    "datalist = [airlines, airports, routes]\n",
    "\n",
    "for df in datalist:\n",
    "    print(df.iloc[0])"
   ]
  },
  {
   "cell_type": "raw",
   "metadata": {},
   "source": [
    "2. Geographic Coordinate Systems\n",
    "\n",
    "A geographic coordinate system allows us to locate any point on Earth using latitude and longitude coordinates.\n",
    "\n",
    "Latitude And Longitude On The Globe\n",
    "https://s3.amazonaws.com/dq-content/latitude_longitude.png\n",
    "\n",
    "Here are the coordinates of 2 well known points of interest:\n",
    "\n",
    "Name\tCity\tState\tLatitude\tLongitude\n",
    "White House\tWashington\tDC\t38.898166\t-77.036441\n",
    "Alcatraz Island\tSan Francisco\tCA\t37.827122\t-122.422934\n",
    "In most cases, we want to visualize latitude and longitude points on two-dimensional maps. Two-dimensional maps are faster to render, easier to view on a computer and distribute, and are more familiar to the experience of popular mapping software like Google Maps. Latitude and longitude values describe points on a sphere, which is three-dimensional. To plot the values on a two-dimensional plane, we need to convert the coordinates to the Cartesian coordinate system using a map projection.\n",
    "\n",
    "A map projection transforms points on a sphere to a two-dimensional plane. When projecting down to the two-dimensional plane, some properties are distorted. Each map projection makes trade-offs in what properties to preserve and you can read about the different trade-offs here. We'll use the Mercator projection, because it is commonly used by popular mapping software.\n",
    "\n",
    "Instructions\n",
    "Generate a line chart that visualizes the historical percentage of Biology degrees awarded to women:\n",
    "Set the x-axis to the Year column from women_degrees.\n",
    "Set the y-axis to the Biology column from women_degrees.\n",
    "Display the plot."
   ]
  },
  {
   "cell_type": "raw",
   "metadata": {},
   "source": [
    "3. Installing Basecamp\n",
    "\n",
    "Before we convert our flight data to Cartesian coordinates and plot it, let's learn more about the basemap toolkit [https://matplotlib.org/basemap/]. Basemap is an extension to Matplotlib that makes it easier to work with geographic data. The documentation [https://matplotlib.org/basemap/users/intro.html] for basemap provides a good high-level overview of what the library does:\n",
    "\n",
    "The matplotlib basemap toolkit is a library for plotting 2D data on maps in Python. Basemap does not do any plotting on it’s own, but provides the facilities to transform coordinates to one of 25 different map projections.\n",
    "Basemap makes it easy to convert from the spherical coordinate system (latitudes & longitudes) to the Mercator projection. While basemap uses Matplotlib to actually draw and control the map, the library provides many methods that enable us to work with maps quickly. Before we dive into how basemap works, let's get familiar with how to install it.\n",
    "\n",
    "The easiest way to install basemap is through Anaconda. If you're new to Anaconda, we recommend checking out our Python and Pandas installation project:\n",
    "\n",
    "conda install basemap\n",
    "The Basemap library has some external dependencies that Anaconda handles the installation for. To test the installation, run the following import code:\n",
    "\n",
    "from mpl_toolkits.basemap import Basemap\n",
    "If an error is returned, we recommend searching for similar errors on StackOverflow to help debug the issue. Because basemap uses matplotlib, you'll want to import matplotlib.pyplot into your environment when you use Basemap."
   ]
  },
  {
   "cell_type": "raw",
   "metadata": {},
   "source": [
    "4. Workflow With Basecamp\n",
    "\n",
    "Here's what the general workflow will look like when working with two-dimensional maps:\n",
    "\n",
    "Create a new basemap instance with the specific map projection we want to use and how much of the map we want included.\n",
    "Convert spherical coordinates to Cartesian coordinates using the basemap instance.\n",
    "Use the matplotlib and basemap methods to customize the map.\n",
    "Display the map.\n",
    "Let's focus on the first step and create a new basemap instance. To create a new instance of the basemap class, we call the basemap constructor [https://matplotlib.org/basemap/api/basemap_api.html#mpl_toolkits.basemap.Basemap] and pass in values for the required parameters:\n",
    "\n",
    "projection: the map projection.\n",
    "llcrnrlat: latitude of lower left hand corner of the desired map domain\n",
    "urcrnrlat: latitude of upper right hand corner of the desired map domain\n",
    "llcrnrlon: longitude of lower left hand corner of the desired map domain\n",
    "urcrnrlon: longitude of upper right hand corner of the desired map domain\n",
    "\n",
    "Instructions\n",
    "Create a new basemap instance with the following parameters:\n",
    "projection: \"merc\"\n",
    "llcrnrlat: -80 degrees\n",
    "urcrnrlat: 80 degrees\n",
    "llcrnrlon: -180 degrees\n",
    "urcrnrlon: 180 degrees\n",
    "Assign the instance to the new variable m."
   ]
  },
  {
   "cell_type": "code",
   "execution_count": null,
   "metadata": {
    "collapsed": true
   },
   "outputs": [],
   "source": [
    "import matplotlib.pyplot as plt\n",
    "from mpl_toolkits.basemap import Basemap\n",
    "\n",
    "m = Basemap(projection='merc',llcrnrlat=-80, urcrnrlat=80, llcrnrlon=-180, urcrnrlon=180)"
   ]
  },
  {
   "cell_type": "raw",
   "metadata": {},
   "source": [
    "5. Converting From Spherical to Cartesian Coordinates\n",
    "\n",
    "As we mentioned before, we need to convert latitude and longitude values to Cartesian coordinates to display them on a two-dimensional map. We can pass in a list of latitude and longitude values into the basemap instance and it will return back converted lists of longitude and latitude values using the projection we specified earlier. The constructor only accepts list values, so we'll need to use Series.tolist() [http://pandas.pydata.org/pandas-docs/stable/generated/pandas.Series.tolist.html] to convert the longitude and latitude columns from the airports dataframe to lists. Then, we pass them to the basemap instance with the longitude values first then the latitude values:\n",
    "\n",
    "x, y = m(longitudes, latitudes)\n",
    "The basemap object will return 2 list objects, which we assign to x and y. Finally, we display the first 5 elements of the original longitude values, original latitude values, the converted longitude values, and the converted latitude values.\n",
    "\n",
    "Instructions\n",
    "Generate 2 line chart in the same plotting area:\n",
    "One that visualizes the percentages of Biology degrees awarded to women over time. Set the line color to \"blue\" and the label to \"Women\".\n",
    "One that visualizes the percentages of Biology degrees awarded to men over time. Set the line color to \"green\" and the label to \"Men\".\n",
    "Remove all of the tick marks.\n",
    "Set the title of the plot to \"Percentage of Biology Degrees Awarded By Gender\".\n",
    "Generate a legend and place it in the \"upper right\" location.\n",
    "Display the chart."
   ]
  },
  {
   "cell_type": "code",
   "execution_count": null,
   "metadata": {
    "collapsed": true
   },
   "outputs": [],
   "source": [
    "m = Basemap(projection='merc', llcrnrlat=-80, urcrnrlat=80, llcrnrlon=-180, urcrnrlon=180)\n",
    "\n",
    "longitudes = airports['longitude'].tolist()\n",
    "latitudes = airports['latitude'].tolist()\n",
    "\n",
    "x, y = m(longitudes, latitudes)"
   ]
  },
  {
   "cell_type": "raw",
   "metadata": {},
   "source": [
    "6. Generating A Scatter Plot\n",
    "\n",
    "Now that the data is in the right format, we can plot the coordinates on a map. A scatter plot is the simplest way to plot points on a map, where each point is represented as an (x, y) coordinate pair. To create a scatter plot from a list of x and y coordinates, we use the basemap.scatter() [https://matplotlib.org/basemap/api/basemap_api.html#mpl_toolkits.basemap.Basemap.scatter] method.\n",
    "\n",
    "m.scatter(x,y)\n",
    "The basemap.scatter() method has similar parameters to the pyplot.scatter() [https://matplotlib.org/api/pyplot_api.html#matplotlib.pyplot.scatter]. For example, we can customize the size of each marker using the s parameter:\n",
    "\n",
    "# Large markers.\n",
    "m.scatter(x,y,s=10)\n",
    "# Smaller markers.\n",
    "m.scatter(x,y,s=5)\n",
    "After we've created the scatter plot, use plt.show() to display the plot. We'll dive more into customizing the plot in the next step but now, create a simple scatter plot.\n",
    "\n",
    "Instructions\n",
    "Create a scatter plot using the converted latitude and longitude values using a marker size of 1.\n",
    "Display the scatter plot."
   ]
  },
  {
   "cell_type": "code",
   "execution_count": null,
   "metadata": {
    "collapsed": true
   },
   "outputs": [],
   "source": [
    "m = Basemap(projection='merc', llcrnrlat=-80, urcrnrlat=80, llcrnrlon=-180, urcrnrlon=180)\n",
    "x, y = m(longitudes, latitudes)\n",
    "\n",
    "m.scatter(x,y, s=1)\n",
    "plt.show()"
   ]
  },
  {
   "cell_type": "raw",
   "metadata": {},
   "source": [
    "7. Customizing The Plot Using Basemap\n",
    "\n",
    "You'll notice that the outlines of the coasts for each continent are missing from the map above. We can display the coast lines using the basemap.drawcoastlines() method.\n",
    "\n",
    "Instructions\n",
    "Use basemap.drawcoastlines() to enable the coast lines to be displayed.\n",
    "Display the plot using plt.show()."
   ]
  },
  {
   "cell_type": "code",
   "execution_count": null,
   "metadata": {
    "collapsed": true
   },
   "outputs": [],
   "source": [
    "m = Basemap(projection='merc', llcrnrlat=-80, urcrnrlat=80, llcrnrlon=-180, urcrnrlon=180)\n",
    "longitudes = airports[\"longitude\"].tolist()\n",
    "latitudes = airports[\"latitude\"].tolist()\n",
    "x, y = m(longitudes, latitudes)\n",
    "m.scatter(x, y, s=1)\n",
    "m.drawcoastlines()\n",
    "plt.show()"
   ]
  },
  {
   "cell_type": "raw",
   "metadata": {},
   "source": [
    "8. Customizing The Plot Using Matplotlib\n",
    "\n",
    "Because basemap uses matplotlib under the hood, we can interact with the matplotlib classes that basemap uses directly to customize the appearance of the map.\n",
    "\n",
    "We can add code that:\n",
    "\n",
    "uses pyplot.subplots() to specify the figsize parameter\n",
    "returns the Figure and Axes object for a single subplot and assigns to fig and ax respectively\n",
    "use the Axes.set_title() method to set the map title\n",
    "\n",
    "Instructions\n",
    "Before creating the basemap instance and generating the scatter plot, add code that:\n",
    "creates a figure with a height of 15 inches and a width of 20 inches\n",
    "sets the title of the scatter plot to \"Scaled Up Earth With Coastlines\""
   ]
  },
  {
   "cell_type": "code",
   "execution_count": null,
   "metadata": {
    "collapsed": true
   },
   "outputs": [],
   "source": [
    "# Add code here, before creating the Basemap instance.\n",
    "m = Basemap(projection='merc', llcrnrlat=-80, urcrnrlat=80, llcrnrlon=-180, urcrnrlon=180)\n",
    "longitudes = airports[\"longitude\"].tolist()\n",
    "latitudes = airports[\"latitude\"].tolist()\n",
    "x, y = m(longitudes, latitudes)\n",
    "fig = plt.figure(figsize=(20,15))\n",
    "plt.title('Scaled Up Earth With Coastlines')\n",
    "m.scatter(x, y, s=1)\n",
    "m.drawcoastlines()\n",
    "plt.show()"
   ]
  },
  {
   "cell_type": "raw",
   "metadata": {},
   "source": [
    "9. Introduction to Great Circles\n",
    "\n",
    "To better understand the flight routes, we can draw great circles to connect starting and ending locations on a map. A great circle is the shortest circle connecting 2 points on a sphere.\n",
    "\n",
    "Great Circles\n",
    "\n",
    "On a two-dimensional map, the great circle is demonstrated as a line because it is projected from three-dimensional down to two-dimensional using the map projection. We can use these to visualize the flight routes from the routes dataframe. To plot great circles, we need the source longitude, source latitude, destination longitude, and the destination latitude for each route. While the routes dataframe contains the source and destination airports for each route, the latitude and longitude values for each airport are in a separate dataframe (airports).\n",
    "\n",
    "To make things easier, we've created a new CSV file called geo_routes.csv that contains the latitude and longitude values corresponding to the source and destination airports for each route. We've also removed some columns we won't be working with.\n",
    "\n",
    "Instructions\n",
    "Read geo_routes.csv into a dataframe named geo_routes.\n",
    "Use the DataFrame.info() method to look for columns containing any null values.\n",
    "Display the first five rows in geo_routes."
   ]
  },
  {
   "cell_type": "code",
   "execution_count": null,
   "metadata": {
    "collapsed": true
   },
   "outputs": [],
   "source": [
    "import pandas as pd\n",
    "\n",
    "geo_routes = pd.read_csv('geo_routes.csv')\n",
    "geo_routes.info()\n",
    "geo_routes.iloc[:5]"
   ]
  },
  {
   "cell_type": "raw",
   "metadata": {},
   "source": [
    "10. Displaying Great Circles\n",
    "\n",
    "We use the basemap.drawgreatcircle() [https://matplotlib.org/basemap/api/basemap_api.html#mpl_toolkits.basemap.Basemap.drawgreatcircle] method to display a great circle between 2 points. The basemap.drawgreatcircle() method requires four parameters in the following order:\n",
    "\n",
    "lon1 - longitude of the starting point.\n",
    "lat1 - latitude of the starting point.\n",
    "lon2 - longitude of the ending point.\n",
    "lat2 - latitude of the ending point.\n",
    "The following code generates a great circle for the first three routes in the dataframe:\n",
    "\n",
    "m.drawgreatcircler(39.956589, 43.449928, 49.278728, 55.606186)\n",
    "m.drawgreatcircle(48.006278, 46.283333, 49.278728, 55.606186)\n",
    "m.drawgreatcircle(39.956589, 43.449928, 43.081889 , 44.225072)\n",
    "Unfortunately, basemap struggles to create great circles for routes that have an absolute difference of larger than 180 degrees for either the latitude or longitude values. This is because the basemap.drawgreatcircle() method isn't able to create great circles properly when they go outside of the map boundaries. This is mentioned briefly in the documentation [https://matplotlib.org/basemap/api/basemap_api.html#mpl_toolkits.basemap.Basemap.drawgreatcircle] for the method:\n",
    "\n",
    "Note: Cannot handle situations in which the great circle intersects the edge of the map projection domain, and then re-enters the domain.\n"
   ]
  },
  {
   "cell_type": "code",
   "execution_count": null,
   "metadata": {
    "collapsed": true
   },
   "outputs": [],
   "source": [
    "fig, ax = plt.subplots(figsize=(15,20))\n",
    "m = Basemap(projection='merc', llcrnrlat=-80, urcrnrlat=80, llcrnrlon=-180, urcrnrlon=180)\n",
    "m.drawcoastlines()\n",
    "\n",
    "def create_great_circles(df):\n",
    "    for index, row in df.iterrows():\n",
    "        lon1 = row['start_lon']\n",
    "        lat1 = row['start_lat']\n",
    "        lon2 = row['end_lon']\n",
    "        lat2 = row['end_lat']\n",
    "        if abs(lat2 - lat1 < 180) & abs(lon2 - lon1 < 180):\n",
    "            m.drawgreatcircle(lon1, lat1, lon2, lat2) \n",
    "                                                     \n",
    "is_DFW = geo_routes['source'] == 'DFW'\n",
    "dfw = geo_routes[is_DFW]\n",
    "\n",
    "create_great_circles(dfw)\n",
    "plt.show()"
   ]
  },
  {
   "cell_type": "raw",
   "metadata": {},
   "source": [
    "In this mission, we learned how to visualize geographic data using basemap. This is the last mission in the Storytelling Through Data Visualization course. You should now have a solid foundation in data visualization for exploring data and communicating insights. We encourage you to keep exploring data visualization on your own. Here are some suggestions for what to do next:\n",
    "\n",
    "Plotting tools:\n",
    "Creating 3D plots using Plotly\n",
    "[https://plot.ly/python/3d-scatter-plots/]\n",
    "Creating interactive visualizations using bokeh\n",
    "[http://bokeh.pydata.org/en/latest/]\n",
    "Creating interactive map visualizations using folium\n",
    "[https://folium.readthedocs.io/en/latest/]\n",
    "\n",
    "The art and science of data visualization:\n",
    "Visual Display of Quantitative Information\n",
    "[https://www.amazon.com/Visual-Display-Quantitative-Information/dp/0961392142]\n",
    "Visual Explanations: Images and Quantities, Evidence and Narrative\n",
    "[https://www.amazon.com/Visual-Explanations-Quantities-Evidence-Narrative/dp/0961392126]"
   ]
  }
 ],
 "metadata": {
  "kernelspec": {
   "display_name": "Python 2",
   "language": "python",
   "name": "python2"
  },
  "language_info": {
   "codemirror_mode": {
    "name": "ipython",
    "version": 2
   },
   "file_extension": ".py",
   "mimetype": "text/x-python",
   "name": "python",
   "nbconvert_exporter": "python",
   "pygments_lexer": "ipython2",
   "version": "2.7.14"
  }
 },
 "nbformat": 4,
 "nbformat_minor": 2
}
