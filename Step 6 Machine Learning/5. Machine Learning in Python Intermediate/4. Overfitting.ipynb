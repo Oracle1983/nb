{
 "cells": [
  {
   "cell_type": "markdown",
   "metadata": {},
   "source": [
    "# Step 6 Machine Learning -  Overfitting"
   ]
  },
  {
   "cell_type": "raw",
   "metadata": {},
   "source": [
    "1. Introduction\n",
    "\n",
    "While exploring regression, we've briefly mentioned overfitting and the problems it can cause. In this mission, we'll explore how to identify overfitting and what you can do to avoid it. To explore overfitting, we'll use a dataset on cars which dataset contains 7 numerical features that could have an effect on a car's fuel efficiency:\n",
    "\n",
    "cylinders -- the number of cylinders in the engine.\n",
    "displacement -- the displacement of the engine.\n",
    "horsepower -- the horsepower of the engine.\n",
    "weight -- the weight of the car.\n",
    "acceleration -- the acceleration of the car.\n",
    "model year -- the year that car model was released (e.g. 70 corresponds to 1970).\n",
    "origin -- where the car was manufactured (0 if North America, 1 if Europe, 2 if Asia).\n",
    "The mpg column is our target column and is the one we want to predict using the other features.\n",
    "\n",
    "The dataset is hosted by the University of California Irvine on their machine learning repository [https://archive.ics.uci.edu/ml/datasets/Auto+MPG]. You'll notice that the Data Folder contains a few different files. We'll be working with auto-mpg.data [https://archive.ics.uci.edu/ml/machine-learning-databases/auto-mpg/auto-mpg.data], which omits the 8 rows containing missing values for fuel efficiency (mpg column).\n",
    "\n",
    "The starter code imports Pandas, reads the data into a Dataframe, and cleans up some messy values. Explore the dataset to become more familiar with it."
   ]
  },
  {
   "cell_type": "code",
   "execution_count": null,
   "metadata": {
    "collapsed": true
   },
   "outputs": [],
   "source": [
    "import pandas as pd\n",
    "columns = [\"mpg\", \"cylinders\", \"displacement\", \"horsepower\", \"weight\", \"acceleration\", \"model year\", \"origin\", \"car name\"]\n",
    "cars = pd.read_table(\"auto-mpg.data\", delim_whitespace=True, names=columns)\n",
    "filtered_cars = cars[cars['horsepower'] != '?']\n",
    "filtered_cars['horsepower'] = filtered_cars['horsepower'].astype('float')"
   ]
  },
  {
   "cell_type": "raw",
   "metadata": {},
   "source": [
    "2. Bias and Variance\n",
    "\n",
    "At the heart of understanding overfitting is understanding bias and variance. Bias and variance make up the 2 observable sources of error in a model that we can indirectly control.\n",
    "\n",
    "Bias describes error that results in bad assumptions about the learning algorithm. For example, assuming that only one feature, like a car's weight, relates to a car's fuel efficiency will lead you to fit a simple, univariate regression model that will result in high bias. The error rate will be high since a car's fuel efficiency is affected by many other factors besides just its weight.\n",
    "\n",
    "Variance describes error that occurs because of the variability of a model's predicted values. If we were given a dataset with 1000 features on each car and used every single feature to train an incredibly complicated multivariate regression model, we will have low bias but high variance.\n",
    "\n",
    "In an ideal world, we want low bias and low variance but in reality, there's always a tradeoff."
   ]
  },
  {
   "cell_type": "raw",
   "metadata": {},
   "source": [
    "3. Bias-variance tradeoff\n",
    "\n",
    "We've discussed before how overfitting generally happens when a model performs well on a training set but doesn't generalize well to new data. A key nuance here is that you should think of overfitting as a relative term. Between any 2 models, one will overfit more than the other one.\n",
    "\n",
    "Understanding the bias variance tradeoff [https://en.wikipedia.org/wiki/Bias–variance_tradeoff] is critical to understanding overfitting. Every process has some amount of inherent noise that's unobservable. Overfit models tend to capture the noise as well as the signal in a dataset.\n",
    "\n",
    "Scott Fortman Roe's blog post [http://scott.fortmann-roe.com/docs/BiasVariance.html] on the bias-variance tradeoff has a wonderful image that describes this tradeoff:\n",
    "\n",
    "Imgur\n",
    "http://i.imgur.com/2xqTu46.png\n",
    "\n",
    "We can approximate the bias of a model by training a few different models from the same class (linear regression in this case) using different features on the same dataset and calculating their error scores. For regression, we can use mean absolute error, mean squared error, or R-squared.\n",
    "\n",
    "We can calculate the variance of the predicted values for each model we train and we'll observe an increase in variance as we build more complex, multivariate models.\n",
    "\n",
    "While an extremely simple, univariate linear regression model will underfit, an extremely complicated, multivariate linear regression model will overfit. Depending on the problem you're working on, there's a happy middle ground that will help you construct reliable and useful predictive models.\n",
    "\n",
    "Let's first create a function that we can use for training the model and computing the bias and variance values and use it to train some simple, univariate models.\n",
    "\n",
    "Instructions\n",
    "Create a function named train_and_test that:\n",
    "Takes in a list of column names in filtered_cars as the sole parameter (cols),\n",
    "Trains a linear regression model using:\n",
    "The columns in cols as the features,\n",
    "The mpg column as the target variable.\n",
    "Uses the trained model to make predictions using the same input it was trained on,\n",
    "Computes the variance of the predicted values and the mean squared error between the predicted values and the actual label (mpg column).\n",
    "Returns the mean squared error value followed by the variance (e.g. return(mse, variance)).\n",
    "Use the train_and_test function to train a model using only the cylinders column. Assign the resulting mean squared error value and variance to cyl_mse and cyl_var.\n",
    "Use the train_and_test function to train a model using only the weight column. Assign the resulting mean squared error value and variance to weight_mse and weight_var."
   ]
  },
  {
   "cell_type": "code",
   "execution_count": null,
   "metadata": {
    "collapsed": true
   },
   "outputs": [],
   "source": [
    "from sklearn.linear_model import LinearRegression\n",
    "from sklearn.metrics import mean_squared_error\n",
    "import numpy as np\n",
    "import matplotlib.pyplot as plt"
   ]
  },
  {
   "cell_type": "raw",
   "metadata": {},
   "source": [
    "4. Multivariate models\n",
    "\n",
    "Now that we have a function for training a regression model and calculating the mean squared error and variance, let's use it to train and understand more complex models.\n",
    "\n",
    "Instructions\n",
    "Use the train_and_test function to train linear regression models using the following columns as the features:\n",
    "columns: cylinders, displacement.\n",
    "MSE: two_mse, variance: two_var.\n",
    "columns: cylinders, displacement, horsepower.\n",
    "MSE: three_mse, variance: three_var.\n",
    "columns: cylinders, displacement, horsepower, weight.\n",
    "MSE: four_mse, variance: four_var.\n",
    "columns: cylinders, displacement, horsepower, weight, acceleration.\n",
    "MSE: five_mse, variance: five_var.\n",
    "columns: cylinders, displacement, horsepower, weight, acceleration, model year\n",
    "MSE: six_mse, variance: six_var.\n",
    "columns: cylinders, displacement, horsepower, weight, acceleration, model year, origin\n",
    "MSE: seven_mse, variance: seven_var.\n",
    "Use print statements or the variable inspector to display each value."
   ]
  },
  {
   "cell_type": "code",
   "execution_count": null,
   "metadata": {
    "collapsed": true
   },
   "outputs": [],
   "source": [
    "# Our implementation for train_and_test, takes in a list of strings.\n",
    "def train_and_test(cols):\n",
    "    # Split into features & target.\n",
    "    features = filtered_cars[cols]\n",
    "    target = filtered_cars[\"mpg\"]\n",
    "    # Fit model.\n",
    "    lr = LinearRegression()\n",
    "    lr.fit(features, target)\n",
    "    # Make predictions on training set.\n",
    "    predictions = lr.predict(features)\n",
    "    # Compute MSE and Variance.\n",
    "    mse = mean_squared_error(filtered_cars[\"mpg\"], predictions)\n",
    "    variance = np.var(predictions)\n",
    "    return(mse, variance)\n",
    "\n",
    "one_mse, one_var = train_and_test([\"cylinders\"])"
   ]
  },
  {
   "cell_type": "raw",
   "metadata": {},
   "source": [
    "5. Cross validation\n",
    "\n",
    "The multivariate regression models you trained got progressively better at reducing the amount of error.\n",
    "\n",
    "A good way to detect if your model is overfitting is to compare the in-sample error and the out-of-sample error, or the training error with the test error. So far, we calculated the in sample error by testing the model over the same data it was trained on. To calculate the out-of-sample error, we need to test the data on a test set of data. We unfortunately don't have a separate test dataset and we'll instead use cross validation.\n",
    "\n",
    "If a model's cross validation error (out-of-sample error) is much higher than the in sample error, then your data science senses should start to tingle. This is the first line of defense against overfitting and is a clear indicator that the trained model doesn't generalize well outside of the training set.\n",
    "\n",
    "Let's create a new function to handle performing the cross validation and computing the cross validation error.\n",
    " \n",
    "Instructions\n",
    "Create a function named train_and_cross_val that:\n",
    "takes in a single parameter (list of column names),\n",
    "trains a linear regression model using the features specified in the parameter,\n",
    "uses the KFold class to perform 10-fold validation using a random seed of 3 (we use this seed to answer check your code),\n",
    "calculates the mean squared error across all folds and the mean variance across all folds.\n",
    "returns the mean squared error value then the variance using a multiple return statement (e.g. return(avg_mse, avg_var)).\n",
    "Use the train_and_cross_val function to train linear regression models using the following columns as the features:\n",
    "the cylinders and displacement columns. Assign the resulting mean squared error value to two_mse and the resulting variance value to two_var.\n",
    "the cylinders, displacement, and horsepower columns. Assign the resulting mean squared error value to three_mse and the resulting variance value to three_var.\n",
    "the cylinders, displacement, horsepower, and weight columns. Assign the resulting mean squared error value to four_mse and the resulting variance value to four_var.\n",
    "the cylinders, displacement, horsepower, weight, acceleration columns. Assign the resulting mean squared error value to five_mse and the resulting variance value to five_var.\n",
    "the cylinders, displacement, horsepower, weight, acceleration, and model year columns. Assign the resulting mean squared error value to six_mse and the resulting variance value to six_var.\n",
    "the cylinders, displacement, horsepower, weight, acceleration, model year, and origin columns. Assign the resulting mean squared error value to seven_mse and the resulting variance value to seven_var.\n",
    "Use the variable display to inspect each value."
   ]
  },
  {
   "cell_type": "code",
   "execution_count": null,
   "metadata": {
    "collapsed": true
   },
   "outputs": [],
   "source": [
    "from sklearn.cross_validation import KFold\n",
    "from sklearn.metrics import mean_squared_error\n",
    "import numpy as np"
   ]
  },
  {
   "cell_type": "raw",
   "metadata": {},
   "source": [
    "6. Plotting cross-validation error vs. cross-validation variance\n",
    "\n",
    "During cross validation, the more features we added to the model, the lower the mean squared error got. This is a good sign and indicates that the model generalizes well to new data it wasn't trained on. As the mean squared error value went down, however, the variance of the predictions went up. This is to be expected, since the models with lower squared error values had higher model complexity, which tends to be more sensitive to small variations in input values (or high variance).\n",
    "\n",
    "For each model, let's plot the error and variance to get a better idea of the tradeoff as the number of features increased.\n",
    "\n",
    "Instructions\n",
    "On the same Axes instance:\n",
    "Generate a scatter plot with the model's number of features on the x-axis and the model's overall, cross-validation mean squared error on the y-axis. Use red for the scatter dot color.\n",
    "Generate a scatter plot with the model's number of features on the x-axis and the model's overall, cross-validation variance on the y-axis. Use blue for the scatter dot color.\n",
    "Use plt.show() to display the scatter plot."
   ]
  },
  {
   "cell_type": "code",
   "execution_count": null,
   "metadata": {
    "collapsed": true
   },
   "outputs": [],
   "source": [
    "# We've hidden the `train_and_cross_val` function to save space but you can still call the function!\n",
    "import matplotlib.pyplot as plt\n",
    "        \n",
    "two_mse, two_var = train_and_cross_val([\"cylinders\", \"displacement\"])\n",
    "three_mse, three_var = train_and_cross_val([\"cylinders\", \"displacement\", \"horsepower\"])\n",
    "four_mse, four_var = train_and_cross_val([\"cylinders\", \"displacement\", \"horsepower\", \"weight\"])\n",
    "five_mse, five_var = train_and_cross_val([\"cylinders\", \"displacement\", \"horsepower\", \"weight\", \"acceleration\"])\n",
    "six_mse, six_var = train_and_cross_val([\"cylinders\", \"displacement\", \"horsepower\", \"weight\", \"acceleration\", \"model year\"])\n",
    "seven_mse, seven_var = train_and_cross_val([\"cylinders\", \"displacement\", \"horsepower\", \"weight\", \"acceleration\",\"model year\", \"origin\"])"
   ]
  },
  {
   "cell_type": "raw",
   "metadata": {
    "collapsed": true
   },
   "source": [
    "7. Conclusion\n",
    "\n",
    "While the higher order multivariate models overfit in relation to the lower order multivariate models, the in-sample error and out-of-sample didn't deviate by much. The best model was around 50% more accurate than the simplest model. On the other hand, the overall variance increased around 25% as we increased the model complexity. This is a really good starting point, but your work is not done! The increased variance with the increased model complexity means that your model will have more unpredictable performance on truly new, unseen data.\n",
    "\n",
    "If you were working on this problem on a data science team, you'd need to confirm the predictive accuracy of the model using completely new, unobserved data (e.g. maybe from cars from later years). Since often you can't wait until a model is deployed in the wild to know how well it works, the exploration we did in this mission helps you approximate a model's real world performance."
   ]
  }
 ],
 "metadata": {
  "kernelspec": {
   "display_name": "Python 2",
   "language": "python",
   "name": "python2"
  },
  "language_info": {
   "codemirror_mode": {
    "name": "ipython",
    "version": 2
   },
   "file_extension": ".py",
   "mimetype": "text/x-python",
   "name": "python",
   "nbconvert_exporter": "python",
   "pygments_lexer": "ipython2",
   "version": "2.7.14"
  }
 },
 "nbformat": 4,
 "nbformat_minor": 2
}
