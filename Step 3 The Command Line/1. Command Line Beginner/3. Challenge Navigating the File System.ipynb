{
 "cells": [
  {
   "cell_type": "markdown",
   "metadata": {},
   "source": [
    "# Step 3 The Command Line - Challenge Navigating the FIle System"
   ]
  },
  {
   "cell_type": "raw",
   "metadata": {},
   "source": [
    "1. Introduction\n",
    "\n",
    "In this challenge, you'll practice the basics of using the command line by working with files in the filesystem. Working in a command line environment is often faster than using a GUI or writing a Python program to accomplish a specific task. In this challenge, you'll be interacting with a directory of data sets used in other Dataquest missions.\n",
    "\n",
    "Let's start things off by becoming familiar with the file system.\n",
    "\n",
    "Instructions\n",
    "Display the current directory.\n",
    "Display a list of files in the current directory, along with each file's metadata. Use the appropriate flag to display the file permissions, file size, etc."
   ]
  },
  {
   "cell_type": "raw",
   "metadata": {},
   "source": [
    "2. Moving Problematic Files to a Separate Folder\n",
    "\n",
    "There are five data sets in your home directory. While all of them are actually CSV files that should have the .csv file extension, three of them have issues with their file extensions. Let's move the problematic files into their own directory.\n",
    "\n",
    "Instructions\n",
    "Move all of the files that don't have .csv as the file extension to a new folder called problematic."
   ]
  },
  {
   "cell_type": "raw",
   "metadata": {},
   "source": [
    "3. Fixing File Extensions\n",
    "\n",
    "Now that you've quarantined the files with problematic extensions in their own folder, let's fix those extensions.\n",
    "\n",
    "Instructions\n",
    "Change all of the extensions for the files in the problematic folder to .csv.\n",
    "Display the files in problematic to confirm."
   ]
  },
  {
   "cell_type": "raw",
   "metadata": {},
   "source": [
    "4. Consolidating Files\n",
    "\n",
    "Now that you've fixed the files with problematic extensions, consolidate all of the CSV files in one folder.\n",
    "\n",
    "Instructions\n",
    "Move the remaining files into the problematic folder.\n",
    "Rename the problematic folder to csv_datasets."
   ]
  },
  {
   "cell_type": "raw",
   "metadata": {},
   "source": [
    "5. Restricting Permissions\n",
    "\n",
    "Now let's change the permissions for these files so nobody else can mess up the file extensions!\n",
    "\n",
    "Instructions\n",
    "Change the file permissions for all of the CSV files in the csv_datasets folder to:\n",
    "Owner - Read, write, and execute\n",
    "Group - Read\n",
    "Everyone - No permissions\n",
    "Display the list of files in the csv_datasets directory to confirm the permissions."
   ]
  }
 ],
 "metadata": {
  "kernelspec": {
   "display_name": "Python 2",
   "language": "python",
   "name": "python2"
  },
  "language_info": {
   "codemirror_mode": {
    "name": "ipython",
    "version": 2
   },
   "file_extension": ".py",
   "mimetype": "text/x-python",
   "name": "python",
   "nbconvert_exporter": "python",
   "pygments_lexer": "ipython2",
   "version": "2.7.14"
  }
 },
 "nbformat": 4,
 "nbformat_minor": 2
}
